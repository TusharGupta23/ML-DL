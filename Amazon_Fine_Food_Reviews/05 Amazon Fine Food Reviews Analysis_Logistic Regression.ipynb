{
 "cells": [
  {
   "cell_type": "markdown",
   "metadata": {
    "colab_type": "text",
    "id": "AM7jsfwALPlp"
   },
   "source": [
    "# Amazon Fine Food Reviews Analysis\n",
    "\n",
    "\n",
    "Data Source: https://www.kaggle.com/snap/amazon-fine-food-reviews <br>\n",
    "\n",
    "EDA: https://nycdatascience.com/blog/student-works/amazon-fine-foods-visualization/\n",
    "\n",
    "\n",
    "The Amazon Fine Food Reviews dataset consists of reviews of fine foods from Amazon.<br>\n",
    "\n",
    "Number of reviews: 568,454<br>\n",
    "Number of users: 256,059<br>\n",
    "Number of products: 74,258<br>\n",
    "Timespan: Oct 1999 - Oct 2012<br>\n",
    "Number of Attributes/Columns in data: 10 \n",
    "\n",
    "Attribute Information:\n",
    "\n",
    "1. Id\n",
    "2. ProductId - unique identifier for the product\n",
    "3. UserId - unqiue identifier for the user\n",
    "4. ProfileName\n",
    "5. HelpfulnessNumerator - number of users who found the review helpful\n",
    "6. HelpfulnessDenominator - number of users who indicated whether they found the review helpful or not\n",
    "7. Score - rating between 1 and 5\n",
    "8. Time - timestamp for the review\n",
    "9. Summary - brief summary of the review\n",
    "10. Text - text of the review\n",
    "\n",
    "\n",
    "#### Objective:\n",
    "Given a review, determine whether the review is positive (rating of 4 or 5) or negative (rating of 1 or 2).\n",
    "\n",
    "<br>\n",
    "[Q] How to determine if a review is positive or negative?<br>\n",
    "<br> \n",
    "[Ans] We could use Score/Rating. A rating of 4 or 5 can be cosnidered as a positive review. A rating of 1 or 2 can be considered as negative one. A review of rating 3 is considered nuetral and such reviews are ignored from our analysis. This is an approximate and proxy way of determining the polarity (positivity/negativity) of a review.\n",
    "\n",
    "\n"
   ]
  },
  {
   "cell_type": "markdown",
   "metadata": {
    "colab_type": "text",
    "id": "CaQ7XJ4OLPls"
   },
   "source": [
    "# [1]. Reading Data"
   ]
  },
  {
   "cell_type": "markdown",
   "metadata": {
    "colab_type": "text",
    "id": "5VnEBjKRLPlu"
   },
   "source": [
    "## [1.1] Loading the data\n",
    "\n",
    "The dataset is available in two forms\n",
    "1. .csv file\n",
    "2. SQLite Database\n",
    "\n",
    "In order to load the data, We have used the SQLITE dataset as it is easier to query the data and visualise the data efficiently.\n",
    "<br> \n",
    "\n",
    "Here as we only want to get the global sentiment of the recommendations (positive or negative), we will purposefully ignore all Scores equal to 3. If the score is above 3, then the recommendation wil be set to \"positive\". Otherwise, it will be set to \"negative\"."
   ]
  },
  {
   "cell_type": "code",
   "execution_count": 1,
   "metadata": {
    "colab": {},
    "colab_type": "code",
    "id": "x6YclOzXLPlv"
   },
   "outputs": [],
   "source": [
    "%matplotlib inline\n",
    "import warnings\n",
    "warnings.filterwarnings(\"ignore\")\n",
    "\n",
    "\n",
    "import sqlite3\n",
    "import pandas as pd\n",
    "import numpy as np\n",
    "import nltk\n",
    "import string\n",
    "import matplotlib.pyplot as plt\n",
    "import seaborn as sns\n",
    "from sklearn.feature_extraction.text import TfidfTransformer\n",
    "from sklearn.feature_extraction.text import TfidfVectorizer\n",
    "\n",
    "from sklearn.feature_extraction.text import CountVectorizer\n",
    "from sklearn.metrics import confusion_matrix\n",
    "from sklearn import metrics\n",
    "from sklearn.metrics import roc_curve, auc\n",
    "from nltk.stem.porter import PorterStemmer\n",
    "\n",
    "import re\n",
    "# Tutorial about Python regular expressions: https://pymotw.com/2/re/\n",
    "import string\n",
    "from nltk.corpus import stopwords\n",
    "from nltk.stem import PorterStemmer\n",
    "from nltk.stem.wordnet import WordNetLemmatizer\n",
    "\n",
    "from gensim.models import Word2Vec\n",
    "from gensim.models import KeyedVectors\n",
    "import pickle\n",
    "from sklearn.metrics import roc_curve, auc\n",
    "from tqdm import tqdm\n",
    "import os\n",
    "import scipy\n",
    "from sklearn.metrics import roc_auc_score\n",
    "from sklearn.model_selection import GridSearchCV\n",
    "from sklearn.linear_model import LogisticRegression"
   ]
  },
  {
   "cell_type": "code",
   "execution_count": 2,
   "metadata": {
    "colab": {},
    "colab_type": "code",
    "id": "NZ4OSpSiLPl0",
    "outputId": "241c4c64-6186-4351-e38f-fcd06c6896dd"
   },
   "outputs": [
    {
     "name": "stdout",
     "output_type": "stream",
     "text": [
      "Number of data points in our data (500000, 10)\n"
     ]
    },
    {
     "data": {
      "text/html": [
       "<div>\n",
       "<style scoped>\n",
       "    .dataframe tbody tr th:only-of-type {\n",
       "        vertical-align: middle;\n",
       "    }\n",
       "\n",
       "    .dataframe tbody tr th {\n",
       "        vertical-align: top;\n",
       "    }\n",
       "\n",
       "    .dataframe thead th {\n",
       "        text-align: right;\n",
       "    }\n",
       "</style>\n",
       "<table border=\"1\" class=\"dataframe\">\n",
       "  <thead>\n",
       "    <tr style=\"text-align: right;\">\n",
       "      <th></th>\n",
       "      <th>Id</th>\n",
       "      <th>ProductId</th>\n",
       "      <th>UserId</th>\n",
       "      <th>ProfileName</th>\n",
       "      <th>HelpfulnessNumerator</th>\n",
       "      <th>HelpfulnessDenominator</th>\n",
       "      <th>Score</th>\n",
       "      <th>Time</th>\n",
       "      <th>Summary</th>\n",
       "      <th>Text</th>\n",
       "    </tr>\n",
       "  </thead>\n",
       "  <tbody>\n",
       "    <tr>\n",
       "      <th>0</th>\n",
       "      <td>1</td>\n",
       "      <td>B001E4KFG0</td>\n",
       "      <td>A3SGXH7AUHU8GW</td>\n",
       "      <td>delmartian</td>\n",
       "      <td>1</td>\n",
       "      <td>1</td>\n",
       "      <td>1</td>\n",
       "      <td>1303862400</td>\n",
       "      <td>Good Quality Dog Food</td>\n",
       "      <td>I have bought several of the Vitality canned d...</td>\n",
       "    </tr>\n",
       "    <tr>\n",
       "      <th>1</th>\n",
       "      <td>2</td>\n",
       "      <td>B00813GRG4</td>\n",
       "      <td>A1D87F6ZCVE5NK</td>\n",
       "      <td>dll pa</td>\n",
       "      <td>0</td>\n",
       "      <td>0</td>\n",
       "      <td>0</td>\n",
       "      <td>1346976000</td>\n",
       "      <td>Not as Advertised</td>\n",
       "      <td>Product arrived labeled as Jumbo Salted Peanut...</td>\n",
       "    </tr>\n",
       "    <tr>\n",
       "      <th>2</th>\n",
       "      <td>3</td>\n",
       "      <td>B000LQOCH0</td>\n",
       "      <td>ABXLMWJIXXAIN</td>\n",
       "      <td>Natalia Corres \"Natalia Corres\"</td>\n",
       "      <td>1</td>\n",
       "      <td>1</td>\n",
       "      <td>1</td>\n",
       "      <td>1219017600</td>\n",
       "      <td>\"Delight\" says it all</td>\n",
       "      <td>This is a confection that has been around a fe...</td>\n",
       "    </tr>\n",
       "  </tbody>\n",
       "</table>\n",
       "</div>"
      ],
      "text/plain": [
       "   Id   ProductId          UserId                      ProfileName  \\\n",
       "0   1  B001E4KFG0  A3SGXH7AUHU8GW                       delmartian   \n",
       "1   2  B00813GRG4  A1D87F6ZCVE5NK                           dll pa   \n",
       "2   3  B000LQOCH0   ABXLMWJIXXAIN  Natalia Corres \"Natalia Corres\"   \n",
       "\n",
       "   HelpfulnessNumerator  HelpfulnessDenominator  Score        Time  \\\n",
       "0                     1                       1      1  1303862400   \n",
       "1                     0                       0      0  1346976000   \n",
       "2                     1                       1      1  1219017600   \n",
       "\n",
       "                 Summary                                               Text  \n",
       "0  Good Quality Dog Food  I have bought several of the Vitality canned d...  \n",
       "1      Not as Advertised  Product arrived labeled as Jumbo Salted Peanut...  \n",
       "2  \"Delight\" says it all  This is a confection that has been around a fe...  "
      ]
     },
     "execution_count": 2,
     "metadata": {},
     "output_type": "execute_result"
    }
   ],
   "source": [
    "# using SQLite Table to read data.\n",
    "con = sqlite3.connect('D:\\\\downloadfolder\\\\database.sqlite') \n",
    "\n",
    "# filtering only positive and negative reviews i.e. \n",
    "# not taking into consideration those reviews with Score=3\n",
    "# SELECT * FROM Reviews WHERE Score != 3 LIMIT 500000, will give top 500000 data points\n",
    "# you can change the number to any other number based on your computing power\n",
    "\n",
    "# filtered_data = pd.read_sql_query(\"\"\" SELECT * FROM Reviews WHERE Score != 3 LIMIT 500000\"\"\", con) \n",
    "# for tsne assignment you can take 5k data points\n",
    "\n",
    "filtered_data = pd.read_sql_query(\"\"\" SELECT * FROM Reviews WHERE Score != 3 LIMIT 500000\"\"\", con) \n",
    "\n",
    "# Give reviews with Score>3 a positive rating(1), and reviews with a score<3 a negative rating(0).\n",
    "def partition(x):\n",
    "    if x < 3:\n",
    "        return 0\n",
    "    return 1\n",
    "\n",
    "#changing reviews with score less than 3 to be positive and vice-versa\n",
    "actualScore = filtered_data['Score']\n",
    "positiveNegative = actualScore.map(partition) \n",
    "filtered_data['Score'] = positiveNegative\n",
    "print(\"Number of data points in our data\", filtered_data.shape)\n",
    "filtered_data.head(3)"
   ]
  },
  {
   "cell_type": "code",
   "execution_count": 3,
   "metadata": {
    "colab": {},
    "colab_type": "code",
    "id": "r44Y4VDjLPl7"
   },
   "outputs": [],
   "source": [
    "display = pd.read_sql_query(\"\"\"\n",
    "SELECT UserId, ProductId, ProfileName, Time, Score, Text, COUNT(*)\n",
    "FROM Reviews\n",
    "GROUP BY UserId\n",
    "HAVING COUNT(*)>1\n",
    "\"\"\", con)"
   ]
  },
  {
   "cell_type": "code",
   "execution_count": 4,
   "metadata": {
    "colab": {},
    "colab_type": "code",
    "id": "tTwINQv1LPl_",
    "outputId": "0385b9ca-0a35-4c2b-b656-8e8494414e6f",
    "scrolled": true
   },
   "outputs": [
    {
     "name": "stdout",
     "output_type": "stream",
     "text": [
      "(80668, 7)\n"
     ]
    },
    {
     "data": {
      "text/html": [
       "<div>\n",
       "<style scoped>\n",
       "    .dataframe tbody tr th:only-of-type {\n",
       "        vertical-align: middle;\n",
       "    }\n",
       "\n",
       "    .dataframe tbody tr th {\n",
       "        vertical-align: top;\n",
       "    }\n",
       "\n",
       "    .dataframe thead th {\n",
       "        text-align: right;\n",
       "    }\n",
       "</style>\n",
       "<table border=\"1\" class=\"dataframe\">\n",
       "  <thead>\n",
       "    <tr style=\"text-align: right;\">\n",
       "      <th></th>\n",
       "      <th>UserId</th>\n",
       "      <th>ProductId</th>\n",
       "      <th>ProfileName</th>\n",
       "      <th>Time</th>\n",
       "      <th>Score</th>\n",
       "      <th>Text</th>\n",
       "      <th>COUNT(*)</th>\n",
       "    </tr>\n",
       "  </thead>\n",
       "  <tbody>\n",
       "    <tr>\n",
       "      <th>0</th>\n",
       "      <td>#oc-R115TNMSPFT9I7</td>\n",
       "      <td>B007Y59HVM</td>\n",
       "      <td>Breyton</td>\n",
       "      <td>1331510400</td>\n",
       "      <td>2</td>\n",
       "      <td>Overall its just OK when considering the price...</td>\n",
       "      <td>2</td>\n",
       "    </tr>\n",
       "    <tr>\n",
       "      <th>1</th>\n",
       "      <td>#oc-R11D9D7SHXIJB9</td>\n",
       "      <td>B005HG9ET0</td>\n",
       "      <td>Louis E. Emory \"hoppy\"</td>\n",
       "      <td>1342396800</td>\n",
       "      <td>5</td>\n",
       "      <td>My wife has recurring extreme muscle spasms, u...</td>\n",
       "      <td>3</td>\n",
       "    </tr>\n",
       "    <tr>\n",
       "      <th>2</th>\n",
       "      <td>#oc-R11DNU2NBKQ23Z</td>\n",
       "      <td>B007Y59HVM</td>\n",
       "      <td>Kim Cieszykowski</td>\n",
       "      <td>1348531200</td>\n",
       "      <td>1</td>\n",
       "      <td>This coffee is horrible and unfortunately not ...</td>\n",
       "      <td>2</td>\n",
       "    </tr>\n",
       "    <tr>\n",
       "      <th>3</th>\n",
       "      <td>#oc-R11O5J5ZVQE25C</td>\n",
       "      <td>B005HG9ET0</td>\n",
       "      <td>Penguin Chick</td>\n",
       "      <td>1346889600</td>\n",
       "      <td>5</td>\n",
       "      <td>This will be the bottle that you grab from the...</td>\n",
       "      <td>3</td>\n",
       "    </tr>\n",
       "    <tr>\n",
       "      <th>4</th>\n",
       "      <td>#oc-R12KPBODL2B5ZD</td>\n",
       "      <td>B007OSBE1U</td>\n",
       "      <td>Christopher P. Presta</td>\n",
       "      <td>1348617600</td>\n",
       "      <td>1</td>\n",
       "      <td>I didnt like this coffee. Instead of telling y...</td>\n",
       "      <td>2</td>\n",
       "    </tr>\n",
       "  </tbody>\n",
       "</table>\n",
       "</div>"
      ],
      "text/plain": [
       "               UserId   ProductId             ProfileName        Time  Score  \\\n",
       "0  #oc-R115TNMSPFT9I7  B007Y59HVM                 Breyton  1331510400      2   \n",
       "1  #oc-R11D9D7SHXIJB9  B005HG9ET0  Louis E. Emory \"hoppy\"  1342396800      5   \n",
       "2  #oc-R11DNU2NBKQ23Z  B007Y59HVM        Kim Cieszykowski  1348531200      1   \n",
       "3  #oc-R11O5J5ZVQE25C  B005HG9ET0           Penguin Chick  1346889600      5   \n",
       "4  #oc-R12KPBODL2B5ZD  B007OSBE1U   Christopher P. Presta  1348617600      1   \n",
       "\n",
       "                                                Text  COUNT(*)  \n",
       "0  Overall its just OK when considering the price...         2  \n",
       "1  My wife has recurring extreme muscle spasms, u...         3  \n",
       "2  This coffee is horrible and unfortunately not ...         2  \n",
       "3  This will be the bottle that you grab from the...         3  \n",
       "4  I didnt like this coffee. Instead of telling y...         2  "
      ]
     },
     "execution_count": 4,
     "metadata": {},
     "output_type": "execute_result"
    }
   ],
   "source": [
    "print(display.shape)\n",
    "display.head()"
   ]
  },
  {
   "cell_type": "code",
   "execution_count": 5,
   "metadata": {
    "colab": {},
    "colab_type": "code",
    "id": "EOslHQgnLPmF",
    "outputId": "cb28598d-470a-42bb-e742-4763f953c8cb"
   },
   "outputs": [
    {
     "data": {
      "text/html": [
       "<div>\n",
       "<style scoped>\n",
       "    .dataframe tbody tr th:only-of-type {\n",
       "        vertical-align: middle;\n",
       "    }\n",
       "\n",
       "    .dataframe tbody tr th {\n",
       "        vertical-align: top;\n",
       "    }\n",
       "\n",
       "    .dataframe thead th {\n",
       "        text-align: right;\n",
       "    }\n",
       "</style>\n",
       "<table border=\"1\" class=\"dataframe\">\n",
       "  <thead>\n",
       "    <tr style=\"text-align: right;\">\n",
       "      <th></th>\n",
       "      <th>UserId</th>\n",
       "      <th>ProductId</th>\n",
       "      <th>ProfileName</th>\n",
       "      <th>Time</th>\n",
       "      <th>Score</th>\n",
       "      <th>Text</th>\n",
       "      <th>COUNT(*)</th>\n",
       "    </tr>\n",
       "  </thead>\n",
       "  <tbody>\n",
       "    <tr>\n",
       "      <th>80638</th>\n",
       "      <td>AZY10LLTJ71NX</td>\n",
       "      <td>B006P7E5ZI</td>\n",
       "      <td>undertheshrine \"undertheshrine\"</td>\n",
       "      <td>1334707200</td>\n",
       "      <td>5</td>\n",
       "      <td>I was recommended to try green tea extract to ...</td>\n",
       "      <td>5</td>\n",
       "    </tr>\n",
       "  </tbody>\n",
       "</table>\n",
       "</div>"
      ],
      "text/plain": [
       "              UserId   ProductId                      ProfileName        Time  \\\n",
       "80638  AZY10LLTJ71NX  B006P7E5ZI  undertheshrine \"undertheshrine\"  1334707200   \n",
       "\n",
       "       Score                                               Text  COUNT(*)  \n",
       "80638      5  I was recommended to try green tea extract to ...         5  "
      ]
     },
     "execution_count": 5,
     "metadata": {},
     "output_type": "execute_result"
    }
   ],
   "source": [
    "display[display['UserId']=='AZY10LLTJ71NX']"
   ]
  },
  {
   "cell_type": "code",
   "execution_count": 6,
   "metadata": {
    "colab": {},
    "colab_type": "code",
    "id": "pSwF4sdoLPmM",
    "outputId": "2f3bd7f2-0eea-45f7-eab6-bf08c630d9a3"
   },
   "outputs": [
    {
     "data": {
      "text/plain": [
       "393063"
      ]
     },
     "execution_count": 6,
     "metadata": {},
     "output_type": "execute_result"
    }
   ],
   "source": [
    "display['COUNT(*)'].sum()"
   ]
  },
  {
   "cell_type": "markdown",
   "metadata": {
    "colab_type": "text",
    "id": "PuNkhjz0LPmQ"
   },
   "source": [
    "#  [2] Exploratory Data Analysis"
   ]
  },
  {
   "cell_type": "markdown",
   "metadata": {
    "colab_type": "text",
    "id": "oCJaTWrTLPmS"
   },
   "source": [
    "## [2.1] Data Cleaning: Deduplication\n",
    "\n",
    "It is observed (as shown in the table below) that the reviews data had many duplicate entries. Hence it was necessary to remove duplicates in order to get unbiased results for the analysis of the data.  Following is an example:"
   ]
  },
  {
   "cell_type": "code",
   "execution_count": 7,
   "metadata": {
    "colab": {},
    "colab_type": "code",
    "id": "3lvzRwWVLPmT",
    "outputId": "96ba6f90-6c40-4972-ecd2-d2d208e48877",
    "scrolled": false
   },
   "outputs": [
    {
     "data": {
      "text/html": [
       "<div>\n",
       "<style scoped>\n",
       "    .dataframe tbody tr th:only-of-type {\n",
       "        vertical-align: middle;\n",
       "    }\n",
       "\n",
       "    .dataframe tbody tr th {\n",
       "        vertical-align: top;\n",
       "    }\n",
       "\n",
       "    .dataframe thead th {\n",
       "        text-align: right;\n",
       "    }\n",
       "</style>\n",
       "<table border=\"1\" class=\"dataframe\">\n",
       "  <thead>\n",
       "    <tr style=\"text-align: right;\">\n",
       "      <th></th>\n",
       "      <th>Id</th>\n",
       "      <th>ProductId</th>\n",
       "      <th>UserId</th>\n",
       "      <th>ProfileName</th>\n",
       "      <th>HelpfulnessNumerator</th>\n",
       "      <th>HelpfulnessDenominator</th>\n",
       "      <th>Score</th>\n",
       "      <th>Time</th>\n",
       "      <th>Summary</th>\n",
       "      <th>Text</th>\n",
       "    </tr>\n",
       "  </thead>\n",
       "  <tbody>\n",
       "    <tr>\n",
       "      <th>0</th>\n",
       "      <td>78445</td>\n",
       "      <td>B000HDL1RQ</td>\n",
       "      <td>AR5J8UI46CURR</td>\n",
       "      <td>Geetha Krishnan</td>\n",
       "      <td>2</td>\n",
       "      <td>2</td>\n",
       "      <td>5</td>\n",
       "      <td>1199577600</td>\n",
       "      <td>LOACKER QUADRATINI VANILLA WAFERS</td>\n",
       "      <td>DELICIOUS WAFERS. I FIND THAT EUROPEAN WAFERS ...</td>\n",
       "    </tr>\n",
       "    <tr>\n",
       "      <th>1</th>\n",
       "      <td>138317</td>\n",
       "      <td>B000HDOPYC</td>\n",
       "      <td>AR5J8UI46CURR</td>\n",
       "      <td>Geetha Krishnan</td>\n",
       "      <td>2</td>\n",
       "      <td>2</td>\n",
       "      <td>5</td>\n",
       "      <td>1199577600</td>\n",
       "      <td>LOACKER QUADRATINI VANILLA WAFERS</td>\n",
       "      <td>DELICIOUS WAFERS. I FIND THAT EUROPEAN WAFERS ...</td>\n",
       "    </tr>\n",
       "    <tr>\n",
       "      <th>2</th>\n",
       "      <td>138277</td>\n",
       "      <td>B000HDOPYM</td>\n",
       "      <td>AR5J8UI46CURR</td>\n",
       "      <td>Geetha Krishnan</td>\n",
       "      <td>2</td>\n",
       "      <td>2</td>\n",
       "      <td>5</td>\n",
       "      <td>1199577600</td>\n",
       "      <td>LOACKER QUADRATINI VANILLA WAFERS</td>\n",
       "      <td>DELICIOUS WAFERS. I FIND THAT EUROPEAN WAFERS ...</td>\n",
       "    </tr>\n",
       "    <tr>\n",
       "      <th>3</th>\n",
       "      <td>73791</td>\n",
       "      <td>B000HDOPZG</td>\n",
       "      <td>AR5J8UI46CURR</td>\n",
       "      <td>Geetha Krishnan</td>\n",
       "      <td>2</td>\n",
       "      <td>2</td>\n",
       "      <td>5</td>\n",
       "      <td>1199577600</td>\n",
       "      <td>LOACKER QUADRATINI VANILLA WAFERS</td>\n",
       "      <td>DELICIOUS WAFERS. I FIND THAT EUROPEAN WAFERS ...</td>\n",
       "    </tr>\n",
       "    <tr>\n",
       "      <th>4</th>\n",
       "      <td>155049</td>\n",
       "      <td>B000PAQ75C</td>\n",
       "      <td>AR5J8UI46CURR</td>\n",
       "      <td>Geetha Krishnan</td>\n",
       "      <td>2</td>\n",
       "      <td>2</td>\n",
       "      <td>5</td>\n",
       "      <td>1199577600</td>\n",
       "      <td>LOACKER QUADRATINI VANILLA WAFERS</td>\n",
       "      <td>DELICIOUS WAFERS. I FIND THAT EUROPEAN WAFERS ...</td>\n",
       "    </tr>\n",
       "  </tbody>\n",
       "</table>\n",
       "</div>"
      ],
      "text/plain": [
       "       Id   ProductId         UserId      ProfileName  HelpfulnessNumerator  \\\n",
       "0   78445  B000HDL1RQ  AR5J8UI46CURR  Geetha Krishnan                     2   \n",
       "1  138317  B000HDOPYC  AR5J8UI46CURR  Geetha Krishnan                     2   \n",
       "2  138277  B000HDOPYM  AR5J8UI46CURR  Geetha Krishnan                     2   \n",
       "3   73791  B000HDOPZG  AR5J8UI46CURR  Geetha Krishnan                     2   \n",
       "4  155049  B000PAQ75C  AR5J8UI46CURR  Geetha Krishnan                     2   \n",
       "\n",
       "   HelpfulnessDenominator  Score        Time  \\\n",
       "0                       2      5  1199577600   \n",
       "1                       2      5  1199577600   \n",
       "2                       2      5  1199577600   \n",
       "3                       2      5  1199577600   \n",
       "4                       2      5  1199577600   \n",
       "\n",
       "                             Summary  \\\n",
       "0  LOACKER QUADRATINI VANILLA WAFERS   \n",
       "1  LOACKER QUADRATINI VANILLA WAFERS   \n",
       "2  LOACKER QUADRATINI VANILLA WAFERS   \n",
       "3  LOACKER QUADRATINI VANILLA WAFERS   \n",
       "4  LOACKER QUADRATINI VANILLA WAFERS   \n",
       "\n",
       "                                                Text  \n",
       "0  DELICIOUS WAFERS. I FIND THAT EUROPEAN WAFERS ...  \n",
       "1  DELICIOUS WAFERS. I FIND THAT EUROPEAN WAFERS ...  \n",
       "2  DELICIOUS WAFERS. I FIND THAT EUROPEAN WAFERS ...  \n",
       "3  DELICIOUS WAFERS. I FIND THAT EUROPEAN WAFERS ...  \n",
       "4  DELICIOUS WAFERS. I FIND THAT EUROPEAN WAFERS ...  "
      ]
     },
     "execution_count": 7,
     "metadata": {},
     "output_type": "execute_result"
    }
   ],
   "source": [
    "display= pd.read_sql_query(\"\"\"\n",
    "SELECT *\n",
    "FROM Reviews\n",
    "WHERE Score != 3 AND UserId=\"AR5J8UI46CURR\"\n",
    "ORDER BY ProductID\n",
    "\"\"\", con)\n",
    "display.head()"
   ]
  },
  {
   "cell_type": "markdown",
   "metadata": {
    "colab_type": "text",
    "id": "uT7p9_deLPmb"
   },
   "source": [
    "As it can be seen above that same user has multiple reviews with same values for HelpfulnessNumerator, HelpfulnessDenominator, Score, Time, Summary and Text and on doing analysis it was found that <br>\n",
    "<br> \n",
    "ProductId=B000HDOPZG was Loacker Quadratini Vanilla Wafer Cookies, 8.82-Ounce Packages (Pack of 8)<br>\n",
    "<br> \n",
    "ProductId=B000HDL1RQ was Loacker Quadratini Lemon Wafer Cookies, 8.82-Ounce Packages (Pack of 8) and so on<br>\n",
    "\n",
    "It was inferred after analysis that reviews with same parameters other than ProductId belonged to the same product just having different flavour or quantity. Hence in order to reduce redundancy it was decided to eliminate the rows having same parameters.<br>\n",
    "\n",
    "The method used for the same was that we first sort the data according to ProductId and then just keep the first similar product review and delelte the others. for eg. in the above just the review for ProductId=B000HDL1RQ remains. This method ensures that there is only one representative for each product and deduplication without sorting would lead to possibility of different representatives still existing for the same product."
   ]
  },
  {
   "cell_type": "code",
   "execution_count": 8,
   "metadata": {
    "colab": {},
    "colab_type": "code",
    "id": "mdsKFc50LPme"
   },
   "outputs": [],
   "source": [
    "#Sorting data according to ProductId in ascending order\n",
    "sorted_data=filtered_data.sort_values('ProductId', axis=0, ascending=True, inplace=False, kind='quicksort', na_position='last')"
   ]
  },
  {
   "cell_type": "code",
   "execution_count": 9,
   "metadata": {
    "colab": {},
    "colab_type": "code",
    "id": "2itLgX-NLPmk",
    "outputId": "ac765625-dfdc-4e4e-f886-bd3b7ca3635a"
   },
   "outputs": [
    {
     "data": {
      "text/plain": [
       "(348262, 10)"
      ]
     },
     "execution_count": 9,
     "metadata": {},
     "output_type": "execute_result"
    }
   ],
   "source": [
    "#Deduplication of entries\n",
    "final=sorted_data.drop_duplicates(subset={\"UserId\",\"ProfileName\",\"Time\",\"Text\"}, keep='first', inplace=False)\n",
    "final.shape"
   ]
  },
  {
   "cell_type": "code",
   "execution_count": 10,
   "metadata": {
    "colab": {},
    "colab_type": "code",
    "id": "IBU4iZk4LPmt",
    "outputId": "ceeba223-fe3f-407a-b4e5-0d46c08f69dd"
   },
   "outputs": [
    {
     "data": {
      "text/plain": [
       "69.6524"
      ]
     },
     "execution_count": 10,
     "metadata": {},
     "output_type": "execute_result"
    }
   ],
   "source": [
    "#Checking to see how much % of data still remains\n",
    "(final['Id'].size*1.0)/(filtered_data['Id'].size*1.0)*100"
   ]
  },
  {
   "cell_type": "markdown",
   "metadata": {
    "colab_type": "text",
    "id": "gFBOfSe4LPmy"
   },
   "source": [
    "<b>Observation:-</b> It was also seen that in two rows given below the value of HelpfulnessNumerator is greater than HelpfulnessDenominator which is not practically possible hence these two rows too are removed from calcualtions"
   ]
  },
  {
   "cell_type": "code",
   "execution_count": 11,
   "metadata": {
    "colab": {},
    "colab_type": "code",
    "id": "50flE40lLPmz",
    "outputId": "b6c7e38e-25c1-4a48-be1f-70fdf31aba13"
   },
   "outputs": [
    {
     "data": {
      "text/html": [
       "<div>\n",
       "<style scoped>\n",
       "    .dataframe tbody tr th:only-of-type {\n",
       "        vertical-align: middle;\n",
       "    }\n",
       "\n",
       "    .dataframe tbody tr th {\n",
       "        vertical-align: top;\n",
       "    }\n",
       "\n",
       "    .dataframe thead th {\n",
       "        text-align: right;\n",
       "    }\n",
       "</style>\n",
       "<table border=\"1\" class=\"dataframe\">\n",
       "  <thead>\n",
       "    <tr style=\"text-align: right;\">\n",
       "      <th></th>\n",
       "      <th>Id</th>\n",
       "      <th>ProductId</th>\n",
       "      <th>UserId</th>\n",
       "      <th>ProfileName</th>\n",
       "      <th>HelpfulnessNumerator</th>\n",
       "      <th>HelpfulnessDenominator</th>\n",
       "      <th>Score</th>\n",
       "      <th>Time</th>\n",
       "      <th>Summary</th>\n",
       "      <th>Text</th>\n",
       "    </tr>\n",
       "  </thead>\n",
       "  <tbody>\n",
       "    <tr>\n",
       "      <th>0</th>\n",
       "      <td>64422</td>\n",
       "      <td>B000MIDROQ</td>\n",
       "      <td>A161DK06JJMCYF</td>\n",
       "      <td>J. E. Stephens \"Jeanne\"</td>\n",
       "      <td>3</td>\n",
       "      <td>1</td>\n",
       "      <td>5</td>\n",
       "      <td>1224892800</td>\n",
       "      <td>Bought This for My Son at College</td>\n",
       "      <td>My son loves spaghetti so I didn't hesitate or...</td>\n",
       "    </tr>\n",
       "    <tr>\n",
       "      <th>1</th>\n",
       "      <td>44737</td>\n",
       "      <td>B001EQ55RW</td>\n",
       "      <td>A2V0I904FH7ABY</td>\n",
       "      <td>Ram</td>\n",
       "      <td>3</td>\n",
       "      <td>2</td>\n",
       "      <td>4</td>\n",
       "      <td>1212883200</td>\n",
       "      <td>Pure cocoa taste with crunchy almonds inside</td>\n",
       "      <td>It was almost a 'love at first bite' - the per...</td>\n",
       "    </tr>\n",
       "  </tbody>\n",
       "</table>\n",
       "</div>"
      ],
      "text/plain": [
       "      Id   ProductId          UserId              ProfileName  \\\n",
       "0  64422  B000MIDROQ  A161DK06JJMCYF  J. E. Stephens \"Jeanne\"   \n",
       "1  44737  B001EQ55RW  A2V0I904FH7ABY                      Ram   \n",
       "\n",
       "   HelpfulnessNumerator  HelpfulnessDenominator  Score        Time  \\\n",
       "0                     3                       1      5  1224892800   \n",
       "1                     3                       2      4  1212883200   \n",
       "\n",
       "                                        Summary  \\\n",
       "0             Bought This for My Son at College   \n",
       "1  Pure cocoa taste with crunchy almonds inside   \n",
       "\n",
       "                                                Text  \n",
       "0  My son loves spaghetti so I didn't hesitate or...  \n",
       "1  It was almost a 'love at first bite' - the per...  "
      ]
     },
     "execution_count": 11,
     "metadata": {},
     "output_type": "execute_result"
    }
   ],
   "source": [
    "display= pd.read_sql_query(\"\"\"\n",
    "SELECT *\n",
    "FROM Reviews\n",
    "WHERE Score != 3 AND Id=44737 OR Id=64422\n",
    "ORDER BY ProductID\n",
    "\"\"\", con)\n",
    "\n",
    "display.head()"
   ]
  },
  {
   "cell_type": "code",
   "execution_count": 12,
   "metadata": {
    "colab": {},
    "colab_type": "code",
    "id": "0YTPJMLTLPm7"
   },
   "outputs": [],
   "source": [
    "final=final[final.HelpfulnessNumerator<=final.HelpfulnessDenominator]"
   ]
  },
  {
   "cell_type": "code",
   "execution_count": 13,
   "metadata": {
    "colab": {},
    "colab_type": "code",
    "id": "LVJ_l-x2LPnC",
    "outputId": "d4a19c7a-16fe-4b5b-c3d1-aa1ef0f948a0"
   },
   "outputs": [
    {
     "name": "stdout",
     "output_type": "stream",
     "text": [
      "(348260, 10)\n"
     ]
    },
    {
     "data": {
      "text/plain": [
       "1    293516\n",
       "0     54744\n",
       "Name: Score, dtype: int64"
      ]
     },
     "execution_count": 13,
     "metadata": {},
     "output_type": "execute_result"
    }
   ],
   "source": [
    "#Before starting the next phase of preprocessing lets see the number of entries left\n",
    "print(final.shape)\n",
    "\n",
    "#How many positive and negative reviews are present in our dataset?\n",
    "final['Score'].value_counts()"
   ]
  },
  {
   "cell_type": "markdown",
   "metadata": {
    "colab_type": "text",
    "id": "GrTYWzYrLPnH"
   },
   "source": [
    "#  [3] Preprocessing"
   ]
  },
  {
   "cell_type": "markdown",
   "metadata": {
    "colab_type": "text",
    "id": "zbvLitZeLPnI"
   },
   "source": [
    "## [3.1].  Preprocessing Review Text\n",
    "\n",
    "Now that we have finished deduplication our data requires some preprocessing before we go on further with analysis and making the prediction model.\n",
    "\n",
    "Hence in the Preprocessing phase we do the following in the order below:-\n",
    "\n",
    "1. Begin by removing the html tags\n",
    "2. Remove any punctuations or limited set of special characters like , or . or # etc.\n",
    "3. Check if the word is made up of english letters and is not alpha-numeric\n",
    "4. Check to see if the length of the word is greater than 2 (as it was researched that there is no adjective in 2-letters)\n",
    "5. Convert the word to lowercase\n",
    "6. Remove Stopwords\n",
    "7. Finally Snowball Stemming the word (it was obsereved to be better than Porter Stemming)<br>\n",
    "\n",
    "After which we collect the words used to describe positive and negative reviews"
   ]
  },
  {
   "cell_type": "code",
   "execution_count": 14,
   "metadata": {
    "colab": {},
    "colab_type": "code",
    "id": "yYDc0ZXALPnK",
    "outputId": "5403fab9-796a-493d-f9d3-2a410d004f64"
   },
   "outputs": [
    {
     "name": "stdout",
     "output_type": "stream",
     "text": [
      "This book was purchased as a birthday gift for a 4 year old boy. He squealed with delight and hugged it when told it was his to keep and he did not have to return it to the library.\n",
      "==================================================\n",
      "I've purchased both the Espressione Espresso (classic) and the 100% Arabica.  My vote is definitely with the 100% Arabica.  The flavor has more bite and flavor (much more like European coffee than American).\n",
      "==================================================\n",
      "This is a great product. It is very healthy for all of our dogs, and it is the first food that they all love to eat. It helped my older dog lose weight and my 10 year old lab gain the weight he needed to be healthy.\n",
      "==================================================\n",
      "I find everything I need at Amazon so I always look there first. Chocolate tennis balls for a tennis party, perfect! They were the size of malted milk balls. Unfortunately, they arrived 3 days after the party. The caveat here is, not everything from Amazon may arrive at an impressive 2 or 3 days. This shipment took 8 days from the Candy/Cosmetic Depot back east to southern California.\n",
      "==================================================\n"
     ]
    }
   ],
   "source": [
    "# printing some random reviews\n",
    "sent_0 = final['Text'].values[0]\n",
    "print(sent_0)\n",
    "print(\"=\"*50)\n",
    "\n",
    "sent_1000 = final['Text'].values[1000]\n",
    "print(sent_1000)\n",
    "print(\"=\"*50)\n",
    "\n",
    "sent_1500 = final['Text'].values[1500]\n",
    "print(sent_1500)\n",
    "print(\"=\"*50)\n",
    "\n",
    "sent_4900 = final['Text'].values[4900]\n",
    "print(sent_4900)\n",
    "print(\"=\"*50)"
   ]
  },
  {
   "cell_type": "code",
   "execution_count": 15,
   "metadata": {
    "colab": {},
    "colab_type": "code",
    "id": "AxYh-wPiLPnS",
    "outputId": "31bddcb2-6c52-4b16-f9fb-c03d5b3bb7c8"
   },
   "outputs": [
    {
     "name": "stdout",
     "output_type": "stream",
     "text": [
      "This book was purchased as a birthday gift for a 4 year old boy. He squealed with delight and hugged it when told it was his to keep and he did not have to return it to the library.\n"
     ]
    }
   ],
   "source": [
    "# remove urls from text python: https://stackoverflow.com/a/40823105/4084039\n",
    "sent_0 = re.sub(r\"http\\S+\", \"\", sent_0)\n",
    "sent_1000 = re.sub(r\"http\\S+\", \"\", sent_1000)\n",
    "sent_150 = re.sub(r\"http\\S+\", \"\", sent_1500)\n",
    "sent_4900 = re.sub(r\"http\\S+\", \"\", sent_4900)\n",
    "\n",
    "print(sent_0)"
   ]
  },
  {
   "cell_type": "code",
   "execution_count": 16,
   "metadata": {
    "colab": {},
    "colab_type": "code",
    "id": "JMSSWjZqLPne",
    "outputId": "eb1bae4e-6f37-45ee-84a3-ef3bebf4e30a"
   },
   "outputs": [
    {
     "name": "stdout",
     "output_type": "stream",
     "text": [
      "This book was purchased as a birthday gift for a 4 year old boy. He squealed with delight and hugged it when told it was his to keep and he did not have to return it to the library.\n",
      "==================================================\n",
      "I've purchased both the Espressione Espresso (classic) and the 100% Arabica.  My vote is definitely with the 100% Arabica.  The flavor has more bite and flavor (much more like European coffee than American).\n",
      "==================================================\n",
      "This is a great product. It is very healthy for all of our dogs, and it is the first food that they all love to eat. It helped my older dog lose weight and my 10 year old lab gain the weight he needed to be healthy.\n",
      "==================================================\n",
      "I find everything I need at Amazon so I always look there first. Chocolate tennis balls for a tennis party, perfect! They were the size of malted milk balls. Unfortunately, they arrived 3 days after the party. The caveat here is, not everything from Amazon may arrive at an impressive 2 or 3 days. This shipment took 8 days from the Candy/Cosmetic Depot back east to southern California.\n"
     ]
    }
   ],
   "source": [
    "# https://stackoverflow.com/questions/16206380/python-beautifulsoup-how-to-remove-all-tags-from-an-element\n",
    "from bs4 import BeautifulSoup\n",
    "\n",
    "soup = BeautifulSoup(sent_0, 'lxml')\n",
    "text = soup.get_text()\n",
    "print(text)\n",
    "print(\"=\"*50)\n",
    "\n",
    "soup = BeautifulSoup(sent_1000, 'lxml')\n",
    "text = soup.get_text()\n",
    "print(text)\n",
    "print(\"=\"*50)\n",
    "\n",
    "soup = BeautifulSoup(sent_1500, 'lxml')\n",
    "text = soup.get_text()\n",
    "print(text)\n",
    "print(\"=\"*50)\n",
    "\n",
    "soup = BeautifulSoup(sent_4900, 'lxml')\n",
    "text = soup.get_text()\n",
    "print(text)"
   ]
  },
  {
   "cell_type": "code",
   "execution_count": 17,
   "metadata": {
    "colab": {},
    "colab_type": "code",
    "id": "BEtpMkhULPnt"
   },
   "outputs": [],
   "source": [
    "# https://stackoverflow.com/a/47091490/4084039\n",
    "import re\n",
    "\n",
    "def decontracted(phrase):\n",
    "    # specific\n",
    "    phrase = re.sub(r\"won't\", \"will not\", phrase)\n",
    "    phrase = re.sub(r\"can\\'t\", \"can not\", phrase)\n",
    "\n",
    "    # general\n",
    "    phrase = re.sub(r\"n\\'t\", \" not\", phrase)\n",
    "    phrase = re.sub(r\"\\'re\", \" are\", phrase)\n",
    "    phrase = re.sub(r\"\\'s\", \" is\", phrase)\n",
    "    phrase = re.sub(r\"\\'d\", \" would\", phrase)\n",
    "    phrase = re.sub(r\"\\'ll\", \" will\", phrase)\n",
    "    phrase = re.sub(r\"\\'t\", \" not\", phrase)\n",
    "    phrase = re.sub(r\"\\'ve\", \" have\", phrase)\n",
    "    phrase = re.sub(r\"\\'m\", \" am\", phrase)\n",
    "    return phrase"
   ]
  },
  {
   "cell_type": "code",
   "execution_count": 18,
   "metadata": {
    "colab": {},
    "colab_type": "code",
    "id": "GavAnzNjLPnx",
    "outputId": "517fca9a-b1b6-4c6c-ab33-4c5ac4a5bd62"
   },
   "outputs": [
    {
     "name": "stdout",
     "output_type": "stream",
     "text": [
      "This is a great product. It is very healthy for all of our dogs, and it is the first food that they all love to eat. It helped my older dog lose weight and my 10 year old lab gain the weight he needed to be healthy.\n",
      "==================================================\n"
     ]
    }
   ],
   "source": [
    "sent_1500 = decontracted(sent_1500)\n",
    "print(sent_1500)\n",
    "print(\"=\"*50)"
   ]
  },
  {
   "cell_type": "code",
   "execution_count": 19,
   "metadata": {
    "colab": {},
    "colab_type": "code",
    "id": "Kl8nOoL-LPn3",
    "outputId": "16742d57-2529-4fc0-9d28-e9332dbbca97"
   },
   "outputs": [
    {
     "name": "stdout",
     "output_type": "stream",
     "text": [
      "This book was purchased as a birthday gift for a  year old boy. He squealed with delight and hugged it when told it was his to keep and he did not have to return it to the library.\n"
     ]
    }
   ],
   "source": [
    "#remove words with numbers python: https://stackoverflow.com/a/18082370/4084039\n",
    "sent_0 = re.sub(\"\\S*\\d\\S*\", \"\", sent_0).strip()\n",
    "print(sent_0)"
   ]
  },
  {
   "cell_type": "code",
   "execution_count": 20,
   "metadata": {
    "colab": {},
    "colab_type": "code",
    "id": "EGB6X2uxLPn7",
    "outputId": "dbd754e5-eb73-4b3a-f3c3-7b1b40952851"
   },
   "outputs": [
    {
     "name": "stdout",
     "output_type": "stream",
     "text": [
      "This is a great product It is very healthy for all of our dogs and it is the first food that they all love to eat It helped my older dog lose weight and my 10 year old lab gain the weight he needed to be healthy \n"
     ]
    }
   ],
   "source": [
    "#remove spacial character: https://stackoverflow.com/a/5843547/4084039\n",
    "sent_1500 = re.sub('[^A-Za-z0-9]+', ' ', sent_1500)\n",
    "print(sent_1500)"
   ]
  },
  {
   "cell_type": "code",
   "execution_count": 21,
   "metadata": {
    "colab": {},
    "colab_type": "code",
    "id": "CCurSJJ2LPn_"
   },
   "outputs": [],
   "source": [
    "# https://gist.github.com/sebleier/554280\n",
    "# we are removing the words from the stop words list: 'no', 'nor', 'not'\n",
    "# <br /><br /> ==> after the above steps, we are getting \"br br\"\n",
    "# we are including them into stop words list\n",
    "# instead of <br /> if we have <br/> these tags would have revmoved in the 1st step\n",
    "\n",
    "stopwords= set(['br', 'the', 'i', 'me', 'my', 'myself', 'we', 'our', 'ours', 'ourselves', 'you', \"you're\", \"you've\",\\\n",
    "            \"you'll\", \"you'd\", 'your', 'yours', 'yourself', 'yourselves', 'he', 'him', 'his', 'himself', \\\n",
    "            'she', \"she's\", 'her', 'hers', 'herself', 'it', \"it's\", 'its', 'itself', 'they', 'them', 'their',\\\n",
    "            'theirs', 'themselves', 'what', 'which', 'who', 'whom', 'this', 'that', \"that'll\", 'these', 'those', \\\n",
    "            'am', 'is', 'are', 'was', 'were', 'be', 'been', 'being', 'have', 'has', 'had', 'having', 'do', 'does', \\\n",
    "            'did', 'doing', 'a', 'an', 'the', 'and', 'but', 'if', 'or', 'because', 'as', 'until', 'while', 'of', \\\n",
    "            'at', 'by', 'for', 'with', 'about', 'against', 'between', 'into', 'through', 'during', 'before', 'after',\\\n",
    "            'above', 'below', 'to', 'from', 'up', 'down', 'in', 'out', 'on', 'off', 'over', 'under', 'again', 'further',\\\n",
    "            'then', 'once', 'here', 'there', 'when', 'where', 'why', 'how', 'all', 'any', 'both', 'each', 'few', 'more',\\\n",
    "            'most', 'other', 'some', 'such', 'only', 'own', 'same', 'so', 'than', 'too', 'very', \\\n",
    "            's', 't', 'can', 'will', 'just', 'don', \"don't\", 'should', \"should've\", 'now', 'd', 'll', 'm', 'o', 're', \\\n",
    "            've', 'y', 'ain', 'aren', \"aren't\", 'couldn', \"couldn't\", 'didn', \"didn't\", 'doesn', \"doesn't\", 'hadn',\\\n",
    "            \"hadn't\", 'hasn', \"hasn't\", 'haven', \"haven't\", 'isn', \"isn't\", 'ma', 'mightn', \"mightn't\", 'mustn',\\\n",
    "            \"mustn't\", 'needn', \"needn't\", 'shan', \"shan't\", 'shouldn', \"shouldn't\", 'wasn', \"wasn't\", 'weren', \"weren't\", \\\n",
    "            'won', \"won't\", 'wouldn', \"wouldn't\"])"
   ]
  },
  {
   "cell_type": "code",
   "execution_count": 22,
   "metadata": {
    "colab": {},
    "colab_type": "code",
    "id": "mFHQEvfnLPoF",
    "outputId": "5cd6bcc3-54fe-4a8e-a39d-d6dabf3f37f9"
   },
   "outputs": [
    {
     "name": "stderr",
     "output_type": "stream",
     "text": [
      "100%|████████████████████████████████████████████████████████████████████████| 348260/348260 [02:18<00:00, 2514.94it/s]\n"
     ]
    }
   ],
   "source": [
    "# Combining all the above stundents \n",
    "from tqdm import tqdm\n",
    "preprocessed_reviews = []\n",
    "# tqdm is for printing the status bar\n",
    "for sentance in tqdm(final['Text'].values):\n",
    "    sentance = re.sub(r\"http\\S+\", \"\", sentance)\n",
    "    sentance = BeautifulSoup(sentance, 'lxml').get_text()\n",
    "    sentance = decontracted(sentance)\n",
    "    sentance = re.sub(\"\\S*\\d\\S*\", \"\", sentance).strip()\n",
    "    sentance = re.sub('[^A-Za-z]+', ' ', sentance)\n",
    "    # https://gist.github.com/sebleier/554280\n",
    "    sentance = ' '.join(e.lower() for e in sentance.split() if e.lower() not in stopwords)\n",
    "    preprocessed_reviews.append(sentance.strip())"
   ]
  },
  {
   "cell_type": "code",
   "execution_count": 23,
   "metadata": {
    "colab": {},
    "colab_type": "code",
    "id": "Tqx8QUeRLPoH",
    "outputId": "0182081c-6282-4113-b186-5b5bac596388"
   },
   "outputs": [
    {
     "data": {
      "text/plain": [
       "'great product healthy dogs first food love eat helped older dog lose weight year old lab gain weight needed healthy'"
      ]
     },
     "execution_count": 23,
     "metadata": {},
     "output_type": "execute_result"
    }
   ],
   "source": [
    "preprocessed_reviews[1500]"
   ]
  },
  {
   "cell_type": "markdown",
   "metadata": {
    "colab_type": "text",
    "id": "9IuKp2HULPoL"
   },
   "source": [
    "<h2><font color='red'>[3.2] Preprocessing Review Summary</font></h2>"
   ]
  },
  {
   "cell_type": "code",
   "execution_count": 24,
   "metadata": {
    "colab": {},
    "colab_type": "code",
    "id": "Qk7gYOmKLPoM"
   },
   "outputs": [],
   "source": [
    "## Similartly you can do preprocessing for review summary also."
   ]
  },
  {
   "cell_type": "markdown",
   "metadata": {
    "colab_type": "text",
    "id": "B93jqKuhLPoQ"
   },
   "source": [
    "# [4] Featurization"
   ]
  },
  {
   "cell_type": "code",
   "execution_count": 25,
   "metadata": {},
   "outputs": [
    {
     "data": {
      "text/html": [
       "<div>\n",
       "<style scoped>\n",
       "    .dataframe tbody tr th:only-of-type {\n",
       "        vertical-align: middle;\n",
       "    }\n",
       "\n",
       "    .dataframe tbody tr th {\n",
       "        vertical-align: top;\n",
       "    }\n",
       "\n",
       "    .dataframe thead th {\n",
       "        text-align: right;\n",
       "    }\n",
       "</style>\n",
       "<table border=\"1\" class=\"dataframe\">\n",
       "  <thead>\n",
       "    <tr style=\"text-align: right;\">\n",
       "      <th></th>\n",
       "      <th>Score</th>\n",
       "      <th>preprocessed_reviews</th>\n",
       "    </tr>\n",
       "  </thead>\n",
       "  <tbody>\n",
       "    <tr>\n",
       "      <th>138702</th>\n",
       "      <td>1</td>\n",
       "      <td>book purchased birthday gift year old boy sque...</td>\n",
       "    </tr>\n",
       "    <tr>\n",
       "      <th>138707</th>\n",
       "      <td>1</td>\n",
       "      <td>daughter loves really rosie books introduced r...</td>\n",
       "    </tr>\n",
       "    <tr>\n",
       "      <th>138708</th>\n",
       "      <td>0</td>\n",
       "      <td>one best children books ever written mini vers...</td>\n",
       "    </tr>\n",
       "    <tr>\n",
       "      <th>138692</th>\n",
       "      <td>1</td>\n",
       "      <td>title chicken soup riceauthor maurice sendakre...</td>\n",
       "    </tr>\n",
       "    <tr>\n",
       "      <th>138689</th>\n",
       "      <td>1</td>\n",
       "      <td>fun way children learn months year learn poems...</td>\n",
       "    </tr>\n",
       "  </tbody>\n",
       "</table>\n",
       "</div>"
      ],
      "text/plain": [
       "        Score                               preprocessed_reviews\n",
       "138702      1  book purchased birthday gift year old boy sque...\n",
       "138707      1  daughter loves really rosie books introduced r...\n",
       "138708      0  one best children books ever written mini vers...\n",
       "138692      1  title chicken soup riceauthor maurice sendakre...\n",
       "138689      1  fun way children learn months year learn poems..."
      ]
     },
     "execution_count": 25,
     "metadata": {},
     "output_type": "execute_result"
    }
   ],
   "source": [
    "final[\"preprocessed_reviews\"]=preprocessed_reviews\n",
    "final=final.drop([\"Id\",\"ProductId\",\"UserId\",\"ProfileName\",\"HelpfulnessNumerator\"],axis=1)\n",
    "final_last=final.drop([\"HelpfulnessDenominator\",\"Time\",\"Summary\",\"Text\"],axis=1)\n",
    "final_last.head()"
   ]
  },
  {
   "cell_type": "code",
   "execution_count": 26,
   "metadata": {},
   "outputs": [],
   "source": [
    "X=final_last[\"preprocessed_reviews\"]\n",
    "Y=final_last[\"Score\"]"
   ]
  },
  {
   "cell_type": "code",
   "execution_count": 27,
   "metadata": {},
   "outputs": [],
   "source": [
    "from sklearn.model_selection import train_test_split\n",
    "\n",
    "X_train,X_test,y_train,y_test=train_test_split(X[:100000],Y[:100000],test_size=0.33,random_state=1)"
   ]
  },
  {
   "cell_type": "markdown",
   "metadata": {
    "colab_type": "text",
    "id": "Mr4j2QhgLPoQ"
   },
   "source": [
    "## Logistic Regression on BOW"
   ]
  },
  {
   "cell_type": "code",
   "execution_count": 28,
   "metadata": {
    "colab": {},
    "colab_type": "code",
    "id": "dZVHt3mtLPoR",
    "outputId": "ea1629cd-7c92-400e-9acd-f7caeef0f389"
   },
   "outputs": [
    {
     "name": "stdout",
     "output_type": "stream",
     "text": [
      "After vectorizations\n",
      "(67000, 500) (67000,)\n",
      "(33000, 500) (33000,)\n",
      "====================================================================================================\n",
      "the type of count vectorizer  <class 'scipy.sparse.csr.csr_matrix'>\n",
      "the number of unique words in train 500\n"
     ]
    }
   ],
   "source": [
    "count_vect = CountVectorizer(ngram_range=(1,2), min_df=10, max_features=500)\n",
    "X_train_bow_bigram = count_vect.fit_transform(X_train)\n",
    "X_test_bow_bigram = count_vect.transform(X_test)\n",
    "print(\"After vectorizations\")\n",
    "print(X_train_bow_bigram.shape, y_train.shape)\n",
    "print(X_test_bow_bigram.shape, y_test.shape)\n",
    "print(\"=\"*100)\n",
    "print(\"the type of count vectorizer \",type(X_train_bow_bigram))\n",
    "print(\"the number of unique words in train\", X_train_bow_bigram.get_shape()[1])"
   ]
  },
  {
   "cell_type": "markdown",
   "metadata": {},
   "source": [
    "### Applying Logistic Regression with L2 regularization on BOW"
   ]
  },
  {
   "cell_type": "markdown",
   "metadata": {},
   "source": [
    "#### Applying grid search to do hyperparameter tuning"
   ]
  },
  {
   "cell_type": "code",
   "execution_count": 42,
   "metadata": {},
   "outputs": [
    {
     "data": {
      "text/plain": [
       "GridSearchCV(cv=10, error_score='raise-deprecating',\n",
       "       estimator=LogisticRegression(C=1.0, class_weight='balanced', dual=False,\n",
       "          fit_intercept=True, intercept_scaling=1, max_iter=100,\n",
       "          multi_class='warn', n_jobs=-1, penalty='l2', random_state=None,\n",
       "          solver='warn', tol=0.0001, verbose=0, warm_start=False),\n",
       "       fit_params=None, iid='warn', n_jobs=None,\n",
       "       param_grid={'C': [0.0001, 0.001, 0.01, 0.1, 0.05, 5, 10, 15, 20, 25, 30, 35, 40, 45, 50, 55, 60, 70, 80, 90, 100]},\n",
       "       pre_dispatch='2*n_jobs', refit=True, return_train_score='warn',\n",
       "       scoring='roc_auc', verbose=0)"
      ]
     },
     "execution_count": 42,
     "metadata": {},
     "output_type": "execute_result"
    }
   ],
   "source": [
    "\n",
    "log_clf = LogisticRegression(n_jobs=-1,penalty='l2',class_weight='balanced')\n",
    "parameters = {'C':[0.0001,0.001,0.01,0.1,0.05,5,10,15,20,25,30,35,40,45,50,55,60,70,80,90,100]}\n",
    "clf = GridSearchCV(log_clf, parameters, cv=10, scoring='roc_auc')\n",
    "clf.fit(X_train_bow_bigram, y_train)\n"
   ]
  },
  {
   "cell_type": "code",
   "execution_count": 43,
   "metadata": {},
   "outputs": [
    {
     "data": {
      "image/png": "[encoded data removed]",
      "text/plain": [
       "<matplotlib.figure.Figure at 0x2852ed21438>"
      ]
     },
     "metadata": {},
     "output_type": "display_data"
    }
   ],
   "source": [
    "train_auc= clf.cv_results_['mean_train_score']\n",
    "train_auc_std= clf.cv_results_['std_train_score']\n",
    "cv_auc = clf.cv_results_['mean_test_score'] \n",
    "cv_auc_std= clf.cv_results_['std_test_score']\n",
    "C=[0.0001,0.001,0.01,0.1,0.05,5,10,15,20,25,30,35,40,45,50,55,60,70,80,90,100]\n",
    "plt.plot(C, train_auc, label='Train AUC')\n",
    "# this code is copied from here: https://stackoverflow.com/a/48803361/4084039\n",
    "plt.gca().fill_between(C,train_auc - train_auc_std,train_auc + train_auc_std,alpha=0.2,color='darkblue')\n",
    "\n",
    "plt.plot(C, cv_auc, label='CV AUC')\n",
    "# this code is copied from here: https://stackoverflow.com/a/48803361/4084039\n",
    "plt.gca().fill_between(C,cv_auc - cv_auc_std,cv_auc + cv_auc_std,alpha=0.2,color='darkorange')\n",
    "plt.legend()\n",
    "plt.xlabel(\"log(C): hyperparameter\")\n",
    "plt.ylabel(\"AUC\")\n",
    "plt.title(\"ERROR PLOTS\")\n",
    "plt.show()"
   ]
  },
  {
   "cell_type": "code",
   "execution_count": 44,
   "metadata": {},
   "outputs": [
    {
     "name": "stdout",
     "output_type": "stream",
     "text": [
      "best estimator is :\n",
      " LogisticRegression(C=0.05, class_weight='balanced', dual=False,\n",
      "          fit_intercept=True, intercept_scaling=1, max_iter=100,\n",
      "          multi_class='warn', n_jobs=-1, penalty='l2', random_state=None,\n",
      "          solver='warn', tol=0.0001, verbose=0, warm_start=False)\n"
     ]
    }
   ],
   "source": [
    "print(\"best estimator is :\\n\",clf.best_estimator_)"
   ]
  },
  {
   "cell_type": "code",
   "execution_count": 45,
   "metadata": {},
   "outputs": [],
   "source": [
    "#lets take C=0.05\n",
    "#and apply it on test data."
   ]
  },
  {
   "cell_type": "code",
   "execution_count": 46,
   "metadata": {},
   "outputs": [],
   "source": [
    "log_reg=LogisticRegression(C=0.05,penalty='l2',class_weight='balanced')\n",
    "\n",
    "log_reg.fit(X_train_bow_bigram,y_train)\n",
    "train_fpr, train_tpr, thresholds = roc_curve(y_train, log_reg.predict_proba(X_train_bow_bigram)[:,1])\n",
    "test_fpr, test_tpr, thresholds = roc_curve(y_test, log_reg.predict_proba(X_test_bow_bigram)[:,1])"
   ]
  },
  {
   "cell_type": "code",
   "execution_count": 47,
   "metadata": {},
   "outputs": [],
   "source": [
    "\n",
    "#coefficients = pd.DataFrame({\"Feature\":count_vect.get_feature_names(),\"Coefficients\":np.transpose(log_reg.coef_[0])})"
   ]
  },
  {
   "cell_type": "code",
   "execution_count": 48,
   "metadata": {},
   "outputs": [],
   "source": [
    "#coefficients.sort_values('Coefficients',ascending=False)"
   ]
  },
  {
   "cell_type": "code",
   "execution_count": 49,
   "metadata": {},
   "outputs": [
    {
     "data": {
      "image/png": "[encoded data removed]",
      "text/plain": [
       "<matplotlib.figure.Figure at 0x2852ed21898>"
      ]
     },
     "metadata": {},
     "output_type": "display_data"
    },
    {
     "name": "stdout",
     "output_type": "stream",
     "text": [
      "====================================================================================================\n",
      "Train confusion matrix\n",
      "[[ 8434  1453]\n",
      " [ 9884 47229]]\n",
      "====================================================================================================\n",
      "Test confusion matrix\n",
      "[[ 4056   833]\n",
      " [ 4769 23342]]\n"
     ]
    }
   ],
   "source": [
    "plt.plot(train_fpr, train_tpr, label=\"train AUC =\"+str(auc(train_fpr, train_tpr)))\n",
    "plt.plot(test_fpr, test_tpr, label=\"test AUC =\"+str(auc(test_fpr, test_tpr)))\n",
    "plt.legend()\n",
    "plt.xlabel(\"FPR\")\n",
    "plt.ylabel(\"TPR\")\n",
    "plt.title(\"ERROR PLOTS\")\n",
    "plt.show()\n",
    "\n",
    "print(\"=\"*100)\n",
    "\n",
    "from sklearn.metrics import confusion_matrix\n",
    "print(\"Train confusion matrix\")\n",
    "print(confusion_matrix(y_train, log_reg.predict(X_train_bow_bigram)))\n",
    "print(\"=\"*100)\n",
    "print(\"Test confusion matrix\")\n",
    "print(confusion_matrix(y_test, log_reg.predict(X_test_bow_bigram)))"
   ]
  },
  {
   "cell_type": "markdown",
   "metadata": {},
   "source": [
    "#### Feature importance"
   ]
  },
  {
   "cell_type": "code",
   "execution_count": 50,
   "metadata": {},
   "outputs": [],
   "source": [
    "#lets find out top 10 positive features and top 10 negative features.\n",
    "\n",
    "coefficients = pd.DataFrame({\"Feature\":count_vect.get_feature_names(),\"Coefficients\":np.transpose(log_reg.coef_[0])})"
   ]
  },
  {
   "cell_type": "code",
   "execution_count": 51,
   "metadata": {},
   "outputs": [],
   "source": [
    "coefficients=coefficients.sort_values('Coefficients',ascending=False)"
   ]
  },
  {
   "cell_type": "code",
   "execution_count": 52,
   "metadata": {},
   "outputs": [
    {
     "name": "stdout",
     "output_type": "stream",
     "text": [
      "Top 10 positive features are:\n",
      "\n"
     ]
    },
    {
     "data": {
      "text/html": [
       "<div>\n",
       "<style scoped>\n",
       "    .dataframe tbody tr th:only-of-type {\n",
       "        vertical-align: middle;\n",
       "    }\n",
       "\n",
       "    .dataframe tbody tr th {\n",
       "        vertical-align: top;\n",
       "    }\n",
       "\n",
       "    .dataframe thead th {\n",
       "        text-align: right;\n",
       "    }\n",
       "</style>\n",
       "<table border=\"1\" class=\"dataframe\">\n",
       "  <thead>\n",
       "    <tr style=\"text-align: right;\">\n",
       "      <th></th>\n",
       "      <th>Coefficients</th>\n",
       "      <th>Feature</th>\n",
       "    </tr>\n",
       "  </thead>\n",
       "  <tbody>\n",
       "    <tr>\n",
       "      <th>260</th>\n",
       "      <td>1.484185</td>\n",
       "      <td>loves</td>\n",
       "    </tr>\n",
       "    <tr>\n",
       "      <th>111</th>\n",
       "      <td>1.452842</td>\n",
       "      <td>delicious</td>\n",
       "    </tr>\n",
       "    <tr>\n",
       "      <th>336</th>\n",
       "      <td>1.376686</td>\n",
       "      <td>pleased</td>\n",
       "    </tr>\n",
       "    <tr>\n",
       "      <th>24</th>\n",
       "      <td>1.309166</td>\n",
       "      <td>awesome</td>\n",
       "    </tr>\n",
       "    <tr>\n",
       "      <th>144</th>\n",
       "      <td>1.294458</td>\n",
       "      <td>excellent</td>\n",
       "    </tr>\n",
       "    <tr>\n",
       "      <th>14</th>\n",
       "      <td>1.212249</td>\n",
       "      <td>amazing</td>\n",
       "    </tr>\n",
       "    <tr>\n",
       "      <th>499</th>\n",
       "      <td>1.175422</td>\n",
       "      <td>yummy</td>\n",
       "    </tr>\n",
       "    <tr>\n",
       "      <th>487</th>\n",
       "      <td>1.149863</td>\n",
       "      <td>wonderful</td>\n",
       "    </tr>\n",
       "    <tr>\n",
       "      <th>36</th>\n",
       "      <td>1.136808</td>\n",
       "      <td>best</td>\n",
       "    </tr>\n",
       "    <tr>\n",
       "      <th>195</th>\n",
       "      <td>1.126189</td>\n",
       "      <td>great</td>\n",
       "    </tr>\n",
       "  </tbody>\n",
       "</table>\n",
       "</div>"
      ],
      "text/plain": [
       "     Coefficients    Feature\n",
       "260      1.484185      loves\n",
       "111      1.452842  delicious\n",
       "336      1.376686    pleased\n",
       "24       1.309166    awesome\n",
       "144      1.294458  excellent\n",
       "14       1.212249    amazing\n",
       "499      1.175422      yummy\n",
       "487      1.149863  wonderful\n",
       "36       1.136808       best\n",
       "195      1.126189      great"
      ]
     },
     "execution_count": 52,
     "metadata": {},
     "output_type": "execute_result"
    }
   ],
   "source": [
    "print(\"Top 10 positive features are:\\n\")\n",
    "coefficients[:10]"
   ]
  },
  {
   "cell_type": "code",
   "execution_count": 53,
   "metadata": {},
   "outputs": [
    {
     "name": "stdout",
     "output_type": "stream",
     "text": [
      "Top 10 negative features are:\n",
      "\n"
     ]
    },
    {
     "data": {
      "text/html": [
       "<div>\n",
       "<style scoped>\n",
       "    .dataframe tbody tr th:only-of-type {\n",
       "        vertical-align: middle;\n",
       "    }\n",
       "\n",
       "    .dataframe tbody tr th {\n",
       "        vertical-align: top;\n",
       "    }\n",
       "\n",
       "    .dataframe thead th {\n",
       "        text-align: right;\n",
       "    }\n",
       "</style>\n",
       "<table border=\"1\" class=\"dataframe\">\n",
       "  <thead>\n",
       "    <tr style=\"text-align: right;\">\n",
       "      <th></th>\n",
       "      <th>Coefficients</th>\n",
       "      <th>Feature</th>\n",
       "    </tr>\n",
       "  </thead>\n",
       "  <tbody>\n",
       "    <tr>\n",
       "      <th>312</th>\n",
       "      <td>-0.598584</td>\n",
       "      <td>opened</td>\n",
       "    </tr>\n",
       "    <tr>\n",
       "      <th>363</th>\n",
       "      <td>-0.598703</td>\n",
       "      <td>received</td>\n",
       "    </tr>\n",
       "    <tr>\n",
       "      <th>473</th>\n",
       "      <td>-0.631493</td>\n",
       "      <td>wanted</td>\n",
       "    </tr>\n",
       "    <tr>\n",
       "      <th>318</th>\n",
       "      <td>-0.638419</td>\n",
       "      <td>original</td>\n",
       "    </tr>\n",
       "    <tr>\n",
       "      <th>269</th>\n",
       "      <td>-0.680569</td>\n",
       "      <td>maybe</td>\n",
       "    </tr>\n",
       "    <tr>\n",
       "      <th>27</th>\n",
       "      <td>-0.683058</td>\n",
       "      <td>bad</td>\n",
       "    </tr>\n",
       "    <tr>\n",
       "      <th>23</th>\n",
       "      <td>-0.786445</td>\n",
       "      <td>away</td>\n",
       "    </tr>\n",
       "    <tr>\n",
       "      <th>450</th>\n",
       "      <td>-0.788959</td>\n",
       "      <td>thought</td>\n",
       "    </tr>\n",
       "    <tr>\n",
       "      <th>278</th>\n",
       "      <td>-1.215600</td>\n",
       "      <td>money</td>\n",
       "    </tr>\n",
       "    <tr>\n",
       "      <th>116</th>\n",
       "      <td>-1.473046</td>\n",
       "      <td>disappointed</td>\n",
       "    </tr>\n",
       "  </tbody>\n",
       "</table>\n",
       "</div>"
      ],
      "text/plain": [
       "     Coefficients       Feature\n",
       "312     -0.598584        opened\n",
       "363     -0.598703      received\n",
       "473     -0.631493        wanted\n",
       "318     -0.638419      original\n",
       "269     -0.680569         maybe\n",
       "27      -0.683058           bad\n",
       "23      -0.786445          away\n",
       "450     -0.788959       thought\n",
       "278     -1.215600         money\n",
       "116     -1.473046  disappointed"
      ]
     },
     "execution_count": 53,
     "metadata": {},
     "output_type": "execute_result"
    }
   ],
   "source": [
    "print(\"Top 10 negative features are:\\n\")\n",
    "coefficients[-10:]"
   ]
  },
  {
   "cell_type": "markdown",
   "metadata": {},
   "source": [
    "## Perturbation Testing"
   ]
  },
  {
   "cell_type": "code",
   "execution_count": 54,
   "metadata": {},
   "outputs": [],
   "source": [
    "#weights W after fitting our model with the Train data(X_train_bow_bigram)\n",
    "coef_1=log_reg.coef_[0]  #an array"
   ]
  },
  {
   "cell_type": "code",
   "execution_count": 55,
   "metadata": {},
   "outputs": [],
   "source": [
    "type(X_train_bow_bigram)\n",
    "X_train_bow_bigram_1=X_train_bow_bigram.toarray()\n",
    "X_test_bow_bigram_1=X_test_bow_bigram.toarray()"
   ]
  },
  {
   "cell_type": "code",
   "execution_count": 56,
   "metadata": {},
   "outputs": [
    {
     "data": {
      "text/plain": [
       "(67000, 500)"
      ]
     },
     "execution_count": 56,
     "metadata": {},
     "output_type": "execute_result"
    }
   ],
   "source": [
    "X_train_bow_bigram_1.shape"
   ]
  },
  {
   "cell_type": "code",
   "execution_count": 57,
   "metadata": {},
   "outputs": [],
   "source": [
    "#Adding a noise to the X (X' = X + e) and get the new data set X'\n",
    "X_train_bow_bigram_1=X_train_bow_bigram_1+0.001\n",
    "X_test_bow_bigram_1=X_test_bow_bigram_1+0.001"
   ]
  },
  {
   "cell_type": "code",
   "execution_count": 58,
   "metadata": {},
   "outputs": [],
   "source": [
    "from scipy import sparse\n",
    "X_train_bow_bigram_1=sparse.csr_matrix(X_train_bow_bigram_1)"
   ]
  },
  {
   "cell_type": "code",
   "execution_count": 59,
   "metadata": {},
   "outputs": [
    {
     "data": {
      "text/plain": [
       "scipy.sparse.csr.csr_matrix"
      ]
     },
     "execution_count": 59,
     "metadata": {},
     "output_type": "execute_result"
    }
   ],
   "source": [
    "type(X_train_bow_bigram_1)"
   ]
  },
  {
   "cell_type": "code",
   "execution_count": 60,
   "metadata": {},
   "outputs": [],
   "source": [
    "#Fitting the model again on data X' and get the weights W'\n",
    "log_reg=LogisticRegression(C=0.05,penalty='l2')\n",
    "\n",
    "log_reg.fit(X_train_bow_bigram_1,y_train)\n",
    "train_fpr, train_tpr, thresholds = roc_curve(y_train, log_reg.predict_proba(X_train_bow_bigram_1)[:,1])\n",
    "test_fpr, test_tpr, thresholds = roc_curve(y_test, log_reg.predict_proba(X_test_bow_bigram_1)[:,1])"
   ]
  },
  {
   "cell_type": "code",
   "execution_count": 61,
   "metadata": {},
   "outputs": [],
   "source": [
    "coef_2=log_reg.coef_[0]"
   ]
  },
  {
   "cell_type": "code",
   "execution_count": 62,
   "metadata": {},
   "outputs": [],
   "source": [
    "#Adding a small eps value(to eliminate the divisible by zero error) to coef_1 and coef_2\n",
    "\n",
    "coef_1=coef_1 + 0.000001\n",
    "coef_2=coef_2 + 0.000001"
   ]
  },
  {
   "cell_type": "code",
   "execution_count": 63,
   "metadata": {},
   "outputs": [],
   "source": [
    "#finding the % change between coef_1 and coef_2\n",
    "perct_chg_vector=((coef_1-coef_2) / (coef_1))*100"
   ]
  },
  {
   "cell_type": "code",
   "execution_count": 64,
   "metadata": {},
   "outputs": [
    {
     "data": {
      "text/plain": [
       "(500,)"
      ]
     },
     "execution_count": 64,
     "metadata": {},
     "output_type": "execute_result"
    }
   ],
   "source": [
    "perct_chg_vector.shape"
   ]
  },
  {
   "cell_type": "code",
   "execution_count": 65,
   "metadata": {},
   "outputs": [
    {
     "name": "stdout",
     "output_type": "stream",
     "text": [
      "0 th percentile of change vector is -9530.032086000483\n",
      "1 th percentile of change vector is -1202.544940157826\n",
      "2 th percentile of change vector is -585.7869139530417\n",
      "3 th percentile of change vector is -349.3891303778503\n",
      "4 th percentile of change vector is -241.78166988198927\n",
      "5 th percentile of change vector is -113.38742027075486\n",
      "6 th percentile of change vector is -82.63994594460681\n",
      "7 th percentile of change vector is -76.67932362588351\n",
      "8 th percentile of change vector is -66.53453149199578\n",
      "9 th percentile of change vector is -59.14467436304265\n",
      "10 th percentile of change vector is -46.24918704348923\n",
      "11 th percentile of change vector is -40.12925461721504\n",
      "12 th percentile of change vector is -34.250222735286755\n",
      "13 th percentile of change vector is -30.77852346532901\n",
      "14 th percentile of change vector is -26.999377471184122\n",
      "15 th percentile of change vector is -24.316029003187225\n",
      "16 th percentile of change vector is -21.10141593205362\n",
      "17 th percentile of change vector is -17.823459877714733\n",
      "18 th percentile of change vector is -14.856501050734884\n",
      "19 th percentile of change vector is -12.289389840605818\n",
      "20 th percentile of change vector is -11.280963440606385\n",
      "21 th percentile of change vector is -10.512737613001878\n",
      "22 th percentile of change vector is -9.892434568129929\n",
      "23 th percentile of change vector is -8.04937022791705\n",
      "24 th percentile of change vector is -7.290432497979268\n",
      "25 th percentile of change vector is -6.07919341993869\n",
      "26 th percentile of change vector is -4.818525908110081\n",
      "27 th percentile of change vector is -3.6997540873705903\n",
      "28 th percentile of change vector is -3.3383781260070267\n",
      "29 th percentile of change vector is -2.5656712971627735\n",
      "30 th percentile of change vector is -1.6659980497666904\n",
      "31 th percentile of change vector is -1.0203826070366375\n",
      "32 th percentile of change vector is -0.48933104753227874\n",
      "33 th percentile of change vector is 0.6386687146829759\n",
      "34 th percentile of change vector is 1.5190601762439349\n",
      "35 th percentile of change vector is 2.0978397852476784\n",
      "36 th percentile of change vector is 2.396559535035985\n",
      "37 th percentile of change vector is 2.875657178803348\n",
      "38 th percentile of change vector is 3.1975552930655455\n",
      "39 th percentile of change vector is 3.524248939291212\n",
      "40 th percentile of change vector is 4.178789389248517\n",
      "41 th percentile of change vector is 4.4997232846397495\n",
      "42 th percentile of change vector is 4.702666865275608\n",
      "43 th percentile of change vector is 5.146937471058305\n",
      "44 th percentile of change vector is 5.594058200359291\n",
      "45 th percentile of change vector is 6.113785598617014\n",
      "46 th percentile of change vector is 6.466005485146715\n",
      "47 th percentile of change vector is 7.096474672429756\n",
      "48 th percentile of change vector is 7.486531024987704\n",
      "49 th percentile of change vector is 8.042587594178986\n",
      "50 th percentile of change vector is 8.799528050926599\n",
      "51 th percentile of change vector is 8.98471760609186\n",
      "52 th percentile of change vector is 9.540677356064315\n",
      "53 th percentile of change vector is 10.052264096518584\n",
      "54 th percentile of change vector is 10.695750093540092\n",
      "55 th percentile of change vector is 11.250726306337288\n",
      "56 th percentile of change vector is 11.65274163215162\n",
      "57 th percentile of change vector is 11.935106512922417\n",
      "58 th percentile of change vector is 12.866065960351865\n",
      "59 th percentile of change vector is 13.192366777221327\n",
      "60 th percentile of change vector is 13.477511013530732\n",
      "61 th percentile of change vector is 13.800734987252312\n",
      "62 th percentile of change vector is 14.459614440580033\n",
      "63 th percentile of change vector is 14.838034192539112\n",
      "64 th percentile of change vector is 16.107265324977206\n",
      "65 th percentile of change vector is 16.608708355859278\n",
      "66 th percentile of change vector is 17.157574950339313\n",
      "67 th percentile of change vector is 17.831958155258672\n",
      "68 th percentile of change vector is 18.323645328937168\n",
      "69 th percentile of change vector is 19.58994555806607\n",
      "70 th percentile of change vector is 20.416376648667494\n",
      "71 th percentile of change vector is 21.28734154926848\n",
      "72 th percentile of change vector is 22.35697122124188\n",
      "73 th percentile of change vector is 23.325807582140044\n",
      "74 th percentile of change vector is 24.262450599031183\n",
      "75 th percentile of change vector is 24.95066384987986\n",
      "76 th percentile of change vector is 26.040994297411405\n",
      "77 th percentile of change vector is 26.93606884070803\n",
      "78 th percentile of change vector is 27.429165043341307\n",
      "79 th percentile of change vector is 28.386066218044757\n",
      "80 th percentile of change vector is 29.244441638160435\n",
      "81 th percentile of change vector is 30.834386326950757\n",
      "82 th percentile of change vector is 32.62174755027593\n",
      "83 th percentile of change vector is 33.59392829341818\n",
      "84 th percentile of change vector is 34.641344112444\n",
      "85 th percentile of change vector is 35.60505392732479\n",
      "86 th percentile of change vector is 37.37385304751087\n",
      "87 th percentile of change vector is 39.29000634703866\n",
      "88 th percentile of change vector is 41.735692951211654\n",
      "89 th percentile of change vector is 48.76312820903718\n",
      "90 th percentile of change vector is 51.10053880459891\n",
      "91 th percentile of change vector is 56.953883029167685\n",
      "92 th percentile of change vector is 62.35088322405011\n",
      "93 th percentile of change vector is 71.40634431938149\n",
      "94 th percentile of change vector is 79.78672532921127\n",
      "95 th percentile of change vector is 95.52815671859597\n",
      "96 th percentile of change vector is 117.55733540682871\n",
      "97 th percentile of change vector is 137.24746381688044\n",
      "98 th percentile of change vector is 261.1444470028776\n",
      "99 th percentile of change vector is 513.4512220035314\n",
      "100 th percentile of change vector is 3861.3591231157498\n"
     ]
    }
   ],
   "source": [
    "#Calculating the 0th, 10th, 20th, 30th, ...100th percentiles, and observe any sudden rise in the values of percentage_change_vector\n",
    "for i in np.arange(0,101,1):\n",
    "    print(i,\"th percentile of change vector is\",np.percentile(perct_chg_vector,i))"
   ]
  },
  {
   "cell_type": "code",
   "execution_count": 66,
   "metadata": {},
   "outputs": [],
   "source": [
    "#we can see that there is sudden rise in between 0th to 10th percentile and\n",
    "#in between 90th to 100th percentile"
   ]
  },
  {
   "cell_type": "code",
   "execution_count": 67,
   "metadata": {},
   "outputs": [
    {
     "name": "stdout",
     "output_type": "stream",
     "text": [
      "0.0 th percentile of change vector is 9530.032086000483\n",
      "0.1 th percentile of change vector is 9251.368917362399\n",
      "0.2 th percentile of change vector is 8972.705748724315\n",
      "0.30000000000000004 th percentile of change vector is 7786.439025545633\n",
      "0.4 th percentile of change vector is 6596.519974179667\n",
      "0.5 th percentile of change vector is 4258.799745070217\n",
      "0.6000000000000001 th percentile of change vector is 1911.8043549284932\n",
      "0.7000000000000001 th percentile of change vector is 1798.9329389297156\n",
      "0.8 th percentile of change vector is 1713.2516727176642\n",
      "0.9 th percentile of change vector is 1459.269394115061\n",
      "1.0 th percentile of change vector is 1202.544940157826\n"
     ]
    }
   ],
   "source": [
    "#lets drill down further at which point percentile changing(between 0 and 1) greater than 2.5(threshold)\n",
    "for i in np.arange(0,1.1,0.1):\n",
    "    print(i,\"th percentile of change vector is\",-np.percentile(perct_chg_vector,i) ,)"
   ]
  },
  {
   "cell_type": "code",
   "execution_count": 68,
   "metadata": {},
   "outputs": [
    {
     "name": "stdout",
     "output_type": "stream",
     "text": [
      "99.0 th percentile of change vector is -513.4512220035314\n",
      "99.1 th percentile of change vector is -639.295593726007\n",
      "99.19999999999999 th percentile of change vector is -764.1872185956942\n",
      "99.29999999999998 th percentile of change vector is -830.6040053767083\n",
      "99.39999999999998 th percentile of change vector is -897.2929290023375\n",
      "99.49999999999997 th percentile of change vector is -986.3424300289378\n",
      "99.59999999999997 th percentile of change vector is -1078.94716756694\n",
      "99.69999999999996 th percentile of change vector is -1611.512423406315\n",
      "99.79999999999995 th percentile of change vector is -2145.381981110051\n",
      "99.89999999999995 th percentile of change vector is -3003.370552112656\n",
      "99.99999999999994 th percentile of change vector is -3861.3591231152614\n"
     ]
    }
   ],
   "source": [
    "#lets drill down further at which point percentile changing(between 99 and 100) greater than 2.5(threshold)\n",
    "for i in np.arange(99,100.1,0.1):\n",
    "    print(i,\"th percentile of change vector is\",-np.percentile(perct_chg_vector,i))"
   ]
  },
  {
   "cell_type": "code",
   "execution_count": 69,
   "metadata": {},
   "outputs": [],
   "source": [
    "perc_change = [abs(np.percentile(perct_chg_vector,i)) for i in np.arange(0,101,1)] \n",
    "perc_change_explained = np.cumsum(perc_change)"
   ]
  },
  {
   "cell_type": "code",
   "execution_count": 70,
   "metadata": {},
   "outputs": [
    {
     "data": {
      "text/plain": [
       "Text(0,0.5,'cumulative_variance_explained')"
      ]
     },
     "execution_count": 70,
     "metadata": {},
     "output_type": "execute_result"
    },
    {
     "data": {
      "image/png": "[encoded data removed]",
      "text/plain": [
       "<matplotlib.figure.Figure at 0x2852f457320>"
      ]
     },
     "metadata": {},
     "output_type": "display_data"
    }
   ],
   "source": [
    "plt.figure(1,figsize=(6,4))\n",
    "plt.plot(perc_change_explained,linewidth=2)\n",
    "plt.grid()\n",
    "\n",
    "plt.axis('tight')\n",
    "\n",
    "plt.xlabel(\"percentile\")\n",
    "plt.ylabel(\"cumulative_variance_explained\")"
   ]
  },
  {
   "cell_type": "code",
   "execution_count": 71,
   "metadata": {},
   "outputs": [],
   "source": [
    "weights_difference = abs(perct_chg_vector)"
   ]
  },
  {
   "cell_type": "code",
   "execution_count": 72,
   "metadata": {},
   "outputs": [
    {
     "name": "stdout",
     "output_type": "stream",
     "text": [
      "Number of features have weight changes greater than 2.5% are : 464\n"
     ]
    }
   ],
   "source": [
    "print(\"Number of features have weight changes greater than 2.5% are :\",weights_difference[np.where(weights_difference>2.5)].size)"
   ]
  },
  {
   "cell_type": "markdown",
   "metadata": {},
   "source": [
    "### Applying Logistic Regression with L1 regularization on BOW"
   ]
  },
  {
   "cell_type": "markdown",
   "metadata": {},
   "source": [
    "#### Applying gridsearch to do hyperparameter tuning"
   ]
  },
  {
   "cell_type": "code",
   "execution_count": 73,
   "metadata": {},
   "outputs": [
    {
     "data": {
      "text/plain": [
       "GridSearchCV(cv=10, error_score='raise-deprecating',\n",
       "       estimator=LogisticRegression(C=1.0, class_weight='balanced', dual=False,\n",
       "          fit_intercept=True, intercept_scaling=1, max_iter=100,\n",
       "          multi_class='warn', n_jobs=-1, penalty='l1', random_state=None,\n",
       "          solver='warn', tol=0.0001, verbose=0, warm_start=False),\n",
       "       fit_params=None, iid='warn', n_jobs=None,\n",
       "       param_grid={'C': [0.0001, 0.001, 0.01, 0.1, 0.05, 5, 10, 15, 20, 25, 30, 35, 40, 45, 50, 55, 60, 70, 80, 90, 100]},\n",
       "       pre_dispatch='2*n_jobs', refit=True, return_train_score='warn',\n",
       "       scoring='roc_auc', verbose=0)"
      ]
     },
     "execution_count": 73,
     "metadata": {},
     "output_type": "execute_result"
    }
   ],
   "source": [
    "#now applying L1 regularizer on BOW logistic regression.\n",
    "\n",
    "from sklearn.model_selection import GridSearchCV\n",
    "from sklearn.linear_model import LogisticRegression\n",
    "\n",
    "log_clf = LogisticRegression(n_jobs=-1,penalty='l1',class_weight='balanced')\n",
    "parameters = {'C':[0.0001,0.001,0.01,0.1,0.05,5,10,15,20,25,30,35,40,45,50,55,60,70,80,90,100]}\n",
    "clf = GridSearchCV(log_clf, parameters, cv=10, scoring='roc_auc')\n",
    "clf.fit(X_train_bow_bigram, y_train)\n"
   ]
  },
  {
   "cell_type": "code",
   "execution_count": 74,
   "metadata": {},
   "outputs": [
    {
     "data": {
      "image/png": "[encoded data removed]",
      "text/plain": [
       "<matplotlib.figure.Figure at 0x28531caea20>"
      ]
     },
     "metadata": {},
     "output_type": "display_data"
    }
   ],
   "source": [
    "train_auc= clf.cv_results_['mean_train_score']\n",
    "train_auc_std= clf.cv_results_['std_train_score']\n",
    "cv_auc = clf.cv_results_['mean_test_score'] \n",
    "cv_auc_std= clf.cv_results_['std_test_score']\n",
    "C=[0.0001,0.001,0.01,0.1,0.05,5,10,15,20,25,30,35,40,45,50,55,60,70,80,90,100]\n",
    "plt.plot(C, train_auc, label='Train AUC')\n",
    "# this code is copied from here: https://stackoverflow.com/a/48803361/4084039\n",
    "plt.gca().fill_between(C,train_auc - train_auc_std,train_auc + train_auc_std,alpha=0.2,color='darkblue')\n",
    "\n",
    "plt.plot(C, cv_auc, label='CV AUC')\n",
    "# this code is copied from here: https://stackoverflow.com/a/48803361/4084039\n",
    "plt.gca().fill_between(C,cv_auc - cv_auc_std,cv_auc + cv_auc_std,alpha=0.2,color='darkorange')\n",
    "plt.legend()\n",
    "plt.xlabel(\"log(C): hyperparameter\")\n",
    "plt.ylabel(\"AUC\")\n",
    "plt.title(\"ERROR PLOTS\")\n",
    "plt.show()"
   ]
  },
  {
   "cell_type": "code",
   "execution_count": 75,
   "metadata": {},
   "outputs": [
    {
     "name": "stdout",
     "output_type": "stream",
     "text": [
      "best estimator is : LogisticRegression(C=0.1, class_weight='balanced', dual=False,\n",
      "          fit_intercept=True, intercept_scaling=1, max_iter=100,\n",
      "          multi_class='warn', n_jobs=-1, penalty='l1', random_state=None,\n",
      "          solver='warn', tol=0.0001, verbose=0, warm_start=False)\n"
     ]
    }
   ],
   "source": [
    "print(\"best estimator is :\",clf.best_estimator_)"
   ]
  },
  {
   "cell_type": "code",
   "execution_count": 76,
   "metadata": {},
   "outputs": [],
   "source": [
    "log_reg=LogisticRegression(C=0.1,penalty='l1',class_weight='balanced')\n",
    "\n",
    "log_reg.fit(X_train_bow_bigram,y_train)\n",
    "train_fpr, train_tpr, thresholds = roc_curve(y_train, log_reg.predict_proba(X_train_bow_bigram)[:,1])\n",
    "test_fpr, test_tpr, thresholds = roc_curve(y_test, log_reg.predict_proba(X_test_bow_bigram)[:,1])"
   ]
  },
  {
   "cell_type": "code",
   "execution_count": 77,
   "metadata": {},
   "outputs": [
    {
     "data": {
      "image/png": "[encoded data removed]",
      "text/plain": [
       "<matplotlib.figure.Figure at 0x2851af31208>"
      ]
     },
     "metadata": {},
     "output_type": "display_data"
    },
    {
     "name": "stdout",
     "output_type": "stream",
     "text": [
      "====================================================================================================\n",
      "Train confusion matrix\n",
      "[[ 8447  1440]\n",
      " [ 9948 47165]]\n",
      "====================================================================================================\n",
      "Test confusion matrix\n",
      "[[ 4055   834]\n",
      " [ 4805 23306]]\n"
     ]
    }
   ],
   "source": [
    "plt.plot(train_fpr, train_tpr, label=\"train AUC =\"+str(auc(train_fpr, train_tpr)))\n",
    "plt.plot(test_fpr, test_tpr, label=\"test AUC =\"+str(auc(test_fpr, test_tpr)))\n",
    "plt.legend()\n",
    "plt.xlabel(\"FPR\")\n",
    "plt.ylabel(\"TPR\")\n",
    "plt.title(\"ERROR PLOTS\")\n",
    "plt.show()\n",
    "\n",
    "print(\"=\"*100)\n",
    "\n",
    "from sklearn.metrics import confusion_matrix\n",
    "print(\"Train confusion matrix\")\n",
    "print(confusion_matrix(y_train, log_reg.predict(X_train_bow_bigram)))\n",
    "print(\"=\"*100)\n",
    "print(\"Test confusion matrix\")\n",
    "print(confusion_matrix(y_test, log_reg.predict(X_test_bow_bigram)))"
   ]
  },
  {
   "cell_type": "code",
   "execution_count": 78,
   "metadata": {},
   "outputs": [
    {
     "name": "stdout",
     "output_type": "stream",
     "text": [
      "Heatmap for train confusion matrix\n"
     ]
    },
    {
     "data": {
      "text/plain": [
       "Text(33,0.5,'Actual Class')"
      ]
     },
     "execution_count": 78,
     "metadata": {},
     "output_type": "execute_result"
    },
    {
     "data": {
      "image/png": "[encoded data removed]",
      "text/plain": [
       "<matplotlib.figure.Figure at 0x2852f7b2b00>"
      ]
     },
     "metadata": {},
     "output_type": "display_data"
    }
   ],
   "source": [
    "import seaborn as sns\n",
    "print(\"Heatmap for train confusion matrix\")\n",
    "confusion_matrix_train_tfidf = confusion_matrix(y_train, log_reg.predict(X_train_bow_bigram))\n",
    "\n",
    "df_cm=pd.DataFrame(confusion_matrix_train_tfidf,index=[\"Negative:0\",\"Positive:1\"],columns=[\"Negative\",\"Positive\"],)\n",
    "sns.heatmap(df_cm,annot=True,fmt='d')\n",
    "plt.title(\"Confusion Matrix\")\n",
    "plt.xlabel(\"Predicted Class\")\n",
    "plt.ylabel(\"Actual Class\")"
   ]
  },
  {
   "cell_type": "code",
   "execution_count": 79,
   "metadata": {},
   "outputs": [
    {
     "name": "stdout",
     "output_type": "stream",
     "text": [
      "Heatmap for test confusion matrix\n"
     ]
    },
    {
     "data": {
      "text/plain": [
       "Text(33,0.5,'Actual Class')"
      ]
     },
     "execution_count": 79,
     "metadata": {},
     "output_type": "execute_result"
    },
    {
     "data": {
      "image/png": "[encoded data removed]",
      "text/plain": [
       "<matplotlib.figure.Figure at 0x2852ea1d860>"
      ]
     },
     "metadata": {},
     "output_type": "display_data"
    }
   ],
   "source": [
    "\n",
    "print(\"Heatmap for test confusion matrix\")\n",
    "confusion_matrix_train_tfidf = confusion_matrix(y_test, log_reg.predict(X_test_bow_bigram))\n",
    "\n",
    "df_cm=pd.DataFrame(confusion_matrix_train_tfidf,index=[\"Negative:0\",\"Positive:1\"],columns=[\"Negative\",\"Positive\"],)\n",
    "sns.heatmap(df_cm,annot=True,fmt='d')\n",
    "plt.title(\"Confusion Matrix\")\n",
    "plt.xlabel(\"Predicted Class\")\n",
    "plt.ylabel(\"Actual Class\")"
   ]
  },
  {
   "cell_type": "markdown",
   "metadata": {},
   "source": [
    "#### Calculating sparsity on weight vector obtained using L1 regularization on BOW"
   ]
  },
  {
   "cell_type": "code",
   "execution_count": 80,
   "metadata": {},
   "outputs": [],
   "source": [
    "sparse_coef=log_reg.coef_"
   ]
  },
  {
   "cell_type": "code",
   "execution_count": 81,
   "metadata": {},
   "outputs": [
    {
     "name": "stdout",
     "output_type": "stream",
     "text": [
      "Number of non zero weights after applying L1 regularizer when C=0.1 are : 441\n"
     ]
    }
   ],
   "source": [
    "print(\"Number of non zero weights after applying L1 regularizer when C=0.1 are :\",np.count_nonzero(sparse_coef))"
   ]
  },
  {
   "cell_type": "code",
   "execution_count": 82,
   "metadata": {},
   "outputs": [
    {
     "name": "stdout",
     "output_type": "stream",
     "text": [
      "sparsity on weight vector obtained using L1 regularization when C=0.1 on BOW: 24.6\n"
     ]
    }
   ],
   "source": [
    "print(\"sparsity on weight vector obtained using L1 regularization when C=0.1 on BOW:\", (500-377)/500*100)"
   ]
  },
  {
   "cell_type": "code",
   "execution_count": 83,
   "metadata": {},
   "outputs": [],
   "source": [
    "#lets change value of C(hyperparameter) to see impact of C on sparsity of vectors"
   ]
  },
  {
   "cell_type": "code",
   "execution_count": 84,
   "metadata": {},
   "outputs": [
    {
     "name": "stdout",
     "output_type": "stream",
     "text": [
      "Number of non zero weights after applying L1 regularizer when C=1.0 are : 493\n",
      "sparsity on weight vector obtained using L1 regularization on BOW: 1.4000000000000001\n"
     ]
    }
   ],
   "source": [
    "#1st changing C=1.0\n",
    "C=1.0\n",
    "\n",
    "log_reg=LogisticRegression(C=1.0,penalty='l1')\n",
    "\n",
    "log_reg.fit(X_train_bow_bigram,y_train)\n",
    "\n",
    "sparse_coef=log_reg.coef_\n",
    "\n",
    "print(\"Number of non zero weights after applying L1 regularizer when C=1.0 are :\",np.count_nonzero(sparse_coef))\n",
    "\n",
    "print(\"sparsity on weight vector obtained using L1 regularization on BOW:\", (500-np.count_nonzero(sparse_coef))/500*100)"
   ]
  },
  {
   "cell_type": "code",
   "execution_count": 85,
   "metadata": {},
   "outputs": [
    {
     "name": "stdout",
     "output_type": "stream",
     "text": [
      "Number of non zero weights after applying L1 regularizer when C=0.05 are : 335\n",
      "sparsity on weight vector obtained using L1 regularization on BOW: 33.0\n"
     ]
    }
   ],
   "source": [
    "#changing C=0.05\n",
    "C=0.05\n",
    "\n",
    "log_reg=LogisticRegression(C=0.05,penalty='l1')\n",
    "\n",
    "log_reg.fit(X_train_bow_bigram,y_train)\n",
    "\n",
    "sparse_coef=log_reg.coef_\n",
    "\n",
    "print(\"Number of non zero weights after applying L1 regularizer when C=0.05 are :\",np.count_nonzero(sparse_coef))\n",
    "\n",
    "print(\"sparsity on weight vector obtained using L1 regularization on BOW:\", (500-np.count_nonzero(sparse_coef))/500*100)"
   ]
  },
  {
   "cell_type": "code",
   "execution_count": 86,
   "metadata": {},
   "outputs": [
    {
     "name": "stdout",
     "output_type": "stream",
     "text": [
      "Number of non zero weights after applying L1 regularizer when C=10.0 are : 500\n",
      "sparsity on weight vector obtained using L1 regularization on BOW: 0.0\n"
     ]
    }
   ],
   "source": [
    "#1st changing C=10\n",
    "log_reg=LogisticRegression(C=10,penalty='l1')\n",
    "\n",
    "log_reg.fit(X_train_bow_bigram,y_train)\n",
    "\n",
    "sparse_coef=log_reg.coef_\n",
    "\n",
    "print(\"Number of non zero weights after applying L1 regularizer when C=10.0 are :\",np.count_nonzero(sparse_coef))\n",
    "\n",
    "print(\"sparsity on weight vector obtained using L1 regularization on BOW:\", (500-np.count_nonzero(sparse_coef))/500*100)"
   ]
  },
  {
   "cell_type": "markdown",
   "metadata": {},
   "source": [
    "##### Sparsity of weight vectors decreases as we are increasing value of C"
   ]
  },
  {
   "cell_type": "markdown",
   "metadata": {
    "colab_type": "text",
    "id": "-cEEpDx0LPoZ"
   },
   "source": [
    "## TF-IDF"
   ]
  },
  {
   "cell_type": "code",
   "execution_count": 87,
   "metadata": {
    "colab": {},
    "colab_type": "code",
    "id": "TgP61HqBLPoa",
    "outputId": "15f1c123-d93b-414d-914b-d4e3f32a6ac1"
   },
   "outputs": [
    {
     "name": "stdout",
     "output_type": "stream",
     "text": [
      "After vectorizations\n",
      "(67000, 37866) (67000,)\n",
      "(33000, 37866) (33000,)\n",
      "====================================================================================================\n",
      "the type of count vectorizer  <class 'scipy.sparse.csr.csr_matrix'>\n",
      "the number of unique words in train 37866\n"
     ]
    }
   ],
   "source": [
    "tf_idf_vect = TfidfVectorizer(ngram_range=(1,2), min_df=10)\n",
    "X_train_tf_idf=tf_idf_vect.fit_transform(X_train)\n",
    "X_test_tf_idf = tf_idf_vect.transform(X_test)\n",
    "print(\"After vectorizations\")\n",
    "print(X_train_tf_idf.shape, y_train.shape)\n",
    "print(X_test_tf_idf.shape, y_test.shape)\n",
    "print(\"=\"*100)\n",
    "print(\"the type of count vectorizer \",type(X_train_tf_idf))\n",
    "print(\"the number of unique words in train\", X_train_tf_idf.get_shape()[1])"
   ]
  },
  {
   "cell_type": "markdown",
   "metadata": {},
   "source": [
    "### Applying Logistic Regression with L2 regularization on TFIDF"
   ]
  },
  {
   "cell_type": "markdown",
   "metadata": {},
   "source": [
    "#### Applying gridsearch to do hyperparameter tuning "
   ]
  },
  {
   "cell_type": "code",
   "execution_count": 88,
   "metadata": {},
   "outputs": [
    {
     "data": {
      "text/plain": [
       "GridSearchCV(cv=10, error_score='raise-deprecating',\n",
       "       estimator=LogisticRegression(C=1.0, class_weight='balanced', dual=False,\n",
       "          fit_intercept=True, intercept_scaling=1, max_iter=100,\n",
       "          multi_class='warn', n_jobs=-1, penalty='l2', random_state=None,\n",
       "          solver='warn', tol=0.0001, verbose=0, warm_start=False),\n",
       "       fit_params=None, iid='warn', n_jobs=None,\n",
       "       param_grid={'C': [0.0001, 0.001, 0.01, 0.1, 0.05, 5, 10, 15, 20, 25, 30, 35, 40, 45, 50, 55, 60, 70, 80, 90, 100]},\n",
       "       pre_dispatch='2*n_jobs', refit=True, return_train_score='warn',\n",
       "       scoring='roc_auc', verbose=0)"
      ]
     },
     "execution_count": 88,
     "metadata": {},
     "output_type": "execute_result"
    }
   ],
   "source": [
    "log_clf = LogisticRegression(n_jobs=-1,penalty='l2',class_weight='balanced')\n",
    "parameters = {'C':[0.0001,0.001,0.01,0.1,0.05,5,10,15,20,25,30,35,40,45,50,55,60,70,80,90,100]}\n",
    "clf = GridSearchCV(log_clf, parameters, cv=10, scoring='roc_auc')\n",
    "clf.fit(X_train_tf_idf, y_train)"
   ]
  },
  {
   "cell_type": "code",
   "execution_count": 89,
   "metadata": {},
   "outputs": [
    {
     "data": {
      "image/png": "[encoded data removed]",
      "text/plain": [
       "<matplotlib.figure.Figure at 0x2858876b160>"
      ]
     },
     "metadata": {},
     "output_type": "display_data"
    }
   ],
   "source": [
    "train_auc= clf.cv_results_['mean_train_score']\n",
    "train_auc_std= clf.cv_results_['std_train_score']\n",
    "cv_auc = clf.cv_results_['mean_test_score'] \n",
    "cv_auc_std= clf.cv_results_['std_test_score']\n",
    "C=[0.0001,0.001,0.01,0.1,0.05,5,10,15,20,25,30,35,40,45,50,55,60,70,80,90,100]\n",
    "plt.plot(C, train_auc, label='Train AUC')\n",
    "# this code is copied from here: https://stackoverflow.com/a/48803361/4084039\n",
    "plt.gca().fill_between(C,train_auc - train_auc_std,train_auc + train_auc_std,alpha=0.2,color='darkblue')\n",
    "\n",
    "plt.plot(C, cv_auc, label='CV AUC')\n",
    "# this code is copied from here: https://stackoverflow.com/a/48803361/4084039\n",
    "plt.gca().fill_between(C,cv_auc - cv_auc_std,cv_auc + cv_auc_std,alpha=0.2,color='darkorange')\n",
    "plt.legend()\n",
    "plt.xlabel(\"log(C): hyperparameter\")\n",
    "plt.ylabel(\"AUC\")\n",
    "plt.title(\"ERROR PLOTS\")\n",
    "plt.show()"
   ]
  },
  {
   "cell_type": "code",
   "execution_count": 90,
   "metadata": {},
   "outputs": [
    {
     "name": "stdout",
     "output_type": "stream",
     "text": [
      "best estimator is :\n",
      " LogisticRegression(C=5, class_weight='balanced', dual=False,\n",
      "          fit_intercept=True, intercept_scaling=1, max_iter=100,\n",
      "          multi_class='warn', n_jobs=-1, penalty='l2', random_state=None,\n",
      "          solver='warn', tol=0.0001, verbose=0, warm_start=False)\n"
     ]
    }
   ],
   "source": [
    "print(\"best estimator is :\\n\",clf.best_estimator_)"
   ]
  },
  {
   "cell_type": "code",
   "execution_count": 91,
   "metadata": {},
   "outputs": [],
   "source": [
    "log_reg=LogisticRegression(C=5,penalty='l2',class_weight='balanced')\n",
    "\n",
    "log_reg.fit(X_train_tf_idf,y_train)\n",
    "train_fpr, train_tpr, thresholds = roc_curve(y_train, log_reg.predict_proba(X_train_tf_idf)[:,1])\n",
    "test_fpr, test_tpr, thresholds = roc_curve(y_test, log_reg.predict_proba(X_test_tf_idf)[:,1])"
   ]
  },
  {
   "cell_type": "code",
   "execution_count": 92,
   "metadata": {},
   "outputs": [
    {
     "data": {
      "image/png": "[encoded data removed]",
      "text/plain": [
       "<matplotlib.figure.Figure at 0x28588763780>"
      ]
     },
     "metadata": {},
     "output_type": "display_data"
    },
    {
     "name": "stdout",
     "output_type": "stream",
     "text": [
      "====================================================================================================\n",
      "Train confusion matrix\n",
      "[[ 9822    65]\n",
      " [ 1931 55182]]\n",
      "====================================================================================================\n",
      "Test confusion matrix\n",
      "[[ 4112   777]\n",
      " [ 1626 26485]]\n"
     ]
    }
   ],
   "source": [
    "plt.plot(train_fpr, train_tpr, label=\"train AUC =\"+str(auc(train_fpr, train_tpr)))\n",
    "plt.plot(test_fpr, test_tpr, label=\"test AUC =\"+str(auc(test_fpr, test_tpr)))\n",
    "plt.legend()\n",
    "plt.xlabel(\"FPR\")\n",
    "plt.ylabel(\"TPR\")\n",
    "plt.title(\"ERROR PLOTS\")\n",
    "plt.show()\n",
    "\n",
    "print(\"=\"*100)\n",
    "\n",
    "from sklearn.metrics import confusion_matrix\n",
    "print(\"Train confusion matrix\")\n",
    "print(confusion_matrix(y_train, log_reg.predict(X_train_tf_idf)))\n",
    "print(\"=\"*100)\n",
    "print(\"Test confusion matrix\")\n",
    "print(confusion_matrix(y_test, log_reg.predict(X_test_tf_idf)))"
   ]
  },
  {
   "cell_type": "code",
   "execution_count": 93,
   "metadata": {},
   "outputs": [
    {
     "name": "stdout",
     "output_type": "stream",
     "text": [
      "Heatmap of train confusion matrix\n"
     ]
    },
    {
     "data": {
      "text/plain": [
       "Text(33,0.5,'Actual Class')"
      ]
     },
     "execution_count": 93,
     "metadata": {},
     "output_type": "execute_result"
    },
    {
     "data": {
      "image/png": "[encoded data removed]",
      "text/plain": [
       "<matplotlib.figure.Figure at 0x28588763400>"
      ]
     },
     "metadata": {},
     "output_type": "display_data"
    }
   ],
   "source": [
    "print(\"Heatmap of train confusion matrix\")\n",
    "import seaborn as sns\n",
    "confusion_matrix_TFIDF = confusion_matrix(y_train, log_reg.predict(X_train_tf_idf))\n",
    "\n",
    "df_cm=pd.DataFrame(confusion_matrix_TFIDF,index=[\"Negative:0\",\"Positive:1\"],columns=[\"Negative\",\"Positive\"],)\n",
    "sns.heatmap(df_cm,annot=True,fmt='d')\n",
    "plt.title(\"Confusion Matrix\")\n",
    "plt.xlabel(\"Predicted Class\")\n",
    "plt.ylabel(\"Actual Class\")"
   ]
  },
  {
   "cell_type": "code",
   "execution_count": 94,
   "metadata": {},
   "outputs": [
    {
     "name": "stdout",
     "output_type": "stream",
     "text": [
      "Heatmap of test confusion matrix\n"
     ]
    },
    {
     "data": {
      "text/plain": [
       "Text(33,0.5,'Actual Class')"
      ]
     },
     "execution_count": 94,
     "metadata": {},
     "output_type": "execute_result"
    },
    {
     "data": {
      "image/png": "[encoded data removed]",
      "text/plain": [
       "<matplotlib.figure.Figure at 0x285337e2470>"
      ]
     },
     "metadata": {},
     "output_type": "display_data"
    }
   ],
   "source": [
    "print(\"Heatmap of test confusion matrix\")\n",
    "import seaborn as sns\n",
    "confusion_matrix_TFIDF = confusion_matrix(y_test, log_reg.predict(X_test_tf_idf))\n",
    "\n",
    "df_cm=pd.DataFrame(confusion_matrix_TFIDF,index=[\"Negative:0\",\"Positive:1\"],columns=[\"Negative\",\"Positive\"],)\n",
    "sns.heatmap(df_cm,annot=True,fmt='d')\n",
    "plt.title(\"Confusion Matrix\")\n",
    "plt.xlabel(\"Predicted Class\")\n",
    "plt.ylabel(\"Actual Class\")"
   ]
  },
  {
   "cell_type": "markdown",
   "metadata": {},
   "source": [
    "### Feature Importance on TFIDF"
   ]
  },
  {
   "cell_type": "code",
   "execution_count": 95,
   "metadata": {},
   "outputs": [],
   "source": [
    "#lets find out top 10 positive features and top 10 negative features.\n",
    "\n",
    "coefficients = pd.DataFrame({\"Feature\":tf_idf_vect.get_feature_names(),\"Coefficients\":np.transpose(log_reg.coef_[0])})"
   ]
  },
  {
   "cell_type": "code",
   "execution_count": 96,
   "metadata": {},
   "outputs": [],
   "source": [
    "coefficients=coefficients.sort_values('Coefficients',ascending=False)"
   ]
  },
  {
   "cell_type": "code",
   "execution_count": 97,
   "metadata": {},
   "outputs": [
    {
     "name": "stdout",
     "output_type": "stream",
     "text": [
      "Top 10 positive features are:\n",
      "\n"
     ]
    },
    {
     "data": {
      "text/html": [
       "<div>\n",
       "<style scoped>\n",
       "    .dataframe tbody tr th:only-of-type {\n",
       "        vertical-align: middle;\n",
       "    }\n",
       "\n",
       "    .dataframe tbody tr th {\n",
       "        vertical-align: top;\n",
       "    }\n",
       "\n",
       "    .dataframe thead th {\n",
       "        text-align: right;\n",
       "    }\n",
       "</style>\n",
       "<table border=\"1\" class=\"dataframe\">\n",
       "  <thead>\n",
       "    <tr style=\"text-align: right;\">\n",
       "      <th></th>\n",
       "      <th>Coefficients</th>\n",
       "      <th>Feature</th>\n",
       "    </tr>\n",
       "  </thead>\n",
       "  <tbody>\n",
       "    <tr>\n",
       "      <th>14375</th>\n",
       "      <td>16.965654</td>\n",
       "      <td>great</td>\n",
       "    </tr>\n",
       "    <tr>\n",
       "      <th>7928</th>\n",
       "      <td>13.810875</td>\n",
       "      <td>delicious</td>\n",
       "    </tr>\n",
       "    <tr>\n",
       "      <th>2685</th>\n",
       "      <td>12.559008</td>\n",
       "      <td>best</td>\n",
       "    </tr>\n",
       "    <tr>\n",
       "      <th>19097</th>\n",
       "      <td>12.057211</td>\n",
       "      <td>loves</td>\n",
       "    </tr>\n",
       "    <tr>\n",
       "      <th>13766</th>\n",
       "      <td>11.764950</td>\n",
       "      <td>good</td>\n",
       "    </tr>\n",
       "    <tr>\n",
       "      <th>22185</th>\n",
       "      <td>10.837792</td>\n",
       "      <td>not disappointed</td>\n",
       "    </tr>\n",
       "    <tr>\n",
       "      <th>18812</th>\n",
       "      <td>10.529132</td>\n",
       "      <td>love</td>\n",
       "    </tr>\n",
       "    <tr>\n",
       "      <th>24662</th>\n",
       "      <td>10.092517</td>\n",
       "      <td>perfect</td>\n",
       "    </tr>\n",
       "    <tr>\n",
       "      <th>10287</th>\n",
       "      <td>9.615839</td>\n",
       "      <td>excellent</td>\n",
       "    </tr>\n",
       "    <tr>\n",
       "      <th>1899</th>\n",
       "      <td>9.051281</td>\n",
       "      <td>awesome</td>\n",
       "    </tr>\n",
       "  </tbody>\n",
       "</table>\n",
       "</div>"
      ],
      "text/plain": [
       "       Coefficients           Feature\n",
       "14375     16.965654             great\n",
       "7928      13.810875         delicious\n",
       "2685      12.559008              best\n",
       "19097     12.057211             loves\n",
       "13766     11.764950              good\n",
       "22185     10.837792  not disappointed\n",
       "18812     10.529132              love\n",
       "24662     10.092517           perfect\n",
       "10287      9.615839         excellent\n",
       "1899       9.051281           awesome"
      ]
     },
     "execution_count": 97,
     "metadata": {},
     "output_type": "execute_result"
    }
   ],
   "source": [
    "print(\"Top 10 positive features are:\\n\")\n",
    "coefficients[:10]"
   ]
  },
  {
   "cell_type": "code",
   "execution_count": 98,
   "metadata": {},
   "outputs": [
    {
     "name": "stdout",
     "output_type": "stream",
     "text": [
      "Top 10 negative features are:\n",
      "\n"
     ]
    },
    {
     "data": {
      "text/html": [
       "<div>\n",
       "<style scoped>\n",
       "    .dataframe tbody tr th:only-of-type {\n",
       "        vertical-align: middle;\n",
       "    }\n",
       "\n",
       "    .dataframe tbody tr th {\n",
       "        vertical-align: top;\n",
       "    }\n",
       "\n",
       "    .dataframe thead th {\n",
       "        text-align: right;\n",
       "    }\n",
       "</style>\n",
       "<table border=\"1\" class=\"dataframe\">\n",
       "  <thead>\n",
       "    <tr style=\"text-align: right;\">\n",
       "      <th></th>\n",
       "      <th>Coefficients</th>\n",
       "      <th>Feature</th>\n",
       "    </tr>\n",
       "  </thead>\n",
       "  <tbody>\n",
       "    <tr>\n",
       "      <th>8456</th>\n",
       "      <td>-8.920248</td>\n",
       "      <td>disappointment</td>\n",
       "    </tr>\n",
       "    <tr>\n",
       "      <th>22005</th>\n",
       "      <td>-9.328993</td>\n",
       "      <td>not</td>\n",
       "    </tr>\n",
       "    <tr>\n",
       "      <th>33362</th>\n",
       "      <td>-9.518415</td>\n",
       "      <td>terrible</td>\n",
       "    </tr>\n",
       "    <tr>\n",
       "      <th>22297</th>\n",
       "      <td>-9.955640</td>\n",
       "      <td>not good</td>\n",
       "    </tr>\n",
       "    <tr>\n",
       "      <th>1910</th>\n",
       "      <td>-10.624935</td>\n",
       "      <td>awful</td>\n",
       "    </tr>\n",
       "    <tr>\n",
       "      <th>22552</th>\n",
       "      <td>-10.884238</td>\n",
       "      <td>not recommend</td>\n",
       "    </tr>\n",
       "    <tr>\n",
       "      <th>8454</th>\n",
       "      <td>-11.220235</td>\n",
       "      <td>disappointing</td>\n",
       "    </tr>\n",
       "    <tr>\n",
       "      <th>22758</th>\n",
       "      <td>-11.884662</td>\n",
       "      <td>not worth</td>\n",
       "    </tr>\n",
       "    <tr>\n",
       "      <th>37325</th>\n",
       "      <td>-12.867089</td>\n",
       "      <td>worst</td>\n",
       "    </tr>\n",
       "    <tr>\n",
       "      <th>8431</th>\n",
       "      <td>-13.637602</td>\n",
       "      <td>disappointed</td>\n",
       "    </tr>\n",
       "  </tbody>\n",
       "</table>\n",
       "</div>"
      ],
      "text/plain": [
       "       Coefficients         Feature\n",
       "8456      -8.920248  disappointment\n",
       "22005     -9.328993             not\n",
       "33362     -9.518415        terrible\n",
       "22297     -9.955640        not good\n",
       "1910     -10.624935           awful\n",
       "22552    -10.884238   not recommend\n",
       "8454     -11.220235   disappointing\n",
       "22758    -11.884662       not worth\n",
       "37325    -12.867089           worst\n",
       "8431     -13.637602    disappointed"
      ]
     },
     "execution_count": 98,
     "metadata": {},
     "output_type": "execute_result"
    }
   ],
   "source": [
    "print(\"Top 10 negative features are:\\n\")\n",
    "coefficients[-10:]"
   ]
  },
  {
   "cell_type": "markdown",
   "metadata": {},
   "source": [
    "### Applying Logistic Regression with L1 regularization on TFIDF"
   ]
  },
  {
   "cell_type": "markdown",
   "metadata": {},
   "source": [
    "#### Applying gridsearch to do hyperparameter tuning"
   ]
  },
  {
   "cell_type": "code",
   "execution_count": 99,
   "metadata": {},
   "outputs": [
    {
     "data": {
      "text/plain": [
       "GridSearchCV(cv=10, error_score='raise-deprecating',\n",
       "       estimator=LogisticRegression(C=1.0, class_weight='balanced', dual=False,\n",
       "          fit_intercept=True, intercept_scaling=1, max_iter=100,\n",
       "          multi_class='warn', n_jobs=-1, penalty='l1', random_state=None,\n",
       "          solver='warn', tol=0.0001, verbose=0, warm_start=False),\n",
       "       fit_params=None, iid='warn', n_jobs=None,\n",
       "       param_grid={'C': [0.0001, 0.001, 0.01, 0.1, 0.05, 5, 10, 15, 20, 25, 30, 35, 40, 45, 50, 55, 60, 70, 80, 90, 100]},\n",
       "       pre_dispatch='2*n_jobs', refit=True, return_train_score='warn',\n",
       "       scoring='roc_auc', verbose=0)"
      ]
     },
     "execution_count": 99,
     "metadata": {},
     "output_type": "execute_result"
    }
   ],
   "source": [
    "#Applying L1 regularizer on TFIDF\n",
    "\n",
    "log_clf = LogisticRegression(n_jobs=-1,penalty='l1',class_weight='balanced')\n",
    "parameters = {'C':[0.0001,0.001,0.01,0.1,0.05,5,10,15,20,25,30,35,40,45,50,55,60,70,80,90,100]}\n",
    "clf = GridSearchCV(log_clf, parameters, cv=10, scoring='roc_auc')\n",
    "clf.fit(X_train_tf_idf, y_train)"
   ]
  },
  {
   "cell_type": "code",
   "execution_count": 100,
   "metadata": {},
   "outputs": [
    {
     "data": {
      "image/png": "[encoded data removed]",
      "text/plain": [
       "<matplotlib.figure.Figure at 0x28532fac7f0>"
      ]
     },
     "metadata": {},
     "output_type": "display_data"
    }
   ],
   "source": [
    "train_auc= clf.cv_results_['mean_train_score']\n",
    "train_auc_std= clf.cv_results_['std_train_score']\n",
    "cv_auc = clf.cv_results_['mean_test_score'] \n",
    "cv_auc_std= clf.cv_results_['std_test_score']\n",
    "C=[0.0001,0.001,0.01,0.1,0.05,5,10,15,20,25,30,35,40,45,50,55,60,70,80,90,100]\n",
    "plt.plot(C, train_auc, label='Train AUC')\n",
    "# this code is copied from here: https://stackoverflow.com/a/48803361/4084039\n",
    "plt.gca().fill_between(C,train_auc - train_auc_std,train_auc + train_auc_std,alpha=0.2,color='darkblue')\n",
    "\n",
    "plt.plot(C, cv_auc, label='CV AUC')\n",
    "# this code is copied from here: https://stackoverflow.com/a/48803361/4084039\n",
    "plt.gca().fill_between(C,cv_auc - cv_auc_std,cv_auc + cv_auc_std,alpha=0.2,color='darkorange')\n",
    "plt.legend()\n",
    "plt.xlabel(\"log(C): hyperparameter\")\n",
    "plt.ylabel(\"AUC\")\n",
    "plt.title(\"ERROR PLOTS\")\n",
    "plt.show()"
   ]
  },
  {
   "cell_type": "code",
   "execution_count": 101,
   "metadata": {},
   "outputs": [
    {
     "name": "stdout",
     "output_type": "stream",
     "text": [
      "best estimator is :\n",
      " LogisticRegression(C=5, class_weight='balanced', dual=False,\n",
      "          fit_intercept=True, intercept_scaling=1, max_iter=100,\n",
      "          multi_class='warn', n_jobs=-1, penalty='l1', random_state=None,\n",
      "          solver='warn', tol=0.0001, verbose=0, warm_start=False)\n"
     ]
    }
   ],
   "source": [
    "print(\"best estimator is :\\n\",clf.best_estimator_)"
   ]
  },
  {
   "cell_type": "code",
   "execution_count": 102,
   "metadata": {},
   "outputs": [],
   "source": [
    "log_reg=LogisticRegression(C=5,penalty='l1',class_weight='balanced')\n",
    "\n",
    "log_reg.fit(X_train_tf_idf,y_train)\n",
    "train_fpr, train_tpr, thresholds = roc_curve(y_train, log_reg.predict_proba(X_train_tf_idf)[:,1])\n",
    "test_fpr, test_tpr, thresholds = roc_curve(y_test, log_reg.predict_proba(X_test_tf_idf)[:,1])"
   ]
  },
  {
   "cell_type": "code",
   "execution_count": 103,
   "metadata": {},
   "outputs": [
    {
     "data": {
      "image/png": "[encoded data removed]",
      "text/plain": [
       "<matplotlib.figure.Figure at 0x28533aeaf98>"
      ]
     },
     "metadata": {},
     "output_type": "display_data"
    },
    {
     "name": "stdout",
     "output_type": "stream",
     "text": [
      "====================================================================================================\n",
      "Train confusion matrix\n",
      "[[ 9858    29]\n",
      " [ 1512 55601]]\n",
      "====================================================================================================\n",
      "Test confusion matrix\n",
      "[[ 3981   908]\n",
      " [ 1612 26499]]\n"
     ]
    }
   ],
   "source": [
    "plt.plot(train_fpr, train_tpr, label=\"train AUC =\"+str(auc(train_fpr, train_tpr)))\n",
    "plt.plot(test_fpr, test_tpr, label=\"test AUC =\"+str(auc(test_fpr, test_tpr)))\n",
    "plt.legend()\n",
    "plt.xlabel(\"FPR\")\n",
    "plt.ylabel(\"TPR\")\n",
    "plt.title(\"ERROR PLOTS\")\n",
    "plt.show()\n",
    "\n",
    "print(\"=\"*100)\n",
    "\n",
    "from sklearn.metrics import confusion_matrix\n",
    "print(\"Train confusion matrix\")\n",
    "print(confusion_matrix(y_train, log_reg.predict(X_train_tf_idf)))\n",
    "print(\"=\"*100)\n",
    "print(\"Test confusion matrix\")\n",
    "print(confusion_matrix(y_test, log_reg.predict(X_test_tf_idf)))"
   ]
  },
  {
   "cell_type": "code",
   "execution_count": 104,
   "metadata": {},
   "outputs": [
    {
     "name": "stdout",
     "output_type": "stream",
     "text": [
      "Heatmap of train confusion matrix\n"
     ]
    },
    {
     "data": {
      "text/plain": [
       "Text(33,0.5,'Actual Class')"
      ]
     },
     "execution_count": 104,
     "metadata": {},
     "output_type": "execute_result"
    },
    {
     "data": {
      "image/png": "[encoded data removed]",
      "text/plain": [
       "<matplotlib.figure.Figure at 0x28532446978>"
      ]
     },
     "metadata": {},
     "output_type": "display_data"
    }
   ],
   "source": [
    "print(\"Heatmap of train confusion matrix\")\n",
    "import seaborn as sns\n",
    "confusion_matrix_TFIDF = confusion_matrix(y_train, log_reg.predict(X_train_tf_idf))\n",
    "\n",
    "df_cm=pd.DataFrame(confusion_matrix_TFIDF,index=[\"Negative:0\",\"Positive:1\"],columns=[\"Negative\",\"Positive\"],)\n",
    "sns.heatmap(df_cm,annot=True,fmt='d')\n",
    "plt.title(\"Confusion Matrix\")\n",
    "plt.xlabel(\"Predicted Class\")\n",
    "plt.ylabel(\"Actual Class\")"
   ]
  },
  {
   "cell_type": "code",
   "execution_count": 105,
   "metadata": {},
   "outputs": [
    {
     "name": "stdout",
     "output_type": "stream",
     "text": [
      "Heatmap of test confusion matrix\n"
     ]
    },
    {
     "data": {
      "text/plain": [
       "Text(33,0.5,'Actual Class')"
      ]
     },
     "execution_count": 105,
     "metadata": {},
     "output_type": "execute_result"
    },
    {
     "data": {
      "image/png": "[encoded data removed]",
      "text/plain": [
       "<matplotlib.figure.Figure at 0x2853045de48>"
      ]
     },
     "metadata": {},
     "output_type": "display_data"
    }
   ],
   "source": [
    "print(\"Heatmap of test confusion matrix\")\n",
    "import seaborn as sns\n",
    "confusion_matrix_TFIDF = confusion_matrix(y_test, log_reg.predict(X_test_tf_idf))\n",
    "\n",
    "df_cm=pd.DataFrame(confusion_matrix_TFIDF,index=[\"Negative:0\",\"Positive:1\"],columns=[\"Negative\",\"Positive\"],)\n",
    "sns.heatmap(df_cm,annot=True,fmt='d')\n",
    "plt.title(\"Confusion Matrix\")\n",
    "plt.xlabel(\"Predicted Class\")\n",
    "plt.ylabel(\"Actual Class\")"
   ]
  },
  {
   "cell_type": "markdown",
   "metadata": {
    "colab_type": "text",
    "id": "m3YEHTLPLPod"
   },
   "source": [
    "##  Avg Word2Vec"
   ]
  },
  {
   "cell_type": "markdown",
   "metadata": {},
   "source": [
    "### Converting text into vectors using Avg W2V"
   ]
  },
  {
   "cell_type": "code",
   "execution_count": 106,
   "metadata": {
    "colab": {},
    "colab_type": "code",
    "id": "zwPZCf8cLPoe"
   },
   "outputs": [],
   "source": [
    "i=0\n",
    "list_of_sentance_train=[]\n",
    "for sentance in X_train:\n",
    "    list_of_sentance_train.append(sentance.split())\n"
   ]
  },
  {
   "cell_type": "code",
   "execution_count": 107,
   "metadata": {
    "colab": {},
    "colab_type": "code",
    "id": "8ddGZNUfLPog",
    "outputId": "390d4ccb-cda2-4391-83e9-0e502b578171",
    "scrolled": true
   },
   "outputs": [
    {
     "name": "stdout",
     "output_type": "stream",
     "text": [
      "[('fantastic', 0.8460413217544556), ('terrific', 0.8438283801078796), ('good', 0.841871976852417), ('awesome', 0.841789960861206), ('wonderful', 0.829041600227356), ('excellent', 0.8117685317993164), ('perfect', 0.7637959122657776), ('amazing', 0.7529999017715454), ('fabulous', 0.7215555310249329), ('incredible', 0.695601761341095)]\n",
      "==================================================\n",
      "[('nastiest', 0.7941640615463257), ('greatest', 0.7499529123306274), ('disgusting', 0.7321649789810181), ('best', 0.7056533694267273), ('awful', 0.651665449142456), ('horrible', 0.6460586786270142), ('tastiest', 0.6258500218391418), ('terrible', 0.6253858804702759), ('weirdest', 0.6151825785636902), ('closest', 0.5976757407188416)]\n"
     ]
    }
   ],
   "source": [
    "# min_count = 5 considers only words that occured atleast 5 times\n",
    "w2v_model_train=Word2Vec(list_of_sentance_train,min_count=5,size=50, workers=4)\n",
    "print(w2v_model_train.wv.most_similar('great'))\n",
    "print('='*50)\n",
    "print(w2v_model_train.wv.most_similar('worst'))"
   ]
  },
  {
   "cell_type": "code",
   "execution_count": 108,
   "metadata": {
    "colab": {},
    "colab_type": "code",
    "id": "bRWXmmnWLPoo",
    "outputId": "1cc345e7-d991-49b8-f1b7-a0d81f0b97e6"
   },
   "outputs": [
    {
     "name": "stdout",
     "output_type": "stream",
     "text": [
      "number of words that occured minimum 5 times  15753\n",
      "sample words  ['bought', 'pack', 'would', 'no', 'excuse', 'skip', 'breakfast', 'anymore', 'great', 'list', 'healthy', 'ingredients', 'calories', 'freezer', 'storage', 'recommended', 'preferred', 'means', 'pretty', 'much', 'always', 'fresh', 'stock', 'hand', 'toast', 'able', 'easy', 'grab', 'go', 'along', 'pluses', 'pros', 'filling', 'con', 'happens', 'taste', 'little', 'banana', 'flavor', 'mostly', 'sort', 'bland', 'vague', 'label', 'fiber', 'since', 'not', 'like', 'anything', 'baker']\n"
     ]
    }
   ],
   "source": [
    "w2v_words_train = list(w2v_model_train.wv.vocab)\n",
    "print(\"number of words that occured minimum 5 times \",len(w2v_words_train))\n",
    "print(\"sample words \", w2v_words_train[0:50])"
   ]
  },
  {
   "cell_type": "markdown",
   "metadata": {},
   "source": [
    "#### Converting train data into vector form"
   ]
  },
  {
   "cell_type": "code",
   "execution_count": 109,
   "metadata": {},
   "outputs": [
    {
     "name": "stderr",
     "output_type": "stream",
     "text": [
      "100%|███████████████████████████████████████████████████████████████████████████| 67000/67000 [01:51<00:00, 599.72it/s]\n"
     ]
    },
    {
     "name": "stdout",
     "output_type": "stream",
     "text": [
      "(67000, 50)\n",
      "[-0.63751907  0.30615309 -0.40886767 -0.01986365  0.34516596  0.26690926\n",
      "  0.1440085  -0.79445849 -0.56265028  0.35077218  0.05141379  0.16222884\n",
      " -0.16297508  0.14721672  0.22178926 -0.32674093  0.64970903  0.50098276\n",
      "  0.20893083  0.35892946  0.51518542  0.20309765  0.22399968 -0.32727297\n",
      "  0.05954233  0.2145851  -0.11607401 -0.34529807  0.42942406  0.65028147\n",
      "  0.37013391  0.24743986  0.03455069  0.44350544  0.10662103 -0.31662881\n",
      " -0.36784708  0.29177722  0.33655069 -0.02065363  0.72785245 -1.12792214\n",
      " -0.29516562 -0.25936541 -0.52509573 -0.26732188 -0.39955734  0.07178229\n",
      " -0.04927769  0.54085545]\n"
     ]
    }
   ],
   "source": [
    "# average Word2Vec\n",
    "# compute average word2vec for each review.\n",
    "sent_vectors_train = []; # the avg-w2v for each sentence/review is stored in this list\n",
    "for sent in tqdm(list_of_sentance_train): # for each review/sentence\n",
    "    sent_vec_train = np.zeros(50) # as word vectors are of zero length 50, you might need to change this to 300 if you use google's w2v\n",
    "    cnt_words_train =0; # num of words with a valid vector in the sentence/review\n",
    "    for word in sent: # for each word in a review/sentence\n",
    "        if word in w2v_words_train:\n",
    "            vec_train = w2v_model_train.wv[word]\n",
    "            sent_vec_train += vec_train\n",
    "            cnt_words_train += 1\n",
    "    if cnt_words_train != 0:\n",
    "        sent_vec_train /= cnt_words_train\n",
    "    sent_vectors_train.append(sent_vec_train)\n",
    "sent_vectors_train = np.array(sent_vectors_train)\n",
    "print(sent_vectors_train.shape)\n",
    "print(sent_vectors_train[0])"
   ]
  },
  {
   "cell_type": "markdown",
   "metadata": {},
   "source": [
    "#### Converting test data into vector form"
   ]
  },
  {
   "cell_type": "code",
   "execution_count": 110,
   "metadata": {},
   "outputs": [],
   "source": [
    "i=0\n",
    "list_of_sentance_test=[]\n",
    "for sentance in X_test:\n",
    "    list_of_sentance_test.append(sentance.split())"
   ]
  },
  {
   "cell_type": "code",
   "execution_count": 111,
   "metadata": {},
   "outputs": [
    {
     "name": "stderr",
     "output_type": "stream",
     "text": [
      "100%|███████████████████████████████████████████████████████████████████████████| 33000/33000 [00:53<00:00, 621.73it/s]\n"
     ]
    },
    {
     "name": "stdout",
     "output_type": "stream",
     "text": [
      "(33000, 50)\n",
      "[-0.42995984 -0.17277454 -0.27196997 -0.92779993  0.14050733 -0.02368575\n",
      "  0.50080695 -0.81534795 -0.6399435  -0.38032968  0.51483928  0.42588141\n",
      " -0.20536115  0.32548483 -0.21353622 -0.68588617  0.65620571  0.52495859\n",
      "  0.24468457  0.86662044  0.18280585  0.26120631  0.30423035 -0.07056452\n",
      "  0.1537393   0.80405266 -0.27587752 -1.39594357  0.11552332  0.26071491\n",
      "  0.44456977 -0.00212141  0.0398033   0.1962905  -0.34522445 -0.45660024\n",
      " -1.04294203 -0.12883497  0.06925711 -0.99338691  0.36184042 -1.3754428\n",
      " -0.88499929 -0.70802006 -1.44214304 -0.71957768 -0.61526415 -0.94180378\n",
      " -0.10612583  0.56630885]\n"
     ]
    }
   ],
   "source": [
    "# average Word2Vec\n",
    "# compute average word2vec for each review.\n",
    "sent_vectors_test = []; # the avg-w2v for each sentence/review is stored in this list\n",
    "for sent in tqdm(list_of_sentance_test): # for each review/sentence\n",
    "    sent_vec = np.zeros(50) # as word vectors are of zero length 50, you might need to change this to 300 if you use google's w2v\n",
    "    cnt_words =0; # num of words with a valid vector in the sentence/review\n",
    "    for word in sent: # for each word in a review/sentence\n",
    "        if word in w2v_words_train:\n",
    "            vec = w2v_model_train.wv[word]\n",
    "            sent_vec += vec\n",
    "            cnt_words += 1\n",
    "    if cnt_words != 0:\n",
    "        sent_vec /= cnt_words\n",
    "    sent_vectors_test.append(sent_vec)\n",
    "sent_vectors_test = np.array(sent_vectors_test)\n",
    "print(sent_vectors_test.shape)\n",
    "print(sent_vectors_test[0])"
   ]
  },
  {
   "cell_type": "markdown",
   "metadata": {},
   "source": [
    "### Applying Logistic Regression with L2 regularization on AvgW2V\n"
   ]
  },
  {
   "cell_type": "markdown",
   "metadata": {},
   "source": [
    "#### Applying gridsearch to do hyperparameter tuning"
   ]
  },
  {
   "cell_type": "code",
   "execution_count": 112,
   "metadata": {},
   "outputs": [
    {
     "data": {
      "text/plain": [
       "GridSearchCV(cv=10, error_score='raise-deprecating',\n",
       "       estimator=LogisticRegression(C=1.0, class_weight='balanced', dual=False,\n",
       "          fit_intercept=True, intercept_scaling=1, max_iter=100,\n",
       "          multi_class='warn', n_jobs=-1, penalty='l2', random_state=None,\n",
       "          solver='warn', tol=0.0001, verbose=0, warm_start=False),\n",
       "       fit_params=None, iid='warn', n_jobs=None,\n",
       "       param_grid={'C': [0.0001, 0.001, 0.01, 0.1, 0.05, 5, 10, 15, 20, 25, 30, 35, 40, 45, 50, 55, 60, 70, 80, 90, 100]},\n",
       "       pre_dispatch='2*n_jobs', refit=True, return_train_score='warn',\n",
       "       scoring='roc_auc', verbose=0)"
      ]
     },
     "execution_count": 112,
     "metadata": {},
     "output_type": "execute_result"
    }
   ],
   "source": [
    "log_clf_w2v = LogisticRegression(n_jobs=-1,penalty='l2',class_weight='balanced')\n",
    "parameters = {'C':[0.0001,0.001,0.01,0.1,0.05,5,10,15,20,25,30,35,40,45,50,55,60,70,80,90,100]}\n",
    "clf = GridSearchCV(log_clf_w2v, parameters, cv=10, scoring='roc_auc')\n",
    "clf.fit(sent_vectors_train, y_train)"
   ]
  },
  {
   "cell_type": "code",
   "execution_count": 113,
   "metadata": {},
   "outputs": [
    {
     "data": {
      "image/png": "[encoded data removed]",
      "text/plain": [
       "<matplotlib.figure.Figure at 0x285b76bcf28>"
      ]
     },
     "metadata": {},
     "output_type": "display_data"
    }
   ],
   "source": [
    "train_auc= clf.cv_results_['mean_train_score']\n",
    "train_auc_std= clf.cv_results_['std_train_score']\n",
    "cv_auc = clf.cv_results_['mean_test_score'] \n",
    "cv_auc_std= clf.cv_results_['std_test_score']\n",
    "C=[0.0001,0.001,0.01,0.1,0.05,5,10,15,20,25,30,35,40,45,50,55,60,70,80,90,100]\n",
    "plt.plot(C, train_auc, label='Train AUC')\n",
    "# this code is copied from here: https://stackoverflow.com/a/48803361/4084039\n",
    "plt.gca().fill_between(C,train_auc - train_auc_std,train_auc + train_auc_std,alpha=0.2,color='darkblue')\n",
    "\n",
    "plt.plot(C, cv_auc, label='CV AUC')\n",
    "# this code is copied from here: https://stackoverflow.com/a/48803361/4084039\n",
    "plt.gca().fill_between(C,cv_auc - cv_auc_std,cv_auc + cv_auc_std,alpha=0.2,color='darkorange')\n",
    "plt.legend()\n",
    "plt.xlabel(\"log(C): hyperparameter\")\n",
    "plt.ylabel(\"AUC\")\n",
    "plt.title(\"ERROR PLOTS\")\n",
    "plt.show()"
   ]
  },
  {
   "cell_type": "code",
   "execution_count": 114,
   "metadata": {},
   "outputs": [
    {
     "data": {
      "text/plain": [
       "LogisticRegression(C=0.05, class_weight='balanced', dual=False,\n",
       "          fit_intercept=True, intercept_scaling=1, max_iter=100,\n",
       "          multi_class='warn', n_jobs=-1, penalty='l2', random_state=None,\n",
       "          solver='warn', tol=0.0001, verbose=0, warm_start=False)"
      ]
     },
     "execution_count": 114,
     "metadata": {},
     "output_type": "execute_result"
    }
   ],
   "source": [
    "clf.best_estimator_"
   ]
  },
  {
   "cell_type": "markdown",
   "metadata": {},
   "source": [
    "### Testing with test data"
   ]
  },
  {
   "cell_type": "code",
   "execution_count": 115,
   "metadata": {},
   "outputs": [],
   "source": [
    "log_reg=LogisticRegression(C=0.05,penalty='l2',class_weight='balanced')\n",
    "\n",
    "log_reg.fit(sent_vectors_train,y_train)\n",
    "train_fpr, train_tpr, thresholds = roc_curve(y_train, log_reg.predict_proba(sent_vectors_train)[:,1])\n",
    "test_fpr, test_tpr, thresholds = roc_curve(y_test, log_reg.predict_proba(sent_vectors_test)[:,1])"
   ]
  },
  {
   "cell_type": "code",
   "execution_count": 116,
   "metadata": {},
   "outputs": [
    {
     "data": {
      "image/png": "[encoded data removed]",
      "text/plain": [
       "<matplotlib.figure.Figure at 0x285b76a9390>"
      ]
     },
     "metadata": {},
     "output_type": "display_data"
    },
    {
     "name": "stdout",
     "output_type": "stream",
     "text": [
      "====================================================================================================\n",
      "Train confusion matrix\n",
      "[[ 8386  1501]\n",
      " [10748 46365]]\n",
      "====================================================================================================\n",
      "Test confusion matrix\n",
      "[[ 4117   772]\n",
      " [ 5154 22957]]\n"
     ]
    }
   ],
   "source": [
    "plt.plot(train_fpr, train_tpr, label=\"train AUC =\"+str(auc(train_fpr, train_tpr)))\n",
    "plt.plot(test_fpr, test_tpr, label=\"test AUC =\"+str(auc(test_fpr, test_tpr)))\n",
    "plt.legend()\n",
    "plt.xlabel(\"FPR\")\n",
    "plt.ylabel(\"TPR\")\n",
    "plt.title(\"ERROR PLOTS\")\n",
    "plt.show()\n",
    "\n",
    "print(\"=\"*100)\n",
    "\n",
    "from sklearn.metrics import confusion_matrix\n",
    "print(\"Train confusion matrix\")\n",
    "print(confusion_matrix(y_train, log_reg.predict(sent_vectors_train)))\n",
    "print(\"=\"*100)\n",
    "print(\"Test confusion matrix\")\n",
    "print(confusion_matrix(y_test, log_reg.predict(sent_vectors_test)))"
   ]
  },
  {
   "cell_type": "code",
   "execution_count": 117,
   "metadata": {},
   "outputs": [
    {
     "name": "stdout",
     "output_type": "stream",
     "text": [
      "Heatmap of train confusion matrix\n"
     ]
    },
    {
     "data": {
      "text/plain": [
       "Text(33,0.5,'Actual Class')"
      ]
     },
     "execution_count": 117,
     "metadata": {},
     "output_type": "execute_result"
    },
    {
     "data": {
      "image/png": "[encoded data removed]",
      "text/plain": [
       "<matplotlib.figure.Figure at 0x285b76df240>"
      ]
     },
     "metadata": {},
     "output_type": "display_data"
    }
   ],
   "source": [
    "print(\"Heatmap of train confusion matrix\")\n",
    "import seaborn as sns\n",
    "confusion_matrix_w2v = confusion_matrix(y_train, log_reg.predict(sent_vectors_train))\n",
    "\n",
    "df_cm=pd.DataFrame(confusion_matrix_w2v,index=[\"Negative:0\",\"Positive:1\"],columns=[\"Negative\",\"Positive\"],)\n",
    "sns.heatmap(df_cm,annot=True,fmt='d')\n",
    "plt.title(\"Confusion Matrix\")\n",
    "plt.xlabel(\"Predicted Class\")\n",
    "plt.ylabel(\"Actual Class\")"
   ]
  },
  {
   "cell_type": "code",
   "execution_count": 118,
   "metadata": {},
   "outputs": [
    {
     "name": "stdout",
     "output_type": "stream",
     "text": [
      "Heatmap of train confusion matrix\n"
     ]
    },
    {
     "data": {
      "text/plain": [
       "Text(33,0.5,'Actual Class')"
      ]
     },
     "execution_count": 118,
     "metadata": {},
     "output_type": "execute_result"
    },
    {
     "data": {
      "image/png": "[encoded data removed]",
      "text/plain": [
       "<matplotlib.figure.Figure at 0x285b76a9400>"
      ]
     },
     "metadata": {},
     "output_type": "display_data"
    }
   ],
   "source": [
    "print(\"Heatmap of train confusion matrix\")\n",
    "import seaborn as sns\n",
    "confusion_matrix_w2v = confusion_matrix(y_test, log_reg.predict(sent_vectors_test))\n",
    "\n",
    "df_cm=pd.DataFrame(confusion_matrix_w2v,index=[\"Negative:0\",\"Positive:1\"],columns=[\"Negative\",\"Positive\"],)\n",
    "sns.heatmap(df_cm,annot=True,fmt='d')\n",
    "plt.title(\"Confusion Matrix\")\n",
    "plt.xlabel(\"Predicted Class\")\n",
    "plt.ylabel(\"Actual Class\")"
   ]
  },
  {
   "cell_type": "markdown",
   "metadata": {},
   "source": [
    "### Applying Logistic Regression with L1 regularization on AvgW2V"
   ]
  },
  {
   "cell_type": "markdown",
   "metadata": {},
   "source": [
    "#### Applying gridsearch to do hyperparameter tuning"
   ]
  },
  {
   "cell_type": "code",
   "execution_count": 119,
   "metadata": {},
   "outputs": [
    {
     "data": {
      "text/plain": [
       "GridSearchCV(cv=10, error_score='raise-deprecating',\n",
       "       estimator=LogisticRegression(C=1.0, class_weight='balanced', dual=False,\n",
       "          fit_intercept=True, intercept_scaling=1, max_iter=100,\n",
       "          multi_class='warn', n_jobs=-1, penalty='l1', random_state=None,\n",
       "          solver='warn', tol=0.0001, verbose=0, warm_start=False),\n",
       "       fit_params=None, iid='warn', n_jobs=None,\n",
       "       param_grid={'C': [0.0001, 0.001, 0.01, 0.1, 0.05, 5, 10, 15, 20, 25, 30, 35, 40, 45, 50, 55, 60, 70, 80, 90, 100]},\n",
       "       pre_dispatch='2*n_jobs', refit=True, return_train_score='warn',\n",
       "       scoring='roc_auc', verbose=0)"
      ]
     },
     "execution_count": 119,
     "metadata": {},
     "output_type": "execute_result"
    }
   ],
   "source": [
    "#Applying L1 regularizer on logistic regression AvgW2V\n",
    "\n",
    "log_clf_w2v = LogisticRegression(n_jobs=-1,penalty='l1',class_weight='balanced')\n",
    "parameters = {'C':[0.0001,0.001,0.01,0.1,0.05,5,10,15,20,25,30,35,40,45,50,55,60,70,80,90,100]}\n",
    "clf = GridSearchCV(log_clf_w2v, parameters, cv=10, scoring='roc_auc')\n",
    "clf.fit(sent_vectors_train, y_train)"
   ]
  },
  {
   "cell_type": "code",
   "execution_count": 120,
   "metadata": {},
   "outputs": [
    {
     "data": {
      "image/png": "[encoded data removed]",
      "text/plain": [
       "<matplotlib.figure.Figure at 0x285b76a9c88>"
      ]
     },
     "metadata": {},
     "output_type": "display_data"
    }
   ],
   "source": [
    "train_auc= clf.cv_results_['mean_train_score']\n",
    "train_auc_std= clf.cv_results_['std_train_score']\n",
    "cv_auc = clf.cv_results_['mean_test_score'] \n",
    "cv_auc_std= clf.cv_results_['std_test_score']\n",
    "C=[0.0001,0.001,0.01,0.1,0.05,5,10,15,20,25,30,35,40,45,50,55,60,70,80,90,100]\n",
    "plt.plot(C, train_auc, label='Train AUC')\n",
    "# this code is copied from here: https://stackoverflow.com/a/48803361/4084039\n",
    "plt.gca().fill_between(C,train_auc - train_auc_std,train_auc + train_auc_std,alpha=0.2,color='darkblue')\n",
    "\n",
    "plt.plot(C, cv_auc, label='CV AUC')\n",
    "# this code is copied from here: https://stackoverflow.com/a/48803361/4084039\n",
    "plt.gca().fill_between(C,cv_auc - cv_auc_std,cv_auc + cv_auc_std,alpha=0.2,color='darkorange')\n",
    "plt.legend()\n",
    "plt.xlabel(\"log(C): hyperparameter\")\n",
    "plt.ylabel(\"AUC\")\n",
    "plt.title(\"ERROR PLOTS\")\n",
    "plt.show()"
   ]
  },
  {
   "cell_type": "code",
   "execution_count": 121,
   "metadata": {},
   "outputs": [
    {
     "data": {
      "text/plain": [
       "LogisticRegression(C=35, class_weight='balanced', dual=False,\n",
       "          fit_intercept=True, intercept_scaling=1, max_iter=100,\n",
       "          multi_class='warn', n_jobs=-1, penalty='l1', random_state=None,\n",
       "          solver='warn', tol=0.0001, verbose=0, warm_start=False)"
      ]
     },
     "execution_count": 121,
     "metadata": {},
     "output_type": "execute_result"
    }
   ],
   "source": [
    "clf.best_estimator_"
   ]
  },
  {
   "cell_type": "markdown",
   "metadata": {},
   "source": [
    "### Testing with test data"
   ]
  },
  {
   "cell_type": "code",
   "execution_count": 122,
   "metadata": {},
   "outputs": [],
   "source": [
    "log_reg=LogisticRegression(C=35,penalty='l1',class_weight='balanced')\n",
    "\n",
    "log_reg.fit(sent_vectors_train,y_train)\n",
    "train_fpr, train_tpr, thresholds = roc_curve(y_train, log_reg.predict_proba(sent_vectors_train)[:,1])\n",
    "test_fpr, test_tpr, thresholds = roc_curve(y_test, log_reg.predict_proba(sent_vectors_test)[:,1])"
   ]
  },
  {
   "cell_type": "code",
   "execution_count": 123,
   "metadata": {},
   "outputs": [
    {
     "data": {
      "image/png": "[encoded data removed]",
      "text/plain": [
       "<matplotlib.figure.Figure at 0x285b76ba080>"
      ]
     },
     "metadata": {},
     "output_type": "display_data"
    },
    {
     "name": "stdout",
     "output_type": "stream",
     "text": [
      "====================================================================================================\n",
      "Train confusion matrix\n",
      "[[ 8380  1507]\n",
      " [10707 46406]]\n",
      "====================================================================================================\n",
      "Test confusion matrix\n",
      "[[ 4119   770]\n",
      " [ 5141 22970]]\n"
     ]
    }
   ],
   "source": [
    "plt.plot(train_fpr, train_tpr, label=\"train AUC =\"+str(auc(train_fpr, train_tpr)))\n",
    "plt.plot(test_fpr, test_tpr, label=\"test AUC =\"+str(auc(test_fpr, test_tpr)))\n",
    "plt.legend()\n",
    "plt.xlabel(\"FPR\")\n",
    "plt.ylabel(\"TPR\")\n",
    "plt.title(\"ERROR PLOTS\")\n",
    "plt.show()\n",
    "\n",
    "print(\"=\"*100)\n",
    "\n",
    "from sklearn.metrics import confusion_matrix\n",
    "print(\"Train confusion matrix\")\n",
    "print(confusion_matrix(y_train, log_reg.predict(sent_vectors_train)))\n",
    "print(\"=\"*100)\n",
    "print(\"Test confusion matrix\")\n",
    "print(confusion_matrix(y_test, log_reg.predict(sent_vectors_test)))"
   ]
  },
  {
   "cell_type": "code",
   "execution_count": 124,
   "metadata": {},
   "outputs": [
    {
     "name": "stdout",
     "output_type": "stream",
     "text": [
      "Heatmap of train confusion matrix\n"
     ]
    },
    {
     "data": {
      "text/plain": [
       "Text(33,0.5,'Actual Class')"
      ]
     },
     "execution_count": 124,
     "metadata": {},
     "output_type": "execute_result"
    },
    {
     "data": {
      "image/png": "[encoded data removed]",
      "text/plain": [
       "<matplotlib.figure.Figure at 0x285b76f4390>"
      ]
     },
     "metadata": {},
     "output_type": "display_data"
    }
   ],
   "source": [
    "print(\"Heatmap of train confusion matrix\")\n",
    "import seaborn as sns\n",
    "confusion_matrix_w2v = confusion_matrix(y_train, log_reg.predict(sent_vectors_train))\n",
    "\n",
    "df_cm=pd.DataFrame(confusion_matrix_w2v,index=[\"Negative:0\",\"Positive:1\"],columns=[\"Negative\",\"Positive\"],)\n",
    "sns.heatmap(df_cm,annot=True,fmt='d')\n",
    "plt.title(\"Confusion Matrix\")\n",
    "plt.xlabel(\"Predicted Class\")\n",
    "plt.ylabel(\"Actual Class\")"
   ]
  },
  {
   "cell_type": "code",
   "execution_count": 125,
   "metadata": {},
   "outputs": [
    {
     "name": "stdout",
     "output_type": "stream",
     "text": [
      "Heatmap of test confusion matrix\n"
     ]
    },
    {
     "data": {
      "text/plain": [
       "Text(33,0.5,'Actual Class')"
      ]
     },
     "execution_count": 125,
     "metadata": {},
     "output_type": "execute_result"
    },
    {
     "data": {
      "image/png": "[encoded data removed]",
      "text/plain": [
       "<matplotlib.figure.Figure at 0x285b77b1f98>"
      ]
     },
     "metadata": {},
     "output_type": "display_data"
    }
   ],
   "source": [
    "print(\"Heatmap of test confusion matrix\")\n",
    "import seaborn as sns\n",
    "confusion_matrix_w2v = confusion_matrix(y_test, log_reg.predict(sent_vectors_test))\n",
    "\n",
    "df_cm=pd.DataFrame(confusion_matrix_w2v,index=[\"Negative:0\",\"Positive:1\"],columns=[\"Negative\",\"Positive\"],)\n",
    "sns.heatmap(df_cm,annot=True,fmt='d')\n",
    "plt.title(\"Confusion Matrix\")\n",
    "plt.xlabel(\"Predicted Class\")\n",
    "plt.ylabel(\"Actual Class\")"
   ]
  },
  {
   "cell_type": "markdown",
   "metadata": {},
   "source": [
    "## TFIDF weighted W2V"
   ]
  },
  {
   "cell_type": "markdown",
   "metadata": {
    "colab_type": "text",
    "id": "2sHfb529LPow"
   },
   "source": [
    "### Converting text into vectors using TFIDF Weighted W2V"
   ]
  },
  {
   "cell_type": "code",
   "execution_count": 127,
   "metadata": {
    "colab": {},
    "colab_type": "code",
    "id": "sb_wDjAqLPow"
   },
   "outputs": [],
   "source": [
    "model = TfidfVectorizer()\n",
    "tf_idf_matrix_train = model.fit_transform(X_train)\n",
    "tf_idf_matrix_test = model.transform(X_test)\n",
    "# we are converting a dictionary with word as a key, and the idf as a value\n",
    "dictionary = dict(zip(model.get_feature_names(), list(model.idf_)))"
   ]
  },
  {
   "cell_type": "code",
   "execution_count": 128,
   "metadata": {},
   "outputs": [],
   "source": [
    "#train data\n",
    "i=0\n",
    "list_of_sentance_train=[]\n",
    "for sentance in X_train:\n",
    "    list_of_sentance_train.append(sentance.split())"
   ]
  },
  {
   "cell_type": "code",
   "execution_count": 129,
   "metadata": {},
   "outputs": [
    {
     "name": "stdout",
     "output_type": "stream",
     "text": [
      "[('terrific', 0.869182825088501), ('awesome', 0.8400696516036987), ('fantastic', 0.8352985978126526), ('good', 0.8340944051742554), ('wonderful', 0.8310648798942566), ('excellent', 0.828655481338501), ('perfect', 0.7735480666160583), ('incredible', 0.7416248321533203), ('amazing', 0.7413120269775391), ('nice', 0.7085621356964111)]\n",
      "==================================================\n",
      "[('disgusting', 0.7362163066864014), ('greatest', 0.7311304211616516), ('best', 0.7279008626937866), ('nastiest', 0.7190055847167969), ('horrible', 0.6298810839653015), ('tastiest', 0.6233830451965332), ('awful', 0.6144516468048096), ('terrible', 0.5910933017730713), ('weirdest', 0.5719798803329468), ('encountered', 0.5674742460250854)]\n"
     ]
    }
   ],
   "source": [
    "#Training word2vec model on train data only\n",
    "# min_count = 5 considers only words that occured atleast 5 times\n",
    "w2v_model_train=Word2Vec(list_of_sentance_train,min_count=5,size=50, workers=4)\n",
    "print(w2v_model_train.wv.most_similar('great'))\n",
    "print('='*50)\n",
    "print(w2v_model_train.wv.most_similar('worst'))"
   ]
  },
  {
   "cell_type": "code",
   "execution_count": 130,
   "metadata": {},
   "outputs": [
    {
     "name": "stdout",
     "output_type": "stream",
     "text": [
      "number of words that occured minimum 5 times  15753\n",
      "sample words  ['bought', 'pack', 'would', 'no', 'excuse', 'skip', 'breakfast', 'anymore', 'great', 'list', 'healthy', 'ingredients', 'calories', 'freezer', 'storage', 'recommended', 'preferred', 'means', 'pretty', 'much', 'always', 'fresh', 'stock', 'hand', 'toast', 'able', 'easy', 'grab', 'go', 'along', 'pluses', 'pros', 'filling', 'con', 'happens', 'taste', 'little', 'banana', 'flavor', 'mostly', 'sort', 'bland', 'vague', 'label', 'fiber', 'since', 'not', 'like', 'anything', 'baker']\n"
     ]
    }
   ],
   "source": [
    "w2v_words_train = list(w2v_model_train.wv.vocab)\n",
    "print(\"number of words that occured minimum 5 times \",len(w2v_words_train))\n",
    "print(\"sample words \", w2v_words_train[0:50])"
   ]
  },
  {
   "cell_type": "markdown",
   "metadata": {},
   "source": [
    "#### Converting train data into vector form"
   ]
  },
  {
   "cell_type": "code",
   "execution_count": 131,
   "metadata": {},
   "outputs": [
    {
     "name": "stderr",
     "output_type": "stream",
     "text": [
      "100%|████████████████████████████████████████████████████████████████████████████| 67000/67000 [28:14<00:00, 39.53it/s]\n"
     ]
    }
   ],
   "source": [
    "# TF-IDF weighted Word2Vec\n",
    "tfidf_feat = model.get_feature_names() # tfidf words/col-names\n",
    "# final_tf_idf is the sparse matrix with row= sentence, col=word and cell_val = tfidf\n",
    "\n",
    "tfidf_sent_vectors_train = []; # the tfidf-w2v for each sentence/review is stored in this list\n",
    "row=0;\n",
    "for sent in tqdm(list_of_sentance_train): # for each review/sentence \n",
    "    sent_vec = np.zeros(50) # as word vectors are of zero length\n",
    "    weight_sum =0; # num of words with a valid vector in the sentence/review\n",
    "    for word in sent: # for each word in a review/sentence\n",
    "        if word in w2v_words_train and word in tfidf_feat:\n",
    "            vec = w2v_model_train.wv[word]\n",
    "#             tf_idf = tf_idf_matrix[row, tfidf_feat.index(word)]\n",
    "            # to reduce the computation we are \n",
    "            # dictionary[word] = idf value of word in whole courpus\n",
    "            # sent.count(word) = tf valeus of word in this review\n",
    "            tf_idf = dictionary[word]*(sent.count(word)/len(sent))\n",
    "            sent_vec += (vec * tf_idf)\n",
    "            weight_sum += tf_idf\n",
    "    if weight_sum != 0:\n",
    "        sent_vec /= weight_sum\n",
    "    tfidf_sent_vectors_train.append(sent_vec)\n",
    "    row += 1"
   ]
  },
  {
   "cell_type": "markdown",
   "metadata": {},
   "source": [
    "#### Converting test data into vector"
   ]
  },
  {
   "cell_type": "code",
   "execution_count": 132,
   "metadata": {},
   "outputs": [],
   "source": [
    "i=0\n",
    "list_of_sentance_test=[]\n",
    "for sentance in X_test:\n",
    "    list_of_sentance_test.append(sentance.split())"
   ]
  },
  {
   "cell_type": "code",
   "execution_count": 133,
   "metadata": {},
   "outputs": [
    {
     "name": "stderr",
     "output_type": "stream",
     "text": [
      "100%|████████████████████████████████████████████████████████████████████████████| 33000/33000 [12:00<00:00, 45.65it/s]\n"
     ]
    }
   ],
   "source": [
    "#test data\n",
    "\n",
    "tfidf_sent_vectors_test = []; # the tfidf-w2v for each sentence/review is stored in this list\n",
    "row=0;\n",
    "for sent in tqdm(list_of_sentance_test): # for each review/sentence \n",
    "    sent_vec = np.zeros(50) # as word vectors are of zero length\n",
    "    weight_sum =0; # num of words with a valid vector in the sentence/review\n",
    "    for word in sent: # for each word in a review/sentence\n",
    "        if word in w2v_words_train and word in tfidf_feat:\n",
    "            vec = w2v_model_train.wv[word]\n",
    "#             tf_idf = tf_idf_matrix[row, tfidf_feat.index(word)]\n",
    "            # to reduce the computation we are \n",
    "            # dictionary[word] = idf value of word in whole courpus\n",
    "            # sent.count(word) = tf valeus of word in this review\n",
    "            tf_idf = dictionary[word]*(sent.count(word)/len(sent))\n",
    "            sent_vec += (vec * tf_idf)\n",
    "            weight_sum += tf_idf\n",
    "    if weight_sum != 0:\n",
    "        sent_vec /= weight_sum\n",
    "    tfidf_sent_vectors_test.append(sent_vec)\n",
    "    row += 1"
   ]
  },
  {
   "cell_type": "markdown",
   "metadata": {},
   "source": [
    "### Applying Logistic Regression with L2 regularization on TFIDF Weighted W2V"
   ]
  },
  {
   "cell_type": "markdown",
   "metadata": {},
   "source": [
    "#### Applying gridsearch to do hyperparameter tuning"
   ]
  },
  {
   "cell_type": "code",
   "execution_count": 134,
   "metadata": {},
   "outputs": [
    {
     "data": {
      "text/plain": [
       "GridSearchCV(cv=10, error_score='raise-deprecating',\n",
       "       estimator=LogisticRegression(C=1.0, class_weight='balanced', dual=False,\n",
       "          fit_intercept=True, intercept_scaling=1, max_iter=100,\n",
       "          multi_class='warn', n_jobs=-1, penalty='l2', random_state=None,\n",
       "          solver='warn', tol=0.0001, verbose=0, warm_start=False),\n",
       "       fit_params=None, iid='warn', n_jobs=None,\n",
       "       param_grid={'C': [0.0001, 0.001, 0.01, 0.1, 0.05, 5, 10, 15, 20, 25, 30, 35, 40, 45, 50, 55, 60, 70, 80, 90, 100]},\n",
       "       pre_dispatch='2*n_jobs', refit=True, return_train_score='warn',\n",
       "       scoring='roc_auc', verbose=0)"
      ]
     },
     "execution_count": 134,
     "metadata": {},
     "output_type": "execute_result"
    }
   ],
   "source": [
    "#Applying L2 regularizer with logistic regression on TFIDF weighted W2V\n",
    "\n",
    "log_clf_w2v = LogisticRegression(n_jobs=-1,penalty='l2',class_weight='balanced')\n",
    "parameters = {'C':[0.0001,0.001,0.01,0.1,0.05,5,10,15,20,25,30,35,40,45,50,55,60,70,80,90,100]}\n",
    "clf = GridSearchCV(log_clf_w2v, parameters, cv=10, scoring='roc_auc')\n",
    "clf.fit(tfidf_sent_vectors_train, y_train)"
   ]
  },
  {
   "cell_type": "code",
   "execution_count": 135,
   "metadata": {},
   "outputs": [
    {
     "data": {
      "image/png": "[encoded data removed]",
      "text/plain": [
       "<matplotlib.figure.Figure at 0x285b7569320>"
      ]
     },
     "metadata": {},
     "output_type": "display_data"
    }
   ],
   "source": [
    "train_auc= clf.cv_results_['mean_train_score']\n",
    "train_auc_std= clf.cv_results_['std_train_score']\n",
    "cv_auc = clf.cv_results_['mean_test_score'] \n",
    "cv_auc_std= clf.cv_results_['std_test_score']\n",
    "C=[0.0001,0.001,0.01,0.1,0.05,5,10,15,20,25,30,35,40,45,50,55,60,70,80,90,100]\n",
    "plt.plot(C, train_auc, label='Train AUC')\n",
    "# this code is copied from here: https://stackoverflow.com/a/48803361/4084039\n",
    "plt.gca().fill_between(C,train_auc - train_auc_std,train_auc + train_auc_std,alpha=0.2,color='darkblue')\n",
    "\n",
    "plt.plot(C, cv_auc, label='CV AUC')\n",
    "# this code is copied from here: https://stackoverflow.com/a/48803361/4084039\n",
    "plt.gca().fill_between(C,cv_auc - cv_auc_std,cv_auc + cv_auc_std,alpha=0.2,color='darkorange')\n",
    "plt.legend()\n",
    "plt.xlabel(\"log(C): hyperparameter\")\n",
    "plt.ylabel(\"AUC\")\n",
    "plt.title(\"ERROR PLOTS\")\n",
    "plt.show()"
   ]
  },
  {
   "cell_type": "code",
   "execution_count": 136,
   "metadata": {},
   "outputs": [
    {
     "data": {
      "text/plain": [
       "LogisticRegression(C=0.05, class_weight='balanced', dual=False,\n",
       "          fit_intercept=True, intercept_scaling=1, max_iter=100,\n",
       "          multi_class='warn', n_jobs=-1, penalty='l2', random_state=None,\n",
       "          solver='warn', tol=0.0001, verbose=0, warm_start=False)"
      ]
     },
     "execution_count": 136,
     "metadata": {},
     "output_type": "execute_result"
    }
   ],
   "source": [
    "clf.best_estimator_"
   ]
  },
  {
   "cell_type": "markdown",
   "metadata": {},
   "source": [
    "### Testing with test data"
   ]
  },
  {
   "cell_type": "code",
   "execution_count": 137,
   "metadata": {},
   "outputs": [],
   "source": [
    "#Testing with Test data\n",
    "\n",
    "log_reg=LogisticRegression(C=0.05,penalty='l2',class_weight='balanced')\n",
    "\n",
    "log_reg.fit(sent_vectors_train,y_train)\n",
    "train_fpr, train_tpr, thresholds = roc_curve(y_train, log_reg.predict_proba(tfidf_sent_vectors_train)[:,1])\n",
    "test_fpr, test_tpr, thresholds = roc_curve(y_test, log_reg.predict_proba(tfidf_sent_vectors_test)[:,1])"
   ]
  },
  {
   "cell_type": "code",
   "execution_count": 138,
   "metadata": {},
   "outputs": [
    {
     "data": {
      "image/png": "[encoded data removed]",
      "text/plain": [
       "<matplotlib.figure.Figure at 0x285b72d2198>"
      ]
     },
     "metadata": {},
     "output_type": "display_data"
    },
    {
     "name": "stdout",
     "output_type": "stream",
     "text": [
      "====================================================================================================\n",
      "Train confusion matrix\n",
      "[[ 7173  2714]\n",
      " [10527 46586]]\n",
      "====================================================================================================\n",
      "Test confusion matrix\n",
      "[[ 3516  1373]\n",
      " [ 5110 23001]]\n"
     ]
    }
   ],
   "source": [
    "plt.plot(train_fpr, train_tpr, label=\"train AUC =\"+str(auc(train_fpr, train_tpr)))\n",
    "plt.plot(test_fpr, test_tpr, label=\"test AUC =\"+str(auc(test_fpr, test_tpr)))\n",
    "plt.legend()\n",
    "plt.xlabel(\"FPR\")\n",
    "plt.ylabel(\"TPR\")\n",
    "plt.title(\"ERROR PLOTS\")\n",
    "plt.show()\n",
    "\n",
    "print(\"=\"*100)\n",
    "\n",
    "from sklearn.metrics import confusion_matrix\n",
    "print(\"Train confusion matrix\")\n",
    "print(confusion_matrix(y_train, log_reg.predict(tfidf_sent_vectors_train)))\n",
    "print(\"=\"*100)\n",
    "print(\"Test confusion matrix\")\n",
    "print(confusion_matrix(y_test, log_reg.predict(tfidf_sent_vectors_test)))"
   ]
  },
  {
   "cell_type": "code",
   "execution_count": 139,
   "metadata": {},
   "outputs": [
    {
     "name": "stdout",
     "output_type": "stream",
     "text": [
      "Heatmap of train confusion matrix\n"
     ]
    },
    {
     "data": {
      "text/plain": [
       "Text(33,0.5,'Actual Class')"
      ]
     },
     "execution_count": 139,
     "metadata": {},
     "output_type": "execute_result"
    },
    {
     "data": {
      "image/png": "[encoded data removed]",
      "text/plain": [
       "<matplotlib.figure.Figure at 0x285b72d26a0>"
      ]
     },
     "metadata": {},
     "output_type": "display_data"
    }
   ],
   "source": [
    "print(\"Heatmap of train confusion matrix\")\n",
    "import seaborn as sns\n",
    "confusion_matrix_train_AvgTFIDF = confusion_matrix(y_train, log_reg.predict(tfidf_sent_vectors_train))\n",
    "\n",
    "df_cm=pd.DataFrame(confusion_matrix_train_AvgTFIDF,index=[\"Negative:0\",\"Positive:1\"],columns=[\"Negative\",\"Positive\"],)\n",
    "sns.heatmap(df_cm,annot=True,fmt='d')\n",
    "plt.title(\"Confusion Matrix\")\n",
    "plt.xlabel(\"Predicted Class\")\n",
    "plt.ylabel(\"Actual Class\")"
   ]
  },
  {
   "cell_type": "code",
   "execution_count": 140,
   "metadata": {},
   "outputs": [
    {
     "name": "stdout",
     "output_type": "stream",
     "text": [
      "Heatmap of test confusion matrix\n"
     ]
    },
    {
     "data": {
      "text/plain": [
       "Text(33,0.5,'Actual Class')"
      ]
     },
     "execution_count": 140,
     "metadata": {},
     "output_type": "execute_result"
    },
    {
     "data": {
      "image/png": "[encoded data removed]",
      "text/plain": [
       "<matplotlib.figure.Figure at 0x285b761b8d0>"
      ]
     },
     "metadata": {},
     "output_type": "display_data"
    }
   ],
   "source": [
    "print(\"Heatmap of test confusion matrix\")\n",
    "import seaborn as sns\n",
    "confusion_matrix_test_AvgTFIDF = confusion_matrix(y_test, log_reg.predict(tfidf_sent_vectors_test))\n",
    "\n",
    "df_cm=pd.DataFrame(confusion_matrix_test_AvgTFIDF,index=[\"Negative:0\",\"Positive:1\"],columns=[\"Negative\",\"Positive\"],)\n",
    "sns.heatmap(df_cm,annot=True,fmt='d')\n",
    "plt.title(\"Confusion Matrix\")\n",
    "plt.xlabel(\"Predicted Class\")\n",
    "plt.ylabel(\"Actual Class\")"
   ]
  },
  {
   "cell_type": "markdown",
   "metadata": {},
   "source": [
    "### Applying Logistic Regression with L1 regularization on TFIDF Weighted W2V"
   ]
  },
  {
   "cell_type": "markdown",
   "metadata": {},
   "source": [
    "#### Applying gridsearch to do hyperparameter tuning"
   ]
  },
  {
   "cell_type": "code",
   "execution_count": 141,
   "metadata": {},
   "outputs": [
    {
     "data": {
      "text/plain": [
       "GridSearchCV(cv=10, error_score='raise-deprecating',\n",
       "       estimator=LogisticRegression(C=1.0, class_weight='balanced', dual=False,\n",
       "          fit_intercept=True, intercept_scaling=1, max_iter=100,\n",
       "          multi_class='warn', n_jobs=-1, penalty='l1', random_state=None,\n",
       "          solver='warn', tol=0.0001, verbose=0, warm_start=False),\n",
       "       fit_params=None, iid='warn', n_jobs=None,\n",
       "       param_grid={'C': [0.0001, 0.001, 0.01, 0.1, 0.05, 5, 10, 15, 20, 25, 30, 35, 40, 45, 50, 55, 60, 70, 80, 90, 100]},\n",
       "       pre_dispatch='2*n_jobs', refit=True, return_train_score='warn',\n",
       "       scoring='roc_auc', verbose=0)"
      ]
     },
     "execution_count": 141,
     "metadata": {},
     "output_type": "execute_result"
    }
   ],
   "source": [
    "#Applying logistic regression with L1 regularizer\n",
    "log_clf_w2v = LogisticRegression(n_jobs=-1,penalty='l1',class_weight='balanced')\n",
    "parameters = {'C':[0.0001,0.001,0.01,0.1,0.05,5,10,15,20,25,30,35,40,45,50,55,60,70,80,90,100]}\n",
    "clf = GridSearchCV(log_clf_w2v, parameters, cv=10, scoring='roc_auc')\n",
    "clf.fit(tfidf_sent_vectors_train, y_train)"
   ]
  },
  {
   "cell_type": "code",
   "execution_count": 142,
   "metadata": {},
   "outputs": [
    {
     "data": {
      "image/png": "[encoded data removed]",
      "text/plain": [
       "<matplotlib.figure.Figure at 0x285b76764e0>"
      ]
     },
     "metadata": {},
     "output_type": "display_data"
    }
   ],
   "source": [
    "train_auc= clf.cv_results_['mean_train_score']\n",
    "train_auc_std= clf.cv_results_['std_train_score']\n",
    "cv_auc = clf.cv_results_['mean_test_score'] \n",
    "cv_auc_std= clf.cv_results_['std_test_score']\n",
    "C=[0.0001,0.001,0.01,0.1,0.05,5,10,15,20,25,30,35,40,45,50,55,60,70,80,90,100]\n",
    "plt.plot(C, train_auc, label='Train AUC')\n",
    "# this code is copied from here: https://stackoverflow.com/a/48803361/4084039\n",
    "plt.gca().fill_between(C,train_auc - train_auc_std,train_auc + train_auc_std,alpha=0.2,color='darkblue')\n",
    "\n",
    "plt.plot(C, cv_auc, label='CV AUC')\n",
    "# this code is copied from here: https://stackoverflow.com/a/48803361/4084039\n",
    "plt.gca().fill_between(C,cv_auc - cv_auc_std,cv_auc + cv_auc_std,alpha=0.2,color='darkorange')\n",
    "plt.legend()\n",
    "plt.xlabel(\"log(C): hyperparameter\")\n",
    "plt.ylabel(\"AUC\")\n",
    "plt.title(\"ERROR PLOTS\")\n",
    "plt.show()"
   ]
  },
  {
   "cell_type": "code",
   "execution_count": 143,
   "metadata": {},
   "outputs": [
    {
     "name": "stdout",
     "output_type": "stream",
     "text": [
      "Best estimator is: LogisticRegression(C=0.1, class_weight='balanced', dual=False,\n",
      "          fit_intercept=True, intercept_scaling=1, max_iter=100,\n",
      "          multi_class='warn', n_jobs=-1, penalty='l1', random_state=None,\n",
      "          solver='warn', tol=0.0001, verbose=0, warm_start=False)\n"
     ]
    }
   ],
   "source": [
    "print(\"Best estimator is:\",clf.best_estimator_)"
   ]
  },
  {
   "cell_type": "code",
   "execution_count": 144,
   "metadata": {},
   "outputs": [],
   "source": [
    "\n",
    "log_reg=LogisticRegression(C=0.1,penalty='l1',class_weight='balanced')\n",
    "\n",
    "log_reg.fit(tfidf_sent_vectors_train,y_train)\n",
    "train_fpr, train_tpr, thresholds = roc_curve(y_train, log_reg.predict_proba(tfidf_sent_vectors_train)[:,1])\n",
    "test_fpr, test_tpr, thresholds = roc_curve(y_test, log_reg.predict_proba(tfidf_sent_vectors_test)[:,1])"
   ]
  },
  {
   "cell_type": "code",
   "execution_count": 145,
   "metadata": {},
   "outputs": [
    {
     "data": {
      "image/png": "[encoded data removed]",
      "text/plain": [
       "<matplotlib.figure.Figure at 0x285ba123128>"
      ]
     },
     "metadata": {},
     "output_type": "display_data"
    },
    {
     "name": "stdout",
     "output_type": "stream",
     "text": [
      "====================================================================================================\n",
      "Train confusion matrix\n",
      "[[ 8132  1755]\n",
      " [12182 44931]]\n",
      "====================================================================================================\n",
      "Test confusion matrix\n",
      "[[ 4001   888]\n",
      " [ 5884 22227]]\n"
     ]
    }
   ],
   "source": [
    "plt.plot(train_fpr, train_tpr, label=\"train AUC =\"+str(auc(train_fpr, train_tpr)))\n",
    "plt.plot(test_fpr, test_tpr, label=\"test AUC =\"+str(auc(test_fpr, test_tpr)))\n",
    "plt.legend()\n",
    "plt.xlabel(\"FPR\")\n",
    "plt.ylabel(\"TPR\")\n",
    "plt.title(\"ERROR PLOTS\")\n",
    "plt.show()\n",
    "\n",
    "print(\"=\"*100)\n",
    "\n",
    "from sklearn.metrics import confusion_matrix\n",
    "print(\"Train confusion matrix\")\n",
    "print(confusion_matrix(y_train, log_reg.predict(tfidf_sent_vectors_train)))\n",
    "print(\"=\"*100)\n",
    "print(\"Test confusion matrix\")\n",
    "print(confusion_matrix(y_test, log_reg.predict(tfidf_sent_vectors_test)))"
   ]
  },
  {
   "cell_type": "code",
   "execution_count": 146,
   "metadata": {},
   "outputs": [
    {
     "name": "stdout",
     "output_type": "stream",
     "text": [
      "Heatmap of train confusion matrix\n"
     ]
    },
    {
     "data": {
      "text/plain": [
       "Text(33,0.5,'Actual Class')"
      ]
     },
     "execution_count": 146,
     "metadata": {},
     "output_type": "execute_result"
    },
    {
     "data": {
      "image/png": "[encoded data removed]",
      "text/plain": [
       "<matplotlib.figure.Figure at 0x285b97db1d0>"
      ]
     },
     "metadata": {},
     "output_type": "display_data"
    }
   ],
   "source": [
    "print(\"Heatmap of train confusion matrix\")\n",
    "import seaborn as sns\n",
    "confusion_matrix_train_AvgTFIDF = confusion_matrix(y_train, log_reg.predict(tfidf_sent_vectors_train))\n",
    "\n",
    "df_cm=pd.DataFrame(confusion_matrix_train_AvgTFIDF,index=[\"Negative:0\",\"Positive:1\"],columns=[\"Negative\",\"Positive\"],)\n",
    "sns.heatmap(df_cm,annot=True,fmt='d')\n",
    "plt.title(\"Confusion Matrix\")\n",
    "plt.xlabel(\"Predicted Class\")\n",
    "plt.ylabel(\"Actual Class\")"
   ]
  },
  {
   "cell_type": "code",
   "execution_count": 147,
   "metadata": {},
   "outputs": [
    {
     "name": "stdout",
     "output_type": "stream",
     "text": [
      "Heatmap of train confusion matrix\n"
     ]
    },
    {
     "data": {
      "text/plain": [
       "Text(33,0.5,'Actual Class')"
      ]
     },
     "execution_count": 147,
     "metadata": {},
     "output_type": "execute_result"
    },
    {
     "data": {
      "image/png": "[encoded data removed]",
      "text/plain": [
       "<matplotlib.figure.Figure at 0x285ba1b62b0>"
      ]
     },
     "metadata": {},
     "output_type": "display_data"
    }
   ],
   "source": [
    "print(\"Heatmap of train confusion matrix\")\n",
    "import seaborn as sns\n",
    "confusion_matrix_train_AvgTFIDF = confusion_matrix(y_test, log_reg.predict(tfidf_sent_vectors_test))\n",
    "\n",
    "df_cm=pd.DataFrame(confusion_matrix_train_AvgTFIDF,index=[\"Negative:0\",\"Positive:1\"],columns=[\"Negative\",\"Positive\"],)\n",
    "sns.heatmap(df_cm,annot=True,fmt='d')\n",
    "plt.title(\"Confusion Matrix\")\n",
    "plt.xlabel(\"Predicted Class\")\n",
    "plt.ylabel(\"Actual Class\")"
   ]
  },
  {
   "cell_type": "markdown",
   "metadata": {},
   "source": [
    "### Feature Engineering"
   ]
  },
  {
   "cell_type": "markdown",
   "metadata": {},
   "source": [
    "##### let do some feature engineerng on top of TFIDF and see if performance increased or not"
   ]
  },
  {
   "cell_type": "code",
   "execution_count": 148,
   "metadata": {},
   "outputs": [],
   "source": [
    "#let do some feature engineerng on top of TFIDF and see if performance increased or not\n",
    "\n",
    "#Taking length of reviews as another feature\n",
    "#Added 2 columns extra :\n",
    "#1st is total length of each preprocessed review \n",
    "#2nd is length of each preprocessed review by word"
   ]
  },
  {
   "cell_type": "code",
   "execution_count": 149,
   "metadata": {},
   "outputs": [],
   "source": [
    "final[\"length of preprocessed_reviews\"]=pd.Series(final[\"preprocessed_reviews\"].str.len())\n",
    "final[\"length of preprocessed_reviews_bywords\"]=pd.Series(final[\"preprocessed_reviews\"].str.split().str.len())"
   ]
  },
  {
   "cell_type": "code",
   "execution_count": 151,
   "metadata": {},
   "outputs": [],
   "source": [
    "X=final.drop([\"HelpfulnessDenominator\",\"Score\",\"Time\",\"Summary\"],axis=1)"
   ]
  },
  {
   "cell_type": "code",
   "execution_count": 152,
   "metadata": {},
   "outputs": [
    {
     "data": {
      "text/html": [
       "<div>\n",
       "<style scoped>\n",
       "    .dataframe tbody tr th:only-of-type {\n",
       "        vertical-align: middle;\n",
       "    }\n",
       "\n",
       "    .dataframe tbody tr th {\n",
       "        vertical-align: top;\n",
       "    }\n",
       "\n",
       "    .dataframe thead th {\n",
       "        text-align: right;\n",
       "    }\n",
       "</style>\n",
       "<table border=\"1\" class=\"dataframe\">\n",
       "  <thead>\n",
       "    <tr style=\"text-align: right;\">\n",
       "      <th></th>\n",
       "      <th>Text</th>\n",
       "      <th>preprocessed_reviews</th>\n",
       "      <th>length of preprocessed_reviews</th>\n",
       "      <th>length of preprocessed_reviews_bywords</th>\n",
       "    </tr>\n",
       "  </thead>\n",
       "  <tbody>\n",
       "    <tr>\n",
       "      <th>138702</th>\n",
       "      <td>This book was purchased as a birthday gift for...</td>\n",
       "      <td>book purchased birthday gift year old boy sque...</td>\n",
       "      <td>94</td>\n",
       "      <td>15</td>\n",
       "    </tr>\n",
       "    <tr>\n",
       "      <th>138707</th>\n",
       "      <td>My daughter loves all the \"Really Rosie\" books...</td>\n",
       "      <td>daughter loves really rosie books introduced r...</td>\n",
       "      <td>285</td>\n",
       "      <td>44</td>\n",
       "    </tr>\n",
       "    <tr>\n",
       "      <th>138708</th>\n",
       "      <td>This is one of the best children's books ever ...</td>\n",
       "      <td>one best children books ever written mini vers...</td>\n",
       "      <td>144</td>\n",
       "      <td>22</td>\n",
       "    </tr>\n",
       "    <tr>\n",
       "      <th>138692</th>\n",
       "      <td>TITLE: Chicken Soup with Rice&lt;br /&gt;AUTHOR: Mau...</td>\n",
       "      <td>title chicken soup riceauthor maurice sendakre...</td>\n",
       "      <td>403</td>\n",
       "      <td>57</td>\n",
       "    </tr>\n",
       "    <tr>\n",
       "      <th>138689</th>\n",
       "      <td>This is a fun way for children to learn their ...</td>\n",
       "      <td>fun way children learn months year learn poems...</td>\n",
       "      <td>98</td>\n",
       "      <td>15</td>\n",
       "    </tr>\n",
       "  </tbody>\n",
       "</table>\n",
       "</div>"
      ],
      "text/plain": [
       "                                                     Text  \\\n",
       "138702  This book was purchased as a birthday gift for...   \n",
       "138707  My daughter loves all the \"Really Rosie\" books...   \n",
       "138708  This is one of the best children's books ever ...   \n",
       "138692  TITLE: Chicken Soup with Rice<br />AUTHOR: Mau...   \n",
       "138689  This is a fun way for children to learn their ...   \n",
       "\n",
       "                                     preprocessed_reviews  \\\n",
       "138702  book purchased birthday gift year old boy sque...   \n",
       "138707  daughter loves really rosie books introduced r...   \n",
       "138708  one best children books ever written mini vers...   \n",
       "138692  title chicken soup riceauthor maurice sendakre...   \n",
       "138689  fun way children learn months year learn poems...   \n",
       "\n",
       "        length of preprocessed_reviews  length of preprocessed_reviews_bywords  \n",
       "138702                              94                                      15  \n",
       "138707                             285                                      44  \n",
       "138708                             144                                      22  \n",
       "138692                             403                                      57  \n",
       "138689                              98                                      15  "
      ]
     },
     "execution_count": 152,
     "metadata": {},
     "output_type": "execute_result"
    }
   ],
   "source": [
    "X.head()"
   ]
  },
  {
   "cell_type": "code",
   "execution_count": 153,
   "metadata": {},
   "outputs": [],
   "source": [
    "X=X.drop([\"Text\"],axis=1)\n",
    "y=final[\"Score\"]"
   ]
  },
  {
   "cell_type": "code",
   "execution_count": 154,
   "metadata": {},
   "outputs": [
    {
     "data": {
      "text/html": [
       "<div>\n",
       "<style scoped>\n",
       "    .dataframe tbody tr th:only-of-type {\n",
       "        vertical-align: middle;\n",
       "    }\n",
       "\n",
       "    .dataframe tbody tr th {\n",
       "        vertical-align: top;\n",
       "    }\n",
       "\n",
       "    .dataframe thead th {\n",
       "        text-align: right;\n",
       "    }\n",
       "</style>\n",
       "<table border=\"1\" class=\"dataframe\">\n",
       "  <thead>\n",
       "    <tr style=\"text-align: right;\">\n",
       "      <th></th>\n",
       "      <th>preprocessed_reviews</th>\n",
       "      <th>length of preprocessed_reviews</th>\n",
       "      <th>length of preprocessed_reviews_bywords</th>\n",
       "    </tr>\n",
       "  </thead>\n",
       "  <tbody>\n",
       "    <tr>\n",
       "      <th>138702</th>\n",
       "      <td>book purchased birthday gift year old boy sque...</td>\n",
       "      <td>94</td>\n",
       "      <td>15</td>\n",
       "    </tr>\n",
       "    <tr>\n",
       "      <th>138707</th>\n",
       "      <td>daughter loves really rosie books introduced r...</td>\n",
       "      <td>285</td>\n",
       "      <td>44</td>\n",
       "    </tr>\n",
       "    <tr>\n",
       "      <th>138708</th>\n",
       "      <td>one best children books ever written mini vers...</td>\n",
       "      <td>144</td>\n",
       "      <td>22</td>\n",
       "    </tr>\n",
       "    <tr>\n",
       "      <th>138692</th>\n",
       "      <td>title chicken soup riceauthor maurice sendakre...</td>\n",
       "      <td>403</td>\n",
       "      <td>57</td>\n",
       "    </tr>\n",
       "    <tr>\n",
       "      <th>138689</th>\n",
       "      <td>fun way children learn months year learn poems...</td>\n",
       "      <td>98</td>\n",
       "      <td>15</td>\n",
       "    </tr>\n",
       "  </tbody>\n",
       "</table>\n",
       "</div>"
      ],
      "text/plain": [
       "                                     preprocessed_reviews  \\\n",
       "138702  book purchased birthday gift year old boy sque...   \n",
       "138707  daughter loves really rosie books introduced r...   \n",
       "138708  one best children books ever written mini vers...   \n",
       "138692  title chicken soup riceauthor maurice sendakre...   \n",
       "138689  fun way children learn months year learn poems...   \n",
       "\n",
       "        length of preprocessed_reviews  length of preprocessed_reviews_bywords  \n",
       "138702                              94                                      15  \n",
       "138707                             285                                      44  \n",
       "138708                             144                                      22  \n",
       "138692                             403                                      57  \n",
       "138689                              98                                      15  "
      ]
     },
     "execution_count": 154,
     "metadata": {},
     "output_type": "execute_result"
    }
   ],
   "source": [
    "X.head()"
   ]
  },
  {
   "cell_type": "code",
   "execution_count": 155,
   "metadata": {},
   "outputs": [],
   "source": [
    "X_train_FT, X_test_FT, y_train_FT, y_test_FT = train_test_split(X[:100000], y[:100000], test_size=0.33,random_state=0) "
   ]
  },
  {
   "cell_type": "code",
   "execution_count": 156,
   "metadata": {},
   "outputs": [],
   "source": [
    "X_train_length_of_reviews_1=X_train_FT.drop(\"preprocessed_reviews\",axis=1)"
   ]
  },
  {
   "cell_type": "code",
   "execution_count": 157,
   "metadata": {},
   "outputs": [],
   "source": [
    "X_test_length_of_reviews_1=X_test_FT.drop(\"preprocessed_reviews\",axis=1)"
   ]
  },
  {
   "cell_type": "code",
   "execution_count": 158,
   "metadata": {},
   "outputs": [],
   "source": [
    "X_train_tf_idf_1=scipy.sparse.hstack((X_train_tf_idf,X_train_length_of_reviews_1)) #https://stackoverflow.com/questions/19710602/concatenate-sparse-matrices-in-python-using-scipy-numpy"
   ]
  },
  {
   "cell_type": "code",
   "execution_count": 159,
   "metadata": {},
   "outputs": [],
   "source": [
    "X_test_tf_idf_1=scipy.sparse.hstack((X_test_tf_idf,X_test_length_of_reviews_1)) #https://stackoverflow.com/questions/19710602/concatenate-sparse-matrices-in-python-using-scipy-numpy"
   ]
  },
  {
   "cell_type": "code",
   "execution_count": 160,
   "metadata": {},
   "outputs": [
    {
     "data": {
      "text/plain": [
       "(33000, 37868)"
      ]
     },
     "execution_count": 160,
     "metadata": {},
     "output_type": "execute_result"
    }
   ],
   "source": [
    "X_test_tf_idf_1.shape"
   ]
  },
  {
   "cell_type": "code",
   "execution_count": 161,
   "metadata": {},
   "outputs": [
    {
     "data": {
      "text/plain": [
       "GridSearchCV(cv=10, error_score='raise-deprecating',\n",
       "       estimator=LogisticRegression(C=1.0, class_weight='balanced', dual=False,\n",
       "          fit_intercept=True, intercept_scaling=1, max_iter=100,\n",
       "          multi_class='warn', n_jobs=-1, penalty='l2', random_state=None,\n",
       "          solver='warn', tol=0.0001, verbose=0, warm_start=False),\n",
       "       fit_params=None, iid='warn', n_jobs=None,\n",
       "       param_grid={'C': [0.0001, 0.001, 0.01, 0.1, 0.05, 5, 10, 15, 20, 25, 30, 35, 40, 45, 50, 55, 60, 70, 80, 90, 100]},\n",
       "       pre_dispatch='2*n_jobs', refit=True, return_train_score='warn',\n",
       "       scoring='roc_auc', verbose=0)"
      ]
     },
     "execution_count": 161,
     "metadata": {},
     "output_type": "execute_result"
    }
   ],
   "source": [
    "from sklearn.model_selection import GridSearchCV\n",
    "from sklearn.linear_model import LogisticRegression\n",
    "\n",
    "log_clf = LogisticRegression(n_jobs=-1,penalty='l2',class_weight='balanced')\n",
    "parameters = {'C':[0.0001,0.001,0.01,0.1,0.05,5,10,15,20,25,30,35,40,45,50,55,60,70,80,90,100]}\n",
    "clf = GridSearchCV(log_clf, parameters, cv=10, scoring='roc_auc')\n",
    "clf.fit(X_train_tf_idf_1, y_train_FT)\n"
   ]
  },
  {
   "cell_type": "code",
   "execution_count": 162,
   "metadata": {
    "scrolled": true
   },
   "outputs": [
    {
     "data": {
      "image/png": "[encoded data removed]",
      "text/plain": [
       "<matplotlib.figure.Figure at 0x285b75a1160>"
      ]
     },
     "metadata": {},
     "output_type": "display_data"
    }
   ],
   "source": [
    "train_auc= clf.cv_results_['mean_train_score']\n",
    "train_auc_std= clf.cv_results_['std_train_score']\n",
    "cv_auc = clf.cv_results_['mean_test_score'] \n",
    "cv_auc_std= clf.cv_results_['std_test_score']\n",
    "C=[0.0001,0.001,0.01,0.1,0.05,5,10,15,20,25,30,35,40,45,50,55,60,70,80,90,100]\n",
    "plt.plot(C, train_auc, label='Train AUC')\n",
    "# this code is copied from here: https://stackoverflow.com/a/48803361/4084039\n",
    "plt.gca().fill_between(C,train_auc - train_auc_std,train_auc + train_auc_std,alpha=0.2,color='darkblue')\n",
    "\n",
    "plt.plot(C, cv_auc, label='CV AUC')\n",
    "# this code is copied from here: https://stackoverflow.com/a/48803361/4084039\n",
    "plt.gca().fill_between(C,cv_auc - cv_auc_std,cv_auc + cv_auc_std,alpha=0.2,color='darkorange')\n",
    "plt.legend()\n",
    "plt.xlabel(\"log(C): hyperparameter\")\n",
    "plt.ylabel(\"AUC\")\n",
    "plt.title(\"ERROR PLOTS\")\n",
    "plt.show()"
   ]
  },
  {
   "cell_type": "code",
   "execution_count": 163,
   "metadata": {},
   "outputs": [
    {
     "name": "stdout",
     "output_type": "stream",
     "text": [
      "best estimator is: LogisticRegression(C=0.001, class_weight='balanced', dual=False,\n",
      "          fit_intercept=True, intercept_scaling=1, max_iter=100,\n",
      "          multi_class='warn', n_jobs=-1, penalty='l2', random_state=None,\n",
      "          solver='warn', tol=0.0001, verbose=0, warm_start=False)\n"
     ]
    }
   ],
   "source": [
    "print(\"best estimator is:\",clf.best_estimator_)"
   ]
  },
  {
   "cell_type": "code",
   "execution_count": 165,
   "metadata": {},
   "outputs": [],
   "source": [
    "log_reg=LogisticRegression(C=0.001,penalty='l2',class_weight='balanced')\n",
    "\n",
    "log_reg.fit(X_train_tf_idf_1,y_train_FT)\n",
    "train_fpr, train_tpr, thresholds = roc_curve(y_train_FT, log_reg.predict_proba(X_train_tf_idf_1)[:,1])\n",
    "test_fpr, test_tpr, thresholds = roc_curve(y_test_FT, log_reg.predict_proba(X_test_tf_idf_1)[:,1])"
   ]
  },
  {
   "cell_type": "code",
   "execution_count": 166,
   "metadata": {},
   "outputs": [
    {
     "data": {
      "image/png": "[encoded data removed]",
      "text/plain": [
       "<matplotlib.figure.Figure at 0x285b7593048>"
      ]
     },
     "metadata": {},
     "output_type": "display_data"
    },
    {
     "name": "stdout",
     "output_type": "stream",
     "text": [
      "====================================================================================================\n",
      "Train confusion matrix\n",
      "[[ 4040  5899]\n",
      " [18140 38921]]\n",
      "====================================================================================================\n",
      "Test confusion matrix\n",
      "[[ 1880  2957]\n",
      " [ 9119 19044]]\n"
     ]
    }
   ],
   "source": [
    "plt.plot(train_fpr, train_tpr, label=\"train AUC =\"+str(auc(train_fpr, train_tpr)))\n",
    "plt.plot(test_fpr, test_tpr, label=\"test AUC =\"+str(auc(test_fpr, test_tpr)))\n",
    "plt.legend()\n",
    "plt.xlabel(\"FPR\")\n",
    "plt.ylabel(\"TPR\")\n",
    "plt.title(\"ERROR PLOTS\")\n",
    "plt.show()\n",
    "\n",
    "print(\"=\"*100)\n",
    "\n",
    "from sklearn.metrics import confusion_matrix\n",
    "print(\"Train confusion matrix\")\n",
    "print(confusion_matrix(y_train_FT, log_reg.predict(X_train_tf_idf_1)))\n",
    "print(\"=\"*100)\n",
    "print(\"Test confusion matrix\")\n",
    "print(confusion_matrix(y_test_FT, log_reg.predict(X_test_tf_idf_1)))"
   ]
  },
  {
   "cell_type": "code",
   "execution_count": 167,
   "metadata": {},
   "outputs": [
    {
     "name": "stdout",
     "output_type": "stream",
     "text": [
      "Heatmap of train confusion matrix\n"
     ]
    },
    {
     "data": {
      "text/plain": [
       "Text(33,0.5,'Actual Class')"
      ]
     },
     "execution_count": 167,
     "metadata": {},
     "output_type": "execute_result"
    },
    {
     "data": {
      "image/png": "[encoded data removed]",
      "text/plain": [
       "<matplotlib.figure.Figure at 0x285b78e8a58>"
      ]
     },
     "metadata": {},
     "output_type": "display_data"
    }
   ],
   "source": [
    "print(\"Heatmap of train confusion matrix\")\n",
    "import seaborn as sns\n",
    "confusion_matrix_train_TFIDF = confusion_matrix(y_train_FT, log_reg.predict(X_train_tf_idf_1))\n",
    "\n",
    "df_cm=pd.DataFrame(confusion_matrix_train_TFIDF,index=[\"Negative:0\",\"Positive:1\"],columns=[\"Negative\",\"Positive\"],)\n",
    "sns.heatmap(df_cm,annot=True,fmt='d')\n",
    "plt.title(\"Confusion Matrix\")\n",
    "plt.xlabel(\"Predicted Class\")\n",
    "plt.ylabel(\"Actual Class\")"
   ]
  },
  {
   "cell_type": "code",
   "execution_count": 168,
   "metadata": {},
   "outputs": [
    {
     "name": "stdout",
     "output_type": "stream",
     "text": [
      "Heatmap of train confusion matrix\n"
     ]
    },
    {
     "data": {
      "text/plain": [
       "Text(33,0.5,'Actual Class')"
      ]
     },
     "execution_count": 168,
     "metadata": {},
     "output_type": "execute_result"
    },
    {
     "data": {
      "image/png": "[encoded data removed]",
      "text/plain": [
       "<matplotlib.figure.Figure at 0x285b75699b0>"
      ]
     },
     "metadata": {},
     "output_type": "display_data"
    }
   ],
   "source": [
    "print(\"Heatmap of train confusion matrix\")\n",
    "import seaborn as sns\n",
    "confusion_matrix_train_TFIDF = confusion_matrix(y_test_FT, log_reg.predict(X_test_tf_idf_1))\n",
    "\n",
    "df_cm=pd.DataFrame(confusion_matrix_train_TFIDF,index=[\"Negative:0\",\"Positive:1\"],columns=[\"Negative\",\"Positive\"],)\n",
    "sns.heatmap(df_cm,annot=True,fmt='d')\n",
    "plt.title(\"Confusion Matrix\")\n",
    "plt.xlabel(\"Predicted Class\")\n",
    "plt.ylabel(\"Actual Class\")"
   ]
  },
  {
   "cell_type": "markdown",
   "metadata": {},
   "source": [
    "##### let do some feature engineerng on top of TFIDF-W2V and see if performance increased or not"
   ]
  },
  {
   "cell_type": "code",
   "execution_count": 169,
   "metadata": {},
   "outputs": [],
   "source": [
    "#let do some feature engineerng on top of TFIDF-W2V and see if performance increased or not\n",
    "\n",
    "#Taking length of reviews as another feature\n",
    "#Added 2 columns extra :\n",
    "#1st is total length of each preprocessed review \n",
    "#2nd is length of each preprocessed review by word"
   ]
  },
  {
   "cell_type": "code",
   "execution_count": 170,
   "metadata": {},
   "outputs": [],
   "source": [
    "X_train_tf_idf_1=scipy.sparse.hstack((tfidf_sent_vectors_train,X_train_length_of_reviews_1)) #https://stackoverflow.com/questions/19710602/concatenate-sparse-matrices-in-python-using-scipy-numpy"
   ]
  },
  {
   "cell_type": "code",
   "execution_count": 171,
   "metadata": {},
   "outputs": [],
   "source": [
    "X_test_tf_idf_1=scipy.sparse.hstack((tfidf_sent_vectors_test,X_test_length_of_reviews_1)) #https://stackoverflow.com/questions/19710602/concatenate-sparse-matrices-in-python-using-scipy-numpy"
   ]
  },
  {
   "cell_type": "code",
   "execution_count": 172,
   "metadata": {},
   "outputs": [
    {
     "data": {
      "text/plain": [
       "GridSearchCV(cv=10, error_score='raise-deprecating',\n",
       "       estimator=LogisticRegression(C=1.0, class_weight='balanced', dual=False,\n",
       "          fit_intercept=True, intercept_scaling=1, max_iter=100,\n",
       "          multi_class='warn', n_jobs=-1, penalty='l2', random_state=None,\n",
       "          solver='warn', tol=0.0001, verbose=0, warm_start=False),\n",
       "       fit_params=None, iid='warn', n_jobs=None,\n",
       "       param_grid={'C': [0.0001, 0.001, 0.01, 0.1, 0.05, 5, 10, 15, 20, 25, 30, 35, 40, 45, 50, 55, 60, 70, 80, 90, 100]},\n",
       "       pre_dispatch='2*n_jobs', refit=True, return_train_score='warn',\n",
       "       scoring='roc_auc', verbose=0)"
      ]
     },
     "execution_count": 172,
     "metadata": {},
     "output_type": "execute_result"
    }
   ],
   "source": [
    "from sklearn.model_selection import GridSearchCV\n",
    "from sklearn.linear_model import LogisticRegression\n",
    "\n",
    "log_clf = LogisticRegression(n_jobs=-1,penalty='l2',class_weight='balanced')\n",
    "parameters = {'C':[0.0001,0.001,0.01,0.1,0.05,5,10,15,20,25,30,35,40,45,50,55,60,70,80,90,100]}\n",
    "clf = GridSearchCV(log_clf, parameters, cv=10, scoring='roc_auc')\n",
    "clf.fit(X_train_tf_idf_1, y_train_FT)\n"
   ]
  },
  {
   "cell_type": "code",
   "execution_count": 173,
   "metadata": {},
   "outputs": [
    {
     "data": {
      "image/png": "[encoded data removed]",
      "text/plain": [
       "<matplotlib.figure.Figure at 0x285f1df0390>"
      ]
     },
     "metadata": {},
     "output_type": "display_data"
    }
   ],
   "source": [
    "train_auc= clf.cv_results_['mean_train_score']\n",
    "train_auc_std= clf.cv_results_['std_train_score']\n",
    "cv_auc = clf.cv_results_['mean_test_score'] \n",
    "cv_auc_std= clf.cv_results_['std_test_score']\n",
    "C=[0.0001,0.001,0.01,0.1,0.05,5,10,15,20,25,30,35,40,45,50,55,60,70,80,90,100]\n",
    "plt.plot(C, train_auc, label='Train AUC')\n",
    "# this code is copied from here: https://stackoverflow.com/a/48803361/4084039\n",
    "plt.gca().fill_between(C,train_auc - train_auc_std,train_auc + train_auc_std,alpha=0.2,color='darkblue')\n",
    "\n",
    "plt.plot(C, cv_auc, label='CV AUC')\n",
    "# this code is copied from here: https://stackoverflow.com/a/48803361/4084039\n",
    "plt.gca().fill_between(C,cv_auc - cv_auc_std,cv_auc + cv_auc_std,alpha=0.2,color='darkorange')\n",
    "plt.legend()\n",
    "plt.xlabel(\"log(C): hyperparameter\")\n",
    "plt.ylabel(\"AUC\")\n",
    "plt.title(\"ERROR PLOTS\")\n",
    "plt.show()"
   ]
  },
  {
   "cell_type": "code",
   "execution_count": 174,
   "metadata": {},
   "outputs": [
    {
     "data": {
      "text/plain": [
       "('best estimator is:',\n",
       " LogisticRegression(C=0.0001, class_weight='balanced', dual=False,\n",
       "           fit_intercept=True, intercept_scaling=1, max_iter=100,\n",
       "           multi_class='warn', n_jobs=-1, penalty='l2', random_state=None,\n",
       "           solver='warn', tol=0.0001, verbose=0, warm_start=False))"
      ]
     },
     "execution_count": 174,
     "metadata": {},
     "output_type": "execute_result"
    }
   ],
   "source": [
    "(\"best estimator is:\",clf.best_estimator_)"
   ]
  },
  {
   "cell_type": "code",
   "execution_count": 175,
   "metadata": {},
   "outputs": [],
   "source": [
    "log_reg=LogisticRegression(C=0.0001,penalty='l2',class_weight='balanced')\n",
    "\n",
    "log_reg.fit(X_train_tf_idf_1, y_train_FT)\n",
    "train_fpr, train_tpr, thresholds = roc_curve(y_train_FT, log_reg.predict_proba(X_train_tf_idf_1)[:,1])\n",
    "test_fpr, test_tpr, thresholds = roc_curve(y_test_FT, log_reg.predict_proba(X_test_tf_idf_1)[:,1])"
   ]
  },
  {
   "cell_type": "code",
   "execution_count": 176,
   "metadata": {},
   "outputs": [
    {
     "data": {
      "image/png": "[encoded data removed]",
      "text/plain": [
       "<matplotlib.figure.Figure at 0x285b75a19b0>"
      ]
     },
     "metadata": {},
     "output_type": "display_data"
    },
    {
     "name": "stdout",
     "output_type": "stream",
     "text": [
      "====================================================================================================\n",
      "Train confusion matrix\n",
      "[[ 4777  5162]\n",
      " [22932 34129]]\n",
      "====================================================================================================\n",
      "Test confusion matrix\n",
      "[[ 2270  2567]\n",
      " [11541 16622]]\n"
     ]
    }
   ],
   "source": [
    "plt.plot(train_fpr, train_tpr, label=\"train AUC =\"+str(auc(train_fpr, train_tpr)))\n",
    "plt.plot(test_fpr, test_tpr, label=\"test AUC =\"+str(auc(test_fpr, test_tpr)))\n",
    "plt.legend()\n",
    "plt.xlabel(\"FPR\")\n",
    "plt.ylabel(\"TPR\")\n",
    "plt.title(\"ERROR PLOTS\")\n",
    "plt.show()\n",
    "\n",
    "print(\"=\"*100)\n",
    "\n",
    "from sklearn.metrics import confusion_matrix\n",
    "print(\"Train confusion matrix\")\n",
    "print(confusion_matrix(y_train_FT, log_reg.predict(X_train_tf_idf_1)))\n",
    "print(\"=\"*100)\n",
    "print(\"Test confusion matrix\")\n",
    "print(confusion_matrix(y_test_FT, log_reg.predict(X_test_tf_idf_1)))"
   ]
  },
  {
   "cell_type": "code",
   "execution_count": 177,
   "metadata": {},
   "outputs": [
    {
     "name": "stdout",
     "output_type": "stream",
     "text": [
      "Heatmap of train confusion matrix\n"
     ]
    },
    {
     "data": {
      "text/plain": [
       "Text(33,0.5,'Actual Class')"
      ]
     },
     "execution_count": 177,
     "metadata": {},
     "output_type": "execute_result"
    },
    {
     "data": {
      "image/png": "[encoded data removed]",
      "text/plain": [
       "<matplotlib.figure.Figure at 0x285baa79c88>"
      ]
     },
     "metadata": {},
     "output_type": "display_data"
    }
   ],
   "source": [
    "print(\"Heatmap of train confusion matrix\")\n",
    "import seaborn as sns\n",
    "confusion_matrix_train_TFIDF = confusion_matrix(y_train_FT, log_reg.predict(X_train_tf_idf_1))\n",
    "\n",
    "df_cm=pd.DataFrame(confusion_matrix_train_TFIDF,index=[\"Negative:0\",\"Positive:1\"],columns=[\"Negative\",\"Positive\"],)\n",
    "sns.heatmap(df_cm,annot=True,fmt='d')\n",
    "plt.title(\"Confusion Matrix\")\n",
    "plt.xlabel(\"Predicted Class\")\n",
    "plt.ylabel(\"Actual Class\")"
   ]
  },
  {
   "cell_type": "code",
   "execution_count": 178,
   "metadata": {},
   "outputs": [
    {
     "name": "stdout",
     "output_type": "stream",
     "text": [
      "Heatmap of test confusion matrix\n"
     ]
    },
    {
     "data": {
      "text/plain": [
       "Text(33,0.5,'Actual Class')"
      ]
     },
     "execution_count": 178,
     "metadata": {},
     "output_type": "execute_result"
    },
    {
     "data": {
      "image/png": "[encoded data removed]",
      "text/plain": [
       "<matplotlib.figure.Figure at 0x285bbfc3278>"
      ]
     },
     "metadata": {},
     "output_type": "display_data"
    }
   ],
   "source": [
    "print(\"Heatmap of test confusion matrix\")\n",
    "import seaborn as sns\n",
    "confusion_matrix_train_TFIDF = confusion_matrix(y_test_FT, log_reg.predict(X_test_tf_idf_1))\n",
    "\n",
    "df_cm=pd.DataFrame(confusion_matrix_train_TFIDF,index=[\"Negative:0\",\"Positive:1\"],columns=[\"Negative\",\"Positive\"],)\n",
    "sns.heatmap(df_cm,annot=True,fmt='d')\n",
    "plt.title(\"Confusion Matrix\")\n",
    "plt.xlabel(\"Predicted Class\")\n",
    "plt.ylabel(\"Actual Class\")"
   ]
  },
  {
   "cell_type": "markdown",
   "metadata": {},
   "source": [
    "##### let do some feature engineerng on top of W2V and see if performance increased or not"
   ]
  },
  {
   "cell_type": "code",
   "execution_count": 179,
   "metadata": {},
   "outputs": [],
   "source": [
    "#let do some feature engineerng on top of W2V and see if performance increased or not\n",
    "\n",
    "#Taking length of reviews as another feature\n",
    "#Added 2 columns extra :\n",
    "#1st is total length of each preprocessed review \n",
    "#2nd is length of each preprocessed review by word"
   ]
  },
  {
   "cell_type": "code",
   "execution_count": 180,
   "metadata": {},
   "outputs": [],
   "source": [
    "X_train_tf_idf_1=scipy.sparse.hstack((sent_vectors_train,X_train_length_of_reviews_1)) #https://stackoverflow.com/questions/19710602/concatenate-sparse-matrices-in-python-using-scipy-numpy"
   ]
  },
  {
   "cell_type": "code",
   "execution_count": 181,
   "metadata": {},
   "outputs": [],
   "source": [
    "X_test_tf_idf_1=scipy.sparse.hstack((sent_vectors_test,X_test_length_of_reviews_1)) #https://stackoverflow.com/questions/19710602/concatenate-sparse-matrices-in-python-using-scipy-numpy"
   ]
  },
  {
   "cell_type": "code",
   "execution_count": 182,
   "metadata": {},
   "outputs": [
    {
     "data": {
      "text/plain": [
       "GridSearchCV(cv=10, error_score='raise-deprecating',\n",
       "       estimator=LogisticRegression(C=1.0, class_weight='balanced', dual=False,\n",
       "          fit_intercept=True, intercept_scaling=1, max_iter=100,\n",
       "          multi_class='warn', n_jobs=-1, penalty='l2', random_state=None,\n",
       "          solver='warn', tol=0.0001, verbose=0, warm_start=False),\n",
       "       fit_params=None, iid='warn', n_jobs=None,\n",
       "       param_grid={'C': [0.0001, 0.001, 0.01, 0.1, 0.05, 5, 10, 15, 20, 25, 30, 35, 40, 45, 50, 55, 60, 70, 80, 90, 100]},\n",
       "       pre_dispatch='2*n_jobs', refit=True, return_train_score='warn',\n",
       "       scoring='roc_auc', verbose=0)"
      ]
     },
     "execution_count": 182,
     "metadata": {},
     "output_type": "execute_result"
    }
   ],
   "source": [
    "from sklearn.model_selection import GridSearchCV\n",
    "from sklearn.linear_model import LogisticRegression\n",
    "\n",
    "log_clf = LogisticRegression(n_jobs=-1,penalty='l2',class_weight='balanced')\n",
    "parameters = {'C':[0.0001,0.001,0.01,0.1,0.05,5,10,15,20,25,30,35,40,45,50,55,60,70,80,90,100]}\n",
    "clf = GridSearchCV(log_clf, parameters, cv=10, scoring='roc_auc')\n",
    "clf.fit(X_train_tf_idf_1, y_train_FT)\n"
   ]
  },
  {
   "cell_type": "code",
   "execution_count": 183,
   "metadata": {},
   "outputs": [
    {
     "data": {
      "image/png": "[encoded data removed]",
      "text/plain": [
       "<matplotlib.figure.Figure at 0x285bc0194a8>"
      ]
     },
     "metadata": {},
     "output_type": "display_data"
    }
   ],
   "source": [
    "train_auc= clf.cv_results_['mean_train_score']\n",
    "train_auc_std= clf.cv_results_['std_train_score']\n",
    "cv_auc = clf.cv_results_['mean_test_score'] \n",
    "cv_auc_std= clf.cv_results_['std_test_score']\n",
    "C=[0.0001,0.001,0.01,0.1,0.05,5,10,15,20,25,30,35,40,45,50,55,60,70,80,90,100]\n",
    "plt.plot(C, train_auc, label='Train AUC')\n",
    "# this code is copied from here: https://stackoverflow.com/a/48803361/4084039\n",
    "plt.gca().fill_between(C,train_auc - train_auc_std,train_auc + train_auc_std,alpha=0.2,color='darkblue')\n",
    "\n",
    "plt.plot(C, cv_auc, label='CV AUC')\n",
    "# this code is copied from here: https://stackoverflow.com/a/48803361/4084039\n",
    "plt.gca().fill_between(C,cv_auc - cv_auc_std,cv_auc + cv_auc_std,alpha=0.2,color='darkorange')\n",
    "plt.legend()\n",
    "plt.xlabel(\"log(C): hyperparameter\")\n",
    "plt.ylabel(\"AUC\")\n",
    "plt.title(\"ERROR PLOTS\")\n",
    "plt.show()"
   ]
  },
  {
   "cell_type": "code",
   "execution_count": 184,
   "metadata": {},
   "outputs": [
    {
     "name": "stdout",
     "output_type": "stream",
     "text": [
      "best estimator is: LogisticRegression(C=0.0001, class_weight='balanced', dual=False,\n",
      "          fit_intercept=True, intercept_scaling=1, max_iter=100,\n",
      "          multi_class='warn', n_jobs=-1, penalty='l2', random_state=None,\n",
      "          solver='warn', tol=0.0001, verbose=0, warm_start=False)\n"
     ]
    }
   ],
   "source": [
    "print(\"best estimator is:\",clf.best_estimator_)"
   ]
  },
  {
   "cell_type": "code",
   "execution_count": 185,
   "metadata": {},
   "outputs": [],
   "source": [
    "log_reg=LogisticRegression(C=0.0001,penalty='l2',class_weight='balanced')\n",
    "\n",
    "log_reg.fit(X_train_tf_idf_1, y_train_FT)\n",
    "train_fpr, train_tpr, thresholds = roc_curve(y_train_FT, log_reg.predict_proba(X_train_tf_idf_1)[:,1])\n",
    "test_fpr, test_tpr, thresholds = roc_curve(y_test_FT, log_reg.predict_proba(X_test_tf_idf_1)[:,1])"
   ]
  },
  {
   "cell_type": "code",
   "execution_count": 186,
   "metadata": {},
   "outputs": [
    {
     "data": {
      "image/png": "[encoded data removed]",
      "text/plain": [
       "<matplotlib.figure.Figure at 0x285bc2d4518>"
      ]
     },
     "metadata": {},
     "output_type": "display_data"
    },
    {
     "name": "stdout",
     "output_type": "stream",
     "text": [
      "====================================================================================================\n",
      "Train confusion matrix\n",
      "[[ 4620  5319]\n",
      " [21970 35091]]\n",
      "====================================================================================================\n",
      "Test confusion matrix\n",
      "[[ 2206  2631]\n",
      " [11040 17123]]\n"
     ]
    }
   ],
   "source": [
    "plt.plot(train_fpr, train_tpr, label=\"train AUC =\"+str(auc(train_fpr, train_tpr)))\n",
    "plt.plot(test_fpr, test_tpr, label=\"test AUC =\"+str(auc(test_fpr, test_tpr)))\n",
    "plt.legend()\n",
    "plt.xlabel(\"FPR\")\n",
    "plt.ylabel(\"TPR\")\n",
    "plt.title(\"ERROR PLOTS\")\n",
    "plt.show()\n",
    "\n",
    "print(\"=\"*100)\n",
    "\n",
    "from sklearn.metrics import confusion_matrix\n",
    "print(\"Train confusion matrix\")\n",
    "print(confusion_matrix(y_train_FT, log_reg.predict(X_train_tf_idf_1)))\n",
    "print(\"=\"*100)\n",
    "print(\"Test confusion matrix\")\n",
    "print(confusion_matrix(y_test_FT, log_reg.predict(X_test_tf_idf_1)))"
   ]
  },
  {
   "cell_type": "code",
   "execution_count": 187,
   "metadata": {},
   "outputs": [
    {
     "name": "stdout",
     "output_type": "stream",
     "text": [
      "Heatmap of train confusion matrix\n"
     ]
    },
    {
     "data": {
      "text/plain": [
       "Text(33,0.5,'Actual Class')"
      ]
     },
     "execution_count": 187,
     "metadata": {},
     "output_type": "execute_result"
    },
    {
     "data": {
      "image/png": "[encoded data removed]",
      "text/plain": [
       "<matplotlib.figure.Figure at 0x285bc019630>"
      ]
     },
     "metadata": {},
     "output_type": "display_data"
    }
   ],
   "source": [
    "print(\"Heatmap of train confusion matrix\")\n",
    "import seaborn as sns\n",
    "confusion_matrix_train_TFIDF = confusion_matrix(y_train_FT, log_reg.predict(X_train_tf_idf_1))\n",
    "\n",
    "df_cm=pd.DataFrame(confusion_matrix_train_TFIDF,index=[\"Negative:0\",\"Positive:1\"],columns=[\"Negative\",\"Positive\"],)\n",
    "sns.heatmap(df_cm,annot=True,fmt='d')\n",
    "plt.title(\"Confusion Matrix\")\n",
    "plt.xlabel(\"Predicted Class\")\n",
    "plt.ylabel(\"Actual Class\")"
   ]
  },
  {
   "cell_type": "code",
   "execution_count": 188,
   "metadata": {},
   "outputs": [
    {
     "name": "stdout",
     "output_type": "stream",
     "text": [
      "Heatmap of test confusion matrix\n"
     ]
    },
    {
     "data": {
      "text/plain": [
       "Text(33,0.5,'Actual Class')"
      ]
     },
     "execution_count": 188,
     "metadata": {},
     "output_type": "execute_result"
    },
    {
     "data": {
      "image/png": "[encoded data removed]",
      "text/plain": [
       "<matplotlib.figure.Figure at 0x285bc3f23c8>"
      ]
     },
     "metadata": {},
     "output_type": "display_data"
    }
   ],
   "source": [
    "print(\"Heatmap of test confusion matrix\")\n",
    "import seaborn as sns\n",
    "confusion_matrix_train_TFIDF = confusion_matrix(y_test_FT, log_reg.predict(X_test_tf_idf_1))\n",
    "\n",
    "df_cm=pd.DataFrame(confusion_matrix_train_TFIDF,index=[\"Negative:0\",\"Positive:1\"],columns=[\"Negative\",\"Positive\"],)\n",
    "sns.heatmap(df_cm,annot=True,fmt='d')\n",
    "plt.title(\"Confusion Matrix\")\n",
    "plt.xlabel(\"Predicted Class\")\n",
    "plt.ylabel(\"Actual Class\")"
   ]
  },
  {
   "cell_type": "code",
   "execution_count": 189,
   "metadata": {},
   "outputs": [],
   "source": [
    "#all models are performing when we are adding length of each reviews as additional columns.\n",
    "\n",
    "#hence feature engineering of adding length of each reviews is not useful in this case."
   ]
  },
  {
   "cell_type": "markdown",
   "metadata": {},
   "source": [
    "# Conclusion"
   ]
  },
  {
   "cell_type": "code",
   "execution_count": 190,
   "metadata": {},
   "outputs": [
    {
     "name": "stdout",
     "output_type": "stream",
     "text": [
      "+-------------------------------------------------------+----------------+---------------+-----------+\n",
      "|                       Model_Name                      | Train_Accuracy | Test_Accuracy | Optimal_C |\n",
      "+-------------------------------------------------------+----------------+---------------+-----------+\n",
      "|      Logistic Regression(L2 regularizer) With BOW     |      91.2      |      90.3     |    0.05   |\n",
      "|      Logistic Regression(L2 regularizer) With BOW     |      91.1      |      90.3     |    0.1    |\n",
      "|     Logistic Regression(L2 regularizer) With TFIDF    |      99.6      |      96.3     |     5     |\n",
      "|     Logistic Regression(L1 regularizer) With TFIDF    |      99.8      |     95.65     |     5     |\n",
      "|    Logistic Regression(L2 regularizer) With AVG W2V   |     90.84      |     90.84     |    0.05   |\n",
      "|    Logistic Regression(L1 regularizer) With AVG W2V   |      90.8      |      90.8     |     35    |\n",
      "| Logistic Regression(L2 regularizer) With TFIDF-AvgW2V |      85.2      |      85.1     |    0.05   |\n",
      "| Logistic Regression(L1 regularizer) With TFIDF-AvgW2V |      88.2      |      88.1     |    0.1    |\n",
      "+-------------------------------------------------------+----------------+---------------+-----------+\n"
     ]
    }
   ],
   "source": [
    "from prettytable import PrettyTable\n",
    "X=PrettyTable()\n",
    "X.field_names=[\"Model_Name\",\"Train_Accuracy\",\"Test_Accuracy\",\"Optimal_C\"]\n",
    "X.add_row([\"Logistic Regression(L2 regularizer) With BOW\", 91.2, 90.3, 0.05])\n",
    "X.add_row([\"Logistic Regression(L2 regularizer) With BOW\", 91.1, 90.3, 0.1])\n",
    "X.add_row([\"Logistic Regression(L2 regularizer) With TFIDF\", 99.6, 96.3, 5])\n",
    "X.add_row([\"Logistic Regression(L1 regularizer) With TFIDF\", 99.8, 95.65,5])\n",
    "X.add_row([\"Logistic Regression(L2 regularizer) With AVG W2V\", 90.84, 90.84,0.05])\n",
    "X.add_row([\"Logistic Regression(L1 regularizer) With AVG W2V\", 90.8, 90.8,35])\n",
    "X.add_row([\"Logistic Regression(L2 regularizer) With TFIDF-AvgW2V\", 85.2,85.1,0.05])\n",
    "X.add_row([\"Logistic Regression(L1 regularizer) With TFIDF-AvgW2V\", 88.2,88.1,0.1])\n",
    "print(X)"
   ]
  },
  {
   "cell_type": "code",
   "execution_count": null,
   "metadata": {},
   "outputs": [],
   "source": [
    "#Logistic regression works well with L2 regularizer on TFIDF ,its giving 96.3% accuracy on test data\n",
    "\n",
    "#however we tried to do some feature engineering by adding length of each reviews but models didnt perform well\n",
    "#so we remove length of each reviews as newly added features from our model."
   ]
  }
 ],
 "metadata": {
  "colab": {
   "name": "05 Amazon Fine Food Reviews Analysis_Logistic Regression.ipynb",
   "provenance": [],
   "version": "0.3.2"
  },
  "kernelspec": {
   "display_name": "Python 3",
   "language": "python",
   "name": "python3"
  },
  "language_info": {
   "codemirror_mode": {
    "name": "ipython",
    "version": 3
   },
   "file_extension": ".py",
   "mimetype": "text/x-python",
   "name": "python",
   "nbconvert_exporter": "python",
   "pygments_lexer": "ipython3",
   "version": "3.6.4"
  }
 },
 "nbformat": 4,
 "nbformat_minor": 1
}
