{
  "nbformat": 4,
  "nbformat_minor": 0,
  "metadata": {
    "colab": {
      "name": "07 Amazon Fine Food Reviews Analysis_Support Vector Machines.ipynb",
      "version": "0.3.2",
      "provenance": [],
      "collapsed_sections": []
    },
    "language_info": {
      "codemirror_mode": {
        "name": "ipython",
        "version": 3
      },
      "file_extension": ".py",
      "mimetype": "text/x-python",
      "name": "python",
      "nbconvert_exporter": "python",
      "pygments_lexer": "ipython3",
      "version": "3.6.3"
    },
    "kernelspec": {
      "display_name": "Python 3",
      "language": "python",
      "name": "python3"
    }
  },
  "cells": [
    {
      "cell_type": "markdown",
      "metadata": {
        "id": "asMYOEFTtE2k",
        "colab_type": "text"
      },
      "source": [
        "# Amazon Fine Food Reviews Analysis\n",
        "\n",
        "\n",
        "Data Source: https://www.kaggle.com/snap/amazon-fine-food-reviews <br>\n",
        "\n",
        "EDA: https://nycdatascience.com/blog/student-works/amazon-fine-foods-visualization/\n",
        "\n",
        "\n",
        "The Amazon Fine Food Reviews dataset consists of reviews of fine foods from Amazon.<br>\n",
        "\n",
        "Number of reviews: 568,454<br>\n",
        "Number of users: 256,059<br>\n",
        "Number of products: 74,258<br>\n",
        "Timespan: Oct 1999 - Oct 2012<br>\n",
        "Number of Attributes/Columns in data: 10 \n",
        "\n",
        "Attribute Information:\n",
        "\n",
        "1. Id\n",
        "2. ProductId - unique identifier for the product\n",
        "3. UserId - unqiue identifier for the user\n",
        "4. ProfileName\n",
        "5. HelpfulnessNumerator - number of users who found the review helpful\n",
        "6. HelpfulnessDenominator - number of users who indicated whether they found the review helpful or not\n",
        "7. Score - rating between 1 and 5\n",
        "8. Time - timestamp for the review\n",
        "9. Summary - brief summary of the review\n",
        "10. Text - text of the review\n",
        "\n",
        "\n",
        "#### Objective:\n",
        "Given a review, determine whether the review is positive (rating of 4 or 5) or negative (rating of 1 or 2).\n",
        "\n",
        "<br>\n",
        "[Q] How to determine if a review is positive or negative?<br>\n",
        "<br> \n",
        "[Ans] We could use Score/Rating. A rating of 4 or 5 can be cosnidered as a positive review. A rating of 1 or 2 can be considered as negative one. A review of rating 3 is considered nuetral and such reviews are ignored from our analysis. This is an approximate and proxy way of determining the polarity (positivity/negativity) of a review.\n",
        "\n",
        "\n"
      ]
    },
    {
      "cell_type": "markdown",
      "metadata": {
        "id": "yp_omMC6tE2n",
        "colab_type": "text"
      },
      "source": [
        "# [1]. Reading Data"
      ]
    },
    {
      "cell_type": "markdown",
      "metadata": {
        "id": "a-UYaP8HtE2o",
        "colab_type": "text"
      },
      "source": [
        "## [1.1] Loading the data\n",
        "\n",
        "The dataset is available in two forms\n",
        "1. .csv file\n",
        "2. SQLite Database\n",
        "\n",
        "In order to load the data, We have used the SQLITE dataset as it is easier to query the data and visualise the data efficiently.\n",
        "<br> \n",
        "\n",
        "Here as we only want to get the global sentiment of the recommendations (positive or negative), we will purposefully ignore all Scores equal to 3. If the score is above 3, then the recommendation wil be set to \"positive\". Otherwise, it will be set to \"negative\"."
      ]
    },
    {
      "cell_type": "code",
      "metadata": {
        "id": "3hxCuChdtE2q",
        "colab_type": "code",
        "colab": {}
      },
      "source": [
        "%matplotlib inline\n",
        "import warnings\n",
        "warnings.filterwarnings(\"ignore\")\n",
        "\n",
        "\n",
        "import sqlite3\n",
        "import pandas as pd\n",
        "import numpy as np\n",
        "import nltk\n",
        "import string\n",
        "import matplotlib.pyplot as plt\n",
        "import seaborn as sns\n",
        "from sklearn.feature_extraction.text import TfidfTransformer\n",
        "from sklearn.feature_extraction.text import TfidfVectorizer\n",
        "\n",
        "from sklearn.feature_extraction.text import CountVectorizer\n",
        "from sklearn.metrics import confusion_matrix\n",
        "from sklearn import metrics\n",
        "from sklearn.metrics import roc_curve, auc\n",
        "from nltk.stem.porter import PorterStemmer\n",
        "\n",
        "import re\n",
        "# Tutorial about Python regular expressions: https://pymotw.com/2/re/\n",
        "import string\n",
        "from nltk.corpus import stopwords\n",
        "from nltk.stem import PorterStemmer\n",
        "from nltk.stem.wordnet import WordNetLemmatizer\n",
        "\n",
        "from gensim.models import Word2Vec\n",
        "from gensim.models import KeyedVectors\n",
        "import pickle\n",
        "\n",
        "from tqdm import tqdm\n",
        "import os"
      ],
      "execution_count": 0,
      "outputs": []
    },
    {
      "cell_type": "code",
      "metadata": {
        "id": "sekGv8nitLAM",
        "colab_type": "code",
        "colab": {
          "base_uri": "https://localhost:8080/",
          "height": 122
        },
        "outputId": "805ffc5a-e910-4d02-a4c8-e1c9d5ae61c1"
      },
      "source": [
        "from google.colab import drive\n",
        "drive.mount('/gdrive')"
      ],
      "execution_count": 2,
      "outputs": [
        {
          "output_type": "stream",
          "text": [
            "Go to this URL in a browser: https://accounts.google.com/o/oauth2/auth?client_id=947318989803-6bn6qk8qdgf4n4g3pfee6491hc0brc4i.apps.googleusercontent.com&redirect_uri=urn%3Aietf%3Awg%3Aoauth%3A2.0%3Aoob&scope=email%20https%3A%2F%2Fwww.googleapis.com%2Fauth%2Fdocs.test%20https%3A%2F%2Fwww.googleapis.com%2Fauth%2Fdrive%20https%3A%2F%2Fwww.googleapis.com%2Fauth%2Fdrive.photos.readonly%20https%3A%2F%2Fwww.googleapis.com%2Fauth%2Fpeopleapi.readonly&response_type=code\n",
            "\n",
            "Enter your authorization code:\n",
            "··········\n",
            "Mounted at /gdrive\n"
          ],
          "name": "stdout"
        }
      ]
    },
    {
      "cell_type": "code",
      "metadata": {
        "id": "GFY3xHeWtE2x",
        "colab_type": "code",
        "colab": {
          "base_uri": "https://localhost:8080/",
          "height": 244
        },
        "outputId": "26a520a8-ccb9-4119-85ff-3e4b5e05eba1"
      },
      "source": [
        "# using SQLite Table to read data.\n",
        "con = sqlite3.connect('/gdrive/My Drive/Colab Notebooks/database.sqlite') \n",
        "\n",
        "# filtering only positive and negative reviews i.e. \n",
        "# not taking into consideration those reviews with Score=3\n",
        "# SELECT * FROM Reviews WHERE Score != 3 LIMIT 500000, will give top 500000 data points\n",
        "# you can change the number to any other number based on your computing power\n",
        "\n",
        "# filtered_data = pd.read_sql_query(\"\"\" SELECT * FROM Reviews WHERE Score != 3 LIMIT 500000\"\"\", con) \n",
        "# for tsne assignment you can take 5k data points\n",
        "\n",
        "filtered_data = pd.read_sql_query(\"\"\" SELECT * FROM Reviews WHERE Score != 3 LIMIT 500000\"\"\", con) \n",
        "\n",
        "# Give reviews with Score>3 a positive rating(1), and reviews with a score<3 a negative rating(0).\n",
        "def partition(x):\n",
        "    if x < 3:\n",
        "        return 0\n",
        "    return 1\n",
        "\n",
        "#changing reviews with score less than 3 to be positive and vice-versa\n",
        "actualScore = filtered_data['Score']\n",
        "positiveNegative = actualScore.map(partition) \n",
        "filtered_data['Score'] = positiveNegative\n",
        "print(\"Number of data points in our data\", filtered_data.shape)\n",
        "filtered_data.head(3)"
      ],
      "execution_count": 3,
      "outputs": [
        {
          "output_type": "stream",
          "text": [
            "Number of data points in our data (500000, 10)\n"
          ],
          "name": "stdout"
        },
        {
          "output_type": "execute_result",
          "data": {
            "text/html": [
              "<div>\n",
              "<style scoped>\n",
              "    .dataframe tbody tr th:only-of-type {\n",
              "        vertical-align: middle;\n",
              "    }\n",
              "\n",
              "    .dataframe tbody tr th {\n",
              "        vertical-align: top;\n",
              "    }\n",
              "\n",
              "    .dataframe thead th {\n",
              "        text-align: right;\n",
              "    }\n",
              "</style>\n",
              "<table border=\"1\" class=\"dataframe\">\n",
              "  <thead>\n",
              "    <tr style=\"text-align: right;\">\n",
              "      <th></th>\n",
              "      <th>Id</th>\n",
              "      <th>ProductId</th>\n",
              "      <th>UserId</th>\n",
              "      <th>ProfileName</th>\n",
              "      <th>HelpfulnessNumerator</th>\n",
              "      <th>HelpfulnessDenominator</th>\n",
              "      <th>Score</th>\n",
              "      <th>Time</th>\n",
              "      <th>Summary</th>\n",
              "      <th>Text</th>\n",
              "    </tr>\n",
              "  </thead>\n",
              "  <tbody>\n",
              "    <tr>\n",
              "      <th>0</th>\n",
              "      <td>1</td>\n",
              "      <td>B001E4KFG0</td>\n",
              "      <td>A3SGXH7AUHU8GW</td>\n",
              "      <td>delmartian</td>\n",
              "      <td>1</td>\n",
              "      <td>1</td>\n",
              "      <td>1</td>\n",
              "      <td>1303862400</td>\n",
              "      <td>Good Quality Dog Food</td>\n",
              "      <td>I have bought several of the Vitality canned d...</td>\n",
              "    </tr>\n",
              "    <tr>\n",
              "      <th>1</th>\n",
              "      <td>2</td>\n",
              "      <td>B00813GRG4</td>\n",
              "      <td>A1D87F6ZCVE5NK</td>\n",
              "      <td>dll pa</td>\n",
              "      <td>0</td>\n",
              "      <td>0</td>\n",
              "      <td>0</td>\n",
              "      <td>1346976000</td>\n",
              "      <td>Not as Advertised</td>\n",
              "      <td>Product arrived labeled as Jumbo Salted Peanut...</td>\n",
              "    </tr>\n",
              "    <tr>\n",
              "      <th>2</th>\n",
              "      <td>3</td>\n",
              "      <td>B000LQOCH0</td>\n",
              "      <td>ABXLMWJIXXAIN</td>\n",
              "      <td>Natalia Corres \"Natalia Corres\"</td>\n",
              "      <td>1</td>\n",
              "      <td>1</td>\n",
              "      <td>1</td>\n",
              "      <td>1219017600</td>\n",
              "      <td>\"Delight\" says it all</td>\n",
              "      <td>This is a confection that has been around a fe...</td>\n",
              "    </tr>\n",
              "  </tbody>\n",
              "</table>\n",
              "</div>"
            ],
            "text/plain": [
              "   Id  ...                                               Text\n",
              "0   1  ...  I have bought several of the Vitality canned d...\n",
              "1   2  ...  Product arrived labeled as Jumbo Salted Peanut...\n",
              "2   3  ...  This is a confection that has been around a fe...\n",
              "\n",
              "[3 rows x 10 columns]"
            ]
          },
          "metadata": {
            "tags": []
          },
          "execution_count": 3
        }
      ]
    },
    {
      "cell_type": "code",
      "metadata": {
        "id": "I5776avJtE27",
        "colab_type": "code",
        "colab": {}
      },
      "source": [
        "display = pd.read_sql_query(\"\"\"\n",
        "SELECT UserId, ProductId, ProfileName, Time, Score, Text, COUNT(*)\n",
        "FROM Reviews\n",
        "GROUP BY UserId\n",
        "HAVING COUNT(*)>1\n",
        "\"\"\", con)"
      ],
      "execution_count": 0,
      "outputs": []
    },
    {
      "cell_type": "code",
      "metadata": {
        "scrolled": true,
        "id": "XZky1wVXtE3P",
        "colab_type": "code",
        "colab": {
          "base_uri": "https://localhost:8080/",
          "height": 221
        },
        "outputId": "79cb07bf-a9cd-45fe-cdf7-c7195354ec17"
      },
      "source": [
        "print(display.shape)\n",
        "display.head()"
      ],
      "execution_count": 5,
      "outputs": [
        {
          "output_type": "stream",
          "text": [
            "(80668, 7)\n"
          ],
          "name": "stdout"
        },
        {
          "output_type": "execute_result",
          "data": {
            "text/html": [
              "<div>\n",
              "<style scoped>\n",
              "    .dataframe tbody tr th:only-of-type {\n",
              "        vertical-align: middle;\n",
              "    }\n",
              "\n",
              "    .dataframe tbody tr th {\n",
              "        vertical-align: top;\n",
              "    }\n",
              "\n",
              "    .dataframe thead th {\n",
              "        text-align: right;\n",
              "    }\n",
              "</style>\n",
              "<table border=\"1\" class=\"dataframe\">\n",
              "  <thead>\n",
              "    <tr style=\"text-align: right;\">\n",
              "      <th></th>\n",
              "      <th>UserId</th>\n",
              "      <th>ProductId</th>\n",
              "      <th>ProfileName</th>\n",
              "      <th>Time</th>\n",
              "      <th>Score</th>\n",
              "      <th>Text</th>\n",
              "      <th>COUNT(*)</th>\n",
              "    </tr>\n",
              "  </thead>\n",
              "  <tbody>\n",
              "    <tr>\n",
              "      <th>0</th>\n",
              "      <td>#oc-R115TNMSPFT9I7</td>\n",
              "      <td>B007Y59HVM</td>\n",
              "      <td>Breyton</td>\n",
              "      <td>1331510400</td>\n",
              "      <td>2</td>\n",
              "      <td>Overall its just OK when considering the price...</td>\n",
              "      <td>2</td>\n",
              "    </tr>\n",
              "    <tr>\n",
              "      <th>1</th>\n",
              "      <td>#oc-R11D9D7SHXIJB9</td>\n",
              "      <td>B005HG9ET0</td>\n",
              "      <td>Louis E. Emory \"hoppy\"</td>\n",
              "      <td>1342396800</td>\n",
              "      <td>5</td>\n",
              "      <td>My wife has recurring extreme muscle spasms, u...</td>\n",
              "      <td>3</td>\n",
              "    </tr>\n",
              "    <tr>\n",
              "      <th>2</th>\n",
              "      <td>#oc-R11DNU2NBKQ23Z</td>\n",
              "      <td>B007Y59HVM</td>\n",
              "      <td>Kim Cieszykowski</td>\n",
              "      <td>1348531200</td>\n",
              "      <td>1</td>\n",
              "      <td>This coffee is horrible and unfortunately not ...</td>\n",
              "      <td>2</td>\n",
              "    </tr>\n",
              "    <tr>\n",
              "      <th>3</th>\n",
              "      <td>#oc-R11O5J5ZVQE25C</td>\n",
              "      <td>B005HG9ET0</td>\n",
              "      <td>Penguin Chick</td>\n",
              "      <td>1346889600</td>\n",
              "      <td>5</td>\n",
              "      <td>This will be the bottle that you grab from the...</td>\n",
              "      <td>3</td>\n",
              "    </tr>\n",
              "    <tr>\n",
              "      <th>4</th>\n",
              "      <td>#oc-R12KPBODL2B5ZD</td>\n",
              "      <td>B007OSBE1U</td>\n",
              "      <td>Christopher P. Presta</td>\n",
              "      <td>1348617600</td>\n",
              "      <td>1</td>\n",
              "      <td>I didnt like this coffee. Instead of telling y...</td>\n",
              "      <td>2</td>\n",
              "    </tr>\n",
              "  </tbody>\n",
              "</table>\n",
              "</div>"
            ],
            "text/plain": [
              "               UserId  ... COUNT(*)\n",
              "0  #oc-R115TNMSPFT9I7  ...        2\n",
              "1  #oc-R11D9D7SHXIJB9  ...        3\n",
              "2  #oc-R11DNU2NBKQ23Z  ...        2\n",
              "3  #oc-R11O5J5ZVQE25C  ...        3\n",
              "4  #oc-R12KPBODL2B5ZD  ...        2\n",
              "\n",
              "[5 rows x 7 columns]"
            ]
          },
          "metadata": {
            "tags": []
          },
          "execution_count": 5
        }
      ]
    },
    {
      "cell_type": "code",
      "metadata": {
        "id": "Bj_sX4zftE3V",
        "colab_type": "code",
        "colab": {
          "base_uri": "https://localhost:8080/",
          "height": 80
        },
        "outputId": "1fd4361e-6d87-4467-f691-4e862062f9ce"
      },
      "source": [
        "display[display['UserId']=='AZY10LLTJ71NX']"
      ],
      "execution_count": 6,
      "outputs": [
        {
          "output_type": "execute_result",
          "data": {
            "text/html": [
              "<div>\n",
              "<style scoped>\n",
              "    .dataframe tbody tr th:only-of-type {\n",
              "        vertical-align: middle;\n",
              "    }\n",
              "\n",
              "    .dataframe tbody tr th {\n",
              "        vertical-align: top;\n",
              "    }\n",
              "\n",
              "    .dataframe thead th {\n",
              "        text-align: right;\n",
              "    }\n",
              "</style>\n",
              "<table border=\"1\" class=\"dataframe\">\n",
              "  <thead>\n",
              "    <tr style=\"text-align: right;\">\n",
              "      <th></th>\n",
              "      <th>UserId</th>\n",
              "      <th>ProductId</th>\n",
              "      <th>ProfileName</th>\n",
              "      <th>Time</th>\n",
              "      <th>Score</th>\n",
              "      <th>Text</th>\n",
              "      <th>COUNT(*)</th>\n",
              "    </tr>\n",
              "  </thead>\n",
              "  <tbody>\n",
              "    <tr>\n",
              "      <th>80638</th>\n",
              "      <td>AZY10LLTJ71NX</td>\n",
              "      <td>B006P7E5ZI</td>\n",
              "      <td>undertheshrine \"undertheshrine\"</td>\n",
              "      <td>1334707200</td>\n",
              "      <td>5</td>\n",
              "      <td>I was recommended to try green tea extract to ...</td>\n",
              "      <td>5</td>\n",
              "    </tr>\n",
              "  </tbody>\n",
              "</table>\n",
              "</div>"
            ],
            "text/plain": [
              "              UserId  ... COUNT(*)\n",
              "80638  AZY10LLTJ71NX  ...        5\n",
              "\n",
              "[1 rows x 7 columns]"
            ]
          },
          "metadata": {
            "tags": []
          },
          "execution_count": 6
        }
      ]
    },
    {
      "cell_type": "code",
      "metadata": {
        "id": "JZVSTHN-tE3c",
        "colab_type": "code",
        "colab": {
          "base_uri": "https://localhost:8080/",
          "height": 34
        },
        "outputId": "e1ce89e7-0012-4ec6-b122-b33609f31a9b"
      },
      "source": [
        "display['COUNT(*)'].sum()"
      ],
      "execution_count": 7,
      "outputs": [
        {
          "output_type": "execute_result",
          "data": {
            "text/plain": [
              "393063"
            ]
          },
          "metadata": {
            "tags": []
          },
          "execution_count": 7
        }
      ]
    },
    {
      "cell_type": "markdown",
      "metadata": {
        "id": "pt4JGaPxtE3i",
        "colab_type": "text"
      },
      "source": [
        "#  [2] Exploratory Data Analysis"
      ]
    },
    {
      "cell_type": "markdown",
      "metadata": {
        "id": "ba4-xSMktE3j",
        "colab_type": "text"
      },
      "source": [
        "## [2.1] Data Cleaning: Deduplication\n",
        "\n",
        "It is observed (as shown in the table below) that the reviews data had many duplicate entries. Hence it was necessary to remove duplicates in order to get unbiased results for the analysis of the data.  Following is an example:"
      ]
    },
    {
      "cell_type": "code",
      "metadata": {
        "scrolled": false,
        "id": "TNI_2dpatE3l",
        "colab_type": "code",
        "colab": {
          "base_uri": "https://localhost:8080/",
          "height": 459
        },
        "outputId": "337a3de7-05c5-4eb0-8b02-afc196a4edc5"
      },
      "source": [
        "display= pd.read_sql_query(\"\"\"\n",
        "SELECT *\n",
        "FROM Reviews\n",
        "WHERE Score != 3 AND UserId=\"AR5J8UI46CURR\"\n",
        "ORDER BY ProductID\n",
        "\"\"\", con)\n",
        "display.head()"
      ],
      "execution_count": 8,
      "outputs": [
        {
          "output_type": "execute_result",
          "data": {
            "text/html": [
              "<div>\n",
              "<style scoped>\n",
              "    .dataframe tbody tr th:only-of-type {\n",
              "        vertical-align: middle;\n",
              "    }\n",
              "\n",
              "    .dataframe tbody tr th {\n",
              "        vertical-align: top;\n",
              "    }\n",
              "\n",
              "    .dataframe thead th {\n",
              "        text-align: right;\n",
              "    }\n",
              "</style>\n",
              "<table border=\"1\" class=\"dataframe\">\n",
              "  <thead>\n",
              "    <tr style=\"text-align: right;\">\n",
              "      <th></th>\n",
              "      <th>Id</th>\n",
              "      <th>ProductId</th>\n",
              "      <th>UserId</th>\n",
              "      <th>ProfileName</th>\n",
              "      <th>HelpfulnessNumerator</th>\n",
              "      <th>HelpfulnessDenominator</th>\n",
              "      <th>Score</th>\n",
              "      <th>Time</th>\n",
              "      <th>Summary</th>\n",
              "      <th>Text</th>\n",
              "    </tr>\n",
              "  </thead>\n",
              "  <tbody>\n",
              "    <tr>\n",
              "      <th>0</th>\n",
              "      <td>78445</td>\n",
              "      <td>B000HDL1RQ</td>\n",
              "      <td>AR5J8UI46CURR</td>\n",
              "      <td>Geetha Krishnan</td>\n",
              "      <td>2</td>\n",
              "      <td>2</td>\n",
              "      <td>5</td>\n",
              "      <td>1199577600</td>\n",
              "      <td>LOACKER QUADRATINI VANILLA WAFERS</td>\n",
              "      <td>DELICIOUS WAFERS. I FIND THAT EUROPEAN WAFERS ...</td>\n",
              "    </tr>\n",
              "    <tr>\n",
              "      <th>1</th>\n",
              "      <td>138317</td>\n",
              "      <td>B000HDOPYC</td>\n",
              "      <td>AR5J8UI46CURR</td>\n",
              "      <td>Geetha Krishnan</td>\n",
              "      <td>2</td>\n",
              "      <td>2</td>\n",
              "      <td>5</td>\n",
              "      <td>1199577600</td>\n",
              "      <td>LOACKER QUADRATINI VANILLA WAFERS</td>\n",
              "      <td>DELICIOUS WAFERS. I FIND THAT EUROPEAN WAFERS ...</td>\n",
              "    </tr>\n",
              "    <tr>\n",
              "      <th>2</th>\n",
              "      <td>138277</td>\n",
              "      <td>B000HDOPYM</td>\n",
              "      <td>AR5J8UI46CURR</td>\n",
              "      <td>Geetha Krishnan</td>\n",
              "      <td>2</td>\n",
              "      <td>2</td>\n",
              "      <td>5</td>\n",
              "      <td>1199577600</td>\n",
              "      <td>LOACKER QUADRATINI VANILLA WAFERS</td>\n",
              "      <td>DELICIOUS WAFERS. I FIND THAT EUROPEAN WAFERS ...</td>\n",
              "    </tr>\n",
              "    <tr>\n",
              "      <th>3</th>\n",
              "      <td>73791</td>\n",
              "      <td>B000HDOPZG</td>\n",
              "      <td>AR5J8UI46CURR</td>\n",
              "      <td>Geetha Krishnan</td>\n",
              "      <td>2</td>\n",
              "      <td>2</td>\n",
              "      <td>5</td>\n",
              "      <td>1199577600</td>\n",
              "      <td>LOACKER QUADRATINI VANILLA WAFERS</td>\n",
              "      <td>DELICIOUS WAFERS. I FIND THAT EUROPEAN WAFERS ...</td>\n",
              "    </tr>\n",
              "    <tr>\n",
              "      <th>4</th>\n",
              "      <td>155049</td>\n",
              "      <td>B000PAQ75C</td>\n",
              "      <td>AR5J8UI46CURR</td>\n",
              "      <td>Geetha Krishnan</td>\n",
              "      <td>2</td>\n",
              "      <td>2</td>\n",
              "      <td>5</td>\n",
              "      <td>1199577600</td>\n",
              "      <td>LOACKER QUADRATINI VANILLA WAFERS</td>\n",
              "      <td>DELICIOUS WAFERS. I FIND THAT EUROPEAN WAFERS ...</td>\n",
              "    </tr>\n",
              "  </tbody>\n",
              "</table>\n",
              "</div>"
            ],
            "text/plain": [
              "       Id  ...                                               Text\n",
              "0   78445  ...  DELICIOUS WAFERS. I FIND THAT EUROPEAN WAFERS ...\n",
              "1  138317  ...  DELICIOUS WAFERS. I FIND THAT EUROPEAN WAFERS ...\n",
              "2  138277  ...  DELICIOUS WAFERS. I FIND THAT EUROPEAN WAFERS ...\n",
              "3   73791  ...  DELICIOUS WAFERS. I FIND THAT EUROPEAN WAFERS ...\n",
              "4  155049  ...  DELICIOUS WAFERS. I FIND THAT EUROPEAN WAFERS ...\n",
              "\n",
              "[5 rows x 10 columns]"
            ]
          },
          "metadata": {
            "tags": []
          },
          "execution_count": 8
        }
      ]
    },
    {
      "cell_type": "markdown",
      "metadata": {
        "id": "WHfL2M2ptE3r",
        "colab_type": "text"
      },
      "source": [
        "As it can be seen above that same user has multiple reviews with same values for HelpfulnessNumerator, HelpfulnessDenominator, Score, Time, Summary and Text and on doing analysis it was found that <br>\n",
        "<br> \n",
        "ProductId=B000HDOPZG was Loacker Quadratini Vanilla Wafer Cookies, 8.82-Ounce Packages (Pack of 8)<br>\n",
        "<br> \n",
        "ProductId=B000HDL1RQ was Loacker Quadratini Lemon Wafer Cookies, 8.82-Ounce Packages (Pack of 8) and so on<br>\n",
        "\n",
        "It was inferred after analysis that reviews with same parameters other than ProductId belonged to the same product just having different flavour or quantity. Hence in order to reduce redundancy it was decided to eliminate the rows having same parameters.<br>\n",
        "\n",
        "The method used for the same was that we first sort the data according to ProductId and then just keep the first similar product review and delelte the others. for eg. in the above just the review for ProductId=B000HDL1RQ remains. This method ensures that there is only one representative for each product and deduplication without sorting would lead to possibility of different representatives still existing for the same product."
      ]
    },
    {
      "cell_type": "code",
      "metadata": {
        "id": "beco4JzVtE3s",
        "colab_type": "code",
        "colab": {}
      },
      "source": [
        "#Sorting data according to ProductId in ascending order\n",
        "sorted_data=filtered_data.sort_values('ProductId', axis=0, ascending=True, inplace=False, kind='quicksort', na_position='last')"
      ],
      "execution_count": 0,
      "outputs": []
    },
    {
      "cell_type": "code",
      "metadata": {
        "id": "quy9oqGGtE37",
        "colab_type": "code",
        "colab": {
          "base_uri": "https://localhost:8080/",
          "height": 34
        },
        "outputId": "789253ca-fc95-487f-db39-bd5d6b4b5ea4"
      },
      "source": [
        "#Deduplication of entries\n",
        "final=sorted_data.drop_duplicates(subset={\"UserId\",\"ProfileName\",\"Time\",\"Text\"}, keep='first', inplace=False)\n",
        "final.shape"
      ],
      "execution_count": 10,
      "outputs": [
        {
          "output_type": "execute_result",
          "data": {
            "text/plain": [
              "(348262, 10)"
            ]
          },
          "metadata": {
            "tags": []
          },
          "execution_count": 10
        }
      ]
    },
    {
      "cell_type": "code",
      "metadata": {
        "id": "wNNEDqXgtE4B",
        "colab_type": "code",
        "colab": {
          "base_uri": "https://localhost:8080/",
          "height": 34
        },
        "outputId": "ce417da4-d251-4123-c2a1-bf7dad07d9af"
      },
      "source": [
        "#Checking to see how much % of data still remains\n",
        "(final['Id'].size*1.0)/(filtered_data['Id'].size*1.0)*100"
      ],
      "execution_count": 11,
      "outputs": [
        {
          "output_type": "execute_result",
          "data": {
            "text/plain": [
              "69.6524"
            ]
          },
          "metadata": {
            "tags": []
          },
          "execution_count": 11
        }
      ]
    },
    {
      "cell_type": "markdown",
      "metadata": {
        "id": "0kucs2Z_tE4H",
        "colab_type": "text"
      },
      "source": [
        "<b>Observation:-</b> It was also seen that in two rows given below the value of HelpfulnessNumerator is greater than HelpfulnessDenominator which is not practically possible hence these two rows too are removed from calcualtions"
      ]
    },
    {
      "cell_type": "code",
      "metadata": {
        "id": "oPNClkGTtE4I",
        "colab_type": "code",
        "colab": {
          "base_uri": "https://localhost:8080/",
          "height": 179
        },
        "outputId": "178f582b-868a-4b77-e38b-2f1300aae65a"
      },
      "source": [
        "display= pd.read_sql_query(\"\"\"\n",
        "SELECT *\n",
        "FROM Reviews\n",
        "WHERE Score != 3 AND Id=44737 OR Id=64422\n",
        "ORDER BY ProductID\n",
        "\"\"\", con)\n",
        "\n",
        "display.head()"
      ],
      "execution_count": 12,
      "outputs": [
        {
          "output_type": "execute_result",
          "data": {
            "text/html": [
              "<div>\n",
              "<style scoped>\n",
              "    .dataframe tbody tr th:only-of-type {\n",
              "        vertical-align: middle;\n",
              "    }\n",
              "\n",
              "    .dataframe tbody tr th {\n",
              "        vertical-align: top;\n",
              "    }\n",
              "\n",
              "    .dataframe thead th {\n",
              "        text-align: right;\n",
              "    }\n",
              "</style>\n",
              "<table border=\"1\" class=\"dataframe\">\n",
              "  <thead>\n",
              "    <tr style=\"text-align: right;\">\n",
              "      <th></th>\n",
              "      <th>Id</th>\n",
              "      <th>ProductId</th>\n",
              "      <th>UserId</th>\n",
              "      <th>ProfileName</th>\n",
              "      <th>HelpfulnessNumerator</th>\n",
              "      <th>HelpfulnessDenominator</th>\n",
              "      <th>Score</th>\n",
              "      <th>Time</th>\n",
              "      <th>Summary</th>\n",
              "      <th>Text</th>\n",
              "    </tr>\n",
              "  </thead>\n",
              "  <tbody>\n",
              "    <tr>\n",
              "      <th>0</th>\n",
              "      <td>64422</td>\n",
              "      <td>B000MIDROQ</td>\n",
              "      <td>A161DK06JJMCYF</td>\n",
              "      <td>J. E. Stephens \"Jeanne\"</td>\n",
              "      <td>3</td>\n",
              "      <td>1</td>\n",
              "      <td>5</td>\n",
              "      <td>1224892800</td>\n",
              "      <td>Bought This for My Son at College</td>\n",
              "      <td>My son loves spaghetti so I didn't hesitate or...</td>\n",
              "    </tr>\n",
              "    <tr>\n",
              "      <th>1</th>\n",
              "      <td>44737</td>\n",
              "      <td>B001EQ55RW</td>\n",
              "      <td>A2V0I904FH7ABY</td>\n",
              "      <td>Ram</td>\n",
              "      <td>3</td>\n",
              "      <td>2</td>\n",
              "      <td>4</td>\n",
              "      <td>1212883200</td>\n",
              "      <td>Pure cocoa taste with crunchy almonds inside</td>\n",
              "      <td>It was almost a 'love at first bite' - the per...</td>\n",
              "    </tr>\n",
              "  </tbody>\n",
              "</table>\n",
              "</div>"
            ],
            "text/plain": [
              "      Id  ...                                               Text\n",
              "0  64422  ...  My son loves spaghetti so I didn't hesitate or...\n",
              "1  44737  ...  It was almost a 'love at first bite' - the per...\n",
              "\n",
              "[2 rows x 10 columns]"
            ]
          },
          "metadata": {
            "tags": []
          },
          "execution_count": 12
        }
      ]
    },
    {
      "cell_type": "code",
      "metadata": {
        "id": "ppH8kFhhtE4O",
        "colab_type": "code",
        "colab": {}
      },
      "source": [
        "final=final[final.HelpfulnessNumerator<=final.HelpfulnessDenominator]"
      ],
      "execution_count": 0,
      "outputs": []
    },
    {
      "cell_type": "code",
      "metadata": {
        "id": "gjnZ5wp2tE4U",
        "colab_type": "code",
        "colab": {
          "base_uri": "https://localhost:8080/",
          "height": 85
        },
        "outputId": "e452b096-f026-4d26-e107-46c497b725c1"
      },
      "source": [
        "#Before starting the next phase of preprocessing lets see the number of entries left\n",
        "print(final.shape)\n",
        "\n",
        "#How many positive and negative reviews are present in our dataset?\n",
        "final['Score'].value_counts()"
      ],
      "execution_count": 14,
      "outputs": [
        {
          "output_type": "stream",
          "text": [
            "(348260, 10)\n"
          ],
          "name": "stdout"
        },
        {
          "output_type": "execute_result",
          "data": {
            "text/plain": [
              "1    293516\n",
              "0     54744\n",
              "Name: Score, dtype: int64"
            ]
          },
          "metadata": {
            "tags": []
          },
          "execution_count": 14
        }
      ]
    },
    {
      "cell_type": "markdown",
      "metadata": {
        "id": "jjCNveAOtE4g",
        "colab_type": "text"
      },
      "source": [
        "#  [3] Preprocessing"
      ]
    },
    {
      "cell_type": "markdown",
      "metadata": {
        "id": "opw_fPc-tE4i",
        "colab_type": "text"
      },
      "source": [
        "## [3.1].  Preprocessing Review Text\n",
        "\n",
        "Now that we have finished deduplication our data requires some preprocessing before we go on further with analysis and making the prediction model.\n",
        "\n",
        "Hence in the Preprocessing phase we do the following in the order below:-\n",
        "\n",
        "1. Begin by removing the html tags\n",
        "2. Remove any punctuations or limited set of special characters like , or . or # etc.\n",
        "3. Check if the word is made up of english letters and is not alpha-numeric\n",
        "4. Check to see if the length of the word is greater than 2 (as it was researched that there is no adjective in 2-letters)\n",
        "5. Convert the word to lowercase\n",
        "6. Remove Stopwords\n",
        "7. Finally Snowball Stemming the word (it was obsereved to be better than Porter Stemming)<br>\n",
        "\n",
        "After which we collect the words used to describe positive and negative reviews"
      ]
    },
    {
      "cell_type": "code",
      "metadata": {
        "id": "KjxkZCmTtE4j",
        "colab_type": "code",
        "colab": {
          "base_uri": "https://localhost:8080/",
          "height": 173
        },
        "outputId": "cc835f47-0822-455f-e96e-f5ae0a5d4239"
      },
      "source": [
        "# printing some random reviews\n",
        "sent_0 = final['Text'].values[0]\n",
        "print(sent_0)\n",
        "print(\"=\"*50)\n",
        "\n",
        "sent_1000 = final['Text'].values[1000]\n",
        "print(sent_1000)\n",
        "print(\"=\"*50)\n",
        "\n",
        "sent_1500 = final['Text'].values[1500]\n",
        "print(sent_1500)\n",
        "print(\"=\"*50)\n",
        "\n",
        "sent_4900 = final['Text'].values[4900]\n",
        "print(sent_4900)\n",
        "print(\"=\"*50)"
      ],
      "execution_count": 15,
      "outputs": [
        {
          "output_type": "stream",
          "text": [
            "This book was purchased as a birthday gift for a 4 year old boy. He squealed with delight and hugged it when told it was his to keep and he did not have to return it to the library.\n",
            "==================================================\n",
            "I've purchased both the Espressione Espresso (classic) and the 100% Arabica.  My vote is definitely with the 100% Arabica.  The flavor has more bite and flavor (much more like European coffee than American).\n",
            "==================================================\n",
            "This is a great product. It is very healthy for all of our dogs, and it is the first food that they all love to eat. It helped my older dog lose weight and my 10 year old lab gain the weight he needed to be healthy.\n",
            "==================================================\n",
            "I find everything I need at Amazon so I always look there first. Chocolate tennis balls for a tennis party, perfect! They were the size of malted milk balls. Unfortunately, they arrived 3 days after the party. The caveat here is, not everything from Amazon may arrive at an impressive 2 or 3 days. This shipment took 8 days from the Candy/Cosmetic Depot back east to southern California.\n",
            "==================================================\n"
          ],
          "name": "stdout"
        }
      ]
    },
    {
      "cell_type": "code",
      "metadata": {
        "id": "V3hOYcfNtE4q",
        "colab_type": "code",
        "colab": {
          "base_uri": "https://localhost:8080/",
          "height": 54
        },
        "outputId": "a91b2199-2a85-4842-cd09-2ace8d081521"
      },
      "source": [
        "# remove urls from text python: https://stackoverflow.com/a/40823105/4084039\n",
        "sent_0 = re.sub(r\"http\\S+\", \"\", sent_0)\n",
        "sent_1000 = re.sub(r\"http\\S+\", \"\", sent_1000)\n",
        "sent_150 = re.sub(r\"http\\S+\", \"\", sent_1500)\n",
        "sent_4900 = re.sub(r\"http\\S+\", \"\", sent_4900)\n",
        "\n",
        "print(sent_0)"
      ],
      "execution_count": 16,
      "outputs": [
        {
          "output_type": "stream",
          "text": [
            "This book was purchased as a birthday gift for a 4 year old boy. He squealed with delight and hugged it when told it was his to keep and he did not have to return it to the library.\n"
          ],
          "name": "stdout"
        }
      ]
    },
    {
      "cell_type": "code",
      "metadata": {
        "id": "QkUu4PYxtE4z",
        "colab_type": "code",
        "colab": {
          "base_uri": "https://localhost:8080/",
          "height": 156
        },
        "outputId": "859c241b-a236-44d7-ad5c-67bd9b2782e5"
      },
      "source": [
        "# https://stackoverflow.com/questions/16206380/python-beautifulsoup-how-to-remove-all-tags-from-an-element\n",
        "from bs4 import BeautifulSoup\n",
        "\n",
        "soup = BeautifulSoup(sent_0, 'lxml')\n",
        "text = soup.get_text()\n",
        "print(text)\n",
        "print(\"=\"*50)\n",
        "\n",
        "soup = BeautifulSoup(sent_1000, 'lxml')\n",
        "text = soup.get_text()\n",
        "print(text)\n",
        "print(\"=\"*50)\n",
        "\n",
        "soup = BeautifulSoup(sent_1500, 'lxml')\n",
        "text = soup.get_text()\n",
        "print(text)\n",
        "print(\"=\"*50)\n",
        "\n",
        "soup = BeautifulSoup(sent_4900, 'lxml')\n",
        "text = soup.get_text()\n",
        "print(text)"
      ],
      "execution_count": 17,
      "outputs": [
        {
          "output_type": "stream",
          "text": [
            "This book was purchased as a birthday gift for a 4 year old boy. He squealed with delight and hugged it when told it was his to keep and he did not have to return it to the library.\n",
            "==================================================\n",
            "I've purchased both the Espressione Espresso (classic) and the 100% Arabica.  My vote is definitely with the 100% Arabica.  The flavor has more bite and flavor (much more like European coffee than American).\n",
            "==================================================\n",
            "This is a great product. It is very healthy for all of our dogs, and it is the first food that they all love to eat. It helped my older dog lose weight and my 10 year old lab gain the weight he needed to be healthy.\n",
            "==================================================\n",
            "I find everything I need at Amazon so I always look there first. Chocolate tennis balls for a tennis party, perfect! They were the size of malted milk balls. Unfortunately, they arrived 3 days after the party. The caveat here is, not everything from Amazon may arrive at an impressive 2 or 3 days. This shipment took 8 days from the Candy/Cosmetic Depot back east to southern California.\n"
          ],
          "name": "stdout"
        }
      ]
    },
    {
      "cell_type": "code",
      "metadata": {
        "id": "AvNRgNO8tE47",
        "colab_type": "code",
        "colab": {}
      },
      "source": [
        "# https://stackoverflow.com/a/47091490/4084039\n",
        "import re\n",
        "\n",
        "def decontracted(phrase):\n",
        "    # specific\n",
        "    phrase = re.sub(r\"won't\", \"will not\", phrase)\n",
        "    phrase = re.sub(r\"can\\'t\", \"can not\", phrase)\n",
        "\n",
        "    # general\n",
        "    phrase = re.sub(r\"n\\'t\", \" not\", phrase)\n",
        "    phrase = re.sub(r\"\\'re\", \" are\", phrase)\n",
        "    phrase = re.sub(r\"\\'s\", \" is\", phrase)\n",
        "    phrase = re.sub(r\"\\'d\", \" would\", phrase)\n",
        "    phrase = re.sub(r\"\\'ll\", \" will\", phrase)\n",
        "    phrase = re.sub(r\"\\'t\", \" not\", phrase)\n",
        "    phrase = re.sub(r\"\\'ve\", \" have\", phrase)\n",
        "    phrase = re.sub(r\"\\'m\", \" am\", phrase)\n",
        "    return phrase"
      ],
      "execution_count": 0,
      "outputs": []
    },
    {
      "cell_type": "code",
      "metadata": {
        "id": "p0X2ZdROtE5Q",
        "colab_type": "code",
        "colab": {
          "base_uri": "https://localhost:8080/",
          "height": 71
        },
        "outputId": "985ef8db-2513-4403-84f8-e993a22224b0"
      },
      "source": [
        "sent_1500 = decontracted(sent_1500)\n",
        "print(sent_1500)\n",
        "print(\"=\"*50)"
      ],
      "execution_count": 19,
      "outputs": [
        {
          "output_type": "stream",
          "text": [
            "This is a great product. It is very healthy for all of our dogs, and it is the first food that they all love to eat. It helped my older dog lose weight and my 10 year old lab gain the weight he needed to be healthy.\n",
            "==================================================\n"
          ],
          "name": "stdout"
        }
      ]
    },
    {
      "cell_type": "code",
      "metadata": {
        "id": "m8_mhtpntE5V",
        "colab_type": "code",
        "colab": {
          "base_uri": "https://localhost:8080/",
          "height": 54
        },
        "outputId": "9d76b716-42fc-439c-e30a-98d28caf29a0"
      },
      "source": [
        "#remove words with numbers python: https://stackoverflow.com/a/18082370/4084039\n",
        "sent_0 = re.sub(\"\\S*\\d\\S*\", \"\", sent_0).strip()\n",
        "print(sent_0)"
      ],
      "execution_count": 20,
      "outputs": [
        {
          "output_type": "stream",
          "text": [
            "This book was purchased as a birthday gift for a  year old boy. He squealed with delight and hugged it when told it was his to keep and he did not have to return it to the library.\n"
          ],
          "name": "stdout"
        }
      ]
    },
    {
      "cell_type": "code",
      "metadata": {
        "id": "slVEEZ3ytE5a",
        "colab_type": "code",
        "colab": {
          "base_uri": "https://localhost:8080/",
          "height": 54
        },
        "outputId": "4c2c604e-5a0a-41fc-96eb-30c3ec94cb7f"
      },
      "source": [
        "#remove spacial character: https://stackoverflow.com/a/5843547/4084039\n",
        "sent_1500 = re.sub('[^A-Za-z0-9]+', ' ', sent_1500)\n",
        "print(sent_1500)"
      ],
      "execution_count": 21,
      "outputs": [
        {
          "output_type": "stream",
          "text": [
            "This is a great product It is very healthy for all of our dogs and it is the first food that they all love to eat It helped my older dog lose weight and my 10 year old lab gain the weight he needed to be healthy \n"
          ],
          "name": "stdout"
        }
      ]
    },
    {
      "cell_type": "code",
      "metadata": {
        "id": "oOK33-EStE5g",
        "colab_type": "code",
        "colab": {}
      },
      "source": [
        "# https://gist.github.com/sebleier/554280\n",
        "# we are removing the words from the stop words list: 'no', 'nor', 'not'\n",
        "# <br /><br /> ==> after the above steps, we are getting \"br br\"\n",
        "# we are including them into stop words list\n",
        "# instead of <br /> if we have <br/> these tags would have revmoved in the 1st step\n",
        "\n",
        "stopwords= set(['br', 'the', 'i', 'me', 'my', 'myself', 'we', 'our', 'ours', 'ourselves', 'you', \"you're\", \"you've\",\\\n",
        "            \"you'll\", \"you'd\", 'your', 'yours', 'yourself', 'yourselves', 'he', 'him', 'his', 'himself', \\\n",
        "            'she', \"she's\", 'her', 'hers', 'herself', 'it', \"it's\", 'its', 'itself', 'they', 'them', 'their',\\\n",
        "            'theirs', 'themselves', 'what', 'which', 'who', 'whom', 'this', 'that', \"that'll\", 'these', 'those', \\\n",
        "            'am', 'is', 'are', 'was', 'were', 'be', 'been', 'being', 'have', 'has', 'had', 'having', 'do', 'does', \\\n",
        "            'did', 'doing', 'a', 'an', 'the', 'and', 'but', 'if', 'or', 'because', 'as', 'until', 'while', 'of', \\\n",
        "            'at', 'by', 'for', 'with', 'about', 'against', 'between', 'into', 'through', 'during', 'before', 'after',\\\n",
        "            'above', 'below', 'to', 'from', 'up', 'down', 'in', 'out', 'on', 'off', 'over', 'under', 'again', 'further',\\\n",
        "            'then', 'once', 'here', 'there', 'when', 'where', 'why', 'how', 'all', 'any', 'both', 'each', 'few', 'more',\\\n",
        "            'most', 'other', 'some', 'such', 'only', 'own', 'same', 'so', 'than', 'too', 'very', \\\n",
        "            's', 't', 'can', 'will', 'just', 'don', \"don't\", 'should', \"should've\", 'now', 'd', 'll', 'm', 'o', 're', \\\n",
        "            've', 'y', 'ain', 'aren', \"aren't\", 'couldn', \"couldn't\", 'didn', \"didn't\", 'doesn', \"doesn't\", 'hadn',\\\n",
        "            \"hadn't\", 'hasn', \"hasn't\", 'haven', \"haven't\", 'isn', \"isn't\", 'ma', 'mightn', \"mightn't\", 'mustn',\\\n",
        "            \"mustn't\", 'needn', \"needn't\", 'shan', \"shan't\", 'shouldn', \"shouldn't\", 'wasn', \"wasn't\", 'weren', \"weren't\", \\\n",
        "            'won', \"won't\", 'wouldn', \"wouldn't\"])"
      ],
      "execution_count": 0,
      "outputs": []
    },
    {
      "cell_type": "code",
      "metadata": {
        "id": "0_9dBD5ltE5j",
        "colab_type": "code",
        "colab": {
          "base_uri": "https://localhost:8080/",
          "height": 34
        },
        "outputId": "ad2b44bc-d592-4cfe-ceee-3acc6fe49846"
      },
      "source": [
        "# Combining all the above stundents \n",
        "from tqdm import tqdm\n",
        "preprocessed_reviews = []\n",
        "# tqdm is for printing the status bar\n",
        "for sentance in tqdm(final['Text'].values):\n",
        "    sentance = re.sub(r\"http\\S+\", \"\", sentance)\n",
        "    sentance = BeautifulSoup(sentance, 'lxml').get_text()\n",
        "    sentance = decontracted(sentance)\n",
        "    sentance = re.sub(\"\\S*\\d\\S*\", \"\", sentance).strip()\n",
        "    sentance = re.sub('[^A-Za-z]+', ' ', sentance)\n",
        "    # https://gist.github.com/sebleier/554280\n",
        "    sentance = ' '.join(e.lower() for e in sentance.split() if e.lower() not in stopwords)\n",
        "    preprocessed_reviews.append(sentance.strip())"
      ],
      "execution_count": 23,
      "outputs": [
        {
          "output_type": "stream",
          "text": [
            "100%|██████████| 348260/348260 [02:17<00:00, 2539.80it/s]\n"
          ],
          "name": "stderr"
        }
      ]
    },
    {
      "cell_type": "code",
      "metadata": {
        "id": "-ZGorZZLtE5q",
        "colab_type": "code",
        "colab": {
          "base_uri": "https://localhost:8080/",
          "height": 34
        },
        "outputId": "a983d26c-f228-4c89-bdd3-425776c2ecca"
      },
      "source": [
        "preprocessed_reviews[1500]"
      ],
      "execution_count": 24,
      "outputs": [
        {
          "output_type": "execute_result",
          "data": {
            "text/plain": [
              "'great product healthy dogs first food love eat helped older dog lose weight year old lab gain weight needed healthy'"
            ]
          },
          "metadata": {
            "tags": []
          },
          "execution_count": 24
        }
      ]
    },
    {
      "cell_type": "markdown",
      "metadata": {
        "id": "mzSMkT2rtE56",
        "colab_type": "text"
      },
      "source": [
        "<h2><font color='red'>[3.2] Preprocessing Review Summary</font></h2>"
      ]
    },
    {
      "cell_type": "code",
      "metadata": {
        "id": "mEZ8wU_6tE57",
        "colab_type": "code",
        "colab": {}
      },
      "source": [
        "## Similartly you can do preprocessing for review summary also."
      ],
      "execution_count": 0,
      "outputs": []
    },
    {
      "cell_type": "code",
      "metadata": {
        "id": "mBnWXIl_tgzC",
        "colab_type": "code",
        "colab": {}
      },
      "source": [
        "final[\"preprocessed_reviews\"] = preprocessed_reviews"
      ],
      "execution_count": 0,
      "outputs": []
    },
    {
      "cell_type": "code",
      "metadata": {
        "id": "js0WNDbPtw44",
        "colab_type": "code",
        "colab": {
          "base_uri": "https://localhost:8080/",
          "height": 615
        },
        "outputId": "73f1f07e-da73-4a24-9647-26111165d2f2"
      },
      "source": [
        "final.head()"
      ],
      "execution_count": 27,
      "outputs": [
        {
          "output_type": "execute_result",
          "data": {
            "text/html": [
              "<div>\n",
              "<style scoped>\n",
              "    .dataframe tbody tr th:only-of-type {\n",
              "        vertical-align: middle;\n",
              "    }\n",
              "\n",
              "    .dataframe tbody tr th {\n",
              "        vertical-align: top;\n",
              "    }\n",
              "\n",
              "    .dataframe thead th {\n",
              "        text-align: right;\n",
              "    }\n",
              "</style>\n",
              "<table border=\"1\" class=\"dataframe\">\n",
              "  <thead>\n",
              "    <tr style=\"text-align: right;\">\n",
              "      <th></th>\n",
              "      <th>Id</th>\n",
              "      <th>ProductId</th>\n",
              "      <th>UserId</th>\n",
              "      <th>ProfileName</th>\n",
              "      <th>HelpfulnessNumerator</th>\n",
              "      <th>HelpfulnessDenominator</th>\n",
              "      <th>Score</th>\n",
              "      <th>Time</th>\n",
              "      <th>Summary</th>\n",
              "      <th>Text</th>\n",
              "      <th>preprocessed_reviews</th>\n",
              "    </tr>\n",
              "  </thead>\n",
              "  <tbody>\n",
              "    <tr>\n",
              "      <th>138702</th>\n",
              "      <td>150520</td>\n",
              "      <td>0006641040</td>\n",
              "      <td>ADBFSA9KTQANE</td>\n",
              "      <td>James L. Hammock \"Pucks Buddy\"</td>\n",
              "      <td>0</td>\n",
              "      <td>0</td>\n",
              "      <td>1</td>\n",
              "      <td>1256688000</td>\n",
              "      <td>Great Gift</td>\n",
              "      <td>This book was purchased as a birthday gift for...</td>\n",
              "      <td>book purchased birthday gift year old boy sque...</td>\n",
              "    </tr>\n",
              "    <tr>\n",
              "      <th>138707</th>\n",
              "      <td>150525</td>\n",
              "      <td>0006641040</td>\n",
              "      <td>A2QID6VCFTY51R</td>\n",
              "      <td>Rick</td>\n",
              "      <td>1</td>\n",
              "      <td>2</td>\n",
              "      <td>1</td>\n",
              "      <td>1025481600</td>\n",
              "      <td>In December it will be, my snowman's anniversa...</td>\n",
              "      <td>My daughter loves all the \"Really Rosie\" books...</td>\n",
              "      <td>daughter loves really rosie books introduced r...</td>\n",
              "    </tr>\n",
              "    <tr>\n",
              "      <th>138708</th>\n",
              "      <td>150526</td>\n",
              "      <td>0006641040</td>\n",
              "      <td>A3E9QZFE9KXH8J</td>\n",
              "      <td>R. Mitchell</td>\n",
              "      <td>11</td>\n",
              "      <td>18</td>\n",
              "      <td>0</td>\n",
              "      <td>1129507200</td>\n",
              "      <td>awesome book poor size</td>\n",
              "      <td>This is one of the best children's books ever ...</td>\n",
              "      <td>one best children books ever written mini vers...</td>\n",
              "    </tr>\n",
              "    <tr>\n",
              "      <th>138692</th>\n",
              "      <td>150510</td>\n",
              "      <td>0006641040</td>\n",
              "      <td>AM1MNZMYMS7D8</td>\n",
              "      <td>Dr. Joshua  Grossman</td>\n",
              "      <td>0</td>\n",
              "      <td>0</td>\n",
              "      <td>1</td>\n",
              "      <td>1348358400</td>\n",
              "      <td>Professional Mentoring</td>\n",
              "      <td>TITLE: Chicken Soup with Rice&lt;br /&gt;AUTHOR: Mau...</td>\n",
              "      <td>title chicken soup riceauthor maurice sendakre...</td>\n",
              "    </tr>\n",
              "    <tr>\n",
              "      <th>138689</th>\n",
              "      <td>150507</td>\n",
              "      <td>0006641040</td>\n",
              "      <td>A1S4A3IQ2MU7V4</td>\n",
              "      <td>sally sue \"sally sue\"</td>\n",
              "      <td>1</td>\n",
              "      <td>1</td>\n",
              "      <td>1</td>\n",
              "      <td>1191456000</td>\n",
              "      <td>chicken soup with rice months</td>\n",
              "      <td>This is a fun way for children to learn their ...</td>\n",
              "      <td>fun way children learn months year learn poems...</td>\n",
              "    </tr>\n",
              "  </tbody>\n",
              "</table>\n",
              "</div>"
            ],
            "text/plain": [
              "            Id  ...                               preprocessed_reviews\n",
              "138702  150520  ...  book purchased birthday gift year old boy sque...\n",
              "138707  150525  ...  daughter loves really rosie books introduced r...\n",
              "138708  150526  ...  one best children books ever written mini vers...\n",
              "138692  150510  ...  title chicken soup riceauthor maurice sendakre...\n",
              "138689  150507  ...  fun way children learn months year learn poems...\n",
              "\n",
              "[5 rows x 11 columns]"
            ]
          },
          "metadata": {
            "tags": []
          },
          "execution_count": 27
        }
      ]
    },
    {
      "cell_type": "code",
      "metadata": {
        "id": "IFQD9JE2tw-4",
        "colab_type": "code",
        "colab": {}
      },
      "source": [
        "final=final.drop([\"Id\",\"ProductId\",\"UserId\",\"ProfileName\",\"HelpfulnessNumerator\"],axis=1)"
      ],
      "execution_count": 0,
      "outputs": []
    },
    {
      "cell_type": "code",
      "metadata": {
        "id": "5xBCDxz3t3Hx",
        "colab_type": "code",
        "colab": {}
      },
      "source": [
        "final_last=final.drop([\"HelpfulnessDenominator\",\"Time\",\"Summary\",\"Text\"],axis=1)"
      ],
      "execution_count": 0,
      "outputs": []
    },
    {
      "cell_type": "code",
      "metadata": {
        "id": "0eH_sZyGt3Ow",
        "colab_type": "code",
        "colab": {
          "base_uri": "https://localhost:8080/",
          "height": 204
        },
        "outputId": "c4fa4c42-ce11-4deb-a215-1b6aaa4734e4"
      },
      "source": [
        "final_last.head()"
      ],
      "execution_count": 30,
      "outputs": [
        {
          "output_type": "execute_result",
          "data": {
            "text/html": [
              "<div>\n",
              "<style scoped>\n",
              "    .dataframe tbody tr th:only-of-type {\n",
              "        vertical-align: middle;\n",
              "    }\n",
              "\n",
              "    .dataframe tbody tr th {\n",
              "        vertical-align: top;\n",
              "    }\n",
              "\n",
              "    .dataframe thead th {\n",
              "        text-align: right;\n",
              "    }\n",
              "</style>\n",
              "<table border=\"1\" class=\"dataframe\">\n",
              "  <thead>\n",
              "    <tr style=\"text-align: right;\">\n",
              "      <th></th>\n",
              "      <th>Score</th>\n",
              "      <th>preprocessed_reviews</th>\n",
              "    </tr>\n",
              "  </thead>\n",
              "  <tbody>\n",
              "    <tr>\n",
              "      <th>138702</th>\n",
              "      <td>1</td>\n",
              "      <td>book purchased birthday gift year old boy sque...</td>\n",
              "    </tr>\n",
              "    <tr>\n",
              "      <th>138707</th>\n",
              "      <td>1</td>\n",
              "      <td>daughter loves really rosie books introduced r...</td>\n",
              "    </tr>\n",
              "    <tr>\n",
              "      <th>138708</th>\n",
              "      <td>0</td>\n",
              "      <td>one best children books ever written mini vers...</td>\n",
              "    </tr>\n",
              "    <tr>\n",
              "      <th>138692</th>\n",
              "      <td>1</td>\n",
              "      <td>title chicken soup riceauthor maurice sendakre...</td>\n",
              "    </tr>\n",
              "    <tr>\n",
              "      <th>138689</th>\n",
              "      <td>1</td>\n",
              "      <td>fun way children learn months year learn poems...</td>\n",
              "    </tr>\n",
              "  </tbody>\n",
              "</table>\n",
              "</div>"
            ],
            "text/plain": [
              "        Score                               preprocessed_reviews\n",
              "138702      1  book purchased birthday gift year old boy sque...\n",
              "138707      1  daughter loves really rosie books introduced r...\n",
              "138708      0  one best children books ever written mini vers...\n",
              "138692      1  title chicken soup riceauthor maurice sendakre...\n",
              "138689      1  fun way children learn months year learn poems..."
            ]
          },
          "metadata": {
            "tags": []
          },
          "execution_count": 30
        }
      ]
    },
    {
      "cell_type": "code",
      "metadata": {
        "id": "JyXbc7j2uAde",
        "colab_type": "code",
        "colab": {}
      },
      "source": [
        "X = final_last[\"preprocessed_reviews\"]\n",
        "\n",
        "Y = final_last[\"Score\"]"
      ],
      "execution_count": 0,
      "outputs": []
    },
    {
      "cell_type": "code",
      "metadata": {
        "id": "sKOipqeEuChq",
        "colab_type": "code",
        "colab": {}
      },
      "source": [
        "from sklearn.model_selection import train_test_split\n",
        "\n",
        "x_train ,x_test ,y_train ,y_test = train_test_split(X[:100000], Y[:100000] , test_size = 0.33)"
      ],
      "execution_count": 0,
      "outputs": []
    },
    {
      "cell_type": "markdown",
      "metadata": {
        "id": "SCxfIuv1tE6A",
        "colab_type": "text"
      },
      "source": [
        "# [4] Featurization"
      ]
    },
    {
      "cell_type": "markdown",
      "metadata": {
        "id": "eS9vBqk2tE6B",
        "colab_type": "text"
      },
      "source": [
        "## [4.1] BAG OF WORDS"
      ]
    },
    {
      "cell_type": "markdown",
      "metadata": {
        "id": "S262j3vHtE6L",
        "colab_type": "text"
      },
      "source": [
        "## [4.2] Bi-Grams and n-Grams."
      ]
    },
    {
      "cell_type": "code",
      "metadata": {
        "id": "g2MchFx0tE6M",
        "colab_type": "code",
        "colab": {
          "base_uri": "https://localhost:8080/",
          "height": 102
        },
        "outputId": "03749561-5a8a-4fa6-93bf-c59e6b467157"
      },
      "source": [
        "#bi-gram, tri-gram and n-gram\n",
        "\n",
        "#removing stop words like \"not\" should be avoided before building n-grams\n",
        "# count_vect = CountVectorizer(ngram_range=(1,2))\n",
        "# please do read the CountVectorizer documentation http://scikit-learn.org/stable/modules/generated/sklearn.feature_extraction.text.CountVectorizer.html\n",
        "\n",
        "# you can choose these numebrs min_df=10, max_features=5000, of your choice\n",
        "count_vect_bow = CountVectorizer(ngram_range=(1,2), min_df=10)\n",
        "x_train_bigram_counts = count_vect_bow.fit_transform(x_train)\n",
        "x_test_bigram_counts = count_vect_bow.transform(x_test)\n",
        "\n",
        "print(\"After Vectorizations\")\n",
        "print(\"the type of count vectorizer \",type(x_train_bigram_counts))\n",
        "print(\"the shape of out train text BOW vectorizer \",x_train_bigram_counts.get_shape())\n",
        "print(\"the shape of test text BOW vectorizer \",x_test_bigram_counts.get_shape())\n",
        "print(\"the number of unique words including both unigrams and bigrams \", x_train_bigram_counts.get_shape()[1])"
      ],
      "execution_count": 33,
      "outputs": [
        {
          "output_type": "stream",
          "text": [
            "After Vectorizations\n",
            "the type of count vectorizer  <class 'scipy.sparse.csr.csr_matrix'>\n",
            "the shape of out train text BOW vectorizer  (67000, 37588)\n",
            "the shape of test text BOW vectorizer  (33000, 37588)\n",
            "the number of unique words including both unigrams and bigrams  37588\n"
          ],
          "name": "stdout"
        }
      ]
    },
    {
      "cell_type": "markdown",
      "metadata": {
        "id": "qKKyo5CvtE6R",
        "colab_type": "text"
      },
      "source": [
        "## [4.3] TF-IDF"
      ]
    },
    {
      "cell_type": "code",
      "metadata": {
        "id": "8MYqSdEhtE6S",
        "colab_type": "code",
        "colab": {
          "base_uri": "https://localhost:8080/",
          "height": 139
        },
        "outputId": "833ad558-8f3d-4f08-87a7-d9d474128b3e"
      },
      "source": [
        "tf_idf_vect = TfidfVectorizer(ngram_range=(1,2), min_df=10)\n",
        "tf_idf_vect.fit(x_train)\n",
        "print(\"some sample features(unique words in the corpus)\",tf_idf_vect.get_feature_names()[0:10])\n",
        "print('='*50)\n",
        "\n",
        "x_train_tf_idf = tf_idf_vect.transform(x_train)\n",
        "x_test_tf_idf = tf_idf_vect.transform(x_test)\n",
        "print(\"the type of count vectorizer \",type(x_train_tf_idf))\n",
        "print(\"the shape of train text TFIDF vectorizer \",x_train_tf_idf.get_shape())\n",
        "print(\"the shape of test text TFIDF vectorizer \",x_test_tf_idf.get_shape())\n",
        "print(\"the number of unique words including both unigrams and bigrams \", x_train_tf_idf.get_shape()[1])"
      ],
      "execution_count": 34,
      "outputs": [
        {
          "output_type": "stream",
          "text": [
            "some sample features(unique words in the corpus) ['aback', 'abandoned', 'abdominal', 'ability', 'able', 'able buy', 'able chew', 'able drink', 'able eat', 'able enjoy']\n",
            "==================================================\n",
            "the type of count vectorizer  <class 'scipy.sparse.csr.csr_matrix'>\n",
            "the shape of train text TFIDF vectorizer  (67000, 37588)\n",
            "the shape of test text TFIDF vectorizer  (33000, 37588)\n",
            "the number of unique words including both unigrams and bigrams  37588\n"
          ],
          "name": "stdout"
        }
      ]
    },
    {
      "cell_type": "markdown",
      "metadata": {
        "id": "jX__L0rPtE6Z",
        "colab_type": "text"
      },
      "source": [
        "## [4.4] Word2Vec"
      ]
    },
    {
      "cell_type": "code",
      "metadata": {
        "id": "ArCP_pmqtE6d",
        "colab_type": "code",
        "colab": {}
      },
      "source": [
        "# Train your own Word2Vec model using your own text corpus\n",
        "i=0\n",
        "list_of_sentance_train=[]\n",
        "for sentance in x_train:\n",
        "    list_of_sentance_train.append(sentance.split())"
      ],
      "execution_count": 0,
      "outputs": []
    },
    {
      "cell_type": "code",
      "metadata": {
        "scrolled": true,
        "id": "SWflP6c-tE6g",
        "colab_type": "code",
        "colab": {
          "base_uri": "https://localhost:8080/",
          "height": 88
        },
        "outputId": "97f409c9-af44-47ab-ea76-ea7b8be3ae57"
      },
      "source": [
        "# min_count = 5 considers only words that occured atleast 5 times\n",
        "w2v_model_train=Word2Vec(list_of_sentance_train,min_count=5,size=50, workers=4)\n",
        "print(w2v_model_train.wv.most_similar('great'))\n",
        "print('='*50)\n",
        "print(w2v_model_train.wv.most_similar('worst'))\n",
        "    \n"
      ],
      "execution_count": 36,
      "outputs": [
        {
          "output_type": "stream",
          "text": [
            "[('terrific', 0.8382848501205444), ('excellent', 0.8220228552818298), ('good', 0.8209983706474304), ('fantastic', 0.7970781326293945), ('wonderful', 0.7886953949928284), ('awesome', 0.7838480472564697), ('perfect', 0.7832510471343994), ('fabulous', 0.7158156633377075), ('amazing', 0.6862372756004333), ('outstanding', 0.6740298271179199)]\n",
            "==================================================\n",
            "[('greatest', 0.7743209004402161), ('nastiest', 0.7294610142707825), ('best', 0.724933922290802), ('disgusting', 0.6997890472412109), ('awful', 0.664620041847229), ('terrible', 0.6551202535629272), ('horrible', 0.6211053133010864), ('worse', 0.6038607358932495), ('gross', 0.5995112657546997), ('spoiled', 0.5834645628929138)]\n"
          ],
          "name": "stdout"
        }
      ]
    },
    {
      "cell_type": "code",
      "metadata": {
        "id": "GqLSU3uJtE6l",
        "colab_type": "code",
        "colab": {
          "base_uri": "https://localhost:8080/",
          "height": 71
        },
        "outputId": "cec7552d-dad5-447c-cbfe-d8a7833ecc68"
      },
      "source": [
        "w2v_words_train = list(w2v_model_train.wv.vocab)\n",
        "print(\"number of words that occured minimum 5 times \",len(w2v_words_train))\n",
        "print(\"sample words \", w2v_words_train[0:50])"
      ],
      "execution_count": 37,
      "outputs": [
        {
          "output_type": "stream",
          "text": [
            "number of words that occured minimum 5 times  15669\n",
            "sample words  ['salmon', 'great', 'taste', 'little', 'sodium', 'regular', 'cans', 'definetly', 'buy', 'product', 'three', 'cats', 'enthusiastic', 'pounce', 'cat', 'treats', 'expected', 'equally', 'greenies', 'not', 'tried', 'left', 'long', 'haired', 'orange', 'male', 'throw', 'hair', 'throws', 'grooming', 'fur', 'much', 'necessarily', 'attribute', 'vomiting', 'search', 'menadione', 'bisulfite', 'msb', 'another', 'reviewer', 'suggested', 'find', 'poison', 'pure', 'form', 'skin', 'mucous', 'membranes', 'study']\n"
          ],
          "name": "stdout"
        }
      ]
    },
    {
      "cell_type": "code",
      "metadata": {
        "id": "1-guplSVx40S",
        "colab_type": "code",
        "colab": {
          "base_uri": "https://localhost:8080/",
          "height": 187
        },
        "outputId": "f512ba41-226e-492e-9b02-52e20f10b69a"
      },
      "source": [
        "# average Word2Vec\n",
        "# compute average word2vec for each review.\n",
        "sent_vectors_train = []; # the avg-w2v for each sentence/review is stored in this list\n",
        "for sent in list_of_sentance_train: # for each review/sentence\n",
        "    sent_vec_train = np.zeros(50) # as word vectors are of zero length 50, you might need to change this to 300 if you use google's w2v\n",
        "    cnt_words_train =0; # num of words with a valid vector in the sentence/review\n",
        "    for word in sent: # for each word in a review/sentence\n",
        "        if word in w2v_words_train:\n",
        "            vec_train = w2v_model_train.wv[word]\n",
        "            sent_vec_train += vec_train\n",
        "            cnt_words_train += 1\n",
        "    if cnt_words_train != 0:\n",
        "        sent_vec_train /= cnt_words_train\n",
        "    sent_vectors_train.append(sent_vec_train)\n",
        "sent_vectors_train = np.array(sent_vectors_train)\n",
        "print(sent_vectors_train.shape)\n",
        "print(sent_vectors_train[0])"
      ],
      "execution_count": 38,
      "outputs": [
        {
          "output_type": "stream",
          "text": [
            "(67000, 50)\n",
            "[ 0.71775998 -0.01468137 -0.54331203 -0.69023989 -0.34396104 -0.31110257\n",
            " -0.33055907  0.46280262 -0.27561397  0.42561388 -0.42535561  0.26936783\n",
            "  0.05223912  0.10049348  1.15952297  0.50391733 -0.27032089  0.20127459\n",
            "  0.41904475 -0.7114821  -0.77804015  0.05659202  0.52344922 -0.14652132\n",
            "  0.86066161  0.16383566 -0.06457094 -0.27627952 -0.06597427 -1.0887112\n",
            " -0.36222858  1.34071232 -0.30162516  0.06360493  0.41569727  0.63200573\n",
            " -0.59110687  1.14772366 -0.43947267 -0.41835652 -1.30426045  0.42582719\n",
            " -0.01546379  0.32865632  1.39643406 -0.0710756  -0.05595803 -0.00775961\n",
            "  0.33740323 -0.17731312]\n"
          ],
          "name": "stdout"
        }
      ]
    },
    {
      "cell_type": "code",
      "metadata": {
        "id": "mS5FC871x4ub",
        "colab_type": "code",
        "colab": {}
      },
      "source": [
        "i=0\n",
        "list_of_sentance_test = []\n",
        "for sentence in x_test :\n",
        "    list_of_sentance_test.append(sentence.split())"
      ],
      "execution_count": 0,
      "outputs": []
    },
    {
      "cell_type": "code",
      "metadata": {
        "id": "kbpc-xEjx4os",
        "colab_type": "code",
        "colab": {
          "base_uri": "https://localhost:8080/",
          "height": 187
        },
        "outputId": "25a1c07c-82da-4025-ef5a-531446f463be"
      },
      "source": [
        "# average Word2Vec\n",
        "# compute average word2vec for each review.\n",
        "sent_vectors_test = []; # the avg-w2v for each sentence/review is stored in this list\n",
        "for sent in list_of_sentance_test: # for each review/sentence\n",
        "    sent_vec = np.zeros(50) # as word vectors are of zero length 50, you might need to change this to 300 if you use google's w2v\n",
        "    cnt_words =0; # num of words with a valid vector in the sentence/review\n",
        "    for word in sent: # for each word in a review/sentence\n",
        "        if word in w2v_words_train:\n",
        "            vec = w2v_model_train.wv[word]\n",
        "            sent_vec += vec\n",
        "            cnt_words += 1\n",
        "    if cnt_words != 0:\n",
        "        sent_vec /= cnt_words\n",
        "    sent_vectors_test.append(sent_vec)\n",
        "sent_vectors_test = np.array(sent_vectors_test)\n",
        "print(sent_vectors_test.shape)\n",
        "print(sent_vectors_test[0])"
      ],
      "execution_count": 40,
      "outputs": [
        {
          "output_type": "stream",
          "text": [
            "(33000, 50)\n",
            "[ 0.3011438   0.42365258 -0.21039304 -0.52521377  0.21147624  0.1634588\n",
            "  0.00970221 -0.18922431  0.13048732 -0.1839289  -0.40745936  0.30445674\n",
            " -0.06222399  0.20566601  0.11024997  0.14071542 -0.08544491  0.42488938\n",
            "  0.31908942 -0.27178525 -0.1210286  -0.24869324 -0.32326847 -0.38976847\n",
            "  0.58505529  0.22134797 -0.2099666  -0.58346589  0.550437   -0.01254574\n",
            " -0.21908738  0.3662905  -0.17303194  0.36259447 -0.31982572  0.19570929\n",
            " -0.10430669 -0.10313621 -0.18664803  0.57231639  0.12242087 -0.04104144\n",
            " -0.04605108  0.03903568  0.20140341 -0.67419043  0.08269067 -0.52349731\n",
            "  0.28963776  0.06217289]\n"
          ],
          "name": "stdout"
        }
      ]
    },
    {
      "cell_type": "markdown",
      "metadata": {
        "id": "w0R301BPtE6q",
        "colab_type": "text"
      },
      "source": [
        "## [4.4.1] Converting text into vectors using Avg W2V, TFIDF-W2V"
      ]
    },
    {
      "cell_type": "markdown",
      "metadata": {
        "id": "RqwJLRWgtE6r",
        "colab_type": "text"
      },
      "source": [
        "#### [4.4.1.1] Avg W2v"
      ]
    },
    {
      "cell_type": "markdown",
      "metadata": {
        "id": "ajXuZ1DFtE6z",
        "colab_type": "text"
      },
      "source": [
        "#### [4.4.1.2] TFIDF weighted W2v"
      ]
    },
    {
      "cell_type": "code",
      "metadata": {
        "id": "oFgel3_TtE60",
        "colab_type": "code",
        "colab": {}
      },
      "source": [
        "# S = [\"abc def pqr\", \"def def def abc\", \"pqr pqr def\"]\n",
        "model = TfidfVectorizer()\n",
        "tf_idf_matrix_train = model.fit_transform(x_train)\n",
        "tf_idf_matrix_test = model.transform(x_test)\n",
        "# we are converting a dictionary with word as a key, and the idf as a value\n",
        "dictionary = dict(zip(model.get_feature_names(), list(model.idf_)))"
      ],
      "execution_count": 0,
      "outputs": []
    },
    {
      "cell_type": "code",
      "metadata": {
        "scrolled": true,
        "id": "elltY1fetE65",
        "colab_type": "code",
        "colab": {}
      },
      "source": [
        "# TF-IDF weighted Word2Vec\n",
        "tfidf_feat = model.get_feature_names() # tfidf words/col-names\n",
        "# final_tf_idf is the sparse matrix with row= sentence, col=word and cell_val = tfidf\n",
        "\n",
        "w2v_tfidf_sent_vectors_train = []; # the tfidf-w2v for each sentence/review is stored in this list\n",
        "row=0;\n",
        "for sent in list_of_sentance_train: # for each review/sentence \n",
        "    sent_vec = np.zeros(50) # as word vectors are of zero length\n",
        "    weight_sum =0; # num of words with a valid vector in the sentence/review\n",
        "    for word in sent: # for each word in a review/sentence\n",
        "        if word in w2v_words_train and word in tfidf_feat:\n",
        "            vec = w2v_model_train.wv[word]\n",
        "#             tf_idf = tf_idf_matrix[row, tfidf_feat.index(word)]\n",
        "            # to reduce the computation we are \n",
        "            # dictionary[word] = idf value of word in whole courpus\n",
        "            # sent.count(word) = tf valeus of word in this review\n",
        "            tf_idf = dictionary[word]*(sent.count(word)/len(sent))\n",
        "            sent_vec += (vec * tf_idf)\n",
        "            weight_sum += tf_idf\n",
        "    if weight_sum != 0:\n",
        "        sent_vec /= weight_sum\n",
        "    w2v_tfidf_sent_vectors_train.append(sent_vec)\n",
        "    row += 1"
      ],
      "execution_count": 0,
      "outputs": []
    },
    {
      "cell_type": "code",
      "metadata": {
        "id": "PKseCQC6yZ0O",
        "colab_type": "code",
        "colab": {}
      },
      "source": [
        "#test data\n",
        "\n",
        "w2v_tfidf_sent_vectors_test = []; # the tfidf-w2v for each sentence/review is stored in this list\n",
        "row=0;\n",
        "for sent in list_of_sentance_test: # for each review/sentence \n",
        "    sent_vec = np.zeros(50) # as word vectors are of zero length\n",
        "    weight_sum =0; # num of words with a valid vector in the sentence/review\n",
        "    for word in sent: # for each word in a review/sentence\n",
        "        if word in w2v_words_train and word in tfidf_feat:\n",
        "            vec = w2v_model_train.wv[word]\n",
        "#             tf_idf = tf_idf_matrix[row, tfidf_feat.index(word)]\n",
        "            # to reduce the computation we are \n",
        "            # dictionary[word] = idf value of word in whole courpus\n",
        "            # sent.count(word) = tf valeus of word in this review\n",
        "            tf_idf = dictionary[word]*(sent.count(word)/len(sent))\n",
        "            sent_vec += (vec * tf_idf)\n",
        "            weight_sum += tf_idf\n",
        "    if weight_sum != 0:\n",
        "        sent_vec /= weight_sum\n",
        "    w2v_tfidf_sent_vectors_test.append(sent_vec)\n",
        "    row += 1"
      ],
      "execution_count": 0,
      "outputs": []
    },
    {
      "cell_type": "markdown",
      "metadata": {
        "id": "HK1iNuNytE7H",
        "colab_type": "text"
      },
      "source": [
        "# [5] Assignment 7: SVM"
      ]
    },
    {
      "cell_type": "markdown",
      "metadata": {
        "id": "Mkz1gCYptE7I",
        "colab_type": "text"
      },
      "source": [
        "<ol>\n",
        "    <li><strong>Apply SVM on these feature sets</strong>\n",
        "        <ul>\n",
        "            <li><font color='red'>SET 1:</font>Review text, preprocessed one converted into vectors using (BOW)</li>\n",
        "            <li><font color='red'>SET 2:</font>Review text, preprocessed one converted into vectors using (TFIDF)</li>\n",
        "            <li><font color='red'>SET 3:</font>Review text, preprocessed one converted into vectors using (AVG W2v)</li>\n",
        "            <li><font color='red'>SET 4:</font>Review text, preprocessed one converted into vectors using (TFIDF W2v)</li>\n",
        "        </ul>\n",
        "    </li>\n",
        "    <br>\n",
        "    <li><strong>Procedure</strong>\n",
        "        <ul>\n",
        "    <li>You need to work with 2 versions of SVM\n",
        "        <ul><li>Linear kernel</li>\n",
        "            <li>RBF kernel</li></ul>\n",
        "    <li>When you are working with linear kernel, use SGDClassifier’ with hinge loss because it is computationally less expensive.</li>\n",
        "    <li>When you are working with ‘SGDClassifier’ with hinge loss and trying to find the AUC\n",
        "        score, you would have to use <a href='https://scikit-learn.org/stable/modules/generated/sklearn.calibration.CalibratedClassifierCV.html'>CalibratedClassifierCV</a></li>\n",
        "    <li>Similarly, like kdtree of knn, when you are working with RBF kernel it's better to reduce\n",
        "the number of dimensions. You can put min_df = 10, max_features = 500 and consider a sample size of 40k points.</li>                \n",
        "        </ul>\n",
        "    </li>\n",
        "    <br>\n",
        "    <li><strong>Hyper paramter tuning (find best alpha in range [10^-4 to 10^4], and the best penalty among 'l1', 'l2')</strong>\n",
        "        <ul>\n",
        "    <li>Find the best hyper parameter which will give the maximum <a href='https://www.appliedaicourse.com/course/applied-ai-course-online/lessons/receiver-operating-characteristic-curve-roc-curve-and-auc-1/'>AUC</a> value</li>\n",
        "    <li>Find the best hyper paramter using k-fold cross validation or simple cross validation data</li>\n",
        "    <li>Use gridsearch cv or randomsearch cv or you can also write your own for loops to do this task of hyperparameter tuning</li>          \n",
        "        </ul>\n",
        "    </li>\n",
        "    <br>\n",
        "    <li><strong>Feature importance</strong>\n",
        "        <ul>\n",
        "    <li>When you are working on the linear kernel with BOW or TFIDF please print the top 10 best\n",
        "features for each of the positive and negative classes.</li>\n",
        "        </ul>\n",
        "    </li>\n",
        "    <br>\n",
        "    <li><strong>Feature engineering</strong>\n",
        "        <ul>\n",
        "    <li>To increase the performance of your model, you can also experiment with with feature engineering like :</li>\n",
        "            <ul>\n",
        "            <li>Taking length of reviews as another feature.</li>\n",
        "            <li>Considering some features from review summary as well.</li>\n",
        "        </ul>\n",
        "        </ul>\n",
        "    </li>\n",
        "    <br>\n",
        "    <li><strong>Representation of results</strong>\n",
        "        <ul>\n",
        "    <li>You need to plot the performance of model both on train data and cross validation data for each hyper parameter, like shown in the figure.\n",
        "    <img src='train_cv_auc.JPG' width=300px></li>\n",
        "    <li>Once after you found the best hyper parameter, you need to train your model with it, and find the AUC on test data and plot the ROC curve on both train and test.\n",
        "    <img src='train_test_auc.JPG' width=300px></li>\n",
        "    <li>Along with plotting ROC curve, you need to print the <a href='https://www.appliedaicourse.com/course/applied-ai-course-online/lessons/confusion-matrix-tpr-fpr-fnr-tnr-1/'>confusion matrix</a> with predicted and original labels of test data points. Please visualize your confusion matrices using <a href='https://seaborn.pydata.org/generated/seaborn.heatmap.html'>seaborn heatmaps.\n",
        "    <img src='confusion_matrix.png' width=300px></li>\n",
        "        </ul>\n",
        "    </li>\n",
        "    <br>\n",
        "    <li><strong>Conclusion</strong>\n",
        "        <ul>\n",
        "    <li>You need to summarize the results at the end of the notebook, summarize it in the table format. To print out a table please refer to this prettytable library<a href='http://zetcode.com/python/prettytable/'>  link</a> \n",
        "        <img src='summary.JPG' width=400px>\n",
        "    </li>\n",
        "        </ul>\n",
        "</ol>"
      ]
    },
    {
      "cell_type": "markdown",
      "metadata": {
        "id": "n_DqyOjgtE7N",
        "colab_type": "text"
      },
      "source": [
        "<h4><font color='red'>Note: Data Leakage</font></h4>\n",
        "\n",
        "1. There will be an issue of data-leakage if you vectorize the entire data and then split it into train/cv/test.\n",
        "2. To avoid the issue of data-leakag, make sure to split your data first and then vectorize it. \n",
        "3. While vectorizing your data, apply the method fit_transform() on you train data, and apply the method transform() on cv/test data.\n",
        "4. For more details please go through this <a href='https://soundcloud.com/applied-ai-course/leakage-bow-and-tfidf'>link.</a>"
      ]
    },
    {
      "cell_type": "markdown",
      "metadata": {
        "id": "TU6ix5a0tE7Q",
        "colab_type": "text"
      },
      "source": [
        "# Applying SVM"
      ]
    },
    {
      "cell_type": "markdown",
      "metadata": {
        "id": "zZnZTS2dtE7R",
        "colab_type": "text"
      },
      "source": [
        "## [5.1] Linear SVM"
      ]
    },
    {
      "cell_type": "markdown",
      "metadata": {
        "id": "xDfxtH5QtE7S",
        "colab_type": "text"
      },
      "source": [
        "### [5.1.1] Applying Linear SVM on BOW,<font color='red'> SET 1</font>"
      ]
    },
    {
      "cell_type": "code",
      "metadata": {
        "id": "1gvEsSultE7T",
        "colab_type": "code",
        "colab": {}
      },
      "source": [
        "# Please write all the code with proper documentation\n",
        "\n",
        "from sklearn.svm import SVC\n",
        "from sklearn.linear_model import SGDClassifier\n",
        "from sklearn.model_selection import GridSearchCV"
      ],
      "execution_count": 0,
      "outputs": []
    },
    {
      "cell_type": "markdown",
      "metadata": {
        "id": "p3pbwxg6tE7X",
        "colab_type": "text"
      },
      "source": [
        ""
      ]
    },
    {
      "cell_type": "code",
      "metadata": {
        "id": "22fAAZ9WtE7Y",
        "colab_type": "code",
        "colab": {
          "base_uri": "https://localhost:8080/",
          "height": 204
        },
        "outputId": "f594d057-212a-4d71-cba1-e1ff16b8aab2"
      },
      "source": [
        "# Please write all the code with proper documentation\n",
        "\n",
        "parameters = {'alpha' : [0.0001 ,0.001 ,0.01 ,0.1 ,1, 10 ,100 ,1000 ,10000],\n",
        "             'penalty':['l1','l2']}\n",
        "\n",
        "sgd_model = SGDClassifier(loss = 'hinge' ,class_weight = 'balanced')\n",
        "\n",
        "sgd_model_bow = GridSearchCV(sgd_model , param_grid=parameters , cv = 5 ,scoring = 'roc_auc')\n",
        "\n",
        "sgd_model_bow.fit(x_train_bigram_counts ,y_train)"
      ],
      "execution_count": 45,
      "outputs": [
        {
          "output_type": "execute_result",
          "data": {
            "text/plain": [
              "GridSearchCV(cv=5, error_score='raise-deprecating',\n",
              "       estimator=SGDClassifier(alpha=0.0001, average=False, class_weight='balanced',\n",
              "       early_stopping=False, epsilon=0.1, eta0=0.0, fit_intercept=True,\n",
              "       l1_ratio=0.15, learning_rate='optimal', loss='hinge', max_iter=None,\n",
              "       n_iter=None, n_iter_no_change=5, n_jobs=None, penalty='l2',\n",
              "       power_t=0.5, random_state=None, shuffle=True, tol=None,\n",
              "       validation_fraction=0.1, verbose=0, warm_start=False),\n",
              "       fit_params=None, iid='warn', n_jobs=None,\n",
              "       param_grid={'alpha': [0.0001, 0.001, 0.01, 0.1, 1, 10, 100, 1000, 10000], 'penalty': ['l1', 'l2']},\n",
              "       pre_dispatch='2*n_jobs', refit=True, return_train_score='warn',\n",
              "       scoring='roc_auc', verbose=0)"
            ]
          },
          "metadata": {
            "tags": []
          },
          "execution_count": 45
        }
      ]
    },
    {
      "cell_type": "code",
      "metadata": {
        "id": "VvGV7ydsyM3w",
        "colab_type": "code",
        "colab": {
          "base_uri": "https://localhost:8080/",
          "height": 34
        },
        "outputId": "228e9243-2100-4101-c63d-e83add442484"
      },
      "source": [
        "print(\"best estimator is :\" ,sgd_model_bow.best_estimator_.alpha)\n",
        "best_alpha = sgd_model_bow.best_estimator_.alpha"
      ],
      "execution_count": 48,
      "outputs": [
        {
          "output_type": "stream",
          "text": [
            "best estimator is : 0.001\n"
          ],
          "name": "stdout"
        }
      ]
    },
    {
      "cell_type": "code",
      "metadata": {
        "id": "9UW4O1uyyWGA",
        "colab_type": "code",
        "colab": {
          "base_uri": "https://localhost:8080/",
          "height": 136
        },
        "outputId": "0986011e-b1b3-4b42-cdc4-5277b329c48c"
      },
      "source": [
        "from sklearn.calibration import CalibratedClassifierCV\n",
        "\n",
        "sgd_bow = SGDClassifier(loss = 'hinge' ,alpha = best_alpha ,class_weight = 'balanced')\n",
        "calibrated_bow = CalibratedClassifierCV(sgd_bow , cv = 5 )\n",
        "\n",
        "calibrated_bow.fit(x_train_bigram_counts ,y_train)"
      ],
      "execution_count": 49,
      "outputs": [
        {
          "output_type": "execute_result",
          "data": {
            "text/plain": [
              "CalibratedClassifierCV(base_estimator=SGDClassifier(alpha=0.001, average=False, class_weight='balanced',\n",
              "       early_stopping=False, epsilon=0.1, eta0=0.0, fit_intercept=True,\n",
              "       l1_ratio=0.15, learning_rate='optimal', loss='hinge', max_iter=None,\n",
              "       n_iter=None, n_iter_no_change=5, n_jobs=None, penalty='l2',\n",
              "       power_t=0.5, random_state=None, shuffle=True, tol=None,\n",
              "       validation_fraction=0.1, verbose=0, warm_start=False),\n",
              "            cv=5, method='sigmoid')"
            ]
          },
          "metadata": {
            "tags": []
          },
          "execution_count": 49
        }
      ]
    },
    {
      "cell_type": "code",
      "metadata": {
        "id": "MYonH1kvyWJi",
        "colab_type": "code",
        "colab": {
          "base_uri": "https://localhost:8080/",
          "height": 414
        },
        "outputId": "958ff229-738b-474e-f769-1801a39057a5"
      },
      "source": [
        "train_fpr_cal_bow, train_tpr_cal_bow, thresholds_cal_bow = roc_curve(y_train, calibrated_bow.predict_proba(x_train_bigram_counts)[:,1])\n",
        "test_fpr_cal_bow, test_tpr_cal_bow, thresholds_cal_bow = roc_curve(y_test, calibrated_bow.predict_proba(x_test_bigram_counts)[:,1])\n",
        "\n",
        "plt.plot(train_fpr_cal_bow, train_tpr_cal_bow, label=\"train AUC =\"+str(auc(train_fpr_cal_bow, train_tpr_cal_bow)))\n",
        "plt.plot(test_fpr_cal_bow, test_tpr_cal_bow, label=\"test AUC =\"+str(auc(test_fpr_cal_bow, test_tpr_cal_bow)))\n",
        "plt.legend()\n",
        "plt.xlabel(\"FPR\")\n",
        "plt.ylabel(\"TPR\")\n",
        "plt.title(\"ERROR PLOTS\")\n",
        "plt.show()\n",
        "\n",
        "print(\"=\"*100)\n",
        "\n",
        "from sklearn.metrics import confusion_matrix\n",
        "print(\"Train confusion matrix\")\n",
        "print(confusion_matrix(y_train, calibrated_bow.predict(x_train_bigram_counts)))\n",
        "print(\"Test confusion matrix\")\n",
        "print(confusion_matrix(y_test, calibrated_bow.predict(x_test_bigram_counts)))"
      ],
      "execution_count": 50,
      "outputs": [
        {
          "output_type": "display_data",
          "data": {
            "image/png": "[encoded data removed]",
            "text/plain": [
              "<Figure size 432x288 with 1 Axes>"
            ]
          },
          "metadata": {
            "tags": []
          }
        },
        {
          "output_type": "stream",
          "text": [
            "====================================================================================================\n",
            "Train confusion matrix\n",
            "[[ 7595  2346]\n",
            " [  982 56077]]\n",
            "Test confusion matrix\n",
            "[[ 3069  1766]\n",
            " [  636 27529]]\n"
          ],
          "name": "stdout"
        }
      ]
    },
    {
      "cell_type": "code",
      "metadata": {
        "id": "cZsCgLSU2kvK",
        "colab_type": "code",
        "colab": {
          "base_uri": "https://localhost:8080/",
          "height": 329
        },
        "outputId": "e38682f5-c918-4d22-cf72-fd4805d97404"
      },
      "source": [
        "print(\"Heatmap of train confusion matrix\")\n",
        "import seaborn as sns\n",
        "confusion_matrix_train_cal_bow = confusion_matrix(y_train, calibrated_bow.predict(x_train_bigram_counts))\n",
        "\n",
        "df_cm=pd.DataFrame(confusion_matrix_train_cal_bow,index=[\"Negative:0\",\"Positive:1\"],columns=[\"Negative\",\"Positive\"],)\n",
        "sns.heatmap(df_cm,annot=True,fmt='d')\n",
        "plt.title(\"Confusion Matrix\")\n",
        "plt.xlabel(\"Predicted Class\")\n",
        "plt.ylabel(\"Actual Class\")"
      ],
      "execution_count": 51,
      "outputs": [
        {
          "output_type": "stream",
          "text": [
            "Heatmap of train confusion matrix\n"
          ],
          "name": "stdout"
        },
        {
          "output_type": "execute_result",
          "data": {
            "text/plain": [
              "Text(33.0, 0.5, 'Actual Class')"
            ]
          },
          "metadata": {
            "tags": []
          },
          "execution_count": 51
        },
        {
          "output_type": "display_data",
          "data": {
            "image/png": "[encoded data removed]",
            "text/plain": [
              "<Figure size 432x288 with 2 Axes>"
            ]
          },
          "metadata": {
            "tags": []
          }
        }
      ]
    },
    {
      "cell_type": "code",
      "metadata": {
        "id": "lW4c5Pzc2loH",
        "colab_type": "code",
        "colab": {
          "base_uri": "https://localhost:8080/",
          "height": 329
        },
        "outputId": "9eef9559-557c-411e-c30c-3070eac97854"
      },
      "source": [
        "print(\"Heatmap of test confusion matrix\")\n",
        "import seaborn as sns\n",
        "confusion_matrix_test_cal_bow = confusion_matrix(y_test, calibrated_bow.predict(x_test_bigram_counts))\n",
        "\n",
        "df_cm=pd.DataFrame(confusion_matrix_test_cal_bow,index=[\"Negative:0\",\"Positive:1\"],columns=[\"Negative\",\"Positive\"],)\n",
        "sns.heatmap(df_cm,annot=True,fmt='d')\n",
        "plt.title(\"Confusion Matrix\")\n",
        "plt.xlabel(\"Predicted Class\")\n",
        "plt.ylabel(\"Actual Class\")"
      ],
      "execution_count": 52,
      "outputs": [
        {
          "output_type": "stream",
          "text": [
            "Heatmap of test confusion matrix\n"
          ],
          "name": "stdout"
        },
        {
          "output_type": "execute_result",
          "data": {
            "text/plain": [
              "Text(33.0, 0.5, 'Actual Class')"
            ]
          },
          "metadata": {
            "tags": []
          },
          "execution_count": 52
        },
        {
          "output_type": "display_data",
          "data": {
            "image/png": "[encoded data removed]",
            "text/plain": [
              "<Figure size 432x288 with 2 Axes>"
            ]
          },
          "metadata": {
            "tags": []
          }
        }
      ]
    },
    {
      "cell_type": "markdown",
      "metadata": {
        "id": "7SB6kKg774Fx",
        "colab_type": "text"
      },
      "source": [
        "## Feature importance on BOW with linear SVM"
      ]
    },
    {
      "cell_type": "code",
      "metadata": {
        "id": "WWh95vJYzW1N",
        "colab_type": "code",
        "colab": {}
      },
      "source": [
        "sgd_bow.fit(x_train_bigram_counts ,y_train)\n",
        "\n",
        "#lets find out top 10 positive features and top 10 negative features.\n",
        "\n",
        "coefficients_features = pd.DataFrame({\"Feature\":count_vect_bow.get_feature_names(),\"Coefficients\":np.transpose(sgd_bow.coef_[0])})\n",
        "\n",
        "coefficients_features=coefficients_features.sort_values('Coefficients',ascending=False)"
      ],
      "execution_count": 0,
      "outputs": []
    },
    {
      "cell_type": "code",
      "metadata": {
        "id": "OX6aua6m80rL",
        "colab_type": "code",
        "colab": {
          "base_uri": "https://localhost:8080/",
          "height": 393
        },
        "outputId": "29e7019a-aeeb-4850-b6d6-dabe4bf7a9ab"
      },
      "source": [
        "print(\"Top 10 positive features are:\\n\")\n",
        "coefficients_features[:10]"
      ],
      "execution_count": 62,
      "outputs": [
        {
          "output_type": "stream",
          "text": [
            "Top 10 positive features are:\n",
            "\n"
          ],
          "name": "stdout"
        },
        {
          "output_type": "execute_result",
          "data": {
            "text/html": [
              "<div>\n",
              "<style scoped>\n",
              "    .dataframe tbody tr th:only-of-type {\n",
              "        vertical-align: middle;\n",
              "    }\n",
              "\n",
              "    .dataframe tbody tr th {\n",
              "        vertical-align: top;\n",
              "    }\n",
              "\n",
              "    .dataframe thead th {\n",
              "        text-align: right;\n",
              "    }\n",
              "</style>\n",
              "<table border=\"1\" class=\"dataframe\">\n",
              "  <thead>\n",
              "    <tr style=\"text-align: right;\">\n",
              "      <th></th>\n",
              "      <th>Feature</th>\n",
              "      <th>Coefficients</th>\n",
              "    </tr>\n",
              "  </thead>\n",
              "  <tbody>\n",
              "    <tr>\n",
              "      <th>21969</th>\n",
              "      <td>not disappointed</td>\n",
              "      <td>0.879614</td>\n",
              "    </tr>\n",
              "    <tr>\n",
              "      <th>18930</th>\n",
              "      <td>loves</td>\n",
              "      <td>0.821887</td>\n",
              "    </tr>\n",
              "    <tr>\n",
              "      <th>7852</th>\n",
              "      <td>delicious</td>\n",
              "      <td>0.732569</td>\n",
              "    </tr>\n",
              "    <tr>\n",
              "      <th>1887</th>\n",
              "      <td>awesome</td>\n",
              "      <td>0.714739</td>\n",
              "    </tr>\n",
              "    <tr>\n",
              "      <th>24879</th>\n",
              "      <td>pleased</td>\n",
              "      <td>0.703773</td>\n",
              "    </tr>\n",
              "    <tr>\n",
              "      <th>976</th>\n",
              "      <td>amazing</td>\n",
              "      <td>0.672049</td>\n",
              "    </tr>\n",
              "    <tr>\n",
              "      <th>10197</th>\n",
              "      <td>excellent</td>\n",
              "      <td>0.641969</td>\n",
              "    </tr>\n",
              "    <tr>\n",
              "      <th>2672</th>\n",
              "      <td>best</td>\n",
              "      <td>0.635999</td>\n",
              "    </tr>\n",
              "    <tr>\n",
              "      <th>36876</th>\n",
              "      <td>wonderful</td>\n",
              "      <td>0.633887</td>\n",
              "    </tr>\n",
              "    <tr>\n",
              "      <th>14249</th>\n",
              "      <td>great</td>\n",
              "      <td>0.601922</td>\n",
              "    </tr>\n",
              "  </tbody>\n",
              "</table>\n",
              "</div>"
            ],
            "text/plain": [
              "                Feature  Coefficients\n",
              "21969  not disappointed      0.879614\n",
              "18930             loves      0.821887\n",
              "7852          delicious      0.732569\n",
              "1887            awesome      0.714739\n",
              "24879           pleased      0.703773\n",
              "976             amazing      0.672049\n",
              "10197         excellent      0.641969\n",
              "2672               best      0.635999\n",
              "36876         wonderful      0.633887\n",
              "14249             great      0.601922"
            ]
          },
          "metadata": {
            "tags": []
          },
          "execution_count": 62
        }
      ]
    },
    {
      "cell_type": "code",
      "metadata": {
        "id": "ZGq7D09h-GEx",
        "colab_type": "code",
        "colab": {
          "base_uri": "https://localhost:8080/",
          "height": 393
        },
        "outputId": "c99bd7cd-52c5-4e70-9337-abac7c6a69be"
      },
      "source": [
        "print(\"Top 10 negative features are:\\n\")\n",
        "coefficients_features[-10:]"
      ],
      "execution_count": 63,
      "outputs": [
        {
          "output_type": "stream",
          "text": [
            "Top 10 negative features are:\n",
            "\n"
          ],
          "name": "stdout"
        },
        {
          "output_type": "execute_result",
          "data": {
            "text/html": [
              "<div>\n",
              "<style scoped>\n",
              "    .dataframe tbody tr th:only-of-type {\n",
              "        vertical-align: middle;\n",
              "    }\n",
              "\n",
              "    .dataframe tbody tr th {\n",
              "        vertical-align: top;\n",
              "    }\n",
              "\n",
              "    .dataframe thead th {\n",
              "        text-align: right;\n",
              "    }\n",
              "</style>\n",
              "<table border=\"1\" class=\"dataframe\">\n",
              "  <thead>\n",
              "    <tr style=\"text-align: right;\">\n",
              "      <th></th>\n",
              "      <th>Feature</th>\n",
              "      <th>Coefficients</th>\n",
              "    </tr>\n",
              "  </thead>\n",
              "  <tbody>\n",
              "    <tr>\n",
              "      <th>32468</th>\n",
              "      <td>tasteless</td>\n",
              "      <td>-0.679142</td>\n",
              "    </tr>\n",
              "    <tr>\n",
              "      <th>34983</th>\n",
              "      <td>unfortunately</td>\n",
              "      <td>-0.701324</td>\n",
              "    </tr>\n",
              "    <tr>\n",
              "      <th>22332</th>\n",
              "      <td>not recommend</td>\n",
              "      <td>-0.721832</td>\n",
              "    </tr>\n",
              "    <tr>\n",
              "      <th>33166</th>\n",
              "      <td>terrible</td>\n",
              "      <td>-0.745996</td>\n",
              "    </tr>\n",
              "    <tr>\n",
              "      <th>1899</th>\n",
              "      <td>awful</td>\n",
              "      <td>-0.755497</td>\n",
              "    </tr>\n",
              "    <tr>\n",
              "      <th>8362</th>\n",
              "      <td>disappointed</td>\n",
              "      <td>-0.820999</td>\n",
              "    </tr>\n",
              "    <tr>\n",
              "      <th>22077</th>\n",
              "      <td>not good</td>\n",
              "      <td>-0.835699</td>\n",
              "    </tr>\n",
              "    <tr>\n",
              "      <th>8386</th>\n",
              "      <td>disappointing</td>\n",
              "      <td>-0.886005</td>\n",
              "    </tr>\n",
              "    <tr>\n",
              "      <th>22537</th>\n",
              "      <td>not worth</td>\n",
              "      <td>-0.907793</td>\n",
              "    </tr>\n",
              "    <tr>\n",
              "      <th>37059</th>\n",
              "      <td>worst</td>\n",
              "      <td>-0.947794</td>\n",
              "    </tr>\n",
              "  </tbody>\n",
              "</table>\n",
              "</div>"
            ],
            "text/plain": [
              "             Feature  Coefficients\n",
              "32468      tasteless     -0.679142\n",
              "34983  unfortunately     -0.701324\n",
              "22332  not recommend     -0.721832\n",
              "33166       terrible     -0.745996\n",
              "1899           awful     -0.755497\n",
              "8362    disappointed     -0.820999\n",
              "22077       not good     -0.835699\n",
              "8386   disappointing     -0.886005\n",
              "22537      not worth     -0.907793\n",
              "37059          worst     -0.947794"
            ]
          },
          "metadata": {
            "tags": []
          },
          "execution_count": 63
        }
      ]
    },
    {
      "cell_type": "markdown",
      "metadata": {
        "id": "BTLbtZ6ryhWJ",
        "colab_type": "text"
      },
      "source": [
        "### [5.1.2] Applying Linear SVM on TFIDF,<font color='red'> SET 2</font>"
      ]
    },
    {
      "cell_type": "code",
      "metadata": {
        "id": "woRdskyP3CVQ",
        "colab_type": "code",
        "colab": {
          "base_uri": "https://localhost:8080/",
          "height": 269
        },
        "outputId": "2cf0d4b1-e414-4fcc-8710-273150a786b0"
      },
      "source": [
        "#lets create a reliability diagram for the calibrated probailities\n",
        "\n",
        "from sklearn.calibration import calibration_curve\n",
        "from matplotlib import pyplot\n",
        "probs1 = calibrated_bow.predict_proba(x_test_bigram_counts)[:,1]\n",
        "#reliability diagram\n",
        "fop ,mpv = calibration_curve(y_test ,probs1  ,normalize = True)\n",
        "#plot perfectly calibrated\n",
        "pyplot.plot([0,1],[0,1] ,linestyle = '--')\n",
        "#plot calibrated reliability\n",
        "pyplot.plot(mpv ,fop ,marker = '.')\n",
        "\n",
        "pyplot.show()"
      ],
      "execution_count": 64,
      "outputs": [
        {
          "output_type": "display_data",
          "data": {
            "image/png": "[encoded data removed]",
            "text/plain": [
              "<Figure size 432x288 with 1 Axes>"
            ]
          },
          "metadata": {
            "tags": []
          }
        }
      ]
    },
    {
      "cell_type": "code",
      "metadata": {
        "id": "csR70bwz8iBv",
        "colab_type": "code",
        "colab": {
          "base_uri": "https://localhost:8080/",
          "height": 204
        },
        "outputId": "44b3119b-b079-4b95-bf8d-da62199f317c"
      },
      "source": [
        "# Please write all the code with proper documentation\n",
        "\n",
        "parameters = {'alpha' : [0.0001 ,0.001 ,0.01 ,0.1 ,1, 10 ,100 ,1000 ,10000],\n",
        "             'penalty':['l1','l2']}\n",
        "sgd_model = SGDClassifier(loss = 'hinge' ,class_weight = 'balanced')\n",
        "\n",
        "sgd_model_tfidf = GridSearchCV(sgd_model , param_grid=parameters , cv = 5 ,scoring = 'roc_auc')\n",
        "\n",
        "sgd_model_tfidf.fit(x_train_tf_idf ,y_train)"
      ],
      "execution_count": 65,
      "outputs": [
        {
          "output_type": "execute_result",
          "data": {
            "text/plain": [
              "GridSearchCV(cv=5, error_score='raise-deprecating',\n",
              "       estimator=SGDClassifier(alpha=0.0001, average=False, class_weight='balanced',\n",
              "       early_stopping=False, epsilon=0.1, eta0=0.0, fit_intercept=True,\n",
              "       l1_ratio=0.15, learning_rate='optimal', loss='hinge', max_iter=None,\n",
              "       n_iter=None, n_iter_no_change=5, n_jobs=None, penalty='l2',\n",
              "       power_t=0.5, random_state=None, shuffle=True, tol=None,\n",
              "       validation_fraction=0.1, verbose=0, warm_start=False),\n",
              "       fit_params=None, iid='warn', n_jobs=None,\n",
              "       param_grid={'alpha': [0.0001, 0.001, 0.01, 0.1, 1, 10, 100, 1000, 10000], 'penalty': ['l1', 'l2']},\n",
              "       pre_dispatch='2*n_jobs', refit=True, return_train_score='warn',\n",
              "       scoring='roc_auc', verbose=0)"
            ]
          },
          "metadata": {
            "tags": []
          },
          "execution_count": 65
        }
      ]
    },
    {
      "cell_type": "code",
      "metadata": {
        "id": "86zMtljx-pjM",
        "colab_type": "code",
        "colab": {
          "base_uri": "https://localhost:8080/",
          "height": 51
        },
        "outputId": "1c40ea59-4a59-4de9-897a-273fa4dab1d6"
      },
      "source": [
        "print(\"best alpha is :\" ,sgd_model_tfidf.best_estimator_.alpha)\n",
        "print(\"best penalty is :\" ,sgd_model_tfidf.best_estimator_.penalty)\n",
        "best_alpha = sgd_model_tfidf.best_estimator_.alpha"
      ],
      "execution_count": 66,
      "outputs": [
        {
          "output_type": "stream",
          "text": [
            "best alpha is : 0.0001\n",
            "best penalty is : l2\n"
          ],
          "name": "stdout"
        }
      ]
    },
    {
      "cell_type": "code",
      "metadata": {
        "id": "4z46kOklJoom",
        "colab_type": "code",
        "colab": {
          "base_uri": "https://localhost:8080/",
          "height": 136
        },
        "outputId": "757de70e-4076-4e5d-b3cd-bddef6e8905e"
      },
      "source": [
        "from sklearn.calibration import CalibratedClassifierCV\n",
        "\n",
        "sgd_tfidf = SGDClassifier(loss = 'hinge' ,alpha = best_alpha ,penalty = 'l2' ,class_weight = 'balanced')\n",
        "calibrated_tfidf = CalibratedClassifierCV(sgd_tfidf , cv = 5 )\n",
        "\n",
        "calibrated_tfidf.fit(x_train_tf_idf ,y_train)"
      ],
      "execution_count": 67,
      "outputs": [
        {
          "output_type": "execute_result",
          "data": {
            "text/plain": [
              "CalibratedClassifierCV(base_estimator=SGDClassifier(alpha=0.0001, average=False, class_weight='balanced',\n",
              "       early_stopping=False, epsilon=0.1, eta0=0.0, fit_intercept=True,\n",
              "       l1_ratio=0.15, learning_rate='optimal', loss='hinge', max_iter=None,\n",
              "       n_iter=None, n_iter_no_change=5, n_jobs=None, penalty='l2',\n",
              "       power_t=0.5, random_state=None, shuffle=True, tol=None,\n",
              "       validation_fraction=0.1, verbose=0, warm_start=False),\n",
              "            cv=5, method='sigmoid')"
            ]
          },
          "metadata": {
            "tags": []
          },
          "execution_count": 67
        }
      ]
    },
    {
      "cell_type": "code",
      "metadata": {
        "id": "iMV2DJ02JolR",
        "colab_type": "code",
        "colab": {
          "base_uri": "https://localhost:8080/",
          "height": 414
        },
        "outputId": "e8e2a5f3-8df5-4f2f-e187-0896296ab3a7"
      },
      "source": [
        "train_fpr_cal_tfidf, train_tpr_cal_tfidf, thresholds_cal_tfidf = roc_curve(y_train, calibrated_tfidf.predict_proba(x_train_tf_idf)[:,1])\n",
        "test_fpr_cal_tfidf, test_tpr_cal_tfidf, thresholds_cal_tfidf = roc_curve(y_test, calibrated_tfidf.predict_proba(x_test_tf_idf)[:,1])\n",
        "\n",
        "plt.plot(train_fpr_cal_tfidf, train_tpr_cal_tfidf, label=\"train AUC =\"+str(auc(train_fpr_cal_tfidf, train_tpr_cal_tfidf)))\n",
        "plt.plot(test_fpr_cal_tfidf, test_tpr_cal_tfidf, label=\"test AUC =\"+str(auc(test_fpr_cal_tfidf, test_tpr_cal_tfidf)))\n",
        "plt.legend()\n",
        "plt.xlabel(\"FPR\")\n",
        "plt.ylabel(\"TPR\")\n",
        "plt.title(\"ERROR PLOTS\")\n",
        "plt.show()\n",
        "\n",
        "print(\"=\"*100)\n",
        "\n",
        "from sklearn.metrics import confusion_matrix\n",
        "print(\"Train confusion matrix\")\n",
        "print(confusion_matrix(y_train, calibrated_tfidf.predict(x_train_tf_idf)))\n",
        "print(\"Test confusion matrix\")\n",
        "print(confusion_matrix(y_test, calibrated_tfidf.predict(x_test_tf_idf)))"
      ],
      "execution_count": 68,
      "outputs": [
        {
          "output_type": "display_data",
          "data": {
            "image/png": "[encoded data removed]",
            "text/plain": [
              "<Figure size 432x288 with 1 Axes>"
            ]
          },
          "metadata": {
            "tags": []
          }
        },
        {
          "output_type": "stream",
          "text": [
            "====================================================================================================\n",
            "Train confusion matrix\n",
            "[[ 8228  1713]\n",
            " [ 1311 55748]]\n",
            "Test confusion matrix\n",
            "[[ 3328  1507]\n",
            " [  786 27379]]\n"
          ],
          "name": "stdout"
        }
      ]
    },
    {
      "cell_type": "code",
      "metadata": {
        "id": "Yi6tnaG2MwlP",
        "colab_type": "code",
        "colab": {
          "base_uri": "https://localhost:8080/",
          "height": 329
        },
        "outputId": "82ed95e6-3a56-426b-a46c-20d50bd5f152"
      },
      "source": [
        "print(\"Heatmap of train confusion matrix\")\n",
        "import seaborn as sns\n",
        "confusion_matrix_train_cal_tfidf = confusion_matrix(y_train, calibrated_tfidf.predict(x_train_tf_idf))\n",
        "\n",
        "df_cm=pd.DataFrame(confusion_matrix_train_cal_tfidf,index=[\"Negative:0\",\"Positive:1\"],columns=[\"Negative\",\"Positive\"],)\n",
        "sns.heatmap(df_cm,annot=True,fmt='d')\n",
        "plt.title(\"Confusion Matrix\")\n",
        "plt.xlabel(\"Predicted Class\")\n",
        "plt.ylabel(\"Actual Class\")"
      ],
      "execution_count": 69,
      "outputs": [
        {
          "output_type": "stream",
          "text": [
            "Heatmap of train confusion matrix\n"
          ],
          "name": "stdout"
        },
        {
          "output_type": "execute_result",
          "data": {
            "text/plain": [
              "Text(33.0, 0.5, 'Actual Class')"
            ]
          },
          "metadata": {
            "tags": []
          },
          "execution_count": 69
        },
        {
          "output_type": "display_data",
          "data": {
            "image/png": "[encoded data removed]",
            "text/plain": [
              "<Figure size 432x288 with 2 Axes>"
            ]
          },
          "metadata": {
            "tags": []
          }
        }
      ]
    },
    {
      "cell_type": "code",
      "metadata": {
        "id": "X80wkqcHMwhl",
        "colab_type": "code",
        "colab": {
          "base_uri": "https://localhost:8080/",
          "height": 329
        },
        "outputId": "7a23f1d3-3e2b-4d24-d389-f1f719e7e09b"
      },
      "source": [
        "print(\"Heatmap of test confusion matrix\")\n",
        "import seaborn as sns\n",
        "confusion_matrix_test_cal_tfidf = confusion_matrix(y_test, calibrated_tfidf.predict(x_test_tf_idf))\n",
        "\n",
        "df_cm=pd.DataFrame(confusion_matrix_test_cal_tfidf,index=[\"Negative:0\",\"Positive:1\"],columns=[\"Negative\",\"Positive\"],)\n",
        "sns.heatmap(df_cm,annot=True,fmt='d')\n",
        "plt.title(\"Confusion Matrix\")\n",
        "plt.xlabel(\"Predicted Class\")\n",
        "plt.ylabel(\"Actual Class\")"
      ],
      "execution_count": 70,
      "outputs": [
        {
          "output_type": "stream",
          "text": [
            "Heatmap of test confusion matrix\n"
          ],
          "name": "stdout"
        },
        {
          "output_type": "execute_result",
          "data": {
            "text/plain": [
              "Text(33.0, 0.5, 'Actual Class')"
            ]
          },
          "metadata": {
            "tags": []
          },
          "execution_count": 70
        },
        {
          "output_type": "display_data",
          "data": {
            "image/png": "[encoded data removed]",
            "text/plain": [
              "<Figure size 432x288 with 2 Axes>"
            ]
          },
          "metadata": {
            "tags": []
          }
        }
      ]
    },
    {
      "cell_type": "markdown",
      "metadata": {
        "id": "r2iBQuRH_i6t",
        "colab_type": "text"
      },
      "source": [
        "##  Feature importance on TFIDF with linear SVM"
      ]
    },
    {
      "cell_type": "code",
      "metadata": {
        "id": "VZjmN2zK-XoE",
        "colab_type": "code",
        "colab": {}
      },
      "source": [
        "sgd_tfidf.fit(x_train_tf_idf ,y_train)\n",
        "\n",
        "#lets find out top 10 positive features and top 10 negative features.\n",
        "\n",
        "coefficients_features = pd.DataFrame({\"Feature\":tf_idf_vect.get_feature_names(),\"Coefficients\":np.transpose(sgd_tfidf.coef_[0])})\n",
        "\n",
        "coefficients_features=coefficients_features.sort_values('Coefficients',ascending=False)"
      ],
      "execution_count": 0,
      "outputs": []
    },
    {
      "cell_type": "code",
      "metadata": {
        "id": "gsLyof2k_HFD",
        "colab_type": "code",
        "colab": {
          "base_uri": "https://localhost:8080/",
          "height": 393
        },
        "outputId": "a1bac5a3-b20f-4ab9-bcb2-5a722447f354"
      },
      "source": [
        "print(\"Top 10 positive features are:\\n\")\n",
        "coefficients_features[:10]"
      ],
      "execution_count": 73,
      "outputs": [
        {
          "output_type": "stream",
          "text": [
            "Top 10 positive features are:\n",
            "\n"
          ],
          "name": "stdout"
        },
        {
          "output_type": "execute_result",
          "data": {
            "text/html": [
              "<div>\n",
              "<style scoped>\n",
              "    .dataframe tbody tr th:only-of-type {\n",
              "        vertical-align: middle;\n",
              "    }\n",
              "\n",
              "    .dataframe tbody tr th {\n",
              "        vertical-align: top;\n",
              "    }\n",
              "\n",
              "    .dataframe thead th {\n",
              "        text-align: right;\n",
              "    }\n",
              "</style>\n",
              "<table border=\"1\" class=\"dataframe\">\n",
              "  <thead>\n",
              "    <tr style=\"text-align: right;\">\n",
              "      <th></th>\n",
              "      <th>Feature</th>\n",
              "      <th>Coefficients</th>\n",
              "    </tr>\n",
              "  </thead>\n",
              "  <tbody>\n",
              "    <tr>\n",
              "      <th>14249</th>\n",
              "      <td>great</td>\n",
              "      <td>5.956858</td>\n",
              "    </tr>\n",
              "    <tr>\n",
              "      <th>2672</th>\n",
              "      <td>best</td>\n",
              "      <td>5.258561</td>\n",
              "    </tr>\n",
              "    <tr>\n",
              "      <th>7852</th>\n",
              "      <td>delicious</td>\n",
              "      <td>4.315427</td>\n",
              "    </tr>\n",
              "    <tr>\n",
              "      <th>13644</th>\n",
              "      <td>good</td>\n",
              "      <td>4.203853</td>\n",
              "    </tr>\n",
              "    <tr>\n",
              "      <th>18930</th>\n",
              "      <td>loves</td>\n",
              "      <td>4.140728</td>\n",
              "    </tr>\n",
              "    <tr>\n",
              "      <th>18639</th>\n",
              "      <td>love</td>\n",
              "      <td>3.943352</td>\n",
              "    </tr>\n",
              "    <tr>\n",
              "      <th>24434</th>\n",
              "      <td>perfect</td>\n",
              "      <td>3.755179</td>\n",
              "    </tr>\n",
              "    <tr>\n",
              "      <th>36876</th>\n",
              "      <td>wonderful</td>\n",
              "      <td>3.335773</td>\n",
              "    </tr>\n",
              "    <tr>\n",
              "      <th>10197</th>\n",
              "      <td>excellent</td>\n",
              "      <td>3.250487</td>\n",
              "    </tr>\n",
              "    <tr>\n",
              "      <th>21392</th>\n",
              "      <td>nice</td>\n",
              "      <td>2.818407</td>\n",
              "    </tr>\n",
              "  </tbody>\n",
              "</table>\n",
              "</div>"
            ],
            "text/plain": [
              "         Feature  Coefficients\n",
              "14249      great      5.956858\n",
              "2672        best      5.258561\n",
              "7852   delicious      4.315427\n",
              "13644       good      4.203853\n",
              "18930      loves      4.140728\n",
              "18639       love      3.943352\n",
              "24434    perfect      3.755179\n",
              "36876  wonderful      3.335773\n",
              "10197  excellent      3.250487\n",
              "21392       nice      2.818407"
            ]
          },
          "metadata": {
            "tags": []
          },
          "execution_count": 73
        }
      ]
    },
    {
      "cell_type": "code",
      "metadata": {
        "id": "LkV3_fur_UZX",
        "colab_type": "code",
        "colab": {
          "base_uri": "https://localhost:8080/",
          "height": 393
        },
        "outputId": "9138d262-7d06-4199-e3ed-66cf5b53b12a"
      },
      "source": [
        "print(\"Top 10 negative features are:\\n\")\n",
        "coefficients_features[-10:]"
      ],
      "execution_count": 74,
      "outputs": [
        {
          "output_type": "stream",
          "text": [
            "Top 10 negative features are:\n",
            "\n"
          ],
          "name": "stdout"
        },
        {
          "output_type": "execute_result",
          "data": {
            "text/html": [
              "<div>\n",
              "<style scoped>\n",
              "    .dataframe tbody tr th:only-of-type {\n",
              "        vertical-align: middle;\n",
              "    }\n",
              "\n",
              "    .dataframe tbody tr th {\n",
              "        vertical-align: top;\n",
              "    }\n",
              "\n",
              "    .dataframe thead th {\n",
              "        text-align: right;\n",
              "    }\n",
              "</style>\n",
              "<table border=\"1\" class=\"dataframe\">\n",
              "  <thead>\n",
              "    <tr style=\"text-align: right;\">\n",
              "      <th></th>\n",
              "      <th>Feature</th>\n",
              "      <th>Coefficients</th>\n",
              "    </tr>\n",
              "  </thead>\n",
              "  <tbody>\n",
              "    <tr>\n",
              "      <th>22332</th>\n",
              "      <td>not recommend</td>\n",
              "      <td>-2.694402</td>\n",
              "    </tr>\n",
              "    <tr>\n",
              "      <th>33166</th>\n",
              "      <td>terrible</td>\n",
              "      <td>-2.934950</td>\n",
              "    </tr>\n",
              "    <tr>\n",
              "      <th>1899</th>\n",
              "      <td>awful</td>\n",
              "      <td>-2.974328</td>\n",
              "    </tr>\n",
              "    <tr>\n",
              "      <th>22537</th>\n",
              "      <td>not worth</td>\n",
              "      <td>-2.987294</td>\n",
              "    </tr>\n",
              "    <tr>\n",
              "      <th>8386</th>\n",
              "      <td>disappointing</td>\n",
              "      <td>-3.207477</td>\n",
              "    </tr>\n",
              "    <tr>\n",
              "      <th>34983</th>\n",
              "      <td>unfortunately</td>\n",
              "      <td>-3.247775</td>\n",
              "    </tr>\n",
              "    <tr>\n",
              "      <th>22077</th>\n",
              "      <td>not good</td>\n",
              "      <td>-3.435852</td>\n",
              "    </tr>\n",
              "    <tr>\n",
              "      <th>37059</th>\n",
              "      <td>worst</td>\n",
              "      <td>-3.559345</td>\n",
              "    </tr>\n",
              "    <tr>\n",
              "      <th>21788</th>\n",
              "      <td>not</td>\n",
              "      <td>-4.102102</td>\n",
              "    </tr>\n",
              "    <tr>\n",
              "      <th>8362</th>\n",
              "      <td>disappointed</td>\n",
              "      <td>-4.345610</td>\n",
              "    </tr>\n",
              "  </tbody>\n",
              "</table>\n",
              "</div>"
            ],
            "text/plain": [
              "             Feature  Coefficients\n",
              "22332  not recommend     -2.694402\n",
              "33166       terrible     -2.934950\n",
              "1899           awful     -2.974328\n",
              "22537      not worth     -2.987294\n",
              "8386   disappointing     -3.207477\n",
              "34983  unfortunately     -3.247775\n",
              "22077       not good     -3.435852\n",
              "37059          worst     -3.559345\n",
              "21788            not     -4.102102\n",
              "8362    disappointed     -4.345610"
            ]
          },
          "metadata": {
            "tags": []
          },
          "execution_count": 74
        }
      ]
    },
    {
      "cell_type": "markdown",
      "metadata": {
        "id": "uMOA-wRVtE7f",
        "colab_type": "text"
      },
      "source": [
        "### [5.1.3]  Applying Linear SVM on AVG W2V,<font color='red'> SET 3</font>"
      ]
    },
    {
      "cell_type": "code",
      "metadata": {
        "id": "In89M7DGtE7g",
        "colab_type": "code",
        "colab": {
          "base_uri": "https://localhost:8080/",
          "height": 204
        },
        "outputId": "e6a769cb-aa84-4ee1-e830-11633883e592"
      },
      "source": [
        "# Please write all the code with proper documentation\n",
        "\n",
        "parameters = {'alpha' : [0.0001 ,0.001 ,0.01 ,0.1 ,1, 10 ,100 ,1000 ,10000],\n",
        "             'penalty':['l1','l2']}\n",
        "sgd_model = SGDClassifier(loss = 'hinge' ,class_weight = 'balanced')\n",
        "\n",
        "sgd_model_avgw2v = GridSearchCV(sgd_model , param_grid=parameters , cv = 5 ,scoring = 'roc_auc')\n",
        "\n",
        "sgd_model_avgw2v.fit(sent_vectors_train ,y_train)"
      ],
      "execution_count": 75,
      "outputs": [
        {
          "output_type": "execute_result",
          "data": {
            "text/plain": [
              "GridSearchCV(cv=5, error_score='raise-deprecating',\n",
              "       estimator=SGDClassifier(alpha=0.0001, average=False, class_weight='balanced',\n",
              "       early_stopping=False, epsilon=0.1, eta0=0.0, fit_intercept=True,\n",
              "       l1_ratio=0.15, learning_rate='optimal', loss='hinge', max_iter=None,\n",
              "       n_iter=None, n_iter_no_change=5, n_jobs=None, penalty='l2',\n",
              "       power_t=0.5, random_state=None, shuffle=True, tol=None,\n",
              "       validation_fraction=0.1, verbose=0, warm_start=False),\n",
              "       fit_params=None, iid='warn', n_jobs=None,\n",
              "       param_grid={'alpha': [0.0001, 0.001, 0.01, 0.1, 1, 10, 100, 1000, 10000], 'penalty': ['l1', 'l2']},\n",
              "       pre_dispatch='2*n_jobs', refit=True, return_train_score='warn',\n",
              "       scoring='roc_auc', verbose=0)"
            ]
          },
          "metadata": {
            "tags": []
          },
          "execution_count": 75
        }
      ]
    },
    {
      "cell_type": "code",
      "metadata": {
        "id": "-9hust0aNo2d",
        "colab_type": "code",
        "colab": {
          "base_uri": "https://localhost:8080/",
          "height": 51
        },
        "outputId": "bfe4d0d3-9cf6-495a-e9b8-3aeba7f3e384"
      },
      "source": [
        "print(\"best alpha is :\" ,sgd_model_avgw2v.best_estimator_.alpha)\n",
        "print(\"best penalty is :\" ,sgd_model_avgw2v.best_estimator_.penalty)\n",
        "best_alpha = sgd_model_avgw2v.best_estimator_.alpha"
      ],
      "execution_count": 76,
      "outputs": [
        {
          "output_type": "stream",
          "text": [
            "best alpha is : 0.01\n",
            "best penalty is : l2\n"
          ],
          "name": "stdout"
        }
      ]
    },
    {
      "cell_type": "code",
      "metadata": {
        "id": "iYT_LyIdNtSL",
        "colab_type": "code",
        "colab": {
          "base_uri": "https://localhost:8080/",
          "height": 136
        },
        "outputId": "a24d3fd1-8f72-4eb6-eb1c-62fd6982d916"
      },
      "source": [
        "from sklearn.calibration import CalibratedClassifierCV\n",
        "\n",
        "sgd_avgw2v = SGDClassifier(loss = 'hinge' ,alpha = best_alpha ,penalty = 'l2' ,class_weight = 'balanced')\n",
        "calibrated_avgw2v = CalibratedClassifierCV(sgd_avgw2v , cv = 5 )\n",
        "\n",
        "calibrated_avgw2v.fit(sent_vectors_train ,y_train)"
      ],
      "execution_count": 77,
      "outputs": [
        {
          "output_type": "execute_result",
          "data": {
            "text/plain": [
              "CalibratedClassifierCV(base_estimator=SGDClassifier(alpha=0.01, average=False, class_weight='balanced',\n",
              "       early_stopping=False, epsilon=0.1, eta0=0.0, fit_intercept=True,\n",
              "       l1_ratio=0.15, learning_rate='optimal', loss='hinge', max_iter=None,\n",
              "       n_iter=None, n_iter_no_change=5, n_jobs=None, penalty='l2',\n",
              "       power_t=0.5, random_state=None, shuffle=True, tol=None,\n",
              "       validation_fraction=0.1, verbose=0, warm_start=False),\n",
              "            cv=5, method='sigmoid')"
            ]
          },
          "metadata": {
            "tags": []
          },
          "execution_count": 77
        }
      ]
    },
    {
      "cell_type": "code",
      "metadata": {
        "id": "hAJHpb2QNtPG",
        "colab_type": "code",
        "colab": {
          "base_uri": "https://localhost:8080/",
          "height": 414
        },
        "outputId": "b7bc96da-fb78-482f-b5e0-5050338404fa"
      },
      "source": [
        "train_fpr_cal_avgw2v, train_tpr_cal_avgw2v, thresholds_cal_avgw2v = roc_curve(y_train, calibrated_avgw2v.predict_proba(sent_vectors_train)[:,1])\n",
        "test_fpr_cal_avgw2v, test_tpr_cal_avgw2v, thresholds_cal_avgw2v = roc_curve(y_test, calibrated_avgw2v.predict_proba(sent_vectors_test)[:,1])\n",
        "\n",
        "plt.plot(train_fpr_cal_avgw2v, train_tpr_cal_avgw2v, label=\"train AUC =\"+str(auc(train_fpr_cal_avgw2v, train_tpr_cal_avgw2v)))\n",
        "plt.plot(test_fpr_cal_avgw2v, test_tpr_cal_avgw2v, label=\"test AUC =\"+str(auc(test_fpr_cal_avgw2v, test_tpr_cal_avgw2v)))\n",
        "plt.legend()\n",
        "plt.xlabel(\"FPR\")\n",
        "plt.ylabel(\"TPR\")\n",
        "plt.title(\"ERROR PLOTS\")\n",
        "plt.show()\n",
        "\n",
        "print(\"=\"*100)\n",
        "\n",
        "from sklearn.metrics import confusion_matrix\n",
        "print(\"Train confusion matrix\")\n",
        "print(confusion_matrix(y_train, calibrated_avgw2v.predict(sent_vectors_train)))\n",
        "print(\"Test confusion matrix\")\n",
        "print(confusion_matrix(y_test, calibrated_avgw2v.predict(sent_vectors_test)))"
      ],
      "execution_count": 78,
      "outputs": [
        {
          "output_type": "display_data",
          "data": {
            "image/png": "[encoded data removed]",
            "text/plain": [
              "<Figure size 432x288 with 1 Axes>"
            ]
          },
          "metadata": {
            "tags": []
          }
        },
        {
          "output_type": "stream",
          "text": [
            "====================================================================================================\n",
            "Train confusion matrix\n",
            "[[ 4537  5404]\n",
            " [ 1898 55161]]\n",
            "Test confusion matrix\n",
            "[[ 2123  2712]\n",
            " [  955 27210]]\n"
          ],
          "name": "stdout"
        }
      ]
    },
    {
      "cell_type": "code",
      "metadata": {
        "id": "i2iE_3QXPFyw",
        "colab_type": "code",
        "colab": {
          "base_uri": "https://localhost:8080/",
          "height": 329
        },
        "outputId": "8bb1de97-41c5-4be4-94a2-cb3bc700f82f"
      },
      "source": [
        "print(\"Heatmap of train confusion matrix\")\n",
        "import seaborn as sns\n",
        "confusion_matrix_train_cal_avgw2v = confusion_matrix(y_train, calibrated_avgw2v.predict(sent_vectors_train))\n",
        "\n",
        "df_cm=pd.DataFrame(confusion_matrix_train_cal_avgw2v,index=[\"Negative:0\",\"Positive:1\"],columns=[\"Negative\",\"Positive\"],)\n",
        "sns.heatmap(df_cm,annot=True,fmt='d')\n",
        "plt.title(\"Confusion Matrix\")\n",
        "plt.xlabel(\"Predicted Class\")\n",
        "plt.ylabel(\"Actual Class\")"
      ],
      "execution_count": 79,
      "outputs": [
        {
          "output_type": "stream",
          "text": [
            "Heatmap of train confusion matrix\n"
          ],
          "name": "stdout"
        },
        {
          "output_type": "execute_result",
          "data": {
            "text/plain": [
              "Text(33.0, 0.5, 'Actual Class')"
            ]
          },
          "metadata": {
            "tags": []
          },
          "execution_count": 79
        },
        {
          "output_type": "display_data",
          "data": {
            "image/png": "[encoded data removed]",
            "text/plain": [
              "<Figure size 432x288 with 2 Axes>"
            ]
          },
          "metadata": {
            "tags": []
          }
        }
      ]
    },
    {
      "cell_type": "code",
      "metadata": {
        "id": "VjJBANIqNtMP",
        "colab_type": "code",
        "colab": {
          "base_uri": "https://localhost:8080/",
          "height": 329
        },
        "outputId": "a3be5333-4adc-429f-f0e8-24f1ce177789"
      },
      "source": [
        "print(\"Heatmap of test confusion matrix\")\n",
        "import seaborn as sns\n",
        "confusion_matrix_test_cal_avgw2v = confusion_matrix(y_test, calibrated_avgw2v.predict(sent_vectors_test))\n",
        "\n",
        "df_cm=pd.DataFrame(confusion_matrix_test_cal_avgw2v,index=[\"Negative:0\",\"Positive:1\"],columns=[\"Negative\",\"Positive\"],)\n",
        "sns.heatmap(df_cm,annot=True,fmt='d')\n",
        "plt.title(\"Confusion Matrix\")\n",
        "plt.xlabel(\"Predicted Class\")\n",
        "plt.ylabel(\"Actual Class\")"
      ],
      "execution_count": 80,
      "outputs": [
        {
          "output_type": "stream",
          "text": [
            "Heatmap of test confusion matrix\n"
          ],
          "name": "stdout"
        },
        {
          "output_type": "execute_result",
          "data": {
            "text/plain": [
              "Text(33.0, 0.5, 'Actual Class')"
            ]
          },
          "metadata": {
            "tags": []
          },
          "execution_count": 80
        },
        {
          "output_type": "display_data",
          "data": {
            "image/png": "[encoded data removed]",
            "text/plain": [
              "<Figure size 432x288 with 2 Axes>"
            ]
          },
          "metadata": {
            "tags": []
          }
        }
      ]
    },
    {
      "cell_type": "markdown",
      "metadata": {
        "id": "a7T4GD1qtE7w",
        "colab_type": "text"
      },
      "source": [
        "### [5.1.4]  Applying Linear SVM on TFIDF W2V,<font color='red'> SET 4</font>"
      ]
    },
    {
      "cell_type": "code",
      "metadata": {
        "id": "gs_G3uAQtE7x",
        "colab_type": "code",
        "colab": {
          "base_uri": "https://localhost:8080/",
          "height": 204
        },
        "outputId": "4a2f9cc0-5cc7-4c49-c8b0-309e902d7ac1"
      },
      "source": [
        "# Please write all the code with proper documentation\n",
        "\n",
        "sgd_model = SGDClassifier(loss = 'hinge' ,class_weight = 'balanced')\n",
        "\n",
        "sgd_model_tfidfavgw2v = GridSearchCV(sgd_model , param_grid=parameters , cv = 5 ,scoring = 'roc_auc')\n",
        "\n",
        "sgd_model_tfidfavgw2v.fit(w2v_tfidf_sent_vectors_train ,y_train)"
      ],
      "execution_count": 81,
      "outputs": [
        {
          "output_type": "execute_result",
          "data": {
            "text/plain": [
              "GridSearchCV(cv=5, error_score='raise-deprecating',\n",
              "       estimator=SGDClassifier(alpha=0.0001, average=False, class_weight='balanced',\n",
              "       early_stopping=False, epsilon=0.1, eta0=0.0, fit_intercept=True,\n",
              "       l1_ratio=0.15, learning_rate='optimal', loss='hinge', max_iter=None,\n",
              "       n_iter=None, n_iter_no_change=5, n_jobs=None, penalty='l2',\n",
              "       power_t=0.5, random_state=None, shuffle=True, tol=None,\n",
              "       validation_fraction=0.1, verbose=0, warm_start=False),\n",
              "       fit_params=None, iid='warn', n_jobs=None,\n",
              "       param_grid={'alpha': [0.0001, 0.001, 0.01, 0.1, 1, 10, 100, 1000, 10000], 'penalty': ['l1', 'l2']},\n",
              "       pre_dispatch='2*n_jobs', refit=True, return_train_score='warn',\n",
              "       scoring='roc_auc', verbose=0)"
            ]
          },
          "metadata": {
            "tags": []
          },
          "execution_count": 81
        }
      ]
    },
    {
      "cell_type": "code",
      "metadata": {
        "id": "NWfdNZp1QHQS",
        "colab_type": "code",
        "colab": {
          "base_uri": "https://localhost:8080/",
          "height": 51
        },
        "outputId": "371e8148-da63-4263-cc7b-eb1d264bc4ab"
      },
      "source": [
        "print(\"best alpha is :\" ,sgd_model_tfidfavgw2v.best_estimator_.alpha)\n",
        "print(\"best penalty is :\" ,sgd_model_tfidfavgw2v.best_estimator_.penalty)\n",
        "best_alpha = sgd_model_tfidfavgw2v.best_estimator_.alpha"
      ],
      "execution_count": 82,
      "outputs": [
        {
          "output_type": "stream",
          "text": [
            "best alpha is : 0.01\n",
            "best penalty is : l2\n"
          ],
          "name": "stdout"
        }
      ]
    },
    {
      "cell_type": "code",
      "metadata": {
        "id": "7TPYl1KeQHNR",
        "colab_type": "code",
        "colab": {
          "base_uri": "https://localhost:8080/",
          "height": 136
        },
        "outputId": "16d599d4-78e3-40a7-8344-9be07b7bc2c5"
      },
      "source": [
        "sgd_tfidfavgw2v = SGDClassifier(loss = 'hinge' ,alpha = best_alpha ,penalty = 'l2' ,class_weight = 'balanced')\n",
        "calibrated_tfidfavgw2v = CalibratedClassifierCV(sgd_tfidfavgw2v , cv = 5 )\n",
        "\n",
        "calibrated_tfidfavgw2v.fit(w2v_tfidf_sent_vectors_train ,y_train)"
      ],
      "execution_count": 83,
      "outputs": [
        {
          "output_type": "execute_result",
          "data": {
            "text/plain": [
              "CalibratedClassifierCV(base_estimator=SGDClassifier(alpha=0.01, average=False, class_weight='balanced',\n",
              "       early_stopping=False, epsilon=0.1, eta0=0.0, fit_intercept=True,\n",
              "       l1_ratio=0.15, learning_rate='optimal', loss='hinge', max_iter=None,\n",
              "       n_iter=None, n_iter_no_change=5, n_jobs=None, penalty='l2',\n",
              "       power_t=0.5, random_state=None, shuffle=True, tol=None,\n",
              "       validation_fraction=0.1, verbose=0, warm_start=False),\n",
              "            cv=5, method='sigmoid')"
            ]
          },
          "metadata": {
            "tags": []
          },
          "execution_count": 83
        }
      ]
    },
    {
      "cell_type": "code",
      "metadata": {
        "id": "e6C5ups0QHJz",
        "colab_type": "code",
        "colab": {
          "base_uri": "https://localhost:8080/",
          "height": 414
        },
        "outputId": "e40d7fb6-f10e-4d4b-d7c6-b70f6e14f98e"
      },
      "source": [
        "train_fpr_cal_tfidfavgw2v, train_tpr_cal_tfidfavgw2v, thresholds_cal_tfidfavgw2v = roc_curve(y_train, calibrated_tfidfavgw2v.predict_proba(w2v_tfidf_sent_vectors_train)[:,1])\n",
        "test_fpr_cal_tfidfavgw2v, test_tpr_cal_tfidfavgw2v, thresholds_cal_tfidfavgw2v = roc_curve(y_test, calibrated_tfidfavgw2v.predict_proba(w2v_tfidf_sent_vectors_test)[:,1])\n",
        "\n",
        "plt.plot(train_fpr_cal_tfidfavgw2v, train_tpr_cal_tfidfavgw2v, label=\"train AUC =\"+str(auc(train_fpr_cal_tfidfavgw2v, train_tpr_cal_tfidfavgw2v)))\n",
        "plt.plot(test_fpr_cal_tfidfavgw2v, test_tpr_cal_tfidfavgw2v, label=\"test AUC =\"+str(auc(test_fpr_cal_tfidfavgw2v, test_tpr_cal_tfidfavgw2v)))\n",
        "plt.legend()\n",
        "plt.xlabel(\"FPR\")\n",
        "plt.ylabel(\"TPR\")\n",
        "plt.title(\"ERROR PLOTS\")\n",
        "plt.show()\n",
        "\n",
        "print(\"=\"*100)\n",
        "\n",
        "from sklearn.metrics import confusion_matrix\n",
        "print(\"Train confusion matrix\")\n",
        "print(confusion_matrix(y_train, calibrated_tfidfavgw2v.predict(w2v_tfidf_sent_vectors_train)))\n",
        "print(\"Test confusion matrix\")\n",
        "print(confusion_matrix(y_test, calibrated_tfidfavgw2v.predict(w2v_tfidf_sent_vectors_test)))"
      ],
      "execution_count": 84,
      "outputs": [
        {
          "output_type": "display_data",
          "data": {
            "image/png": "[encoded data removed]",
            "text/plain": [
              "<Figure size 432x288 with 1 Axes>"
            ]
          },
          "metadata": {
            "tags": []
          }
        },
        {
          "output_type": "stream",
          "text": [
            "====================================================================================================\n",
            "Train confusion matrix\n",
            "[[ 3542  6399]\n",
            " [ 1765 55294]]\n",
            "Test confusion matrix\n",
            "[[ 1632  3203]\n",
            " [  906 27259]]\n"
          ],
          "name": "stdout"
        }
      ]
    },
    {
      "cell_type": "code",
      "metadata": {
        "id": "Whj6NilDRSNC",
        "colab_type": "code",
        "colab": {
          "base_uri": "https://localhost:8080/",
          "height": 329
        },
        "outputId": "bf34a657-b1c3-406f-eaef-db4e00724681"
      },
      "source": [
        "print(\"Heatmap of train confusion matrix\")\n",
        "import seaborn as sns\n",
        "confusion_matrix_train_cal_tfidfavgw2v = confusion_matrix(y_train, calibrated_tfidfavgw2v.predict(w2v_tfidf_sent_vectors_train))\n",
        "\n",
        "df_cm=pd.DataFrame(confusion_matrix_train_cal_tfidfavgw2v,index=[\"Negative:0\",\"Positive:1\"],columns=[\"Negative\",\"Positive\"],)\n",
        "sns.heatmap(df_cm,annot=True,fmt='d')\n",
        "plt.title(\"Confusion Matrix\")\n",
        "plt.xlabel(\"Predicted Class\")\n",
        "plt.ylabel(\"Actual Class\")"
      ],
      "execution_count": 70,
      "outputs": [
        {
          "output_type": "stream",
          "text": [
            "Heatmap of train confusion matrix\n"
          ],
          "name": "stdout"
        },
        {
          "output_type": "execute_result",
          "data": {
            "text/plain": [
              "Text(33.0, 0.5, 'Actual Class')"
            ]
          },
          "metadata": {
            "tags": []
          },
          "execution_count": 70
        },
        {
          "output_type": "display_data",
          "data": {
            "image/png": "[encoded data removed]",
            "text/plain": [
              "<Figure size 432x288 with 2 Axes>"
            ]
          },
          "metadata": {
            "tags": []
          }
        }
      ]
    },
    {
      "cell_type": "code",
      "metadata": {
        "id": "UASbhZEPRSJq",
        "colab_type": "code",
        "colab": {
          "base_uri": "https://localhost:8080/",
          "height": 329
        },
        "outputId": "624251d6-2046-4b65-e7a4-d2e8294e4b41"
      },
      "source": [
        "print(\"Heatmap of test confusion matrix\")\n",
        "import seaborn as sns\n",
        "confusion_matrix_test_cal_tfidfavgw2v = confusion_matrix(y_test, calibrated_tfidfavgw2v.predict(w2v_tfidf_sent_vectors_test))\n",
        "\n",
        "df_cm=pd.DataFrame(confusion_matrix_test_cal_tfidfavgw2v,index=[\"Negative:0\",\"Positive:1\"],columns=[\"Negative\",\"Positive\"],)\n",
        "sns.heatmap(df_cm,annot=True,fmt='d')\n",
        "plt.title(\"Confusion Matrix\")\n",
        "plt.xlabel(\"Predicted Class\")\n",
        "plt.ylabel(\"Actual Class\")"
      ],
      "execution_count": 71,
      "outputs": [
        {
          "output_type": "stream",
          "text": [
            "Heatmap of test confusion matrix\n"
          ],
          "name": "stdout"
        },
        {
          "output_type": "execute_result",
          "data": {
            "text/plain": [
              "Text(33.0, 0.5, 'Actual Class')"
            ]
          },
          "metadata": {
            "tags": []
          },
          "execution_count": 71
        },
        {
          "output_type": "display_data",
          "data": {
            "image/png": "[encoded data removed]",
            "text/plain": [
              "<Figure size 432x288 with 2 Axes>"
            ]
          },
          "metadata": {
            "tags": []
          }
        }
      ]
    },
    {
      "cell_type": "markdown",
      "metadata": {
        "id": "qgLcWnDCtE70",
        "colab_type": "text"
      },
      "source": [
        "## [5.2] RBF SVM"
      ]
    },
    {
      "cell_type": "code",
      "metadata": {
        "id": "By7dk1OsR4dv",
        "colab_type": "code",
        "colab": {}
      },
      "source": [
        "from sklearn.model_selection import train_test_split\n",
        "\n",
        "x_train ,x_test ,y_train ,y_test = train_test_split(X[:20000], Y[:20000] , test_size = 0.20)"
      ],
      "execution_count": 0,
      "outputs": []
    },
    {
      "cell_type": "code",
      "metadata": {
        "id": "i37XOl9CR4vX",
        "colab_type": "code",
        "colab": {
          "base_uri": "https://localhost:8080/",
          "height": 102
        },
        "outputId": "249ee02d-def5-4b60-fab1-31f609f42824"
      },
      "source": [
        "#bi-gram, tri-gram and n-gram\n",
        "\n",
        "#removing stop words like \"not\" should be avoided before building n-grams\n",
        "# count_vect = CountVectorizer(ngram_range=(1,2))\n",
        "# please do read the CountVectorizer documentation http://scikit-learn.org/stable/modules/generated/sklearn.feature_extraction.text.CountVectorizer.html\n",
        "\n",
        "# you can choose these numebrs min_df=10, max_features=5000, of your choice\n",
        "count_vect_bow_rbf = CountVectorizer(ngram_range=(1,2), min_df=10 ,max_features=500)\n",
        "x_train_bigram_counts_rbf = count_vect_bow_rbf.fit_transform(x_train)\n",
        "x_test_bigram_counts_rbf = count_vect_bow_rbf.transform(x_test)\n",
        "\n",
        "print(\"After Vectorizations\")\n",
        "print(\"the type of count vectorizer \",type(x_train_bigram_counts_rbf))\n",
        "print(\"the shape of out train text BOW vectorizer \",x_train_bigram_counts_rbf.get_shape())\n",
        "print(\"the shape of test text BOW vectorizer \",x_test_bigram_counts_rbf.get_shape())\n",
        "print(\"the number of unique words including both unigrams and bigrams \", x_train_bigram_counts_rbf.get_shape()[1])"
      ],
      "execution_count": 73,
      "outputs": [
        {
          "output_type": "stream",
          "text": [
            "After Vectorizations\n",
            "the type of count vectorizer  <class 'scipy.sparse.csr.csr_matrix'>\n",
            "the shape of out train text BOW vectorizer  (16000, 500)\n",
            "the shape of test text BOW vectorizer  (4000, 500)\n",
            "the number of unique words including both unigrams and bigrams  500\n"
          ],
          "name": "stdout"
        }
      ]
    },
    {
      "cell_type": "code",
      "metadata": {
        "id": "uoCa282NR428",
        "colab_type": "code",
        "colab": {
          "base_uri": "https://localhost:8080/",
          "height": 119
        },
        "outputId": "fdc7b5c3-84f7-48bb-cb19-493c8f289ccd"
      },
      "source": [
        "tf_idf_vect_rbf = TfidfVectorizer(ngram_range=(1,2), min_df=10 ,max_features = 500)\n",
        "tf_idf_vect_rbf.fit(x_train)\n",
        "print(\"some sample features(unique words in the corpus)\",tf_idf_vect_rbf.get_feature_names()[0:10])\n",
        "print('='*50)\n",
        "\n",
        "x_train_tf_idf_rbf = tf_idf_vect_rbf.transform(x_train)\n",
        "x_test_tf_idf_rbf = tf_idf_vect_rbf.transform(x_test)\n",
        "print(\"the type of count vectorizer \",type(x_train_tf_idf_rbf))\n",
        "print(\"the shape of train text TFIDF vectorizer \",x_train_tf_idf_rbf.get_shape())\n",
        "print(\"the shape of test text TFIDF vectorizer \",x_test_tf_idf_rbf.get_shape())\n",
        "print(\"the number of unique words including both unigrams and bigrams \", x_train_tf_idf_rbf.get_shape()[1])"
      ],
      "execution_count": 74,
      "outputs": [
        {
          "output_type": "stream",
          "text": [
            "some sample features(unique words in the corpus) ['able', 'absolutely', 'actually', 'add', 'added', 'ago', 'almost', 'already', 'also', 'although']\n",
            "==================================================\n",
            "the type of count vectorizer  <class 'scipy.sparse.csr.csr_matrix'>\n",
            "the shape of train text TFIDF vectorizer  (16000, 500)\n",
            "the shape of test text TFIDF vectorizer  (4000, 500)\n",
            "the number of unique words including both unigrams and bigrams  500\n"
          ],
          "name": "stdout"
        }
      ]
    },
    {
      "cell_type": "code",
      "metadata": {
        "id": "eNunhwCrR5Im",
        "colab_type": "code",
        "colab": {}
      },
      "source": [
        "#word2vec\n",
        "\n",
        "# Train your own Word2Vec model using your own text corpus\n",
        "i=0\n",
        "list_of_sentance_train_rbf=[]\n",
        "for sentance in x_train:\n",
        "    list_of_sentance_train_rbf.append(sentance.split())"
      ],
      "execution_count": 0,
      "outputs": []
    },
    {
      "cell_type": "code",
      "metadata": {
        "id": "riFiqvq3R5M5",
        "colab_type": "code",
        "colab": {
          "base_uri": "https://localhost:8080/",
          "height": 88
        },
        "outputId": "a54dd440-50c0-4486-9902-f765c491b32c"
      },
      "source": [
        "# min_count = 5 considers only words that occured atleast 10 times\n",
        "w2v_model_train_rbf=Word2Vec(list_of_sentance_train,min_count=10,size=50, workers=4)\n",
        "print(w2v_model_train_rbf.wv.most_similar('great'))\n",
        "print('='*50)\n",
        "print(w2v_model_train_rbf.wv.most_similar('worst'))"
      ],
      "execution_count": 76,
      "outputs": [
        {
          "output_type": "stream",
          "text": [
            "[('terrific', 0.8526521921157837), ('wonderful', 0.8387733101844788), ('awesome', 0.8305999040603638), ('good', 0.8202376365661621), ('excellent', 0.8182376623153687), ('fantastic', 0.8113438487052917), ('perfect', 0.761300802230835), ('amazing', 0.7304612398147583), ('fabulous', 0.6907686591148376), ('nice', 0.6848669052124023)]\n",
            "==================================================\n",
            "[('greatest', 0.7639138698577881), ('best', 0.6748517751693726), ('disgusting', 0.6643232107162476), ('foul', 0.6139352321624756), ('worse', 0.607251763343811), ('horrible', 0.6059979200363159), ('awful', 0.603512704372406), ('tastiest', 0.5925966501235962), ('terrible', 0.5912677049636841), ('closest', 0.5901381373405457)]\n"
          ],
          "name": "stdout"
        }
      ]
    },
    {
      "cell_type": "code",
      "metadata": {
        "id": "hf0oSuQMR5Tl",
        "colab_type": "code",
        "colab": {
          "base_uri": "https://localhost:8080/",
          "height": 71
        },
        "outputId": "49a9d521-c45e-4b4d-b153-04a0bfe14921"
      },
      "source": [
        "w2v_words_train_rbf = list(w2v_model_train_rbf.wv.vocab)\n",
        "print(\"number of words that occured minimum 5 times \",len(w2v_words_train_rbf))\n",
        "print(\"sample words \", w2v_words_train_rbf[0:50])"
      ],
      "execution_count": 77,
      "outputs": [
        {
          "output_type": "stream",
          "text": [
            "number of words that occured minimum 5 times  10852\n",
            "sample words  ['prepared', 'package', 'flavorful', 'rice', 'tonight', 'dinner', 'everyone', 'loved', 'used', 'cooker', 'full', 'turned', 'perfect', 'mix', 'water', 'salt', 'tad', 'butter', 'absolutely', 'irresistible', 'not', 'stop', 'finished', 'last', 'grain', 'wait', 'try', 'varieties', 'definitely', 'worth', 'expense', 'much', 'better', 'deal', 'amazon', 'find', 'locally', 'glad', 'macaroni', 'cheese', 'kind', 'adults', 'kids', 'family', 'enjoy', 'slightly', 'sharp', 'cheddar', 'flavor', 'makes']\n"
          ],
          "name": "stdout"
        }
      ]
    },
    {
      "cell_type": "code",
      "metadata": {
        "id": "4YpxVgH4R5ZO",
        "colab_type": "code",
        "colab": {
          "base_uri": "https://localhost:8080/",
          "height": 187
        },
        "outputId": "a87b2e2d-b20b-452e-a7d2-b7f5ac31e319"
      },
      "source": [
        "# average Word2Vec\n",
        "# compute average word2vec for each review.\n",
        "sent_vectors_train_rbf = []; # the avg-w2v for each sentence/review is stored in this list\n",
        "for sent in list_of_sentance_train_rbf: # for each review/sentence\n",
        "    sent_vec_train = np.zeros(50) # as word vectors are of zero length 50, you might need to change this to 300 if you use google's w2v\n",
        "    cnt_words_train =0; # num of words with a valid vector in the sentence/review\n",
        "    for word in sent: # for each word in a review/sentence\n",
        "        if word in w2v_words_train_rbf:\n",
        "            vec_train = w2v_model_train_rbf.wv[word]\n",
        "            sent_vec_train += vec_train\n",
        "            cnt_words_train += 1\n",
        "    if cnt_words_train != 0:\n",
        "        sent_vec_train /= cnt_words_train\n",
        "    sent_vectors_train_rbf.append(sent_vec_train)\n",
        "sent_vectors_train_rbf = np.array(sent_vectors_train_rbf)\n",
        "print(sent_vectors_train_rbf.shape)\n",
        "print(sent_vectors_train_rbf[0])"
      ],
      "execution_count": 78,
      "outputs": [
        {
          "output_type": "stream",
          "text": [
            "(16000, 50)\n",
            "[-1.45826476  1.23505315  0.1530947   0.78546935  0.0970534   1.19743477\n",
            "  0.75447191  0.48921649  0.90226299  1.34509068  0.18444997 -0.1002211\n",
            "  1.23139297  0.53369415  0.76511467 -0.37964067 -0.84325473  0.97403112\n",
            "  0.13089564  0.97857952  0.0926754  -0.83536962  0.02802765  0.03781691\n",
            "  0.33183999  0.34904484 -0.99178751 -0.15378149 -2.07848034 -0.44211517\n",
            " -1.27719149  0.67492301 -0.15901929 -0.237002    0.35002225 -0.1166515\n",
            " -1.26984852 -0.05325546 -0.47674509  0.42110541  0.10926528 -0.36652379\n",
            " -0.90994429 -1.0263184   0.84105968  0.43475367 -0.27036907  0.22063898\n",
            "  0.32817645  0.0055012 ]\n"
          ],
          "name": "stdout"
        }
      ]
    },
    {
      "cell_type": "code",
      "metadata": {
        "id": "YoCVFXzhR4z1",
        "colab_type": "code",
        "colab": {
          "base_uri": "https://localhost:8080/",
          "height": 187
        },
        "outputId": "50d8e33c-0b22-47a3-d221-c1052bbfa8fe"
      },
      "source": [
        "i=0\n",
        "list_of_sentance_test_rbf = []\n",
        "for sentence in x_test :\n",
        "    list_of_sentance_test_rbf.append(sentence.split())\n",
        "\t\n",
        "\t\n",
        "\n",
        "\t\n",
        "# average Word2Vec\n",
        "# compute average word2vec for each review.\n",
        "sent_vectors_test_rbf = []; # the avg-w2v for each sentence/review is stored in this list\n",
        "for sent in list_of_sentance_test_rbf: # for each review/sentence\n",
        "    sent_vec = np.zeros(50) # as word vectors are of zero length 50, you might need to change this to 300 if you use google's w2v\n",
        "    cnt_words =0; # num of words with a valid vector in the sentence/review\n",
        "    for word in sent: # for each word in a review/sentence\n",
        "        if word in w2v_words_train_rbf:\n",
        "            vec = w2v_model_train_rbf.wv[word]\n",
        "            sent_vec += vec\n",
        "            cnt_words += 1\n",
        "    if cnt_words != 0:\n",
        "        sent_vec /= cnt_words\n",
        "    sent_vectors_test_rbf.append(sent_vec)\n",
        "sent_vectors_test_rbf = np.array(sent_vectors_test_rbf)\n",
        "print(sent_vectors_test_rbf.shape)\n",
        "print(sent_vectors_test_rbf[0])"
      ],
      "execution_count": 79,
      "outputs": [
        {
          "output_type": "stream",
          "text": [
            "(4000, 50)\n",
            "[ 0.10693028  0.27032869 -0.71560208  0.40158712  0.89559134 -0.97789134\n",
            " -0.12387243  0.33057487  0.9514599  -0.73624231 -1.09670539  0.52377951\n",
            "  0.47454336 -0.78920976  1.12376771 -0.28955054 -0.50710274 -0.44480561\n",
            " -0.14455277 -0.08735282 -0.15326017  0.73849243  0.84329028 -0.35204952\n",
            " -0.10148038  0.69263725  0.59756802  0.15083782  0.16742498  0.46802563\n",
            " -0.70989381  0.23919658 -0.50465343 -0.37717541  0.54668193 -0.40756625\n",
            "  0.4518407   0.37335753 -0.46737004  0.81153511 -0.10368951 -0.29162792\n",
            "  0.3994293   0.59625597 -0.24391025  0.23826499 -0.7561134  -0.14203149\n",
            "  0.54359814 -1.18932469]\n"
          ],
          "name": "stdout"
        }
      ]
    },
    {
      "cell_type": "code",
      "metadata": {
        "id": "st22j-IAR4sJ",
        "colab_type": "code",
        "colab": {}
      },
      "source": [
        ""
      ],
      "execution_count": 0,
      "outputs": []
    },
    {
      "cell_type": "code",
      "metadata": {
        "id": "DawJbQZfR4aS",
        "colab_type": "code",
        "colab": {}
      },
      "source": [
        "# S = [\"abc def pqr\", \"def def def abc\", \"pqr pqr def\"]\n",
        "model_rbf = TfidfVectorizer(ngram_range=(1,2), min_df=10 ,max_features = 500)\n",
        "tf_idf_matrix_train_rbf = model_rbf.fit_transform(x_train)\n",
        "tf_idf_matrix_test_rbf = model.transform(x_test)\n",
        "# we are converting a dictionary with word as a key, and the idf as a value\n",
        "dictionary = dict(zip(model_rbf.get_feature_names(), list(model_rbf.idf_)))\n",
        "\n",
        "# TF-IDF weighted Word2Vec\n",
        "tfidf_feat = model_rbf.get_feature_names() # tfidf words/col-names\n",
        "# final_tf_idf is the sparse matrix with row= sentence, col=word and cell_val = tfidf\n",
        "\n",
        "w2v_tfidf_sent_vectors_train_rbf = []; # the tfidf-w2v for each sentence/review is stored in this list\n",
        "row=0;\n",
        "for sent in list_of_sentance_train_rbf: # for each review/sentence \n",
        "    sent_vec = np.zeros(50) # as word vectors are of zero length\n",
        "    weight_sum =0; # num of words with a valid vector in the sentence/review\n",
        "    for word in sent: # for each word in a review/sentence\n",
        "        if word in w2v_words_train_rbf and word in tfidf_feat:\n",
        "            vec = w2v_model_train_rbf.wv[word]\n",
        "#             tf_idf = tf_idf_matrix[row, tfidf_feat.index(word)]\n",
        "            # to reduce the computation we are \n",
        "            # dictionary[word] = idf value of word in whole courpus\n",
        "            # sent.count(word) = tf valeus of word in this review\n",
        "            tf_idf = dictionary[word]*(sent.count(word)/len(sent))\n",
        "            sent_vec += (vec * tf_idf)\n",
        "            weight_sum += tf_idf\n",
        "    if weight_sum != 0:\n",
        "        sent_vec /= weight_sum\n",
        "    w2v_tfidf_sent_vectors_train_rbf.append(sent_vec)\n",
        "    row += 1\n",
        "\t\n",
        "\t\n",
        "#test data\n",
        "\n",
        "w2v_tfidf_sent_vectors_test_rbf = []; # the tfidf-w2v for each sentence/review is stored in this list\n",
        "row=0;\n",
        "for sent in list_of_sentance_test_rbf: # for each review/sentence \n",
        "    sent_vec = np.zeros(50) # as word vectors are of zero length\n",
        "    weight_sum =0; # num of words with a valid vector in the sentence/review\n",
        "    for word in sent: # for each word in a review/sentence\n",
        "        if word in w2v_words_train_rbf and word in tfidf_feat:\n",
        "            vec = w2v_model_train_rbf.wv[word]\n",
        "#             tf_idf = tf_idf_matrix[row, tfidf_feat.index(word)]\n",
        "            # to reduce the computation we are \n",
        "            # dictionary[word] = idf value of word in whole courpus\n",
        "            # sent.count(word) = tf valeus of word in this review\n",
        "            tf_idf = dictionary[word]*(sent.count(word)/len(sent))\n",
        "            sent_vec += (vec * tf_idf)\n",
        "            weight_sum += tf_idf\n",
        "    if weight_sum != 0:\n",
        "        sent_vec /= weight_sum\n",
        "    w2v_tfidf_sent_vectors_test_rbf.append(sent_vec)\n",
        "    row += 1"
      ],
      "execution_count": 0,
      "outputs": []
    },
    {
      "cell_type": "markdown",
      "metadata": {
        "id": "tX3_lp4MtE71",
        "colab_type": "text"
      },
      "source": [
        "### [5.2.1] Applying RBF SVM on BOW,<font color='red'> SET 1</font>"
      ]
    },
    {
      "cell_type": "code",
      "metadata": {
        "id": "g7f1ZnIltE72",
        "colab_type": "code",
        "colab": {
          "base_uri": "https://localhost:8080/",
          "height": 170
        },
        "outputId": "4a5e3917-0eed-4930-c5de-d76d7916a2b6"
      },
      "source": [
        "# Please write all the code with proper documentation\n",
        "\n",
        "from sklearn.svm import SVC\n",
        "\n",
        "C = list(np.arange(2,40,2)) #hyperparameter\n",
        "\n",
        "parameters = {'C':C}\n",
        "\n",
        "bow_rbf = SVC(kernel = 'rbf' ,class_weight = 'balanced')\n",
        "\n",
        "bow_rbf_model = GridSearchCV(bow_rbf , param_grid = parameters ,cv = 5 ,scoring = 'roc_auc',n_jobs = -1)\n",
        "\n",
        "bow_rbf_model.fit(x_train_bigram_counts_rbf ,y_train)"
      ],
      "execution_count": 81,
      "outputs": [
        {
          "output_type": "execute_result",
          "data": {
            "text/plain": [
              "GridSearchCV(cv=5, error_score='raise-deprecating',\n",
              "       estimator=SVC(C=1.0, cache_size=200, class_weight='balanced', coef0=0.0,\n",
              "  decision_function_shape='ovr', degree=3, gamma='auto_deprecated',\n",
              "  kernel='rbf', max_iter=-1, probability=False, random_state=None,\n",
              "  shrinking=True, tol=0.001, verbose=False),\n",
              "       fit_params=None, iid='warn', n_jobs=-1,\n",
              "       param_grid={'C': [2, 4, 6, 8, 10, 12, 14, 16, 18, 20, 22, 24, 26, 28, 30, 32, 34, 36, 38]},\n",
              "       pre_dispatch='2*n_jobs', refit=True, return_train_score='warn',\n",
              "       scoring='roc_auc', verbose=0)"
            ]
          },
          "metadata": {
            "tags": []
          },
          "execution_count": 81
        }
      ]
    },
    {
      "cell_type": "code",
      "metadata": {
        "id": "re9GI5qgn2ou",
        "colab_type": "code",
        "colab": {
          "base_uri": "https://localhost:8080/",
          "height": 34
        },
        "outputId": "8029283a-7f44-45dd-89d1-dc1046f38404"
      },
      "source": [
        "print(\"best C(hyperparameter) is :\" ,bow_rbf_model.best_estimator_.C)"
      ],
      "execution_count": 82,
      "outputs": [
        {
          "output_type": "stream",
          "text": [
            "best C(hyperparameter) is : 6\n"
          ],
          "name": "stdout"
        }
      ]
    },
    {
      "cell_type": "code",
      "metadata": {
        "id": "g-WQW89S0kNV",
        "colab_type": "code",
        "colab": {
          "base_uri": "https://localhost:8080/",
          "height": 85
        },
        "outputId": "d42b2fe8-7989-4b34-e003-a99d03b85be3"
      },
      "source": [
        "bow_model_rbf = SVC(kernel = 'rbf' ,C = 6 , class_weight = 'balanced', probability = True)\n",
        "\n",
        "bow_model_rbf.fit(x_train_bigram_counts_rbf,y_train)"
      ],
      "execution_count": 86,
      "outputs": [
        {
          "output_type": "execute_result",
          "data": {
            "text/plain": [
              "SVC(C=6, cache_size=200, class_weight='balanced', coef0=0.0,\n",
              "  decision_function_shape='ovr', degree=3, gamma='auto_deprecated',\n",
              "  kernel='rbf', max_iter=-1, probability=True, random_state=None,\n",
              "  shrinking=True, tol=0.001, verbose=False)"
            ]
          },
          "metadata": {
            "tags": []
          },
          "execution_count": 86
        }
      ]
    },
    {
      "cell_type": "code",
      "metadata": {
        "id": "fA_0wlac1SmS",
        "colab_type": "code",
        "colab": {
          "base_uri": "https://localhost:8080/",
          "height": 414
        },
        "outputId": "74f9240e-d87c-4c3a-d195-ba9375c01dd3"
      },
      "source": [
        "train_fpr_bow_rbf, train_tpr_bow_rbf, thresholds_bow_rbf = roc_curve(y_train, bow_model_rbf.predict_proba(x_train_bigram_counts_rbf)[:,1])\n",
        "test_fpr_bow_rbf, test_tpr_bow_rbf, thresholds_bow_rbf = roc_curve(y_test, bow_model_rbf.predict_proba(x_test_bigram_counts_rbf)[:,1])\n",
        "\n",
        "plt.plot(train_fpr_bow_rbf, train_tpr_bow_rbf, label=\"train AUC =\"+str(auc(train_fpr_bow_rbf, train_tpr_bow_rbf)))\n",
        "plt.plot(test_fpr_bow_rbf, test_tpr_bow_rbf, label=\"test AUC =\"+str(auc(test_fpr_bow_rbf, test_tpr_bow_rbf)))\n",
        "plt.legend()\n",
        "plt.xlabel(\"FPR\")\n",
        "plt.ylabel(\"TPR\")\n",
        "plt.title(\"ERROR PLOTS\")\n",
        "plt.show()\n",
        "\n",
        "print(\"=\"*100)\n",
        "\n",
        "from sklearn.metrics import confusion_matrix\n",
        "print(\"Train confusion matrix\")\n",
        "print(confusion_matrix(y_train, bow_model_rbf.predict(x_train_bigram_counts_rbf)))\n",
        "print(\"Test confusion matrix\")\n",
        "print(confusion_matrix(y_test, bow_model_rbf.predict(x_test_bigram_counts_rbf)))"
      ],
      "execution_count": 87,
      "outputs": [
        {
          "output_type": "display_data",
          "data": {
            "image/png": "[encoded data removed]",
            "text/plain": [
              "<Figure size 432x288 with 1 Axes>"
            ]
          },
          "metadata": {
            "tags": []
          }
        },
        {
          "output_type": "stream",
          "text": [
            "====================================================================================================\n",
            "Train confusion matrix\n",
            "[[ 2196   280]\n",
            " [ 2282 11242]]\n",
            "Test confusion matrix\n",
            "[[ 510  110]\n",
            " [ 630 2750]]\n"
          ],
          "name": "stdout"
        }
      ]
    },
    {
      "cell_type": "code",
      "metadata": {
        "id": "J91a7eDC3OnO",
        "colab_type": "code",
        "colab": {
          "base_uri": "https://localhost:8080/",
          "height": 329
        },
        "outputId": "617cff23-a210-4338-b13e-bee08503d167"
      },
      "source": [
        "print(\"Heatmap of train confusion matrix\")\n",
        "import seaborn as sns\n",
        "confusion_matrix_train_bow_rbf = confusion_matrix(y_train, bow_model_rbf.predict(x_train_bigram_counts_rbf))\n",
        "\n",
        "df_cm=pd.DataFrame(confusion_matrix_train_bow_rbf,index=[\"Negative:0\",\"Positive:1\"],columns=[\"Negative\",\"Positive\"],)\n",
        "sns.heatmap(df_cm,annot=True,fmt='d')\n",
        "plt.title(\"Confusion Matrix\")\n",
        "plt.xlabel(\"Predicted Class\")\n",
        "plt.ylabel(\"Actual Class\")"
      ],
      "execution_count": 88,
      "outputs": [
        {
          "output_type": "stream",
          "text": [
            "Heatmap of train confusion matrix\n"
          ],
          "name": "stdout"
        },
        {
          "output_type": "execute_result",
          "data": {
            "text/plain": [
              "Text(33.0, 0.5, 'Actual Class')"
            ]
          },
          "metadata": {
            "tags": []
          },
          "execution_count": 88
        },
        {
          "output_type": "display_data",
          "data": {
            "image/png": "[encoded data removed]",
            "text/plain": [
              "<Figure size 432x288 with 2 Axes>"
            ]
          },
          "metadata": {
            "tags": []
          }
        }
      ]
    },
    {
      "cell_type": "code",
      "metadata": {
        "id": "zCYXE9Z13OiY",
        "colab_type": "code",
        "colab": {
          "base_uri": "https://localhost:8080/",
          "height": 329
        },
        "outputId": "45048069-6491-4d1a-8c83-3b85f9b1f583"
      },
      "source": [
        "print(\"Heatmap of test confusion matrix\")\n",
        "import seaborn as sns\n",
        "confusion_matrix_test_bow_rbf = confusion_matrix(y_test, bow_model_rbf.predict(x_test_bigram_counts_rbf))\n",
        "\n",
        "df_cm=pd.DataFrame(confusion_matrix_test_bow_rbf,index=[\"Negative:0\",\"Positive:1\"],columns=[\"Negative\",\"Positive\"],)\n",
        "sns.heatmap(df_cm,annot=True,fmt='d')\n",
        "plt.title(\"Confusion Matrix\")\n",
        "plt.xlabel(\"Predicted Class\")\n",
        "plt.ylabel(\"Actual Class\")"
      ],
      "execution_count": 89,
      "outputs": [
        {
          "output_type": "stream",
          "text": [
            "Heatmap of test confusion matrix\n"
          ],
          "name": "stdout"
        },
        {
          "output_type": "execute_result",
          "data": {
            "text/plain": [
              "Text(33.0, 0.5, 'Actual Class')"
            ]
          },
          "metadata": {
            "tags": []
          },
          "execution_count": 89
        },
        {
          "output_type": "display_data",
          "data": {
            "image/png": "[encoded data removed]",
            "text/plain": [
              "<Figure size 432x288 with 2 Axes>"
            ]
          },
          "metadata": {
            "tags": []
          }
        }
      ]
    },
    {
      "cell_type": "markdown",
      "metadata": {
        "id": "IESog3DBtE74",
        "colab_type": "text"
      },
      "source": [
        "### [5.2.2] Applying RBF SVM on TFIDF,<font color='red'> SET 2</font>"
      ]
    },
    {
      "cell_type": "code",
      "metadata": {
        "id": "8rEcIL8ZtE75",
        "colab_type": "code",
        "colab": {
          "base_uri": "https://localhost:8080/",
          "height": 170
        },
        "outputId": "9db440aa-bad6-4548-c654-d56582a19035"
      },
      "source": [
        "# Please write all the code with proper documentation\n",
        "\n",
        "tfidf_rbf = SVC(kernel = 'rbf' ,class_weight = 'balanced' ,probability= True)\n",
        "\n",
        "tfidf_rbf_model = GridSearchCV(tfidf_rbf , param_grid = parameters ,cv = 5 ,scoring = 'roc_auc',n_jobs = -1)\n",
        "\n",
        "tfidf_rbf_model.fit(x_train_tf_idf_rbf ,y_train)"
      ],
      "execution_count": 90,
      "outputs": [
        {
          "output_type": "execute_result",
          "data": {
            "text/plain": [
              "GridSearchCV(cv=5, error_score='raise-deprecating',\n",
              "       estimator=SVC(C=1.0, cache_size=200, class_weight='balanced', coef0=0.0,\n",
              "  decision_function_shape='ovr', degree=3, gamma='auto_deprecated',\n",
              "  kernel='rbf', max_iter=-1, probability=True, random_state=None,\n",
              "  shrinking=True, tol=0.001, verbose=False),\n",
              "       fit_params=None, iid='warn', n_jobs=-1,\n",
              "       param_grid={'C': [2, 4, 6, 8, 10, 12, 14, 16, 18, 20, 22, 24, 26, 28, 30, 32, 34, 36, 38]},\n",
              "       pre_dispatch='2*n_jobs', refit=True, return_train_score='warn',\n",
              "       scoring='roc_auc', verbose=0)"
            ]
          },
          "metadata": {
            "tags": []
          },
          "execution_count": 90
        }
      ]
    },
    {
      "cell_type": "code",
      "metadata": {
        "id": "mQ7UFS7ocr0M",
        "colab_type": "code",
        "colab": {
          "base_uri": "https://localhost:8080/",
          "height": 34
        },
        "outputId": "23513612-4521-4325-a319-8adbea1a3018"
      },
      "source": [
        "print(\"best C(hyperparameter) is :\" ,tfidf_rbf_model.best_estimator_.C)\n",
        "\n",
        "best_c = tfidf_rbf_model.best_estimator_.C"
      ],
      "execution_count": 91,
      "outputs": [
        {
          "output_type": "stream",
          "text": [
            "best C(hyperparameter) is : 38\n"
          ],
          "name": "stdout"
        }
      ]
    },
    {
      "cell_type": "code",
      "metadata": {
        "id": "lo3KB0rncrv1",
        "colab_type": "code",
        "colab": {
          "base_uri": "https://localhost:8080/",
          "height": 85
        },
        "outputId": "8fcf0af8-4c19-4f3c-b67b-1b3702cca1e0"
      },
      "source": [
        "tfidf_model_rbf = SVC(kernel = 'rbf' ,C = best_c , class_weight = 'balanced', probability = True)\n",
        "\n",
        "tfidf_model_rbf.fit(x_train_tf_idf_rbf,y_train)"
      ],
      "execution_count": 92,
      "outputs": [
        {
          "output_type": "execute_result",
          "data": {
            "text/plain": [
              "SVC(C=38, cache_size=200, class_weight='balanced', coef0=0.0,\n",
              "  decision_function_shape='ovr', degree=3, gamma='auto_deprecated',\n",
              "  kernel='rbf', max_iter=-1, probability=True, random_state=None,\n",
              "  shrinking=True, tol=0.001, verbose=False)"
            ]
          },
          "metadata": {
            "tags": []
          },
          "execution_count": 92
        }
      ]
    },
    {
      "cell_type": "code",
      "metadata": {
        "id": "b2IAGz1MvEdF",
        "colab_type": "code",
        "colab": {
          "base_uri": "https://localhost:8080/",
          "height": 414
        },
        "outputId": "018b68e6-0a0d-4c03-9dce-3bb5da64304d"
      },
      "source": [
        "train_fpr_tfidf_rbf, train_tpr_tfidf_rbf, thresholds_tfidf_rbf = roc_curve(y_train, tfidf_model_rbf.predict_proba(x_train_tf_idf_rbf)[:,1])\n",
        "test_fpr_tfidf_rbf, test_tpr_tfidf_rbf, thresholds_tfidf_rbf = roc_curve(y_test, tfidf_model_rbf.predict_proba(x_test_tf_idf_rbf)[:,1])\n",
        "\n",
        "plt.plot(train_fpr_tfidf_rbf, train_tpr_tfidf_rbf, label=\"train AUC =\"+str(auc(train_fpr_tfidf_rbf, train_tpr_tfidf_rbf)))\n",
        "plt.plot(test_fpr_tfidf_rbf, test_tpr_tfidf_rbf, label=\"test AUC =\"+str(auc(test_fpr_tfidf_rbf, test_tpr_tfidf_rbf)))\n",
        "plt.legend()\n",
        "plt.xlabel(\"FPR\")\n",
        "plt.ylabel(\"TPR\")\n",
        "plt.title(\"ERROR PLOTS\")\n",
        "plt.show()\n",
        "\n",
        "print(\"=\"*100)\n",
        "\n",
        "from sklearn.metrics import confusion_matrix\n",
        "print(\"Train confusion matrix\")\n",
        "print(confusion_matrix(y_train, tfidf_model_rbf.predict(x_train_tf_idf_rbf)))\n",
        "print(\"Test confusion matrix\")\n",
        "print(confusion_matrix(y_test, tfidf_model_rbf.predict(x_test_tf_idf_rbf)))"
      ],
      "execution_count": 93,
      "outputs": [
        {
          "output_type": "display_data",
          "data": {
            "image/png": "[encoded data removed]",
            "text/plain": [
              "<Figure size 432x288 with 1 Axes>"
            ]
          },
          "metadata": {
            "tags": []
          }
        },
        {
          "output_type": "stream",
          "text": [
            "====================================================================================================\n",
            "Train confusion matrix\n",
            "[[ 2132   344]\n",
            " [ 2620 10904]]\n",
            "Test confusion matrix\n",
            "[[ 523   97]\n",
            " [ 698 2682]]\n"
          ],
          "name": "stdout"
        }
      ]
    },
    {
      "cell_type": "code",
      "metadata": {
        "id": "gKd3eY64vEZS",
        "colab_type": "code",
        "colab": {
          "base_uri": "https://localhost:8080/",
          "height": 329
        },
        "outputId": "8d0fe81d-32ac-4000-f644-b8c8bf2555ce"
      },
      "source": [
        "print(\"Heatmap of train confusion matrix\")\n",
        "import seaborn as sns\n",
        "confusion_matrix_train_tfidf_rbf = confusion_matrix(y_train, tfidf_model_rbf.predict(x_train_tf_idf_rbf))\n",
        "\n",
        "df_cm=pd.DataFrame(confusion_matrix_train_tfidf_rbf,index=[\"Negative:0\",\"Positive:1\"],columns=[\"Negative\",\"Positive\"],)\n",
        "sns.heatmap(df_cm,annot=True,fmt='d')\n",
        "plt.title(\"Confusion Matrix\")\n",
        "plt.xlabel(\"Predicted Class\")\n",
        "plt.ylabel(\"Actual Class\")"
      ],
      "execution_count": 94,
      "outputs": [
        {
          "output_type": "stream",
          "text": [
            "Heatmap of train confusion matrix\n"
          ],
          "name": "stdout"
        },
        {
          "output_type": "execute_result",
          "data": {
            "text/plain": [
              "Text(33.0, 0.5, 'Actual Class')"
            ]
          },
          "metadata": {
            "tags": []
          },
          "execution_count": 94
        },
        {
          "output_type": "display_data",
          "data": {
            "image/png": "[encoded data removed]",
            "text/plain": [
              "<Figure size 432x288 with 2 Axes>"
            ]
          },
          "metadata": {
            "tags": []
          }
        }
      ]
    },
    {
      "cell_type": "code",
      "metadata": {
        "id": "i5LhtRslwEh0",
        "colab_type": "code",
        "colab": {
          "base_uri": "https://localhost:8080/",
          "height": 329
        },
        "outputId": "d10a66e4-a13a-4216-80ec-78001f72410b"
      },
      "source": [
        "print(\"Heatmap of test confusion matrix\")\n",
        "import seaborn as sns\n",
        "confusion_matrix_test_tfidf_rbf = confusion_matrix(y_test, tfidf_model_rbf.predict(x_test_tf_idf_rbf))\n",
        "\n",
        "df_cm=pd.DataFrame(confusion_matrix_test_tfidf_rbf,index=[\"Negative:0\",\"Positive:1\"],columns=[\"Negative\",\"Positive\"],)\n",
        "sns.heatmap(df_cm,annot=True,fmt='d')\n",
        "plt.title(\"Confusion Matrix\")\n",
        "plt.xlabel(\"Predicted Class\")\n",
        "plt.ylabel(\"Actual Class\")"
      ],
      "execution_count": 95,
      "outputs": [
        {
          "output_type": "stream",
          "text": [
            "Heatmap of test confusion matrix\n"
          ],
          "name": "stdout"
        },
        {
          "output_type": "execute_result",
          "data": {
            "text/plain": [
              "Text(33.0, 0.5, 'Actual Class')"
            ]
          },
          "metadata": {
            "tags": []
          },
          "execution_count": 95
        },
        {
          "output_type": "display_data",
          "data": {
            "image/png": "[encoded data removed]",
            "text/plain": [
              "<Figure size 432x288 with 2 Axes>"
            ]
          },
          "metadata": {
            "tags": []
          }
        }
      ]
    },
    {
      "cell_type": "markdown",
      "metadata": {
        "id": "ELJzg3UjtE78",
        "colab_type": "text"
      },
      "source": [
        "### [5.2.3]  Applying RBF SVM on AVG W2V,<font color='red'> SET 3</font>"
      ]
    },
    {
      "cell_type": "code",
      "metadata": {
        "id": "yiqKXjNitE79",
        "colab_type": "code",
        "colab": {
          "base_uri": "https://localhost:8080/",
          "height": 170
        },
        "outputId": "c191575d-a23c-4d54-b577-6a51af5eecc0"
      },
      "source": [
        "# Please write all the code with proper documentation\n",
        "avgw2v_rbf = SVC(kernel = 'rbf' ,class_weight = 'balanced')\n",
        "\n",
        "avgw2v_rbf_model = GridSearchCV(avgw2v_rbf , param_grid = parameters ,cv = 5 ,scoring = 'roc_auc',n_jobs = -1)\n",
        "\n",
        "avgw2v_rbf_model.fit(sent_vectors_train_rbf ,y_train)"
      ],
      "execution_count": 96,
      "outputs": [
        {
          "output_type": "execute_result",
          "data": {
            "text/plain": [
              "GridSearchCV(cv=5, error_score='raise-deprecating',\n",
              "       estimator=SVC(C=1.0, cache_size=200, class_weight='balanced', coef0=0.0,\n",
              "  decision_function_shape='ovr', degree=3, gamma='auto_deprecated',\n",
              "  kernel='rbf', max_iter=-1, probability=False, random_state=None,\n",
              "  shrinking=True, tol=0.001, verbose=False),\n",
              "       fit_params=None, iid='warn', n_jobs=-1,\n",
              "       param_grid={'C': [2, 4, 6, 8, 10, 12, 14, 16, 18, 20, 22, 24, 26, 28, 30, 32, 34, 36, 38]},\n",
              "       pre_dispatch='2*n_jobs', refit=True, return_train_score='warn',\n",
              "       scoring='roc_auc', verbose=0)"
            ]
          },
          "metadata": {
            "tags": []
          },
          "execution_count": 96
        }
      ]
    },
    {
      "cell_type": "code",
      "metadata": {
        "id": "Gq8ijZ739JhR",
        "colab_type": "code",
        "colab": {
          "base_uri": "https://localhost:8080/",
          "height": 34
        },
        "outputId": "bad45041-17a3-43fd-f0c1-48563e608f72"
      },
      "source": [
        "print(\"best C(hyperparameter) is :\" ,avgw2v_rbf_model.best_estimator_.C)\n",
        "\n",
        "best_c = avgw2v_rbf_model.best_estimator_.C"
      ],
      "execution_count": 104,
      "outputs": [
        {
          "output_type": "stream",
          "text": [
            "best C(hyperparameter) is : 6\n"
          ],
          "name": "stdout"
        }
      ]
    },
    {
      "cell_type": "code",
      "metadata": {
        "id": "ITJ5QYVI9S7K",
        "colab_type": "code",
        "colab": {
          "base_uri": "https://localhost:8080/",
          "height": 85
        },
        "outputId": "756fd772-c325-40da-dc09-cac0a8af9f10"
      },
      "source": [
        "avgw2v_model_rbf = SVC(kernel = 'rbf' ,C = best_c , class_weight = 'balanced', probability = True)\n",
        "\n",
        "avgw2v_model_rbf.fit(sent_vectors_train_rbf,y_train)"
      ],
      "execution_count": 105,
      "outputs": [
        {
          "output_type": "execute_result",
          "data": {
            "text/plain": [
              "SVC(C=6, cache_size=200, class_weight='balanced', coef0=0.0,\n",
              "  decision_function_shape='ovr', degree=3, gamma='auto_deprecated',\n",
              "  kernel='rbf', max_iter=-1, probability=True, random_state=None,\n",
              "  shrinking=True, tol=0.001, verbose=False)"
            ]
          },
          "metadata": {
            "tags": []
          },
          "execution_count": 105
        }
      ]
    },
    {
      "cell_type": "code",
      "metadata": {
        "id": "ylgi6qJi9TE3",
        "colab_type": "code",
        "colab": {
          "base_uri": "https://localhost:8080/",
          "height": 414
        },
        "outputId": "7caf89cc-1939-481a-becd-5ea0b7d4b903"
      },
      "source": [
        "train_fpr_avgw2v_rbf, train_tpr_avgw2v_rbf, thresholds_avgw2v_rbf = roc_curve(y_train, avgw2v_model_rbf.predict_proba(sent_vectors_train_rbf)[:,1])\n",
        "test_fpr_avgw2v_rbf, test_tpr_avgw2v_rbf, thresholds_avgw2v_rbf = roc_curve(y_test, avgw2v_model_rbf.predict_proba(sent_vectors_test_rbf)[:,1])\n",
        "\n",
        "plt.plot(train_fpr_avgw2v_rbf, train_tpr_avgw2v_rbf, label=\"train AUC =\"+str(auc(train_fpr_avgw2v_rbf, train_tpr_avgw2v_rbf)))\n",
        "plt.plot(test_fpr_avgw2v_rbf, test_tpr_avgw2v_rbf, label=\"test AUC =\"+str(auc(test_fpr_avgw2v_rbf, test_tpr_avgw2v_rbf)))\n",
        "plt.legend()\n",
        "plt.xlabel(\"FPR\")\n",
        "plt.ylabel(\"TPR\")\n",
        "plt.title(\"ERROR PLOTS\")\n",
        "plt.show()\n",
        "\n",
        "print(\"=\"*100)\n",
        "\n",
        "from sklearn.metrics import confusion_matrix\n",
        "print(\"Train confusion matrix\")\n",
        "print(confusion_matrix(y_train, avgw2v_model_rbf.predict(sent_vectors_train_rbf)))\n",
        "print(\"Test confusion matrix\")\n",
        "print(confusion_matrix(y_test, avgw2v_model_rbf.predict(sent_vectors_test_rbf)))"
      ],
      "execution_count": 106,
      "outputs": [
        {
          "output_type": "display_data",
          "data": {
            "image/png": "[encoded data removed]",
            "text/plain": [
              "<Figure size 432x288 with 1 Axes>"
            ]
          },
          "metadata": {
            "tags": []
          }
        },
        {
          "output_type": "stream",
          "text": [
            "====================================================================================================\n",
            "Train confusion matrix\n",
            "[[ 2196   280]\n",
            " [ 2495 11029]]\n",
            "Test confusion matrix\n",
            "[[ 521   99]\n",
            " [ 624 2756]]\n"
          ],
          "name": "stdout"
        }
      ]
    },
    {
      "cell_type": "code",
      "metadata": {
        "id": "bEchkbwr9TAd",
        "colab_type": "code",
        "colab": {
          "base_uri": "https://localhost:8080/",
          "height": 329
        },
        "outputId": "bd302874-1c52-4e1e-8ae6-3a23fcb175d4"
      },
      "source": [
        "print(\"Heatmap of train confusion matrix\")\n",
        "import seaborn as sns\n",
        "confusion_matrix_train_avgw2v_rbf = confusion_matrix(y_train, avgw2v_model_rbf.predict(sent_vectors_train_rbf))\n",
        "\n",
        "df_cm=pd.DataFrame(confusion_matrix_train_avgw2v_rbf,index=[\"Negative:0\",\"Positive:1\"],columns=[\"Negative\",\"Positive\"],)\n",
        "sns.heatmap(df_cm,annot=True,fmt='d')\n",
        "plt.title(\"Confusion Matrix\")\n",
        "plt.xlabel(\"Predicted Class\")\n",
        "plt.ylabel(\"Actual Class\")"
      ],
      "execution_count": 107,
      "outputs": [
        {
          "output_type": "stream",
          "text": [
            "Heatmap of train confusion matrix\n"
          ],
          "name": "stdout"
        },
        {
          "output_type": "execute_result",
          "data": {
            "text/plain": [
              "Text(33.0, 0.5, 'Actual Class')"
            ]
          },
          "metadata": {
            "tags": []
          },
          "execution_count": 107
        },
        {
          "output_type": "display_data",
          "data": {
            "image/png": "[encoded data removed]",
            "text/plain": [
              "<Figure size 432x288 with 2 Axes>"
            ]
          },
          "metadata": {
            "tags": []
          }
        }
      ]
    },
    {
      "cell_type": "code",
      "metadata": {
        "id": "wJ_Bqmv0-tcq",
        "colab_type": "code",
        "colab": {
          "base_uri": "https://localhost:8080/",
          "height": 329
        },
        "outputId": "5c39e3bf-67f5-4fe5-9f02-6b60fefed758"
      },
      "source": [
        "print(\"Heatmap of test confusion matrix\")\n",
        "import seaborn as sns\n",
        "confusion_matrix_test_avgw2v_rbf = confusion_matrix(y_test, avgw2v_model_rbf.predict(sent_vectors_test_rbf))\n",
        "\n",
        "df_cm=pd.DataFrame(confusion_matrix_test_avgw2v_rbf,index=[\"Negative:0\",\"Positive:1\"],columns=[\"Negative\",\"Positive\"],)\n",
        "sns.heatmap(df_cm,annot=True,fmt='d')\n",
        "plt.title(\"Confusion Matrix\")\n",
        "plt.xlabel(\"Predicted Class\")\n",
        "plt.ylabel(\"Actual Class\")"
      ],
      "execution_count": 108,
      "outputs": [
        {
          "output_type": "stream",
          "text": [
            "Heatmap of test confusion matrix\n"
          ],
          "name": "stdout"
        },
        {
          "output_type": "execute_result",
          "data": {
            "text/plain": [
              "Text(33.0, 0.5, 'Actual Class')"
            ]
          },
          "metadata": {
            "tags": []
          },
          "execution_count": 108
        },
        {
          "output_type": "display_data",
          "data": {
            "image/png": "[encoded data removed]",
            "text/plain": [
              "<Figure size 432x288 with 2 Axes>"
            ]
          },
          "metadata": {
            "tags": []
          }
        }
      ]
    },
    {
      "cell_type": "markdown",
      "metadata": {
        "id": "m5bZEvGgtE8A",
        "colab_type": "text"
      },
      "source": [
        "### [5.2.4]  Applying RBF SVM on TFIDF W2V,<font color='red'> SET 4</font>"
      ]
    },
    {
      "cell_type": "code",
      "metadata": {
        "id": "sPk8-jAhtE8B",
        "colab_type": "code",
        "colab": {
          "base_uri": "https://localhost:8080/",
          "height": 170
        },
        "outputId": "ab7b7be3-cb75-4564-c9eb-3453add0f81a"
      },
      "source": [
        "# Please write all the code with proper documentation\n",
        "\n",
        "\n",
        "# Please write all the code with proper documentation\n",
        "tfidfavgw2v_rbf = SVC(kernel = 'rbf' ,class_weight = 'balanced')\n",
        "\n",
        "tfidfavgw2v_rbf_model = GridSearchCV(tfidfavgw2v_rbf , param_grid = parameters ,cv = 5 ,scoring = 'roc_auc',n_jobs = -1)\n",
        "\n",
        "tfidfavgw2v_rbf_model.fit(w2v_tfidf_sent_vectors_train_rbf ,y_train)"
      ],
      "execution_count": 109,
      "outputs": [
        {
          "output_type": "execute_result",
          "data": {
            "text/plain": [
              "GridSearchCV(cv=5, error_score='raise-deprecating',\n",
              "       estimator=SVC(C=1.0, cache_size=200, class_weight='balanced', coef0=0.0,\n",
              "  decision_function_shape='ovr', degree=3, gamma='auto_deprecated',\n",
              "  kernel='rbf', max_iter=-1, probability=False, random_state=None,\n",
              "  shrinking=True, tol=0.001, verbose=False),\n",
              "       fit_params=None, iid='warn', n_jobs=-1,\n",
              "       param_grid={'C': [2, 4, 6, 8, 10, 12, 14, 16, 18, 20, 22, 24, 26, 28, 30, 32, 34, 36, 38]},\n",
              "       pre_dispatch='2*n_jobs', refit=True, return_train_score='warn',\n",
              "       scoring='roc_auc', verbose=0)"
            ]
          },
          "metadata": {
            "tags": []
          },
          "execution_count": 109
        }
      ]
    },
    {
      "cell_type": "code",
      "metadata": {
        "id": "V3rGRwoLCDEh",
        "colab_type": "code",
        "colab": {
          "base_uri": "https://localhost:8080/",
          "height": 34
        },
        "outputId": "0eb9db88-db8e-4a8c-f40a-0145a7757a49"
      },
      "source": [
        "print(\"best C(hyperparameter) is :\" ,tfidfavgw2v_rbf_model.best_estimator_.C)\n",
        "\n",
        "best_c = tfidfavgw2v_rbf_model.best_estimator_.C"
      ],
      "execution_count": 110,
      "outputs": [
        {
          "output_type": "stream",
          "text": [
            "best C(hyperparameter) is : 2\n"
          ],
          "name": "stdout"
        }
      ]
    },
    {
      "cell_type": "code",
      "metadata": {
        "id": "4vJINogfWbU3",
        "colab_type": "code",
        "colab": {
          "base_uri": "https://localhost:8080/",
          "height": 85
        },
        "outputId": "7df3f9a3-19e8-4c29-b566-c6ab821e1020"
      },
      "source": [
        "tfidfavgw2v_model_rbf = SVC(kernel = 'rbf' ,C = best_c , class_weight = 'balanced', probability = True)\n",
        "\n",
        "tfidfavgw2v_model_rbf.fit(w2v_tfidf_sent_vectors_train_rbf,y_train)"
      ],
      "execution_count": 111,
      "outputs": [
        {
          "output_type": "execute_result",
          "data": {
            "text/plain": [
              "SVC(C=2, cache_size=200, class_weight='balanced', coef0=0.0,\n",
              "  decision_function_shape='ovr', degree=3, gamma='auto_deprecated',\n",
              "  kernel='rbf', max_iter=-1, probability=True, random_state=None,\n",
              "  shrinking=True, tol=0.001, verbose=False)"
            ]
          },
          "metadata": {
            "tags": []
          },
          "execution_count": 111
        }
      ]
    },
    {
      "cell_type": "code",
      "metadata": {
        "id": "iPHBymofCDMQ",
        "colab_type": "code",
        "colab": {
          "base_uri": "https://localhost:8080/",
          "height": 414
        },
        "outputId": "8ca15e3f-7d48-4c09-d017-abde732ca465"
      },
      "source": [
        "train_fpr_tfidfavgw2v_rbf, train_tpr_tfidfavgw2v_rbf, thresholds_tfidfavgw2v_rbf = roc_curve(y_train, tfidfavgw2v_model_rbf.predict_proba(w2v_tfidf_sent_vectors_train_rbf)[:,1])\n",
        "test_fpr_tfidfavgw2v_rbf, test_tpr_tfidfavgw2v_rbf, thresholds_tfidfavgw2v_rbf = roc_curve(y_test, tfidfavgw2v_model_rbf.predict_proba(w2v_tfidf_sent_vectors_test_rbf)[:,1])\n",
        "\n",
        "plt.plot(train_fpr_tfidfavgw2v_rbf, train_tpr_tfidfavgw2v_rbf, label=\"train AUC =\"+str(auc(train_fpr_tfidfavgw2v_rbf, train_tpr_tfidfavgw2v_rbf)))\n",
        "plt.plot(test_fpr_tfidfavgw2v_rbf, test_tpr_tfidfavgw2v_rbf, label=\"test AUC =\"+str(auc(test_fpr_tfidfavgw2v_rbf, test_tpr_tfidfavgw2v_rbf)))\n",
        "plt.legend()\n",
        "plt.xlabel(\"FPR\")\n",
        "plt.ylabel(\"TPR\")\n",
        "plt.title(\"ERROR PLOTS\")\n",
        "plt.show()\n",
        "\n",
        "print(\"=\"*100)\n",
        "\n",
        "from sklearn.metrics import confusion_matrix\n",
        "print(\"Train confusion matrix\")\n",
        "print(confusion_matrix(y_train, tfidfavgw2v_model_rbf.predict(w2v_tfidf_sent_vectors_train_rbf)))\n",
        "print(\"Test confusion matrix\")\n",
        "print(confusion_matrix(y_test, tfidfavgw2v_model_rbf.predict(w2v_tfidf_sent_vectors_test_rbf)))"
      ],
      "execution_count": 112,
      "outputs": [
        {
          "output_type": "display_data",
          "data": {
            "image/png": "[encoded data removed]",
            "text/plain": [
              "<Figure size 432x288 with 1 Axes>"
            ]
          },
          "metadata": {
            "tags": []
          }
        },
        {
          "output_type": "stream",
          "text": [
            "====================================================================================================\n",
            "Train confusion matrix\n",
            "[[ 2159   317]\n",
            " [ 2902 10622]]\n",
            "Test confusion matrix\n",
            "[[ 493  127]\n",
            " [ 788 2592]]\n"
          ],
          "name": "stdout"
        }
      ]
    },
    {
      "cell_type": "code",
      "metadata": {
        "id": "Son17x5ECDUM",
        "colab_type": "code",
        "colab": {
          "base_uri": "https://localhost:8080/",
          "height": 329
        },
        "outputId": "5a11571b-a02a-412e-87ea-901be8155944"
      },
      "source": [
        "print(\"Heatmap of train confusion matrix\")\n",
        "import seaborn as sns\n",
        "confusion_matrix_train_tfidfavgw2v_rbf = confusion_matrix(y_train, tfidfavgw2v_model_rbf.predict(w2v_tfidf_sent_vectors_train_rbf))\n",
        "\n",
        "df_cm=pd.DataFrame(confusion_matrix_train_tfidfavgw2v_rbf,index=[\"Negative:0\",\"Positive:1\"],columns=[\"Negative\",\"Positive\"],)\n",
        "sns.heatmap(df_cm,annot=True,fmt='d')\n",
        "plt.title(\"Confusion Matrix\")\n",
        "plt.xlabel(\"Predicted Class\")\n",
        "plt.ylabel(\"Actual Class\")"
      ],
      "execution_count": 113,
      "outputs": [
        {
          "output_type": "stream",
          "text": [
            "Heatmap of train confusion matrix\n"
          ],
          "name": "stdout"
        },
        {
          "output_type": "execute_result",
          "data": {
            "text/plain": [
              "Text(33.0, 0.5, 'Actual Class')"
            ]
          },
          "metadata": {
            "tags": []
          },
          "execution_count": 113
        },
        {
          "output_type": "display_data",
          "data": {
            "image/png": "[encoded data removed]",
            "text/plain": [
              "<Figure size 432x288 with 2 Axes>"
            ]
          },
          "metadata": {
            "tags": []
          }
        }
      ]
    },
    {
      "cell_type": "code",
      "metadata": {
        "id": "LswuH21TCDby",
        "colab_type": "code",
        "colab": {
          "base_uri": "https://localhost:8080/",
          "height": 329
        },
        "outputId": "118558cf-befc-4e9f-c32a-273c33406fa3"
      },
      "source": [
        "print(\"Heatmap of test confusion matrix\")\n",
        "import seaborn as sns\n",
        "confusion_matrix_test_tfidfavgw2v_rbf = confusion_matrix(y_test, tfidfavgw2v_model_rbf.predict(w2v_tfidf_sent_vectors_test_rbf))\n",
        "\n",
        "df_cm=pd.DataFrame(confusion_matrix_test_tfidfavgw2v_rbf,index=[\"Negative:0\",\"Positive:1\"],columns=[\"Negative\",\"Positive\"],)\n",
        "sns.heatmap(df_cm,annot=True,fmt='d')\n",
        "plt.title(\"Confusion Matrix\")\n",
        "plt.xlabel(\"Predicted Class\")\n",
        "plt.ylabel(\"Actual Class\")"
      ],
      "execution_count": 114,
      "outputs": [
        {
          "output_type": "stream",
          "text": [
            "Heatmap of test confusion matrix\n"
          ],
          "name": "stdout"
        },
        {
          "output_type": "execute_result",
          "data": {
            "text/plain": [
              "Text(33.0, 0.5, 'Actual Class')"
            ]
          },
          "metadata": {
            "tags": []
          },
          "execution_count": 114
        },
        {
          "output_type": "display_data",
          "data": {
            "image/png": "[encoded data removed]",
            "text/plain": [
              "<Figure size 432x288 with 2 Axes>"
            ]
          },
          "metadata": {
            "tags": []
          }
        }
      ]
    },
    {
      "cell_type": "markdown",
      "metadata": {
        "id": "ZYOdYoTWtE8G",
        "colab_type": "text"
      },
      "source": [
        "# [6] Conclusions"
      ]
    },
    {
      "cell_type": "code",
      "metadata": {
        "id": "8AveEQFAtE8I",
        "colab_type": "code",
        "colab": {
          "base_uri": "https://localhost:8080/",
          "height": 408
        },
        "outputId": "07f88894-6aa0-4134-a19c-350fb5de056a"
      },
      "source": [
        "from prettytable import PrettyTable\n",
        "X = PrettyTable()\n",
        "print(\"Comparison table for Linear SVM using SGD classifier\")\n",
        "\n",
        "X.field_names=[\"Model_Name\",\"Train_Accuracy\",\"Test_Accuracy\",\"Optimal alpha\"]\n",
        "X.add_row([\"SGD classifier with hinge loss on BOW\", 98.4, 95.4, 0.001])\n",
        "X.add_row([\"SGD classifier with hinge loss on TFIDF\", 98.0, 95.9, 0.0001])\n",
        "X.add_row([\"SGD classifier with hinge loss on AVG W2V\", 90.8, 90.5,0.01])\n",
        "X.add_row([\"SGD classifier with hinge loss on TFIDF-AvgW2V\", 88.4,88,0.01])\n",
        "print(X)\n",
        "print(\"\\n\")\n",
        "print(\"=\"*100)\n",
        "print(\"\\n\")\n",
        "print(\"Comparison table for RBF SVM\")\n",
        "Y = PrettyTable()\n",
        "Y.field_names=[\"Model_Name\",\"Train_Accuracy\",\"Test_Accuracy\",\"Optimal C\"]\n",
        "Y.add_row([\"RBF SVM on BOW\", 92.8, 88.7, 6])\n",
        "Y.add_row([\"RBF SVM on TFIDF\", 91.1, 89.7, 38])\n",
        "Y.add_row([\"RBF SVM on AVG W2V\", 92.5, 90.9,6])\n",
        "Y.add_row([\"RBF SVM on TFIDF-AvgW2V\", 90.2,86.1,2])\n",
        "print(Y)"
      ],
      "execution_count": 86,
      "outputs": [
        {
          "output_type": "stream",
          "text": [
            "Comparison table for Linear SVM using SGD classifier\n",
            "+------------------------------------------------+----------------+---------------+---------------+\n",
            "|                   Model_Name                   | Train_Accuracy | Test_Accuracy | Optimal alpha |\n",
            "+------------------------------------------------+----------------+---------------+---------------+\n",
            "|     SGD classifier with hinge loss on BOW      |      98.4      |      95.4     |     0.001     |\n",
            "|    SGD classifier with hinge loss on TFIDF     |      98.0      |      95.9     |     0.0001    |\n",
            "|   SGD classifier with hinge loss on AVG W2V    |      90.8      |      90.5     |      0.01     |\n",
            "| SGD classifier with hinge loss on TFIDF-AvgW2V |      88.4      |       88      |      0.01     |\n",
            "+------------------------------------------------+----------------+---------------+---------------+\n",
            "\n",
            "\n",
            "====================================================================================================\n",
            "\n",
            "\n",
            "Comparison table for RBF SVM\n",
            "+-------------------------+----------------+---------------+-----------+\n",
            "|        Model_Name       | Train_Accuracy | Test_Accuracy | Optimal C |\n",
            "+-------------------------+----------------+---------------+-----------+\n",
            "|      RBF SVM on BOW     |      92.8      |      88.7     |     6     |\n",
            "|     RBF SVM on TFIDF    |      91.1      |      89.7     |     38    |\n",
            "|    RBF SVM on AVG W2V   |      92.5      |      90.9     |     6     |\n",
            "| RBF SVM on TFIDF-AvgW2V |      90.2      |      86.1     |     2     |\n",
            "+-------------------------+----------------+---------------+-----------+\n"
          ],
          "name": "stdout"
        }
      ]
    },
    {
      "cell_type": "code",
      "metadata": {
        "id": "K3Ct7Y4wEuAo",
        "colab_type": "code",
        "colab": {}
      },
      "source": [
        ""
      ],
      "execution_count": 0,
      "outputs": []
    }
  ]
}