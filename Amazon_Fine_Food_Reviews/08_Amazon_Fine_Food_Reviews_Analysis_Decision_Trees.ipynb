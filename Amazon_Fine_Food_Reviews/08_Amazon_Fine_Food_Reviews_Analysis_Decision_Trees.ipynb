{
  "nbformat": 4,
  "nbformat_minor": 0,
  "metadata": {
    "colab": {
      "name": "08_Amazon_Fine_Food_Reviews_Analysis_Decision_Trees.ipynb",
      "version": "0.3.2",
      "provenance": [],
      "collapsed_sections": [
        "T_LFck8iiWOX"
      ]
    },
    "kernelspec": {
      "display_name": "Python 3",
      "language": "python",
      "name": "python3"
    }
  },
  "cells": [
    {
      "cell_type": "markdown",
      "metadata": {
        "id": "IXmtUCbYiWM3",
        "colab_type": "text"
      },
      "source": [
        "# Amazon Fine Food Reviews Analysis\n",
        "\n",
        "\n",
        "Data Source: https://www.kaggle.com/snap/amazon-fine-food-reviews <br>\n",
        "\n",
        "EDA: https://nycdatascience.com/blog/student-works/amazon-fine-foods-visualization/\n",
        "\n",
        "\n",
        "The Amazon Fine Food Reviews dataset consists of reviews of fine foods from Amazon.<br>\n",
        "\n",
        "Number of reviews: 568,454<br>\n",
        "Number of users: 256,059<br>\n",
        "Number of products: 74,258<br>\n",
        "Timespan: Oct 1999 - Oct 2012<br>\n",
        "Number of Attributes/Columns in data: 10 \n",
        "\n",
        "Attribute Information:\n",
        "\n",
        "1. Id\n",
        "2. ProductId - unique identifier for the product\n",
        "3. UserId - unqiue identifier for the user\n",
        "4. ProfileName\n",
        "5. HelpfulnessNumerator - number of users who found the review helpful\n",
        "6. HelpfulnessDenominator - number of users who indicated whether they found the review helpful or not\n",
        "7. Score - rating between 1 and 5\n",
        "8. Time - timestamp for the review\n",
        "9. Summary - brief summary of the review\n",
        "10. Text - text of the review\n",
        "\n",
        "\n",
        "#### Objective:\n",
        "Given a review, determine whether the review is positive (rating of 4 or 5) or negative (rating of 1 or 2).\n",
        "\n",
        "<br>\n",
        "[Q] How to determine if a review is positive or negative?<br>\n",
        "<br> \n",
        "[Ans] We could use Score/Rating. A rating of 4 or 5 can be cosnidered as a positive review. A rating of 1 or 2 can be considered as negative one. A review of rating 3 is considered nuetral and such reviews are ignored from our analysis. This is an approximate and proxy way of determining the polarity (positivity/negativity) of a review.\n",
        "\n",
        "\n"
      ]
    },
    {
      "cell_type": "markdown",
      "metadata": {
        "id": "syeYHDR_iWM7",
        "colab_type": "text"
      },
      "source": [
        "#  Reading Data"
      ]
    },
    {
      "cell_type": "markdown",
      "metadata": {
        "id": "D_eZrQC0iWM9",
        "colab_type": "text"
      },
      "source": [
        "##  Loading the data\n",
        "\n",
        "The dataset is available in two forms\n",
        "1. .csv file\n",
        "2. SQLite Database\n",
        "\n",
        "In order to load the data, We have used the SQLITE dataset as it is easier to query the data and visualise the data efficiently.\n",
        "<br> \n",
        "\n",
        "Here as we only want to get the global sentiment of the recommendations (positive or negative), we will purposefully ignore all Scores equal to 3. If the score is above 3, then the recommendation wil be set to \"positive\". Otherwise, it will be set to \"negative\"."
      ]
    },
    {
      "cell_type": "code",
      "metadata": {
        "id": "53fLFqf8iWNA",
        "colab_type": "code",
        "colab": {}
      },
      "source": [
        "%matplotlib inline\n",
        "import warnings\n",
        "warnings.filterwarnings(\"ignore\")\n",
        "\n",
        "\n",
        "import sqlite3\n",
        "import pandas as pd\n",
        "import numpy as np\n",
        "import nltk\n",
        "import string\n",
        "import matplotlib.pyplot as plt\n",
        "import seaborn as sns\n",
        "from sklearn.feature_extraction.text import TfidfTransformer\n",
        "from sklearn.feature_extraction.text import TfidfVectorizer\n",
        "\n",
        "from sklearn.feature_extraction.text import CountVectorizer\n",
        "from sklearn.metrics import confusion_matrix\n",
        "from sklearn import metrics\n",
        "from sklearn.metrics import roc_curve, auc\n",
        "from nltk.stem.porter import PorterStemmer\n",
        "\n",
        "import re\n",
        "# Tutorial about Python regular expressions: https://pymotw.com/2/re/\n",
        "import string\n",
        "from nltk.corpus import stopwords\n",
        "from nltk.stem import PorterStemmer\n",
        "from nltk.stem.wordnet import WordNetLemmatizer\n",
        "\n",
        "from gensim.models import Word2Vec\n",
        "from gensim.models import KeyedVectors\n",
        "import pickle\n",
        "\n",
        "from tqdm import tqdm\n",
        "import os"
      ],
      "execution_count": 0,
      "outputs": []
    },
    {
      "cell_type": "code",
      "metadata": {
        "id": "-pc9wPT8hFTZ",
        "colab_type": "code",
        "outputId": "e5e012c9-97b3-4c99-8f49-7d8fa77fa39c",
        "colab": {
          "base_uri": "https://localhost:8080/",
          "height": 34
        }
      },
      "source": [
        "from google.colab import drive\n",
        "drive.mount('/gdrive')"
      ],
      "execution_count": 2,
      "outputs": [
        {
          "output_type": "stream",
          "text": [
            "Drive already mounted at /gdrive; to attempt to forcibly remount, call drive.mount(\"/gdrive\", force_remount=True).\n"
          ],
          "name": "stdout"
        }
      ]
    },
    {
      "cell_type": "code",
      "metadata": {
        "id": "j3kshrC-iWNI",
        "colab_type": "code",
        "outputId": "2bc5aae0-03c9-49a5-b034-7486e9d4baa0",
        "colab": {
          "base_uri": "https://localhost:8080/",
          "height": 205
        }
      },
      "source": [
        "# using SQLite Table to read data.\n",
        "con = sqlite3.connect('/gdrive/My Drive/Colab Notebooks/database.sqlite') \n",
        "\n",
        "# filtering only positive and negative reviews i.e. \n",
        "# not taking into consideration those reviews with Score=3\n",
        "# SELECT * FROM Reviews WHERE Score != 3 LIMIT 500000, will give top 500000 data points\n",
        "# you can change the number to any other number based on your computing power\n",
        "\n",
        "# filtered_data = pd.read_sql_query(\"\"\" SELECT * FROM Reviews WHERE Score != 3 LIMIT 500000\"\"\", con) \n",
        "# for tsne assignment you can take 5k data points\n",
        "\n",
        "filtered_data = pd.read_sql_query(\"\"\" SELECT * FROM Reviews WHERE Score != 3 LIMIT 500000\"\"\", con) \n",
        "\n",
        "# Give reviews with Score>3 a positive rating(1), and reviews with a score<3 a negative rating(0).\n",
        "def partition(x):\n",
        "    if x < 3:\n",
        "        return 0\n",
        "    return 1\n",
        "\n",
        "#changing reviews with score less than 3 to be positive and vice-versa\n",
        "actualScore = filtered_data['Score']\n",
        "positiveNegative = actualScore.map(partition) \n",
        "filtered_data['Score'] = positiveNegative\n",
        "print(\"Number of data points in our data\", filtered_data.shape)\n",
        "filtered_data.head(3)"
      ],
      "execution_count": 3,
      "outputs": [
        {
          "output_type": "stream",
          "text": [
            "Number of data points in our data (500000, 10)\n"
          ],
          "name": "stdout"
        },
        {
          "output_type": "execute_result",
          "data": {
            "text/html": [
              "<div>\n",
              "<style scoped>\n",
              "    .dataframe tbody tr th:only-of-type {\n",
              "        vertical-align: middle;\n",
              "    }\n",
              "\n",
              "    .dataframe tbody tr th {\n",
              "        vertical-align: top;\n",
              "    }\n",
              "\n",
              "    .dataframe thead th {\n",
              "        text-align: right;\n",
              "    }\n",
              "</style>\n",
              "<table border=\"1\" class=\"dataframe\">\n",
              "  <thead>\n",
              "    <tr style=\"text-align: right;\">\n",
              "      <th></th>\n",
              "      <th>Id</th>\n",
              "      <th>ProductId</th>\n",
              "      <th>UserId</th>\n",
              "      <th>ProfileName</th>\n",
              "      <th>HelpfulnessNumerator</th>\n",
              "      <th>HelpfulnessDenominator</th>\n",
              "      <th>Score</th>\n",
              "      <th>Time</th>\n",
              "      <th>Summary</th>\n",
              "      <th>Text</th>\n",
              "    </tr>\n",
              "  </thead>\n",
              "  <tbody>\n",
              "    <tr>\n",
              "      <th>0</th>\n",
              "      <td>1</td>\n",
              "      <td>B001E4KFG0</td>\n",
              "      <td>A3SGXH7AUHU8GW</td>\n",
              "      <td>delmartian</td>\n",
              "      <td>1</td>\n",
              "      <td>1</td>\n",
              "      <td>1</td>\n",
              "      <td>1303862400</td>\n",
              "      <td>Good Quality Dog Food</td>\n",
              "      <td>I have bought several of the Vitality canned d...</td>\n",
              "    </tr>\n",
              "    <tr>\n",
              "      <th>1</th>\n",
              "      <td>2</td>\n",
              "      <td>B00813GRG4</td>\n",
              "      <td>A1D87F6ZCVE5NK</td>\n",
              "      <td>dll pa</td>\n",
              "      <td>0</td>\n",
              "      <td>0</td>\n",
              "      <td>0</td>\n",
              "      <td>1346976000</td>\n",
              "      <td>Not as Advertised</td>\n",
              "      <td>Product arrived labeled as Jumbo Salted Peanut...</td>\n",
              "    </tr>\n",
              "    <tr>\n",
              "      <th>2</th>\n",
              "      <td>3</td>\n",
              "      <td>B000LQOCH0</td>\n",
              "      <td>ABXLMWJIXXAIN</td>\n",
              "      <td>Natalia Corres \"Natalia Corres\"</td>\n",
              "      <td>1</td>\n",
              "      <td>1</td>\n",
              "      <td>1</td>\n",
              "      <td>1219017600</td>\n",
              "      <td>\"Delight\" says it all</td>\n",
              "      <td>This is a confection that has been around a fe...</td>\n",
              "    </tr>\n",
              "  </tbody>\n",
              "</table>\n",
              "</div>"
            ],
            "text/plain": [
              "   Id   ProductId          UserId                      ProfileName  \\\n",
              "0   1  B001E4KFG0  A3SGXH7AUHU8GW                       delmartian   \n",
              "1   2  B00813GRG4  A1D87F6ZCVE5NK                           dll pa   \n",
              "2   3  B000LQOCH0   ABXLMWJIXXAIN  Natalia Corres \"Natalia Corres\"   \n",
              "\n",
              "   HelpfulnessNumerator  HelpfulnessDenominator  Score        Time  \\\n",
              "0                     1                       1      1  1303862400   \n",
              "1                     0                       0      0  1346976000   \n",
              "2                     1                       1      1  1219017600   \n",
              "\n",
              "                 Summary                                               Text  \n",
              "0  Good Quality Dog Food  I have bought several of the Vitality canned d...  \n",
              "1      Not as Advertised  Product arrived labeled as Jumbo Salted Peanut...  \n",
              "2  \"Delight\" says it all  This is a confection that has been around a fe...  "
            ]
          },
          "metadata": {
            "tags": []
          },
          "execution_count": 3
        }
      ]
    },
    {
      "cell_type": "code",
      "metadata": {
        "id": "-7Iy8yWfiWNR",
        "colab_type": "code",
        "colab": {}
      },
      "source": [
        "display = pd.read_sql_query(\"\"\"\n",
        "SELECT UserId, ProductId, ProfileName, Time, Score, Text, COUNT(*)\n",
        "FROM Reviews\n",
        "GROUP BY UserId\n",
        "HAVING COUNT(*)>1\n",
        "\"\"\", con)"
      ],
      "execution_count": 0,
      "outputs": []
    },
    {
      "cell_type": "code",
      "metadata": {
        "scrolled": true,
        "id": "wuK6OYpOiWNV",
        "colab_type": "code",
        "outputId": "7d2a7321-38cf-4ae8-ab54-451470f4982f",
        "colab": {
          "base_uri": "https://localhost:8080/",
          "height": 215
        }
      },
      "source": [
        "print(display.shape)\n",
        "display.head()"
      ],
      "execution_count": 5,
      "outputs": [
        {
          "output_type": "stream",
          "text": [
            "(80668, 7)\n"
          ],
          "name": "stdout"
        },
        {
          "output_type": "execute_result",
          "data": {
            "text/html": [
              "<div>\n",
              "<style scoped>\n",
              "    .dataframe tbody tr th:only-of-type {\n",
              "        vertical-align: middle;\n",
              "    }\n",
              "\n",
              "    .dataframe tbody tr th {\n",
              "        vertical-align: top;\n",
              "    }\n",
              "\n",
              "    .dataframe thead th {\n",
              "        text-align: right;\n",
              "    }\n",
              "</style>\n",
              "<table border=\"1\" class=\"dataframe\">\n",
              "  <thead>\n",
              "    <tr style=\"text-align: right;\">\n",
              "      <th></th>\n",
              "      <th>UserId</th>\n",
              "      <th>ProductId</th>\n",
              "      <th>ProfileName</th>\n",
              "      <th>Time</th>\n",
              "      <th>Score</th>\n",
              "      <th>Text</th>\n",
              "      <th>COUNT(*)</th>\n",
              "    </tr>\n",
              "  </thead>\n",
              "  <tbody>\n",
              "    <tr>\n",
              "      <th>0</th>\n",
              "      <td>#oc-R115TNMSPFT9I7</td>\n",
              "      <td>B007Y59HVM</td>\n",
              "      <td>Breyton</td>\n",
              "      <td>1331510400</td>\n",
              "      <td>2</td>\n",
              "      <td>Overall its just OK when considering the price...</td>\n",
              "      <td>2</td>\n",
              "    </tr>\n",
              "    <tr>\n",
              "      <th>1</th>\n",
              "      <td>#oc-R11D9D7SHXIJB9</td>\n",
              "      <td>B005HG9ET0</td>\n",
              "      <td>Louis E. Emory \"hoppy\"</td>\n",
              "      <td>1342396800</td>\n",
              "      <td>5</td>\n",
              "      <td>My wife has recurring extreme muscle spasms, u...</td>\n",
              "      <td>3</td>\n",
              "    </tr>\n",
              "    <tr>\n",
              "      <th>2</th>\n",
              "      <td>#oc-R11DNU2NBKQ23Z</td>\n",
              "      <td>B007Y59HVM</td>\n",
              "      <td>Kim Cieszykowski</td>\n",
              "      <td>1348531200</td>\n",
              "      <td>1</td>\n",
              "      <td>This coffee is horrible and unfortunately not ...</td>\n",
              "      <td>2</td>\n",
              "    </tr>\n",
              "    <tr>\n",
              "      <th>3</th>\n",
              "      <td>#oc-R11O5J5ZVQE25C</td>\n",
              "      <td>B005HG9ET0</td>\n",
              "      <td>Penguin Chick</td>\n",
              "      <td>1346889600</td>\n",
              "      <td>5</td>\n",
              "      <td>This will be the bottle that you grab from the...</td>\n",
              "      <td>3</td>\n",
              "    </tr>\n",
              "    <tr>\n",
              "      <th>4</th>\n",
              "      <td>#oc-R12KPBODL2B5ZD</td>\n",
              "      <td>B007OSBE1U</td>\n",
              "      <td>Christopher P. Presta</td>\n",
              "      <td>1348617600</td>\n",
              "      <td>1</td>\n",
              "      <td>I didnt like this coffee. Instead of telling y...</td>\n",
              "      <td>2</td>\n",
              "    </tr>\n",
              "  </tbody>\n",
              "</table>\n",
              "</div>"
            ],
            "text/plain": [
              "               UserId   ProductId             ProfileName        Time  Score  \\\n",
              "0  #oc-R115TNMSPFT9I7  B007Y59HVM                 Breyton  1331510400      2   \n",
              "1  #oc-R11D9D7SHXIJB9  B005HG9ET0  Louis E. Emory \"hoppy\"  1342396800      5   \n",
              "2  #oc-R11DNU2NBKQ23Z  B007Y59HVM        Kim Cieszykowski  1348531200      1   \n",
              "3  #oc-R11O5J5ZVQE25C  B005HG9ET0           Penguin Chick  1346889600      5   \n",
              "4  #oc-R12KPBODL2B5ZD  B007OSBE1U   Christopher P. Presta  1348617600      1   \n",
              "\n",
              "                                                Text  COUNT(*)  \n",
              "0  Overall its just OK when considering the price...         2  \n",
              "1  My wife has recurring extreme muscle spasms, u...         3  \n",
              "2  This coffee is horrible and unfortunately not ...         2  \n",
              "3  This will be the bottle that you grab from the...         3  \n",
              "4  I didnt like this coffee. Instead of telling y...         2  "
            ]
          },
          "metadata": {
            "tags": []
          },
          "execution_count": 5
        }
      ]
    },
    {
      "cell_type": "code",
      "metadata": {
        "id": "OMKVKkH7iWNZ",
        "colab_type": "code",
        "outputId": "2aa2db6a-9a4c-43b8-f9e5-b5ed2a3a145d",
        "colab": {
          "base_uri": "https://localhost:8080/",
          "height": 77
        }
      },
      "source": [
        "display[display['UserId']=='AZY10LLTJ71NX']"
      ],
      "execution_count": 6,
      "outputs": [
        {
          "output_type": "execute_result",
          "data": {
            "text/html": [
              "<div>\n",
              "<style scoped>\n",
              "    .dataframe tbody tr th:only-of-type {\n",
              "        vertical-align: middle;\n",
              "    }\n",
              "\n",
              "    .dataframe tbody tr th {\n",
              "        vertical-align: top;\n",
              "    }\n",
              "\n",
              "    .dataframe thead th {\n",
              "        text-align: right;\n",
              "    }\n",
              "</style>\n",
              "<table border=\"1\" class=\"dataframe\">\n",
              "  <thead>\n",
              "    <tr style=\"text-align: right;\">\n",
              "      <th></th>\n",
              "      <th>UserId</th>\n",
              "      <th>ProductId</th>\n",
              "      <th>ProfileName</th>\n",
              "      <th>Time</th>\n",
              "      <th>Score</th>\n",
              "      <th>Text</th>\n",
              "      <th>COUNT(*)</th>\n",
              "    </tr>\n",
              "  </thead>\n",
              "  <tbody>\n",
              "    <tr>\n",
              "      <th>80638</th>\n",
              "      <td>AZY10LLTJ71NX</td>\n",
              "      <td>B006P7E5ZI</td>\n",
              "      <td>undertheshrine \"undertheshrine\"</td>\n",
              "      <td>1334707200</td>\n",
              "      <td>5</td>\n",
              "      <td>I was recommended to try green tea extract to ...</td>\n",
              "      <td>5</td>\n",
              "    </tr>\n",
              "  </tbody>\n",
              "</table>\n",
              "</div>"
            ],
            "text/plain": [
              "              UserId   ProductId                      ProfileName        Time  \\\n",
              "80638  AZY10LLTJ71NX  B006P7E5ZI  undertheshrine \"undertheshrine\"  1334707200   \n",
              "\n",
              "       Score                                               Text  COUNT(*)  \n",
              "80638      5  I was recommended to try green tea extract to ...         5  "
            ]
          },
          "metadata": {
            "tags": []
          },
          "execution_count": 6
        }
      ]
    },
    {
      "cell_type": "code",
      "metadata": {
        "id": "s37uqS_jiWNe",
        "colab_type": "code",
        "outputId": "8e385fce-ce2a-4676-912a-f4a29c229561",
        "colab": {
          "base_uri": "https://localhost:8080/",
          "height": 34
        }
      },
      "source": [
        "display['COUNT(*)'].sum()"
      ],
      "execution_count": 7,
      "outputs": [
        {
          "output_type": "execute_result",
          "data": {
            "text/plain": [
              "393063"
            ]
          },
          "metadata": {
            "tags": []
          },
          "execution_count": 7
        }
      ]
    },
    {
      "cell_type": "markdown",
      "metadata": {
        "id": "efnNNqNfiWNh",
        "colab_type": "text"
      },
      "source": [
        "#   Exploratory Data Analysis"
      ]
    },
    {
      "cell_type": "markdown",
      "metadata": {
        "id": "Eq0hnbxhiWNi",
        "colab_type": "text"
      },
      "source": [
        "##  Data Cleaning: Deduplication\n",
        "\n",
        "It is observed (as shown in the table below) that the reviews data had many duplicate entries. Hence it was necessary to remove duplicates in order to get unbiased results for the analysis of the data.  Following is an example:"
      ]
    },
    {
      "cell_type": "code",
      "metadata": {
        "scrolled": false,
        "id": "3CKLJ2FFiWNj",
        "colab_type": "code",
        "outputId": "1a5dfd16-ec1a-4795-f62f-7c4cd7c4dab6",
        "colab": {
          "base_uri": "https://localhost:8080/",
          "height": 281
        }
      },
      "source": [
        "display= pd.read_sql_query(\"\"\"\n",
        "SELECT *\n",
        "FROM Reviews\n",
        "WHERE Score != 3 AND UserId=\"AR5J8UI46CURR\"\n",
        "ORDER BY ProductID\n",
        "\"\"\", con)\n",
        "display.head()"
      ],
      "execution_count": 8,
      "outputs": [
        {
          "output_type": "execute_result",
          "data": {
            "text/html": [
              "<div>\n",
              "<style scoped>\n",
              "    .dataframe tbody tr th:only-of-type {\n",
              "        vertical-align: middle;\n",
              "    }\n",
              "\n",
              "    .dataframe tbody tr th {\n",
              "        vertical-align: top;\n",
              "    }\n",
              "\n",
              "    .dataframe thead th {\n",
              "        text-align: right;\n",
              "    }\n",
              "</style>\n",
              "<table border=\"1\" class=\"dataframe\">\n",
              "  <thead>\n",
              "    <tr style=\"text-align: right;\">\n",
              "      <th></th>\n",
              "      <th>Id</th>\n",
              "      <th>ProductId</th>\n",
              "      <th>UserId</th>\n",
              "      <th>ProfileName</th>\n",
              "      <th>HelpfulnessNumerator</th>\n",
              "      <th>HelpfulnessDenominator</th>\n",
              "      <th>Score</th>\n",
              "      <th>Time</th>\n",
              "      <th>Summary</th>\n",
              "      <th>Text</th>\n",
              "    </tr>\n",
              "  </thead>\n",
              "  <tbody>\n",
              "    <tr>\n",
              "      <th>0</th>\n",
              "      <td>78445</td>\n",
              "      <td>B000HDL1RQ</td>\n",
              "      <td>AR5J8UI46CURR</td>\n",
              "      <td>Geetha Krishnan</td>\n",
              "      <td>2</td>\n",
              "      <td>2</td>\n",
              "      <td>5</td>\n",
              "      <td>1199577600</td>\n",
              "      <td>LOACKER QUADRATINI VANILLA WAFERS</td>\n",
              "      <td>DELICIOUS WAFERS. I FIND THAT EUROPEAN WAFERS ...</td>\n",
              "    </tr>\n",
              "    <tr>\n",
              "      <th>1</th>\n",
              "      <td>138317</td>\n",
              "      <td>B000HDOPYC</td>\n",
              "      <td>AR5J8UI46CURR</td>\n",
              "      <td>Geetha Krishnan</td>\n",
              "      <td>2</td>\n",
              "      <td>2</td>\n",
              "      <td>5</td>\n",
              "      <td>1199577600</td>\n",
              "      <td>LOACKER QUADRATINI VANILLA WAFERS</td>\n",
              "      <td>DELICIOUS WAFERS. I FIND THAT EUROPEAN WAFERS ...</td>\n",
              "    </tr>\n",
              "    <tr>\n",
              "      <th>2</th>\n",
              "      <td>138277</td>\n",
              "      <td>B000HDOPYM</td>\n",
              "      <td>AR5J8UI46CURR</td>\n",
              "      <td>Geetha Krishnan</td>\n",
              "      <td>2</td>\n",
              "      <td>2</td>\n",
              "      <td>5</td>\n",
              "      <td>1199577600</td>\n",
              "      <td>LOACKER QUADRATINI VANILLA WAFERS</td>\n",
              "      <td>DELICIOUS WAFERS. I FIND THAT EUROPEAN WAFERS ...</td>\n",
              "    </tr>\n",
              "    <tr>\n",
              "      <th>3</th>\n",
              "      <td>73791</td>\n",
              "      <td>B000HDOPZG</td>\n",
              "      <td>AR5J8UI46CURR</td>\n",
              "      <td>Geetha Krishnan</td>\n",
              "      <td>2</td>\n",
              "      <td>2</td>\n",
              "      <td>5</td>\n",
              "      <td>1199577600</td>\n",
              "      <td>LOACKER QUADRATINI VANILLA WAFERS</td>\n",
              "      <td>DELICIOUS WAFERS. I FIND THAT EUROPEAN WAFERS ...</td>\n",
              "    </tr>\n",
              "    <tr>\n",
              "      <th>4</th>\n",
              "      <td>155049</td>\n",
              "      <td>B000PAQ75C</td>\n",
              "      <td>AR5J8UI46CURR</td>\n",
              "      <td>Geetha Krishnan</td>\n",
              "      <td>2</td>\n",
              "      <td>2</td>\n",
              "      <td>5</td>\n",
              "      <td>1199577600</td>\n",
              "      <td>LOACKER QUADRATINI VANILLA WAFERS</td>\n",
              "      <td>DELICIOUS WAFERS. I FIND THAT EUROPEAN WAFERS ...</td>\n",
              "    </tr>\n",
              "  </tbody>\n",
              "</table>\n",
              "</div>"
            ],
            "text/plain": [
              "       Id   ProductId         UserId      ProfileName  HelpfulnessNumerator  \\\n",
              "0   78445  B000HDL1RQ  AR5J8UI46CURR  Geetha Krishnan                     2   \n",
              "1  138317  B000HDOPYC  AR5J8UI46CURR  Geetha Krishnan                     2   \n",
              "2  138277  B000HDOPYM  AR5J8UI46CURR  Geetha Krishnan                     2   \n",
              "3   73791  B000HDOPZG  AR5J8UI46CURR  Geetha Krishnan                     2   \n",
              "4  155049  B000PAQ75C  AR5J8UI46CURR  Geetha Krishnan                     2   \n",
              "\n",
              "   HelpfulnessDenominator  Score        Time  \\\n",
              "0                       2      5  1199577600   \n",
              "1                       2      5  1199577600   \n",
              "2                       2      5  1199577600   \n",
              "3                       2      5  1199577600   \n",
              "4                       2      5  1199577600   \n",
              "\n",
              "                             Summary  \\\n",
              "0  LOACKER QUADRATINI VANILLA WAFERS   \n",
              "1  LOACKER QUADRATINI VANILLA WAFERS   \n",
              "2  LOACKER QUADRATINI VANILLA WAFERS   \n",
              "3  LOACKER QUADRATINI VANILLA WAFERS   \n",
              "4  LOACKER QUADRATINI VANILLA WAFERS   \n",
              "\n",
              "                                                Text  \n",
              "0  DELICIOUS WAFERS. I FIND THAT EUROPEAN WAFERS ...  \n",
              "1  DELICIOUS WAFERS. I FIND THAT EUROPEAN WAFERS ...  \n",
              "2  DELICIOUS WAFERS. I FIND THAT EUROPEAN WAFERS ...  \n",
              "3  DELICIOUS WAFERS. I FIND THAT EUROPEAN WAFERS ...  \n",
              "4  DELICIOUS WAFERS. I FIND THAT EUROPEAN WAFERS ...  "
            ]
          },
          "metadata": {
            "tags": []
          },
          "execution_count": 8
        }
      ]
    },
    {
      "cell_type": "markdown",
      "metadata": {
        "id": "GmHe67iviWNn",
        "colab_type": "text"
      },
      "source": [
        "As it can be seen above that same user has multiple reviews with same values for HelpfulnessNumerator, HelpfulnessDenominator, Score, Time, Summary and Text and on doing analysis it was found that <br>\n",
        "<br> \n",
        "ProductId=B000HDOPZG was Loacker Quadratini Vanilla Wafer Cookies, 8.82-Ounce Packages (Pack of 8)<br>\n",
        "<br> \n",
        "ProductId=B000HDL1RQ was Loacker Quadratini Lemon Wafer Cookies, 8.82-Ounce Packages (Pack of 8) and so on<br>\n",
        "\n",
        "It was inferred after analysis that reviews with same parameters other than ProductId belonged to the same product just having different flavour or quantity. Hence in order to reduce redundancy it was decided to eliminate the rows having same parameters.<br>\n",
        "\n",
        "The method used for the same was that we first sort the data according to ProductId and then just keep the first similar product review and delelte the others. for eg. in the above just the review for ProductId=B000HDL1RQ remains. This method ensures that there is only one representative for each product and deduplication without sorting would lead to possibility of different representatives still existing for the same product."
      ]
    },
    {
      "cell_type": "code",
      "metadata": {
        "id": "wgmdXIJviWNn",
        "colab_type": "code",
        "colab": {}
      },
      "source": [
        "#Sorting data according to ProductId in ascending order\n",
        "sorted_data=filtered_data.sort_values('ProductId', axis=0, ascending=True, inplace=False, kind='quicksort', na_position='last')"
      ],
      "execution_count": 0,
      "outputs": []
    },
    {
      "cell_type": "code",
      "metadata": {
        "id": "ComjQ0rHiWNp",
        "colab_type": "code",
        "outputId": "ac4b212e-eb31-4021-8ad3-c35a31f421ab",
        "colab": {
          "base_uri": "https://localhost:8080/",
          "height": 34
        }
      },
      "source": [
        "#Deduplication of entries\n",
        "final=sorted_data.drop_duplicates(subset={\"UserId\",\"ProfileName\",\"Time\",\"Text\"}, keep='first', inplace=False)\n",
        "final.shape"
      ],
      "execution_count": 10,
      "outputs": [
        {
          "output_type": "execute_result",
          "data": {
            "text/plain": [
              "(348262, 10)"
            ]
          },
          "metadata": {
            "tags": []
          },
          "execution_count": 10
        }
      ]
    },
    {
      "cell_type": "code",
      "metadata": {
        "id": "yFrWiU23iWNt",
        "colab_type": "code",
        "outputId": "2317b16e-c1bf-4e70-a1fa-e88651b41e64",
        "colab": {
          "base_uri": "https://localhost:8080/",
          "height": 34
        }
      },
      "source": [
        "#Checking to see how much % of data still remains\n",
        "(final['Id'].size*1.0)/(filtered_data['Id'].size*1.0)*100"
      ],
      "execution_count": 11,
      "outputs": [
        {
          "output_type": "execute_result",
          "data": {
            "text/plain": [
              "69.6524"
            ]
          },
          "metadata": {
            "tags": []
          },
          "execution_count": 11
        }
      ]
    },
    {
      "cell_type": "markdown",
      "metadata": {
        "id": "g4lvCHn6iWNw",
        "colab_type": "text"
      },
      "source": [
        "<b>Observation:-</b> It was also seen that in two rows given below the value of HelpfulnessNumerator is greater than HelpfulnessDenominator which is not practically possible hence these two rows too are removed from calcualtions"
      ]
    },
    {
      "cell_type": "code",
      "metadata": {
        "id": "6ehzwEdgiWNw",
        "colab_type": "code",
        "outputId": "d4cac5bb-9df4-49d5-d236-3e282c6371b8",
        "colab": {
          "base_uri": "https://localhost:8080/",
          "height": 141
        }
      },
      "source": [
        "display= pd.read_sql_query(\"\"\"\n",
        "SELECT *\n",
        "FROM Reviews\n",
        "WHERE Score != 3 AND Id=44737 OR Id=64422\n",
        "ORDER BY ProductID\n",
        "\"\"\", con)\n",
        "\n",
        "display.head()"
      ],
      "execution_count": 12,
      "outputs": [
        {
          "output_type": "execute_result",
          "data": {
            "text/html": [
              "<div>\n",
              "<style scoped>\n",
              "    .dataframe tbody tr th:only-of-type {\n",
              "        vertical-align: middle;\n",
              "    }\n",
              "\n",
              "    .dataframe tbody tr th {\n",
              "        vertical-align: top;\n",
              "    }\n",
              "\n",
              "    .dataframe thead th {\n",
              "        text-align: right;\n",
              "    }\n",
              "</style>\n",
              "<table border=\"1\" class=\"dataframe\">\n",
              "  <thead>\n",
              "    <tr style=\"text-align: right;\">\n",
              "      <th></th>\n",
              "      <th>Id</th>\n",
              "      <th>ProductId</th>\n",
              "      <th>UserId</th>\n",
              "      <th>ProfileName</th>\n",
              "      <th>HelpfulnessNumerator</th>\n",
              "      <th>HelpfulnessDenominator</th>\n",
              "      <th>Score</th>\n",
              "      <th>Time</th>\n",
              "      <th>Summary</th>\n",
              "      <th>Text</th>\n",
              "    </tr>\n",
              "  </thead>\n",
              "  <tbody>\n",
              "    <tr>\n",
              "      <th>0</th>\n",
              "      <td>64422</td>\n",
              "      <td>B000MIDROQ</td>\n",
              "      <td>A161DK06JJMCYF</td>\n",
              "      <td>J. E. Stephens \"Jeanne\"</td>\n",
              "      <td>3</td>\n",
              "      <td>1</td>\n",
              "      <td>5</td>\n",
              "      <td>1224892800</td>\n",
              "      <td>Bought This for My Son at College</td>\n",
              "      <td>My son loves spaghetti so I didn't hesitate or...</td>\n",
              "    </tr>\n",
              "    <tr>\n",
              "      <th>1</th>\n",
              "      <td>44737</td>\n",
              "      <td>B001EQ55RW</td>\n",
              "      <td>A2V0I904FH7ABY</td>\n",
              "      <td>Ram</td>\n",
              "      <td>3</td>\n",
              "      <td>2</td>\n",
              "      <td>4</td>\n",
              "      <td>1212883200</td>\n",
              "      <td>Pure cocoa taste with crunchy almonds inside</td>\n",
              "      <td>It was almost a 'love at first bite' - the per...</td>\n",
              "    </tr>\n",
              "  </tbody>\n",
              "</table>\n",
              "</div>"
            ],
            "text/plain": [
              "      Id   ProductId          UserId              ProfileName  \\\n",
              "0  64422  B000MIDROQ  A161DK06JJMCYF  J. E. Stephens \"Jeanne\"   \n",
              "1  44737  B001EQ55RW  A2V0I904FH7ABY                      Ram   \n",
              "\n",
              "   HelpfulnessNumerator  HelpfulnessDenominator  Score        Time  \\\n",
              "0                     3                       1      5  1224892800   \n",
              "1                     3                       2      4  1212883200   \n",
              "\n",
              "                                        Summary  \\\n",
              "0             Bought This for My Son at College   \n",
              "1  Pure cocoa taste with crunchy almonds inside   \n",
              "\n",
              "                                                Text  \n",
              "0  My son loves spaghetti so I didn't hesitate or...  \n",
              "1  It was almost a 'love at first bite' - the per...  "
            ]
          },
          "metadata": {
            "tags": []
          },
          "execution_count": 12
        }
      ]
    },
    {
      "cell_type": "code",
      "metadata": {
        "id": "EBa1d6gViWNz",
        "colab_type": "code",
        "colab": {}
      },
      "source": [
        "final=final[final.HelpfulnessNumerator<=final.HelpfulnessDenominator]"
      ],
      "execution_count": 0,
      "outputs": []
    },
    {
      "cell_type": "code",
      "metadata": {
        "id": "KNQ01asjiWN1",
        "colab_type": "code",
        "outputId": "2a0c41ad-6953-449c-a159-a6e43274a96d",
        "colab": {
          "base_uri": "https://localhost:8080/",
          "height": 87
        }
      },
      "source": [
        "#Before starting the next phase of preprocessing lets see the number of entries left\n",
        "print(final.shape)\n",
        "\n",
        "#How many positive and negative reviews are present in our dataset?\n",
        "final['Score'].value_counts()"
      ],
      "execution_count": 14,
      "outputs": [
        {
          "output_type": "stream",
          "text": [
            "(348260, 10)\n"
          ],
          "name": "stdout"
        },
        {
          "output_type": "execute_result",
          "data": {
            "text/plain": [
              "1    293516\n",
              "0     54744\n",
              "Name: Score, dtype: int64"
            ]
          },
          "metadata": {
            "tags": []
          },
          "execution_count": 14
        }
      ]
    },
    {
      "cell_type": "markdown",
      "metadata": {
        "id": "92IZ5ea0iWN4",
        "colab_type": "text"
      },
      "source": [
        "#   Preprocessing"
      ]
    },
    {
      "cell_type": "markdown",
      "metadata": {
        "id": "NTwQITJKiWN5",
        "colab_type": "text"
      },
      "source": [
        "##   Preprocessing Review Text\n",
        "\n",
        "Now that we have finished deduplication our data requires some preprocessing before we go on further with analysis and making the prediction model.\n",
        "\n",
        "Hence in the Preprocessing phase we do the following in the order below:-\n",
        "\n",
        "1. Begin by removing the html tags\n",
        "2. Remove any punctuations or limited set of special characters like , or . or # etc.\n",
        "3. Check if the word is made up of english letters and is not alpha-numeric\n",
        "4. Check to see if the length of the word is greater than 2 (as it was researched that there is no adjective in 2-letters)\n",
        "5. Convert the word to lowercase\n",
        "6. Remove Stopwords\n",
        "7. Finally Snowball Stemming the word (it was obsereved to be better than Porter Stemming)<br>\n",
        "\n",
        "After which we collect the words used to describe positive and negative reviews"
      ]
    },
    {
      "cell_type": "code",
      "metadata": {
        "id": "kTCxT5aWiWN5",
        "colab_type": "code",
        "outputId": "721eba3b-f617-4ecd-859e-e22a49db80cd",
        "colab": {
          "base_uri": "https://localhost:8080/",
          "height": 178
        }
      },
      "source": [
        "# printing some random reviews\n",
        "sent_0 = final['Text'].values[0]\n",
        "print(sent_0)\n",
        "print(\"=\"*50)\n",
        "\n",
        "sent_1000 = final['Text'].values[1000]\n",
        "print(sent_1000)\n",
        "print(\"=\"*50)\n",
        "\n",
        "sent_1500 = final['Text'].values[1500]\n",
        "print(sent_1500)\n",
        "print(\"=\"*50)\n",
        "\n",
        "sent_4900 = final['Text'].values[4900]\n",
        "print(sent_4900)\n",
        "print(\"=\"*50)"
      ],
      "execution_count": 15,
      "outputs": [
        {
          "output_type": "stream",
          "text": [
            "This book was purchased as a birthday gift for a 4 year old boy. He squealed with delight and hugged it when told it was his to keep and he did not have to return it to the library.\n",
            "==================================================\n",
            "I've purchased both the Espressione Espresso (classic) and the 100% Arabica.  My vote is definitely with the 100% Arabica.  The flavor has more bite and flavor (much more like European coffee than American).\n",
            "==================================================\n",
            "This is a great product. It is very healthy for all of our dogs, and it is the first food that they all love to eat. It helped my older dog lose weight and my 10 year old lab gain the weight he needed to be healthy.\n",
            "==================================================\n",
            "I find everything I need at Amazon so I always look there first. Chocolate tennis balls for a tennis party, perfect! They were the size of malted milk balls. Unfortunately, they arrived 3 days after the party. The caveat here is, not everything from Amazon may arrive at an impressive 2 or 3 days. This shipment took 8 days from the Candy/Cosmetic Depot back east to southern California.\n",
            "==================================================\n"
          ],
          "name": "stdout"
        }
      ]
    },
    {
      "cell_type": "code",
      "metadata": {
        "id": "iX3VndCPiWN8",
        "colab_type": "code",
        "outputId": "6b20d313-b356-4a70-8233-7749a8b828af",
        "colab": {
          "base_uri": "https://localhost:8080/",
          "height": 54
        }
      },
      "source": [
        "# remove urls from text python: https://stackoverflow.com/a/40823105/4084039\n",
        "sent_0 = re.sub(r\"http\\S+\", \"\", sent_0)\n",
        "sent_1000 = re.sub(r\"http\\S+\", \"\", sent_1000)\n",
        "sent_150 = re.sub(r\"http\\S+\", \"\", sent_1500)\n",
        "sent_4900 = re.sub(r\"http\\S+\", \"\", sent_4900)\n",
        "\n",
        "print(sent_0)"
      ],
      "execution_count": 16,
      "outputs": [
        {
          "output_type": "stream",
          "text": [
            "This book was purchased as a birthday gift for a 4 year old boy. He squealed with delight and hugged it when told it was his to keep and he did not have to return it to the library.\n"
          ],
          "name": "stdout"
        }
      ]
    },
    {
      "cell_type": "code",
      "metadata": {
        "id": "DyO7iqEriWN_",
        "colab_type": "code",
        "outputId": "97f151f0-484b-406d-da9a-7cd1669c8c0c",
        "colab": {
          "base_uri": "https://localhost:8080/",
          "height": 161
        }
      },
      "source": [
        "# https://stackoverflow.com/questions/16206380/python-beautifulsoup-how-to-remove-all-tags-from-an-element\n",
        "from bs4 import BeautifulSoup\n",
        "\n",
        "soup = BeautifulSoup(sent_0, 'lxml')\n",
        "text = soup.get_text()\n",
        "print(text)\n",
        "print(\"=\"*50)\n",
        "\n",
        "soup = BeautifulSoup(sent_1000, 'lxml')\n",
        "text = soup.get_text()\n",
        "print(text)\n",
        "print(\"=\"*50)\n",
        "\n",
        "soup = BeautifulSoup(sent_1500, 'lxml')\n",
        "text = soup.get_text()\n",
        "print(text)\n",
        "print(\"=\"*50)\n",
        "\n",
        "soup = BeautifulSoup(sent_4900, 'lxml')\n",
        "text = soup.get_text()\n",
        "print(text)"
      ],
      "execution_count": 17,
      "outputs": [
        {
          "output_type": "stream",
          "text": [
            "This book was purchased as a birthday gift for a 4 year old boy. He squealed with delight and hugged it when told it was his to keep and he did not have to return it to the library.\n",
            "==================================================\n",
            "I've purchased both the Espressione Espresso (classic) and the 100% Arabica.  My vote is definitely with the 100% Arabica.  The flavor has more bite and flavor (much more like European coffee than American).\n",
            "==================================================\n",
            "This is a great product. It is very healthy for all of our dogs, and it is the first food that they all love to eat. It helped my older dog lose weight and my 10 year old lab gain the weight he needed to be healthy.\n",
            "==================================================\n",
            "I find everything I need at Amazon so I always look there first. Chocolate tennis balls for a tennis party, perfect! They were the size of malted milk balls. Unfortunately, they arrived 3 days after the party. The caveat here is, not everything from Amazon may arrive at an impressive 2 or 3 days. This shipment took 8 days from the Candy/Cosmetic Depot back east to southern California.\n"
          ],
          "name": "stdout"
        }
      ]
    },
    {
      "cell_type": "code",
      "metadata": {
        "id": "qzIaKh8niWOC",
        "colab_type": "code",
        "colab": {}
      },
      "source": [
        "# https://stackoverflow.com/a/47091490/4084039\n",
        "import re\n",
        "\n",
        "def decontracted(phrase):\n",
        "    # specific\n",
        "    phrase = re.sub(r\"won't\", \"will not\", phrase)\n",
        "    phrase = re.sub(r\"can\\'t\", \"can not\", phrase)\n",
        "\n",
        "    # general\n",
        "    phrase = re.sub(r\"n\\'t\", \" not\", phrase)\n",
        "    phrase = re.sub(r\"\\'re\", \" are\", phrase)\n",
        "    phrase = re.sub(r\"\\'s\", \" is\", phrase)\n",
        "    phrase = re.sub(r\"\\'d\", \" would\", phrase)\n",
        "    phrase = re.sub(r\"\\'ll\", \" will\", phrase)\n",
        "    phrase = re.sub(r\"\\'t\", \" not\", phrase)\n",
        "    phrase = re.sub(r\"\\'ve\", \" have\", phrase)\n",
        "    phrase = re.sub(r\"\\'m\", \" am\", phrase)\n",
        "    return phrase"
      ],
      "execution_count": 0,
      "outputs": []
    },
    {
      "cell_type": "code",
      "metadata": {
        "id": "Esa29-JwiWOD",
        "colab_type": "code",
        "outputId": "f9117818-4e1c-4241-8b17-1de5302c2b7f",
        "colab": {
          "base_uri": "https://localhost:8080/",
          "height": 72
        }
      },
      "source": [
        "sent_1500 = decontracted(sent_1500)\n",
        "print(sent_1500)\n",
        "print(\"=\"*50)"
      ],
      "execution_count": 19,
      "outputs": [
        {
          "output_type": "stream",
          "text": [
            "This is a great product. It is very healthy for all of our dogs, and it is the first food that they all love to eat. It helped my older dog lose weight and my 10 year old lab gain the weight he needed to be healthy.\n",
            "==================================================\n"
          ],
          "name": "stdout"
        }
      ]
    },
    {
      "cell_type": "code",
      "metadata": {
        "id": "qf0c7-nXiWOG",
        "colab_type": "code",
        "outputId": "9a6346f5-046f-4290-8f2c-5a65442aad1a",
        "colab": {
          "base_uri": "https://localhost:8080/",
          "height": 54
        }
      },
      "source": [
        "#remove words with numbers python: https://stackoverflow.com/a/18082370/4084039\n",
        "sent_0 = re.sub(\"\\S*\\d\\S*\", \"\", sent_0).strip()\n",
        "print(sent_0)"
      ],
      "execution_count": 20,
      "outputs": [
        {
          "output_type": "stream",
          "text": [
            "This book was purchased as a birthday gift for a  year old boy. He squealed with delight and hugged it when told it was his to keep and he did not have to return it to the library.\n"
          ],
          "name": "stdout"
        }
      ]
    },
    {
      "cell_type": "code",
      "metadata": {
        "id": "1Z5VK6wxiWOI",
        "colab_type": "code",
        "outputId": "ba1a025a-638e-43dc-f9d9-b2360bac9455",
        "colab": {
          "base_uri": "https://localhost:8080/",
          "height": 54
        }
      },
      "source": [
        "#remove spacial character: https://stackoverflow.com/a/5843547/4084039\n",
        "sent_1500 = re.sub('[^A-Za-z0-9]+', ' ', sent_1500)\n",
        "print(sent_1500)"
      ],
      "execution_count": 21,
      "outputs": [
        {
          "output_type": "stream",
          "text": [
            "This is a great product It is very healthy for all of our dogs and it is the first food that they all love to eat It helped my older dog lose weight and my 10 year old lab gain the weight he needed to be healthy \n"
          ],
          "name": "stdout"
        }
      ]
    },
    {
      "cell_type": "code",
      "metadata": {
        "id": "MfzZtIP1iWOL",
        "colab_type": "code",
        "colab": {}
      },
      "source": [
        "# https://gist.github.com/sebleier/554280\n",
        "# we are removing the words from the stop words list: 'no', 'nor', 'not'\n",
        "# <br /><br /> ==> after the above steps, we are getting \"br br\"\n",
        "# we are including them into stop words list\n",
        "# instead of <br /> if we have <br/> these tags would have revmoved in the 1st step\n",
        "\n",
        "stopwords= set(['br', 'the', 'i', 'me', 'my', 'myself', 'we', 'our', 'ours', 'ourselves', 'you', \"you're\", \"you've\",\\\n",
        "            \"you'll\", \"you'd\", 'your', 'yours', 'yourself', 'yourselves', 'he', 'him', 'his', 'himself', \\\n",
        "            'she', \"she's\", 'her', 'hers', 'herself', 'it', \"it's\", 'its', 'itself', 'they', 'them', 'their',\\\n",
        "            'theirs', 'themselves', 'what', 'which', 'who', 'whom', 'this', 'that', \"that'll\", 'these', 'those', \\\n",
        "            'am', 'is', 'are', 'was', 'were', 'be', 'been', 'being', 'have', 'has', 'had', 'having', 'do', 'does', \\\n",
        "            'did', 'doing', 'a', 'an', 'the', 'and', 'but', 'if', 'or', 'because', 'as', 'until', 'while', 'of', \\\n",
        "            'at', 'by', 'for', 'with', 'about', 'against', 'between', 'into', 'through', 'during', 'before', 'after',\\\n",
        "            'above', 'below', 'to', 'from', 'up', 'down', 'in', 'out', 'on', 'off', 'over', 'under', 'again', 'further',\\\n",
        "            'then', 'once', 'here', 'there', 'when', 'where', 'why', 'how', 'all', 'any', 'both', 'each', 'few', 'more',\\\n",
        "            'most', 'other', 'some', 'such', 'only', 'own', 'same', 'so', 'than', 'too', 'very', \\\n",
        "            's', 't', 'can', 'will', 'just', 'don', \"don't\", 'should', \"should've\", 'now', 'd', 'll', 'm', 'o', 're', \\\n",
        "            've', 'y', 'ain', 'aren', \"aren't\", 'couldn', \"couldn't\", 'didn', \"didn't\", 'doesn', \"doesn't\", 'hadn',\\\n",
        "            \"hadn't\", 'hasn', \"hasn't\", 'haven', \"haven't\", 'isn', \"isn't\", 'ma', 'mightn', \"mightn't\", 'mustn',\\\n",
        "            \"mustn't\", 'needn', \"needn't\", 'shan', \"shan't\", 'shouldn', \"shouldn't\", 'wasn', \"wasn't\", 'weren', \"weren't\", \\\n",
        "            'won', \"won't\", 'wouldn', \"wouldn't\"])"
      ],
      "execution_count": 0,
      "outputs": []
    },
    {
      "cell_type": "code",
      "metadata": {
        "id": "g1C43tjNiWOM",
        "colab_type": "code",
        "outputId": "5bf607f3-bd53-4aea-e37e-0ce2a7642f8d",
        "colab": {
          "base_uri": "https://localhost:8080/",
          "height": 34
        }
      },
      "source": [
        "# Combining all the above stundents \n",
        "from tqdm import tqdm\n",
        "preprocessed_reviews = []\n",
        "# tqdm is for printing the status bar\n",
        "for sentance in tqdm(final['Text'].values):\n",
        "    sentance = re.sub(r\"http\\S+\", \"\", sentance)\n",
        "    sentance = BeautifulSoup(sentance, 'lxml').get_text()\n",
        "    sentance = decontracted(sentance)\n",
        "    sentance = re.sub(\"\\S*\\d\\S*\", \"\", sentance).strip()\n",
        "    sentance = re.sub('[^A-Za-z]+', ' ', sentance)\n",
        "    # https://gist.github.com/sebleier/554280\n",
        "    sentance = ' '.join(e.lower() for e in sentance.split() if e.lower() not in stopwords)\n",
        "    preprocessed_reviews.append(sentance.strip())"
      ],
      "execution_count": 23,
      "outputs": [
        {
          "output_type": "stream",
          "text": [
            "100%|██████████| 348260/348260 [02:49<00:00, 2050.62it/s]\n"
          ],
          "name": "stderr"
        }
      ]
    },
    {
      "cell_type": "code",
      "metadata": {
        "id": "MWDrCFxViWOP",
        "colab_type": "code",
        "outputId": "2124455d-2828-42f3-ec88-9d9500076d6b",
        "colab": {
          "base_uri": "https://localhost:8080/",
          "height": 34
        }
      },
      "source": [
        "preprocessed_reviews[1500]"
      ],
      "execution_count": 24,
      "outputs": [
        {
          "output_type": "execute_result",
          "data": {
            "text/plain": [
              "'great product healthy dogs first food love eat helped older dog lose weight year old lab gain weight needed healthy'"
            ]
          },
          "metadata": {
            "tags": []
          },
          "execution_count": 24
        }
      ]
    },
    {
      "cell_type": "markdown",
      "metadata": {
        "id": "fEu8sShciWOS",
        "colab_type": "text"
      },
      "source": [
        "**bold text**<h2><font color='red'> Preprocessing Review Summary</font></h2>"
      ]
    },
    {
      "cell_type": "code",
      "metadata": {
        "id": "XP1URIERiWOU",
        "colab_type": "code",
        "colab": {}
      },
      "source": [
        "## Similartly you can do preprocessing for review summary also."
      ],
      "execution_count": 0,
      "outputs": []
    },
    {
      "cell_type": "code",
      "metadata": {
        "id": "3UTpdwICilvi",
        "colab_type": "code",
        "colab": {}
      },
      "source": [
        "final[\"preprocessed_reviews\"] = preprocessed_reviews"
      ],
      "execution_count": 0,
      "outputs": []
    },
    {
      "cell_type": "code",
      "metadata": {
        "id": "gD-MBqrijVvl",
        "colab_type": "code",
        "outputId": "055810ec-5339-424a-f695-d797c51787aa",
        "colab": {
          "base_uri": "https://localhost:8080/",
          "height": 431
        }
      },
      "source": [
        "final.head()"
      ],
      "execution_count": 27,
      "outputs": [
        {
          "output_type": "execute_result",
          "data": {
            "text/html": [
              "<div>\n",
              "<style scoped>\n",
              "    .dataframe tbody tr th:only-of-type {\n",
              "        vertical-align: middle;\n",
              "    }\n",
              "\n",
              "    .dataframe tbody tr th {\n",
              "        vertical-align: top;\n",
              "    }\n",
              "\n",
              "    .dataframe thead th {\n",
              "        text-align: right;\n",
              "    }\n",
              "</style>\n",
              "<table border=\"1\" class=\"dataframe\">\n",
              "  <thead>\n",
              "    <tr style=\"text-align: right;\">\n",
              "      <th></th>\n",
              "      <th>Id</th>\n",
              "      <th>ProductId</th>\n",
              "      <th>UserId</th>\n",
              "      <th>ProfileName</th>\n",
              "      <th>HelpfulnessNumerator</th>\n",
              "      <th>HelpfulnessDenominator</th>\n",
              "      <th>Score</th>\n",
              "      <th>Time</th>\n",
              "      <th>Summary</th>\n",
              "      <th>Text</th>\n",
              "      <th>preprocessed_reviews</th>\n",
              "    </tr>\n",
              "  </thead>\n",
              "  <tbody>\n",
              "    <tr>\n",
              "      <th>138702</th>\n",
              "      <td>150520</td>\n",
              "      <td>0006641040</td>\n",
              "      <td>ADBFSA9KTQANE</td>\n",
              "      <td>James L. Hammock \"Pucks Buddy\"</td>\n",
              "      <td>0</td>\n",
              "      <td>0</td>\n",
              "      <td>1</td>\n",
              "      <td>1256688000</td>\n",
              "      <td>Great Gift</td>\n",
              "      <td>This book was purchased as a birthday gift for...</td>\n",
              "      <td>book purchased birthday gift year old boy sque...</td>\n",
              "    </tr>\n",
              "    <tr>\n",
              "      <th>138707</th>\n",
              "      <td>150525</td>\n",
              "      <td>0006641040</td>\n",
              "      <td>A2QID6VCFTY51R</td>\n",
              "      <td>Rick</td>\n",
              "      <td>1</td>\n",
              "      <td>2</td>\n",
              "      <td>1</td>\n",
              "      <td>1025481600</td>\n",
              "      <td>In December it will be, my snowman's anniversa...</td>\n",
              "      <td>My daughter loves all the \"Really Rosie\" books...</td>\n",
              "      <td>daughter loves really rosie books introduced r...</td>\n",
              "    </tr>\n",
              "    <tr>\n",
              "      <th>138708</th>\n",
              "      <td>150526</td>\n",
              "      <td>0006641040</td>\n",
              "      <td>A3E9QZFE9KXH8J</td>\n",
              "      <td>R. Mitchell</td>\n",
              "      <td>11</td>\n",
              "      <td>18</td>\n",
              "      <td>0</td>\n",
              "      <td>1129507200</td>\n",
              "      <td>awesome book poor size</td>\n",
              "      <td>This is one of the best children's books ever ...</td>\n",
              "      <td>one best children books ever written mini vers...</td>\n",
              "    </tr>\n",
              "    <tr>\n",
              "      <th>138692</th>\n",
              "      <td>150510</td>\n",
              "      <td>0006641040</td>\n",
              "      <td>AM1MNZMYMS7D8</td>\n",
              "      <td>Dr. Joshua  Grossman</td>\n",
              "      <td>0</td>\n",
              "      <td>0</td>\n",
              "      <td>1</td>\n",
              "      <td>1348358400</td>\n",
              "      <td>Professional Mentoring</td>\n",
              "      <td>TITLE: Chicken Soup with Rice&lt;br /&gt;AUTHOR: Mau...</td>\n",
              "      <td>title chicken soup riceauthor maurice sendakre...</td>\n",
              "    </tr>\n",
              "    <tr>\n",
              "      <th>138689</th>\n",
              "      <td>150507</td>\n",
              "      <td>0006641040</td>\n",
              "      <td>A1S4A3IQ2MU7V4</td>\n",
              "      <td>sally sue \"sally sue\"</td>\n",
              "      <td>1</td>\n",
              "      <td>1</td>\n",
              "      <td>1</td>\n",
              "      <td>1191456000</td>\n",
              "      <td>chicken soup with rice months</td>\n",
              "      <td>This is a fun way for children to learn their ...</td>\n",
              "      <td>fun way children learn months year learn poems...</td>\n",
              "    </tr>\n",
              "  </tbody>\n",
              "</table>\n",
              "</div>"
            ],
            "text/plain": [
              "            Id   ProductId          UserId                     ProfileName  \\\n",
              "138702  150520  0006641040   ADBFSA9KTQANE  James L. Hammock \"Pucks Buddy\"   \n",
              "138707  150525  0006641040  A2QID6VCFTY51R                            Rick   \n",
              "138708  150526  0006641040  A3E9QZFE9KXH8J                     R. Mitchell   \n",
              "138692  150510  0006641040   AM1MNZMYMS7D8            Dr. Joshua  Grossman   \n",
              "138689  150507  0006641040  A1S4A3IQ2MU7V4           sally sue \"sally sue\"   \n",
              "\n",
              "        HelpfulnessNumerator  HelpfulnessDenominator  Score        Time  \\\n",
              "138702                     0                       0      1  1256688000   \n",
              "138707                     1                       2      1  1025481600   \n",
              "138708                    11                      18      0  1129507200   \n",
              "138692                     0                       0      1  1348358400   \n",
              "138689                     1                       1      1  1191456000   \n",
              "\n",
              "                                                  Summary  \\\n",
              "138702                                         Great Gift   \n",
              "138707  In December it will be, my snowman's anniversa...   \n",
              "138708                             awesome book poor size   \n",
              "138692                             Professional Mentoring   \n",
              "138689                      chicken soup with rice months   \n",
              "\n",
              "                                                     Text  \\\n",
              "138702  This book was purchased as a birthday gift for...   \n",
              "138707  My daughter loves all the \"Really Rosie\" books...   \n",
              "138708  This is one of the best children's books ever ...   \n",
              "138692  TITLE: Chicken Soup with Rice<br />AUTHOR: Mau...   \n",
              "138689  This is a fun way for children to learn their ...   \n",
              "\n",
              "                                     preprocessed_reviews  \n",
              "138702  book purchased birthday gift year old boy sque...  \n",
              "138707  daughter loves really rosie books introduced r...  \n",
              "138708  one best children books ever written mini vers...  \n",
              "138692  title chicken soup riceauthor maurice sendakre...  \n",
              "138689  fun way children learn months year learn poems...  "
            ]
          },
          "metadata": {
            "tags": []
          },
          "execution_count": 27
        }
      ]
    },
    {
      "cell_type": "code",
      "metadata": {
        "id": "kFCcwc-CjYui",
        "colab_type": "code",
        "colab": {}
      },
      "source": [
        "final=final.drop([\"Id\",\"ProductId\",\"UserId\",\"ProfileName\",\"HelpfulnessNumerator\"],axis=1)"
      ],
      "execution_count": 0,
      "outputs": []
    },
    {
      "cell_type": "code",
      "metadata": {
        "id": "AlCXnaxVjYx6",
        "colab_type": "code",
        "colab": {}
      },
      "source": [
        "final_last=final.drop([\"HelpfulnessDenominator\",\"Time\",\"Summary\",\"Text\"],axis=1)"
      ],
      "execution_count": 0,
      "outputs": []
    },
    {
      "cell_type": "code",
      "metadata": {
        "id": "ELF_WblDjYs2",
        "colab_type": "code",
        "outputId": "6e44549b-bd69-49c5-bdd9-0a801519a880",
        "colab": {
          "base_uri": "https://localhost:8080/",
          "height": 34
        }
      },
      "source": [
        "final_last.shape"
      ],
      "execution_count": 30,
      "outputs": [
        {
          "output_type": "execute_result",
          "data": {
            "text/plain": [
              "(348260, 2)"
            ]
          },
          "metadata": {
            "tags": []
          },
          "execution_count": 30
        }
      ]
    },
    {
      "cell_type": "code",
      "metadata": {
        "id": "lfeyFKJkjmkS",
        "colab_type": "code",
        "outputId": "38d29e8f-532b-48fc-cbf9-32c06cc5a81f",
        "colab": {
          "base_uri": "https://localhost:8080/",
          "height": 197
        }
      },
      "source": [
        "final_last.head()"
      ],
      "execution_count": 31,
      "outputs": [
        {
          "output_type": "execute_result",
          "data": {
            "text/html": [
              "<div>\n",
              "<style scoped>\n",
              "    .dataframe tbody tr th:only-of-type {\n",
              "        vertical-align: middle;\n",
              "    }\n",
              "\n",
              "    .dataframe tbody tr th {\n",
              "        vertical-align: top;\n",
              "    }\n",
              "\n",
              "    .dataframe thead th {\n",
              "        text-align: right;\n",
              "    }\n",
              "</style>\n",
              "<table border=\"1\" class=\"dataframe\">\n",
              "  <thead>\n",
              "    <tr style=\"text-align: right;\">\n",
              "      <th></th>\n",
              "      <th>Score</th>\n",
              "      <th>preprocessed_reviews</th>\n",
              "    </tr>\n",
              "  </thead>\n",
              "  <tbody>\n",
              "    <tr>\n",
              "      <th>138702</th>\n",
              "      <td>1</td>\n",
              "      <td>book purchased birthday gift year old boy sque...</td>\n",
              "    </tr>\n",
              "    <tr>\n",
              "      <th>138707</th>\n",
              "      <td>1</td>\n",
              "      <td>daughter loves really rosie books introduced r...</td>\n",
              "    </tr>\n",
              "    <tr>\n",
              "      <th>138708</th>\n",
              "      <td>0</td>\n",
              "      <td>one best children books ever written mini vers...</td>\n",
              "    </tr>\n",
              "    <tr>\n",
              "      <th>138692</th>\n",
              "      <td>1</td>\n",
              "      <td>title chicken soup riceauthor maurice sendakre...</td>\n",
              "    </tr>\n",
              "    <tr>\n",
              "      <th>138689</th>\n",
              "      <td>1</td>\n",
              "      <td>fun way children learn months year learn poems...</td>\n",
              "    </tr>\n",
              "  </tbody>\n",
              "</table>\n",
              "</div>"
            ],
            "text/plain": [
              "        Score                               preprocessed_reviews\n",
              "138702      1  book purchased birthday gift year old boy sque...\n",
              "138707      1  daughter loves really rosie books introduced r...\n",
              "138708      0  one best children books ever written mini vers...\n",
              "138692      1  title chicken soup riceauthor maurice sendakre...\n",
              "138689      1  fun way children learn months year learn poems..."
            ]
          },
          "metadata": {
            "tags": []
          },
          "execution_count": 31
        }
      ]
    },
    {
      "cell_type": "code",
      "metadata": {
        "id": "jLlxMTSHjotq",
        "colab_type": "code",
        "colab": {}
      },
      "source": [
        "X = final_last[\"preprocessed_reviews\"]\n",
        "\n",
        "Y = final_last[\"Score\"]"
      ],
      "execution_count": 0,
      "outputs": []
    },
    {
      "cell_type": "code",
      "metadata": {
        "id": "wj7G0y3ekGp-",
        "colab_type": "code",
        "colab": {}
      },
      "source": [
        "from sklearn.model_selection import train_test_split\n",
        "\n",
        "x_train ,x_test ,y_train ,y_test = train_test_split(X[:100000], Y[:100000] , test_size = 0.33)"
      ],
      "execution_count": 0,
      "outputs": []
    },
    {
      "cell_type": "markdown",
      "metadata": {
        "id": "p2lyiwJ_iWOW",
        "colab_type": "text"
      },
      "source": [
        "#  Featurization"
      ]
    },
    {
      "cell_type": "markdown",
      "metadata": {
        "id": "T_LFck8iiWOX",
        "colab_type": "text"
      },
      "source": [
        "##  BAG OF WORDS"
      ]
    },
    {
      "cell_type": "markdown",
      "metadata": {
        "id": "mjfrB76yiWOa",
        "colab_type": "text"
      },
      "source": [
        "##  Bi-Grams and n-Grams."
      ]
    },
    {
      "cell_type": "code",
      "metadata": {
        "id": "mzOdOY6MiWOb",
        "colab_type": "code",
        "outputId": "f7f153d8-6096-428f-f824-57252c90e2c6",
        "colab": {
          "base_uri": "https://localhost:8080/",
          "height": 105
        }
      },
      "source": [
        "#bi-gram, tri-gram and n-gram\n",
        "\n",
        "#removing stop words like \"not\" should be avoided before building n-grams\n",
        "# count_vect = CountVectorizer(ngram_range=(1,2))\n",
        "# please do read the CountVectorizer documentation http://scikit-learn.org/stable/modules/generated/sklearn.feature_extraction.text.CountVectorizer.html\n",
        "\n",
        "# you can choose these numebrs min_df=10, max_features=5000, of your choice\n",
        "count_vect_bow = CountVectorizer(ngram_range=(1,2), min_df=10, max_features=500)\n",
        "x_train_bigram_counts = count_vect_bow.fit_transform(x_train)\n",
        "x_test_bigram_counts = count_vect_bow.transform(x_test)\n",
        "\n",
        "print(\"After Vectorizations\")\n",
        "print(\"the type of count vectorizer \",type(x_train_bigram_counts))\n",
        "print(\"the shape of out train text BOW vectorizer \",x_train_bigram_counts.get_shape())\n",
        "print(\"the shape of test text BOW vectorizer \",x_test_bigram_counts.get_shape())\n",
        "print(\"the number of unique words including both unigrams and bigrams \", x_train_bigram_counts.get_shape()[1])"
      ],
      "execution_count": 34,
      "outputs": [
        {
          "output_type": "stream",
          "text": [
            "After Vectorizations\n",
            "the type of count vectorizer  <class 'scipy.sparse.csr.csr_matrix'>\n",
            "the shape of out train text BOW vectorizer  (67000, 500)\n",
            "the shape of test text BOW vectorizer  (33000, 500)\n",
            "the number of unique words including both unigrams and bigrams  500\n"
          ],
          "name": "stdout"
        }
      ]
    },
    {
      "cell_type": "markdown",
      "metadata": {
        "id": "0tcbbZxSiWOd",
        "colab_type": "text"
      },
      "source": [
        "##  TF-IDF"
      ]
    },
    {
      "cell_type": "code",
      "metadata": {
        "id": "mQ3EDEsoiWOd",
        "colab_type": "code",
        "outputId": "9c5fdf69-06df-41ed-c5fa-242afe577837",
        "colab": {
          "base_uri": "https://localhost:8080/",
          "height": 123
        }
      },
      "source": [
        "tf_idf_vect = TfidfVectorizer(ngram_range=(1,2), min_df=10 ,max_features = 500)\n",
        "tf_idf_vect.fit(x_train)\n",
        "print(\"some sample features(unique words in the corpus)\",tf_idf_vect.get_feature_names()[0:10])\n",
        "print('='*50)\n",
        "\n",
        "x_train_tf_idf = tf_idf_vect.transform(x_train)\n",
        "x_test_tf_idf = tf_idf_vect.transform(x_test)\n",
        "print(\"the type of count vectorizer \",type(x_train_tf_idf))\n",
        "print(\"the shape of train text TFIDF vectorizer \",x_train_tf_idf.get_shape())\n",
        "print(\"the shape of test text TFIDF vectorizer \",x_test_tf_idf.get_shape())\n",
        "print(\"the number of unique words including both unigrams and bigrams \", x_train_tf_idf.get_shape()[1])"
      ],
      "execution_count": 35,
      "outputs": [
        {
          "output_type": "stream",
          "text": [
            "some sample features(unique words in the corpus) ['able', 'absolutely', 'actually', 'add', 'added', 'adding', 'ago', 'almost', 'along', 'already']\n",
            "==================================================\n",
            "the type of count vectorizer  <class 'scipy.sparse.csr.csr_matrix'>\n",
            "the shape of train text TFIDF vectorizer  (67000, 500)\n",
            "the shape of test text TFIDF vectorizer  (33000, 500)\n",
            "the number of unique words including both unigrams and bigrams  500\n"
          ],
          "name": "stdout"
        }
      ]
    },
    {
      "cell_type": "markdown",
      "metadata": {
        "id": "u566lt93iWOf",
        "colab_type": "text"
      },
      "source": [
        "## Word2Vec"
      ]
    },
    {
      "cell_type": "code",
      "metadata": {
        "id": "pxlbMwFjiWOg",
        "colab_type": "code",
        "colab": {}
      },
      "source": [
        "# Train your own Word2Vec model using your own text corpus\n",
        "i=0\n",
        "list_of_sentance_train=[]\n",
        "for sentance in x_train:\n",
        "    list_of_sentance_train.append(sentance.split())"
      ],
      "execution_count": 0,
      "outputs": []
    },
    {
      "cell_type": "code",
      "metadata": {
        "scrolled": true,
        "id": "NOd5wp0yiWOh",
        "colab_type": "code",
        "outputId": "2058bf31-9ff0-4b9d-876d-5bb0d65a3475",
        "colab": {
          "base_uri": "https://localhost:8080/",
          "height": 90
        }
      },
      "source": [
        "# min_count = 5 considers only words that occured atleast 5 times\n",
        "w2v_model_train=Word2Vec(list_of_sentance_train,min_count=5,size=50, workers=4)\n",
        "print(w2v_model_train.wv.most_similar('great'))\n",
        "print('='*50)\n",
        "print(w2v_model_train.wv.most_similar('worst'))\n",
        "    \n"
      ],
      "execution_count": 37,
      "outputs": [
        {
          "output_type": "stream",
          "text": [
            "[('awesome', 0.8298999071121216), ('good', 0.8171604871749878), ('excellent', 0.7942163348197937), ('terrific', 0.7936343550682068), ('wonderful', 0.7664851546287537), ('fantastic', 0.7612395882606506), ('perfect', 0.7389047145843506), ('amazing', 0.7173386812210083), ('fabulous', 0.6828592419624329), ('incredible', 0.6561442613601685)]\n",
            "==================================================\n",
            "[('greatest', 0.7095730900764465), ('best', 0.6895657181739807), ('disgusting', 0.6789153218269348), ('tastiest', 0.6349587440490723), ('horrible', 0.6183328032493591), ('horrendous', 0.606512188911438), ('terrible', 0.6028648018836975), ('awful', 0.5985082387924194), ('superior', 0.5898560285568237), ('hardly', 0.581601083278656)]\n"
          ],
          "name": "stdout"
        }
      ]
    },
    {
      "cell_type": "code",
      "metadata": {
        "id": "teE01Qk2iWOj",
        "colab_type": "code",
        "outputId": "6bbfecae-771a-4285-e5c8-7d2040c45702",
        "colab": {
          "base_uri": "https://localhost:8080/",
          "height": 72
        }
      },
      "source": [
        "w2v_words_train = list(w2v_model_train.wv.vocab)\n",
        "print(\"number of words that occured minimum 5 times \",len(w2v_words_train))\n",
        "print(\"sample words \", w2v_words_train[0:50])"
      ],
      "execution_count": 38,
      "outputs": [
        {
          "output_type": "stream",
          "text": [
            "number of words that occured minimum 5 times  15654\n",
            "sample words  ['thought', 'liked', 'amores', 'tried', 'making', 'cookies', 'not', 'already', 'need', 'good', 'cat', 'finicky', 'food', 'buy', 'cats', 'love', 'flavor', 'smell', 'strong', 'flavors', 'bought', 'pursuit', 'snack', 'used', 'eat', 'kid', 'version', 'softer', 'chewy', 'crunch', 'thin', 'wafers', 'bars', 'come', 'pack', 'make', 'great', 'sweet', 'keep', 'desk', 'work', 'blow', 'away', 'high', 'protein', 'bar', 'ever', 'seem', 'triple', 'chocolate']\n"
          ],
          "name": "stdout"
        }
      ]
    },
    {
      "cell_type": "markdown",
      "metadata": {
        "id": "Du1a8SEQUTxP",
        "colab_type": "text"
      },
      "source": [
        "## Converting text into vectors using Avg W2V, TFIDF-W2V"
      ]
    },
    {
      "cell_type": "markdown",
      "metadata": {
        "id": "d6UTgH0KUGAo",
        "colab_type": "text"
      },
      "source": [
        "#### AvgW2v"
      ]
    },
    {
      "cell_type": "code",
      "metadata": {
        "id": "eOxH5cs1oyA0",
        "colab_type": "code",
        "outputId": "c2016a7d-3d4e-4af7-e027-4c79213e1b93",
        "colab": {
          "base_uri": "https://localhost:8080/",
          "height": 212
        }
      },
      "source": [
        "# average Word2Vec\n",
        "# compute average word2vec for each review.\n",
        "sent_vectors_train = []; # the avg-w2v for each sentence/review is stored in this list\n",
        "for sent in tqdm(list_of_sentance_train): # for each review/sentence\n",
        "    sent_vec_train = np.zeros(50) # as word vectors are of zero length 50, you might need to change this to 300 if you use google's w2v\n",
        "    cnt_words_train =0; # num of words with a valid vector in the sentence/review\n",
        "    for word in sent: # for each word in a review/sentence\n",
        "        if word in w2v_words_train:\n",
        "            vec_train = w2v_model_train.wv[word]\n",
        "            sent_vec_train += vec_train\n",
        "            cnt_words_train += 1\n",
        "    if cnt_words_train != 0:\n",
        "        sent_vec_train /= cnt_words_train\n",
        "    sent_vectors_train.append(sent_vec_train)\n",
        "sent_vectors_train = np.array(sent_vectors_train)\n",
        "print(sent_vectors_train.shape)\n",
        "print(sent_vectors_train[0])"
      ],
      "execution_count": 39,
      "outputs": [
        {
          "output_type": "stream",
          "text": [
            "100%|██████████| 67000/67000 [03:11<00:00, 349.18it/s]\n"
          ],
          "name": "stderr"
        },
        {
          "output_type": "stream",
          "text": [
            "(67000, 50)\n",
            "[ 0.68338668 -0.64809188 -0.71934894  0.85556263  0.45447071  0.33933826\n",
            "  0.42607585  1.52111836 -0.29678214  0.09952858  0.76288937 -0.2200529\n",
            "  1.03222367  0.07183887  0.16192704  0.46628616 -0.37557994 -0.02802077\n",
            "  0.29443052 -0.67997476 -0.00573987 -0.09723745  0.84970532 -0.07458133\n",
            " -1.14695202  0.08388405  0.54558082 -0.65029211 -0.86368239 -0.92517009\n",
            "  0.76889975 -0.25391652  0.52998031  0.59743091  0.09418826  0.16528792\n",
            " -0.25372547  0.38420737 -0.58160433 -0.72654268  0.82880647  0.79711994\n",
            " -0.28752706 -0.09070311  1.33998367 -0.85216512  0.46490406  0.29460196\n",
            "  0.20631094 -0.27818141]\n"
          ],
          "name": "stdout"
        }
      ]
    },
    {
      "cell_type": "code",
      "metadata": {
        "id": "GAQef5_FoJvQ",
        "colab_type": "code",
        "colab": {}
      },
      "source": [
        "i=0\n",
        "list_of_sentance_test = []\n",
        "for sentence in x_test :\n",
        "    list_of_sentance_test.append(sentence.split())"
      ],
      "execution_count": 0,
      "outputs": []
    },
    {
      "cell_type": "code",
      "metadata": {
        "id": "tTTEaAsZogM2",
        "colab_type": "code",
        "outputId": "401713aa-9deb-4511-d95b-00463ef8befc",
        "colab": {
          "base_uri": "https://localhost:8080/",
          "height": 212
        }
      },
      "source": [
        "# average Word2Vec\n",
        "# compute average word2vec for each review.\n",
        "sent_vectors_test = []; # the avg-w2v for each sentence/review is stored in this list\n",
        "for sent in tqdm(list_of_sentance_test): # for each review/sentence\n",
        "    sent_vec = np.zeros(50) # as word vectors are of zero length 50, you might need to change this to 300 if you use google's w2v\n",
        "    cnt_words =0; # num of words with a valid vector in the sentence/review\n",
        "    for word in sent: # for each word in a review/sentence\n",
        "        if word in w2v_words_train:\n",
        "            vec = w2v_model_train.wv[word]\n",
        "            sent_vec += vec\n",
        "            cnt_words += 1\n",
        "    if cnt_words != 0:\n",
        "        sent_vec /= cnt_words\n",
        "    sent_vectors_test.append(sent_vec)\n",
        "sent_vectors_test = np.array(sent_vectors_test)\n",
        "print(sent_vectors_test.shape)\n",
        "print(sent_vectors_test[0])"
      ],
      "execution_count": 41,
      "outputs": [
        {
          "output_type": "stream",
          "text": [
            "100%|██████████| 33000/33000 [01:36<00:00, 342.28it/s]\n"
          ],
          "name": "stderr"
        },
        {
          "output_type": "stream",
          "text": [
            "(33000, 50)\n",
            "[-0.01228935 -0.08884279  0.44618465  0.23441225  0.85894812 -0.03242163\n",
            "  0.10078154  0.56593319  0.35202216 -0.14244288  0.13778867 -0.2044428\n",
            "  0.02871544  0.49972984  0.59235612  0.07986177  0.53473331  0.69123344\n",
            " -0.33556191 -0.05841582 -0.53484622  0.73106033  0.54785509 -0.12863425\n",
            " -0.61726304 -0.40378759  0.03555747 -0.47400472  0.31506716  0.33158647\n",
            "  0.30215985  0.14128149  0.51969989  0.23563131  0.728272    0.51403791\n",
            "  0.09772793  0.76362588  0.19305349 -0.13973491 -0.01574552  0.44535988\n",
            "  0.84364849  0.76846578  0.15316447 -0.51247836  0.03456368  0.127988\n",
            "  0.05738388 -0.48480754]\n"
          ],
          "name": "stdout"
        }
      ]
    },
    {
      "cell_type": "markdown",
      "metadata": {
        "id": "ylTn3LgiiWOo",
        "colab_type": "text"
      },
      "source": [
        "#### TFIDF weighted W2v"
      ]
    },
    {
      "cell_type": "code",
      "metadata": {
        "id": "XBxf_qKSiWOo",
        "colab_type": "code",
        "colab": {}
      },
      "source": [
        "# S = [\"abc def pqr\", \"def def def abc\", \"pqr pqr def\"]\n",
        "model = TfidfVectorizer()\n",
        "tf_idf_matrix_train = model.fit_transform(x_train)\n",
        "tf_idf_matrix_test = model.transform(x_test)\n",
        "# we are converting a dictionary with word as a key, and the idf as a value\n",
        "dictionary = dict(zip(model.get_feature_names(), list(model.idf_)))"
      ],
      "execution_count": 0,
      "outputs": []
    },
    {
      "cell_type": "code",
      "metadata": {
        "scrolled": true,
        "id": "5FHQMSyUiWOp",
        "colab_type": "code",
        "outputId": "9a2ab96b-96be-4d00-d936-da0922008965",
        "colab": {
          "base_uri": "https://localhost:8080/",
          "height": 34
        }
      },
      "source": [
        "# TF-IDF weighted Word2Vec\n",
        "tfidf_feat = model.get_feature_names() # tfidf words/col-names\n",
        "# final_tf_idf is the sparse matrix with row= sentence, col=word and cell_val = tfidf\n",
        "\n",
        "w2v_tfidf_sent_vectors_train = []; # the tfidf-w2v for each sentence/review is stored in this list\n",
        "row=0;\n",
        "for sent in tqdm(list_of_sentance_train): # for each review/sentence \n",
        "    sent_vec = np.zeros(50) # as word vectors are of zero length\n",
        "    weight_sum =0; # num of words with a valid vector in the sentence/review\n",
        "    for word in sent: # for each word in a review/sentence\n",
        "        if word in w2v_words_train and word in tfidf_feat:\n",
        "            vec = w2v_model_train.wv[word]\n",
        "#             tf_idf = tf_idf_matrix[row, tfidf_feat.index(word)]\n",
        "            # to reduce the computation we are \n",
        "            # dictionary[word] = idf value of word in whole courpus\n",
        "            # sent.count(word) = tf valeus of word in this review\n",
        "            tf_idf = dictionary[word]*(sent.count(word)/len(sent))\n",
        "            sent_vec += (vec * tf_idf)\n",
        "            weight_sum += tf_idf\n",
        "    if weight_sum != 0:\n",
        "        sent_vec /= weight_sum\n",
        "    w2v_tfidf_sent_vectors_train.append(sent_vec)\n",
        "    row += 1"
      ],
      "execution_count": 43,
      "outputs": [
        {
          "output_type": "stream",
          "text": [
            "100%|██████████| 67000/67000 [29:41<00:00, 26.61it/s]\n"
          ],
          "name": "stderr"
        }
      ]
    },
    {
      "cell_type": "code",
      "metadata": {
        "id": "QZb-T84UuGEh",
        "colab_type": "code",
        "outputId": "1f4fec7f-e5d7-4eac-8d5b-b64bbdd034a3",
        "colab": {
          "base_uri": "https://localhost:8080/",
          "height": 34
        }
      },
      "source": [
        "#test data\n",
        "\n",
        "w2v_tfidf_sent_vectors_test = []; # the tfidf-w2v for each sentence/review is stored in this list\n",
        "row=0;\n",
        "for sent in tqdm(list_of_sentance_test): # for each review/sentence \n",
        "    sent_vec = np.zeros(50) # as word vectors are of zero length\n",
        "    weight_sum =0; # num of words with a valid vector in the sentence/review\n",
        "    for word in sent: # for each word in a review/sentence\n",
        "        if word in w2v_words_train and word in tfidf_feat:\n",
        "            vec = w2v_model_train.wv[word]\n",
        "#             tf_idf = tf_idf_matrix[row, tfidf_feat.index(word)]\n",
        "            # to reduce the computation we are \n",
        "            # dictionary[word] = idf value of word in whole courpus\n",
        "            # sent.count(word) = tf valeus of word in this review\n",
        "            tf_idf = dictionary[word]*(sent.count(word)/len(sent))\n",
        "            sent_vec += (vec * tf_idf)\n",
        "            weight_sum += tf_idf\n",
        "    if weight_sum != 0:\n",
        "        sent_vec /= weight_sum\n",
        "    w2v_tfidf_sent_vectors_test.append(sent_vec)\n",
        "    row += 1"
      ],
      "execution_count": 44,
      "outputs": [
        {
          "output_type": "stream",
          "text": [
            "100%|██████████| 33000/33000 [23:13<00:00, 23.69it/s]\n"
          ],
          "name": "stderr"
        }
      ]
    },
    {
      "cell_type": "code",
      "metadata": {
        "id": "uH34X2t9Dfb8",
        "colab_type": "code",
        "colab": {}
      },
      "source": [
        "from sklearn.model_selection import GridSearchCV\n",
        "from sklearn.metrics import roc_auc_score"
      ],
      "execution_count": 0,
      "outputs": []
    },
    {
      "cell_type": "markdown",
      "metadata": {
        "id": "ayLYlocviWOs",
        "colab_type": "text"
      },
      "source": [
        "# Applying Decision Trees"
      ]
    },
    {
      "cell_type": "markdown",
      "metadata": {
        "id": "fvKQwJMWiWOt",
        "colab_type": "text"
      },
      "source": [
        "##  Applying Decision Trees on BOW,<font color='red'> SET 1</font>"
      ]
    },
    {
      "cell_type": "code",
      "metadata": {
        "id": "vnSi4W-iiWOt",
        "colab_type": "code",
        "outputId": "49837b17-1645-40fe-a5aa-6924c6317360",
        "colab": {
          "base_uri": "https://localhost:8080/",
          "height": 212
        }
      },
      "source": [
        "# Please write all the code with proper documentation\n",
        "\n",
        "from sklearn.tree import DecisionTreeClassifier\n",
        "\n",
        "\n",
        "dt_model_bow=DecisionTreeClassifier(class_weight='balanced')\n",
        "parameters={'max_depth':[5, 10, 50,75, 100, 500],\n",
        "           'min_samples_split':[5, 10, 20,50,100, 500]}\n",
        "clf_bow=GridSearchCV(dt_model_bow,parameters,cv=10,scoring='roc_auc',n_jobs=-1)\n",
        "clf_bow.fit(x_train_bigram_counts, y_train)"
      ],
      "execution_count": 46,
      "outputs": [
        {
          "output_type": "execute_result",
          "data": {
            "text/plain": [
              "GridSearchCV(cv=10, error_score='raise-deprecating',\n",
              "       estimator=DecisionTreeClassifier(class_weight='balanced', criterion='gini',\n",
              "            max_depth=None, max_features=None, max_leaf_nodes=None,\n",
              "            min_impurity_decrease=0.0, min_impurity_split=None,\n",
              "            min_samples_leaf=1, min_samples_split=2,\n",
              "            min_weight_fraction_leaf=0.0, presort=False, random_state=None,\n",
              "            splitter='best'),\n",
              "       fit_params=None, iid='warn', n_jobs=-1,\n",
              "       param_grid={'max_depth': [5, 10, 50, 75, 100, 500], 'min_samples_split': [5, 10, 20, 50, 100, 500]},\n",
              "       pre_dispatch='2*n_jobs', refit=True, return_train_score='warn',\n",
              "       scoring='roc_auc', verbose=0)"
            ]
          },
          "metadata": {
            "tags": []
          },
          "execution_count": 46
        }
      ]
    },
    {
      "cell_type": "code",
      "metadata": {
        "id": "GaWTIUvBR9Hx",
        "colab_type": "code",
        "colab": {}
      },
      "source": [
        "#we get best result at max_depth =50 and min_samples_split = 500"
      ],
      "execution_count": 0,
      "outputs": []
    },
    {
      "cell_type": "code",
      "metadata": {
        "id": "UNwBovNA8tc9",
        "colab_type": "code",
        "outputId": "152f2669-c1b2-4401-b613-09e95c8506f1",
        "colab": {
          "base_uri": "https://localhost:8080/",
          "height": 123
        }
      },
      "source": [
        "print(\"best estimator is :\",clf_bow.best_estimator_)"
      ],
      "execution_count": 47,
      "outputs": [
        {
          "output_type": "stream",
          "text": [
            "best estimator is : DecisionTreeClassifier(class_weight='balanced', criterion='gini',\n",
            "            max_depth=50, max_features=None, max_leaf_nodes=None,\n",
            "            min_impurity_decrease=0.0, min_impurity_split=None,\n",
            "            min_samples_leaf=1, min_samples_split=500,\n",
            "            min_weight_fraction_leaf=0.0, presort=False, random_state=None,\n",
            "            splitter='best')\n"
          ],
          "name": "stdout"
        }
      ]
    },
    {
      "cell_type": "code",
      "metadata": {
        "id": "EPKpT0ibPHeJ",
        "colab_type": "code",
        "colab": {
          "base_uri": "https://localhost:8080/",
          "height": 458
        },
        "outputId": "76c4955d-d0d1-4976-f90f-adac8b841b55"
      },
      "source": [
        "max_depth=[5, 10, 50,75, 100, 500]\n",
        "min_samples_split=[5, 10, 20,50,100, 500]\n",
        "\n",
        "train_auc_bow = clf_bow.cv_results_[\"mean_train_score\"].reshape(len(max_depth) ,len(min_samples_split))\n",
        "cv_auc_bow = clf_bow.cv_results_[\"mean_test_score\"].reshape(len(max_depth) ,len(min_samples_split))\n",
        "\n",
        "plt.figure(figsize = (7,7))\n",
        "sns.heatmap(train_auc_bow ,annot = True, fmt = \".3f\" ,xticklabels = max_depth ,yticklabels = min_samples_split)\n",
        "plt.xlabel(\"max_depth\")\n",
        "plt.ylabel(\"min_samples_split\")\n",
        "\n",
        "plt.xticks(np.arange(len(max_depth)),max_depth)\n",
        "plt.yticks(np.arange(len(min_samples_split)),min_samples_split)\n",
        "\n",
        "plt.title(\"Train AUC\")\n",
        "\n",
        "plt.show()\n"
      ],
      "execution_count": 53,
      "outputs": [
        {
          "output_type": "display_data",
          "data": {
            "image/png": "[encoded data removed]",
            "text/plain": [
              "<Figure size 504x504 with 2 Axes>"
            ]
          },
          "metadata": {
            "tags": []
          }
        }
      ]
    },
    {
      "cell_type": "code",
      "metadata": {
        "id": "7vgzvBvhU3OY",
        "colab_type": "code",
        "colab": {
          "base_uri": "https://localhost:8080/",
          "height": 295
        },
        "outputId": "c0a7a447-3004-4837-ba66-0c6d1d550469"
      },
      "source": [
        "#Heatmap of CV AUC\n",
        "\n",
        "\n",
        "sns.heatmap(cv_auc_bow ,annot = True , fmt = \".3f\" ,xticklabels = max_depth ,yticklabels = min_samples_split)\n",
        "plt.xlabel(\"max_depth\")\n",
        "plt.ylabel(\"min_samples_split\")\n",
        "\n",
        "plt.xticks(np.arange(len(max_depth)),max_depth)\n",
        "plt.yticks(np.arange(len(min_samples_split)))\n",
        "\n",
        "plt.title(\"CV AUC\")\n",
        "plt.show()"
      ],
      "execution_count": 56,
      "outputs": [
        {
          "output_type": "display_data",
          "data": {
            "image/png": "[encoded data removed]",
            "text/plain": [
              "<Figure size 432x288 with 2 Axes>"
            ]
          },
          "metadata": {
            "tags": []
          }
        }
      ]
    },
    {
      "cell_type": "code",
      "metadata": {
        "id": "ahKnuGM9Wbt4",
        "colab_type": "code",
        "outputId": "4071a77e-a7da-48e3-9e22-be8fb1ccdfc7",
        "colab": {
          "base_uri": "https://localhost:8080/",
          "height": 418
        }
      },
      "source": [
        "#Testing with test data\n",
        "\n",
        "dt_bow = DecisionTreeClassifier(class_weight='balanced' ,min_samples_split=500 , max_depth=50)\n",
        "dt_bow.fit(x_train_bigram_counts, y_train)\n",
        "\n",
        "\n",
        "train_fpr_bow, train_tpr_bow, thresholds_bow = roc_curve(y_train, dt_bow.predict_proba(x_train_bigram_counts)[:,1])\n",
        "test_fpr_bow, test_tpr_bow, thresholds_bow = roc_curve(y_test, dt_bow.predict_proba(x_test_bigram_counts)[:,1])\n",
        "\n",
        "plt.plot(train_fpr_bow, train_tpr_bow, label=\"train AUC =\"+str(auc(train_fpr_bow, train_tpr_bow)))\n",
        "plt.plot(test_fpr_bow, test_tpr_bow, label=\"test AUC =\"+str(auc(test_fpr_bow, test_tpr_bow)))\n",
        "plt.legend()\n",
        "plt.xlabel(\"FPR\")\n",
        "plt.ylabel(\"TPR\")\n",
        "plt.title(\"ERROR PLOTS\")\n",
        "plt.show()\n",
        "\n",
        "print(\"=\"*100)\n",
        "\n",
        "from sklearn.metrics import confusion_matrix\n",
        "print(\"Train confusion matrix\")\n",
        "print(confusion_matrix(y_train, dt_bow.predict(x_train_bigram_counts)))\n",
        "print(\"Test confusion matrix\")\n",
        "print(confusion_matrix(y_test, dt_bow.predict(x_test_bigram_counts)))"
      ],
      "execution_count": 57,
      "outputs": [
        {
          "output_type": "display_data",
          "data": {
            "image/png": "[encoded data removed]",
            "text/plain": [
              "<Figure size 432x288 with 1 Axes>"
            ]
          },
          "metadata": {
            "tags": []
          }
        },
        {
          "output_type": "stream",
          "text": [
            "====================================================================================================\n",
            "Train confusion matrix\n",
            "[[ 8255  1673]\n",
            " [13823 43249]]\n",
            "Test confusion matrix\n",
            "[[ 3671  1177]\n",
            " [ 7290 20862]]\n"
          ],
          "name": "stdout"
        }
      ]
    },
    {
      "cell_type": "code",
      "metadata": {
        "id": "j-oKFOL-XpQn",
        "colab_type": "code",
        "outputId": "2d4aa017-0372-407b-9234-2953558ab864",
        "colab": {
          "base_uri": "https://localhost:8080/",
          "height": 330
        }
      },
      "source": [
        "print(\"Heatmap of train confusion matrix\")\n",
        "import seaborn as sns\n",
        "confusion_matrix_train_bow = confusion_matrix(y_train, dt_bow.predict(x_train_bigram_counts))\n",
        "\n",
        "df_cm=pd.DataFrame(confusion_matrix_train_bow,index=[\"Negative:0\",\"Positive:1\"],columns=[\"Negative\",\"Positive\"],)\n",
        "sns.heatmap(df_cm,annot=True,fmt='d')\n",
        "plt.title(\"Confusion Matrix\")\n",
        "plt.xlabel(\"Predicted Class\")\n",
        "plt.ylabel(\"Actual Class\")"
      ],
      "execution_count": 58,
      "outputs": [
        {
          "output_type": "stream",
          "text": [
            "Heatmap of train confusion matrix\n"
          ],
          "name": "stdout"
        },
        {
          "output_type": "execute_result",
          "data": {
            "text/plain": [
              "Text(33.0, 0.5, 'Actual Class')"
            ]
          },
          "metadata": {
            "tags": []
          },
          "execution_count": 58
        },
        {
          "output_type": "display_data",
          "data": {
            "image/png": "[encoded data removed]",
            "text/plain": [
              "<Figure size 432x288 with 2 Axes>"
            ]
          },
          "metadata": {
            "tags": []
          }
        }
      ]
    },
    {
      "cell_type": "code",
      "metadata": {
        "id": "wbQl-W7QX-c2",
        "colab_type": "code",
        "outputId": "7e223456-c55b-4e9a-d870-120b501e912d",
        "colab": {
          "base_uri": "https://localhost:8080/",
          "height": 330
        }
      },
      "source": [
        "print(\"Heatmap of test confusion matrix\")\n",
        "import seaborn as sns\n",
        "confusion_matrix_test_bow = confusion_matrix(y_test, dt_bow.predict(x_test_bigram_counts))\n",
        "\n",
        "df_cm=pd.DataFrame(confusion_matrix_test_bow,index=[\"Negative:0\",\"Positive:1\"],columns=[\"Negative\",\"Positive\"],)\n",
        "sns.heatmap(df_cm,annot=True,fmt='d')\n",
        "plt.title(\"Confusion Matrix\")\n",
        "plt.xlabel(\"Predicted Class\")\n",
        "plt.ylabel(\"Actual Class\")"
      ],
      "execution_count": 59,
      "outputs": [
        {
          "output_type": "stream",
          "text": [
            "Heatmap of test confusion matrix\n"
          ],
          "name": "stdout"
        },
        {
          "output_type": "execute_result",
          "data": {
            "text/plain": [
              "Text(33.0, 0.5, 'Actual Class')"
            ]
          },
          "metadata": {
            "tags": []
          },
          "execution_count": 59
        },
        {
          "output_type": "display_data",
          "data": {
            "image/png": "[encoded data removed]",
            "text/plain": [
              "<Figure size 432x288 with 2 Axes>"
            ]
          },
          "metadata": {
            "tags": []
          }
        }
      ]
    },
    {
      "cell_type": "markdown",
      "metadata": {
        "id": "jm4vkPwMiWOu",
        "colab_type": "text"
      },
      "source": [
        "###  Top 20 important features from<font color='red'> SET 1</font>"
      ]
    },
    {
      "cell_type": "code",
      "metadata": {
        "id": "FiybAg0UcOT3",
        "colab_type": "code",
        "colab": {}
      },
      "source": [
        "\n",
        "\n",
        "coefficients = pd.DataFrame({\"Feature\":count_vect_bow.get_feature_names(),\"Coefficients\":np.transpose(dt_bow.feature_importances_)})\n",
        "\n",
        "coefficients=coefficients.sort_values('Coefficients',ascending=False)"
      ],
      "execution_count": 0,
      "outputs": []
    },
    {
      "cell_type": "code",
      "metadata": {
        "id": "Xv7AVXNggCbM",
        "colab_type": "code",
        "outputId": "3baa434d-d0a0-4b89-96b9-e4012cd9d697",
        "colab": {
          "base_uri": "https://localhost:8080/",
          "height": 647
        }
      },
      "source": [
        "coefficients.head(20)"
      ],
      "execution_count": 61,
      "outputs": [
        {
          "output_type": "execute_result",
          "data": {
            "text/html": [
              "<div>\n",
              "<style scoped>\n",
              "    .dataframe tbody tr th:only-of-type {\n",
              "        vertical-align: middle;\n",
              "    }\n",
              "\n",
              "    .dataframe tbody tr th {\n",
              "        vertical-align: top;\n",
              "    }\n",
              "\n",
              "    .dataframe thead th {\n",
              "        text-align: right;\n",
              "    }\n",
              "</style>\n",
              "<table border=\"1\" class=\"dataframe\">\n",
              "  <thead>\n",
              "    <tr style=\"text-align: right;\">\n",
              "      <th></th>\n",
              "      <th>Feature</th>\n",
              "      <th>Coefficients</th>\n",
              "    </tr>\n",
              "  </thead>\n",
              "  <tbody>\n",
              "    <tr>\n",
              "      <th>294</th>\n",
              "      <td>not</td>\n",
              "      <td>0.164241</td>\n",
              "    </tr>\n",
              "    <tr>\n",
              "      <th>192</th>\n",
              "      <td>great</td>\n",
              "      <td>0.111382</td>\n",
              "    </tr>\n",
              "    <tr>\n",
              "      <th>36</th>\n",
              "      <td>best</td>\n",
              "      <td>0.067996</td>\n",
              "    </tr>\n",
              "    <tr>\n",
              "      <th>111</th>\n",
              "      <td>delicious</td>\n",
              "      <td>0.045198</td>\n",
              "    </tr>\n",
              "    <tr>\n",
              "      <th>256</th>\n",
              "      <td>love</td>\n",
              "      <td>0.042680</td>\n",
              "    </tr>\n",
              "    <tr>\n",
              "      <th>115</th>\n",
              "      <td>disappointed</td>\n",
              "      <td>0.035431</td>\n",
              "    </tr>\n",
              "    <tr>\n",
              "      <th>258</th>\n",
              "      <td>loves</td>\n",
              "      <td>0.028742</td>\n",
              "    </tr>\n",
              "    <tr>\n",
              "      <th>190</th>\n",
              "      <td>good</td>\n",
              "      <td>0.027495</td>\n",
              "    </tr>\n",
              "    <tr>\n",
              "      <th>331</th>\n",
              "      <td>perfect</td>\n",
              "      <td>0.020620</td>\n",
              "    </tr>\n",
              "    <tr>\n",
              "      <th>487</th>\n",
              "      <td>wonderful</td>\n",
              "      <td>0.018812</td>\n",
              "    </tr>\n",
              "    <tr>\n",
              "      <th>27</th>\n",
              "      <td>bad</td>\n",
              "      <td>0.017834</td>\n",
              "    </tr>\n",
              "    <tr>\n",
              "      <th>153</th>\n",
              "      <td>favorite</td>\n",
              "      <td>0.016176</td>\n",
              "    </tr>\n",
              "    <tr>\n",
              "      <th>276</th>\n",
              "      <td>money</td>\n",
              "      <td>0.014911</td>\n",
              "    </tr>\n",
              "    <tr>\n",
              "      <th>142</th>\n",
              "      <td>excellent</td>\n",
              "      <td>0.013926</td>\n",
              "    </tr>\n",
              "    <tr>\n",
              "      <th>450</th>\n",
              "      <td>thought</td>\n",
              "      <td>0.013077</td>\n",
              "    </tr>\n",
              "    <tr>\n",
              "      <th>491</th>\n",
              "      <td>would</td>\n",
              "      <td>0.010817</td>\n",
              "    </tr>\n",
              "    <tr>\n",
              "      <th>124</th>\n",
              "      <td>easy</td>\n",
              "      <td>0.009138</td>\n",
              "    </tr>\n",
              "    <tr>\n",
              "      <th>423</th>\n",
              "      <td>stores</td>\n",
              "      <td>0.008116</td>\n",
              "    </tr>\n",
              "    <tr>\n",
              "      <th>371</th>\n",
              "      <td>reviews</td>\n",
              "      <td>0.008000</td>\n",
              "    </tr>\n",
              "    <tr>\n",
              "      <th>157</th>\n",
              "      <td>find</td>\n",
              "      <td>0.007799</td>\n",
              "    </tr>\n",
              "  </tbody>\n",
              "</table>\n",
              "</div>"
            ],
            "text/plain": [
              "          Feature  Coefficients\n",
              "294           not      0.164241\n",
              "192         great      0.111382\n",
              "36           best      0.067996\n",
              "111     delicious      0.045198\n",
              "256          love      0.042680\n",
              "115  disappointed      0.035431\n",
              "258         loves      0.028742\n",
              "190          good      0.027495\n",
              "331       perfect      0.020620\n",
              "487     wonderful      0.018812\n",
              "27            bad      0.017834\n",
              "153      favorite      0.016176\n",
              "276         money      0.014911\n",
              "142     excellent      0.013926\n",
              "450       thought      0.013077\n",
              "491         would      0.010817\n",
              "124          easy      0.009138\n",
              "423        stores      0.008116\n",
              "371       reviews      0.008000\n",
              "157          find      0.007799"
            ]
          },
          "metadata": {
            "tags": []
          },
          "execution_count": 61
        }
      ]
    },
    {
      "cell_type": "markdown",
      "metadata": {
        "id": "7JyitDTTiWOx",
        "colab_type": "text"
      },
      "source": [
        "###  Graphviz visualization of Decision Tree on BOW,<font color='red'> SET 1</font>"
      ]
    },
    {
      "cell_type": "code",
      "metadata": {
        "id": "-jxU7zrAiWOy",
        "colab_type": "code",
        "outputId": "60ea2f9d-47e9-4480-fa22-98c8b0873fc1",
        "colab": {
          "base_uri": "https://localhost:8080/",
          "height": 538
        }
      },
      "source": [
        "# Please write all the code with proper documentation\n",
        "\n",
        "from graphviz import Source\n",
        "from sklearn import tree\n",
        "\n",
        "dt_bow_1 = DecisionTreeClassifier(class_weight='balanced' ,min_samples_split=500 , max_depth=3)\n",
        "dt_bow_1.fit(x_train_bigram_counts, y_train)\n",
        "Source( tree.export_graphviz(dt_bow_1, out_file=None,filled=True,rounded=True ,feature_names = coefficients[\"Feature\"]))"
      ],
      "execution_count": 63,
      "outputs": [
        {
          "output_type": "execute_result",
          "data": {
            "text/plain": [
              "<graphviz.files.Source at 0x7f8c21ab1588>"
            ],
            "image/svg+xml": "<?xml version=\"1.0\" encoding=\"UTF-8\" standalone=\"no\"?>\n<!DOCTYPE svg PUBLIC \"-//W3C//DTD SVG 1.1//EN\"\n \"http://www.w3.org/Graphics/SVG/1.1/DTD/svg11.dtd\">\n<!-- Generated by graphviz version 2.40.1 (20161225.0304)\n -->\n<!-- Title: Tree Pages: 1 -->\n<svg width=\"1724pt\" height=\"373pt\"\n viewBox=\"0.00 0.00 1723.50 373.00\" xmlns=\"http://www.w3.org/2000/svg\" xmlns:xlink=\"http://www.w3.org/1999/xlink\">\n<g id=\"graph0\" class=\"graph\" transform=\"scale(1 1) rotate(0) translate(4 369)\">\n<title>Tree</title>\n<polygon fill=\"#ffffff\" stroke=\"transparent\" points=\"-4,4 -4,-369 1719.5,-369 1719.5,4 -4,4\"/>\n<!-- 0 -->\n<g id=\"node1\" class=\"node\">\n<title>0</title>\n<path fill=\"transparent\" stroke=\"#000000\" d=\"M924.5,-365C924.5,-365 759.5,-365 759.5,-365 753.5,-365 747.5,-359 747.5,-353 747.5,-353 747.5,-309 747.5,-309 747.5,-303 753.5,-297 759.5,-297 759.5,-297 924.5,-297 924.5,-297 930.5,-297 936.5,-303 936.5,-309 936.5,-309 936.5,-353 936.5,-353 936.5,-359 930.5,-365 924.5,-365\"/>\n<text text-anchor=\"middle\" x=\"842\" y=\"-349.8\" font-family=\"Helvetica,sans-Serif\" font-size=\"14.00\" fill=\"#000000\">not &lt;= 0.5</text>\n<text text-anchor=\"middle\" x=\"842\" y=\"-334.8\" font-family=\"Helvetica,sans-Serif\" font-size=\"14.00\" fill=\"#000000\">gini = 0.5</text>\n<text text-anchor=\"middle\" x=\"842\" y=\"-319.8\" font-family=\"Helvetica,sans-Serif\" font-size=\"14.00\" fill=\"#000000\">samples = 67000</text>\n<text text-anchor=\"middle\" x=\"842\" y=\"-304.8\" font-family=\"Helvetica,sans-Serif\" font-size=\"14.00\" fill=\"#000000\">value = [33500.0, 33500.0]</text>\n</g>\n<!-- 1 -->\n<g id=\"node2\" class=\"node\">\n<title>1</title>\n<path fill=\"#399de5\" fill-opacity=\"0.466667\" stroke=\"#000000\" d=\"M728,-261C728,-261 538,-261 538,-261 532,-261 526,-255 526,-249 526,-249 526,-205 526,-205 526,-199 532,-193 538,-193 538,-193 728,-193 728,-193 734,-193 740,-199 740,-205 740,-205 740,-249 740,-249 740,-255 734,-261 728,-261\"/>\n<text text-anchor=\"middle\" x=\"633\" y=\"-245.8\" font-family=\"Helvetica,sans-Serif\" font-size=\"14.00\" fill=\"#000000\">great &lt;= 0.5</text>\n<text text-anchor=\"middle\" x=\"633\" y=\"-230.8\" font-family=\"Helvetica,sans-Serif\" font-size=\"14.00\" fill=\"#000000\">gini = 0.453</text>\n<text text-anchor=\"middle\" x=\"633\" y=\"-215.8\" font-family=\"Helvetica,sans-Serif\" font-size=\"14.00\" fill=\"#000000\">samples = 32254</text>\n<text text-anchor=\"middle\" x=\"633\" y=\"-200.8\" font-family=\"Helvetica,sans-Serif\" font-size=\"14.00\" fill=\"#000000\">value = [9221.948, 17328.173]</text>\n</g>\n<!-- 0&#45;&gt;1 -->\n<g id=\"edge1\" class=\"edge\">\n<title>0&#45;&gt;1</title>\n<path fill=\"none\" stroke=\"#000000\" d=\"M773.5656,-296.9465C753.4472,-286.9354 731.296,-275.9129 710.6457,-265.6371\"/>\n<polygon fill=\"#000000\" stroke=\"#000000\" points=\"712.1003,-262.4516 701.5882,-261.13 708.9817,-268.7185 712.1003,-262.4516\"/>\n<text text-anchor=\"middle\" x=\"709.5393\" y=\"-281.1319\" font-family=\"Helvetica,sans-Serif\" font-size=\"14.00\" fill=\"#000000\">True</text>\n</g>\n<!-- 8 -->\n<g id=\"node9\" class=\"node\">\n<title>8</title>\n<path fill=\"#e58139\" fill-opacity=\"0.333333\" stroke=\"#000000\" d=\"M1166,-261C1166,-261 968,-261 968,-261 962,-261 956,-255 956,-249 956,-249 956,-205 956,-205 956,-199 962,-193 968,-193 968,-193 1166,-193 1166,-193 1172,-193 1178,-199 1178,-205 1178,-205 1178,-249 1178,-249 1178,-255 1172,-261 1166,-261\"/>\n<text text-anchor=\"middle\" x=\"1067\" y=\"-245.8\" font-family=\"Helvetica,sans-Serif\" font-size=\"14.00\" fill=\"#000000\">great &lt;= 0.5</text>\n<text text-anchor=\"middle\" x=\"1067\" y=\"-230.8\" font-family=\"Helvetica,sans-Serif\" font-size=\"14.00\" fill=\"#000000\">gini = 0.48</text>\n<text text-anchor=\"middle\" x=\"1067\" y=\"-215.8\" font-family=\"Helvetica,sans-Serif\" font-size=\"14.00\" fill=\"#000000\">samples = 34746</text>\n<text text-anchor=\"middle\" x=\"1067\" y=\"-200.8\" font-family=\"Helvetica,sans-Serif\" font-size=\"14.00\" fill=\"#000000\">value = [24278.052, 16171.827]</text>\n</g>\n<!-- 0&#45;&gt;8 -->\n<g id=\"edge8\" class=\"edge\">\n<title>0&#45;&gt;8</title>\n<path fill=\"none\" stroke=\"#000000\" d=\"M915.6734,-296.9465C937.5262,-286.8457 961.6068,-275.7151 984.0078,-265.3608\"/>\n<polygon fill=\"#000000\" stroke=\"#000000\" points=\"985.5523,-268.5028 993.1611,-261.13 982.6153,-262.1487 985.5523,-268.5028\"/>\n<text text-anchor=\"middle\" x=\"984.5317\" y=\"-280.8934\" font-family=\"Helvetica,sans-Serif\" font-size=\"14.00\" fill=\"#000000\">False</text>\n</g>\n<!-- 2 -->\n<g id=\"node3\" class=\"node\">\n<title>2</title>\n<path fill=\"#399de5\" fill-opacity=\"0.329412\" stroke=\"#000000\" d=\"M417.5,-157C417.5,-157 244.5,-157 244.5,-157 238.5,-157 232.5,-151 232.5,-145 232.5,-145 232.5,-101 232.5,-101 232.5,-95 238.5,-89 244.5,-89 244.5,-89 417.5,-89 417.5,-89 423.5,-89 429.5,-95 429.5,-101 429.5,-101 429.5,-145 429.5,-145 429.5,-151 423.5,-157 417.5,-157\"/>\n<text text-anchor=\"middle\" x=\"331\" y=\"-141.8\" font-family=\"Helvetica,sans-Serif\" font-size=\"14.00\" fill=\"#000000\">best &lt;= 0.5</text>\n<text text-anchor=\"middle\" x=\"331\" y=\"-126.8\" font-family=\"Helvetica,sans-Serif\" font-size=\"14.00\" fill=\"#000000\">gini = 0.48</text>\n<text text-anchor=\"middle\" x=\"331\" y=\"-111.8\" font-family=\"Helvetica,sans-Serif\" font-size=\"14.00\" fill=\"#000000\">samples = 24110</text>\n<text text-anchor=\"middle\" x=\"331\" y=\"-96.8\" font-family=\"Helvetica,sans-Serif\" font-size=\"14.00\" fill=\"#000000\">value = [8493.1, 12674.613]</text>\n</g>\n<!-- 1&#45;&gt;2 -->\n<g id=\"edge2\" class=\"edge\">\n<title>1&#45;&gt;2</title>\n<path fill=\"none\" stroke=\"#000000\" d=\"M534.1139,-192.9465C503.7142,-182.4777 470.1024,-170.9028 439.1175,-160.2325\"/>\n<polygon fill=\"#000000\" stroke=\"#000000\" points=\"440.1869,-156.8991 429.5922,-156.9523 437.9077,-163.5177 440.1869,-156.8991\"/>\n</g>\n<!-- 5 -->\n<g id=\"node6\" class=\"node\">\n<title>5</title>\n<path fill=\"#399de5\" fill-opacity=\"0.843137\" stroke=\"#000000\" d=\"M715.5,-157C715.5,-157 550.5,-157 550.5,-157 544.5,-157 538.5,-151 538.5,-145 538.5,-145 538.5,-101 538.5,-101 538.5,-95 544.5,-89 550.5,-89 550.5,-89 715.5,-89 715.5,-89 721.5,-89 727.5,-95 727.5,-101 727.5,-101 727.5,-145 727.5,-145 727.5,-151 721.5,-157 715.5,-157\"/>\n<text text-anchor=\"middle\" x=\"633\" y=\"-141.8\" font-family=\"Helvetica,sans-Serif\" font-size=\"14.00\" fill=\"#000000\">however &lt;= 0.5</text>\n<text text-anchor=\"middle\" x=\"633\" y=\"-126.8\" font-family=\"Helvetica,sans-Serif\" font-size=\"14.00\" fill=\"#000000\">gini = 0.234</text>\n<text text-anchor=\"middle\" x=\"633\" y=\"-111.8\" font-family=\"Helvetica,sans-Serif\" font-size=\"14.00\" fill=\"#000000\">samples = 8144</text>\n<text text-anchor=\"middle\" x=\"633\" y=\"-96.8\" font-family=\"Helvetica,sans-Serif\" font-size=\"14.00\" fill=\"#000000\">value = [728.848, 4653.56]</text>\n</g>\n<!-- 1&#45;&gt;5 -->\n<g id=\"edge5\" class=\"edge\">\n<title>1&#45;&gt;5</title>\n<path fill=\"none\" stroke=\"#000000\" d=\"M633,-192.9465C633,-184.776 633,-175.9318 633,-167.3697\"/>\n<polygon fill=\"#000000\" stroke=\"#000000\" points=\"636.5001,-167.13 633,-157.13 629.5001,-167.13 636.5001,-167.13\"/>\n</g>\n<!-- 3 -->\n<g id=\"node4\" class=\"node\">\n<title>3</title>\n<path fill=\"#399de5\" fill-opacity=\"0.239216\" stroke=\"#000000\" d=\"M202,-53C202,-53 12,-53 12,-53 6,-53 0,-47 0,-41 0,-41 0,-12 0,-12 0,-6 6,0 12,0 12,0 202,0 202,0 208,0 214,-6 214,-12 214,-12 214,-41 214,-41 214,-47 208,-53 202,-53\"/>\n<text text-anchor=\"middle\" x=\"107\" y=\"-37.8\" font-family=\"Helvetica,sans-Serif\" font-size=\"14.00\" fill=\"#000000\">gini = 0.491</text>\n<text text-anchor=\"middle\" x=\"107\" y=\"-22.8\" font-family=\"Helvetica,sans-Serif\" font-size=\"14.00\" fill=\"#000000\">samples = 20898</text>\n<text text-anchor=\"middle\" x=\"107\" y=\"-7.8\" font-family=\"Helvetica,sans-Serif\" font-size=\"14.00\" fill=\"#000000\">value = [8260.274, 10829.741]</text>\n</g>\n<!-- 2&#45;&gt;3 -->\n<g id=\"edge3\" class=\"edge\">\n<title>2&#45;&gt;3</title>\n<path fill=\"none\" stroke=\"#000000\" d=\"M252.026,-88.9777C227.896,-78.5824 201.5199,-67.2195 177.9566,-57.0684\"/>\n<polygon fill=\"#000000\" stroke=\"#000000\" points=\"179.3024,-53.8372 168.7335,-53.095 176.5328,-60.266 179.3024,-53.8372\"/>\n</g>\n<!-- 4 -->\n<g id=\"node5\" class=\"node\">\n<title>4</title>\n<path fill=\"#399de5\" fill-opacity=\"0.874510\" stroke=\"#000000\" d=\"M417.5,-53C417.5,-53 244.5,-53 244.5,-53 238.5,-53 232.5,-47 232.5,-41 232.5,-41 232.5,-12 232.5,-12 232.5,-6 238.5,0 244.5,0 244.5,0 417.5,0 417.5,0 423.5,0 429.5,-6 429.5,-12 429.5,-12 429.5,-41 429.5,-41 429.5,-47 423.5,-53 417.5,-53\"/>\n<text text-anchor=\"middle\" x=\"331\" y=\"-37.8\" font-family=\"Helvetica,sans-Serif\" font-size=\"14.00\" fill=\"#000000\">gini = 0.199</text>\n<text text-anchor=\"middle\" x=\"331\" y=\"-22.8\" font-family=\"Helvetica,sans-Serif\" font-size=\"14.00\" fill=\"#000000\">samples = 3212</text>\n<text text-anchor=\"middle\" x=\"331\" y=\"-7.8\" font-family=\"Helvetica,sans-Serif\" font-size=\"14.00\" fill=\"#000000\">value = [232.826, 1844.871]</text>\n</g>\n<!-- 2&#45;&gt;4 -->\n<g id=\"edge4\" class=\"edge\">\n<title>2&#45;&gt;4</title>\n<path fill=\"none\" stroke=\"#000000\" d=\"M331,-88.9777C331,-80.7364 331,-71.887 331,-63.5153\"/>\n<polygon fill=\"#000000\" stroke=\"#000000\" points=\"334.5001,-63.2484 331,-53.2485 327.5001,-63.2485 334.5001,-63.2484\"/>\n</g>\n<!-- 6 -->\n<g id=\"node7\" class=\"node\">\n<title>6</title>\n<path fill=\"#399de5\" fill-opacity=\"0.862745\" stroke=\"#000000\" d=\"M624.5,-53C624.5,-53 459.5,-53 459.5,-53 453.5,-53 447.5,-47 447.5,-41 447.5,-41 447.5,-12 447.5,-12 447.5,-6 453.5,0 459.5,0 459.5,0 624.5,0 624.5,0 630.5,0 636.5,-6 636.5,-12 636.5,-12 636.5,-41 636.5,-41 636.5,-47 630.5,-53 624.5,-53\"/>\n<text text-anchor=\"middle\" x=\"542\" y=\"-37.8\" font-family=\"Helvetica,sans-Serif\" font-size=\"14.00\" fill=\"#000000\">gini = 0.212</text>\n<text text-anchor=\"middle\" x=\"542\" y=\"-22.8\" font-family=\"Helvetica,sans-Serif\" font-size=\"14.00\" fill=\"#000000\">samples = 7961</text>\n<text text-anchor=\"middle\" x=\"542\" y=\"-7.8\" font-family=\"Helvetica,sans-Serif\" font-size=\"14.00\" fill=\"#000000\">value = [624.245, 4564.34]</text>\n</g>\n<!-- 5&#45;&gt;6 -->\n<g id=\"edge6\" class=\"edge\">\n<title>5&#45;&gt;6</title>\n<path fill=\"none\" stroke=\"#000000\" d=\"M600.9168,-88.9777C592.2817,-79.8207 582.9386,-69.9129 574.2922,-60.744\"/>\n<polygon fill=\"#000000\" stroke=\"#000000\" points=\"576.6311,-58.1226 567.224,-53.2485 571.5383,-62.9251 576.6311,-58.1226\"/>\n</g>\n<!-- 7 -->\n<g id=\"node8\" class=\"node\">\n<title>7</title>\n<path fill=\"#e58139\" fill-opacity=\"0.145098\" stroke=\"#000000\" d=\"M823.5,-53C823.5,-53 666.5,-53 666.5,-53 660.5,-53 654.5,-47 654.5,-41 654.5,-41 654.5,-12 654.5,-12 654.5,-6 660.5,0 666.5,0 666.5,0 823.5,0 823.5,0 829.5,0 835.5,-6 835.5,-12 835.5,-12 835.5,-41 835.5,-41 835.5,-47 829.5,-53 823.5,-53\"/>\n<text text-anchor=\"middle\" x=\"745\" y=\"-37.8\" font-family=\"Helvetica,sans-Serif\" font-size=\"14.00\" fill=\"#000000\">gini = 0.497</text>\n<text text-anchor=\"middle\" x=\"745\" y=\"-22.8\" font-family=\"Helvetica,sans-Serif\" font-size=\"14.00\" fill=\"#000000\">samples = 183</text>\n<text text-anchor=\"middle\" x=\"745\" y=\"-7.8\" font-family=\"Helvetica,sans-Serif\" font-size=\"14.00\" fill=\"#000000\">value = [104.603, 89.221]</text>\n</g>\n<!-- 5&#45;&gt;7 -->\n<g id=\"edge7\" class=\"edge\">\n<title>5&#45;&gt;7</title>\n<path fill=\"none\" stroke=\"#000000\" d=\"M672.487,-88.9777C683.4336,-79.546 695.3047,-69.3178 706.2111,-59.9208\"/>\n<polygon fill=\"#000000\" stroke=\"#000000\" points=\"708.6639,-62.4274 713.9551,-53.2485 704.0947,-57.1244 708.6639,-62.4274\"/>\n</g>\n<!-- 9 -->\n<g id=\"node10\" class=\"node\">\n<title>9</title>\n<path fill=\"#e58139\" fill-opacity=\"0.462745\" stroke=\"#000000\" d=\"M1166,-157C1166,-157 968,-157 968,-157 962,-157 956,-151 956,-145 956,-145 956,-101 956,-101 956,-95 962,-89 968,-89 968,-89 1166,-89 1166,-89 1172,-89 1178,-95 1178,-101 1178,-101 1178,-145 1178,-145 1178,-151 1172,-157 1166,-157\"/>\n<text text-anchor=\"middle\" x=\"1067\" y=\"-141.8\" font-family=\"Helvetica,sans-Serif\" font-size=\"14.00\" fill=\"#000000\">best &lt;= 0.5</text>\n<text text-anchor=\"middle\" x=\"1067\" y=\"-126.8\" font-family=\"Helvetica,sans-Serif\" font-size=\"14.00\" fill=\"#000000\">gini = 0.455</text>\n<text text-anchor=\"middle\" x=\"1067\" y=\"-111.8\" font-family=\"Helvetica,sans-Serif\" font-size=\"14.00\" fill=\"#000000\">samples = 26608</text>\n<text text-anchor=\"middle\" x=\"1067\" y=\"-96.8\" font-family=\"Helvetica,sans-Serif\" font-size=\"14.00\" fill=\"#000000\">value = [21926.168, 11804.125]</text>\n</g>\n<!-- 8&#45;&gt;9 -->\n<g id=\"edge9\" class=\"edge\">\n<title>8&#45;&gt;9</title>\n<path fill=\"none\" stroke=\"#000000\" d=\"M1067,-192.9465C1067,-184.776 1067,-175.9318 1067,-167.3697\"/>\n<polygon fill=\"#000000\" stroke=\"#000000\" points=\"1070.5001,-167.13 1067,-157.13 1063.5001,-167.13 1070.5001,-167.13\"/>\n</g>\n<!-- 12 -->\n<g id=\"node13\" class=\"node\">\n<title>12</title>\n<path fill=\"#399de5\" fill-opacity=\"0.462745\" stroke=\"#000000\" d=\"M1496,-157C1496,-157 1314,-157 1314,-157 1308,-157 1302,-151 1302,-145 1302,-145 1302,-101 1302,-101 1302,-95 1308,-89 1314,-89 1314,-89 1496,-89 1496,-89 1502,-89 1508,-95 1508,-101 1508,-101 1508,-145 1508,-145 1508,-151 1502,-157 1496,-157\"/>\n<text text-anchor=\"middle\" x=\"1405\" y=\"-141.8\" font-family=\"Helvetica,sans-Serif\" font-size=\"14.00\" fill=\"#000000\">thought &lt;= 0.5</text>\n<text text-anchor=\"middle\" x=\"1405\" y=\"-126.8\" font-family=\"Helvetica,sans-Serif\" font-size=\"14.00\" fill=\"#000000\">gini = 0.455</text>\n<text text-anchor=\"middle\" x=\"1405\" y=\"-111.8\" font-family=\"Helvetica,sans-Serif\" font-size=\"14.00\" fill=\"#000000\">samples = 8138</text>\n<text text-anchor=\"middle\" x=\"1405\" y=\"-96.8\" font-family=\"Helvetica,sans-Serif\" font-size=\"14.00\" fill=\"#000000\">value = [2351.884, 4367.702]</text>\n</g>\n<!-- 8&#45;&gt;12 -->\n<g id=\"edge12\" class=\"edge\">\n<title>8&#45;&gt;12</title>\n<path fill=\"none\" stroke=\"#000000\" d=\"M1177.6738,-192.9465C1214.3466,-181.6626 1255.1958,-169.0936 1292.0383,-157.7574\"/>\n<polygon fill=\"#000000\" stroke=\"#000000\" points=\"1293.2849,-161.0359 1301.8134,-154.7497 1291.2263,-154.3454 1293.2849,-161.0359\"/>\n</g>\n<!-- 10 -->\n<g id=\"node11\" class=\"node\">\n<title>10</title>\n<path fill=\"#e58139\" fill-opacity=\"0.525490\" stroke=\"#000000\" d=\"M1056,-53C1056,-53 866,-53 866,-53 860,-53 854,-47 854,-41 854,-41 854,-12 854,-12 854,-6 860,0 866,0 866,0 1056,0 1056,0 1062,0 1068,-6 1068,-12 1068,-12 1068,-41 1068,-41 1068,-47 1062,-53 1056,-53\"/>\n<text text-anchor=\"middle\" x=\"961\" y=\"-37.8\" font-family=\"Helvetica,sans-Serif\" font-size=\"14.00\" fill=\"#000000\">gini = 0.436</text>\n<text text-anchor=\"middle\" x=\"961\" y=\"-22.8\" font-family=\"Helvetica,sans-Serif\" font-size=\"14.00\" fill=\"#000000\">samples = 23203</text>\n<text text-anchor=\"middle\" x=\"961\" y=\"-7.8\" font-family=\"Helvetica,sans-Serif\" font-size=\"14.00\" fill=\"#000000\">value = [21045.477, 9958.666]</text>\n</g>\n<!-- 9&#45;&gt;10 -->\n<g id=\"edge10\" class=\"edge\">\n<title>9&#45;&gt;10</title>\n<path fill=\"none\" stroke=\"#000000\" d=\"M1029.6284,-88.9777C1019.3688,-79.6376 1008.2511,-69.5163 998.0118,-60.1947\"/>\n<polygon fill=\"#000000\" stroke=\"#000000\" points=\"1000.1326,-57.3923 990.3817,-53.2485 995.4202,-62.5686 1000.1326,-57.3923\"/>\n</g>\n<!-- 11 -->\n<g id=\"node12\" class=\"node\">\n<title>11</title>\n<path fill=\"#399de5\" fill-opacity=\"0.521569\" stroke=\"#000000\" d=\"M1271.5,-53C1271.5,-53 1098.5,-53 1098.5,-53 1092.5,-53 1086.5,-47 1086.5,-41 1086.5,-41 1086.5,-12 1086.5,-12 1086.5,-6 1092.5,0 1098.5,0 1098.5,0 1271.5,0 1271.5,0 1277.5,0 1283.5,-6 1283.5,-12 1283.5,-12 1283.5,-41 1283.5,-41 1283.5,-47 1277.5,-53 1271.5,-53\"/>\n<text text-anchor=\"middle\" x=\"1185\" y=\"-37.8\" font-family=\"Helvetica,sans-Serif\" font-size=\"14.00\" fill=\"#000000\">gini = 0.437</text>\n<text text-anchor=\"middle\" x=\"1185\" y=\"-22.8\" font-family=\"Helvetica,sans-Serif\" font-size=\"14.00\" fill=\"#000000\">samples = 3405</text>\n<text text-anchor=\"middle\" x=\"1185\" y=\"-7.8\" font-family=\"Helvetica,sans-Serif\" font-size=\"14.00\" fill=\"#000000\">value = [880.691, 1845.458]</text>\n</g>\n<!-- 9&#45;&gt;11 -->\n<g id=\"edge11\" class=\"edge\">\n<title>9&#45;&gt;11</title>\n<path fill=\"none\" stroke=\"#000000\" d=\"M1108.6024,-88.9777C1120.2474,-79.4545 1132.8854,-69.1191 1144.4675,-59.6473\"/>\n<polygon fill=\"#000000\" stroke=\"#000000\" points=\"1146.7667,-62.2885 1152.292,-53.2485 1142.3352,-56.8697 1146.7667,-62.2885\"/>\n</g>\n<!-- 13 -->\n<g id=\"node14\" class=\"node\">\n<title>13</title>\n<path fill=\"#399de5\" fill-opacity=\"0.517647\" stroke=\"#000000\" d=\"M1496,-53C1496,-53 1314,-53 1314,-53 1308,-53 1302,-47 1302,-41 1302,-41 1302,-12 1302,-12 1302,-6 1308,0 1314,0 1314,0 1496,0 1496,0 1502,0 1508,-6 1508,-12 1508,-12 1508,-41 1508,-41 1508,-47 1502,-53 1496,-53\"/>\n<text text-anchor=\"middle\" x=\"1405\" y=\"-37.8\" font-family=\"Helvetica,sans-Serif\" font-size=\"14.00\" fill=\"#000000\">gini = 0.438</text>\n<text text-anchor=\"middle\" x=\"1405\" y=\"-22.8\" font-family=\"Helvetica,sans-Serif\" font-size=\"14.00\" fill=\"#000000\">samples = 7738</text>\n<text text-anchor=\"middle\" x=\"1405\" y=\"-7.8\" font-family=\"Helvetica,sans-Serif\" font-size=\"14.00\" fill=\"#000000\">value = [2014.454, 4191.609]</text>\n</g>\n<!-- 12&#45;&gt;13 -->\n<g id=\"edge13\" class=\"edge\">\n<title>12&#45;&gt;13</title>\n<path fill=\"none\" stroke=\"#000000\" d=\"M1405,-88.9777C1405,-80.7364 1405,-71.887 1405,-63.5153\"/>\n<polygon fill=\"#000000\" stroke=\"#000000\" points=\"1408.5001,-63.2484 1405,-53.2485 1401.5001,-63.2485 1408.5001,-63.2484\"/>\n</g>\n<!-- 14 -->\n<g id=\"node15\" class=\"node\">\n<title>14</title>\n<path fill=\"#e58139\" fill-opacity=\"0.478431\" stroke=\"#000000\" d=\"M1703.5,-53C1703.5,-53 1538.5,-53 1538.5,-53 1532.5,-53 1526.5,-47 1526.5,-41 1526.5,-41 1526.5,-12 1526.5,-12 1526.5,-6 1532.5,0 1538.5,0 1538.5,0 1703.5,0 1703.5,0 1709.5,0 1715.5,-6 1715.5,-12 1715.5,-12 1715.5,-41 1715.5,-41 1715.5,-47 1709.5,-53 1703.5,-53\"/>\n<text text-anchor=\"middle\" x=\"1621\" y=\"-37.8\" font-family=\"Helvetica,sans-Serif\" font-size=\"14.00\" fill=\"#000000\">gini = 0.451</text>\n<text text-anchor=\"middle\" x=\"1621\" y=\"-22.8\" font-family=\"Helvetica,sans-Serif\" font-size=\"14.00\" fill=\"#000000\">samples = 400</text>\n<text text-anchor=\"middle\" x=\"1621\" y=\"-7.8\" font-family=\"Helvetica,sans-Serif\" font-size=\"14.00\" fill=\"#000000\">value = [337.429, 176.093]</text>\n</g>\n<!-- 12&#45;&gt;14 -->\n<g id=\"edge14\" class=\"edge\">\n<title>12&#45;&gt;14</title>\n<path fill=\"none\" stroke=\"#000000\" d=\"M1481.1535,-88.9777C1504.3188,-78.6284 1529.6308,-67.32 1552.2758,-57.2032\"/>\n<polygon fill=\"#000000\" stroke=\"#000000\" points=\"1553.7687,-60.3697 1561.4712,-53.095 1550.9133,-53.9785 1553.7687,-60.3697\"/>\n</g>\n</g>\n</svg>\n"
          },
          "metadata": {
            "tags": []
          },
          "execution_count": 63
        }
      ]
    },
    {
      "cell_type": "markdown",
      "metadata": {
        "id": "5przjMTbiWOz",
        "colab_type": "text"
      },
      "source": [
        "##  Applying Decision Trees on TFIDF,<font color='red'> SET 2</font>"
      ]
    },
    {
      "cell_type": "code",
      "metadata": {
        "id": "Bm3mfI7miWOz",
        "colab_type": "code",
        "outputId": "e751eb3f-3d88-40ad-d2b3-246cd49d3c57",
        "colab": {
          "base_uri": "https://localhost:8080/",
          "height": 212
        }
      },
      "source": [
        "# Please write all the code with proper documentation\n",
        "\n",
        "dt_model_tfidf=DecisionTreeClassifier(class_weight='balanced')\n",
        "parameters={'max_depth':[5, 10, 50,75, 100, 500],\n",
        "           'min_samples_split':[5, 10, 20,50,100, 500]}\n",
        "clf_tfidf=GridSearchCV(dt_model_tfidf,parameters,cv=10,scoring='roc_auc',n_jobs=-1)\n",
        "clf_tfidf.fit(x_train_tf_idf, y_train)"
      ],
      "execution_count": 65,
      "outputs": [
        {
          "output_type": "execute_result",
          "data": {
            "text/plain": [
              "GridSearchCV(cv=10, error_score='raise-deprecating',\n",
              "       estimator=DecisionTreeClassifier(class_weight='balanced', criterion='gini',\n",
              "            max_depth=None, max_features=None, max_leaf_nodes=None,\n",
              "            min_impurity_decrease=0.0, min_impurity_split=None,\n",
              "            min_samples_leaf=1, min_samples_split=2,\n",
              "            min_weight_fraction_leaf=0.0, presort=False, random_state=None,\n",
              "            splitter='best'),\n",
              "       fit_params=None, iid='warn', n_jobs=-1,\n",
              "       param_grid={'max_depth': [5, 10, 50, 75, 100, 500], 'min_samples_split': [5, 10, 20, 50, 100, 500]},\n",
              "       pre_dispatch='2*n_jobs', refit=True, return_train_score='warn',\n",
              "       scoring='roc_auc', verbose=0)"
            ]
          },
          "metadata": {
            "tags": []
          },
          "execution_count": 65
        }
      ]
    },
    {
      "cell_type": "code",
      "metadata": {
        "id": "p2P0iHQciWO1",
        "colab_type": "code",
        "outputId": "7ee60d66-2acc-47b6-e7e4-a38a8f218034",
        "colab": {
          "base_uri": "https://localhost:8080/",
          "height": 123
        }
      },
      "source": [
        "# Please write all the code with proper documentation\"?>:\"\"\n",
        "print(\"best estimator is :\",clf_tfidf.best_estimator_)"
      ],
      "execution_count": 68,
      "outputs": [
        {
          "output_type": "stream",
          "text": [
            "best estimator is : DecisionTreeClassifier(class_weight='balanced', criterion='gini',\n",
            "            max_depth=50, max_features=None, max_leaf_nodes=None,\n",
            "            min_impurity_decrease=0.0, min_impurity_split=None,\n",
            "            min_samples_leaf=1, min_samples_split=500,\n",
            "            min_weight_fraction_leaf=0.0, presort=False, random_state=None,\n",
            "            splitter='best')\n"
          ],
          "name": "stdout"
        }
      ]
    },
    {
      "cell_type": "code",
      "metadata": {
        "id": "P-yubWgij9Ys",
        "colab_type": "code",
        "colab": {
          "base_uri": "https://localhost:8080/",
          "height": 458
        },
        "outputId": "37a478e2-261a-4924-eec9-fbbed2c4aefd"
      },
      "source": [
        "\n",
        "#Heatmap of Train AUC\n",
        "\n",
        "max_depth=[5, 10, 50,75, 100, 500]\n",
        "min_samples_split=[5, 10, 20,50,100, 500]\n",
        "\n",
        "train_auc_tfidf = clf_tfidf.cv_results_[\"mean_train_score\"].reshape(len(max_depth) ,len(min_samples_split))\n",
        "cv_auc_tfidf = clf_tfidf.cv_results_[\"mean_test_score\"].reshape(len(max_depth) ,len(min_samples_split))\n",
        "\n",
        "plt.figure(figsize = (7,7))\n",
        "sns.heatmap(train_auc_tfidf ,annot = True, fmt = \".3f\" ,xticklabels = max_depth ,yticklabels = min_samples_split)\n",
        "plt.xlabel(\"max_depth\")\n",
        "plt.ylabel(\"min_samples_split\")\n",
        "\n",
        "plt.xticks(np.arange(len(max_depth)),max_depth)\n",
        "plt.yticks(np.arange(len(min_samples_split)),min_samples_split)\n",
        "\n",
        "plt.title(\"Train AUC\")\n",
        "\n",
        "plt.show()"
      ],
      "execution_count": 66,
      "outputs": [
        {
          "output_type": "display_data",
          "data": {
            "image/png": "[encoded data removed]",
            "text/plain": [
              "<Figure size 504x504 with 2 Axes>"
            ]
          },
          "metadata": {
            "tags": []
          }
        }
      ]
    },
    {
      "cell_type": "code",
      "metadata": {
        "id": "XGXYsg9zki34",
        "colab_type": "code",
        "colab": {
          "base_uri": "https://localhost:8080/",
          "height": 295
        },
        "outputId": "09a194a2-ff65-4c20-e410-d6ce2294f5a7"
      },
      "source": [
        "#Heatmap of CV AUC\n",
        "\n",
        "sns.heatmap(cv_auc_tfidf ,annot = True, fmt = \".3f\" ,xticklabels = max_depth ,yticklabels = min_samples_split)\n",
        "plt.xlabel(\"max_depth\")\n",
        "plt.ylabel(\"min_samples_split\")\n",
        "\n",
        "plt.xticks(np.arange(len(max_depth)),max_depth)\n",
        "plt.yticks(np.arange(len(min_samples_split)),min_samples_split)\n",
        "\n",
        "plt.title(\"CV AUC\")\n",
        "\n",
        "plt.show()"
      ],
      "execution_count": 72,
      "outputs": [
        {
          "output_type": "display_data",
          "data": {
            "image/png": "[encoded data removed]",
            "text/plain": [
              "<Figure size 432x288 with 2 Axes>"
            ]
          },
          "metadata": {
            "tags": []
          }
        }
      ]
    },
    {
      "cell_type": "code",
      "metadata": {
        "id": "5fTqNzrQoyP0",
        "colab_type": "code",
        "outputId": "39db4667-fb15-4626-8ee1-8340b90977e4",
        "colab": {
          "base_uri": "https://localhost:8080/",
          "height": 418
        }
      },
      "source": [
        "#Testing with test data\n",
        "\n",
        "dt_tfidf = DecisionTreeClassifier(class_weight='balanced' ,min_samples_split=500 , max_depth=50)\n",
        "dt_tfidf.fit(x_train_tf_idf, y_train)\n",
        "\n",
        "\n",
        "train_fpr_tfidf, train_tpr_tfidf, thresholds_tfidf = roc_curve(y_train, dt_tfidf.predict_proba(x_train_tf_idf)[:,1])\n",
        "test_fpr_tfidf, test_tpr_tfidf, thresholds_tfidf = roc_curve(y_test, dt_tfidf.predict_proba(x_test_tf_idf)[:,1])\n",
        "\n",
        "plt.plot(train_fpr_tfidf, train_tpr_tfidf, label=\"train AUC =\"+str(auc(train_fpr_tfidf, train_tpr_tfidf)))\n",
        "plt.plot(test_fpr_tfidf, test_tpr_tfidf, label=\"test AUC =\"+str(auc(test_fpr_tfidf, test_tpr_tfidf)))\n",
        "plt.legend()\n",
        "plt.xlabel(\"FPR\")\n",
        "plt.ylabel(\"TPR\")\n",
        "plt.title(\"ERROR PLOTS\")\n",
        "plt.show()\n",
        "\n",
        "print(\"=\"*100)\n",
        "\n",
        "from sklearn.metrics import confusion_matrix\n",
        "print(\"Train confusion matrix\")\n",
        "print(confusion_matrix(y_train, dt_tfidf.predict(x_train_tf_idf)))\n",
        "print(\"Test confusion matrix\")\n",
        "print(confusion_matrix(y_test, dt_tfidf.predict(x_test_tf_idf)))"
      ],
      "execution_count": 76,
      "outputs": [
        {
          "output_type": "display_data",
          "data": {
            "image/png": "[encoded data removed]",
            "text/plain": [
              "<Figure size 432x288 with 1 Axes>"
            ]
          },
          "metadata": {
            "tags": []
          }
        },
        {
          "output_type": "stream",
          "text": [
            "====================================================================================================\n",
            "Train confusion matrix\n",
            "[[ 8781  1147]\n",
            " [13733 43339]]\n",
            "Test confusion matrix\n",
            "[[ 3643  1205]\n",
            " [ 7540 20612]]\n"
          ],
          "name": "stdout"
        }
      ]
    },
    {
      "cell_type": "code",
      "metadata": {
        "id": "C-y9IKPTrihF",
        "colab_type": "code",
        "outputId": "7b4b9046-1431-43e4-8a42-eaacbc7e63a8",
        "colab": {
          "base_uri": "https://localhost:8080/",
          "height": 330
        }
      },
      "source": [
        "print(\"Heatmap of train confusion matrix\")\n",
        "import seaborn as sns\n",
        "confusion_matrix_train_tfidf = confusion_matrix(y_train, dt_tfidf.predict(x_train_tf_idf))\n",
        "\n",
        "df_cm=pd.DataFrame(confusion_matrix_train_tfidf,index=[\"Negative:0\",\"Positive:1\"],columns=[\"Negative\",\"Positive\"],)\n",
        "sns.heatmap(df_cm,annot=True,fmt='d')\n",
        "plt.title(\"Confusion Matrix\")\n",
        "plt.xlabel(\"Predicted Class\")\n",
        "plt.ylabel(\"Actual Class\")"
      ],
      "execution_count": 77,
      "outputs": [
        {
          "output_type": "stream",
          "text": [
            "Heatmap of train confusion matrix\n"
          ],
          "name": "stdout"
        },
        {
          "output_type": "execute_result",
          "data": {
            "text/plain": [
              "Text(33.0, 0.5, 'Actual Class')"
            ]
          },
          "metadata": {
            "tags": []
          },
          "execution_count": 77
        },
        {
          "output_type": "display_data",
          "data": {
            "image/png": "[encoded data removed]",
            "text/plain": [
              "<Figure size 432x288 with 2 Axes>"
            ]
          },
          "metadata": {
            "tags": []
          }
        }
      ]
    },
    {
      "cell_type": "code",
      "metadata": {
        "id": "pbarycgVrjE2",
        "colab_type": "code",
        "outputId": "81daaf85-3639-46e1-dcf6-72d56cbc4634",
        "colab": {
          "base_uri": "https://localhost:8080/",
          "height": 330
        }
      },
      "source": [
        "print(\"Heatmap of train confusion matrix\")\n",
        "import seaborn as sns\n",
        "confusion_matrix_test_tfidf = confusion_matrix(y_test, dt_tfidf.predict(x_test_tf_idf))\n",
        "\n",
        "df_cm=pd.DataFrame(confusion_matrix_test_tfidf,index=[\"Negative:0\",\"Positive:1\"],columns=[\"Negative\",\"Positive\"],)\n",
        "sns.heatmap(df_cm,annot=True,fmt='d')\n",
        "plt.title(\"Confusion Matrix\")\n",
        "plt.xlabel(\"Predicted Class\")\n",
        "plt.ylabel(\"Actual Class\")"
      ],
      "execution_count": 78,
      "outputs": [
        {
          "output_type": "stream",
          "text": [
            "Heatmap of train confusion matrix\n"
          ],
          "name": "stdout"
        },
        {
          "output_type": "execute_result",
          "data": {
            "text/plain": [
              "Text(33.0, 0.5, 'Actual Class')"
            ]
          },
          "metadata": {
            "tags": []
          },
          "execution_count": 78
        },
        {
          "output_type": "display_data",
          "data": {
            "image/png": "[encoded data removed]",
            "text/plain": [
              "<Figure size 432x288 with 2 Axes>"
            ]
          },
          "metadata": {
            "tags": []
          }
        }
      ]
    },
    {
      "cell_type": "markdown",
      "metadata": {
        "id": "V7R0Mb3aTGpN",
        "colab_type": "text"
      },
      "source": [
        "###  Top 20 important features from TFIDF"
      ]
    },
    {
      "cell_type": "code",
      "metadata": {
        "id": "oBztfD2wyYX_",
        "colab_type": "code",
        "colab": {}
      },
      "source": [
        "coefficients_1 = pd.DataFrame({\"Feature\":tf_idf_vect.get_feature_names(),\"Coefficients\":np.transpose(dt_tfidf.feature_importances_)})\n",
        "\n",
        "coefficients_1=coefficients.sort_values('Coefficients',ascending=False)"
      ],
      "execution_count": 0,
      "outputs": []
    },
    {
      "cell_type": "code",
      "metadata": {
        "id": "cHewiStxzCeR",
        "colab_type": "code",
        "outputId": "7d34bbed-74f3-44c4-ae37-90158e33b379",
        "colab": {
          "base_uri": "https://localhost:8080/",
          "height": 647
        }
      },
      "source": [
        "coefficients_1.head(20)"
      ],
      "execution_count": 80,
      "outputs": [
        {
          "output_type": "execute_result",
          "data": {
            "text/html": [
              "<div>\n",
              "<style scoped>\n",
              "    .dataframe tbody tr th:only-of-type {\n",
              "        vertical-align: middle;\n",
              "    }\n",
              "\n",
              "    .dataframe tbody tr th {\n",
              "        vertical-align: top;\n",
              "    }\n",
              "\n",
              "    .dataframe thead th {\n",
              "        text-align: right;\n",
              "    }\n",
              "</style>\n",
              "<table border=\"1\" class=\"dataframe\">\n",
              "  <thead>\n",
              "    <tr style=\"text-align: right;\">\n",
              "      <th></th>\n",
              "      <th>Feature</th>\n",
              "      <th>Coefficients</th>\n",
              "    </tr>\n",
              "  </thead>\n",
              "  <tbody>\n",
              "    <tr>\n",
              "      <th>294</th>\n",
              "      <td>not</td>\n",
              "      <td>0.164241</td>\n",
              "    </tr>\n",
              "    <tr>\n",
              "      <th>192</th>\n",
              "      <td>great</td>\n",
              "      <td>0.111382</td>\n",
              "    </tr>\n",
              "    <tr>\n",
              "      <th>36</th>\n",
              "      <td>best</td>\n",
              "      <td>0.067996</td>\n",
              "    </tr>\n",
              "    <tr>\n",
              "      <th>111</th>\n",
              "      <td>delicious</td>\n",
              "      <td>0.045198</td>\n",
              "    </tr>\n",
              "    <tr>\n",
              "      <th>256</th>\n",
              "      <td>love</td>\n",
              "      <td>0.042680</td>\n",
              "    </tr>\n",
              "    <tr>\n",
              "      <th>115</th>\n",
              "      <td>disappointed</td>\n",
              "      <td>0.035431</td>\n",
              "    </tr>\n",
              "    <tr>\n",
              "      <th>258</th>\n",
              "      <td>loves</td>\n",
              "      <td>0.028742</td>\n",
              "    </tr>\n",
              "    <tr>\n",
              "      <th>190</th>\n",
              "      <td>good</td>\n",
              "      <td>0.027495</td>\n",
              "    </tr>\n",
              "    <tr>\n",
              "      <th>331</th>\n",
              "      <td>perfect</td>\n",
              "      <td>0.020620</td>\n",
              "    </tr>\n",
              "    <tr>\n",
              "      <th>487</th>\n",
              "      <td>wonderful</td>\n",
              "      <td>0.018812</td>\n",
              "    </tr>\n",
              "    <tr>\n",
              "      <th>27</th>\n",
              "      <td>bad</td>\n",
              "      <td>0.017834</td>\n",
              "    </tr>\n",
              "    <tr>\n",
              "      <th>153</th>\n",
              "      <td>favorite</td>\n",
              "      <td>0.016176</td>\n",
              "    </tr>\n",
              "    <tr>\n",
              "      <th>276</th>\n",
              "      <td>money</td>\n",
              "      <td>0.014911</td>\n",
              "    </tr>\n",
              "    <tr>\n",
              "      <th>142</th>\n",
              "      <td>excellent</td>\n",
              "      <td>0.013926</td>\n",
              "    </tr>\n",
              "    <tr>\n",
              "      <th>450</th>\n",
              "      <td>thought</td>\n",
              "      <td>0.013077</td>\n",
              "    </tr>\n",
              "    <tr>\n",
              "      <th>491</th>\n",
              "      <td>would</td>\n",
              "      <td>0.010817</td>\n",
              "    </tr>\n",
              "    <tr>\n",
              "      <th>124</th>\n",
              "      <td>easy</td>\n",
              "      <td>0.009138</td>\n",
              "    </tr>\n",
              "    <tr>\n",
              "      <th>423</th>\n",
              "      <td>stores</td>\n",
              "      <td>0.008116</td>\n",
              "    </tr>\n",
              "    <tr>\n",
              "      <th>371</th>\n",
              "      <td>reviews</td>\n",
              "      <td>0.008000</td>\n",
              "    </tr>\n",
              "    <tr>\n",
              "      <th>157</th>\n",
              "      <td>find</td>\n",
              "      <td>0.007799</td>\n",
              "    </tr>\n",
              "  </tbody>\n",
              "</table>\n",
              "</div>"
            ],
            "text/plain": [
              "          Feature  Coefficients\n",
              "294           not      0.164241\n",
              "192         great      0.111382\n",
              "36           best      0.067996\n",
              "111     delicious      0.045198\n",
              "256          love      0.042680\n",
              "115  disappointed      0.035431\n",
              "258         loves      0.028742\n",
              "190          good      0.027495\n",
              "331       perfect      0.020620\n",
              "487     wonderful      0.018812\n",
              "27            bad      0.017834\n",
              "153      favorite      0.016176\n",
              "276         money      0.014911\n",
              "142     excellent      0.013926\n",
              "450       thought      0.013077\n",
              "491         would      0.010817\n",
              "124          easy      0.009138\n",
              "423        stores      0.008116\n",
              "371       reviews      0.008000\n",
              "157          find      0.007799"
            ]
          },
          "metadata": {
            "tags": []
          },
          "execution_count": 80
        }
      ]
    },
    {
      "cell_type": "markdown",
      "metadata": {
        "id": "RTZB9ipUiWO3",
        "colab_type": "text"
      },
      "source": [
        "### [5.2.2] Graphviz visualization of Decision Tree on TFIDF,<font color='red'> SET 2</font>"
      ]
    },
    {
      "cell_type": "code",
      "metadata": {
        "id": "DMbZoPoTiWO4",
        "colab_type": "code",
        "outputId": "8025d56b-7677-4a7d-8c73-5b9fd0806461",
        "colab": {
          "base_uri": "https://localhost:8080/",
          "height": 538
        }
      },
      "source": [
        "# Please write all the code with proper documentation\n",
        "\n",
        "from graphviz import Source\n",
        "from sklearn import tree\n",
        "\n",
        "dt_tfidf_1 = DecisionTreeClassifier(class_weight='balanced' ,max_depth = 3 ,min_samples_split = 500)\n",
        "dt_tfidf_1.fit(x_train_tf_idf ,y_train)\n",
        "Source(tree.export_graphviz(dt_tfidf_1 , out_file=None ,filled= True ,rounded = True , feature_names = coefficients_1[\"Feature\"] ))"
      ],
      "execution_count": 82,
      "outputs": [
        {
          "output_type": "execute_result",
          "data": {
            "text/plain": [
              "<graphviz.files.Source at 0x7f8c21493e10>"
            ],
            "image/svg+xml": "<?xml version=\"1.0\" encoding=\"UTF-8\" standalone=\"no\"?>\n<!DOCTYPE svg PUBLIC \"-//W3C//DTD SVG 1.1//EN\"\n \"http://www.w3.org/Graphics/SVG/1.1/DTD/svg11.dtd\">\n<!-- Generated by graphviz version 2.40.1 (20161225.0304)\n -->\n<!-- Title: Tree Pages: 1 -->\n<svg width=\"1724pt\" height=\"373pt\"\n viewBox=\"0.00 0.00 1723.50 373.00\" xmlns=\"http://www.w3.org/2000/svg\" xmlns:xlink=\"http://www.w3.org/1999/xlink\">\n<g id=\"graph0\" class=\"graph\" transform=\"scale(1 1) rotate(0) translate(4 369)\">\n<title>Tree</title>\n<polygon fill=\"#ffffff\" stroke=\"transparent\" points=\"-4,4 -4,-369 1719.5,-369 1719.5,4 -4,4\"/>\n<!-- 0 -->\n<g id=\"node1\" class=\"node\">\n<title>0</title>\n<path fill=\"transparent\" stroke=\"#000000\" d=\"M931.5,-365C931.5,-365 766.5,-365 766.5,-365 760.5,-365 754.5,-359 754.5,-353 754.5,-353 754.5,-309 754.5,-309 754.5,-303 760.5,-297 766.5,-297 766.5,-297 931.5,-297 931.5,-297 937.5,-297 943.5,-303 943.5,-309 943.5,-309 943.5,-353 943.5,-353 943.5,-359 937.5,-365 931.5,-365\"/>\n<text text-anchor=\"middle\" x=\"849\" y=\"-349.8\" font-family=\"Helvetica,sans-Serif\" font-size=\"14.00\" fill=\"#000000\">not &lt;= 0.078</text>\n<text text-anchor=\"middle\" x=\"849\" y=\"-334.8\" font-family=\"Helvetica,sans-Serif\" font-size=\"14.00\" fill=\"#000000\">gini = 0.5</text>\n<text text-anchor=\"middle\" x=\"849\" y=\"-319.8\" font-family=\"Helvetica,sans-Serif\" font-size=\"14.00\" fill=\"#000000\">samples = 67000</text>\n<text text-anchor=\"middle\" x=\"849\" y=\"-304.8\" font-family=\"Helvetica,sans-Serif\" font-size=\"14.00\" fill=\"#000000\">value = [33500.0, 33500.0]</text>\n</g>\n<!-- 1 -->\n<g id=\"node2\" class=\"node\">\n<title>1</title>\n<path fill=\"#399de5\" fill-opacity=\"0.400000\" stroke=\"#000000\" d=\"M745,-261C745,-261 547,-261 547,-261 541,-261 535,-255 535,-249 535,-249 535,-205 535,-205 535,-199 541,-193 547,-193 547,-193 745,-193 745,-193 751,-193 757,-199 757,-205 757,-205 757,-249 757,-249 757,-255 751,-261 745,-261\"/>\n<text text-anchor=\"middle\" x=\"646\" y=\"-245.8\" font-family=\"Helvetica,sans-Serif\" font-size=\"14.00\" fill=\"#000000\">great &lt;= 0.092</text>\n<text text-anchor=\"middle\" x=\"646\" y=\"-230.8\" font-family=\"Helvetica,sans-Serif\" font-size=\"14.00\" fill=\"#000000\">gini = 0.469</text>\n<text text-anchor=\"middle\" x=\"646\" y=\"-215.8\" font-family=\"Helvetica,sans-Serif\" font-size=\"14.00\" fill=\"#000000\">samples = 39914</text>\n<text text-anchor=\"middle\" x=\"646\" y=\"-200.8\" font-family=\"Helvetica,sans-Serif\" font-size=\"14.00\" fill=\"#000000\">value = [12724.466, 21215.141]</text>\n</g>\n<!-- 0&#45;&gt;1 -->\n<g id=\"edge1\" class=\"edge\">\n<title>0&#45;&gt;1</title>\n<path fill=\"none\" stroke=\"#000000\" d=\"M782.5302,-296.9465C763.077,-286.9803 741.6671,-276.0117 721.6866,-265.7754\"/>\n<polygon fill=\"#000000\" stroke=\"#000000\" points=\"723.115,-262.5747 712.6191,-261.13 719.9233,-268.8047 723.115,-262.5747\"/>\n<text text-anchor=\"middle\" x=\"720.2919\" y=\"-281.2234\" font-family=\"Helvetica,sans-Serif\" font-size=\"14.00\" fill=\"#000000\">True</text>\n</g>\n<!-- 8 -->\n<g id=\"node9\" class=\"node\">\n<title>8</title>\n<path fill=\"#e58139\" fill-opacity=\"0.407843\" stroke=\"#000000\" d=\"M1176,-261C1176,-261 978,-261 978,-261 972,-261 966,-255 966,-249 966,-249 966,-205 966,-205 966,-199 972,-193 978,-193 978,-193 1176,-193 1176,-193 1182,-193 1188,-199 1188,-205 1188,-205 1188,-249 1188,-249 1188,-255 1182,-261 1176,-261\"/>\n<text text-anchor=\"middle\" x=\"1077\" y=\"-245.8\" font-family=\"Helvetica,sans-Serif\" font-size=\"14.00\" fill=\"#000000\">great &lt;= 0.033</text>\n<text text-anchor=\"middle\" x=\"1077\" y=\"-230.8\" font-family=\"Helvetica,sans-Serif\" font-size=\"14.00\" fill=\"#000000\">gini = 0.467</text>\n<text text-anchor=\"middle\" x=\"1077\" y=\"-215.8\" font-family=\"Helvetica,sans-Serif\" font-size=\"14.00\" fill=\"#000000\">samples = 27086</text>\n<text text-anchor=\"middle\" x=\"1077\" y=\"-200.8\" font-family=\"Helvetica,sans-Serif\" font-size=\"14.00\" fill=\"#000000\">value = [20775.534, 12284.859]</text>\n</g>\n<!-- 0&#45;&gt;8 -->\n<g id=\"edge8\" class=\"edge\">\n<title>0&#45;&gt;8</title>\n<path fill=\"none\" stroke=\"#000000\" d=\"M923.6557,-296.9465C945.7999,-286.8457 970.2016,-275.7151 992.9013,-265.3608\"/>\n<polygon fill=\"#000000\" stroke=\"#000000\" points=\"994.5309,-268.4645 1002.1765,-261.13 991.6258,-262.0957 994.5309,-268.4645\"/>\n<text text-anchor=\"middle\" x=\"993.4294\" y=\"-280.8498\" font-family=\"Helvetica,sans-Serif\" font-size=\"14.00\" fill=\"#000000\">False</text>\n</g>\n<!-- 2 -->\n<g id=\"node3\" class=\"node\">\n<title>2</title>\n<path fill=\"#399de5\" fill-opacity=\"0.266667\" stroke=\"#000000\" d=\"M434,-157C434,-157 244,-157 244,-157 238,-157 232,-151 232,-145 232,-145 232,-101 232,-101 232,-95 238,-89 244,-89 244,-89 434,-89 434,-89 440,-89 446,-95 446,-101 446,-101 446,-145 446,-145 446,-151 440,-157 434,-157\"/>\n<text text-anchor=\"middle\" x=\"339\" y=\"-141.8\" font-family=\"Helvetica,sans-Serif\" font-size=\"14.00\" fill=\"#000000\">best &lt;= 0.059</text>\n<text text-anchor=\"middle\" x=\"339\" y=\"-126.8\" font-family=\"Helvetica,sans-Serif\" font-size=\"14.00\" fill=\"#000000\">gini = 0.488</text>\n<text text-anchor=\"middle\" x=\"339\" y=\"-111.8\" font-family=\"Helvetica,sans-Serif\" font-size=\"14.00\" fill=\"#000000\">samples = 31240</text>\n<text text-anchor=\"middle\" x=\"339\" y=\"-96.8\" font-family=\"Helvetica,sans-Serif\" font-size=\"14.00\" fill=\"#000000\">value = [11918.01, 16263.982]</text>\n</g>\n<!-- 1&#45;&gt;2 -->\n<g id=\"edge2\" class=\"edge\">\n<title>1&#45;&gt;2</title>\n<path fill=\"none\" stroke=\"#000000\" d=\"M545.4767,-192.9465C514.6529,-182.5046 480.5806,-170.9622 449.1498,-160.3146\"/>\n<polygon fill=\"#000000\" stroke=\"#000000\" points=\"450.0811,-156.9347 439.4868,-157.0411 447.8351,-163.5647 450.0811,-156.9347\"/>\n</g>\n<!-- 5 -->\n<g id=\"node6\" class=\"node\">\n<title>5</title>\n<path fill=\"#399de5\" fill-opacity=\"0.835294\" stroke=\"#000000\" d=\"M732.5,-157C732.5,-157 559.5,-157 559.5,-157 553.5,-157 547.5,-151 547.5,-145 547.5,-145 547.5,-101 547.5,-101 547.5,-95 553.5,-89 559.5,-89 559.5,-89 732.5,-89 732.5,-89 738.5,-89 744.5,-95 744.5,-101 744.5,-101 744.5,-145 744.5,-145 744.5,-151 738.5,-157 732.5,-157\"/>\n<text text-anchor=\"middle\" x=\"646\" y=\"-141.8\" font-family=\"Helvetica,sans-Serif\" font-size=\"14.00\" fill=\"#000000\">bad &lt;= 0.152</text>\n<text text-anchor=\"middle\" x=\"646\" y=\"-126.8\" font-family=\"Helvetica,sans-Serif\" font-size=\"14.00\" fill=\"#000000\">gini = 0.241</text>\n<text text-anchor=\"middle\" x=\"646\" y=\"-111.8\" font-family=\"Helvetica,sans-Serif\" font-size=\"14.00\" fill=\"#000000\">samples = 8674</text>\n<text text-anchor=\"middle\" x=\"646\" y=\"-96.8\" font-family=\"Helvetica,sans-Serif\" font-size=\"14.00\" fill=\"#000000\">value = [806.456, 4951.158]</text>\n</g>\n<!-- 1&#45;&gt;5 -->\n<g id=\"edge5\" class=\"edge\">\n<title>1&#45;&gt;5</title>\n<path fill=\"none\" stroke=\"#000000\" d=\"M646,-192.9465C646,-184.776 646,-175.9318 646,-167.3697\"/>\n<polygon fill=\"#000000\" stroke=\"#000000\" points=\"649.5001,-167.13 646,-157.13 642.5001,-167.13 649.5001,-167.13\"/>\n</g>\n<!-- 3 -->\n<g id=\"node4\" class=\"node\">\n<title>3</title>\n<path fill=\"#399de5\" fill-opacity=\"0.164706\" stroke=\"#000000\" d=\"M210,-53C210,-53 12,-53 12,-53 6,-53 0,-47 0,-41 0,-41 0,-12 0,-12 0,-6 6,0 12,0 12,0 210,0 210,0 216,0 222,-6 222,-12 222,-12 222,-41 222,-41 222,-47 216,-53 210,-53\"/>\n<text text-anchor=\"middle\" x=\"111\" y=\"-37.8\" font-family=\"Helvetica,sans-Serif\" font-size=\"14.00\" fill=\"#000000\">gini = 0.496</text>\n<text text-anchor=\"middle\" x=\"111\" y=\"-22.8\" font-family=\"Helvetica,sans-Serif\" font-size=\"14.00\" fill=\"#000000\">samples = 26893</text>\n<text text-anchor=\"middle\" x=\"111\" y=\"-7.8\" font-family=\"Helvetica,sans-Serif\" font-size=\"14.00\" fill=\"#000000\">value = [11506.346, 13784.001]</text>\n</g>\n<!-- 2&#45;&gt;3 -->\n<g id=\"edge3\" class=\"edge\">\n<title>2&#45;&gt;3</title>\n<path fill=\"none\" stroke=\"#000000\" d=\"M258.6157,-88.9777C234.0549,-78.5824 207.2078,-67.2195 183.2237,-57.0684\"/>\n<polygon fill=\"#000000\" stroke=\"#000000\" points=\"184.4093,-53.7696 173.8359,-53.095 181.6808,-60.216 184.4093,-53.7696\"/>\n</g>\n<!-- 4 -->\n<g id=\"node5\" class=\"node\">\n<title>4</title>\n<path fill=\"#399de5\" fill-opacity=\"0.835294\" stroke=\"#000000\" d=\"M425.5,-53C425.5,-53 252.5,-53 252.5,-53 246.5,-53 240.5,-47 240.5,-41 240.5,-41 240.5,-12 240.5,-12 240.5,-6 246.5,0 252.5,0 252.5,0 425.5,0 425.5,0 431.5,0 437.5,-6 437.5,-12 437.5,-12 437.5,-41 437.5,-41 437.5,-47 431.5,-53 425.5,-53\"/>\n<text text-anchor=\"middle\" x=\"339\" y=\"-37.8\" font-family=\"Helvetica,sans-Serif\" font-size=\"14.00\" fill=\"#000000\">gini = 0.244</text>\n<text text-anchor=\"middle\" x=\"339\" y=\"-22.8\" font-family=\"Helvetica,sans-Serif\" font-size=\"14.00\" fill=\"#000000\">samples = 4347</text>\n<text text-anchor=\"middle\" x=\"339\" y=\"-7.8\" font-family=\"Helvetica,sans-Serif\" font-size=\"14.00\" fill=\"#000000\">value = [411.664, 2479.981]</text>\n</g>\n<!-- 2&#45;&gt;4 -->\n<g id=\"edge4\" class=\"edge\">\n<title>2&#45;&gt;4</title>\n<path fill=\"none\" stroke=\"#000000\" d=\"M339,-88.9777C339,-80.7364 339,-71.887 339,-63.5153\"/>\n<polygon fill=\"#000000\" stroke=\"#000000\" points=\"342.5001,-63.2484 339,-53.2485 335.5001,-63.2485 342.5001,-63.2484\"/>\n</g>\n<!-- 6 -->\n<g id=\"node7\" class=\"node\">\n<title>6</title>\n<path fill=\"#399de5\" fill-opacity=\"0.850980\" stroke=\"#000000\" d=\"M640.5,-53C640.5,-53 467.5,-53 467.5,-53 461.5,-53 455.5,-47 455.5,-41 455.5,-41 455.5,-12 455.5,-12 455.5,-6 461.5,0 467.5,0 467.5,0 640.5,0 640.5,0 646.5,0 652.5,-6 652.5,-12 652.5,-12 652.5,-41 652.5,-41 652.5,-47 646.5,-53 640.5,-53\"/>\n<text text-anchor=\"middle\" x=\"554\" y=\"-37.8\" font-family=\"Helvetica,sans-Serif\" font-size=\"14.00\" fill=\"#000000\">gini = 0.225</text>\n<text text-anchor=\"middle\" x=\"554\" y=\"-22.8\" font-family=\"Helvetica,sans-Serif\" font-size=\"14.00\" fill=\"#000000\">samples = 8562</text>\n<text text-anchor=\"middle\" x=\"554\" y=\"-7.8\" font-family=\"Helvetica,sans-Serif\" font-size=\"14.00\" fill=\"#000000\">value = [728.848, 4898.917]</text>\n</g>\n<!-- 5&#45;&gt;6 -->\n<g id=\"edge6\" class=\"edge\">\n<title>5&#45;&gt;6</title>\n<path fill=\"none\" stroke=\"#000000\" d=\"M613.5642,-88.9777C604.8343,-79.8207 595.3885,-69.9129 586.6471,-60.744\"/>\n<polygon fill=\"#000000\" stroke=\"#000000\" points=\"588.9347,-58.0712 579.5011,-53.2485 583.8682,-62.9014 588.9347,-58.0712\"/>\n</g>\n<!-- 7 -->\n<g id=\"node8\" class=\"node\">\n<title>7</title>\n<path fill=\"#e58139\" fill-opacity=\"0.325490\" stroke=\"#000000\" d=\"M831.5,-53C831.5,-53 682.5,-53 682.5,-53 676.5,-53 670.5,-47 670.5,-41 670.5,-41 670.5,-12 670.5,-12 670.5,-6 676.5,0 682.5,0 682.5,0 831.5,0 831.5,0 837.5,0 843.5,-6 843.5,-12 843.5,-12 843.5,-41 843.5,-41 843.5,-47 837.5,-53 831.5,-53\"/>\n<text text-anchor=\"middle\" x=\"757\" y=\"-37.8\" font-family=\"Helvetica,sans-Serif\" font-size=\"14.00\" fill=\"#000000\">gini = 0.481</text>\n<text text-anchor=\"middle\" x=\"757\" y=\"-22.8\" font-family=\"Helvetica,sans-Serif\" font-size=\"14.00\" fill=\"#000000\">samples = 112</text>\n<text text-anchor=\"middle\" x=\"757\" y=\"-7.8\" font-family=\"Helvetica,sans-Serif\" font-size=\"14.00\" fill=\"#000000\">value = [77.609, 52.241]</text>\n</g>\n<!-- 5&#45;&gt;7 -->\n<g id=\"edge7\" class=\"edge\">\n<title>5&#45;&gt;7</title>\n<path fill=\"none\" stroke=\"#000000\" d=\"M685.1344,-88.9777C695.9833,-79.546 707.7484,-69.3178 718.5574,-59.9208\"/>\n<polygon fill=\"#000000\" stroke=\"#000000\" points=\"720.9819,-62.4508 726.2323,-53.2485 716.3892,-57.1681 720.9819,-62.4508\"/>\n</g>\n<!-- 9 -->\n<g id=\"node10\" class=\"node\">\n<title>9</title>\n<path fill=\"#e58139\" fill-opacity=\"0.521569\" stroke=\"#000000\" d=\"M1172,-157C1172,-157 982,-157 982,-157 976,-157 970,-151 970,-145 970,-145 970,-101 970,-101 970,-95 976,-89 982,-89 982,-89 1172,-89 1172,-89 1178,-89 1184,-95 1184,-101 1184,-101 1184,-145 1184,-145 1184,-151 1178,-157 1172,-157\"/>\n<text text-anchor=\"middle\" x=\"1077\" y=\"-141.8\" font-family=\"Helvetica,sans-Serif\" font-size=\"14.00\" fill=\"#000000\">best &lt;= 0.036</text>\n<text text-anchor=\"middle\" x=\"1077\" y=\"-126.8\" font-family=\"Helvetica,sans-Serif\" font-size=\"14.00\" fill=\"#000000\">gini = 0.438</text>\n<text text-anchor=\"middle\" x=\"1077\" y=\"-111.8\" font-family=\"Helvetica,sans-Serif\" font-size=\"14.00\" fill=\"#000000\">samples = 21072</text>\n<text text-anchor=\"middle\" x=\"1077\" y=\"-96.8\" font-family=\"Helvetica,sans-Serif\" font-size=\"14.00\" fill=\"#000000\">value = [18960.163, 9070.569]</text>\n</g>\n<!-- 8&#45;&gt;9 -->\n<g id=\"edge9\" class=\"edge\">\n<title>8&#45;&gt;9</title>\n<path fill=\"none\" stroke=\"#000000\" d=\"M1077,-192.9465C1077,-184.776 1077,-175.9318 1077,-167.3697\"/>\n<polygon fill=\"#000000\" stroke=\"#000000\" points=\"1080.5001,-167.13 1077,-157.13 1073.5001,-167.13 1080.5001,-167.13\"/>\n</g>\n<!-- 12 -->\n<g id=\"node13\" class=\"node\">\n<title>12</title>\n<path fill=\"#399de5\" fill-opacity=\"0.435294\" stroke=\"#000000\" d=\"M1504,-157C1504,-157 1322,-157 1322,-157 1316,-157 1310,-151 1310,-145 1310,-145 1310,-101 1310,-101 1310,-95 1316,-89 1322,-89 1322,-89 1504,-89 1504,-89 1510,-89 1516,-95 1516,-101 1516,-101 1516,-145 1516,-145 1516,-151 1510,-157 1504,-157\"/>\n<text text-anchor=\"middle\" x=\"1413\" y=\"-141.8\" font-family=\"Helvetica,sans-Serif\" font-size=\"14.00\" fill=\"#000000\">reviews &lt;= 0.121</text>\n<text text-anchor=\"middle\" x=\"1413\" y=\"-126.8\" font-family=\"Helvetica,sans-Serif\" font-size=\"14.00\" fill=\"#000000\">gini = 0.461</text>\n<text text-anchor=\"middle\" x=\"1413\" y=\"-111.8\" font-family=\"Helvetica,sans-Serif\" font-size=\"14.00\" fill=\"#000000\">samples = 6014</text>\n<text text-anchor=\"middle\" x=\"1413\" y=\"-96.8\" font-family=\"Helvetica,sans-Serif\" font-size=\"14.00\" fill=\"#000000\">value = [1815.371, 3214.291]</text>\n</g>\n<!-- 8&#45;&gt;12 -->\n<g id=\"edge12\" class=\"edge\">\n<title>8&#45;&gt;12</title>\n<path fill=\"none\" stroke=\"#000000\" d=\"M1187.019,-192.9465C1223.299,-181.717 1263.6909,-169.2147 1300.1769,-157.9214\"/>\n<polygon fill=\"#000000\" stroke=\"#000000\" points=\"1301.341,-161.225 1309.859,-154.9246 1299.2712,-154.538 1301.341,-161.225\"/>\n</g>\n<!-- 10 -->\n<g id=\"node11\" class=\"node\">\n<title>10</title>\n<path fill=\"#e58139\" fill-opacity=\"0.576471\" stroke=\"#000000\" d=\"M1064,-53C1064,-53 874,-53 874,-53 868,-53 862,-47 862,-41 862,-41 862,-12 862,-12 862,-6 868,0 874,0 874,0 1064,0 1064,0 1070,0 1076,-6 1076,-12 1076,-12 1076,-41 1076,-41 1076,-47 1070,-53 1064,-53\"/>\n<text text-anchor=\"middle\" x=\"969\" y=\"-37.8\" font-family=\"Helvetica,sans-Serif\" font-size=\"14.00\" fill=\"#000000\">gini = 0.419</text>\n<text text-anchor=\"middle\" x=\"969\" y=\"-22.8\" font-family=\"Helvetica,sans-Serif\" font-size=\"14.00\" fill=\"#000000\">samples = 18631</text>\n<text text-anchor=\"middle\" x=\"969\" y=\"-7.8\" font-family=\"Helvetica,sans-Serif\" font-size=\"14.00\" fill=\"#000000\">value = [18248.187, 7761.608]</text>\n</g>\n<!-- 9&#45;&gt;10 -->\n<g id=\"edge10\" class=\"edge\">\n<title>9&#45;&gt;10</title>\n<path fill=\"none\" stroke=\"#000000\" d=\"M1038.9232,-88.9777C1028.3676,-79.546 1016.9204,-69.3178 1006.4036,-59.9208\"/>\n<polygon fill=\"#000000\" stroke=\"#000000\" points=\"1008.7251,-57.3015 998.9361,-53.2485 1004.061,-62.5213 1008.7251,-57.3015\"/>\n</g>\n<!-- 11 -->\n<g id=\"node12\" class=\"node\">\n<title>11</title>\n<path fill=\"#399de5\" fill-opacity=\"0.454902\" stroke=\"#000000\" d=\"M1279.5,-53C1279.5,-53 1106.5,-53 1106.5,-53 1100.5,-53 1094.5,-47 1094.5,-41 1094.5,-41 1094.5,-12 1094.5,-12 1094.5,-6 1100.5,0 1106.5,0 1106.5,0 1279.5,0 1279.5,0 1285.5,0 1291.5,-6 1291.5,-12 1291.5,-12 1291.5,-41 1291.5,-41 1291.5,-47 1285.5,-53 1279.5,-53\"/>\n<text text-anchor=\"middle\" x=\"1193\" y=\"-37.8\" font-family=\"Helvetica,sans-Serif\" font-size=\"14.00\" fill=\"#000000\">gini = 0.456</text>\n<text text-anchor=\"middle\" x=\"1193\" y=\"-22.8\" font-family=\"Helvetica,sans-Serif\" font-size=\"14.00\" fill=\"#000000\">samples = 2441</text>\n<text text-anchor=\"middle\" x=\"1193\" y=\"-7.8\" font-family=\"Helvetica,sans-Serif\" font-size=\"14.00\" fill=\"#000000\">value = [711.976, 1308.961]</text>\n</g>\n<!-- 9&#45;&gt;11 -->\n<g id=\"edge11\" class=\"edge\">\n<title>9&#45;&gt;11</title>\n<path fill=\"none\" stroke=\"#000000\" d=\"M1117.8973,-88.9777C1129.3449,-79.4545 1141.7687,-69.1191 1153.1545,-59.6473\"/>\n<polygon fill=\"#000000\" stroke=\"#000000\" points=\"1155.3971,-62.3345 1160.8464,-53.2485 1150.9203,-56.9532 1155.3971,-62.3345\"/>\n</g>\n<!-- 13 -->\n<g id=\"node14\" class=\"node\">\n<title>13</title>\n<path fill=\"#399de5\" fill-opacity=\"0.490196\" stroke=\"#000000\" d=\"M1504,-53C1504,-53 1322,-53 1322,-53 1316,-53 1310,-47 1310,-41 1310,-41 1310,-12 1310,-12 1310,-6 1316,0 1322,0 1322,0 1504,0 1504,0 1510,0 1516,-6 1516,-12 1516,-12 1516,-41 1516,-41 1516,-47 1510,-53 1504,-53\"/>\n<text text-anchor=\"middle\" x=\"1413\" y=\"-37.8\" font-family=\"Helvetica,sans-Serif\" font-size=\"14.00\" fill=\"#000000\">gini = 0.447</text>\n<text text-anchor=\"middle\" x=\"1413\" y=\"-22.8\" font-family=\"Helvetica,sans-Serif\" font-size=\"14.00\" fill=\"#000000\">samples = 5841</text>\n<text text-anchor=\"middle\" x=\"1413\" y=\"-7.8\" font-family=\"Helvetica,sans-Serif\" font-size=\"14.00\" fill=\"#000000\">value = [1606.164, 3149.136]</text>\n</g>\n<!-- 12&#45;&gt;13 -->\n<g id=\"edge13\" class=\"edge\">\n<title>12&#45;&gt;13</title>\n<path fill=\"none\" stroke=\"#000000\" d=\"M1413,-88.9777C1413,-80.7364 1413,-71.887 1413,-63.5153\"/>\n<polygon fill=\"#000000\" stroke=\"#000000\" points=\"1416.5001,-63.2484 1413,-53.2485 1409.5001,-63.2485 1416.5001,-63.2484\"/>\n</g>\n<!-- 14 -->\n<g id=\"node15\" class=\"node\">\n<title>14</title>\n<path fill=\"#e58139\" fill-opacity=\"0.690196\" stroke=\"#000000\" d=\"M1703.5,-53C1703.5,-53 1546.5,-53 1546.5,-53 1540.5,-53 1534.5,-47 1534.5,-41 1534.5,-41 1534.5,-12 1534.5,-12 1534.5,-6 1540.5,0 1546.5,0 1546.5,0 1703.5,0 1703.5,0 1709.5,0 1715.5,-6 1715.5,-12 1715.5,-12 1715.5,-41 1715.5,-41 1715.5,-47 1709.5,-53 1703.5,-53\"/>\n<text text-anchor=\"middle\" x=\"1625\" y=\"-37.8\" font-family=\"Helvetica,sans-Serif\" font-size=\"14.00\" fill=\"#000000\">gini = 0.362</text>\n<text text-anchor=\"middle\" x=\"1625\" y=\"-22.8\" font-family=\"Helvetica,sans-Serif\" font-size=\"14.00\" fill=\"#000000\">samples = 173</text>\n<text text-anchor=\"middle\" x=\"1625\" y=\"-7.8\" font-family=\"Helvetica,sans-Serif\" font-size=\"14.00\" fill=\"#000000\">value = [209.206, 65.155]</text>\n</g>\n<!-- 12&#45;&gt;14 -->\n<g id=\"edge14\" class=\"edge\">\n<title>12&#45;&gt;14</title>\n<path fill=\"none\" stroke=\"#000000\" d=\"M1487.7433,-88.9777C1510.3785,-78.6744 1535.102,-67.4205 1557.2519,-57.3381\"/>\n<polygon fill=\"#000000\" stroke=\"#000000\" points=\"1558.9222,-60.4235 1566.5736,-53.095 1556.0221,-54.0525 1558.9222,-60.4235\"/>\n</g>\n</g>\n</svg>\n"
          },
          "metadata": {
            "tags": []
          },
          "execution_count": 82
        }
      ]
    },
    {
      "cell_type": "markdown",
      "metadata": {
        "id": "NVhl_V6MiWO5",
        "colab_type": "text"
      },
      "source": [
        "##  Applying Decision Trees on AVG W2V,<font color='red'> SET 3</font>"
      ]
    },
    {
      "cell_type": "code",
      "metadata": {
        "id": "sEgMQq6CzJJL",
        "colab_type": "code",
        "outputId": "f3044c3b-b7a7-438c-8f0b-8e299147c8f3",
        "colab": {
          "base_uri": "https://localhost:8080/",
          "height": 212
        }
      },
      "source": [
        "\n",
        "dt_model_avgw2v=DecisionTreeClassifier(class_weight='balanced')\n",
        "parameters={'max_depth':[5, 10, 50,75, 100, 500],\n",
        "           'min_samples_split':[5, 10, 20,50,100, 500]}\n",
        "clf_avgw2v=GridSearchCV(dt_model_avgw2v,parameters,cv=10,scoring='roc_auc',n_jobs=-1)\n",
        "clf_avgw2v.fit(sent_vectors_train, y_train)"
      ],
      "execution_count": 83,
      "outputs": [
        {
          "output_type": "execute_result",
          "data": {
            "text/plain": [
              "GridSearchCV(cv=10, error_score='raise-deprecating',\n",
              "       estimator=DecisionTreeClassifier(class_weight='balanced', criterion='gini',\n",
              "            max_depth=None, max_features=None, max_leaf_nodes=None,\n",
              "            min_impurity_decrease=0.0, min_impurity_split=None,\n",
              "            min_samples_leaf=1, min_samples_split=2,\n",
              "            min_weight_fraction_leaf=0.0, presort=False, random_state=None,\n",
              "            splitter='best'),\n",
              "       fit_params=None, iid='warn', n_jobs=-1,\n",
              "       param_grid={'max_depth': [5, 10, 50, 75, 100, 500], 'min_samples_split': [5, 10, 20, 50, 100, 500]},\n",
              "       pre_dispatch='2*n_jobs', refit=True, return_train_score='warn',\n",
              "       scoring='roc_auc', verbose=0)"
            ]
          },
          "metadata": {
            "tags": []
          },
          "execution_count": 83
        }
      ]
    },
    {
      "cell_type": "code",
      "metadata": {
        "id": "lSXAmuulzJNa",
        "colab_type": "code",
        "outputId": "f6ddb55c-e13b-4e55-e871-39d280869dfa",
        "colab": {
          "base_uri": "https://localhost:8080/",
          "height": 123
        }
      },
      "source": [
        "#max_depth=[5, 10, 50,75, 100, 500]\n",
        "#min_samples_split=[5, 10, 20,50,100, 500] Please write all the code with proper documentation\n",
        "\n",
        "\n",
        "print(\"best estimator is :\",clf_avgw2v.best_estimator_)"
      ],
      "execution_count": 84,
      "outputs": [
        {
          "output_type": "stream",
          "text": [
            "best estimator is : DecisionTreeClassifier(class_weight='balanced', criterion='gini',\n",
            "            max_depth=10, max_features=None, max_leaf_nodes=None,\n",
            "            min_impurity_decrease=0.0, min_impurity_split=None,\n",
            "            min_samples_leaf=1, min_samples_split=500,\n",
            "            min_weight_fraction_leaf=0.0, presort=False, random_state=None,\n",
            "            splitter='best')\n"
          ],
          "name": "stdout"
        }
      ]
    },
    {
      "cell_type": "code",
      "metadata": {
        "id": "paoLgWsSN4vn",
        "colab_type": "code",
        "colab": {
          "base_uri": "https://localhost:8080/",
          "height": 458
        },
        "outputId": "eb574f4f-a1de-45b2-f199-213f989b8717"
      },
      "source": [
        "\n",
        "#Heatmap of Train AUC\n",
        "\n",
        "max_depth=[5, 10, 50,75, 100, 500]\n",
        "min_samples_split=[5, 10, 20,50,100, 500]\n",
        "\n",
        "train_auc_avgw2v = clf_avgw2v.cv_results_[\"mean_train_score\"].reshape(len(max_depth) ,len(min_samples_split))\n",
        "cv_auc_avgw2v = clf_avgw2v.cv_results_[\"mean_test_score\"].reshape(len(max_depth) ,len(min_samples_split))\n",
        "\n",
        "plt.figure(figsize = (7,7))\n",
        "sns.heatmap(train_auc_avgw2v ,annot = True, fmt = \".3f\" ,xticklabels = max_depth ,yticklabels = min_samples_split)\n",
        "plt.xlabel(\"max_depth\")\n",
        "plt.ylabel(\"min_samples_split\")\n",
        "\n",
        "plt.xticks(np.arange(len(max_depth)),max_depth)\n",
        "plt.yticks(np.arange(len(min_samples_split)),min_samples_split)\n",
        "\n",
        "plt.title(\"Train AUC\")\n",
        "\n",
        "plt.show()"
      ],
      "execution_count": 85,
      "outputs": [
        {
          "output_type": "display_data",
          "data": {
            "image/png": "[encoded data removed]",
            "text/plain": [
              "<Figure size 504x504 with 2 Axes>"
            ]
          },
          "metadata": {
            "tags": []
          }
        }
      ]
    },
    {
      "cell_type": "code",
      "metadata": {
        "id": "Rl9rThcRP4ls",
        "colab_type": "code",
        "colab": {
          "base_uri": "https://localhost:8080/",
          "height": 295
        },
        "outputId": "6aef0ec7-aee9-4ab9-b69f-bc24a75a7119"
      },
      "source": [
        "#Heatmap of CV AUC\n",
        "\n",
        "sns.heatmap(cv_auc_avgw2v ,annot = True, fmt = \".3f\" ,xticklabels = max_depth ,yticklabels = min_samples_split)\n",
        "plt.xlabel(\"max_depth\")\n",
        "plt.ylabel(\"min_samples_split\")\n",
        "\n",
        "plt.xticks(np.arange(len(max_depth)),max_depth)\n",
        "plt.yticks(np.arange(len(min_samples_split)),min_samples_split)\n",
        "\n",
        "plt.title(\"CV AUC\")\n",
        "\n",
        "plt.show()"
      ],
      "execution_count": 87,
      "outputs": [
        {
          "output_type": "display_data",
          "data": {
            "image/png": "[encoded data removed]",
            "text/plain": [
              "<Figure size 432x288 with 2 Axes>"
            ]
          },
          "metadata": {
            "tags": []
          }
        }
      ]
    },
    {
      "cell_type": "code",
      "metadata": {
        "id": "Y8uUNbo3zJSc",
        "colab_type": "code",
        "outputId": "9cb91a99-5c0f-42d8-9213-10c62918f6cb",
        "colab": {
          "base_uri": "https://localhost:8080/",
          "height": 418
        }
      },
      "source": [
        "#Testing with test data\n",
        "\n",
        "dt_avgw2v = DecisionTreeClassifier(class_weight='balanced' ,min_samples_split=500 , max_depth=10)\n",
        "dt_avgw2v.fit(sent_vectors_train, y_train)\n",
        "\n",
        "\n",
        "train_fpr_avgw2v, train_tpr_avgw2v, thresholds_avgw2v = roc_curve(y_train, dt_avgw2v.predict_proba(sent_vectors_train)[:,1])\n",
        "test_fpr_avgw2v, test_tpr_avgw2v, thresholds_avgw2v = roc_curve(y_test, dt_avgw2v.predict_proba(sent_vectors_test)[:,1])\n",
        "\n",
        "plt.plot(train_fpr_avgw2v, train_tpr_avgw2v, label=\"train AUC =\"+str(auc(train_fpr_avgw2v, train_tpr_avgw2v)))\n",
        "plt.plot(test_fpr_avgw2v, test_tpr_avgw2v, label=\"test AUC =\"+str(auc(test_fpr_avgw2v, test_tpr_avgw2v)))\n",
        "plt.legend()\n",
        "plt.xlabel(\"FPR\")\n",
        "plt.ylabel(\"TPR\")\n",
        "plt.title(\"ERROR PLOTS\")\n",
        "plt.show()\n",
        "\n",
        "print(\"=\"*100)\n",
        "\n",
        "from sklearn.metrics import confusion_matrix\n",
        "print(\"Train confusion matrix\")\n",
        "print(confusion_matrix(y_train, dt_avgw2v.predict(sent_vectors_train)))\n",
        "print(\"Test confusion matrix\")\n",
        "print(confusion_matrix(y_test, dt_avgw2v.predict(sent_vectors_test)))"
      ],
      "execution_count": 88,
      "outputs": [
        {
          "output_type": "display_data",
          "data": {
            "image/png": "[encoded data removed]",
            "text/plain": [
              "<Figure size 432x288 with 1 Axes>"
            ]
          },
          "metadata": {
            "tags": []
          }
        },
        {
          "output_type": "stream",
          "text": [
            "====================================================================================================\n",
            "Train confusion matrix\n",
            "[[ 8381  1547]\n",
            " [14578 42494]]\n",
            "Test confusion matrix\n",
            "[[ 3831  1017]\n",
            " [ 7397 20755]]\n"
          ],
          "name": "stdout"
        }
      ]
    },
    {
      "cell_type": "code",
      "metadata": {
        "id": "JdgF7U-szJW-",
        "colab_type": "code",
        "outputId": "c02cbea4-3ab6-45a6-9879-b5b3e15bc235",
        "colab": {
          "base_uri": "https://localhost:8080/",
          "height": 330
        }
      },
      "source": [
        "print(\"Heatmap of train confusion matrix\")\n",
        "import seaborn as sns\n",
        "confusion_matrix_train_avgw2v = confusion_matrix(y_train, dt_avgw2v.predict(sent_vectors_train))\n",
        "\n",
        "df_cm=pd.DataFrame(confusion_matrix_train_avgw2v,index=[\"Negative:0\",\"Positive:1\"],columns=[\"Negative\",\"Positive\"],)\n",
        "sns.heatmap(df_cm,annot=True,fmt='d')\n",
        "plt.title(\"Confusion Matrix\")\n",
        "plt.xlabel(\"Predicted Class\")\n",
        "plt.ylabel(\"Actual Class\")"
      ],
      "execution_count": 89,
      "outputs": [
        {
          "output_type": "stream",
          "text": [
            "Heatmap of train confusion matrix\n"
          ],
          "name": "stdout"
        },
        {
          "output_type": "execute_result",
          "data": {
            "text/plain": [
              "Text(33.0, 0.5, 'Actual Class')"
            ]
          },
          "metadata": {
            "tags": []
          },
          "execution_count": 89
        },
        {
          "output_type": "display_data",
          "data": {
            "image/png": "[encoded data removed]",
            "text/plain": [
              "<Figure size 432x288 with 2 Axes>"
            ]
          },
          "metadata": {
            "tags": []
          }
        }
      ]
    },
    {
      "cell_type": "code",
      "metadata": {
        "id": "iW8hjzS3BuyT",
        "colab_type": "code",
        "outputId": "c3887184-d31d-4771-dfec-e59cb1bdfc0c",
        "colab": {
          "base_uri": "https://localhost:8080/",
          "height": 330
        }
      },
      "source": [
        "print(\"Heatmap of test confusion matrix\")\n",
        "import seaborn as sns\n",
        "confusion_matrix_train_avgw2v = confusion_matrix(y_test, dt_avgw2v.predict(sent_vectors_test))\n",
        "\n",
        "df_cm=pd.DataFrame(confusion_matrix_train_avgw2v,index=[\"Negative:0\",\"Positive:1\"],columns=[\"Negative\",\"Positive\"],)\n",
        "sns.heatmap(df_cm,annot=True,fmt='d')\n",
        "plt.title(\"Confusion Matrix\")\n",
        "plt.xlabel(\"Predicted Class\")\n",
        "plt.ylabel(\"Actual Class\")"
      ],
      "execution_count": 90,
      "outputs": [
        {
          "output_type": "stream",
          "text": [
            "Heatmap of test confusion matrix\n"
          ],
          "name": "stdout"
        },
        {
          "output_type": "execute_result",
          "data": {
            "text/plain": [
              "Text(33.0, 0.5, 'Actual Class')"
            ]
          },
          "metadata": {
            "tags": []
          },
          "execution_count": 90
        },
        {
          "output_type": "display_data",
          "data": {
            "image/png": "[encoded data removed]",
            "text/plain": [
              "<Figure size 432x288 with 2 Axes>"
            ]
          },
          "metadata": {
            "tags": []
          }
        }
      ]
    },
    {
      "cell_type": "markdown",
      "metadata": {
        "id": "PnwVzXytiWO7",
        "colab_type": "text"
      },
      "source": [
        "##  Applying Decision Trees on TFIDF W2V,<font color='red'> SET 4</font>"
      ]
    },
    {
      "cell_type": "code",
      "metadata": {
        "id": "YqODkVCgiWO7",
        "colab_type": "code",
        "outputId": "afb8e275-2dc8-4d74-c535-647fb3ac7cb7",
        "colab": {
          "base_uri": "https://localhost:8080/",
          "height": 212
        }
      },
      "source": [
        "\n",
        "dt_model_tfidfw2v=DecisionTreeClassifier(class_weight='balanced')\n",
        "parameters={'max_depth':[5, 10, 50,75, 100, 500],\n",
        "           'min_samples_split':[5, 10, 20,50,100, 500]}\n",
        "clf_tfidfw2v=GridSearchCV(dt_model_tfidfw2v,parameters,cv=10,scoring='roc_auc',n_jobs=-1)\n",
        "clf_tfidfw2v.fit(w2v_tfidf_sent_vectors_train, y_train)"
      ],
      "execution_count": 91,
      "outputs": [
        {
          "output_type": "execute_result",
          "data": {
            "text/plain": [
              "GridSearchCV(cv=10, error_score='raise-deprecating',\n",
              "       estimator=DecisionTreeClassifier(class_weight='balanced', criterion='gini',\n",
              "            max_depth=None, max_features=None, max_leaf_nodes=None,\n",
              "            min_impurity_decrease=0.0, min_impurity_split=None,\n",
              "            min_samples_leaf=1, min_samples_split=2,\n",
              "            min_weight_fraction_leaf=0.0, presort=False, random_state=None,\n",
              "            splitter='best'),\n",
              "       fit_params=None, iid='warn', n_jobs=-1,\n",
              "       param_grid={'max_depth': [5, 10, 50, 75, 100, 500], 'min_samples_split': [5, 10, 20, 50, 100, 500]},\n",
              "       pre_dispatch='2*n_jobs', refit=True, return_train_score='warn',\n",
              "       scoring='roc_auc', verbose=0)"
            ]
          },
          "metadata": {
            "tags": []
          },
          "execution_count": 91
        }
      ]
    },
    {
      "cell_type": "code",
      "metadata": {
        "id": "yMq8QFN1EXmh",
        "colab_type": "code",
        "outputId": "4c244a4a-6d34-4e3f-a83a-6d73cf61f1db",
        "colab": {
          "base_uri": "https://localhost:8080/",
          "height": 123
        }
      },
      "source": [
        "print(\"best estimator is :\",clf_tfidfw2v.best_estimator_)"
      ],
      "execution_count": 93,
      "outputs": [
        {
          "output_type": "stream",
          "text": [
            "best estimator is : DecisionTreeClassifier(class_weight='balanced', criterion='gini',\n",
            "            max_depth=10, max_features=None, max_leaf_nodes=None,\n",
            "            min_impurity_decrease=0.0, min_impurity_split=None,\n",
            "            min_samples_leaf=1, min_samples_split=500,\n",
            "            min_weight_fraction_leaf=0.0, presort=False, random_state=None,\n",
            "            splitter='best')\n"
          ],
          "name": "stdout"
        }
      ]
    },
    {
      "cell_type": "code",
      "metadata": {
        "id": "BC-dFEDnhvS_",
        "colab_type": "code",
        "colab": {
          "base_uri": "https://localhost:8080/",
          "height": 458
        },
        "outputId": "0b11b924-048b-4ba7-c5b1-6140d375295a"
      },
      "source": [
        "\n",
        "#Heatmap of Train AUC\n",
        "\n",
        "max_depth=[5, 10, 50,75, 100, 500]\n",
        "min_samples_split=[5, 10, 20,50,100, 500]\n",
        "\n",
        "train_auc_tfidfw2v = clf_tfidfw2v.cv_results_[\"mean_train_score\"].reshape(len(max_depth) ,len(min_samples_split))\n",
        "cv_auc_tfidfw2v = clf_tfidfw2v.cv_results_[\"mean_test_score\"].reshape(len(max_depth) ,len(min_samples_split))\n",
        "\n",
        "plt.figure(figsize = (7,7))\n",
        "sns.heatmap(train_auc_tfidfw2v ,annot = True, fmt = \".3f\" ,xticklabels = max_depth ,yticklabels = min_samples_split)\n",
        "plt.xlabel(\"max_depth\")\n",
        "plt.ylabel(\"min_samples_split\")\n",
        "\n",
        "plt.xticks(np.arange(len(max_depth)),max_depth)\n",
        "plt.yticks(np.arange(len(min_samples_split)),min_samples_split)\n",
        "\n",
        "plt.title(\"Train AUC\")\n",
        "\n",
        "plt.show()"
      ],
      "execution_count": 95,
      "outputs": [
        {
          "output_type": "display_data",
          "data": {
            "image/png": "[encoded data removed]",
            "text/plain": [
              "<Figure size 504x504 with 2 Axes>"
            ]
          },
          "metadata": {
            "tags": []
          }
        }
      ]
    },
    {
      "cell_type": "code",
      "metadata": {
        "id": "pdxS8T-fiC35",
        "colab_type": "code",
        "colab": {
          "base_uri": "https://localhost:8080/",
          "height": 295
        },
        "outputId": "06ec39ea-da5d-4f43-df64-89ea67ab676a"
      },
      "source": [
        "\n",
        "#Heatmap of CV AUC\n",
        "\n",
        "sns.heatmap(cv_auc_tfidfw2v ,annot = True, fmt = \".3f\" ,xticklabels = max_depth ,yticklabels = min_samples_split)\n",
        "plt.xlabel(\"max_depth\")\n",
        "plt.ylabel(\"min_samples_split\")\n",
        "\n",
        "plt.xticks(np.arange(len(max_depth)),max_depth)\n",
        "plt.yticks(np.arange(len(min_samples_split)),min_samples_split)\n",
        "\n",
        "plt.title(\"Train AUC\")\n",
        "\n",
        "plt.show()"
      ],
      "execution_count": 96,
      "outputs": [
        {
          "output_type": "display_data",
          "data": {
            "image/png": "[encoded data removed]",
            "text/plain": [
              "<Figure size 432x288 with 2 Axes>"
            ]
          },
          "metadata": {
            "tags": []
          }
        }
      ]
    },
    {
      "cell_type": "code",
      "metadata": {
        "id": "hM8nOX95EjlF",
        "colab_type": "code",
        "outputId": "47cb0d1c-f07b-4df3-9866-4c0da88a5865",
        "colab": {
          "base_uri": "https://localhost:8080/",
          "height": 418
        }
      },
      "source": [
        "#Testing with test data\n",
        "\n",
        "dt_tfidfw2v = DecisionTreeClassifier(class_weight='balanced' ,min_samples_split=500 , max_depth=10)\n",
        "dt_tfidfw2v.fit(w2v_tfidf_sent_vectors_train, y_train)\n",
        "\n",
        "\n",
        "train_fpr_tfidfw2v, train_tpr_tfidfw2v, thresholds_tfidfw2v = roc_curve(y_train, dt_tfidfw2v.predict_proba(w2v_tfidf_sent_vectors_train)[:,1])\n",
        "test_fpr_tfidfw2v, test_tpr_tfidfw2v, thresholds_tfidfw2v = roc_curve(y_test, dt_tfidfw2v.predict_proba(w2v_tfidf_sent_vectors_test)[:,1])\n",
        "\n",
        "plt.plot(train_fpr_tfidfw2v, train_tpr_tfidfw2v, label=\"train AUC =\"+str(auc(train_fpr_tfidfw2v, train_tpr_tfidfw2v)))\n",
        "plt.plot(test_fpr_tfidfw2v, test_tpr_tfidfw2v, label=\"test AUC =\"+str(auc(test_fpr_tfidfw2v, test_tpr_tfidfw2v)))\n",
        "plt.legend()\n",
        "plt.xlabel(\"FPR\")\n",
        "plt.ylabel(\"TPR\")\n",
        "plt.title(\"ERROR PLOTS\")\n",
        "plt.show()\n",
        "\n",
        "print(\"=\"*100)\n",
        "\n",
        "from sklearn.metrics import confusion_matrix\n",
        "print(\"Train confusion matrix\")\n",
        "print(confusion_matrix(y_train, dt_tfidfw2v.predict(w2v_tfidf_sent_vectors_train)))\n",
        "print(\"Test confusion matrix\")\n",
        "print(confusion_matrix(y_test, dt_tfidfw2v.predict(w2v_tfidf_sent_vectors_test)))"
      ],
      "execution_count": 94,
      "outputs": [
        {
          "output_type": "display_data",
          "data": {
            "image/png": "[encoded data removed]",
            "text/plain": [
              "<Figure size 432x288 with 1 Axes>"
            ]
          },
          "metadata": {
            "tags": []
          }
        },
        {
          "output_type": "stream",
          "text": [
            "====================================================================================================\n",
            "Train confusion matrix\n",
            "[[ 8197  1731]\n",
            " [15548 41524]]\n",
            "Test confusion matrix\n",
            "[[ 3633  1215]\n",
            " [ 7974 20178]]\n"
          ],
          "name": "stdout"
        }
      ]
    },
    {
      "cell_type": "code",
      "metadata": {
        "id": "ZgSAADH7GTKl",
        "colab_type": "code",
        "outputId": "c5219331-3587-413a-d088-a226a1b3f4b2",
        "colab": {
          "base_uri": "https://localhost:8080/",
          "height": 330
        }
      },
      "source": [
        "print(\"Heatmap of train confusion matrix\")\n",
        "import seaborn as sns\n",
        "confusion_matrix_train_tfidfw2v = confusion_matrix(y_train, dt_tfidfw2v.predict(w2v_tfidf_sent_vectors_train))\n",
        "\n",
        "df_cm=pd.DataFrame(confusion_matrix_train_tfidfw2v,index=[\"Negative:0\",\"Positive:1\"],columns=[\"Negative\",\"Positive\"],)\n",
        "sns.heatmap(df_cm,annot=True,fmt='d')\n",
        "plt.title(\"Confusion Matrix\")\n",
        "plt.xlabel(\"Predicted Class\")\n",
        "plt.ylabel(\"Actual Class\")"
      ],
      "execution_count": 97,
      "outputs": [
        {
          "output_type": "stream",
          "text": [
            "Heatmap of train confusion matrix\n"
          ],
          "name": "stdout"
        },
        {
          "output_type": "execute_result",
          "data": {
            "text/plain": [
              "Text(33.0, 0.5, 'Actual Class')"
            ]
          },
          "metadata": {
            "tags": []
          },
          "execution_count": 97
        },
        {
          "output_type": "display_data",
          "data": {
            "image/png": "[encoded data removed]",
            "text/plain": [
              "<Figure size 432x288 with 2 Axes>"
            ]
          },
          "metadata": {
            "tags": []
          }
        }
      ]
    },
    {
      "cell_type": "code",
      "metadata": {
        "id": "6C0W617yGUUE",
        "colab_type": "code",
        "outputId": "0d4ae72a-af5d-4e64-e0bb-12098e68c7ca",
        "colab": {
          "base_uri": "https://localhost:8080/",
          "height": 330
        }
      },
      "source": [
        "print(\"Heatmap of test confusion matrix\")\n",
        "import seaborn as sns\n",
        "confusion_matrix_test_tfidfw2v = confusion_matrix(y_test, dt_tfidfw2v.predict(w2v_tfidf_sent_vectors_test))\n",
        "\n",
        "df_cm=pd.DataFrame(confusion_matrix_test_tfidfw2v,index=[\"Negative:0\",\"Positive:1\"],columns=[\"Negative\",\"Positive\"],)\n",
        "sns.heatmap(df_cm,annot=True,fmt='d')\n",
        "plt.title(\"Confusion Matrix\")\n",
        "plt.xlabel(\"Predicted Class\")\n",
        "plt.ylabel(\"Actual Class\")"
      ],
      "execution_count": 98,
      "outputs": [
        {
          "output_type": "stream",
          "text": [
            "Heatmap of test confusion matrix\n"
          ],
          "name": "stdout"
        },
        {
          "output_type": "execute_result",
          "data": {
            "text/plain": [
              "Text(33.0, 0.5, 'Actual Class')"
            ]
          },
          "metadata": {
            "tags": []
          },
          "execution_count": 98
        },
        {
          "output_type": "display_data",
          "data": {
            "image/png": "[encoded data removed]",
            "text/plain": [
              "<Figure size 432x288 with 2 Axes>"
            ]
          },
          "metadata": {
            "tags": []
          }
        }
      ]
    },
    {
      "cell_type": "markdown",
      "metadata": {
        "id": "Em-rF6u2iWO8",
        "colab_type": "text"
      },
      "source": [
        "#  Conclusions"
      ]
    },
    {
      "cell_type": "code",
      "metadata": {
        "id": "3Hnu2QziiWO9",
        "colab_type": "code",
        "outputId": "7a72598a-b57b-49fb-94d2-be46333b11b5",
        "colab": {
          "base_uri": "https://localhost:8080/",
          "height": 158
        }
      },
      "source": [
        "# Please compare all your models using Prettytable library\n",
        "from prettytable import PrettyTable\n",
        "\n",
        "X=PrettyTable()\n",
        "X.field_names=[\"Model_Name\",\"Train_Accuracy\",\"Test_Accuracy\",\"Best max_depth\" ,\"Best min_samples_split\"]\n",
        "X.add_row([\"Decision Tree With BOW\", 88.17, 81.58,50, 500])\n",
        "X.add_row([\"Decsion Tree  With TFIDF\",90.39, 80.07,50,500])\n",
        "X.add_row([\"Decsion Tree With AVG W2V\", 88.77, 83.96,10,500])\n",
        "X.add_row([\"Decision Tree With TFIDF-AvgW2V\", 85.95,80.71,10,500])\n",
        "\n",
        "print(X)"
      ],
      "execution_count": 99,
      "outputs": [
        {
          "output_type": "stream",
          "text": [
            "+---------------------------------+----------------+---------------+----------------+------------------------+\n",
            "|            Model_Name           | Train_Accuracy | Test_Accuracy | Best max_depth | Best min_samples_split |\n",
            "+---------------------------------+----------------+---------------+----------------+------------------------+\n",
            "|      Decision Tree With BOW     |     88.17      |     81.58     |       50       |          500           |\n",
            "|     Decsion Tree  With TFIDF    |     90.39      |     80.07     |       50       |          500           |\n",
            "|    Decsion Tree With AVG W2V    |     88.77      |     83.96     |       10       |          500           |\n",
            "| Decision Tree With TFIDF-AvgW2V |     85.95      |     80.71     |       10       |          500           |\n",
            "+---------------------------------+----------------+---------------+----------------+------------------------+\n"
          ],
          "name": "stdout"
        }
      ]
    },
    {
      "cell_type": "code",
      "metadata": {
        "id": "DKk3Y_fSZDqK",
        "colab_type": "code",
        "colab": {}
      },
      "source": [
        "#almost all model slightly got overfitted but model 2(decision tree with TFIDF) is the most overfit model among others models."
      ],
      "execution_count": 0,
      "outputs": []
    }
  ]
}