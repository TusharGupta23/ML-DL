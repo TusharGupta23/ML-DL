{
  "nbformat": 4,
  "nbformat_minor": 0,
  "metadata": {
    "colab": {
      "name": "03_Amazon_Fine_Food_Reviews_Analysis_KNN.ipynb",
      "version": "0.3.2",
      "provenance": [],
      "collapsed_sections": []
    },
    "language_info": {
      "codemirror_mode": {
        "name": "ipython",
        "version": 3
      },
      "file_extension": ".py",
      "mimetype": "text/x-python",
      "name": "python",
      "nbconvert_exporter": "python",
      "pygments_lexer": "ipython3",
      "version": "3.6.4"
    },
    "kernelspec": {
      "display_name": "Python 3",
      "language": "python",
      "name": "python3"
    }
  },
  "cells": [
    {
      "metadata": {
        "colab_type": "text",
        "id": "9XR1IDpNseyl"
      },
      "cell_type": "markdown",
      "source": [
        "# Amazon Fine Food Reviews Analysis\n",
        "\n",
        "\n",
        "Data Source: https://www.kaggle.com/snap/amazon-fine-food-reviews <br>\n",
        "\n",
        "EDA: https://nycdatascience.com/blog/student-works/amazon-fine-foods-visualization/\n",
        "\n",
        "\n",
        "The Amazon Fine Food Reviews dataset consists of reviews of fine foods from Amazon.<br>\n",
        "\n",
        "Number of reviews: 568,454<br>\n",
        "Number of users: 256,059<br>\n",
        "Number of products: 74,258<br>\n",
        "Timespan: Oct 1999 - Oct 2012<br>\n",
        "Number of Attributes/Columns in data: 10 \n",
        "\n",
        "Attribute Information:\n",
        "\n",
        "1. Id\n",
        "2. ProductId - unique identifier for the product\n",
        "3. UserId - unqiue identifier for the user\n",
        "4. ProfileName\n",
        "5. HelpfulnessNumerator - number of users who found the review helpful\n",
        "6. HelpfulnessDenominator - number of users who indicated whether they found the review helpful or not\n",
        "7. Score - rating between 1 and 5\n",
        "8. Time - timestamp for the review\n",
        "9. Summary - brief summary of the review\n",
        "10. Text - text of the review\n",
        "\n",
        "\n",
        "#### Objective:\n",
        "Given a review, determine whether the review is positive (rating of 4 or 5) or negative (rating of 1 or 2).\n",
        "\n",
        "<br>\n",
        "[Q] How to determine if a review is positive or negative?<br>\n",
        "<br> \n",
        "[Ans] We could use Score/Rating. A rating of 4 or 5 can be cosnidered as a positive review. A rating of 1 or 2 can be considered as negative one. A review of rating 3 is considered nuetral and such reviews are ignored from our analysis. This is an approximate and proxy way of determining the polarity (positivity/negativity) of a review.\n",
        "\n",
        "\n"
      ]
    },
    {
      "metadata": {
        "colab_type": "text",
        "id": "FhdnBr7aseyo"
      },
      "cell_type": "markdown",
      "source": [
        "# [1]. Reading Data"
      ]
    },
    {
      "metadata": {
        "colab_type": "text",
        "id": "u10ZYLQYseyq"
      },
      "cell_type": "markdown",
      "source": [
        "## [1.1] Loading the data\n",
        "\n",
        "The dataset is available in two forms\n",
        "1. .csv file\n",
        "2. SQLite Database\n",
        "\n",
        "In order to load the data, We have used the SQLITE dataset as it is easier to query the data and visualise the data efficiently.\n",
        "<br> \n",
        "\n",
        "Here as we only want to get the global sentiment of the recommendations (positive or negative), we will purposefully ignore all Scores equal to 3. If the score is above 3, then the recommendation wil be set to \"positive\". Otherwise, it will be set to \"negative\"."
      ]
    },
    {
      "metadata": {
        "colab_type": "code",
        "id": "gZBIddMFseyr",
        "colab": {}
      },
      "cell_type": "code",
      "source": [
        "%matplotlib inline\n",
        "import warnings\n",
        "warnings.filterwarnings(\"ignore\")\n",
        "\n",
        "\n",
        "import sqlite3\n",
        "import pandas as pd\n",
        "import numpy as np\n",
        "import nltk\n",
        "import string\n",
        "import matplotlib.pyplot as plt\n",
        "import seaborn as sns\n",
        "from sklearn.feature_extraction.text import TfidfTransformer\n",
        "from sklearn.feature_extraction.text import TfidfVectorizer\n",
        "\n",
        "from sklearn.feature_extraction.text import CountVectorizer\n",
        "from sklearn.metrics import confusion_matrix\n",
        "from sklearn import metrics\n",
        "\n",
        "\n",
        "from nltk.stem.porter import PorterStemmer\n",
        "\n",
        "import re\n",
        "# Tutorial about Python regular expressions: https://pymotw.com/2/re/\n",
        "import string\n",
        "from nltk.corpus import stopwords\n",
        "from nltk.stem import PorterStemmer\n",
        "from nltk.stem.wordnet import WordNetLemmatizer\n",
        "\n",
        "from gensim.models import Word2Vec\n",
        "from gensim.models import KeyedVectors\n",
        "import pickle\n",
        "\n",
        "from tqdm import tqdm\n",
        "import os"
      ],
      "execution_count": 0,
      "outputs": []
    },
    {
      "metadata": {
        "colab_type": "code",
        "id": "j3jBR3bYt2mF",
        "outputId": "0867a37b-0130-4173-9eef-61c5eb005b83",
        "colab": {
          "base_uri": "https://localhost:8080/",
          "height": 125
        }
      },
      "cell_type": "code",
      "source": [
        "from google.colab import drive\n",
        "drive.mount('/content/drive')"
      ],
      "execution_count": 3,
      "outputs": [
        {
          "output_type": "stream",
          "text": [
            "Go to this URL in a browser: https://accounts.google.com/o/oauth2/auth?client_id=947318989803-6bn6qk8qdgf4n4g3pfee6491hc0brc4i.apps.googleusercontent.com&redirect_uri=urn%3Aietf%3Awg%3Aoauth%3A2.0%3Aoob&scope=email%20https%3A%2F%2Fwww.googleapis.com%2Fauth%2Fdocs.test%20https%3A%2F%2Fwww.googleapis.com%2Fauth%2Fdrive%20https%3A%2F%2Fwww.googleapis.com%2Fauth%2Fdrive.photos.readonly%20https%3A%2F%2Fwww.googleapis.com%2Fauth%2Fpeopleapi.readonly&response_type=code\n",
            "\n",
            "Enter your authorization code:\n",
            "··········\n",
            "Mounted at /content/drive\n"
          ],
          "name": "stdout"
        }
      ]
    },
    {
      "metadata": {
        "colab_type": "code",
        "id": "ZRrmIuYzsey0",
        "outputId": "0d6ee08d-4b25-4e75-ffa9-0a8cc31393e2",
        "colab": {
          "base_uri": "https://localhost:8080/",
          "height": 205
        }
      },
      "cell_type": "code",
      "source": [
        "# using SQLite Table to read data.\n",
        "con = sqlite3.connect('/content/drive/My Drive/Colab Notebooks/database.sqlite') \n",
        "\n",
        "# filtering only positive and negative reviews i.e. \n",
        "# not taking into consideration those reviews with Score=3\n",
        "# SELECT * FROM Reviews WHERE Score != 3 LIMIT 500000, will give top 500000 data points\n",
        "# you can change the number to any other number based on your computing power\n",
        "\n",
        "# filtered_data = pd.read_sql_query(\"\"\" SELECT * FROM Reviews WHERE Score != 3 LIMIT 500000\"\"\", con) \n",
        "# for tsne assignment you can take 5k data points\n",
        "\n",
        "filtered_data = pd.read_sql_query(\"\"\" SELECT * FROM Reviews WHERE Score != 3 LIMIT 500000\"\"\", con) \n",
        "\n",
        "# Give reviews with Score>3 a positive rating(1), and reviews with a score<3 a negative rating(0).\n",
        "def partition(x):\n",
        "    if x < 3:\n",
        "        return 0\n",
        "    return 1\n",
        "\n",
        "#changing reviews with score less than 3 to be positive and vice-versa\n",
        "actualScore = filtered_data['Score']\n",
        "positiveNegative = actualScore.map(partition) \n",
        "filtered_data['Score'] = positiveNegative\n",
        "print(\"Number of data points in our data\", filtered_data.shape)\n",
        "filtered_data.head(3)"
      ],
      "execution_count": 4,
      "outputs": [
        {
          "output_type": "stream",
          "text": [
            "Number of data points in our data (500000, 10)\n"
          ],
          "name": "stdout"
        },
        {
          "output_type": "execute_result",
          "data": {
            "text/html": [
              "<div>\n",
              "<style scoped>\n",
              "    .dataframe tbody tr th:only-of-type {\n",
              "        vertical-align: middle;\n",
              "    }\n",
              "\n",
              "    .dataframe tbody tr th {\n",
              "        vertical-align: top;\n",
              "    }\n",
              "\n",
              "    .dataframe thead th {\n",
              "        text-align: right;\n",
              "    }\n",
              "</style>\n",
              "<table border=\"1\" class=\"dataframe\">\n",
              "  <thead>\n",
              "    <tr style=\"text-align: right;\">\n",
              "      <th></th>\n",
              "      <th>Id</th>\n",
              "      <th>ProductId</th>\n",
              "      <th>UserId</th>\n",
              "      <th>ProfileName</th>\n",
              "      <th>HelpfulnessNumerator</th>\n",
              "      <th>HelpfulnessDenominator</th>\n",
              "      <th>Score</th>\n",
              "      <th>Time</th>\n",
              "      <th>Summary</th>\n",
              "      <th>Text</th>\n",
              "    </tr>\n",
              "  </thead>\n",
              "  <tbody>\n",
              "    <tr>\n",
              "      <th>0</th>\n",
              "      <td>1</td>\n",
              "      <td>B001E4KFG0</td>\n",
              "      <td>A3SGXH7AUHU8GW</td>\n",
              "      <td>delmartian</td>\n",
              "      <td>1</td>\n",
              "      <td>1</td>\n",
              "      <td>1</td>\n",
              "      <td>1303862400</td>\n",
              "      <td>Good Quality Dog Food</td>\n",
              "      <td>I have bought several of the Vitality canned d...</td>\n",
              "    </tr>\n",
              "    <tr>\n",
              "      <th>1</th>\n",
              "      <td>2</td>\n",
              "      <td>B00813GRG4</td>\n",
              "      <td>A1D87F6ZCVE5NK</td>\n",
              "      <td>dll pa</td>\n",
              "      <td>0</td>\n",
              "      <td>0</td>\n",
              "      <td>0</td>\n",
              "      <td>1346976000</td>\n",
              "      <td>Not as Advertised</td>\n",
              "      <td>Product arrived labeled as Jumbo Salted Peanut...</td>\n",
              "    </tr>\n",
              "    <tr>\n",
              "      <th>2</th>\n",
              "      <td>3</td>\n",
              "      <td>B000LQOCH0</td>\n",
              "      <td>ABXLMWJIXXAIN</td>\n",
              "      <td>Natalia Corres \"Natalia Corres\"</td>\n",
              "      <td>1</td>\n",
              "      <td>1</td>\n",
              "      <td>1</td>\n",
              "      <td>1219017600</td>\n",
              "      <td>\"Delight\" says it all</td>\n",
              "      <td>This is a confection that has been around a fe...</td>\n",
              "    </tr>\n",
              "  </tbody>\n",
              "</table>\n",
              "</div>"
            ],
            "text/plain": [
              "   Id   ProductId          UserId                      ProfileName  \\\n",
              "0   1  B001E4KFG0  A3SGXH7AUHU8GW                       delmartian   \n",
              "1   2  B00813GRG4  A1D87F6ZCVE5NK                           dll pa   \n",
              "2   3  B000LQOCH0   ABXLMWJIXXAIN  Natalia Corres \"Natalia Corres\"   \n",
              "\n",
              "   HelpfulnessNumerator  HelpfulnessDenominator  Score        Time  \\\n",
              "0                     1                       1      1  1303862400   \n",
              "1                     0                       0      0  1346976000   \n",
              "2                     1                       1      1  1219017600   \n",
              "\n",
              "                 Summary                                               Text  \n",
              "0  Good Quality Dog Food  I have bought several of the Vitality canned d...  \n",
              "1      Not as Advertised  Product arrived labeled as Jumbo Salted Peanut...  \n",
              "2  \"Delight\" says it all  This is a confection that has been around a fe...  "
            ]
          },
          "metadata": {
            "tags": []
          },
          "execution_count": 4
        }
      ]
    },
    {
      "metadata": {
        "colab_type": "code",
        "id": "ZW3dFLomsey9",
        "colab": {}
      },
      "cell_type": "code",
      "source": [
        "display = pd.read_sql_query(\"\"\"\n",
        "SELECT UserId, ProductId, ProfileName, Time, Score, Text, COUNT(*)\n",
        "FROM Reviews\n",
        "GROUP BY UserId\n",
        "HAVING COUNT(*)>1\n",
        "\"\"\", con)"
      ],
      "execution_count": 0,
      "outputs": []
    },
    {
      "metadata": {
        "colab_type": "code",
        "id": "ZSqRoMpysezA",
        "outputId": "affd7e84-f342-43e5-b06e-5ddcd3b6bcb0",
        "scrolled": true,
        "colab": {
          "base_uri": "https://localhost:8080/",
          "height": 215
        }
      },
      "cell_type": "code",
      "source": [
        "print(display.shape)\n",
        "display.head()"
      ],
      "execution_count": 6,
      "outputs": [
        {
          "output_type": "stream",
          "text": [
            "(80668, 7)\n"
          ],
          "name": "stdout"
        },
        {
          "output_type": "execute_result",
          "data": {
            "text/html": [
              "<div>\n",
              "<style scoped>\n",
              "    .dataframe tbody tr th:only-of-type {\n",
              "        vertical-align: middle;\n",
              "    }\n",
              "\n",
              "    .dataframe tbody tr th {\n",
              "        vertical-align: top;\n",
              "    }\n",
              "\n",
              "    .dataframe thead th {\n",
              "        text-align: right;\n",
              "    }\n",
              "</style>\n",
              "<table border=\"1\" class=\"dataframe\">\n",
              "  <thead>\n",
              "    <tr style=\"text-align: right;\">\n",
              "      <th></th>\n",
              "      <th>UserId</th>\n",
              "      <th>ProductId</th>\n",
              "      <th>ProfileName</th>\n",
              "      <th>Time</th>\n",
              "      <th>Score</th>\n",
              "      <th>Text</th>\n",
              "      <th>COUNT(*)</th>\n",
              "    </tr>\n",
              "  </thead>\n",
              "  <tbody>\n",
              "    <tr>\n",
              "      <th>0</th>\n",
              "      <td>#oc-R115TNMSPFT9I7</td>\n",
              "      <td>B007Y59HVM</td>\n",
              "      <td>Breyton</td>\n",
              "      <td>1331510400</td>\n",
              "      <td>2</td>\n",
              "      <td>Overall its just OK when considering the price...</td>\n",
              "      <td>2</td>\n",
              "    </tr>\n",
              "    <tr>\n",
              "      <th>1</th>\n",
              "      <td>#oc-R11D9D7SHXIJB9</td>\n",
              "      <td>B005HG9ET0</td>\n",
              "      <td>Louis E. Emory \"hoppy\"</td>\n",
              "      <td>1342396800</td>\n",
              "      <td>5</td>\n",
              "      <td>My wife has recurring extreme muscle spasms, u...</td>\n",
              "      <td>3</td>\n",
              "    </tr>\n",
              "    <tr>\n",
              "      <th>2</th>\n",
              "      <td>#oc-R11DNU2NBKQ23Z</td>\n",
              "      <td>B007Y59HVM</td>\n",
              "      <td>Kim Cieszykowski</td>\n",
              "      <td>1348531200</td>\n",
              "      <td>1</td>\n",
              "      <td>This coffee is horrible and unfortunately not ...</td>\n",
              "      <td>2</td>\n",
              "    </tr>\n",
              "    <tr>\n",
              "      <th>3</th>\n",
              "      <td>#oc-R11O5J5ZVQE25C</td>\n",
              "      <td>B005HG9ET0</td>\n",
              "      <td>Penguin Chick</td>\n",
              "      <td>1346889600</td>\n",
              "      <td>5</td>\n",
              "      <td>This will be the bottle that you grab from the...</td>\n",
              "      <td>3</td>\n",
              "    </tr>\n",
              "    <tr>\n",
              "      <th>4</th>\n",
              "      <td>#oc-R12KPBODL2B5ZD</td>\n",
              "      <td>B007OSBE1U</td>\n",
              "      <td>Christopher P. Presta</td>\n",
              "      <td>1348617600</td>\n",
              "      <td>1</td>\n",
              "      <td>I didnt like this coffee. Instead of telling y...</td>\n",
              "      <td>2</td>\n",
              "    </tr>\n",
              "  </tbody>\n",
              "</table>\n",
              "</div>"
            ],
            "text/plain": [
              "               UserId   ProductId             ProfileName        Time  Score  \\\n",
              "0  #oc-R115TNMSPFT9I7  B007Y59HVM                 Breyton  1331510400      2   \n",
              "1  #oc-R11D9D7SHXIJB9  B005HG9ET0  Louis E. Emory \"hoppy\"  1342396800      5   \n",
              "2  #oc-R11DNU2NBKQ23Z  B007Y59HVM        Kim Cieszykowski  1348531200      1   \n",
              "3  #oc-R11O5J5ZVQE25C  B005HG9ET0           Penguin Chick  1346889600      5   \n",
              "4  #oc-R12KPBODL2B5ZD  B007OSBE1U   Christopher P. Presta  1348617600      1   \n",
              "\n",
              "                                                Text  COUNT(*)  \n",
              "0  Overall its just OK when considering the price...         2  \n",
              "1  My wife has recurring extreme muscle spasms, u...         3  \n",
              "2  This coffee is horrible and unfortunately not ...         2  \n",
              "3  This will be the bottle that you grab from the...         3  \n",
              "4  I didnt like this coffee. Instead of telling y...         2  "
            ]
          },
          "metadata": {
            "tags": []
          },
          "execution_count": 6
        }
      ]
    },
    {
      "metadata": {
        "colab_type": "code",
        "id": "Pv2R-IC3sezF",
        "outputId": "abc6e8c8-3b88-400f-9304-73317cadca24",
        "colab": {
          "base_uri": "https://localhost:8080/",
          "height": 77
        }
      },
      "cell_type": "code",
      "source": [
        "display[display['UserId']=='AZY10LLTJ71NX']"
      ],
      "execution_count": 7,
      "outputs": [
        {
          "output_type": "execute_result",
          "data": {
            "text/html": [
              "<div>\n",
              "<style scoped>\n",
              "    .dataframe tbody tr th:only-of-type {\n",
              "        vertical-align: middle;\n",
              "    }\n",
              "\n",
              "    .dataframe tbody tr th {\n",
              "        vertical-align: top;\n",
              "    }\n",
              "\n",
              "    .dataframe thead th {\n",
              "        text-align: right;\n",
              "    }\n",
              "</style>\n",
              "<table border=\"1\" class=\"dataframe\">\n",
              "  <thead>\n",
              "    <tr style=\"text-align: right;\">\n",
              "      <th></th>\n",
              "      <th>UserId</th>\n",
              "      <th>ProductId</th>\n",
              "      <th>ProfileName</th>\n",
              "      <th>Time</th>\n",
              "      <th>Score</th>\n",
              "      <th>Text</th>\n",
              "      <th>COUNT(*)</th>\n",
              "    </tr>\n",
              "  </thead>\n",
              "  <tbody>\n",
              "    <tr>\n",
              "      <th>80638</th>\n",
              "      <td>AZY10LLTJ71NX</td>\n",
              "      <td>B006P7E5ZI</td>\n",
              "      <td>undertheshrine \"undertheshrine\"</td>\n",
              "      <td>1334707200</td>\n",
              "      <td>5</td>\n",
              "      <td>I was recommended to try green tea extract to ...</td>\n",
              "      <td>5</td>\n",
              "    </tr>\n",
              "  </tbody>\n",
              "</table>\n",
              "</div>"
            ],
            "text/plain": [
              "              UserId   ProductId                      ProfileName        Time  \\\n",
              "80638  AZY10LLTJ71NX  B006P7E5ZI  undertheshrine \"undertheshrine\"  1334707200   \n",
              "\n",
              "       Score                                               Text  COUNT(*)  \n",
              "80638      5  I was recommended to try green tea extract to ...         5  "
            ]
          },
          "metadata": {
            "tags": []
          },
          "execution_count": 7
        }
      ]
    },
    {
      "metadata": {
        "colab_type": "code",
        "id": "1HB6_YLnsezJ",
        "outputId": "8b355f9f-9b42-4559-a95d-ca5bfa3fa413",
        "colab": {
          "base_uri": "https://localhost:8080/",
          "height": 34
        }
      },
      "cell_type": "code",
      "source": [
        "display['COUNT(*)'].sum()"
      ],
      "execution_count": 8,
      "outputs": [
        {
          "output_type": "execute_result",
          "data": {
            "text/plain": [
              "393063"
            ]
          },
          "metadata": {
            "tags": []
          },
          "execution_count": 8
        }
      ]
    },
    {
      "metadata": {
        "colab_type": "text",
        "id": "i7akCZC0sezN"
      },
      "cell_type": "markdown",
      "source": [
        "#  [2] Exploratory Data Analysis"
      ]
    },
    {
      "metadata": {
        "colab_type": "text",
        "id": "BZuWmYousezO"
      },
      "cell_type": "markdown",
      "source": [
        "## [2.1] Data Cleaning: Deduplication\n",
        "\n",
        "It is observed (as shown in the table below) that the reviews data had many duplicate entries. Hence it was necessary to remove duplicates in order to get unbiased results for the analysis of the data.  Following is an example:"
      ]
    },
    {
      "metadata": {
        "colab_type": "code",
        "id": "bQ3uFGXNsezO",
        "outputId": "c4743302-9cb4-4b9f-c9e8-6709a9a489e0",
        "scrolled": false,
        "colab": {
          "base_uri": "https://localhost:8080/",
          "height": 281
        }
      },
      "cell_type": "code",
      "source": [
        "display= pd.read_sql_query(\"\"\"\n",
        "SELECT *\n",
        "FROM Reviews\n",
        "WHERE Score != 3 AND UserId=\"AR5J8UI46CURR\"\n",
        "ORDER BY ProductID\n",
        "\"\"\", con)\n",
        "display.head()"
      ],
      "execution_count": 9,
      "outputs": [
        {
          "output_type": "execute_result",
          "data": {
            "text/html": [
              "<div>\n",
              "<style scoped>\n",
              "    .dataframe tbody tr th:only-of-type {\n",
              "        vertical-align: middle;\n",
              "    }\n",
              "\n",
              "    .dataframe tbody tr th {\n",
              "        vertical-align: top;\n",
              "    }\n",
              "\n",
              "    .dataframe thead th {\n",
              "        text-align: right;\n",
              "    }\n",
              "</style>\n",
              "<table border=\"1\" class=\"dataframe\">\n",
              "  <thead>\n",
              "    <tr style=\"text-align: right;\">\n",
              "      <th></th>\n",
              "      <th>Id</th>\n",
              "      <th>ProductId</th>\n",
              "      <th>UserId</th>\n",
              "      <th>ProfileName</th>\n",
              "      <th>HelpfulnessNumerator</th>\n",
              "      <th>HelpfulnessDenominator</th>\n",
              "      <th>Score</th>\n",
              "      <th>Time</th>\n",
              "      <th>Summary</th>\n",
              "      <th>Text</th>\n",
              "    </tr>\n",
              "  </thead>\n",
              "  <tbody>\n",
              "    <tr>\n",
              "      <th>0</th>\n",
              "      <td>78445</td>\n",
              "      <td>B000HDL1RQ</td>\n",
              "      <td>AR5J8UI46CURR</td>\n",
              "      <td>Geetha Krishnan</td>\n",
              "      <td>2</td>\n",
              "      <td>2</td>\n",
              "      <td>5</td>\n",
              "      <td>1199577600</td>\n",
              "      <td>LOACKER QUADRATINI VANILLA WAFERS</td>\n",
              "      <td>DELICIOUS WAFERS. I FIND THAT EUROPEAN WAFERS ...</td>\n",
              "    </tr>\n",
              "    <tr>\n",
              "      <th>1</th>\n",
              "      <td>138317</td>\n",
              "      <td>B000HDOPYC</td>\n",
              "      <td>AR5J8UI46CURR</td>\n",
              "      <td>Geetha Krishnan</td>\n",
              "      <td>2</td>\n",
              "      <td>2</td>\n",
              "      <td>5</td>\n",
              "      <td>1199577600</td>\n",
              "      <td>LOACKER QUADRATINI VANILLA WAFERS</td>\n",
              "      <td>DELICIOUS WAFERS. I FIND THAT EUROPEAN WAFERS ...</td>\n",
              "    </tr>\n",
              "    <tr>\n",
              "      <th>2</th>\n",
              "      <td>138277</td>\n",
              "      <td>B000HDOPYM</td>\n",
              "      <td>AR5J8UI46CURR</td>\n",
              "      <td>Geetha Krishnan</td>\n",
              "      <td>2</td>\n",
              "      <td>2</td>\n",
              "      <td>5</td>\n",
              "      <td>1199577600</td>\n",
              "      <td>LOACKER QUADRATINI VANILLA WAFERS</td>\n",
              "      <td>DELICIOUS WAFERS. I FIND THAT EUROPEAN WAFERS ...</td>\n",
              "    </tr>\n",
              "    <tr>\n",
              "      <th>3</th>\n",
              "      <td>73791</td>\n",
              "      <td>B000HDOPZG</td>\n",
              "      <td>AR5J8UI46CURR</td>\n",
              "      <td>Geetha Krishnan</td>\n",
              "      <td>2</td>\n",
              "      <td>2</td>\n",
              "      <td>5</td>\n",
              "      <td>1199577600</td>\n",
              "      <td>LOACKER QUADRATINI VANILLA WAFERS</td>\n",
              "      <td>DELICIOUS WAFERS. I FIND THAT EUROPEAN WAFERS ...</td>\n",
              "    </tr>\n",
              "    <tr>\n",
              "      <th>4</th>\n",
              "      <td>155049</td>\n",
              "      <td>B000PAQ75C</td>\n",
              "      <td>AR5J8UI46CURR</td>\n",
              "      <td>Geetha Krishnan</td>\n",
              "      <td>2</td>\n",
              "      <td>2</td>\n",
              "      <td>5</td>\n",
              "      <td>1199577600</td>\n",
              "      <td>LOACKER QUADRATINI VANILLA WAFERS</td>\n",
              "      <td>DELICIOUS WAFERS. I FIND THAT EUROPEAN WAFERS ...</td>\n",
              "    </tr>\n",
              "  </tbody>\n",
              "</table>\n",
              "</div>"
            ],
            "text/plain": [
              "       Id   ProductId         UserId      ProfileName  HelpfulnessNumerator  \\\n",
              "0   78445  B000HDL1RQ  AR5J8UI46CURR  Geetha Krishnan                     2   \n",
              "1  138317  B000HDOPYC  AR5J8UI46CURR  Geetha Krishnan                     2   \n",
              "2  138277  B000HDOPYM  AR5J8UI46CURR  Geetha Krishnan                     2   \n",
              "3   73791  B000HDOPZG  AR5J8UI46CURR  Geetha Krishnan                     2   \n",
              "4  155049  B000PAQ75C  AR5J8UI46CURR  Geetha Krishnan                     2   \n",
              "\n",
              "   HelpfulnessDenominator  Score        Time  \\\n",
              "0                       2      5  1199577600   \n",
              "1                       2      5  1199577600   \n",
              "2                       2      5  1199577600   \n",
              "3                       2      5  1199577600   \n",
              "4                       2      5  1199577600   \n",
              "\n",
              "                             Summary  \\\n",
              "0  LOACKER QUADRATINI VANILLA WAFERS   \n",
              "1  LOACKER QUADRATINI VANILLA WAFERS   \n",
              "2  LOACKER QUADRATINI VANILLA WAFERS   \n",
              "3  LOACKER QUADRATINI VANILLA WAFERS   \n",
              "4  LOACKER QUADRATINI VANILLA WAFERS   \n",
              "\n",
              "                                                Text  \n",
              "0  DELICIOUS WAFERS. I FIND THAT EUROPEAN WAFERS ...  \n",
              "1  DELICIOUS WAFERS. I FIND THAT EUROPEAN WAFERS ...  \n",
              "2  DELICIOUS WAFERS. I FIND THAT EUROPEAN WAFERS ...  \n",
              "3  DELICIOUS WAFERS. I FIND THAT EUROPEAN WAFERS ...  \n",
              "4  DELICIOUS WAFERS. I FIND THAT EUROPEAN WAFERS ...  "
            ]
          },
          "metadata": {
            "tags": []
          },
          "execution_count": 9
        }
      ]
    },
    {
      "metadata": {
        "colab_type": "text",
        "id": "K0UR5wvqsezT"
      },
      "cell_type": "markdown",
      "source": [
        "As it can be seen above that same user has multiple reviews with same values for HelpfulnessNumerator, HelpfulnessDenominator, Score, Time, Summary and Text and on doing analysis it was found that <br>\n",
        "<br> \n",
        "ProductId=B000HDOPZG was Loacker Quadratini Vanilla Wafer Cookies, 8.82-Ounce Packages (Pack of 8)<br>\n",
        "<br> \n",
        "ProductId=B000HDL1RQ was Loacker Quadratini Lemon Wafer Cookies, 8.82-Ounce Packages (Pack of 8) and so on<br>\n",
        "\n",
        "It was inferred after analysis that reviews with same parameters other than ProductId belonged to the same product just having different flavour or quantity. Hence in order to reduce redundancy it was decided to eliminate the rows having same parameters.<br>\n",
        "\n",
        "The method used for the same was that we first sort the data according to ProductId and then just keep the first similar product review and delelte the others. for eg. in the above just the review for ProductId=B000HDL1RQ remains. This method ensures that there is only one representative for each product and deduplication without sorting would lead to possibility of different representatives still existing for the same product."
      ]
    },
    {
      "metadata": {
        "colab_type": "code",
        "id": "o7z8cYp3sezU",
        "colab": {}
      },
      "cell_type": "code",
      "source": [
        "#Sorting data according to ProductId in ascending order\n",
        "sorted_data=filtered_data.sort_values('ProductId', axis=0, ascending=True, inplace=False, kind='quicksort', na_position='last')"
      ],
      "execution_count": 0,
      "outputs": []
    },
    {
      "metadata": {
        "colab_type": "code",
        "id": "ZEeaS5GjsezX",
        "outputId": "aaf1824b-2c72-41dc-9a0b-03ed5c904db6",
        "colab": {
          "base_uri": "https://localhost:8080/",
          "height": 34
        }
      },
      "cell_type": "code",
      "source": [
        "#Deduplication of entries\n",
        "final=sorted_data.drop_duplicates(subset={\"UserId\",\"ProfileName\",\"Time\",\"Text\"}, keep='first', inplace=False)\n",
        "final.shape"
      ],
      "execution_count": 11,
      "outputs": [
        {
          "output_type": "execute_result",
          "data": {
            "text/plain": [
              "(348262, 10)"
            ]
          },
          "metadata": {
            "tags": []
          },
          "execution_count": 11
        }
      ]
    },
    {
      "metadata": {
        "colab_type": "code",
        "id": "_WpdT0VMseza",
        "outputId": "0fa2c02c-6e91-4224-c1c9-9f809a3dffcd",
        "colab": {
          "base_uri": "https://localhost:8080/",
          "height": 34
        }
      },
      "cell_type": "code",
      "source": [
        "#Checking to see how much % of data still remains\n",
        "(final['Id'].size*1.0)/(filtered_data['Id'].size*1.0)*100"
      ],
      "execution_count": 12,
      "outputs": [
        {
          "output_type": "execute_result",
          "data": {
            "text/plain": [
              "69.6524"
            ]
          },
          "metadata": {
            "tags": []
          },
          "execution_count": 12
        }
      ]
    },
    {
      "metadata": {
        "colab_type": "text",
        "id": "DUqId-Vrseze"
      },
      "cell_type": "markdown",
      "source": [
        "<b>Observation:-</b> It was also seen that in two rows given below the value of HelpfulnessNumerator is greater than HelpfulnessDenominator which is not practically possible hence these two rows too are removed from calcualtions"
      ]
    },
    {
      "metadata": {
        "colab_type": "code",
        "id": "RnnxVNJKseze",
        "outputId": "e3521171-9708-48e1-bb35-6d48d5eb8655",
        "colab": {
          "base_uri": "https://localhost:8080/",
          "height": 141
        }
      },
      "cell_type": "code",
      "source": [
        "display= pd.read_sql_query(\"\"\"\n",
        "SELECT *\n",
        "FROM Reviews\n",
        "WHERE Score != 3 AND Id=44737 OR Id=64422\n",
        "ORDER BY ProductID\n",
        "\"\"\", con)\n",
        "\n",
        "display.head()"
      ],
      "execution_count": 13,
      "outputs": [
        {
          "output_type": "execute_result",
          "data": {
            "text/html": [
              "<div>\n",
              "<style scoped>\n",
              "    .dataframe tbody tr th:only-of-type {\n",
              "        vertical-align: middle;\n",
              "    }\n",
              "\n",
              "    .dataframe tbody tr th {\n",
              "        vertical-align: top;\n",
              "    }\n",
              "\n",
              "    .dataframe thead th {\n",
              "        text-align: right;\n",
              "    }\n",
              "</style>\n",
              "<table border=\"1\" class=\"dataframe\">\n",
              "  <thead>\n",
              "    <tr style=\"text-align: right;\">\n",
              "      <th></th>\n",
              "      <th>Id</th>\n",
              "      <th>ProductId</th>\n",
              "      <th>UserId</th>\n",
              "      <th>ProfileName</th>\n",
              "      <th>HelpfulnessNumerator</th>\n",
              "      <th>HelpfulnessDenominator</th>\n",
              "      <th>Score</th>\n",
              "      <th>Time</th>\n",
              "      <th>Summary</th>\n",
              "      <th>Text</th>\n",
              "    </tr>\n",
              "  </thead>\n",
              "  <tbody>\n",
              "    <tr>\n",
              "      <th>0</th>\n",
              "      <td>64422</td>\n",
              "      <td>B000MIDROQ</td>\n",
              "      <td>A161DK06JJMCYF</td>\n",
              "      <td>J. E. Stephens \"Jeanne\"</td>\n",
              "      <td>3</td>\n",
              "      <td>1</td>\n",
              "      <td>5</td>\n",
              "      <td>1224892800</td>\n",
              "      <td>Bought This for My Son at College</td>\n",
              "      <td>My son loves spaghetti so I didn't hesitate or...</td>\n",
              "    </tr>\n",
              "    <tr>\n",
              "      <th>1</th>\n",
              "      <td>44737</td>\n",
              "      <td>B001EQ55RW</td>\n",
              "      <td>A2V0I904FH7ABY</td>\n",
              "      <td>Ram</td>\n",
              "      <td>3</td>\n",
              "      <td>2</td>\n",
              "      <td>4</td>\n",
              "      <td>1212883200</td>\n",
              "      <td>Pure cocoa taste with crunchy almonds inside</td>\n",
              "      <td>It was almost a 'love at first bite' - the per...</td>\n",
              "    </tr>\n",
              "  </tbody>\n",
              "</table>\n",
              "</div>"
            ],
            "text/plain": [
              "      Id   ProductId          UserId              ProfileName  \\\n",
              "0  64422  B000MIDROQ  A161DK06JJMCYF  J. E. Stephens \"Jeanne\"   \n",
              "1  44737  B001EQ55RW  A2V0I904FH7ABY                      Ram   \n",
              "\n",
              "   HelpfulnessNumerator  HelpfulnessDenominator  Score        Time  \\\n",
              "0                     3                       1      5  1224892800   \n",
              "1                     3                       2      4  1212883200   \n",
              "\n",
              "                                        Summary  \\\n",
              "0             Bought This for My Son at College   \n",
              "1  Pure cocoa taste with crunchy almonds inside   \n",
              "\n",
              "                                                Text  \n",
              "0  My son loves spaghetti so I didn't hesitate or...  \n",
              "1  It was almost a 'love at first bite' - the per...  "
            ]
          },
          "metadata": {
            "tags": []
          },
          "execution_count": 13
        }
      ]
    },
    {
      "metadata": {
        "colab_type": "code",
        "id": "2Dp5VpWcsezh",
        "colab": {}
      },
      "cell_type": "code",
      "source": [
        "final=final[final.HelpfulnessNumerator<=final.HelpfulnessDenominator]"
      ],
      "execution_count": 0,
      "outputs": []
    },
    {
      "metadata": {
        "colab_type": "code",
        "id": "_AXX51JRsezk",
        "outputId": "4c069964-3330-4864-aa2b-5b179ccbcf88",
        "colab": {
          "base_uri": "https://localhost:8080/",
          "height": 87
        }
      },
      "cell_type": "code",
      "source": [
        "#Before starting the next phase of preprocessing lets see the number of entries left\n",
        "print(final.shape)\n",
        "\n",
        "#How many positive and negative reviews are present in our dataset?\n",
        "final['Score'].value_counts()"
      ],
      "execution_count": 15,
      "outputs": [
        {
          "output_type": "stream",
          "text": [
            "(348260, 10)\n"
          ],
          "name": "stdout"
        },
        {
          "output_type": "execute_result",
          "data": {
            "text/plain": [
              "1    293516\n",
              "0     54744\n",
              "Name: Score, dtype: int64"
            ]
          },
          "metadata": {
            "tags": []
          },
          "execution_count": 15
        }
      ]
    },
    {
      "metadata": {
        "colab_type": "text",
        "id": "w9MglN1Vsezn"
      },
      "cell_type": "markdown",
      "source": [
        "#  [3] Preprocessing"
      ]
    },
    {
      "metadata": {
        "colab_type": "text",
        "id": "_RQ0w7r5sezo"
      },
      "cell_type": "markdown",
      "source": [
        "## [3.1].  Preprocessing Review Text\n",
        "\n",
        "Now that we have finished deduplication our data requires some preprocessing before we go on further with analysis and making the prediction model.\n",
        "\n",
        "Hence in the Preprocessing phase we do the following in the order below:-\n",
        "\n",
        "1. Begin by removing the html tags\n",
        "2. Remove any punctuations or limited set of special characters like , or . or # etc.\n",
        "3. Check if the word is made up of english letters and is not alpha-numeric\n",
        "4. Check to see if the length of the word is greater than 2 (as it was researched that there is no adjective in 2-letters)\n",
        "5. Convert the word to lowercase\n",
        "6. Remove Stopwords\n",
        "7. Finally Snowball Stemming the word (it was obsereved to be better than Porter Stemming)<br>\n",
        "\n",
        "After which we collect the words used to describe positive and negative reviews"
      ]
    },
    {
      "metadata": {
        "colab_type": "code",
        "id": "hMcZ70xfsezp",
        "outputId": "0c129569-8987-4142-87f7-91e86daacad3",
        "colab": {
          "base_uri": "https://localhost:8080/",
          "height": 178
        }
      },
      "cell_type": "code",
      "source": [
        "# printing some random reviews\n",
        "sent_0 = final['Text'].values[0]\n",
        "print(sent_0)\n",
        "print(\"=\"*50)\n",
        "\n",
        "sent_1000 = final['Text'].values[1000]\n",
        "print(sent_1000)\n",
        "print(\"=\"*50)\n",
        "\n",
        "sent_1500 = final['Text'].values[1500]\n",
        "print(sent_1500)\n",
        "print(\"=\"*50)\n",
        "\n",
        "sent_4900 = final['Text'].values[4900]\n",
        "print(sent_4900)\n",
        "print(\"=\"*50)"
      ],
      "execution_count": 16,
      "outputs": [
        {
          "output_type": "stream",
          "text": [
            "This book was purchased as a birthday gift for a 4 year old boy. He squealed with delight and hugged it when told it was his to keep and he did not have to return it to the library.\n",
            "==================================================\n",
            "I've purchased both the Espressione Espresso (classic) and the 100% Arabica.  My vote is definitely with the 100% Arabica.  The flavor has more bite and flavor (much more like European coffee than American).\n",
            "==================================================\n",
            "This is a great product. It is very healthy for all of our dogs, and it is the first food that they all love to eat. It helped my older dog lose weight and my 10 year old lab gain the weight he needed to be healthy.\n",
            "==================================================\n",
            "I find everything I need at Amazon so I always look there first. Chocolate tennis balls for a tennis party, perfect! They were the size of malted milk balls. Unfortunately, they arrived 3 days after the party. The caveat here is, not everything from Amazon may arrive at an impressive 2 or 3 days. This shipment took 8 days from the Candy/Cosmetic Depot back east to southern California.\n",
            "==================================================\n"
          ],
          "name": "stdout"
        }
      ]
    },
    {
      "metadata": {
        "colab_type": "code",
        "id": "GNSlyXUJsezs",
        "outputId": "656ffb0a-775d-454d-d00c-258bd7016ec1",
        "colab": {
          "base_uri": "https://localhost:8080/",
          "height": 54
        }
      },
      "cell_type": "code",
      "source": [
        "# remove urls from text python: https://stackoverflow.com/a/40823105/4084039\n",
        "sent_0 = re.sub(r\"http\\S+\", \"\", sent_0)\n",
        "sent_1000 = re.sub(r\"http\\S+\", \"\", sent_1000)\n",
        "sent_150 = re.sub(r\"http\\S+\", \"\", sent_1500)\n",
        "sent_4900 = re.sub(r\"http\\S+\", \"\", sent_4900)\n",
        "\n",
        "print(sent_0)"
      ],
      "execution_count": 17,
      "outputs": [
        {
          "output_type": "stream",
          "text": [
            "This book was purchased as a birthday gift for a 4 year old boy. He squealed with delight and hugged it when told it was his to keep and he did not have to return it to the library.\n"
          ],
          "name": "stdout"
        }
      ]
    },
    {
      "metadata": {
        "colab_type": "code",
        "id": "B8BYcuIqsezw",
        "outputId": "40ae2f70-8447-4800-fc54-352a129a54ae",
        "colab": {
          "base_uri": "https://localhost:8080/",
          "height": 161
        }
      },
      "cell_type": "code",
      "source": [
        "# https://stackoverflow.com/questions/16206380/python-beautifulsoup-how-to-remove-all-tags-from-an-element\n",
        "from bs4 import BeautifulSoup\n",
        "\n",
        "soup = BeautifulSoup(sent_0, 'lxml')\n",
        "text = soup.get_text()\n",
        "print(text)\n",
        "print(\"=\"*50)\n",
        "\n",
        "soup = BeautifulSoup(sent_1000, 'lxml')\n",
        "text = soup.get_text()\n",
        "print(text)\n",
        "print(\"=\"*50)\n",
        "\n",
        "soup = BeautifulSoup(sent_1500, 'lxml')\n",
        "text = soup.get_text()\n",
        "print(text)\n",
        "print(\"=\"*50)\n",
        "\n",
        "soup = BeautifulSoup(sent_4900, 'lxml')\n",
        "text = soup.get_text()\n",
        "print(text)"
      ],
      "execution_count": 18,
      "outputs": [
        {
          "output_type": "stream",
          "text": [
            "This book was purchased as a birthday gift for a 4 year old boy. He squealed with delight and hugged it when told it was his to keep and he did not have to return it to the library.\n",
            "==================================================\n",
            "I've purchased both the Espressione Espresso (classic) and the 100% Arabica.  My vote is definitely with the 100% Arabica.  The flavor has more bite and flavor (much more like European coffee than American).\n",
            "==================================================\n",
            "This is a great product. It is very healthy for all of our dogs, and it is the first food that they all love to eat. It helped my older dog lose weight and my 10 year old lab gain the weight he needed to be healthy.\n",
            "==================================================\n",
            "I find everything I need at Amazon so I always look there first. Chocolate tennis balls for a tennis party, perfect! They were the size of malted milk balls. Unfortunately, they arrived 3 days after the party. The caveat here is, not everything from Amazon may arrive at an impressive 2 or 3 days. This shipment took 8 days from the Candy/Cosmetic Depot back east to southern California.\n"
          ],
          "name": "stdout"
        }
      ]
    },
    {
      "metadata": {
        "colab_type": "code",
        "id": "ZzWeYsqKsez2",
        "colab": {}
      },
      "cell_type": "code",
      "source": [
        "# https://stackoverflow.com/a/47091490/4084039\n",
        "import re\n",
        "\n",
        "def decontracted(phrase):\n",
        "    # specific\n",
        "    phrase = re.sub(r\"won't\", \"will not\", phrase)\n",
        "    phrase = re.sub(r\"can\\'t\", \"can not\", phrase)\n",
        "\n",
        "    # general\n",
        "    phrase = re.sub(r\"n\\'t\", \" not\", phrase)\n",
        "    phrase = re.sub(r\"\\'re\", \" are\", phrase)\n",
        "    phrase = re.sub(r\"\\'s\", \" is\", phrase)\n",
        "    phrase = re.sub(r\"\\'d\", \" would\", phrase)\n",
        "    phrase = re.sub(r\"\\'ll\", \" will\", phrase)\n",
        "    phrase = re.sub(r\"\\'t\", \" not\", phrase)\n",
        "    phrase = re.sub(r\"\\'ve\", \" have\", phrase)\n",
        "    phrase = re.sub(r\"\\'m\", \" am\", phrase)\n",
        "    return phrase"
      ],
      "execution_count": 0,
      "outputs": []
    },
    {
      "metadata": {
        "colab_type": "code",
        "id": "1ZL51hKfsez5",
        "outputId": "1cab5049-2814-4498-8757-31a0ff65586a",
        "colab": {
          "base_uri": "https://localhost:8080/",
          "height": 72
        }
      },
      "cell_type": "code",
      "source": [
        "sent_1500 = decontracted(sent_1500)\n",
        "print(sent_1500)\n",
        "print(\"=\"*50)"
      ],
      "execution_count": 20,
      "outputs": [
        {
          "output_type": "stream",
          "text": [
            "This is a great product. It is very healthy for all of our dogs, and it is the first food that they all love to eat. It helped my older dog lose weight and my 10 year old lab gain the weight he needed to be healthy.\n",
            "==================================================\n"
          ],
          "name": "stdout"
        }
      ]
    },
    {
      "metadata": {
        "colab_type": "code",
        "id": "5Sok4xGJsez7",
        "outputId": "c85482cf-97b6-401c-c207-905e087a6015",
        "colab": {
          "base_uri": "https://localhost:8080/",
          "height": 54
        }
      },
      "cell_type": "code",
      "source": [
        "#remove words with numbers python: https://stackoverflow.com/a/18082370/4084039\n",
        "sent_0 = re.sub(\"\\S*\\d\\S*\", \"\", sent_0).strip()\n",
        "print(sent_0)"
      ],
      "execution_count": 21,
      "outputs": [
        {
          "output_type": "stream",
          "text": [
            "This book was purchased as a birthday gift for a  year old boy. He squealed with delight and hugged it when told it was his to keep and he did not have to return it to the library.\n"
          ],
          "name": "stdout"
        }
      ]
    },
    {
      "metadata": {
        "colab_type": "code",
        "id": "Ub0q-Cg5se0A",
        "outputId": "2d8074fc-27a6-402e-8d9d-493073bde63c",
        "colab": {
          "base_uri": "https://localhost:8080/",
          "height": 54
        }
      },
      "cell_type": "code",
      "source": [
        "#remove spacial character: https://stackoverflow.com/a/5843547/4084039\n",
        "sent_1500 = re.sub('[^A-Za-z0-9]+', ' ', sent_1500)\n",
        "print(sent_1500)"
      ],
      "execution_count": 22,
      "outputs": [
        {
          "output_type": "stream",
          "text": [
            "This is a great product It is very healthy for all of our dogs and it is the first food that they all love to eat It helped my older dog lose weight and my 10 year old lab gain the weight he needed to be healthy \n"
          ],
          "name": "stdout"
        }
      ]
    },
    {
      "metadata": {
        "colab_type": "code",
        "id": "8PnG7hqQse0D",
        "colab": {}
      },
      "cell_type": "code",
      "source": [
        "# https://gist.github.com/sebleier/554280\n",
        "# we are removing the words from the stop words list: 'no', 'nor', 'not'\n",
        "# <br /><br /> ==> after the above steps, we are getting \"br br\"\n",
        "# we are including them into stop words list\n",
        "# instead of <br /> if we have <br/> these tags would have revmoved in the 1st step\n",
        "\n",
        "stopwords= set(['br', 'the', 'i', 'me', 'my', 'myself', 'we', 'our', 'ours', 'ourselves', 'you', \"you're\", \"you've\",\\\n",
        "            \"you'll\", \"you'd\", 'your', 'yours', 'yourself', 'yourselves', 'he', 'him', 'his', 'himself', \\\n",
        "            'she', \"she's\", 'her', 'hers', 'herself', 'it', \"it's\", 'its', 'itself', 'they', 'them', 'their',\\\n",
        "            'theirs', 'themselves', 'what', 'which', 'who', 'whom', 'this', 'that', \"that'll\", 'these', 'those', \\\n",
        "            'am', 'is', 'are', 'was', 'were', 'be', 'been', 'being', 'have', 'has', 'had', 'having', 'do', 'does', \\\n",
        "            'did', 'doing', 'a', 'an', 'the', 'and', 'but', 'if', 'or', 'because', 'as', 'until', 'while', 'of', \\\n",
        "            'at', 'by', 'for', 'with', 'about', 'against', 'between', 'into', 'through', 'during', 'before', 'after',\\\n",
        "            'above', 'below', 'to', 'from', 'up', 'down', 'in', 'out', 'on', 'off', 'over', 'under', 'again', 'further',\\\n",
        "            'then', 'once', 'here', 'there', 'when', 'where', 'why', 'how', 'all', 'any', 'both', 'each', 'few', 'more',\\\n",
        "            'most', 'other', 'some', 'such', 'only', 'own', 'same', 'so', 'than', 'too', 'very', \\\n",
        "            's', 't', 'can', 'will', 'just', 'don', \"don't\", 'should', \"should've\", 'now', 'd', 'll', 'm', 'o', 're', \\\n",
        "            've', 'y', 'ain', 'aren', \"aren't\", 'couldn', \"couldn't\", 'didn', \"didn't\", 'doesn', \"doesn't\", 'hadn',\\\n",
        "            \"hadn't\", 'hasn', \"hasn't\", 'haven', \"haven't\", 'isn', \"isn't\", 'ma', 'mightn', \"mightn't\", 'mustn',\\\n",
        "            \"mustn't\", 'needn', \"needn't\", 'shan', \"shan't\", 'shouldn', \"shouldn't\", 'wasn', \"wasn't\", 'weren', \"weren't\", \\\n",
        "            'won', \"won't\", 'wouldn', \"wouldn't\"])"
      ],
      "execution_count": 0,
      "outputs": []
    },
    {
      "metadata": {
        "colab_type": "code",
        "id": "2LjmZbTmse0F",
        "outputId": "e8e22540-5455-43a7-8ab1-32523399f4a3",
        "colab": {
          "base_uri": "https://localhost:8080/",
          "height": 34
        }
      },
      "cell_type": "code",
      "source": [
        "# Combining all the above stundents \n",
        "from tqdm import tqdm\n",
        "preprocessed_reviews = []\n",
        "# tqdm is for printing the status bar\n",
        "for sentance in tqdm(final['Text'].values):\n",
        "    sentance = re.sub(r\"http\\S+\", \"\", sentance)\n",
        "    sentance = BeautifulSoup(sentance, 'lxml').get_text()\n",
        "    sentance = decontracted(sentance)\n",
        "    sentance = re.sub(\"\\S*\\d\\S*\", \"\", sentance).strip()\n",
        "    sentance = re.sub('[^A-Za-z]+', ' ', sentance)\n",
        "    # https://gist.github.com/sebleier/554280\n",
        "    sentance = ' '.join(e.lower() for e in sentance.split() if e.lower() not in stopwords)\n",
        "    preprocessed_reviews.append(sentance.strip())"
      ],
      "execution_count": 24,
      "outputs": [
        {
          "output_type": "stream",
          "text": [
            "100%|██████████| 348260/348260 [02:48<00:00, 2067.35it/s]\n"
          ],
          "name": "stderr"
        }
      ]
    },
    {
      "metadata": {
        "colab_type": "code",
        "id": "FSNSTuucse0I",
        "outputId": "11fd69c6-73a4-403e-96bf-38e4d6704b76",
        "colab": {
          "base_uri": "https://localhost:8080/",
          "height": 34
        }
      },
      "cell_type": "code",
      "source": [
        "preprocessed_reviews[1500]"
      ],
      "execution_count": 25,
      "outputs": [
        {
          "output_type": "execute_result",
          "data": {
            "text/plain": [
              "'great product healthy dogs first food love eat helped older dog lose weight year old lab gain weight needed healthy'"
            ]
          },
          "metadata": {
            "tags": []
          },
          "execution_count": 25
        }
      ]
    },
    {
      "metadata": {
        "colab_type": "code",
        "id": "q96t_p_n0C3s",
        "outputId": "7454196c-2ce3-4583-fd9c-69f3d7cbfd46",
        "colab": {
          "base_uri": "https://localhost:8080/",
          "height": 34
        }
      },
      "cell_type": "code",
      "source": [
        "len(preprocessed_reviews)"
      ],
      "execution_count": 26,
      "outputs": [
        {
          "output_type": "execute_result",
          "data": {
            "text/plain": [
              "348260"
            ]
          },
          "metadata": {
            "tags": []
          },
          "execution_count": 26
        }
      ]
    },
    {
      "metadata": {
        "colab_type": "code",
        "id": "fGYvyICu2J2v",
        "colab": {}
      },
      "cell_type": "code",
      "source": [
        "final[\"preprocessed_reviews\"]=preprocessed_reviews"
      ],
      "execution_count": 0,
      "outputs": []
    },
    {
      "metadata": {
        "colab_type": "code",
        "id": "LA4Ow3nD29uo",
        "outputId": "b343edc7-e460-4f06-a25e-595d382232d7",
        "colab": {
          "base_uri": "https://localhost:8080/",
          "height": 431
        }
      },
      "cell_type": "code",
      "source": [
        "final.head()"
      ],
      "execution_count": 28,
      "outputs": [
        {
          "output_type": "execute_result",
          "data": {
            "text/html": [
              "<div>\n",
              "<style scoped>\n",
              "    .dataframe tbody tr th:only-of-type {\n",
              "        vertical-align: middle;\n",
              "    }\n",
              "\n",
              "    .dataframe tbody tr th {\n",
              "        vertical-align: top;\n",
              "    }\n",
              "\n",
              "    .dataframe thead th {\n",
              "        text-align: right;\n",
              "    }\n",
              "</style>\n",
              "<table border=\"1\" class=\"dataframe\">\n",
              "  <thead>\n",
              "    <tr style=\"text-align: right;\">\n",
              "      <th></th>\n",
              "      <th>Id</th>\n",
              "      <th>ProductId</th>\n",
              "      <th>UserId</th>\n",
              "      <th>ProfileName</th>\n",
              "      <th>HelpfulnessNumerator</th>\n",
              "      <th>HelpfulnessDenominator</th>\n",
              "      <th>Score</th>\n",
              "      <th>Time</th>\n",
              "      <th>Summary</th>\n",
              "      <th>Text</th>\n",
              "      <th>preprocessed_reviews</th>\n",
              "    </tr>\n",
              "  </thead>\n",
              "  <tbody>\n",
              "    <tr>\n",
              "      <th>138702</th>\n",
              "      <td>150520</td>\n",
              "      <td>0006641040</td>\n",
              "      <td>ADBFSA9KTQANE</td>\n",
              "      <td>James L. Hammock \"Pucks Buddy\"</td>\n",
              "      <td>0</td>\n",
              "      <td>0</td>\n",
              "      <td>1</td>\n",
              "      <td>1256688000</td>\n",
              "      <td>Great Gift</td>\n",
              "      <td>This book was purchased as a birthday gift for...</td>\n",
              "      <td>book purchased birthday gift year old boy sque...</td>\n",
              "    </tr>\n",
              "    <tr>\n",
              "      <th>138707</th>\n",
              "      <td>150525</td>\n",
              "      <td>0006641040</td>\n",
              "      <td>A2QID6VCFTY51R</td>\n",
              "      <td>Rick</td>\n",
              "      <td>1</td>\n",
              "      <td>2</td>\n",
              "      <td>1</td>\n",
              "      <td>1025481600</td>\n",
              "      <td>In December it will be, my snowman's anniversa...</td>\n",
              "      <td>My daughter loves all the \"Really Rosie\" books...</td>\n",
              "      <td>daughter loves really rosie books introduced r...</td>\n",
              "    </tr>\n",
              "    <tr>\n",
              "      <th>138708</th>\n",
              "      <td>150526</td>\n",
              "      <td>0006641040</td>\n",
              "      <td>A3E9QZFE9KXH8J</td>\n",
              "      <td>R. Mitchell</td>\n",
              "      <td>11</td>\n",
              "      <td>18</td>\n",
              "      <td>0</td>\n",
              "      <td>1129507200</td>\n",
              "      <td>awesome book poor size</td>\n",
              "      <td>This is one of the best children's books ever ...</td>\n",
              "      <td>one best children books ever written mini vers...</td>\n",
              "    </tr>\n",
              "    <tr>\n",
              "      <th>138692</th>\n",
              "      <td>150510</td>\n",
              "      <td>0006641040</td>\n",
              "      <td>AM1MNZMYMS7D8</td>\n",
              "      <td>Dr. Joshua  Grossman</td>\n",
              "      <td>0</td>\n",
              "      <td>0</td>\n",
              "      <td>1</td>\n",
              "      <td>1348358400</td>\n",
              "      <td>Professional Mentoring</td>\n",
              "      <td>TITLE: Chicken Soup with Rice&lt;br /&gt;AUTHOR: Mau...</td>\n",
              "      <td>title chicken soup riceauthor maurice sendakre...</td>\n",
              "    </tr>\n",
              "    <tr>\n",
              "      <th>138689</th>\n",
              "      <td>150507</td>\n",
              "      <td>0006641040</td>\n",
              "      <td>A1S4A3IQ2MU7V4</td>\n",
              "      <td>sally sue \"sally sue\"</td>\n",
              "      <td>1</td>\n",
              "      <td>1</td>\n",
              "      <td>1</td>\n",
              "      <td>1191456000</td>\n",
              "      <td>chicken soup with rice months</td>\n",
              "      <td>This is a fun way for children to learn their ...</td>\n",
              "      <td>fun way children learn months year learn poems...</td>\n",
              "    </tr>\n",
              "  </tbody>\n",
              "</table>\n",
              "</div>"
            ],
            "text/plain": [
              "            Id   ProductId          UserId                     ProfileName  \\\n",
              "138702  150520  0006641040   ADBFSA9KTQANE  James L. Hammock \"Pucks Buddy\"   \n",
              "138707  150525  0006641040  A2QID6VCFTY51R                            Rick   \n",
              "138708  150526  0006641040  A3E9QZFE9KXH8J                     R. Mitchell   \n",
              "138692  150510  0006641040   AM1MNZMYMS7D8            Dr. Joshua  Grossman   \n",
              "138689  150507  0006641040  A1S4A3IQ2MU7V4           sally sue \"sally sue\"   \n",
              "\n",
              "        HelpfulnessNumerator  HelpfulnessDenominator  Score        Time  \\\n",
              "138702                     0                       0      1  1256688000   \n",
              "138707                     1                       2      1  1025481600   \n",
              "138708                    11                      18      0  1129507200   \n",
              "138692                     0                       0      1  1348358400   \n",
              "138689                     1                       1      1  1191456000   \n",
              "\n",
              "                                                  Summary  \\\n",
              "138702                                         Great Gift   \n",
              "138707  In December it will be, my snowman's anniversa...   \n",
              "138708                             awesome book poor size   \n",
              "138692                             Professional Mentoring   \n",
              "138689                      chicken soup with rice months   \n",
              "\n",
              "                                                     Text  \\\n",
              "138702  This book was purchased as a birthday gift for...   \n",
              "138707  My daughter loves all the \"Really Rosie\" books...   \n",
              "138708  This is one of the best children's books ever ...   \n",
              "138692  TITLE: Chicken Soup with Rice<br />AUTHOR: Mau...   \n",
              "138689  This is a fun way for children to learn their ...   \n",
              "\n",
              "                                     preprocessed_reviews  \n",
              "138702  book purchased birthday gift year old boy sque...  \n",
              "138707  daughter loves really rosie books introduced r...  \n",
              "138708  one best children books ever written mini vers...  \n",
              "138692  title chicken soup riceauthor maurice sendakre...  \n",
              "138689  fun way children learn months year learn poems...  "
            ]
          },
          "metadata": {
            "tags": []
          },
          "execution_count": 28
        }
      ]
    },
    {
      "metadata": {
        "colab_type": "code",
        "id": "HGr-WRqg3Oey",
        "outputId": "2a1ccfd9-737f-4bb6-fcbb-59ca17631887",
        "colab": {
          "base_uri": "https://localhost:8080/",
          "height": 34
        }
      },
      "cell_type": "code",
      "source": [
        "final.shape"
      ],
      "execution_count": 29,
      "outputs": [
        {
          "output_type": "execute_result",
          "data": {
            "text/plain": [
              "(348260, 11)"
            ]
          },
          "metadata": {
            "tags": []
          },
          "execution_count": 29
        }
      ]
    },
    {
      "metadata": {
        "colab_type": "code",
        "id": "lFkC8cZc3-ua",
        "colab": {}
      },
      "cell_type": "code",
      "source": [
        "final=final.drop([\"Id\",\"ProductId\",\"UserId\",\"ProfileName\",\"HelpfulnessNumerator\"],axis=1)"
      ],
      "execution_count": 0,
      "outputs": []
    },
    {
      "metadata": {
        "colab_type": "code",
        "id": "tn_4ZYgk4WB_",
        "colab": {}
      },
      "cell_type": "code",
      "source": [
        "final_last=final.drop([\"HelpfulnessDenominator\",\"Time\",\"Summary\",\"Text\"],axis=1)"
      ],
      "execution_count": 0,
      "outputs": []
    },
    {
      "metadata": {
        "colab_type": "code",
        "id": "rLdM0hgf4aG_",
        "outputId": "2bc30646-b5d8-4d91-8747-24de3dd303c9",
        "colab": {
          "base_uri": "https://localhost:8080/",
          "height": 34
        }
      },
      "cell_type": "code",
      "source": [
        "final_last.shape"
      ],
      "execution_count": 32,
      "outputs": [
        {
          "output_type": "execute_result",
          "data": {
            "text/plain": [
              "(348260, 2)"
            ]
          },
          "metadata": {
            "tags": []
          },
          "execution_count": 32
        }
      ]
    },
    {
      "metadata": {
        "colab_type": "code",
        "id": "nNZ6SEyE4vOA",
        "outputId": "9e43a9c7-61f7-4fe3-d8a3-5e6865345c1e",
        "colab": {
          "base_uri": "https://localhost:8080/",
          "height": 197
        }
      },
      "cell_type": "code",
      "source": [
        "final_last.head()"
      ],
      "execution_count": 33,
      "outputs": [
        {
          "output_type": "execute_result",
          "data": {
            "text/html": [
              "<div>\n",
              "<style scoped>\n",
              "    .dataframe tbody tr th:only-of-type {\n",
              "        vertical-align: middle;\n",
              "    }\n",
              "\n",
              "    .dataframe tbody tr th {\n",
              "        vertical-align: top;\n",
              "    }\n",
              "\n",
              "    .dataframe thead th {\n",
              "        text-align: right;\n",
              "    }\n",
              "</style>\n",
              "<table border=\"1\" class=\"dataframe\">\n",
              "  <thead>\n",
              "    <tr style=\"text-align: right;\">\n",
              "      <th></th>\n",
              "      <th>Score</th>\n",
              "      <th>preprocessed_reviews</th>\n",
              "    </tr>\n",
              "  </thead>\n",
              "  <tbody>\n",
              "    <tr>\n",
              "      <th>138702</th>\n",
              "      <td>1</td>\n",
              "      <td>book purchased birthday gift year old boy sque...</td>\n",
              "    </tr>\n",
              "    <tr>\n",
              "      <th>138707</th>\n",
              "      <td>1</td>\n",
              "      <td>daughter loves really rosie books introduced r...</td>\n",
              "    </tr>\n",
              "    <tr>\n",
              "      <th>138708</th>\n",
              "      <td>0</td>\n",
              "      <td>one best children books ever written mini vers...</td>\n",
              "    </tr>\n",
              "    <tr>\n",
              "      <th>138692</th>\n",
              "      <td>1</td>\n",
              "      <td>title chicken soup riceauthor maurice sendakre...</td>\n",
              "    </tr>\n",
              "    <tr>\n",
              "      <th>138689</th>\n",
              "      <td>1</td>\n",
              "      <td>fun way children learn months year learn poems...</td>\n",
              "    </tr>\n",
              "  </tbody>\n",
              "</table>\n",
              "</div>"
            ],
            "text/plain": [
              "        Score                               preprocessed_reviews\n",
              "138702      1  book purchased birthday gift year old boy sque...\n",
              "138707      1  daughter loves really rosie books introduced r...\n",
              "138708      0  one best children books ever written mini vers...\n",
              "138692      1  title chicken soup riceauthor maurice sendakre...\n",
              "138689      1  fun way children learn months year learn poems..."
            ]
          },
          "metadata": {
            "tags": []
          },
          "execution_count": 33
        }
      ]
    },
    {
      "metadata": {
        "colab_type": "code",
        "id": "9emlp1RS40P5",
        "colab": {}
      },
      "cell_type": "code",
      "source": [
        "X=final_last[\"preprocessed_reviews\"]\n",
        "Y=final_last[\"Score\"]"
      ],
      "execution_count": 0,
      "outputs": []
    },
    {
      "metadata": {
        "colab_type": "code",
        "id": "TR7r2yfY5Hr9",
        "outputId": "ba7b396c-ee39-4f5e-bd78-30c463ef7351",
        "colab": {
          "base_uri": "https://localhost:8080/",
          "height": 1118
        }
      },
      "cell_type": "code",
      "source": [
        "X"
      ],
      "execution_count": 35,
      "outputs": [
        {
          "output_type": "execute_result",
          "data": {
            "text/plain": [
              "138702    book purchased birthday gift year old boy sque...\n",
              "138707    daughter loves really rosie books introduced r...\n",
              "138708    one best children books ever written mini vers...\n",
              "138692    title chicken soup riceauthor maurice sendakre...\n",
              "138689    fun way children learn months year learn poems...\n",
              "138690    great little book read aloud nice rhythm well ...\n",
              "138691    book poetry months year goes month cute little...\n",
              "138688    grew reading sendak books watching really rosi...\n",
              "138697    book family favorite read children small order...\n",
              "138709    junei saw charming groupof roses beginto droop...\n",
              "138696    great book adorable illustrations true classic...\n",
              "138695    remembered book childhood got kids good rememb...\n",
              "138694    set aside least hour day read son point consid...\n",
              "138693    charming rhyming book describes circumstances ...\n",
              "138681    book favorite mine since able read one first i...\n",
              "138703    year old daughter brought book home school lib...\n",
              "138680    wonderful little book loved years ago twins lo...\n",
              "138677    children love book first grader got christmas ...\n",
              "138678    one earliest memories book mother read us cons...\n",
              "138705    summary young boy describes usefulness chicken...\n",
              "138684    copy smaller expected mostly not pay attention...\n",
              "138704    book contains collection twelve short statemen...\n",
              "138685    grand daughter favorite book read loves rhythm...\n",
              "138686    entertaining rhyming story cleaver catchy illu...\n",
              "138687    get movie sound track sing along carol king gr...\n",
              "138676    days person says chicken soup probably going f...\n",
              "138706    witty little book makes son laugh loud recite ...\n",
              "138679    give five stars maurice sendak story one star ...\n",
              "138700    great book perfect condition arrived short amo...\n",
              "138699    classic children book not go wrong read kid or...\n",
              "                                ...                        \n",
              "35419     trader joe product good quality buy straight t...\n",
              "195185    gave bulbs receptionist local elder home volun...\n",
              "494393    tried reading ingredients include sweet agave ...\n",
              "134853    watery tasteless pinot noir planet cali tools ...\n",
              "430102    usually drink green machine really wanted try ...\n",
              "264734    purchased several amaryllis seller none compar...\n",
              "264735    neighborhood recently decided create neighborh...\n",
              "241028    true love gave christmas blooming amaryllis co...\n",
              "269822    bit hesitant buy tea due low price truth high ...\n",
              "343072    avid tea drinker enjoy tea warm cold depending...\n",
              "427660    wife using unsweetened iced tea years great wa...\n",
              "184728    product personal pantry delicious love kids as...\n",
              "178144    love sweetener use replace sugar everything no...\n",
              "178140    using product months never go back sweetener t...\n",
              "178138    zero sweetner best ever used one drop inmy cup...\n",
              "178137    sweetner great little bit goes long way used s...\n",
              "178136    using fat skinny zero sweetener almost year sw...\n",
              "178134    using product bit six months absolutely love u...\n",
              "178135    fat skinny zero wonderful sweetener use everyt...\n",
              "178147    wonderful product perfect use baking anything ...\n",
              "178139    great product not expensive easy use ships qui...\n",
              "178146    packets powdered sweeteners usually little dex...\n",
              "178142    using fat skinny zero since first introduced f...\n",
              "178145    love love sweetener use baking unsweetened fla...\n",
              "178143    fts zero best sweetener ever tried no aftertas...\n",
              "178141    use baking instead sugar use cakes whipped cre...\n",
              "173675    try sauce believe starts little sweet honey ta...\n",
              "204727    bought hazelnut paste nocciola spread local sh...\n",
              "5259      purchased product local store ny kids love qui...\n",
              "302474    purchased send son away college delivered righ...\n",
              "Name: preprocessed_reviews, Length: 348260, dtype: object"
            ]
          },
          "metadata": {
            "tags": []
          },
          "execution_count": 35
        }
      ]
    },
    {
      "metadata": {
        "colab_type": "code",
        "id": "oj38Bb8szsHp",
        "colab": {}
      },
      "cell_type": "code",
      "source": [
        "from sklearn.model_selection import train_test_split"
      ],
      "execution_count": 0,
      "outputs": []
    },
    {
      "metadata": {
        "colab_type": "text",
        "id": "3siEq9ctse0O"
      },
      "cell_type": "markdown",
      "source": [
        "## [1]Working With BAG OF WORDS"
      ]
    },
    {
      "metadata": {
        "id": "kE-XPcsANELI",
        "colab_type": "text"
      },
      "cell_type": "markdown",
      "source": [
        "### Applying KNN kd-tree on BOW"
      ]
    },
    {
      "metadata": {
        "id": "v-Yu7ijuKaHf",
        "colab_type": "code",
        "colab": {}
      },
      "cell_type": "code",
      "source": [
        "# X_train, X_test, y_train, y_test = train_test_split(X, Y, test_size=0.33, shuffle=Flase)# this is for time series split\n",
        "X_train, X_test, y_train, y_test = train_test_split(X[:20000], Y[:20000], test_size=0.33) \n",
        "X_train, X_cv, y_train, y_cv = train_test_split(X_train, y_train, test_size=0.33) # this is random splitting"
      ],
      "execution_count": 0,
      "outputs": []
    },
    {
      "metadata": {
        "colab_type": "code",
        "id": "g4vPGhvUse0S",
        "outputId": "3a214532-f280-470d-9335-d3101f26f71a",
        "colab": {
          "base_uri": "https://localhost:8080/",
          "height": 141
        }
      },
      "cell_type": "code",
      "source": [
        "#removing stop words like \"not\" should be avoided before building n-grams\n",
        "# count_vect = CountVectorizer(ngram_range=(1,2))\n",
        "# please do read the CountVectorizer documentation http://scikit-learn.org/stable/modules/generated/sklearn.feature_extraction.text.CountVectorizer.html\n",
        "\n",
        "# choosing these numebrs min_df=10, max_features=500\n",
        "count_vect = CountVectorizer(ngram_range=(1,1), min_df=10, max_features=500)\n",
        "X_train_bow_bigram = count_vect.fit_transform(X_train)\n",
        "X_cv_bow_bigram = count_vect.transform(X_cv)\n",
        "X_test_bow_bigram = count_vect.transform(X_test)\n",
        "print(\"After vectorizations\")\n",
        "print(X_train_bow_bigram.shape, y_train.shape)\n",
        "print(X_cv_bow_bigram.shape,y_cv.shape)\n",
        "print(X_test_bow_bigram.shape, y_test.shape)\n",
        "print(\"=\"*100)\n",
        "print(\"the type of count vectorizer \",type(X_train_bow_bigram))\n",
        "print(\"the number of unique words in train\", X_train_bow_bigram.get_shape()[1])"
      ],
      "execution_count": 38,
      "outputs": [
        {
          "output_type": "stream",
          "text": [
            "After vectorizations\n",
            "(8978, 500) (8978,)\n",
            "(4422, 500) (4422,)\n",
            "(6600, 500) (6600,)\n",
            "====================================================================================================\n",
            "the type of count vectorizer  <class 'scipy.sparse.csr.csr_matrix'>\n",
            "the number of unique words in train 500\n"
          ],
          "name": "stdout"
        }
      ]
    },
    {
      "metadata": {
        "id": "HZu0nEUkKaHj",
        "colab_type": "text"
      },
      "cell_type": "markdown",
      "source": [
        "### Applying Gridsearch to do hyperparameter tuning"
      ]
    },
    {
      "metadata": {
        "colab_type": "code",
        "id": "xUJBafrNO8g_",
        "outputId": "4742f8ed-70d2-4453-a0d5-d8113ae701ee",
        "colab": {
          "base_uri": "https://localhost:8080/",
          "height": 158
        }
      },
      "cell_type": "code",
      "source": [
        "#Applying Gridsearch to do hyperparameter tuning\n",
        "from sklearn.neighbors import KNeighborsClassifier\n",
        "from sklearn.metrics import roc_auc_score\n",
        "import matplotlib.pyplot as plt\n",
        "from sklearn.model_selection import GridSearchCV\n",
        "\n",
        "#Applying kd_tree algorithm in knn model\n",
        "knn_model=KNeighborsClassifier(algorithm='kd_tree',n_jobs=-1)\n",
        "\n",
        "parameters={'n_neighbors':[1,5,10,15,21,31,41]}\n",
        "clf=GridSearchCV(knn_model,parameters,cv=10,scoring='roc_auc',n_jobs=-1)\n",
        "\n",
        "#converting sparse matrices into dense as Kd-tree algo takes dense matrices\n",
        "\n",
        "X_train_bow_bigram=X_train_bow_bigram.toarray()\n",
        "\n",
        "clf.fit(X_train_bow_bigram, y_train)\n",
        "\n",
        "\n"
      ],
      "execution_count": 39,
      "outputs": [
        {
          "output_type": "execute_result",
          "data": {
            "text/plain": [
              "GridSearchCV(cv=10, error_score='raise-deprecating',\n",
              "       estimator=KNeighborsClassifier(algorithm='kd_tree', leaf_size=30, metric='minkowski',\n",
              "           metric_params=None, n_jobs=-1, n_neighbors=5, p=2,\n",
              "           weights='uniform'),\n",
              "       fit_params=None, iid='warn', n_jobs=-1,\n",
              "       param_grid={'n_neighbors': [1, 5, 10, 15, 21, 31, 41]},\n",
              "       pre_dispatch='2*n_jobs', refit=True, return_train_score='warn',\n",
              "       scoring='roc_auc', verbose=0)"
            ]
          },
          "metadata": {
            "tags": []
          },
          "execution_count": 39
        }
      ]
    },
    {
      "metadata": {
        "colab_type": "code",
        "id": "46n0lIjtCINv",
        "outputId": "eb458fbc-20e3-441b-de8c-c3822fbbf4f9",
        "colab": {
          "base_uri": "https://localhost:8080/",
          "height": 294
        }
      },
      "cell_type": "code",
      "source": [
        "train_auc=clf.cv_results_[\"mean_train_score\"]\n",
        "train_auc_std=clf.cv_results_[\"std_train_score\"]\n",
        "cv_auc=clf.cv_results_[\"mean_test_score\"]\n",
        "cv_auc_std=clf.cv_results_[\"std_test_score\"]\n",
        "\n",
        "K=[1,5,10,15,21,31,41]\n",
        "plt.plot(K, train_auc , label=\"Train AUC\")\n",
        "plt.gca().fill_between(K,train_auc - train_auc_std,train_auc + train_auc_std,alpha=0.2,color='darkblue')\n",
        "\n",
        "plt.plot(K, cv_auc, label='CV AUC')\n",
        "# this code is copied from here: https://stackoverflow.com/a/48803361/4084039\n",
        "plt.gca().fill_between(K,cv_auc - cv_auc_std,cv_auc + cv_auc_std,alpha=0.2,color='darkorange')\n",
        "\n",
        "plt.legend()\n",
        "plt.xlabel(\"K: hyperparameter\")\n",
        "plt.ylabel(\"AUC\")\n",
        "plt.title(\"ERROR PLOTS\")\n",
        "plt.show()"
      ],
      "execution_count": 40,
      "outputs": [
        {
          "output_type": "display_data",
          "data": {
            "image/png": "[encoded data removed]",
            "text/plain": [
              "<Figure size 432x288 with 1 Axes>"
            ]
          },
          "metadata": {
            "tags": []
          }
        }
      ]
    },
    {
      "metadata": {
        "colab_type": "text",
        "id": "7IK-5t9ld7cG"
      },
      "cell_type": "markdown",
      "source": [
        "### Testing with test data"
      ]
    },
    {
      "metadata": {
        "colab_type": "code",
        "id": "FswJhAf6d_kI",
        "outputId": "b8e34ea9-7657-42c1-8089-52b0bbcb8f96",
        "colab": {
          "base_uri": "https://localhost:8080/",
          "height": 418
        }
      },
      "cell_type": "code",
      "source": [
        "from sklearn.metrics import roc_curve, auc\n",
        "\n",
        "\n",
        "neigh = KNeighborsClassifier(n_neighbors=50 ,algorithm='kd_tree')\n",
        "neigh.fit(X_train_bow_bigram, y_train)\n",
        "# roc_auc_score(y_true, y_score) the 2nd parameter should be probability estimates of the positive class\n",
        "# not the predicted outputs\n",
        "#converting X_test data into dense matrices as kd_tree works with dense matrices\n",
        "X_test_bow_bigram=X_test_bow_bigram.toarray()\n",
        "train_fpr, train_tpr, thresholds = roc_curve(y_train, neigh.predict_proba(X_train_bow_bigram)[:,1])\n",
        "test_fpr, test_tpr, thresholds = roc_curve(y_test, neigh.predict_proba(X_test_bow_bigram)[:,1])\n",
        "\n",
        "plt.plot(train_fpr, train_tpr, label=\"train AUC =\"+str(auc(train_fpr, train_tpr)))\n",
        "plt.plot(test_fpr, test_tpr, label=\"test AUC =\"+str(auc(test_fpr, test_tpr)))\n",
        "plt.legend()\n",
        "plt.xlabel(\"FPRr\")\n",
        "plt.ylabel(\"TPR\")\n",
        "plt.title(\"ERROR PLOTS\")\n",
        "plt.show()\n",
        "\n",
        "print(\"=\"*100)\n",
        "\n",
        "from sklearn.metrics import confusion_matrix\n",
        "print(\"Train confusion matrix\")\n",
        "print(confusion_matrix(y_train, neigh.predict(X_train_bow_bigram)))\n",
        "print(\"Test confusion matrix\")\n",
        "print(confusion_matrix(y_test, neigh.predict(X_test_bow_bigram)))"
      ],
      "execution_count": 41,
      "outputs": [
        {
          "output_type": "display_data",
          "data": {
            "image/png": "[encoded data removed]",
            "text/plain": [
              "<Figure size 432x288 with 1 Axes>"
            ]
          },
          "metadata": {
            "tags": []
          }
        },
        {
          "output_type": "stream",
          "text": [
            "====================================================================================================\n",
            "Train confusion matrix\n",
            "[[  78 1293]\n",
            " [  29 7578]]\n",
            "Test confusion matrix\n",
            "[[  60  972]\n",
            " [  30 5538]]\n"
          ],
          "name": "stdout"
        }
      ]
    },
    {
      "metadata": {
        "id": "9MXKjzu4NMDg",
        "colab_type": "code",
        "colab": {
          "base_uri": "https://localhost:8080/",
          "height": 330
        },
        "outputId": "4fcd3245-1e76-4efe-8c09-0e1e33a31523"
      },
      "cell_type": "code",
      "source": [
        "print(\"Heatmap of train confusion matrix\")\n",
        "import seaborn as sns\n",
        "confusion_matrix_train_BOW = confusion_matrix(y_train, neigh.predict(X_train_bow_bigram))\n",
        "\n",
        "df_cm=pd.DataFrame(confusion_matrix_train_BOW,index=[\"Negative:0\",\"Positive:1\"],columns=[\"Negative\",\"Positive\"],)\n",
        "sns.heatmap(df_cm,annot=True,fmt='d')\n",
        "plt.title(\"Confusion Matrix\")\n",
        "plt.xlabel(\"Predicted Class\")\n",
        "plt.ylabel(\"Actual Class\")"
      ],
      "execution_count": 44,
      "outputs": [
        {
          "output_type": "stream",
          "text": [
            "Heatmap of train confusion matrix\n"
          ],
          "name": "stdout"
        },
        {
          "output_type": "execute_result",
          "data": {
            "text/plain": [
              "Text(33.0, 0.5, 'Actual Class')"
            ]
          },
          "metadata": {
            "tags": []
          },
          "execution_count": 44
        },
        {
          "output_type": "display_data",
          "data": {
            "image/png": "[encoded data removed]",
            "text/plain": [
              "<Figure size 432x288 with 2 Axes>"
            ]
          },
          "metadata": {
            "tags": []
          }
        }
      ]
    },
    {
      "metadata": {
        "id": "gm0hfT__N7eL",
        "colab_type": "code",
        "colab": {
          "base_uri": "https://localhost:8080/",
          "height": 330
        },
        "outputId": "f9f3c2c1-903c-4d26-dc5a-886f39dab151"
      },
      "cell_type": "code",
      "source": [
        "print(\"Heatmap of test confusion matrix\")\n",
        "import seaborn as sns\n",
        "confusion_matrix_test_BOW = confusion_matrix(y_test, neigh.predict(X_test_bow_bigram))\n",
        "\n",
        "df_cm=pd.DataFrame(confusion_matrix_test_BOW,index=[\"Negative:0\",\"Positive:1\"],columns=[\"Negative\",\"Positive\"],)\n",
        "sns.heatmap(df_cm,annot=True,fmt='d')\n",
        "plt.title(\"Confusion Matrix\")\n",
        "plt.xlabel(\"Predicted Class\")\n",
        "plt.ylabel(\"Actual Class\")"
      ],
      "execution_count": 46,
      "outputs": [
        {
          "output_type": "stream",
          "text": [
            "Heatmap of test confusion matrix\n"
          ],
          "name": "stdout"
        },
        {
          "output_type": "execute_result",
          "data": {
            "text/plain": [
              "Text(33.0, 0.5, 'Actual Class')"
            ]
          },
          "metadata": {
            "tags": []
          },
          "execution_count": 46
        },
        {
          "output_type": "display_data",
          "data": {
            "image/png": "[encoded data removed]",
            "text/plain": [
              "<Figure size 432x288 with 2 Axes>"
            ]
          },
          "metadata": {
            "tags": []
          }
        }
      ]
    },
    {
      "metadata": {
        "id": "SR-5jY2sKaHt",
        "colab_type": "code",
        "colab": {}
      },
      "cell_type": "code",
      "source": [
        "#Accuracy for KNN(kd_tree) model with BOW is 74.3%"
      ],
      "execution_count": 0,
      "outputs": []
    },
    {
      "metadata": {
        "id": "dRa9RUEHKaHv",
        "colab_type": "text"
      },
      "cell_type": "markdown",
      "source": [
        "### Applying KNN brute force on BOW"
      ]
    },
    {
      "metadata": {
        "colab_type": "code",
        "id": "51yERQmdZ0SU",
        "colab": {}
      },
      "cell_type": "code",
      "source": [
        "X_train,X_test,y_train,y_test=train_test_split(X[:100000],Y[:100000],test_size=0.33,random_state=1)\n",
        "X_train, X_cv, y_train, y_cv = train_test_split(X_train, y_train, test_size=0.33) # this is random splitting"
      ],
      "execution_count": 0,
      "outputs": []
    },
    {
      "metadata": {
        "colab_type": "code",
        "id": "QEZXQXu8r-Nk",
        "outputId": "83aa12a9-4d84-45fb-930e-da1dd53f17e6",
        "colab": {
          "base_uri": "https://localhost:8080/",
          "height": 141
        }
      },
      "cell_type": "code",
      "source": [
        "count_vect = CountVectorizer(ngram_range=(1,2), min_df=10, max_features=500)\n",
        "X_train_bow_bigram = count_vect.fit_transform(X_train)\n",
        "X_cv_bow_bigram = count_vect.transform(X_cv)\n",
        "X_test_bow_bigram = count_vect.transform(X_test)\n",
        "print(\"After vectorizations\")\n",
        "print(X_train_bow_bigram.shape, y_train.shape)\n",
        "print(X_cv_bow_bigram.shape,y_cv.shape)\n",
        "print(X_test_bow_bigram.shape, y_test.shape)\n",
        "print(\"=\"*100)\n",
        "print(\"the type of count vectorizer \",type(X_train_bow_bigram))\n",
        "print(\"the number of unique words in train\", X_train_bow_bigram.get_shape()[1])"
      ],
      "execution_count": 49,
      "outputs": [
        {
          "output_type": "stream",
          "text": [
            "After vectorizations\n",
            "(44890, 500) (44890,)\n",
            "(22110, 500) (22110,)\n",
            "(33000, 500) (33000,)\n",
            "====================================================================================================\n",
            "the type of count vectorizer  <class 'scipy.sparse.csr.csr_matrix'>\n",
            "the number of unique words in train 500\n"
          ],
          "name": "stdout"
        }
      ]
    },
    {
      "metadata": {
        "id": "xsQtmOx0KaHz",
        "colab_type": "text"
      },
      "cell_type": "markdown",
      "source": [
        "### Applying Gridsearch to do hyperparameter tuning"
      ]
    },
    {
      "metadata": {
        "colab_type": "code",
        "id": "nL-R_9M1Xa6T",
        "outputId": "5e0feb36-d9c5-4494-f196-1b1204241646",
        "colab": {
          "base_uri": "https://localhost:8080/",
          "height": 158
        }
      },
      "cell_type": "code",
      "source": [
        "from sklearn.neighbors import KNeighborsClassifier\n",
        "from sklearn.metrics import roc_auc_score\n",
        "import matplotlib.pyplot as plt\n",
        "from sklearn.model_selection import GridSearchCV\n",
        "#now lets apply brute force algorithm instead of kd_tree \n",
        "\n",
        "#Applying Gridsearch to do hyperparameter tuning\n",
        "\n",
        "\n",
        "knn_model_brute=KNeighborsClassifier(algorithm='brute',n_jobs=-1)\n",
        "parameters={'n_neighbors':[10,21,31,41,51,61]}\n",
        "clf_brute=GridSearchCV(knn_model_brute,parameters,cv=10,scoring='roc_auc',n_jobs=-1)\n",
        "\n",
        "\n",
        "\n",
        "clf_brute.fit(X_train_bow_bigram, y_train)\n"
      ],
      "execution_count": 50,
      "outputs": [
        {
          "output_type": "execute_result",
          "data": {
            "text/plain": [
              "GridSearchCV(cv=10, error_score='raise-deprecating',\n",
              "       estimator=KNeighborsClassifier(algorithm='brute', leaf_size=30, metric='minkowski',\n",
              "           metric_params=None, n_jobs=-1, n_neighbors=5, p=2,\n",
              "           weights='uniform'),\n",
              "       fit_params=None, iid='warn', n_jobs=-1,\n",
              "       param_grid={'n_neighbors': [10, 21, 31, 41, 51, 61]},\n",
              "       pre_dispatch='2*n_jobs', refit=True, return_train_score='warn',\n",
              "       scoring='roc_auc', verbose=0)"
            ]
          },
          "metadata": {
            "tags": []
          },
          "execution_count": 50
        }
      ]
    },
    {
      "metadata": {
        "colab_type": "code",
        "id": "cFa5WJBfZYH4",
        "outputId": "e53d3e7f-bc84-4edc-f8a2-a8dc3d2c9815",
        "colab": {
          "base_uri": "https://localhost:8080/",
          "height": 294
        }
      },
      "cell_type": "code",
      "source": [
        "train_auc=clf_brute.cv_results_[\"mean_train_score\"]\n",
        "train_auc_std=clf_brute.cv_results_[\"std_train_score\"]\n",
        "cv_auc=clf_brute.cv_results_[\"mean_test_score\"]\n",
        "cv_auc_std=clf_brute.cv_results_[\"std_test_score\"]\n",
        "\n",
        "K=[10,21,31,41,51,61]\n",
        "plt.plot(K, train_auc , label=\"Train AUC\")\n",
        "plt.gca().fill_between(K,train_auc - train_auc_std,train_auc + train_auc_std,alpha=0.2,color='darkblue')\n",
        "\n",
        "plt.plot(K, cv_auc, label='CV AUC')\n",
        "# this code is copied from here: https://stackoverflow.com/a/48803361/4084039\n",
        "plt.gca().fill_between(K,cv_auc - cv_auc_std,cv_auc + cv_auc_std,alpha=0.2,color='darkorange')\n",
        "\n",
        "plt.legend()\n",
        "plt.xlabel(\"K: hyperparameter\")\n",
        "plt.ylabel(\"AUC\")\n",
        "plt.title(\"ERROR PLOTS : BOW(Brute)\")\n",
        "plt.show()"
      ],
      "execution_count": 51,
      "outputs": [
        {
          "output_type": "display_data",
          "data": {
            "image/png": "[encoded data removed]",
            "text/plain": [
              "<Figure size 432x288 with 1 Axes>"
            ]
          },
          "metadata": {
            "tags": []
          }
        }
      ]
    },
    {
      "metadata": {
        "id": "DNlrN_zfKaH5",
        "colab_type": "text"
      },
      "cell_type": "markdown",
      "source": [
        "### Testing with test data"
      ]
    },
    {
      "metadata": {
        "colab_type": "code",
        "id": "AkifpT2OF6Ad",
        "outputId": "5a2b8a21-8e63-4708-f93b-760a211e1fe6",
        "colab": {
          "base_uri": "https://localhost:8080/",
          "height": 418
        }
      },
      "cell_type": "code",
      "source": [
        "from sklearn.metrics import roc_curve, auc\n",
        "\n",
        "\n",
        "neigh = KNeighborsClassifier(n_neighbors=45,algorithm='brute')\n",
        "neigh.fit(X_train_bow_bigram, y_train)\n",
        "# roc_auc_score(y_true, y_score) the 2nd parameter should be probability estimates of the positive class\n",
        "# not the predicted outputs\n",
        "#converting X_test data into dense matrices as kd_tree works with dense matrices\n",
        "#X_test_bow_bigram=X_test_bow_bigram.toarray()\n",
        "train_fpr, train_tpr, thresholds = roc_curve(y_train, neigh.predict_proba(X_train_bow_bigram)[:,1])\n",
        "test_fpr, test_tpr, thresholds = roc_curve(y_test, neigh.predict_proba(X_test_bow_bigram)[:,1])\n",
        "\n",
        "plt.plot(train_fpr, train_tpr, label=\"train AUC =\"+str(auc(train_fpr, train_tpr)))\n",
        "plt.plot(test_fpr, test_tpr, label=\"test AUC =\"+str(auc(test_fpr, test_tpr)))\n",
        "plt.legend()\n",
        "plt.xlabel(\"FPR\")\n",
        "plt.ylabel(\"TPR\")\n",
        "plt.title(\"ERROR PLOTS\")\n",
        "plt.show()\n",
        "\n",
        "print(\"=\"*100)\n",
        "\n",
        "from sklearn.metrics import confusion_matrix\n",
        "print(\"Train confusion matrix\")\n",
        "print(confusion_matrix(y_train, neigh.predict(X_train_bow_bigram)))\n",
        "print(\"Test confusion matrix\")\n",
        "print(confusion_matrix(y_test, neigh.predict(X_test_bow_bigram)))"
      ],
      "execution_count": 52,
      "outputs": [
        {
          "output_type": "display_data",
          "data": {
            "image/png": "[encoded data removed]",
            "text/plain": [
              "<Figure size 432x288 with 1 Axes>"
            ]
          },
          "metadata": {
            "tags": []
          }
        },
        {
          "output_type": "stream",
          "text": [
            "====================================================================================================\n",
            "Train confusion matrix\n",
            "[[ 1204  5450]\n",
            " [  843 37393]]\n",
            "Test confusion matrix\n",
            "[[  837  4052]\n",
            " [  689 27422]]\n"
          ],
          "name": "stdout"
        }
      ]
    },
    {
      "metadata": {
        "id": "-mblot9gOPgD",
        "colab_type": "code",
        "colab": {
          "base_uri": "https://localhost:8080/",
          "height": 330
        },
        "outputId": "34e6c5f6-530f-4435-bafb-4f61c98ac97d"
      },
      "cell_type": "code",
      "source": [
        "print(\"Heatmap of train confusion matrix\")\n",
        "import seaborn as sns\n",
        "confusion_matrix_train_BOW = confusion_matrix(y_train, neigh.predict(X_train_bow_bigram))\n",
        "\n",
        "df_cm=pd.DataFrame(confusion_matrix_train_BOW,index=[\"Negative:0\",\"Positive:1\"],columns=[\"Negative\",\"Positive\"],)\n",
        "sns.heatmap(df_cm,annot=True,fmt='d')\n",
        "plt.title(\"Confusion Matrix\")\n",
        "plt.xlabel(\"Predicted Class\")\n",
        "plt.ylabel(\"Actual Class\")"
      ],
      "execution_count": 54,
      "outputs": [
        {
          "output_type": "stream",
          "text": [
            "Heatmap of train confusion matrix\n"
          ],
          "name": "stdout"
        },
        {
          "output_type": "execute_result",
          "data": {
            "text/plain": [
              "Text(33.0, 0.5, 'Actual Class')"
            ]
          },
          "metadata": {
            "tags": []
          },
          "execution_count": 54
        },
        {
          "output_type": "display_data",
          "data": {
            "image/png": "[encoded data removed]",
            "text/plain": [
              "<Figure size 432x288 with 2 Axes>"
            ]
          },
          "metadata": {
            "tags": []
          }
        }
      ]
    },
    {
      "metadata": {
        "id": "4oboS2aYOU-A",
        "colab_type": "code",
        "colab": {
          "base_uri": "https://localhost:8080/",
          "height": 330
        },
        "outputId": "71de9e2b-2feb-45d5-d6c8-ddb06a8f1aae"
      },
      "cell_type": "code",
      "source": [
        "print(\"Heatmap of test confusion matrix\")\n",
        "import seaborn as sns\n",
        "confusion_matrix_test_BOW = confusion_matrix(y_test, neigh.predict(X_test_bow_bigram))\n",
        "\n",
        "df_cm=pd.DataFrame(confusion_matrix_test_BOW,index=[\"Negative:0\",\"Positive:1\"],columns=[\"Negative\",\"Positive\"],)\n",
        "sns.heatmap(df_cm,annot=True,fmt='d')\n",
        "plt.title(\"Confusion Matrix\")\n",
        "plt.xlabel(\"Predicted Class\")\n",
        "plt.ylabel(\"Actual Class\")"
      ],
      "execution_count": 55,
      "outputs": [
        {
          "output_type": "stream",
          "text": [
            "Heatmap of test confusion matrix\n"
          ],
          "name": "stdout"
        },
        {
          "output_type": "execute_result",
          "data": {
            "text/plain": [
              "Text(33.0, 0.5, 'Actual Class')"
            ]
          },
          "metadata": {
            "tags": []
          },
          "execution_count": 55
        },
        {
          "output_type": "display_data",
          "data": {
            "image/png": "[encoded data removed]",
            "text/plain": [
              "<Figure size 432x288 with 2 Axes>"
            ]
          },
          "metadata": {
            "tags": []
          }
        }
      ]
    },
    {
      "metadata": {
        "id": "SoHC4hW4KaH7",
        "colab_type": "code",
        "colab": {}
      },
      "cell_type": "code",
      "source": [
        "#Accuracy for KNN(brute force) model with BOW is 75.8%"
      ],
      "execution_count": 0,
      "outputs": []
    },
    {
      "metadata": {
        "colab_type": "text",
        "id": "k68E4EzCse0U"
      },
      "cell_type": "markdown",
      "source": [
        "## [2]Working With TFIDF"
      ]
    },
    {
      "metadata": {
        "id": "xin8HSybKaH9",
        "colab_type": "text"
      },
      "cell_type": "markdown",
      "source": [
        "### Applying KNN kd-tree on TFIDF"
      ]
    },
    {
      "metadata": {
        "colab_type": "code",
        "id": "2oTBCu9oLul0",
        "colab": {}
      },
      "cell_type": "code",
      "source": [
        "#First applying with kd_tree algorithm\n",
        "X_train_kd,X_test_kd,y_train_kd,y_test_kd=train_test_split(X[:20000],Y[:20000],test_size=0.33,random_state=1)\n",
        "X_train_kd, X_cv_kd, y_train_kd, y_cv_kd = train_test_split(X_train_kd, y_train_kd, test_size=0.33) # this is random splitting"
      ],
      "execution_count": 0,
      "outputs": []
    },
    {
      "metadata": {
        "colab_type": "code",
        "id": "dhVN53Cbse0U",
        "outputId": "6be7674c-9402-4a38-a855-91ffd0e0c1ce",
        "colab": {
          "base_uri": "https://localhost:8080/",
          "height": 158
        }
      },
      "cell_type": "code",
      "source": [
        "tf_idf_vect_kd = TfidfVectorizer(ngram_range=(1,2), max_features=500)\n",
        "tf_idf_vect_kd.fit(X_train_kd)\n",
        "print(\"some sample features(unique words in the corpus)\",tf_idf_vect_kd.get_feature_names()[0:10])\n",
        "print('='*50)\n",
        "\n",
        "X_train_tfidf_kd = tf_idf_vect_kd.transform(X_train_kd)\n",
        "X_cv_tfidf_kd = tf_idf_vect_kd.transform(X_cv_kd)\n",
        "X_test_tfidf_kd = tf_idf_vect_kd.transform(X_test_kd)\n",
        "print(X_train_tfidf_kd.shape, y_train_kd.shape)\n",
        "print(X_cv_tfidf_kd.shape , y_cv_kd.shape)\n",
        "print(X_test_tfidf_kd.shape, y_test_kd.shape)\n",
        "print(\"=\"*100)\n",
        "print(\"the type of count vectorizer \",type(X_train_tfidf_kd))\n",
        "print(\"the number of unique words in train\", X_train_tfidf_kd.get_shape()[1])"
      ],
      "execution_count": 58,
      "outputs": [
        {
          "output_type": "stream",
          "text": [
            "some sample features(unique words in the corpus) ['able', 'absolutely', 'actually', 'add', 'added', 'ago', 'almost', 'already', 'also', 'although']\n",
            "==================================================\n",
            "(8978, 500) (8978,)\n",
            "(4422, 500) (4422,)\n",
            "(6600, 500) (6600,)\n",
            "====================================================================================================\n",
            "the type of count vectorizer  <class 'scipy.sparse.csr.csr_matrix'>\n",
            "the number of unique words in train 500\n"
          ],
          "name": "stdout"
        }
      ]
    },
    {
      "metadata": {
        "id": "YvISkKbYKaIA",
        "colab_type": "text"
      },
      "cell_type": "markdown",
      "source": [
        "### Applying Gridsearch to do hyperparameter tuning"
      ]
    },
    {
      "metadata": {
        "colab_type": "code",
        "id": "e_DPdW3YpRpO",
        "outputId": "983c9b4c-04b4-4d65-bd7c-8e058e95518e",
        "colab": {
          "base_uri": "https://localhost:8080/",
          "height": 158
        }
      },
      "cell_type": "code",
      "source": [
        "#Applying Gridsearch to do hyperparameter tuning\n",
        "from sklearn.neighbors import KNeighborsClassifier\n",
        "from sklearn.metrics import roc_auc_score\n",
        "import matplotlib.pyplot as plt\n",
        "from sklearn.model_selection import GridSearchCV\n",
        "\n",
        "#converting sparse matrices into dense as Kd-tree algo takes dense matrices\n",
        "X_train_tfidf_kd=X_train_tfidf_kd.toarray()\n",
        "\n",
        "knn_model_tfidf_kd=KNeighborsClassifier(algorithm='kd_tree' ,n_jobs=-1)\n",
        "parameters={'n_neighbors':[10,15,21,31,41,51,61]}\n",
        "clf_tfidf_kd=GridSearchCV(knn_model_tfidf_kd,parameters,cv=10,scoring='roc_auc',n_jobs=-1)\n",
        "clf_tfidf_kd.fit(X_train_tfidf_kd, y_train_kd)"
      ],
      "execution_count": 59,
      "outputs": [
        {
          "output_type": "execute_result",
          "data": {
            "text/plain": [
              "GridSearchCV(cv=10, error_score='raise-deprecating',\n",
              "       estimator=KNeighborsClassifier(algorithm='kd_tree', leaf_size=30, metric='minkowski',\n",
              "           metric_params=None, n_jobs=-1, n_neighbors=5, p=2,\n",
              "           weights='uniform'),\n",
              "       fit_params=None, iid='warn', n_jobs=-1,\n",
              "       param_grid={'n_neighbors': [10, 15, 21, 31, 41, 51, 61]},\n",
              "       pre_dispatch='2*n_jobs', refit=True, return_train_score='warn',\n",
              "       scoring='roc_auc', verbose=0)"
            ]
          },
          "metadata": {
            "tags": []
          },
          "execution_count": 59
        }
      ]
    },
    {
      "metadata": {
        "colab_type": "code",
        "id": "phNzIOfnz8YA",
        "outputId": "5c7e2a72-e639-4c93-aad0-bbda26c63b86",
        "colab": {
          "base_uri": "https://localhost:8080/",
          "height": 294
        }
      },
      "cell_type": "code",
      "source": [
        "train_auc_tfidf_kd= clf_tfidf_kd.cv_results_['mean_train_score']\n",
        "train_auc_std_tfidf_kd= clf_tfidf_kd.cv_results_['std_train_score']\n",
        "cv_auc_tfidf_kd = clf_tfidf_kd.cv_results_['mean_test_score'] \n",
        "cv_auc_std_tfidf_kd= clf_tfidf_kd.cv_results_['std_test_score']\n",
        "K=[10,15,21,31,41,51,61]\n",
        "plt.plot(K, train_auc_tfidf_kd, label='Train AUC')\n",
        "# this code is copied from here: https://stackoverflow.com/a/48803361/4084039\n",
        "plt.gca().fill_between(K,train_auc_tfidf_kd - train_auc_std_tfidf_kd,train_auc_tfidf_kd + train_auc_std_tfidf_kd,alpha=0.2,color='darkblue')\n",
        "\n",
        "plt.plot(K, cv_auc_tfidf_kd, label='CV AUC')\n",
        "# this code is copied from here: https://stackoverflow.com/a/48803361/4084039\n",
        "plt.gca().fill_between(K,cv_auc_tfidf_kd - cv_auc_std_tfidf_kd,cv_auc_tfidf_kd + cv_auc_std_tfidf_kd,alpha=0.2,color='darkorange')\n",
        "plt.legend()\n",
        "plt.xlabel(\"K: hyperparameter\")\n",
        "plt.ylabel(\"AUC\")\n",
        "plt.title(\"ERROR PLOTS\")\n",
        "plt.show()"
      ],
      "execution_count": 60,
      "outputs": [
        {
          "output_type": "display_data",
          "data": {
            "image/png": "[encoded data removed]",
            "text/plain": [
              "<Figure size 432x288 with 1 Axes>"
            ]
          },
          "metadata": {
            "tags": []
          }
        }
      ]
    },
    {
      "metadata": {
        "id": "llb4FX-dKaIG",
        "colab_type": "text"
      },
      "cell_type": "markdown",
      "source": [
        "### Testing with test data"
      ]
    },
    {
      "metadata": {
        "colab_type": "code",
        "id": "RtSUH20H0VYl",
        "outputId": "a1163eb6-bf20-4e26-de8a-eef30acb2e18",
        "colab": {
          "base_uri": "https://localhost:8080/",
          "height": 418
        }
      },
      "cell_type": "code",
      "source": [
        "# https://scikit-learn.org/stable/modules/generated/sklearn.metrics.roc_curve.html#sklearn.metrics.roc_curve\n",
        "from sklearn.metrics import roc_curve, auc\n",
        "\n",
        "\n",
        "neigh_tfidf_kd = KNeighborsClassifier(n_neighbors=60 ,n_jobs=-1,algorithm='kd_tree')\n",
        "neigh_tfidf_kd.fit(X_train_tfidf_kd, y_train_kd)\n",
        "# roc_auc_score(y_true, y_score) the 2nd parameter should be probability estimates of the positive class\n",
        "# not the predicted outputs\n",
        "\n",
        "#converting sparse matrices into dense as Kd-tree algo takes dense matrices\n",
        "\n",
        "X_test_tfidf_kd=X_test_tfidf_kd.toarray()\n",
        "\n",
        "train_fpr_tfidf, train_tpr_tfidf, thresholds_tfidf = roc_curve(y_train_kd, neigh_tfidf_kd.predict_proba(X_train_tfidf_kd)[:,1])\n",
        "test_fpr_tfidf, test_tpr_tfidf, thresholds_tfidf = roc_curve(y_test_kd, neigh_tfidf_kd.predict_proba(X_test_tfidf_kd)[:,1])\n",
        "\n",
        "plt.plot(train_fpr_tfidf, train_tpr_tfidf, label=\"train AUC =\"+str(auc(train_fpr_tfidf, train_tpr_tfidf)))\n",
        "plt.plot(test_fpr_tfidf, test_tpr_tfidf, label=\"test AUC =\"+str(auc(test_fpr_tfidf, test_tpr_tfidf)))\n",
        "plt.legend()\n",
        "plt.xlabel(\"FPR\")\n",
        "plt.ylabel(\"TPR\")\n",
        "plt.title(\"ERROR PLOTS\")\n",
        "plt.show()\n",
        "\n",
        "print(\"=\"*100)\n",
        "\n",
        "from sklearn.metrics import confusion_matrix\n",
        "print(\"Train confusion matrix\")\n",
        "print(confusion_matrix(y_train_kd, neigh_tfidf_kd.predict(X_train_tfidf_kd)))\n",
        "print(\"Test confusion matrix\")\n",
        "print(confusion_matrix(y_test_kd, neigh_tfidf_kd.predict(X_test_tfidf_kd)))"
      ],
      "execution_count": 61,
      "outputs": [
        {
          "output_type": "display_data",
          "data": {
            "image/png": "[encoded data removed]",
            "text/plain": [
              "<Figure size 432x288 with 1 Axes>"
            ]
          },
          "metadata": {
            "tags": []
          }
        },
        {
          "output_type": "stream",
          "text": [
            "====================================================================================================\n",
            "Train confusion matrix\n",
            "[[   0 1411]\n",
            " [   0 7567]]\n",
            "Test confusion matrix\n",
            "[[   0  994]\n",
            " [   0 5606]]\n"
          ],
          "name": "stdout"
        }
      ]
    },
    {
      "metadata": {
        "id": "GhWxka7QOvF3",
        "colab_type": "code",
        "colab": {
          "base_uri": "https://localhost:8080/",
          "height": 330
        },
        "outputId": "cb907c67-d638-4dc4-be79-92c486c2c233"
      },
      "cell_type": "code",
      "source": [
        "print(\"Heatmap of train confusion matrix\")\n",
        "import seaborn as sns\n",
        "confusion_matrix_train_TFIDF = confusion_matrix(y_train_kd, neigh_tfidf_kd.predict(X_train_tfidf_kd))\n",
        "\n",
        "df_cm=pd.DataFrame(confusion_matrix_train_TFIDF,index=[\"Negative:0\",\"Positive:1\"],columns=[\"Negative\",\"Positive\"],)\n",
        "sns.heatmap(df_cm,annot=True,fmt='d')\n",
        "plt.title(\"Confusion Matrix\")\n",
        "plt.xlabel(\"Predicted Class\")\n",
        "plt.ylabel(\"Actual Class\")"
      ],
      "execution_count": 64,
      "outputs": [
        {
          "output_type": "stream",
          "text": [
            "Heatmap of train confusion matrix\n"
          ],
          "name": "stdout"
        },
        {
          "output_type": "execute_result",
          "data": {
            "text/plain": [
              "Text(33.0, 0.5, 'Actual Class')"
            ]
          },
          "metadata": {
            "tags": []
          },
          "execution_count": 64
        },
        {
          "output_type": "display_data",
          "data": {
            "image/png": "[encoded data removed]",
            "text/plain": [
              "<Figure size 432x288 with 2 Axes>"
            ]
          },
          "metadata": {
            "tags": []
          }
        }
      ]
    },
    {
      "metadata": {
        "id": "Y4CE5ZzpOtp4",
        "colab_type": "code",
        "colab": {
          "base_uri": "https://localhost:8080/",
          "height": 330
        },
        "outputId": "094a7aa9-8076-45cb-940c-1e234b388d8c"
      },
      "cell_type": "code",
      "source": [
        "print(\"Heatmap of test confusion matrix\")\n",
        "import seaborn as sns\n",
        "confusion_matrix_test_TFIDF = confusion_matrix(y_test_kd, neigh_tfidf_kd.predict(X_test_tfidf_kd))\n",
        "\n",
        "df_cm=pd.DataFrame(confusion_matrix_test_TFIDF,index=[\"Negative:0\",\"Positive:1\"],columns=[\"Negative\",\"Positive\"],)\n",
        "sns.heatmap(df_cm,annot=True,fmt='d')\n",
        "plt.title(\"Confusion Matrix\")\n",
        "plt.xlabel(\"Predicted Class\")\n",
        "plt.ylabel(\"Actual Class\")"
      ],
      "execution_count": 65,
      "outputs": [
        {
          "output_type": "stream",
          "text": [
            "Heatmap of test confusion matrix\n"
          ],
          "name": "stdout"
        },
        {
          "output_type": "execute_result",
          "data": {
            "text/plain": [
              "Text(33.0, 0.5, 'Actual Class')"
            ]
          },
          "metadata": {
            "tags": []
          },
          "execution_count": 65
        },
        {
          "output_type": "display_data",
          "data": {
            "image/png": "[encoded data removed]",
            "text/plain": [
              "<Figure size 432x288 with 2 Axes>"
            ]
          },
          "metadata": {
            "tags": []
          }
        }
      ]
    },
    {
      "metadata": {
        "id": "-9a6EN-oKaIK",
        "colab_type": "code",
        "colab": {}
      },
      "cell_type": "code",
      "source": [
        "#Accuracy for KNN(kd-tree) model with TFIDF is 77.5%"
      ],
      "execution_count": 0,
      "outputs": []
    },
    {
      "metadata": {
        "id": "PVuJv2wdKaIM",
        "colab_type": "text"
      },
      "cell_type": "markdown",
      "source": [
        "### Applying KNN brute force on TFIDF"
      ]
    },
    {
      "metadata": {
        "colab_type": "code",
        "id": "KcIA_sr2mRnk",
        "outputId": "1ff05c0c-c0d7-4dd8-fdd5-99c30a990b3f",
        "colab": {
          "base_uri": "https://localhost:8080/",
          "height": 158
        }
      },
      "cell_type": "code",
      "source": [
        "#Applying brute force on TFIDF\n",
        "\n",
        "tf_idf_vect_brute = TfidfVectorizer(ngram_range=(1,2), max_features=500)\n",
        "tf_idf_vect_brute.fit(X_train)\n",
        "print(\"some sample features(unique words in the corpus)\",tf_idf_vect_brute.get_feature_names()[0:10])\n",
        "print('='*50)\n",
        "\n",
        "X_train_tfidf_brute = tf_idf_vect_brute.transform(X_train)\n",
        "X_cv_tfidf_brute = tf_idf_vect_brute.transform(X_cv)\n",
        "X_test_tfidf_brute = tf_idf_vect_brute.transform(X_test)\n",
        "print(X_train_tfidf_brute.shape, y_train.shape)\n",
        "print(X_cv_tfidf_brute.shape , y_cv.shape)\n",
        "print(X_test_tfidf_brute.shape, y_test.shape)\n",
        "print(\"=\"*100)\n",
        "print(\"the type of count vectorizer \",type(X_train_tfidf_brute))\n",
        "print(\"the number of unique words in train\", X_train_tfidf_brute.get_shape()[1])\n"
      ],
      "execution_count": 67,
      "outputs": [
        {
          "output_type": "stream",
          "text": [
            "some sample features(unique words in the corpus) ['able', 'absolutely', 'actually', 'add', 'added', 'adding', 'ago', 'almost', 'along', 'already']\n",
            "==================================================\n",
            "(44890, 500) (44890,)\n",
            "(22110, 500) (22110,)\n",
            "(33000, 500) (33000,)\n",
            "====================================================================================================\n",
            "the type of count vectorizer  <class 'scipy.sparse.csr.csr_matrix'>\n",
            "the number of unique words in train 500\n"
          ],
          "name": "stdout"
        }
      ]
    },
    {
      "metadata": {
        "id": "dGTfhrfIKaIO",
        "colab_type": "text"
      },
      "cell_type": "markdown",
      "source": [
        "### Applying Gridsearch to do hyperparameter tuning"
      ]
    },
    {
      "metadata": {
        "colab_type": "code",
        "id": "EUj0RG81m__x",
        "outputId": "6ddffb97-5343-470e-8310-c1b66e7cb269",
        "colab": {
          "base_uri": "https://localhost:8080/",
          "height": 158
        }
      },
      "cell_type": "code",
      "source": [
        "\n",
        "knn_model_tfidf_brute=KNeighborsClassifier(algorithm='brute' ,n_jobs=-1)\n",
        "parameters={'n_neighbors':[10,15,21,31,41,51,61,71]}\n",
        "clf_tfidf_brute=GridSearchCV(knn_model_tfidf_brute,parameters,cv=10,scoring='roc_auc',n_jobs=-1)\n",
        "clf_tfidf_brute.fit(X_train_tfidf_brute, y_train)"
      ],
      "execution_count": 68,
      "outputs": [
        {
          "output_type": "execute_result",
          "data": {
            "text/plain": [
              "GridSearchCV(cv=10, error_score='raise-deprecating',\n",
              "       estimator=KNeighborsClassifier(algorithm='brute', leaf_size=30, metric='minkowski',\n",
              "           metric_params=None, n_jobs=-1, n_neighbors=5, p=2,\n",
              "           weights='uniform'),\n",
              "       fit_params=None, iid='warn', n_jobs=-1,\n",
              "       param_grid={'n_neighbors': [10, 15, 21, 31, 41, 51, 61, 71]},\n",
              "       pre_dispatch='2*n_jobs', refit=True, return_train_score='warn',\n",
              "       scoring='roc_auc', verbose=0)"
            ]
          },
          "metadata": {
            "tags": []
          },
          "execution_count": 68
        }
      ]
    },
    {
      "metadata": {
        "colab_type": "code",
        "id": "MWacGln95j2B",
        "outputId": "f83d77c8-b2ba-41cc-e240-9650b2f6ed1e",
        "colab": {
          "base_uri": "https://localhost:8080/",
          "height": 294
        }
      },
      "cell_type": "code",
      "source": [
        "train_auc_tfidf_brute= clf_tfidf_brute.cv_results_['mean_train_score']\n",
        "train_auc_std_tfidf_brute= clf_tfidf_brute.cv_results_['std_train_score']\n",
        "cv_auc_tfidf_brute = clf_tfidf_brute.cv_results_['mean_test_score'] \n",
        "cv_auc_std_tfidf_brute= clf_tfidf_brute.cv_results_['std_test_score']\n",
        "K=[10,15,21,31,41,51,61,71]\n",
        "plt.plot(K, train_auc_tfidf_brute, label='Train AUC')\n",
        "# this code is copied from here: https://stackoverflow.com/a/48803361/4084039\n",
        "plt.gca().fill_between(K,train_auc_tfidf_brute - train_auc_std_tfidf_brute,train_auc_tfidf_brute + train_auc_std_tfidf_brute,alpha=0.2,color='darkblue')\n",
        "\n",
        "plt.plot(K, cv_auc_tfidf_brute, label='CV AUC')\n",
        "# this code is copied from here: https://stackoverflow.com/a/48803361/4084039\n",
        "plt.gca().fill_between(K,cv_auc_tfidf_brute - cv_auc_std_tfidf_brute,cv_auc_tfidf_brute + cv_auc_std_tfidf_brute,alpha=0.2,color='darkorange')\n",
        "plt.legend()\n",
        "plt.xlabel(\"K: hyperparameter\")\n",
        "plt.ylabel(\"AUC\")\n",
        "plt.title(\"ERROR PLOTS\")\n",
        "plt.show()"
      ],
      "execution_count": 69,
      "outputs": [
        {
          "output_type": "display_data",
          "data": {
            "image/png": "[encoded data removed]",
            "text/plain": [
              "<Figure size 432x288 with 1 Axes>"
            ]
          },
          "metadata": {
            "tags": []
          }
        }
      ]
    },
    {
      "metadata": {
        "id": "_R2IpGBzKaIU",
        "colab_type": "text"
      },
      "cell_type": "markdown",
      "source": [
        "### Testing with test data"
      ]
    },
    {
      "metadata": {
        "colab_type": "code",
        "id": "TWdsjaZP5dY3",
        "outputId": "a9cb3afb-be39-4ac0-9704-178d11a8b96f",
        "colab": {
          "base_uri": "https://localhost:8080/",
          "height": 418
        }
      },
      "cell_type": "code",
      "source": [
        "#Testing with test data\n",
        "\n",
        "neigh_tfidf_brute = KNeighborsClassifier(n_neighbors=10 ,algorithm='brute')\n",
        "neigh_tfidf_brute.fit(X_train_tfidf_brute, y_train)\n",
        "# roc_auc_score(y_true, y_score) the 2nd parameter should be probability estimates of the positive class\n",
        "# not the predicted outputs\n",
        "\n",
        "#converting sparse matrices into dense as Kd-tree algo takes dense matrices\n",
        "\n",
        "#X_test_tfidf_kd=X_test_tfidf_kd.toarray()\n",
        "\n",
        "train_fpr_tfidf, train_tpr_tfidf, thresholds_tfidf = roc_curve(y_train, neigh_tfidf_brute.predict_proba(X_train_tfidf_brute)[:,1])\n",
        "test_fpr_tfidf, test_tpr_tfidf, thresholds_tfidf = roc_curve(y_test, neigh_tfidf_brute.predict_proba(X_test_tfidf_brute)[:,1])\n",
        "\n",
        "plt.plot(train_fpr_tfidf, train_tpr_tfidf, label=\"train AUC =\"+str(auc(train_fpr_tfidf, train_tpr_tfidf)))\n",
        "plt.plot(test_fpr_tfidf, test_tpr_tfidf, label=\"test AUC =\"+str(auc(test_fpr_tfidf, test_tpr_tfidf)))\n",
        "plt.legend()\n",
        "plt.xlabel(\"FPR\")\n",
        "plt.ylabel(\"TPR\")\n",
        "plt.title(\"ERROR PLOTS\")\n",
        "plt.show()\n",
        "\n",
        "print(\"=\"*100)\n",
        "\n",
        "from sklearn.metrics import confusion_matrix\n",
        "print(\"Train confusion matrix\")\n",
        "print(confusion_matrix(y_train, neigh_tfidf_brute.predict(X_train_tfidf_brute)))\n",
        "print(\"Test confusion matrix\")\n",
        "print(confusion_matrix(y_test, neigh_tfidf_brute.predict(X_test_tfidf_brute)))"
      ],
      "execution_count": 70,
      "outputs": [
        {
          "output_type": "display_data",
          "data": {
            "image/png": "[encoded data removed]",
            "text/plain": [
              "<Figure size 432x288 with 1 Axes>"
            ]
          },
          "metadata": {
            "tags": []
          }
        },
        {
          "output_type": "stream",
          "text": [
            "====================================================================================================\n",
            "Train confusion matrix\n",
            "[[  607  6047]\n",
            " [  214 38022]]\n",
            "Test confusion matrix\n",
            "[[  269  4620]\n",
            " [  210 27901]]\n"
          ],
          "name": "stdout"
        }
      ]
    },
    {
      "metadata": {
        "id": "OHS_zGZ3PZo8",
        "colab_type": "code",
        "colab": {
          "base_uri": "https://localhost:8080/",
          "height": 330
        },
        "outputId": "2eac6e9e-c89b-4f95-8a4c-d5bec842f30e"
      },
      "cell_type": "code",
      "source": [
        "print(\"Heatmap of train confusion matrix\")\n",
        "import seaborn as sns\n",
        "confusion_matrix_train_TFIDF = confusion_matrix(y_train, neigh_tfidf_brute.predict(X_train_tfidf_brute))\n",
        "\n",
        "df_cm=pd.DataFrame(confusion_matrix_train_TFIDF,index=[\"Negative:0\",\"Positive:1\"],columns=[\"Negative\",\"Positive\"],)\n",
        "sns.heatmap(df_cm,annot=True,fmt='d')\n",
        "plt.title(\"Confusion Matrix\")\n",
        "plt.xlabel(\"Predicted Class\")\n",
        "plt.ylabel(\"Actual Class\")"
      ],
      "execution_count": 72,
      "outputs": [
        {
          "output_type": "stream",
          "text": [
            "Heatmap of train confusion matrix\n"
          ],
          "name": "stdout"
        },
        {
          "output_type": "execute_result",
          "data": {
            "text/plain": [
              "Text(33.0, 0.5, 'Actual Class')"
            ]
          },
          "metadata": {
            "tags": []
          },
          "execution_count": 72
        },
        {
          "output_type": "display_data",
          "data": {
            "image/png": "[encoded data removed]",
            "text/plain": [
              "<Figure size 432x288 with 2 Axes>"
            ]
          },
          "metadata": {
            "tags": []
          }
        }
      ]
    },
    {
      "metadata": {
        "id": "cKuoGWmwPauM",
        "colab_type": "code",
        "colab": {
          "base_uri": "https://localhost:8080/",
          "height": 330
        },
        "outputId": "57b1c49e-2f2b-4546-e052-8e005b38bde5"
      },
      "cell_type": "code",
      "source": [
        "print(\"Heatmap of test confusion matrix\")\n",
        "import seaborn as sns\n",
        "confusion_matrix_test_TFIDF = confusion_matrix(y_test, neigh_tfidf_brute.predict(X_test_tfidf_brute))\n",
        "\n",
        "df_cm=pd.DataFrame(confusion_matrix_test_TFIDF,index=[\"Negative:0\",\"Positive:1\"],columns=[\"Negative\",\"Positive\"],)\n",
        "sns.heatmap(df_cm,annot=True,fmt='d')\n",
        "plt.title(\"Confusion Matrix\")\n",
        "plt.xlabel(\"Predicted Class\")\n",
        "plt.ylabel(\"Actual Class\")"
      ],
      "execution_count": 73,
      "outputs": [
        {
          "output_type": "stream",
          "text": [
            "Heatmap of test confusion matrix\n"
          ],
          "name": "stdout"
        },
        {
          "output_type": "execute_result",
          "data": {
            "text/plain": [
              "Text(33.0, 0.5, 'Actual Class')"
            ]
          },
          "metadata": {
            "tags": []
          },
          "execution_count": 73
        },
        {
          "output_type": "display_data",
          "data": {
            "image/png": "[encoded data removed]",
            "text/plain": [
              "<Figure size 432x288 with 2 Axes>"
            ]
          },
          "metadata": {
            "tags": []
          }
        }
      ]
    },
    {
      "metadata": {
        "id": "4U8gvnAEKaIY",
        "colab_type": "code",
        "colab": {}
      },
      "cell_type": "code",
      "source": [
        "#Accuracy for KNN(brute force) model with TFIDF is 60.9%"
      ],
      "execution_count": 0,
      "outputs": []
    },
    {
      "metadata": {
        "colab_type": "text",
        "id": "H3SfAwnKse0X"
      },
      "cell_type": "markdown",
      "source": [
        "## [3]Working With Avg W2V"
      ]
    },
    {
      "metadata": {
        "colab_type": "code",
        "id": "pIWSBw56fQCf",
        "colab": {}
      },
      "cell_type": "code",
      "source": [
        "from sklearn.neighbors import KNeighborsClassifier\n",
        "from sklearn.metrics import roc_auc_score\n",
        "import matplotlib.pyplot as plt\n",
        "from sklearn.model_selection import GridSearchCV"
      ],
      "execution_count": 0,
      "outputs": []
    },
    {
      "metadata": {
        "id": "p2FJmFMGKaIb",
        "colab_type": "text"
      },
      "cell_type": "markdown",
      "source": [
        "### Applying KNN kd-tree on Avg W2V"
      ]
    },
    {
      "metadata": {
        "colab_type": "code",
        "id": "cXcHxhGbse0X",
        "colab": {}
      },
      "cell_type": "code",
      "source": [
        "#Training Data\n",
        "# Training our own Word2Vec model using our own text corpus\n",
        "i=0\n",
        "list_of_sentance_train=[]\n",
        "for sentance in X_train_kd:\n",
        "    list_of_sentance_train.append(sentance.split())"
      ],
      "execution_count": 0,
      "outputs": []
    },
    {
      "metadata": {
        "colab_type": "code",
        "id": "1erFS6gJse0Z",
        "outputId": "b6eb11fb-fe4f-4b1e-b8b8-3be506361b01",
        "scrolled": true,
        "colab": {
          "base_uri": "https://localhost:8080/",
          "height": 90
        }
      },
      "cell_type": "code",
      "source": [
        "# http://kavita-ganesan.com/gensim-word2vec-tutorial-starter-code/#.W17SRFAzZPY\n",
        "# you can comment this whole cell\n",
        "# or change these varible according to your need\n",
        "\n",
        "\n",
        "\n",
        "# min_count = 5 considers only words that occured atleast 5 times\n",
        "w2v_model_train=Word2Vec(list_of_sentance_train,min_count=5,size=50, workers=4)\n",
        "print(w2v_model_train.wv.most_similar('great'))\n",
        "print('='*50)\n",
        "print(w2v_model_train.wv.most_similar('worst'))\n",
        "    "
      ],
      "execution_count": 77,
      "outputs": [
        {
          "output_type": "stream",
          "text": [
            "[('excellent', 0.9231005907058716), ('good', 0.9230788946151733), ('looking', 0.8783020973205566), ('quick', 0.8520298600196838), ('value', 0.8467196822166443), ('delish', 0.8430591225624084), ('works', 0.8424109816551208), ('vanillin', 0.841373085975647), ('tasty', 0.8405777215957642), ('tast', 0.8396354913711548)]\n",
            "==================================================\n",
            "[('awful', 0.9899503588676453), ('bros', 0.9898895621299744), ('hate', 0.9896556735038757), ('berber', 0.9891136288642883), ('greens', 0.988629937171936), ('guayaki', 0.9879439473152161), ('type', 0.9878469705581665), ('jerky', 0.9876626133918762), ('simply', 0.987533688545227), ('nor', 0.9874781370162964)]\n"
          ],
          "name": "stdout"
        }
      ]
    },
    {
      "metadata": {
        "colab_type": "code",
        "id": "NsFTp081se0b",
        "outputId": "a34141e5-4967-44ba-b1b7-ad135af70583",
        "colab": {
          "base_uri": "https://localhost:8080/",
          "height": 72
        }
      },
      "cell_type": "code",
      "source": [
        "w2v_words_train = list(w2v_model_train.wv.vocab)\n",
        "print(\"number of words that occured minimum 5 times \",len(w2v_words_train))\n",
        "print(\"sample words \", w2v_words_train[0:50])"
      ],
      "execution_count": 78,
      "outputs": [
        {
          "output_type": "stream",
          "text": [
            "number of words that occured minimum 5 times  6406\n",
            "sample words  ['someone', 'puts', 'tabasco', 'sauce', 'eggs', 'breakfast', 'not', 'find', 'tiger', 'hot', 'flavorful', 'soup', 'kick', 'works', 'number', 'meals', 'think', 'anything', 'used', 'beans', 'chicken', 'beef', 'pork', 'tuna', 'salmon', 'tried', 'drinking', 'bottle', 'yet', 'trust', 'one', 'add', 'kitchen', 'others', 'better', 'careful', 'wind', 'sticky', 'mess', 'try', 'mix', 'liquid', 'prior', 'rice', 'mixture', 'tiny', 'jar', 'concentrated', 'yeast', 'extract']\n"
          ],
          "name": "stdout"
        }
      ]
    },
    {
      "metadata": {
        "colab_type": "code",
        "id": "HmVHq1nJUB1Z",
        "colab": {}
      },
      "cell_type": "code",
      "source": [
        "#training"
      ],
      "execution_count": 0,
      "outputs": []
    },
    {
      "metadata": {
        "colab_type": "text",
        "id": "QpwhTxLEse0d"
      },
      "cell_type": "markdown",
      "source": [
        "### Converting text into vectors using Avg W2V"
      ]
    },
    {
      "metadata": {
        "colab_type": "text",
        "id": "yw--hmAtse0d"
      },
      "cell_type": "markdown",
      "source": [
        "#### Converting train data into vector form"
      ]
    },
    {
      "metadata": {
        "colab_type": "code",
        "id": "k4EfTqeKse0e",
        "outputId": "a4c04096-6e96-420c-b5c4-574f0ba24363",
        "colab": {
          "base_uri": "https://localhost:8080/",
          "height": 212
        }
      },
      "cell_type": "code",
      "source": [
        "# average Word2Vec\n",
        "# compute average word2vec for each review.\n",
        "sent_vectors_train = []; # the avg-w2v for each sentence/review is stored in this list\n",
        "for sent in tqdm(list_of_sentance_train): # for each review/sentence\n",
        "    sent_vec_train = np.zeros(50) # as word vectors are of zero length 50, you might need to change this to 300 if you use google's w2v\n",
        "    cnt_words_train =0; # num of words with a valid vector in the sentence/review\n",
        "    for word in sent: # for each word in a review/sentence\n",
        "        if word in w2v_words_train:\n",
        "            vec_train = w2v_model_train.wv[word]\n",
        "            sent_vec_train += vec_train\n",
        "            cnt_words_train += 1\n",
        "    if cnt_words_train != 0:\n",
        "        sent_vec_train /= cnt_words_train\n",
        "    sent_vectors_train.append(sent_vec_train)\n",
        "sent_vectors_train = np.array(sent_vectors_train)\n",
        "print(sent_vectors_train.shape)\n",
        "print(sent_vectors_train[0])"
      ],
      "execution_count": 80,
      "outputs": [
        {
          "output_type": "stream",
          "text": [
            "100%|██████████| 8978/8978 [00:17<00:00, 511.00it/s]\n"
          ],
          "name": "stderr"
        },
        {
          "output_type": "stream",
          "text": [
            "(8978, 50)\n",
            "[-0.62166555  0.48230727  0.8019969  -0.05290389  0.09487173 -0.18989685\n",
            " -0.12674396 -0.21550692  0.18079525 -0.29482872  0.74536585 -0.21097553\n",
            " -0.03324458 -1.25427958  0.04959794  0.40394421 -0.98898709 -0.1606317\n",
            "  0.59245284 -0.6592589  -0.22987556  0.10794688  0.54130378 -0.84409611\n",
            "  0.72028031 -0.20819487  0.39349584  0.1577451  -0.28270889  0.04125599\n",
            "  0.43609833 -0.05628839 -0.41806687 -0.20025139  0.10086608  0.06273209\n",
            " -0.06685749 -0.15746365  1.15234059 -0.46407303  0.56366562  0.09335729\n",
            "  0.44868698  0.09028297  0.12696747 -0.17937146 -0.74007994 -0.48933637\n",
            " -0.72183496  0.09016318]\n"
          ],
          "name": "stdout"
        }
      ]
    },
    {
      "metadata": {
        "colab_type": "text",
        "id": "K7HWGLVNkfNg"
      },
      "cell_type": "markdown",
      "source": [
        "#### Converting CV text data into vector form"
      ]
    },
    {
      "metadata": {
        "colab_type": "code",
        "id": "hG7J-pz9krHS",
        "colab": {}
      },
      "cell_type": "code",
      "source": [
        "# Train your own Word2Vec model using your own text corpus\n",
        "i=0\n",
        "list_of_sentance_cv=[]\n",
        "for sentance in X_cv_kd:\n",
        "    list_of_sentance_cv.append(sentance.split())"
      ],
      "execution_count": 0,
      "outputs": []
    },
    {
      "metadata": {
        "colab_type": "code",
        "id": "VGEBuI2gmFMo",
        "outputId": "cc3cb243-d22c-43f0-907f-d8bb966fe79b",
        "colab": {
          "base_uri": "https://localhost:8080/",
          "height": 283
        }
      },
      "cell_type": "code",
      "source": [
        "# average Word2Vec\n",
        "# compute average word2vec for each review.\n",
        "sent_vectors_cv = []; # the avg-w2v for each sentence/review is stored in this list\n",
        "for sent in tqdm(list_of_sentance_cv): # for each review/sentence\n",
        "    sent_vec = np.zeros(50) # as word vectors are of zero length 50, you might need to change this to 300 if you use google's w2v\n",
        "    cnt_words =0; # num of words with a valid vector in the sentence/review\n",
        "    for word in sent: # for each word in a review/sentence\n",
        "        if word in w2v_words_train:\n",
        "            vec = w2v_model_train.wv[word]\n",
        "            sent_vec += vec\n",
        "            cnt_words += 1\n",
        "    if cnt_words != 0:\n",
        "        sent_vec /= cnt_words\n",
        "    sent_vectors_cv.append(sent_vec)\n",
        "sent_vectors_cv = np.array(sent_vectors_cv)\n",
        "print(sent_vectors_cv.shape)\n",
        "print(sent_vectors_cv[0])"
      ],
      "execution_count": 82,
      "outputs": [
        {
          "output_type": "stream",
          "text": [
            "100%|██████████| 4422/4422 [00:08<00:00, 497.14it/s]"
          ],
          "name": "stderr"
        },
        {
          "output_type": "stream",
          "text": [
            "(4422, 50)\n",
            "[-5.25302520e-01  5.49330582e-01  6.11699127e-01  7.76923107e-05\n",
            "  7.72147495e-02 -6.07564064e-02 -2.56057665e-01  7.03880764e-02\n",
            "  1.14906586e-01 -1.27087154e-01  3.33134165e-01 -1.18786425e-01\n",
            " -4.43297637e-02 -9.48127919e-01  8.49868217e-02  1.96473455e-01\n",
            " -8.05805918e-01 -7.63467983e-02  5.37288922e-01 -3.61633309e-01\n",
            " -1.44995176e-01 -1.94946240e-02  1.99027821e-01 -5.37048727e-01\n",
            "  3.71278534e-01 -2.53568196e-01  1.27408705e-01  3.20480465e-01\n",
            "  1.33874034e-01  6.66828753e-02  1.46709499e-01  1.19943627e-01\n",
            " -4.32373398e-02  7.24299083e-03  4.01102444e-01  1.51931036e-01\n",
            " -7.64147301e-02  1.49194525e-01  6.56342990e-01 -3.85530515e-01\n",
            "  4.55051663e-01  1.84750525e-01  2.17820080e-01  3.20543987e-01\n",
            "  1.90409122e-01 -5.41891361e-02 -6.93356486e-01 -4.92526616e-01\n",
            " -6.01551542e-01  7.35495570e-02]\n"
          ],
          "name": "stdout"
        },
        {
          "output_type": "stream",
          "text": [
            "\n"
          ],
          "name": "stderr"
        }
      ]
    },
    {
      "metadata": {
        "colab_type": "text",
        "id": "jIhR04rDmipT"
      },
      "cell_type": "markdown",
      "source": [
        "#### Converting test data into vector form"
      ]
    },
    {
      "metadata": {
        "colab_type": "code",
        "id": "mhfLU075mtJ-",
        "colab": {}
      },
      "cell_type": "code",
      "source": [
        "i=0\n",
        "list_of_sentance_test=[]\n",
        "for sentance in X_test_kd:\n",
        "    list_of_sentance_test.append(sentance.split())"
      ],
      "execution_count": 0,
      "outputs": []
    },
    {
      "metadata": {
        "colab_type": "code",
        "id": "dEIToi-Vmvu8",
        "outputId": "0d043113-75f6-47c9-9cbf-83e9fcc453e9",
        "colab": {
          "base_uri": "https://localhost:8080/",
          "height": 212
        }
      },
      "cell_type": "code",
      "source": [
        "# average Word2Vec\n",
        "# compute average word2vec for each review.\n",
        "sent_vectors_test = []; # the avg-w2v for each sentence/review is stored in this list\n",
        "for sent in tqdm(list_of_sentance_test): # for each review/sentence\n",
        "    sent_vec = np.zeros(50) # as word vectors are of zero length 50, you might need to change this to 300 if you use google's w2v\n",
        "    cnt_words =0; # num of words with a valid vector in the sentence/review\n",
        "    for word in sent: # for each word in a review/sentence\n",
        "        if word in w2v_words_train:\n",
        "            vec = w2v_model_train.wv[word]\n",
        "            sent_vec += vec\n",
        "            cnt_words += 1\n",
        "    if cnt_words != 0:\n",
        "        sent_vec /= cnt_words\n",
        "    sent_vectors_test.append(sent_vec)\n",
        "sent_vectors_test = np.array(sent_vectors_test)\n",
        "print(sent_vectors_test.shape)\n",
        "print(sent_vectors_test[0])"
      ],
      "execution_count": 84,
      "outputs": [
        {
          "output_type": "stream",
          "text": [
            "100%|██████████| 6600/6600 [00:13<00:00, 486.66it/s]"
          ],
          "name": "stderr"
        },
        {
          "output_type": "stream",
          "text": [
            "(6600, 50)\n",
            "[-0.37689233  0.67485332  0.59366895  0.02842227 -0.03290507 -0.27946095\n",
            " -0.45147211  0.47662011  0.13692747 -0.22923954  0.02614932  0.03392608\n",
            "  0.51767136 -0.97991804 -0.3999368  -0.23327693 -1.00869949 -0.25453024\n",
            "  0.33634788 -0.53040193 -0.05393167 -0.18483522  0.46143725 -0.34895475\n",
            "  0.15741653 -0.52535305  0.38748047  0.31199329  0.10352285  0.06315424\n",
            " -0.30279839  0.2085872  -0.03625376 -0.13657935  0.3229223   0.18181889\n",
            "  0.17622956  0.47008987  0.93280368 -0.47130577  0.58475386  0.31854829\n",
            "  0.23693623  0.39437471  0.01430326 -0.40480112 -0.66038306 -0.88850141\n",
            " -0.25027865  0.65718517]\n"
          ],
          "name": "stdout"
        },
        {
          "output_type": "stream",
          "text": [
            "\n"
          ],
          "name": "stderr"
        }
      ]
    },
    {
      "metadata": {
        "id": "4Q3rUOj4KaI0",
        "colab_type": "text"
      },
      "cell_type": "markdown",
      "source": [
        "### Applying Gridsearch to do hyperparameter tuning"
      ]
    },
    {
      "metadata": {
        "colab_type": "code",
        "id": "RBu_Xi9_5UP1",
        "outputId": "2afe9b87-5954-47ec-91d1-325fa33243aa",
        "colab": {
          "base_uri": "https://localhost:8080/",
          "height": 294
        }
      },
      "cell_type": "code",
      "source": [
        "train_auc = []\n",
        "cv_auc = []\n",
        "K = [10, 15, 21, 31, 41, 51,61,71]\n",
        "\n",
        "for i in K:\n",
        "    neigh = KNeighborsClassifier(n_neighbors=i ,algorithm='kd_tree',n_jobs=-1)\n",
        "    neigh.fit(sent_vectors_train, y_train_kd)\n",
        "    # roc_auc_score(y_true, y_score) the 2nd parameter should be probability estimates of the positive class\n",
        "    # not the predicted outputs\n",
        "    y_train_pred =  neigh.predict_proba(sent_vectors_train)[:,1]\n",
        "    y_cv_pred =  neigh.predict_proba(sent_vectors_cv)[:,1]\n",
        "    \n",
        "    train_auc.append(roc_auc_score(y_train_kd,y_train_pred))\n",
        "    cv_auc.append(roc_auc_score(y_cv_kd, y_cv_pred))\n",
        "\n",
        "plt.plot(K, train_auc, label='Train AUC')\n",
        "plt.scatter(K, train_auc, label='Train AUC')\n",
        "plt.plot(K, cv_auc, label='CV AUC')\n",
        "plt.scatter(K, cv_auc, label='CV AUC')\n",
        "plt.legend()\n",
        "plt.xlabel(\"K: hyperparameter\")\n",
        "plt.ylabel(\"AUC\")\n",
        "plt.title(\"ERROR PLOTS\")\n",
        "plt.show()"
      ],
      "execution_count": 85,
      "outputs": [
        {
          "output_type": "display_data",
          "data": {
            "image/png": "[encoded data removed]",
            "text/plain": [
              "<Figure size 432x288 with 1 Axes>"
            ]
          },
          "metadata": {
            "tags": []
          }
        }
      ]
    },
    {
      "metadata": {
        "id": "n_m8k_JWKaI2",
        "colab_type": "text"
      },
      "cell_type": "markdown",
      "source": [
        "### Testing with test data"
      ]
    },
    {
      "metadata": {
        "colab_type": "code",
        "id": "H0LloLOpQzW4",
        "outputId": "6a3c760e-dba0-4bf2-bb9d-95ad890ecbe6",
        "colab": {
          "base_uri": "https://localhost:8080/",
          "height": 418
        }
      },
      "cell_type": "code",
      "source": [
        "#Testing with test data\n",
        "\n",
        "# https://scikit-learn.org/stable/modules/generated/sklearn.metrics.roc_curve.html#sklearn.metrics.roc_curve\n",
        "from sklearn.metrics import roc_curve, auc\n",
        "\n",
        "\n",
        "neigh_avgw2v_kd = KNeighborsClassifier(n_neighbors=52 ,n_jobs=-1,algorithm='kd_tree')\n",
        "neigh_avgw2v_kd.fit(sent_vectors_train, y_train_kd)\n",
        "# roc_auc_score(y_true, y_score) the 2nd parameter should be probability estimates of the positive class\n",
        "# not the predicted outputs\n",
        "\n",
        "#converting sparse matrices into dense as Kd-tree algo takes dense matrices\n",
        "\n",
        "#X_test_tfidf_kd=X_test_tfidf_kd.toarray()\n",
        "\n",
        "train_fpr_tfidf, train_tpr_tfidf, thresholds_tfidf = roc_curve(y_train_kd, neigh_avgw2v_kd.predict_proba(sent_vectors_train)[:,1])\n",
        "test_fpr_tfidf, test_tpr_tfidf, thresholds_tfidf = roc_curve(y_test_kd, neigh_avgw2v_kd.predict_proba(sent_vectors_test)[:,1])\n",
        "\n",
        "plt.plot(train_fpr_tfidf, train_tpr_tfidf, label=\"train AUC =\"+str(auc(train_fpr_tfidf, train_tpr_tfidf)))\n",
        "plt.plot(test_fpr_tfidf, test_tpr_tfidf, label=\"test AUC =\"+str(auc(test_fpr_tfidf, test_tpr_tfidf)))\n",
        "plt.legend()\n",
        "plt.xlabel(\"FPR\")\n",
        "plt.ylabel(\"TPR\")\n",
        "plt.title(\"ERROR PLOTS\")\n",
        "plt.show()\n",
        "\n",
        "print(\"=\"*100)\n",
        "\n",
        "from sklearn.metrics import confusion_matrix\n",
        "print(\"Train confusion matrix\")\n",
        "print(confusion_matrix(y_train_kd, neigh_avgw2v_kd.predict(sent_vectors_train)))\n",
        "print(\"Test confusion matrix\")\n",
        "print(confusion_matrix(y_test_kd, neigh_avgw2v_kd.predict(sent_vectors_test)))"
      ],
      "execution_count": 86,
      "outputs": [
        {
          "output_type": "display_data",
          "data": {
            "image/png": "[encoded data removed]",
            "text/plain": [
              "<Figure size 432x288 with 1 Axes>"
            ]
          },
          "metadata": {
            "tags": []
          }
        },
        {
          "output_type": "stream",
          "text": [
            "====================================================================================================\n",
            "Train confusion matrix\n",
            "[[  37 1374]\n",
            " [  27 7540]]\n",
            "Test confusion matrix\n",
            "[[  28  966]\n",
            " [  14 5592]]\n"
          ],
          "name": "stdout"
        }
      ]
    },
    {
      "metadata": {
        "id": "ePq041wCP5vI",
        "colab_type": "code",
        "colab": {
          "base_uri": "https://localhost:8080/",
          "height": 330
        },
        "outputId": "439cae75-b96b-478b-8216-b8bf71233846"
      },
      "cell_type": "code",
      "source": [
        "print(\"Heatmap of train confusion matrix\")\n",
        "import seaborn as sns\n",
        "confusion_matrix_train_W2V = confusion_matrix(y_train_kd, neigh_avgw2v_kd.predict(sent_vectors_train))\n",
        "\n",
        "df_cm=pd.DataFrame(confusion_matrix_train_W2V,index=[\"Negative:0\",\"Positive:1\"],columns=[\"Negative\",\"Positive\"],)\n",
        "sns.heatmap(df_cm,annot=True,fmt='d')\n",
        "plt.title(\"Confusion Matrix\")\n",
        "plt.xlabel(\"Predicted Class\")\n",
        "plt.ylabel(\"Actual Class\")"
      ],
      "execution_count": 88,
      "outputs": [
        {
          "output_type": "stream",
          "text": [
            "Heatmap of train confusion matrix\n"
          ],
          "name": "stdout"
        },
        {
          "output_type": "execute_result",
          "data": {
            "text/plain": [
              "Text(33.0, 0.5, 'Actual Class')"
            ]
          },
          "metadata": {
            "tags": []
          },
          "execution_count": 88
        },
        {
          "output_type": "display_data",
          "data": {
            "image/png": "[encoded data removed]",
            "text/plain": [
              "<Figure size 432x288 with 2 Axes>"
            ]
          },
          "metadata": {
            "tags": []
          }
        }
      ]
    },
    {
      "metadata": {
        "id": "6aLJTfUaP8Jk",
        "colab_type": "code",
        "colab": {
          "base_uri": "https://localhost:8080/",
          "height": 330
        },
        "outputId": "1910db80-16c4-4cce-b1ee-1a1f5841ba5f"
      },
      "cell_type": "code",
      "source": [
        "print(\"Heatmap of test confusion matrix\")\n",
        "import seaborn as sns\n",
        "confusion_matrix_test_W2V = confusion_matrix(y_test_kd, neigh_avgw2v_kd.predict(sent_vectors_test))\n",
        "\n",
        "df_cm=pd.DataFrame(confusion_matrix_test_W2V,index=[\"Negative:0\",\"Positive:1\"],columns=[\"Negative\",\"Positive\"],)\n",
        "sns.heatmap(df_cm,annot=True,fmt='d')\n",
        "plt.title(\"Confusion Matrix\")\n",
        "plt.xlabel(\"Predicted Class\")\n",
        "plt.ylabel(\"Actual Class\")"
      ],
      "execution_count": 89,
      "outputs": [
        {
          "output_type": "stream",
          "text": [
            "Heatmap of test confusion matrix\n"
          ],
          "name": "stdout"
        },
        {
          "output_type": "execute_result",
          "data": {
            "text/plain": [
              "Text(33.0, 0.5, 'Actual Class')"
            ]
          },
          "metadata": {
            "tags": []
          },
          "execution_count": 89
        },
        {
          "output_type": "display_data",
          "data": {
            "image/png": "[encoded data removed]",
            "text/plain": [
              "<Figure size 432x288 with 2 Axes>"
            ]
          },
          "metadata": {
            "tags": []
          }
        }
      ]
    },
    {
      "metadata": {
        "id": "Lqv-YnZdKaI4",
        "colab_type": "code",
        "colab": {}
      },
      "cell_type": "code",
      "source": [
        "#Accuracy for KNN(kd-tree) model with AvgW2V is 73.16%"
      ],
      "execution_count": 0,
      "outputs": []
    },
    {
      "metadata": {
        "id": "2N-ff-X1KaI5",
        "colab_type": "text"
      },
      "cell_type": "markdown",
      "source": [
        "### Applying KNN brute force on Avg W2V"
      ]
    },
    {
      "metadata": {
        "id": "erX5Wn_oKaI5",
        "colab_type": "text"
      },
      "cell_type": "markdown",
      "source": [
        "####  Converting train data into vector form"
      ]
    },
    {
      "metadata": {
        "colab_type": "code",
        "id": "HhR_KhuEUEQx",
        "colab": {}
      },
      "cell_type": "code",
      "source": [
        "#Applying brute force on Avgw2v\n",
        "\n",
        "i=0\n",
        "list_of_sentance_train=[]\n",
        "for sentance in X_train:\n",
        "    list_of_sentance_train.append(sentance.split())\n"
      ],
      "execution_count": 0,
      "outputs": []
    },
    {
      "metadata": {
        "colab_type": "code",
        "id": "2yYltHLpUcUm",
        "outputId": "80270210-f227-4211-fb38-c801c2f74aff",
        "colab": {
          "base_uri": "https://localhost:8080/",
          "height": 90
        }
      },
      "cell_type": "code",
      "source": [
        "# http://kavita-ganesan.com/gensim-word2vec-tutorial-starter-code/#.W17SRFAzZPY\n",
        "# you can comment this whole cell\n",
        "# or change these varible according to your need\n",
        "\n",
        "\n",
        "\n",
        "# min_count = 5 considers only words that occured atleast 5 times\n",
        "w2v_model_train=Word2Vec(list_of_sentance_train,min_count=5,size=50, workers=4)\n",
        "print(w2v_model_train.wv.most_similar('great'))\n",
        "print('='*50)\n",
        "print(w2v_model_train.wv.most_similar('worst'))"
      ],
      "execution_count": 92,
      "outputs": [
        {
          "output_type": "stream",
          "text": [
            "[('terrific', 0.8289519548416138), ('good', 0.8242506384849548), ('wonderful', 0.8236252665519714), ('excellent', 0.8181947469711304), ('fantastic', 0.8122857809066772), ('awesome', 0.8120837807655334), ('perfect', 0.7792816162109375), ('amazing', 0.7389242053031921), ('incredible', 0.7264012694358826), ('fabulous', 0.7245001792907715)]\n",
            "==================================================\n",
            "[('best', 0.7830919623374939), ('greatest', 0.7060685753822327), ('nastiest', 0.6865239143371582), ('closest', 0.6665735840797424), ('tastiest', 0.6630874276161194), ('disgusting', 0.6393887996673584), ('cutest', 0.6291120648384094), ('horrible', 0.6145334839820862), ('encountered', 0.6082696914672852), ('honestly', 0.6014037728309631)]\n"
          ],
          "name": "stdout"
        }
      ]
    },
    {
      "metadata": {
        "colab_type": "code",
        "id": "wfwpSaTmUq94",
        "outputId": "47341b60-e00c-4f70-e3b6-9ea9ad515d5f",
        "colab": {
          "base_uri": "https://localhost:8080/",
          "height": 72
        }
      },
      "cell_type": "code",
      "source": [
        "w2v_words_train = list(w2v_model_train.wv.vocab)\n",
        "print(\"number of words that occured minimum 5 times \",len(w2v_words_train))\n",
        "print(\"sample words \", w2v_words_train[0:50])"
      ],
      "execution_count": 93,
      "outputs": [
        {
          "output_type": "stream",
          "text": [
            "number of words that occured minimum 5 times  13110\n",
            "sample words  ['two', 'tiny', 'chihuahua', 'love', 'itty', 'bitty', 'buddy', 'treats', 'hard', 'find', 'not', 'many', 'pet', 'stores', 'best', 'treat', 'ever', 'new', 'favorite', 'could', 'quite', 'drink', 'much', 'water', 'doctor', 'recommended', 'pour', 'packet', 'tea', 'no', 'problems', 'great', 'flavor', 'local', 'grocer', 'kept', 'running', 'one', 'recommend', 'lover', 'good', 'mustard', 'looking', 'something', 'right', 'balance', 'hot', 'sweet', 'liked', 'made']\n"
          ],
          "name": "stdout"
        }
      ]
    },
    {
      "metadata": {
        "colab_type": "code",
        "id": "JXKaBs8PVM2j",
        "outputId": "c7f62f79-8e5d-4910-a94e-b9ab3dbbe143",
        "colab": {
          "base_uri": "https://localhost:8080/",
          "height": 212
        }
      },
      "cell_type": "code",
      "source": [
        "# average Word2Vec\n",
        "# compute average word2vec for each review.\n",
        "sent_vectors_train = []; # the avg-w2v for each sentence/review is stored in this list\n",
        "for sent in tqdm(list_of_sentance_train): # for each review/sentence\n",
        "    sent_vec_train = np.zeros(50) # as word vectors are of zero length 50, you might need to change this to 300 if you use google's w2v\n",
        "    cnt_words_train =0; # num of words with a valid vector in the sentence/review\n",
        "    for word in sent: # for each word in a review/sentence\n",
        "        if word in w2v_words_train:\n",
        "            vec_train = w2v_model_train.wv[word]\n",
        "            sent_vec_train += vec_train\n",
        "            cnt_words_train += 1\n",
        "    if cnt_words_train != 0:\n",
        "        sent_vec_train /= cnt_words_train\n",
        "    sent_vectors_train.append(sent_vec_train)\n",
        "sent_vectors_train = np.array(sent_vectors_train)\n",
        "print(sent_vectors_train.shape)\n",
        "print(sent_vectors_train[0])"
      ],
      "execution_count": 94,
      "outputs": [
        {
          "output_type": "stream",
          "text": [
            "100%|██████████| 44890/44890 [01:44<00:00, 431.62it/s]"
          ],
          "name": "stderr"
        },
        {
          "output_type": "stream",
          "text": [
            "(44890, 50)\n",
            "[-0.68315093  0.35023282 -0.41431159 -0.4151961   1.00404422  0.03408376\n",
            "  0.49805391  0.42131169  0.38643222  0.08497739  0.09935225 -0.2218789\n",
            "  0.44946839 -1.42853684  0.29201763  0.68258452 -0.37091655  0.76016611\n",
            " -0.45848476 -0.00828925  0.17633877  0.32803263  0.80785526 -0.18580251\n",
            "  0.23028154 -0.15172906  0.19866744  0.71977887  0.02935736 -0.47722835\n",
            " -0.5273591   0.26545971  0.32783224 -0.14742535  0.45206275  0.15353146\n",
            "  0.71224745 -0.18132822  0.79648542 -0.16730414  0.27858109  0.1121821\n",
            "  0.73859245  0.82058651 -0.76502351  0.51677093 -0.39355889 -0.24203409\n",
            "  0.21199592  0.47513481]\n"
          ],
          "name": "stdout"
        },
        {
          "output_type": "stream",
          "text": [
            "\n"
          ],
          "name": "stderr"
        }
      ]
    },
    {
      "metadata": {
        "id": "gfbQsSWLKaI_",
        "colab_type": "text"
      },
      "cell_type": "markdown",
      "source": [
        "####  Converting CV data into vector form"
      ]
    },
    {
      "metadata": {
        "colab_type": "code",
        "id": "oxLa-uo7WZ_l",
        "colab": {}
      },
      "cell_type": "code",
      "source": [
        "# Train your own Word2Vec model using your own text corpus\n",
        "i=0\n",
        "list_of_sentance_cv=[]\n",
        "for sentance in X_cv:\n",
        "    list_of_sentance_cv.append(sentance.split())"
      ],
      "execution_count": 0,
      "outputs": []
    },
    {
      "metadata": {
        "colab_type": "code",
        "id": "8cpTVUG1WnFJ",
        "outputId": "a3c483b9-38af-4357-cacc-3edf9fbf6a56",
        "colab": {
          "base_uri": "https://localhost:8080/",
          "height": 212
        }
      },
      "cell_type": "code",
      "source": [
        "# average Word2Vec\n",
        "# compute average word2vec for each review.\n",
        "sent_vectors_cv = []; # the avg-w2v for each sentence/review is stored in this list\n",
        "for sent in tqdm(list_of_sentance_cv): # for each review/sentence\n",
        "    sent_vec = np.zeros(50) # as word vectors are of zero length 50, you might need to change this to 300 if you use google's w2v\n",
        "    cnt_words =0; # num of words with a valid vector in the sentence/review\n",
        "    for word in sent: # for each word in a review/sentence\n",
        "        if word in w2v_words_train:\n",
        "            vec = w2v_model_train.wv[word]\n",
        "            sent_vec += vec\n",
        "            cnt_words += 1\n",
        "    if cnt_words != 0:\n",
        "        sent_vec /= cnt_words\n",
        "    sent_vectors_cv.append(sent_vec)\n",
        "sent_vectors_cv = np.array(sent_vectors_cv)\n",
        "print(sent_vectors_cv.shape)\n",
        "print(sent_vectors_cv[0])"
      ],
      "execution_count": 96,
      "outputs": [
        {
          "output_type": "stream",
          "text": [
            "100%|██████████| 22110/22110 [00:50<00:00, 434.81it/s]"
          ],
          "name": "stderr"
        },
        {
          "output_type": "stream",
          "text": [
            "(22110, 50)\n",
            "[-0.23974564  0.85062449  0.27216482 -0.23696456  0.54003964 -0.75884246\n",
            "  0.16426752  0.47345571  0.10295631  0.56957713  0.20050378  0.58084252\n",
            " -0.33303825 -0.39525413  1.12436349  0.12880258 -0.31123021  0.37836052\n",
            "  0.26705761 -0.96294278  0.83037593  0.1164472   0.52026666  0.86310297\n",
            "  0.20981404 -1.06079409 -0.37242337  0.14012097  0.28502111 -0.1059576\n",
            " -0.86040984  0.2155176  -0.35845661 -0.33295766  1.01192509  0.42534854\n",
            "  0.52132055 -0.28299947  1.37032006 -0.50357717 -0.92621494  0.67513085\n",
            " -0.14975056  0.05281757 -0.32119853  0.47718127 -0.03954856 -1.04668604\n",
            "  0.13896625  0.88397622]\n"
          ],
          "name": "stdout"
        },
        {
          "output_type": "stream",
          "text": [
            "\n"
          ],
          "name": "stderr"
        }
      ]
    },
    {
      "metadata": {
        "id": "4W0BqCCtKaJB",
        "colab_type": "text"
      },
      "cell_type": "markdown",
      "source": [
        "####  Converting test data into vector form"
      ]
    },
    {
      "metadata": {
        "colab_type": "code",
        "id": "L8fg9h6lWvFK",
        "colab": {}
      },
      "cell_type": "code",
      "source": [
        "i=0\n",
        "list_of_sentance_test=[]\n",
        "for sentance in X_test:\n",
        "    list_of_sentance_test.append(sentance.split())"
      ],
      "execution_count": 0,
      "outputs": []
    },
    {
      "metadata": {
        "colab_type": "code",
        "id": "NIGYuxBVW3Wz",
        "outputId": "df4954e3-d3d1-4182-990c-e77192660f7e",
        "colab": {
          "base_uri": "https://localhost:8080/",
          "height": 212
        }
      },
      "cell_type": "code",
      "source": [
        "# average Word2Vec\n",
        "# compute average word2vec for each review.\n",
        "sent_vectors_test = []; # the avg-w2v for each sentence/review is stored in this list\n",
        "for sent in tqdm(list_of_sentance_test): # for each review/sentence\n",
        "    sent_vec = np.zeros(50) # as word vectors are of zero length 50, you might need to change this to 300 if you use google's w2v\n",
        "    cnt_words =0; # num of words with a valid vector in the sentence/review\n",
        "    for word in sent: # for each word in a review/sentence\n",
        "        if word in w2v_words_train:\n",
        "            vec = w2v_model_train.wv[word]\n",
        "            sent_vec += vec\n",
        "            cnt_words += 1\n",
        "    if cnt_words != 0:\n",
        "        sent_vec /= cnt_words\n",
        "    sent_vectors_test.append(sent_vec)\n",
        "sent_vectors_test = np.array(sent_vectors_test)\n",
        "print(sent_vectors_test.shape)\n",
        "print(sent_vectors_test[0])"
      ],
      "execution_count": 98,
      "outputs": [
        {
          "output_type": "stream",
          "text": [
            "100%|██████████| 33000/33000 [01:15<00:00, 439.20it/s]"
          ],
          "name": "stderr"
        },
        {
          "output_type": "stream",
          "text": [
            "(33000, 50)\n",
            "[-0.33647224  0.16753667  0.30355603  0.09865604  0.76446923  0.17654617\n",
            "  0.27306983 -0.44288121  0.01647811  0.33502324 -0.57687242 -0.87397725\n",
            " -0.33649408 -1.64784437  0.54191229 -1.02286959  0.04722573  0.40670206\n",
            " -0.47936705 -0.72496772  0.85699156  0.01234939 -1.08713402 -0.8092885\n",
            " -0.03967168 -0.70808248  0.40762726  0.11364686  0.0729832  -0.53643914\n",
            " -0.01171657 -0.46174066  0.1368437  -0.26160212  1.09257075  0.89255228\n",
            " -0.1344157  -0.57082637  0.47530122 -0.18430574 -0.36315182  0.99407393\n",
            "  0.64983426 -0.18118572  0.3226354  -0.27936124  0.05336635 -0.28506522\n",
            "  0.49531644  1.17899471]\n"
          ],
          "name": "stdout"
        },
        {
          "output_type": "stream",
          "text": [
            "\n"
          ],
          "name": "stderr"
        }
      ]
    },
    {
      "metadata": {
        "id": "TykkuL5jKaJE",
        "colab_type": "text"
      },
      "cell_type": "markdown",
      "source": [
        "###  Applying Gridsearch to do hyperparameter tuning"
      ]
    },
    {
      "metadata": {
        "colab_type": "code",
        "id": "4L47XHC-W5b3",
        "outputId": "0b561462-1acb-475e-d0b9-e63d474d861f",
        "colab": {
          "base_uri": "https://localhost:8080/",
          "height": 294
        }
      },
      "cell_type": "code",
      "source": [
        "train_auc = []\n",
        "cv_auc = []\n",
        "K = [10, 15, 21, 31, 41, 51,61,71]\n",
        "\n",
        "for i in K:\n",
        "    neigh_avgw2v_brute = KNeighborsClassifier(n_neighbors=i ,algorithm='brute')\n",
        "    neigh_avgw2v_brute.fit(sent_vectors_train, y_train)\n",
        "    # roc_auc_score(y_true, y_score) the 2nd parameter should be probability estimates of the positive class\n",
        "    # not the predicted outputs\n",
        "    y_train_pred =  neigh_avgw2v_brute.predict_proba(sent_vectors_train)[:,1]\n",
        "    y_cv_pred =  neigh_avgw2v_brute.predict_proba(sent_vectors_cv)[:,1]\n",
        "    \n",
        "    train_auc.append(roc_auc_score(y_train,y_train_pred))\n",
        "    cv_auc.append(roc_auc_score(y_cv, y_cv_pred))\n",
        "\n",
        "plt.plot(K, train_auc, label='Train AUC')\n",
        "plt.scatter(K, train_auc, label='Train AUC')\n",
        "plt.plot(K, cv_auc, label='CV AUC')\n",
        "plt.scatter(K, cv_auc, label='CV AUC')\n",
        "plt.legend()\n",
        "plt.xlabel(\"K: hyperparameter\")\n",
        "plt.ylabel(\"AUC\")\n",
        "plt.title(\"ERROR PLOTS\")\n",
        "plt.show()"
      ],
      "execution_count": 99,
      "outputs": [
        {
          "output_type": "display_data",
          "data": {
            "image/png": "[encoded data removed]",
            "text/plain": [
              "<Figure size 432x288 with 1 Axes>"
            ]
          },
          "metadata": {
            "tags": []
          }
        }
      ]
    },
    {
      "metadata": {
        "id": "vS3D_0ILKaJG",
        "colab_type": "text"
      },
      "cell_type": "markdown",
      "source": [
        "### Testing with test data"
      ]
    },
    {
      "metadata": {
        "colab_type": "code",
        "id": "p0q1ASOjbUrC",
        "outputId": "28207ad6-b4d9-453c-d1af-36f58d87eb2c",
        "colab": {
          "base_uri": "https://localhost:8080/",
          "height": 418
        }
      },
      "cell_type": "code",
      "source": [
        "#Testing with Test Data\n",
        "\n",
        "neigh_avgw2v_brute = KNeighborsClassifier(n_neighbors=70 ,algorithm='brute')\n",
        "neigh_avgw2v_brute.fit(sent_vectors_train, y_train)\n",
        "# roc_auc_score(y_true, y_score) the 2nd parameter should be probability estimates of the positive class\n",
        "# not the predicted outputs\n",
        "\n",
        "#converting sparse matrices into dense as Kd-tree algo takes dense matrices\n",
        "\n",
        "#X_test_tfidf_kd=X_test_tfidf_kd.toarray()\n",
        "\n",
        "train_fpr_tfidf, train_tpr_tfidf, thresholds_tfidf = roc_curve(y_train, neigh_avgw2v_brute.predict_proba(sent_vectors_train)[:,1])\n",
        "test_fpr_tfidf, test_tpr_tfidf, thresholds_tfidf = roc_curve(y_test, neigh_avgw2v_brute.predict_proba(sent_vectors_test)[:,1])\n",
        "\n",
        "plt.plot(train_fpr_tfidf, train_tpr_tfidf, label=\"train AUC =\"+str(auc(train_fpr_tfidf, train_tpr_tfidf)))\n",
        "plt.plot(test_fpr_tfidf, test_tpr_tfidf, label=\"test AUC =\"+str(auc(test_fpr_tfidf, test_tpr_tfidf)))\n",
        "plt.legend()\n",
        "plt.xlabel(\"FPR\")\n",
        "plt.ylabel(\"TPR\")\n",
        "plt.title(\"ERROR PLOTS\")\n",
        "plt.show()\n",
        "\n",
        "print(\"=\"*100)\n",
        "\n",
        "from sklearn.metrics import confusion_matrix\n",
        "print(\"Train confusion matrix\")\n",
        "print(confusion_matrix(y_train, neigh_avgw2v_brute.predict(sent_vectors_train)))\n",
        "print(\"Test confusion matrix\")\n",
        "print(confusion_matrix(y_test, neigh_avgw2v_brute.predict(sent_vectors_test)))"
      ],
      "execution_count": 100,
      "outputs": [
        {
          "output_type": "display_data",
          "data": {
            "image/png": "[encoded data removed]",
            "text/plain": [
              "<Figure size 432x288 with 1 Axes>"
            ]
          },
          "metadata": {
            "tags": []
          }
        },
        {
          "output_type": "stream",
          "text": [
            "====================================================================================================\n",
            "Train confusion matrix\n",
            "[[ 1542  5112]\n",
            " [  380 37856]]\n",
            "Test confusion matrix\n",
            "[[ 1046  3843]\n",
            " [  287 27824]]\n"
          ],
          "name": "stdout"
        }
      ]
    },
    {
      "metadata": {
        "id": "q87EcDBQQ5oK",
        "colab_type": "code",
        "colab": {
          "base_uri": "https://localhost:8080/",
          "height": 330
        },
        "outputId": "3fd096dd-8f82-4184-fc97-379da8be10ad"
      },
      "cell_type": "code",
      "source": [
        "print(\"Heatmap of train confusion matrix\")\n",
        "import seaborn as sns\n",
        "confusion_matrix_train_W2V = confusion_matrix(y_train, neigh_avgw2v_brute.predict(sent_vectors_train))\n",
        "\n",
        "df_cm=pd.DataFrame(confusion_matrix_train_W2V,index=[\"Negative:0\",\"Positive:1\"],columns=[\"Negative\",\"Positive\"],)\n",
        "sns.heatmap(df_cm,annot=True,fmt='d')\n",
        "plt.title(\"Confusion Matrix\")\n",
        "plt.xlabel(\"Predicted Class\")\n",
        "plt.ylabel(\"Actual Class\")"
      ],
      "execution_count": 102,
      "outputs": [
        {
          "output_type": "stream",
          "text": [
            "Heatmap of train confusion matrix\n"
          ],
          "name": "stdout"
        },
        {
          "output_type": "execute_result",
          "data": {
            "text/plain": [
              "Text(33.0, 0.5, 'Actual Class')"
            ]
          },
          "metadata": {
            "tags": []
          },
          "execution_count": 102
        },
        {
          "output_type": "display_data",
          "data": {
            "image/png": "[encoded data removed]",
            "text/plain": [
              "<Figure size 432x288 with 2 Axes>"
            ]
          },
          "metadata": {
            "tags": []
          }
        }
      ]
    },
    {
      "metadata": {
        "id": "tdVrqJoGQ7yU",
        "colab_type": "code",
        "colab": {
          "base_uri": "https://localhost:8080/",
          "height": 330
        },
        "outputId": "e75e8296-02ca-4498-d836-8fe095d360d5"
      },
      "cell_type": "code",
      "source": [
        "print(\"Heatmap of test confusion matrix\")\n",
        "import seaborn as sns\n",
        "confusion_matrix_test_W2V = confusion_matrix(y_test, neigh_avgw2v_brute.predict(sent_vectors_test))\n",
        "\n",
        "df_cm=pd.DataFrame(confusion_matrix_test_W2V,index=[\"Negative:0\",\"Positive:1\"],columns=[\"Negative\",\"Positive\"],)\n",
        "sns.heatmap(df_cm,annot=True,fmt='d')\n",
        "plt.title(\"Confusion Matrix\")\n",
        "plt.xlabel(\"Predicted Class\")\n",
        "plt.ylabel(\"Actual Class\")"
      ],
      "execution_count": 103,
      "outputs": [
        {
          "output_type": "stream",
          "text": [
            "Heatmap of test confusion matrix\n"
          ],
          "name": "stdout"
        },
        {
          "output_type": "execute_result",
          "data": {
            "text/plain": [
              "Text(33.0, 0.5, 'Actual Class')"
            ]
          },
          "metadata": {
            "tags": []
          },
          "execution_count": 103
        },
        {
          "output_type": "display_data",
          "data": {
            "image/png": "[encoded data removed]",
            "text/plain": [
              "<Figure size 432x288 with 2 Axes>"
            ]
          },
          "metadata": {
            "tags": []
          }
        }
      ]
    },
    {
      "metadata": {
        "id": "pOfZzO8FKaJJ",
        "colab_type": "code",
        "colab": {}
      },
      "cell_type": "code",
      "source": [
        "#Accuracy for KNN(brute force) model with AvgW2V is 72.02%"
      ],
      "execution_count": 0,
      "outputs": []
    },
    {
      "metadata": {
        "colab_type": "text",
        "id": "4D3ReQjKse0g"
      },
      "cell_type": "markdown",
      "source": [
        "## [4]Working With TFIDF Weighted W2V"
      ]
    },
    {
      "metadata": {
        "colab_type": "code",
        "id": "1YNX2hc4se0g",
        "colab": {}
      },
      "cell_type": "code",
      "source": [
        "# S = [\"abc def pqr\", \"def def def abc\", \"pqr pqr def\"]\n",
        "model = TfidfVectorizer()\n",
        "tf_idf_matrix_train = model.fit_transform(X_train_kd)\n",
        "tf_idf_matrix_cv = model.transform(X_cv_kd)\n",
        "tf_idf_matrix_test = model.transform(X_test_kd)\n",
        "# we are converting a dictionary with word as a key, and the idf as a value\n",
        "dictionary = dict(zip(model.get_feature_names(), list(model.idf_)))"
      ],
      "execution_count": 0,
      "outputs": []
    },
    {
      "metadata": {
        "colab_type": "code",
        "id": "Xk-8HdwZDCc-",
        "colab": {}
      },
      "cell_type": "code",
      "source": [
        "# TF-IDF weighted Word2Vec\n",
        "tfidf_feat = model.get_feature_names() # tfidf words/col-names\n",
        "# final_tf_idf is the sparse matrix with row= sentence, col=word and cell_val = tfidf"
      ],
      "execution_count": 0,
      "outputs": []
    },
    {
      "metadata": {
        "id": "fsqzYGx8KaJM",
        "colab_type": "text"
      },
      "cell_type": "markdown",
      "source": [
        "### Applying KNN kd-tree on TFIDF Weighted W2V"
      ]
    },
    {
      "metadata": {
        "id": "rREVUGmtKaJM",
        "colab_type": "text"
      },
      "cell_type": "markdown",
      "source": [
        "#### Converting train data into vector form"
      ]
    },
    {
      "metadata": {
        "colab_type": "code",
        "id": "v7ny3K6o0-wW",
        "colab": {}
      },
      "cell_type": "code",
      "source": [
        "i=0\n",
        "list_of_sentance_train=[]\n",
        "for sentance in X_train_kd:\n",
        "    list_of_sentance_train.append(sentance.split())"
      ],
      "execution_count": 0,
      "outputs": []
    },
    {
      "metadata": {
        "colab_type": "code",
        "id": "Z92ctGnZDHw1",
        "outputId": "2d2d66b3-90c6-42f6-d7c6-37ed0f8bd206",
        "colab": {
          "base_uri": "https://localhost:8080/",
          "height": 90
        }
      },
      "cell_type": "code",
      "source": [
        "# min_count = 5 considers only words that occured atleast 5 times\n",
        "w2v_model_train=Word2Vec(list_of_sentance_train,min_count=5,size=50, workers=4)\n",
        "print(w2v_model_train.wv.most_similar('great'))\n",
        "print('='*50)\n",
        "print(w2v_model_train.wv.most_similar('worst'))"
      ],
      "execution_count": 119,
      "outputs": [
        {
          "output_type": "stream",
          "text": [
            "[('good', 0.9060181975364685), ('excellent', 0.8965076208114624), ('tasty', 0.8764246702194214), ('looking', 0.8732441663742065), ('definitely', 0.8577439188957214), ('wonderful', 0.8469069004058838), ('quite', 0.8468934893608093), ('recomend', 0.843437135219574), ('dare', 0.8430204391479492), ('reccommend', 0.8400803208351135)]\n",
            "==================================================\n",
            "[('guayaki', 0.98931884765625), ('simply', 0.9892967939376831), ('jamaican', 0.9884536266326904), ('variety', 0.9883777499198914), ('absolute', 0.9874720573425293), ('accustomed', 0.9868610501289368), ('hands', 0.9868210554122925), ('ultra', 0.9862350821495056), ('american', 0.9852244257926941), ('wild', 0.9850105047225952)]\n"
          ],
          "name": "stdout"
        }
      ]
    },
    {
      "metadata": {
        "id": "b7spZewD_qfu",
        "colab_type": "code",
        "colab": {
          "base_uri": "https://localhost:8080/",
          "height": 72
        },
        "outputId": "0d0be663-3c7b-4a16-d66e-d7e600c14d3d"
      },
      "cell_type": "code",
      "source": [
        "w2v_words_train = list(w2v_model_train.wv.vocab)\n",
        "print(\"number of words that occured minimum 5 times \",len(w2v_words_train))\n",
        "print(\"sample words \", w2v_words_train[0:50])"
      ],
      "execution_count": 121,
      "outputs": [
        {
          "output_type": "stream",
          "text": [
            "number of words that occured minimum 5 times  6406\n",
            "sample words  ['someone', 'puts', 'tabasco', 'sauce', 'eggs', 'breakfast', 'not', 'find', 'tiger', 'hot', 'flavorful', 'soup', 'kick', 'works', 'number', 'meals', 'think', 'anything', 'used', 'beans', 'chicken', 'beef', 'pork', 'tuna', 'salmon', 'tried', 'drinking', 'bottle', 'yet', 'trust', 'one', 'add', 'kitchen', 'others', 'better', 'careful', 'wind', 'sticky', 'mess', 'try', 'mix', 'liquid', 'prior', 'rice', 'mixture', 'tiny', 'jar', 'concentrated', 'yeast', 'extract']\n"
          ],
          "name": "stdout"
        }
      ]
    },
    {
      "metadata": {
        "colab_type": "code",
        "id": "DzFOPr7rse0i",
        "outputId": "d5818f5c-3880-4315-df2a-0fd12bccda54",
        "scrolled": true,
        "colab": {
          "base_uri": "https://localhost:8080/",
          "height": 34
        }
      },
      "cell_type": "code",
      "source": [
        "# TF-IDF weighted Word2Vec\n",
        "tfidf_feat = model.get_feature_names() # tfidf words/col-names\n",
        "# final_tf_idf is the sparse matrix with row= sentence, col=word and cell_val = tfidf\n",
        "\n",
        "tfidf_sent_vectors_train = []; # the tfidf-w2v for each sentence/review is stored in this list\n",
        "row=0;\n",
        "for sent in tqdm(list_of_sentance_train): # for each review/sentence \n",
        "    sent_vec = np.zeros(50) # as word vectors are of zero length\n",
        "    weight_sum =0; # num of words with a valid vector in the sentence/review\n",
        "    for word in sent: # for each word in a review/sentence\n",
        "        if word in w2v_words_train and word in tfidf_feat:\n",
        "            vec = w2v_model_train.wv[word]\n",
        "#             tf_idf = tf_idf_matrix[row, tfidf_feat.index(word)]\n",
        "            # to reduce the computation we are \n",
        "            # dictionary[word] = idf value of word in whole courpus\n",
        "            # sent.count(word) = tf valeus of word in this review\n",
        "            tf_idf = dictionary[word]*(sent.count(word)/len(sent))\n",
        "            sent_vec += (vec * tf_idf)\n",
        "            weight_sum += tf_idf\n",
        "    if weight_sum != 0:\n",
        "        sent_vec /= weight_sum\n",
        "    tfidf_sent_vectors_train.append(sent_vec)\n",
        "    row += 1"
      ],
      "execution_count": 122,
      "outputs": [
        {
          "output_type": "stream",
          "text": [
            "100%|██████████| 8978/8978 [02:01<00:00, 74.09it/s]\n"
          ],
          "name": "stderr"
        }
      ]
    },
    {
      "metadata": {
        "id": "TeDFFhLOKaJQ",
        "colab_type": "text"
      },
      "cell_type": "markdown",
      "source": [
        "#### Converting cv data into vector form"
      ]
    },
    {
      "metadata": {
        "colab_type": "code",
        "id": "hx3fuys91Xcm",
        "colab": {}
      },
      "cell_type": "code",
      "source": [
        "i=0\n",
        "list_of_sentance_cv=[]\n",
        "for sentance in X_cv_kd:\n",
        "    list_of_sentance_cv.append(sentance.split())"
      ],
      "execution_count": 0,
      "outputs": []
    },
    {
      "metadata": {
        "colab_type": "code",
        "id": "ZxKFTlnXIk6l",
        "outputId": "d6eb7bae-20ec-43a6-b653-8c9cb4b69b2e",
        "colab": {
          "base_uri": "https://localhost:8080/",
          "height": 34
        }
      },
      "cell_type": "code",
      "source": [
        "#cv data\n",
        "\n",
        "tfidf_sent_vectors_cv = []; # the tfidf-w2v for each sentence/review is stored in this list\n",
        "row=0;\n",
        "for sent in tqdm(list_of_sentance_cv): # for each review/sentence \n",
        "    sent_vec = np.zeros(50) # as word vectors are of zero length\n",
        "    weight_sum =0; # num of words with a valid vector in the sentence/review\n",
        "    for word in sent: # for each word in a review/sentence\n",
        "        if word in w2v_words_train and word in tfidf_feat:\n",
        "            vec = w2v_model_train.wv[word]\n",
        "#             tf_idf = tf_idf_matrix[row, tfidf_feat.index(word)]\n",
        "            # to reduce the computation we are \n",
        "            # dictionary[word] = idf value of word in whole courpus\n",
        "            # sent.count(word) = tf valeus of word in this review\n",
        "            tf_idf = dictionary[word]*(sent.count(word)/len(sent))\n",
        "            sent_vec += (vec * tf_idf)\n",
        "            weight_sum += tf_idf\n",
        "    if weight_sum != 0:\n",
        "        sent_vec /= weight_sum\n",
        "    tfidf_sent_vectors_cv.append(sent_vec)\n",
        "    row += 1"
      ],
      "execution_count": 124,
      "outputs": [
        {
          "output_type": "stream",
          "text": [
            "100%|██████████| 4422/4422 [00:58<00:00, 75.54it/s]\n"
          ],
          "name": "stderr"
        }
      ]
    },
    {
      "metadata": {
        "id": "ek6Upgz8KaJS",
        "colab_type": "text"
      },
      "cell_type": "markdown",
      "source": [
        "#### Converting test data into vector form"
      ]
    },
    {
      "metadata": {
        "colab_type": "code",
        "id": "9bYlZc8J2Rb1",
        "colab": {}
      },
      "cell_type": "code",
      "source": [
        "i=0\n",
        "list_of_sentance_test=[]\n",
        "for sentance in X_test_kd:\n",
        "    list_of_sentance_test.append(sentance.split())"
      ],
      "execution_count": 0,
      "outputs": []
    },
    {
      "metadata": {
        "colab_type": "code",
        "id": "K2Y4eLLcI2RN",
        "outputId": "65503a2d-7305-44c1-f78e-073c1e15a7f9",
        "colab": {
          "base_uri": "https://localhost:8080/",
          "height": 34
        }
      },
      "cell_type": "code",
      "source": [
        "#test data\n",
        "\n",
        "tfidf_sent_vectors_test = []; # the tfidf-w2v for each sentence/review is stored in this list\n",
        "row=0;\n",
        "for sent in tqdm(list_of_sentance_test): # for each review/sentence \n",
        "    sent_vec = np.zeros(50) # as word vectors are of zero length\n",
        "    weight_sum =0; # num of words with a valid vector in the sentence/review\n",
        "    for word in sent: # for each word in a review/sentence\n",
        "        if word in w2v_words_train and word in tfidf_feat:\n",
        "            vec = w2v_model_train.wv[word]\n",
        "#             tf_idf = tf_idf_matrix[row, tfidf_feat.index(word)]\n",
        "            # to reduce the computation we are \n",
        "            # dictionary[word] = idf value of word in whole courpus\n",
        "            # sent.count(word) = tf valeus of word in this review\n",
        "            tf_idf = dictionary[word]*(sent.count(word)/len(sent))\n",
        "            sent_vec += (vec * tf_idf)\n",
        "            weight_sum += tf_idf\n",
        "    if weight_sum != 0:\n",
        "        sent_vec /= weight_sum\n",
        "    tfidf_sent_vectors_test.append(sent_vec)\n",
        "    row += 1"
      ],
      "execution_count": 126,
      "outputs": [
        {
          "output_type": "stream",
          "text": [
            "100%|██████████| 6600/6600 [01:29<00:00, 73.50it/s]\n"
          ],
          "name": "stderr"
        }
      ]
    },
    {
      "metadata": {
        "id": "0qzEu53KKaJV",
        "colab_type": "text"
      },
      "cell_type": "markdown",
      "source": [
        "###  Applying Gridsearch to do hyperparameter tuning"
      ]
    },
    {
      "metadata": {
        "colab_type": "code",
        "id": "SF-R7cZ1maC9",
        "outputId": "0fed0e1f-4438-4617-c0a8-e71f944f2190",
        "colab": {
          "base_uri": "https://localhost:8080/",
          "height": 294
        }
      },
      "cell_type": "code",
      "source": [
        "train_auc = []\n",
        "cv_auc = []\n",
        "K = [10, 15, 21, 31, 41, 51,61,71]\n",
        "\n",
        "for i in K:\n",
        "    neigh_avgtfidf_kd = KNeighborsClassifier(n_neighbors=i ,algorithm='kd_tree')\n",
        "    neigh_avgtfidf_kd.fit(tfidf_sent_vectors_train, y_train_kd)\n",
        "    # roc_auc_score(y_true, y_score) the 2nd parameter should be probability estimates of the positive class\n",
        "    # not the predicted outputs\n",
        "    y_train_pred =  neigh_avgtfidf_kd.predict_proba(tfidf_sent_vectors_train)[:,1]\n",
        "    y_cv_pred =  neigh_avgtfidf_kd.predict_proba(tfidf_sent_vectors_cv)[:,1]\n",
        "    \n",
        "    train_auc.append(roc_auc_score(y_train_kd,y_train_pred))\n",
        "    cv_auc.append(roc_auc_score(y_cv_kd, y_cv_pred))\n",
        "\n",
        "plt.plot(K, train_auc, label='Train AUC')\n",
        "plt.scatter(K, train_auc, label='Train AUC')\n",
        "plt.plot(K, cv_auc, label='CV AUC')\n",
        "plt.scatter(K, cv_auc, label='CV AUC')\n",
        "plt.legend()\n",
        "plt.xlabel(\"K: hyperparameter\")\n",
        "plt.ylabel(\"AUC\")\n",
        "plt.title(\"ERROR PLOTS\")\n",
        "plt.show()"
      ],
      "execution_count": 127,
      "outputs": [
        {
          "output_type": "display_data",
          "data": {
            "image/png": "[encoded data removed]",
            "text/plain": [
              "<Figure size 432x288 with 1 Axes>"
            ]
          },
          "metadata": {
            "tags": []
          }
        }
      ]
    },
    {
      "metadata": {
        "id": "b74o-dD9KaJY",
        "colab_type": "text"
      },
      "cell_type": "markdown",
      "source": [
        "### Testing with test data"
      ]
    },
    {
      "metadata": {
        "colab_type": "code",
        "id": "J_DrrFWerHKK",
        "outputId": "b4fe3d5d-d523-4c63-baf9-39c6a81d94c8",
        "colab": {
          "base_uri": "https://localhost:8080/",
          "height": 418
        }
      },
      "cell_type": "code",
      "source": [
        "\n",
        "neigh_avgtfidf_kd = KNeighborsClassifier(n_neighbors=65 ,algorithm='kd_tree')\n",
        "neigh_avgtfidf_kd.fit(tfidf_sent_vectors_train, y_train_kd)\n",
        "# roc_auc_score(y_true, y_score) the 2nd parameter should be probability estimates of the positive class\n",
        "# not the predicted outputs\n",
        "\n",
        "#converting sparse matrices into dense as Kd-tree algo takes dense matrices\n",
        "\n",
        "#X_test_tfidf_kd=X_test_tfidf_kd.toarray()\n",
        "\n",
        "train_fpr_tfidf, train_tpr_tfidf, thresholds_tfidf = roc_curve(y_train_kd, neigh_avgtfidf_kd.predict_proba(tfidf_sent_vectors_train)[:,1])\n",
        "test_fpr_tfidf, test_tpr_tfidf, thresholds_tfidf = roc_curve(y_test_kd, neigh_avgtfidf_kd.predict_proba(tfidf_sent_vectors_test)[:,1])\n",
        "\n",
        "plt.plot(train_fpr_tfidf, train_tpr_tfidf, label=\"train AUC =\"+str(auc(train_fpr_tfidf, train_tpr_tfidf)))\n",
        "plt.plot(test_fpr_tfidf, test_tpr_tfidf, label=\"test AUC =\"+str(auc(test_fpr_tfidf, test_tpr_tfidf)))\n",
        "plt.legend()\n",
        "plt.xlabel(\"FPR\")\n",
        "plt.ylabel(\"TPR\")\n",
        "plt.title(\"ERROR PLOTS\")\n",
        "plt.show()\n",
        "\n",
        "print(\"=\"*100)\n",
        "\n",
        "from sklearn.metrics import confusion_matrix\n",
        "print(\"Train confusion matrix\")\n",
        "print(confusion_matrix(y_train_kd, neigh_avgtfidf_kd.predict(tfidf_sent_vectors_train)))\n",
        "print(\"Test confusion matrix\")\n",
        "print(confusion_matrix(y_test_kd, neigh_avgtfidf_kd.predict(tfidf_sent_vectors_test)))"
      ],
      "execution_count": 129,
      "outputs": [
        {
          "output_type": "display_data",
          "data": {
            "image/png": "[encoded data removed]",
            "text/plain": [
              "<Figure size 432x288 with 1 Axes>"
            ]
          },
          "metadata": {
            "tags": []
          }
        },
        {
          "output_type": "stream",
          "text": [
            "====================================================================================================\n",
            "Train confusion matrix\n",
            "[[   1 1410]\n",
            " [   0 7567]]\n",
            "Test confusion matrix\n",
            "[[   2  992]\n",
            " [   1 5605]]\n"
          ],
          "name": "stdout"
        }
      ]
    },
    {
      "metadata": {
        "id": "xGlSkQt4Rec5",
        "colab_type": "code",
        "colab": {
          "base_uri": "https://localhost:8080/",
          "height": 330
        },
        "outputId": "211b6b45-fa05-4c31-d227-2a1da33b80ac"
      },
      "cell_type": "code",
      "source": [
        "print(\"Heatmap of train confusion matrix\")\n",
        "import seaborn as sns\n",
        "confusion_matrix_train_AvgTFIDF = confusion_matrix(y_train_kd, neigh_avgtfidf_kd.predict(tfidf_sent_vectors_train))\n",
        "\n",
        "df_cm=pd.DataFrame(confusion_matrix_train_AvgTFIDF,index=[\"Negative:0\",\"Positive:1\"],columns=[\"Negative\",\"Positive\"],)\n",
        "sns.heatmap(df_cm,annot=True,fmt='d')\n",
        "plt.title(\"Confusion Matrix\")\n",
        "plt.xlabel(\"Predicted Class\")\n",
        "plt.ylabel(\"Actual Class\")"
      ],
      "execution_count": 131,
      "outputs": [
        {
          "output_type": "stream",
          "text": [
            "Heatmap of train confusion matrix\n"
          ],
          "name": "stdout"
        },
        {
          "output_type": "execute_result",
          "data": {
            "text/plain": [
              "Text(33.0, 0.5, 'Actual Class')"
            ]
          },
          "metadata": {
            "tags": []
          },
          "execution_count": 131
        },
        {
          "output_type": "display_data",
          "data": {
            "image/png": "[encoded data removed]",
            "text/plain": [
              "<Figure size 432x288 with 2 Axes>"
            ]
          },
          "metadata": {
            "tags": []
          }
        }
      ]
    },
    {
      "metadata": {
        "id": "4np08-K2Rgaa",
        "colab_type": "code",
        "colab": {
          "base_uri": "https://localhost:8080/",
          "height": 330
        },
        "outputId": "019a25f3-25ab-437a-ea3f-4fec6cc5acc2"
      },
      "cell_type": "code",
      "source": [
        "print(\"Heatmap of test confusion matrix\")\n",
        "import seaborn as sns\n",
        "confusion_matrix_test_AvgTFIDF = confusion_matrix(y_test_kd, neigh_avgtfidf_kd.predict(tfidf_sent_vectors_test))\n",
        "\n",
        "df_cm=pd.DataFrame(confusion_matrix_test_AvgTFIDF,index=[\"Negative:0\",\"Positive:1\"],columns=[\"Negative\",\"Positive\"],)\n",
        "sns.heatmap(df_cm,annot=True,fmt='d')\n",
        "plt.title(\"Confusion Matrix\")\n",
        "plt.xlabel(\"Predicted Class\")\n",
        "plt.ylabel(\"Actual Class\")"
      ],
      "execution_count": 132,
      "outputs": [
        {
          "output_type": "stream",
          "text": [
            "Heatmap of test confusion matrix\n"
          ],
          "name": "stdout"
        },
        {
          "output_type": "execute_result",
          "data": {
            "text/plain": [
              "Text(33.0, 0.5, 'Actual Class')"
            ]
          },
          "metadata": {
            "tags": []
          },
          "execution_count": 132
        },
        {
          "output_type": "display_data",
          "data": {
            "image/png": "[encoded data removed]",
            "text/plain": [
              "<Figure size 432x288 with 2 Axes>"
            ]
          },
          "metadata": {
            "tags": []
          }
        }
      ]
    },
    {
      "metadata": {
        "id": "n3Ku55lPKaJZ",
        "colab_type": "code",
        "colab": {}
      },
      "cell_type": "code",
      "source": [
        "#Accuracy for KNN(kd-tree) model with TFIDF WeightedW2V is 68.8%"
      ],
      "execution_count": 0,
      "outputs": []
    },
    {
      "metadata": {
        "id": "65R1UITLKaJa",
        "colab_type": "text"
      },
      "cell_type": "markdown",
      "source": [
        "### Applying KNN brute force on TFIDF Weighted W2V"
      ]
    },
    {
      "metadata": {
        "colab_type": "code",
        "id": "j45KTlML9GLJ",
        "colab": {}
      },
      "cell_type": "code",
      "source": [
        "#Applying brute algorithm\n",
        "# S = [\"abc def pqr\", \"def def def abc\", \"pqr pqr def\"]\n",
        "model = TfidfVectorizer()\n",
        "tf_idf_matrix_train = model.fit_transform(X_train)\n",
        "tf_idf_matrix_cv = model.transform(X_cv)\n",
        "tf_idf_matrix_test = model.transform(X_test)\n",
        "# we are converting a dictionary with word as a key, and the idf as a value\n",
        "dictionary = dict(zip(model.get_feature_names(), list(model.idf_)))"
      ],
      "execution_count": 0,
      "outputs": []
    },
    {
      "metadata": {
        "id": "Ql_tiL5tKaJb",
        "colab_type": "text"
      },
      "cell_type": "markdown",
      "source": [
        "#### Converting train data into vector form"
      ]
    },
    {
      "metadata": {
        "colab_type": "code",
        "id": "jt8pCrkxuEZu",
        "colab": {}
      },
      "cell_type": "code",
      "source": [
        "\n",
        "\n",
        "i=0\n",
        "list_of_sentance_train=[]\n",
        "for sentance in X_train:\n",
        "    list_of_sentance_train.append(sentance.split())"
      ],
      "execution_count": 0,
      "outputs": []
    },
    {
      "metadata": {
        "colab_type": "code",
        "id": "UeqlvRLhw6ef",
        "outputId": "b1d4a065-05b9-4f83-f131-adc96823e497",
        "colab": {
          "base_uri": "https://localhost:8080/",
          "height": 90
        }
      },
      "cell_type": "code",
      "source": [
        "# min_count = 5 considers only words that occured atleast 5 times\n",
        "w2v_model_train=Word2Vec(list_of_sentance_train,min_count=5,size=50, workers=4)\n",
        "print(w2v_model_train.wv.most_similar('great'))\n",
        "print('='*50)\n",
        "print(w2v_model_train.wv.most_similar('worst'))"
      ],
      "execution_count": 135,
      "outputs": [
        {
          "output_type": "stream",
          "text": [
            "[('terrific', 0.8224151134490967), ('wonderful', 0.8120076656341553), ('excellent', 0.8063195943832397), ('good', 0.7921974062919617), ('awesome', 0.7910985350608826), ('fantastic', 0.7756904363632202), ('perfect', 0.7691740393638611), ('amazing', 0.7359341979026794), ('fabulous', 0.7279670238494873), ('incredible', 0.7160531878471375)]\n",
            "==================================================\n",
            "[('best', 0.7592031359672546), ('nastiest', 0.7285611033439636), ('greatest', 0.7262065410614014), ('displeasure', 0.6703755855560303), ('closest', 0.6692342162132263), ('horrible', 0.6645740866661072), ('awful', 0.6531530022621155), ('tastiest', 0.6440859436988831), ('disgusting', 0.6228762269020081), ('terrible', 0.6126399040222168)]\n"
          ],
          "name": "stdout"
        }
      ]
    },
    {
      "metadata": {
        "colab_type": "code",
        "id": "NZVN-CzIxFYB",
        "outputId": "4ea67e8b-4862-4688-c2be-2fe4c307fe6a",
        "colab": {
          "base_uri": "https://localhost:8080/",
          "height": 72
        }
      },
      "cell_type": "code",
      "source": [
        "w2v_words_train = list(w2v_model_train.wv.vocab)\n",
        "print(\"number of words that occured minimum 5 times \",len(w2v_words_train))\n",
        "print(\"sample words \", w2v_words_train[0:50])"
      ],
      "execution_count": 136,
      "outputs": [
        {
          "output_type": "stream",
          "text": [
            "number of words that occured minimum 5 times  13110\n",
            "sample words  ['two', 'tiny', 'chihuahua', 'love', 'itty', 'bitty', 'buddy', 'treats', 'hard', 'find', 'not', 'many', 'pet', 'stores', 'best', 'treat', 'ever', 'new', 'favorite', 'could', 'quite', 'drink', 'much', 'water', 'doctor', 'recommended', 'pour', 'packet', 'tea', 'no', 'problems', 'great', 'flavor', 'local', 'grocer', 'kept', 'running', 'one', 'recommend', 'lover', 'good', 'mustard', 'looking', 'something', 'right', 'balance', 'hot', 'sweet', 'liked', 'made']\n"
          ],
          "name": "stdout"
        }
      ]
    },
    {
      "metadata": {
        "colab_type": "code",
        "id": "51xSurYw9nAY",
        "outputId": "3aaebdfe-9bb5-477b-e4eb-fbd1426d9b72",
        "colab": {
          "base_uri": "https://localhost:8080/",
          "height": 34
        }
      },
      "cell_type": "code",
      "source": [
        "# TF-IDF weighted Word2Vec\n",
        "tfidf_feat = model.get_feature_names() # tfidf words/col-names\n",
        "# final_tf_idf is the sparse matrix with row= sentence, col=word and cell_val = tfidf\n",
        "\n",
        "tfidf_sent_vectors_train = []; # the tfidf-w2v for each sentence/review is stored in this list\n",
        "row=0;\n",
        "for sent in tqdm(list_of_sentance_train): # for each review/sentence \n",
        "    sent_vec = np.zeros(50) # as word vectors are of zero length\n",
        "    weight_sum =0; # num of words with a valid vector in the sentence/review\n",
        "    for word in sent: # for each word in a review/sentence\n",
        "        if word in w2v_words_train and word in tfidf_feat:\n",
        "            vec = w2v_model_train.wv[word]\n",
        "#             tf_idf = tf_idf_matrix[row, tfidf_feat.index(word)]\n",
        "            # to reduce the computation we are \n",
        "            # dictionary[word] = idf value of word in whole courpus\n",
        "            # sent.count(word) = tf valeus of word in this review\n",
        "            tf_idf = dictionary[word]*(sent.count(word)/len(sent))\n",
        "            sent_vec += (vec * tf_idf)\n",
        "            weight_sum += tf_idf\n",
        "    if weight_sum != 0:\n",
        "        sent_vec /= weight_sum\n",
        "    tfidf_sent_vectors_train.append(sent_vec)\n",
        "    row += 1"
      ],
      "execution_count": 137,
      "outputs": [
        {
          "output_type": "stream",
          "text": [
            "100%|██████████| 44890/44890 [17:31<00:00, 42.67it/s]\n"
          ],
          "name": "stderr"
        }
      ]
    },
    {
      "metadata": {
        "id": "jmrSGk-NKaJg",
        "colab_type": "text"
      },
      "cell_type": "markdown",
      "source": [
        "#### Converting cv data into vector form"
      ]
    },
    {
      "metadata": {
        "colab_type": "code",
        "id": "qrfph8MO-Qd5",
        "colab": {}
      },
      "cell_type": "code",
      "source": [
        "i=0\n",
        "list_of_sentance_cv=[]\n",
        "for sentance in X_cv:\n",
        "    list_of_sentance_cv.append(sentance.split())"
      ],
      "execution_count": 0,
      "outputs": []
    },
    {
      "metadata": {
        "colab_type": "code",
        "id": "8YrxGufy-XPX",
        "outputId": "2446171f-5303-4494-db2e-37f27d936eaf",
        "colab": {
          "base_uri": "https://localhost:8080/",
          "height": 34
        }
      },
      "cell_type": "code",
      "source": [
        "#cv data\n",
        "\n",
        "tfidf_sent_vectors_cv = []; # the tfidf-w2v for each sentence/review is stored in this list\n",
        "row=0;\n",
        "for sent in tqdm(list_of_sentance_cv): # for each review/sentence \n",
        "    sent_vec = np.zeros(50) # as word vectors are of zero length\n",
        "    weight_sum =0; # num of words with a valid vector in the sentence/review\n",
        "    for word in sent: # for each word in a review/sentence\n",
        "        if word in w2v_words_train and word in tfidf_feat:\n",
        "            vec = w2v_model_train.wv[word]\n",
        "#             tf_idf = tf_idf_matrix[row, tfidf_feat.index(word)]\n",
        "            # to reduce the computation we are \n",
        "            # dictionary[word] = idf value of word in whole courpus\n",
        "            # sent.count(word) = tf valeus of word in this review\n",
        "            tf_idf = dictionary[word]*(sent.count(word)/len(sent))\n",
        "            sent_vec += (vec * tf_idf)\n",
        "            weight_sum += tf_idf\n",
        "    if weight_sum != 0:\n",
        "        sent_vec /= weight_sum\n",
        "    tfidf_sent_vectors_cv.append(sent_vec)\n",
        "    row += 1"
      ],
      "execution_count": 139,
      "outputs": [
        {
          "output_type": "stream",
          "text": [
            "100%|██████████| 22110/22110 [08:27<00:00, 43.54it/s]\n"
          ],
          "name": "stderr"
        }
      ]
    },
    {
      "metadata": {
        "id": "RYlvYZMyKaJj",
        "colab_type": "text"
      },
      "cell_type": "markdown",
      "source": [
        "#### Converting test data into vector form"
      ]
    },
    {
      "metadata": {
        "colab_type": "code",
        "id": "4oZe9xPz-gdP",
        "colab": {}
      },
      "cell_type": "code",
      "source": [
        "i=0\n",
        "list_of_sentance_test=[]\n",
        "for sentance in X_test:\n",
        "    list_of_sentance_test.append(sentance.split())"
      ],
      "execution_count": 0,
      "outputs": []
    },
    {
      "metadata": {
        "colab_type": "code",
        "id": "E1p3zIfY-sR2",
        "outputId": "2e47ad98-6ce8-498e-deb4-87d6eff6a186",
        "colab": {
          "base_uri": "https://localhost:8080/",
          "height": 34
        }
      },
      "cell_type": "code",
      "source": [
        "#test data\n",
        "\n",
        "tfidf_sent_vectors_test = []; # the tfidf-w2v for each sentence/review is stored in this list\n",
        "row=0;\n",
        "for sent in tqdm(list_of_sentance_test): # for each review/sentence \n",
        "    sent_vec = np.zeros(50) # as word vectors are of zero length\n",
        "    weight_sum =0; # num of words with a valid vector in the sentence/review\n",
        "    for word in sent: # for each word in a review/sentence\n",
        "        if word in w2v_words_train and word in tfidf_feat:\n",
        "            vec = w2v_model_train.wv[word]\n",
        "#             tf_idf = tf_idf_matrix[row, tfidf_feat.index(word)]\n",
        "            # to reduce the computation we are \n",
        "            # dictionary[word] = idf value of word in whole courpus\n",
        "            # sent.count(word) = tf valeus of word in this review\n",
        "            tf_idf = dictionary[word]*(sent.count(word)/len(sent))\n",
        "            sent_vec += (vec * tf_idf)\n",
        "            weight_sum += tf_idf\n",
        "    if weight_sum != 0:\n",
        "        sent_vec /= weight_sum\n",
        "    tfidf_sent_vectors_test.append(sent_vec)\n",
        "    row += 1"
      ],
      "execution_count": 141,
      "outputs": [
        {
          "output_type": "stream",
          "text": [
            "100%|██████████| 33000/33000 [12:34<00:00, 43.75it/s]\n"
          ],
          "name": "stderr"
        }
      ]
    },
    {
      "metadata": {
        "id": "E1k1mI5sKaJl",
        "colab_type": "text"
      },
      "cell_type": "markdown",
      "source": [
        "### Applying Gridsearch to do hyperparameter tuning"
      ]
    },
    {
      "metadata": {
        "colab_type": "code",
        "id": "xPc789_U-zCC",
        "outputId": "e009598b-c100-4243-9102-656a6ec49155",
        "colab": {
          "base_uri": "https://localhost:8080/",
          "height": 294
        }
      },
      "cell_type": "code",
      "source": [
        "train_auc = []\n",
        "cv_auc = []\n",
        "K = [10, 15, 21, 31, 41, 51,61,71]\n",
        "\n",
        "for i in K:\n",
        "    neigh_avgtfidf_brute = KNeighborsClassifier(n_neighbors=i ,algorithm='brute')\n",
        "    neigh_avgtfidf_brute.fit(tfidf_sent_vectors_train, y_train)\n",
        "    # roc_auc_score(y_true, y_score) the 2nd parameter should be probability estimates of the positive class\n",
        "    # not the predicted outputs\n",
        "    y_train_pred =  neigh_avgtfidf_brute.predict_proba(tfidf_sent_vectors_train)[:,1]\n",
        "    y_cv_pred =  neigh_avgtfidf_brute.predict_proba(tfidf_sent_vectors_cv)[:,1]\n",
        "    \n",
        "    train_auc.append(roc_auc_score(y_train,y_train_pred))\n",
        "    cv_auc.append(roc_auc_score(y_cv, y_cv_pred))\n",
        "\n",
        "plt.plot(K, train_auc, label='Train AUC')\n",
        "plt.scatter(K, train_auc, label='Train AUC')\n",
        "plt.plot(K, cv_auc, label='CV AUC')\n",
        "plt.scatter(K, cv_auc, label='CV AUC')\n",
        "plt.legend()\n",
        "plt.xlabel(\"K: hyperparameter\")\n",
        "plt.ylabel(\"AUC\")\n",
        "plt.title(\"ERROR PLOTS\")\n",
        "plt.show()"
      ],
      "execution_count": 142,
      "outputs": [
        {
          "output_type": "display_data",
          "data": {
            "image/png": "[encoded data removed]",
            "text/plain": [
              "<Figure size 432x288 with 1 Axes>"
            ]
          },
          "metadata": {
            "tags": []
          }
        }
      ]
    },
    {
      "metadata": {
        "id": "adbEcetfKaJo",
        "colab_type": "text"
      },
      "cell_type": "markdown",
      "source": [
        "### Testing with test data"
      ]
    },
    {
      "metadata": {
        "colab_type": "code",
        "id": "nHy3o6W4_Kcc",
        "outputId": "230083bd-a7d7-4b79-fd7f-2cf5fdb06bb8",
        "colab": {
          "base_uri": "https://localhost:8080/",
          "height": 418
        }
      },
      "cell_type": "code",
      "source": [
        "#Testing with Test data\n",
        "\n",
        "neigh_avgtfidf_brute = KNeighborsClassifier(n_neighbors=70 ,algorithm='brute')\n",
        "neigh_avgtfidf_brute.fit(tfidf_sent_vectors_train, y_train)\n",
        "# roc_auc_score(y_true, y_score) the 2nd parameter should be probability estimates of the positive class\n",
        "# not the predicted outputs\n",
        "\n",
        "#converting sparse matrices into dense as Kd-tree algo takes dense matrices\n",
        "\n",
        "#X_test_tfidf_kd=X_test_tfidf_kd.toarray()\n",
        "\n",
        "train_fpr_tfidf, train_tpr_tfidf, thresholds_tfidf = roc_curve(y_train, neigh_avgtfidf_brute.predict_proba(tfidf_sent_vectors_train)[:,1])\n",
        "test_fpr_tfidf, test_tpr_tfidf, thresholds_tfidf = roc_curve(y_test, neigh_avgtfidf_brute.predict_proba(tfidf_sent_vectors_test)[:,1])\n",
        "\n",
        "plt.plot(train_fpr_tfidf, train_tpr_tfidf, label=\"train AUC =\"+str(auc(train_fpr_tfidf, train_tpr_tfidf)))\n",
        "plt.plot(test_fpr_tfidf, test_tpr_tfidf, label=\"test AUC =\"+str(auc(test_fpr_tfidf, test_tpr_tfidf)))\n",
        "plt.legend()\n",
        "plt.xlabel(\"FPR\")\n",
        "plt.ylabel(\"TPR\")\n",
        "plt.title(\"ERROR PLOTS\")\n",
        "plt.show()\n",
        "\n",
        "print(\"=\"*100)\n",
        "\n",
        "from sklearn.metrics import confusion_matrix\n",
        "print(\"Train confusion matrix\")\n",
        "print(confusion_matrix(y_train, neigh_avgtfidf_brute.predict(tfidf_sent_vectors_train)))\n",
        "print(\"Test confusion matrix\")\n",
        "print(confusion_matrix(y_test, neigh_avgtfidf_brute.predict(tfidf_sent_vectors_test)))"
      ],
      "execution_count": 143,
      "outputs": [
        {
          "output_type": "display_data",
          "data": {
            "image/png": "[encoded data removed]",
            "text/plain": [
              "<Figure size 432x288 with 1 Axes>"
            ]
          },
          "metadata": {
            "tags": []
          }
        },
        {
          "output_type": "stream",
          "text": [
            "====================================================================================================\n",
            "Train confusion matrix\n",
            "[[ 1139  5515]\n",
            " [  306 37930]]\n",
            "Test confusion matrix\n",
            "[[  797  4092]\n",
            " [  232 27879]]\n"
          ],
          "name": "stdout"
        }
      ]
    },
    {
      "metadata": {
        "id": "14r0c6T7R94y",
        "colab_type": "code",
        "colab": {
          "base_uri": "https://localhost:8080/",
          "height": 330
        },
        "outputId": "5e502727-1d1c-42e2-e02c-afdd3b049a78"
      },
      "cell_type": "code",
      "source": [
        "print(\"Heatmap of train confusion matrix\")\n",
        "import seaborn as sns\n",
        "confusion_matrix_train_AvgTFIDF = confusion_matrix(y_train, neigh_avgtfidf_brute.predict(tfidf_sent_vectors_train))\n",
        "\n",
        "df_cm=pd.DataFrame(confusion_matrix_train_AvgTFIDF,index=[\"Negative:0\",\"Positive:1\"],columns=[\"Negative\",\"Positive\"],)\n",
        "sns.heatmap(df_cm,annot=True,fmt='d')\n",
        "plt.title(\"Confusion Matrix\")\n",
        "plt.xlabel(\"Predicted Class\")\n",
        "plt.ylabel(\"Actual Class\")"
      ],
      "execution_count": 146,
      "outputs": [
        {
          "output_type": "stream",
          "text": [
            "Heatmap of train confusion matrix\n"
          ],
          "name": "stdout"
        },
        {
          "output_type": "execute_result",
          "data": {
            "text/plain": [
              "Text(33.0, 0.5, 'Actual Class')"
            ]
          },
          "metadata": {
            "tags": []
          },
          "execution_count": 146
        },
        {
          "output_type": "display_data",
          "data": {
            "image/png": "[encoded data removed]",
            "text/plain": [
              "<Figure size 432x288 with 2 Axes>"
            ]
          },
          "metadata": {
            "tags": []
          }
        }
      ]
    },
    {
      "metadata": {
        "id": "BPUOwrCYR-Gk",
        "colab_type": "code",
        "colab": {
          "base_uri": "https://localhost:8080/",
          "height": 330
        },
        "outputId": "d1770d27-efd0-476b-d7b8-7164551b9d3d"
      },
      "cell_type": "code",
      "source": [
        "print(\"Heatmap of test confusion matrix\")\n",
        "import seaborn as sns\n",
        "confusion_matrix_test_AvgTFIDF = confusion_matrix(y_test, neigh_avgtfidf_brute.predict(tfidf_sent_vectors_test))\n",
        "\n",
        "df_cm=pd.DataFrame(confusion_matrix_test_AvgTFIDF,index=[\"Negative:0\",\"Positive:1\"],columns=[\"Negative\",\"Positive\"],)\n",
        "sns.heatmap(df_cm,annot=True,fmt='d')\n",
        "plt.title(\"Confusion Matrix\")\n",
        "plt.xlabel(\"Predicted Class\")\n",
        "plt.ylabel(\"Actual Class\")"
      ],
      "execution_count": 148,
      "outputs": [
        {
          "output_type": "stream",
          "text": [
            "Heatmap of test confusion matrix\n"
          ],
          "name": "stdout"
        },
        {
          "output_type": "execute_result",
          "data": {
            "text/plain": [
              "Text(33.0, 0.5, 'Actual Class')"
            ]
          },
          "metadata": {
            "tags": []
          },
          "execution_count": 148
        },
        {
          "output_type": "display_data",
          "data": {
            "image/png": "[encoded data removed]",
            "text/plain": [
              "<Figure size 432x288 with 2 Axes>"
            ]
          },
          "metadata": {
            "tags": []
          }
        }
      ]
    },
    {
      "metadata": {
        "id": "aUbMhsrhKaJp",
        "colab_type": "code",
        "colab": {}
      },
      "cell_type": "code",
      "source": [
        "#Accuracy for KNN(brute force) model with TFIDF weightedW2V is 85.7%"
      ],
      "execution_count": 0,
      "outputs": []
    },
    {
      "metadata": {
        "id": "mmCjruSbKaJq",
        "colab_type": "text"
      },
      "cell_type": "markdown",
      "source": [
        "# Conclusion"
      ]
    },
    {
      "metadata": {
        "colab_type": "code",
        "id": "A_esCpOAOkjL",
        "colab": {
          "base_uri": "https://localhost:8080/",
          "height": 230
        },
        "outputId": "145c3fb7-efb8-47f5-a8c1-3746901f8046"
      },
      "cell_type": "code",
      "source": [
        "from prettytable import PrettyTable\n",
        "X=PrettyTable()\n",
        "X.field_names=[\"Model_Name\",\"Train_Accuracy\",\"Test_Acuracy\",\"Optimal_K\"]\n",
        "X.add_row([\"KNN(Kd-tree) With BOW\", 79.1, 74.7, 50])\n",
        "X.add_row([\"KNN(brute) With BOW\", 79.9, 75.7, 45])\n",
        "X.add_row([\"KNN(Kd-tree) With TFIDF\", 83.5, 77.5, 60])\n",
        "X.add_row([\"KNN(brute) With TFIDF\", 82.1, 60.3, 10])\n",
        "X.add_row([\"KNN(Kd-tree) With AvgW2V\", 76.6, 73.1, 52])\n",
        "X.add_row([\"KNN(brute) With AvgW2V\", 90.1, 89.09, 70])\n",
        "X.add_row([\"KNN(Kd-tree) With TFIDFWeightedW2V\", 72.4, 68.8, 65])\n",
        "X.add_row([\"KNN(brute) With TFIDFWeightedW2V\", 87.4, 85.7, 70])\n",
        "print(X)"
      ],
      "execution_count": 149,
      "outputs": [
        {
          "output_type": "stream",
          "text": [
            "+------------------------------------+----------------+--------------+-----------+\n",
            "|             Model_Name             | Train_Accuracy | Test_Acuracy | Optimal_K |\n",
            "+------------------------------------+----------------+--------------+-----------+\n",
            "|       KNN(Kd-tree) With BOW        |      79.1      |     74.7     |     50    |\n",
            "|        KNN(brute) With BOW         |      79.9      |     75.7     |     45    |\n",
            "|      KNN(Kd-tree) With TFIDF       |      83.5      |     77.5     |     60    |\n",
            "|       KNN(brute) With TFIDF        |      82.1      |     60.3     |     10    |\n",
            "|      KNN(Kd-tree) With AvgW2V      |      76.6      |     73.1     |     52    |\n",
            "|       KNN(brute) With AvgW2V       |      90.1      |    89.09     |     70    |\n",
            "| KNN(Kd-tree) With TFIDFWeightedW2V |      72.4      |     68.8     |     65    |\n",
            "|  KNN(brute) With TFIDFWeightedW2V  |      87.4      |     85.7     |     70    |\n",
            "+------------------------------------+----------------+--------------+-----------+\n"
          ],
          "name": "stdout"
        }
      ]
    },
    {
      "metadata": {
        "id": "WfIu08ccKaJs",
        "colab_type": "text"
      },
      "cell_type": "markdown",
      "source": [
        "#### Observation:"
      ]
    },
    {
      "metadata": {
        "id": "SUaAriXfKaJs",
        "colab_type": "text"
      },
      "cell_type": "markdown",
      "source": [
        "Average word2vec with knn(brute force algorithm) gives test accuracy of 89.09% which is maximum among other algorithms.\n",
        "but KNN may not be best algorithm for finding polarity as computation time taken to calculate distances is much higher."
      ]
    },
    {
      "metadata": {
        "id": "ITPoioLeQD2u",
        "colab_type": "code",
        "colab": {}
      },
      "cell_type": "code",
      "source": [
        ""
      ],
      "execution_count": 0,
      "outputs": []
    }
  ]
}